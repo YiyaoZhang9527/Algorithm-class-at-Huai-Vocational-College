{
 "cells": [
  {
   "cell_type": "code",
   "execution_count": 1,
   "id": "53bfdb53-0851-46f8-8d5b-2ee70a45acd0",
   "metadata": {},
   "outputs": [
    {
     "data": {
      "text/plain": [
       "(40, 10)"
      ]
     },
     "execution_count": 1,
     "metadata": {},
     "output_type": "execute_result"
    }
   ],
   "source": [
    "import numpy as np\n",
    "\n",
    "X = np.random.normal(0,1,400).reshape(40,10)\n",
    "X.shape"
   ]
  },
  {
   "cell_type": "markdown",
   "id": "1d4d2f7e-e3ef-4ef9-8a25-dedcbcf7d4b9",
   "metadata": {},
   "source": [
    "## 参数设置默认\n",
    "###### PCA(copy=True, iterated_power='auto', n_components=0.99, random_state=None,svd_solver='auto', tol=0.0, whiten=False)"
   ]
  },
  {
   "cell_type": "code",
   "execution_count": 2,
   "id": "a2f6ef5d-b5a8-4ea0-86fc-69d7c1024a89",
   "metadata": {},
   "outputs": [
    {
     "name": "stderr",
     "output_type": "stream",
     "text": [
      "/Users/magu/anaconda3/lib/python3.9/site-packages/scipy/__init__.py:146: UserWarning: A NumPy version >=1.16.5 and <1.23.0 is required for this version of SciPy (detected version 1.24.3\n",
      "  warnings.warn(f\"A NumPy version >={np_minversion} and <{np_maxversion}\"\n"
     ]
    },
    {
     "data": {
      "text/plain": [
       "PCA(n_components=2)"
      ]
     },
     "execution_count": 2,
     "metadata": {},
     "output_type": "execute_result"
    }
   ],
   "source": [
    "from sklearn.decomposition import PCA  # 导入 sklearn.decomposition.PCA 类\n",
    "\n",
    "\n",
    "modelPCA = PCA(n_components=2)  # 建立模型，设定保留主成分数 K=2\n",
    "modelPCA.fit(X)  # 用数据集 X 训练 模型 modelPCA"
   ]
  },
  {
   "cell_type": "code",
   "execution_count": 3,
   "id": "ea2838dc-841c-4008-a1c7-aae504a0a694",
   "metadata": {},
   "outputs": [
    {
     "name": "stdout",
     "output_type": "stream",
     "text": [
      "2\n"
     ]
    }
   ],
   "source": [
    "print(modelPCA.n_components_)  # 返回 PCA 模型保留的主成份个数"
   ]
  },
  {
   "cell_type": "code",
   "execution_count": 4,
   "id": "9ce73d65-b851-46e6-88ab-0c1b5a8c957c",
   "metadata": {},
   "outputs": [
    {
     "name": "stdout",
     "output_type": "stream",
     "text": [
      "[0.23117609 0.14679165]\n"
     ]
    }
   ],
   "source": [
    "print(modelPCA.explained_variance_ratio_)  # 返回 PCA 模型各主成份占比"
   ]
  },
  {
   "cell_type": "code",
   "execution_count": 5,
   "id": "a4ac6f86-eb69-4692-8db4-1727902ecbb8",
   "metadata": {},
   "outputs": [
    {
     "data": {
      "text/plain": [
       "(40, 2)"
      ]
     },
     "execution_count": 5,
     "metadata": {},
     "output_type": "execute_result"
    }
   ],
   "source": [
    "modelPCA.transform(X).shape"
   ]
  },
  {
   "cell_type": "markdown",
   "id": "f3ddf059-81ae-4473-801e-29d8283883f6",
   "metadata": {},
   "source": [
    "#### 方差百分比建立模型"
   ]
  },
  {
   "cell_type": "code",
   "execution_count": 6,
   "id": "c2339090-1184-421d-af69-0400f3551888",
   "metadata": {},
   "outputs": [],
   "source": [
    "modelPCA2 = PCA(n_components=0.9) # 建立模型，设定主成份方差占比 0.9"
   ]
  },
  {
   "cell_type": "code",
   "execution_count": 7,
   "id": "6363deaa-8014-4ba5-a8b6-a35c7685975d",
   "metadata": {},
   "outputs": [
    {
     "data": {
      "text/plain": [
       "(40, 8)"
      ]
     },
     "execution_count": 7,
     "metadata": {},
     "output_type": "execute_result"
    }
   ],
   "source": [
    "Xtrans = modelPCA2.fit_transform(X)\n",
    "Xtrans.shape"
   ]
  },
  {
   "cell_type": "code",
   "execution_count": 8,
   "id": "330a5e7e-ff93-4255-bd2f-53a6bd9efdcb",
   "metadata": {},
   "outputs": [
    {
     "data": {
      "text/plain": [
       "array([0.23117609, 0.14679165, 0.1260455 , 0.11460052, 0.08954639,\n",
       "       0.07745586, 0.07283253, 0.06209344])"
      ]
     },
     "execution_count": 8,
     "metadata": {},
     "output_type": "execute_result"
    }
   ],
   "source": [
    "modelPCA2.explained_variance_ratio_ # 返回 PCA 模型各主成份占比"
   ]
  },
  {
   "cell_type": "code",
   "execution_count": 9,
   "id": "9f084eb0-b105-422a-aecf-6e09e9062744",
   "metadata": {},
   "outputs": [
    {
     "data": {
      "text/plain": [
       "array([2.34165733, 1.48690005, 1.2767556 , 1.16082565, 0.90704429,\n",
       "       0.78457543, 0.73774426, 0.62896454])"
      ]
     },
     "execution_count": 9,
     "metadata": {},
     "output_type": "execute_result"
    }
   ],
   "source": [
    "modelPCA2.explained_variance_ # * 降维后的各主成分的方差值。方差值越大，则说明越是重要的主成分。"
   ]
  },
  {
   "cell_type": "code",
   "execution_count": null,
   "id": "6e4040ac-2af6-4e29-a703-a887d69930f6",
   "metadata": {},
   "outputs": [],
   "source": []
  }
 ],
 "metadata": {
  "kernelspec": {
   "display_name": "Python 3 (ipykernel)",
   "language": "python",
   "name": "python3"
  },
  "language_info": {
   "codemirror_mode": {
    "name": "ipython",
    "version": 3
   },
   "file_extension": ".py",
   "mimetype": "text/x-python",
   "name": "python",
   "nbconvert_exporter": "python",
   "pygments_lexer": "ipython3",
   "version": "3.9.12"
  }
 },
 "nbformat": 4,
 "nbformat_minor": 5
}
