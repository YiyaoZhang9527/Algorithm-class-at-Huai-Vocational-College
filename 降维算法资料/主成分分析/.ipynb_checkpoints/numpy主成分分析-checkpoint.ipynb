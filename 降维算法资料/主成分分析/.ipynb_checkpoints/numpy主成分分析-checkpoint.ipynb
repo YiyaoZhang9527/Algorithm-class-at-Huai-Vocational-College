{
 "cells": [
  {
   "cell_type": "code",
   "execution_count": 1,
   "id": "930b008c",
   "metadata": {},
   "outputs": [
    {
     "name": "stderr",
     "output_type": "stream",
     "text": [
      "/Users/magu/anaconda3/lib/python3.9/site-packages/scipy/__init__.py:146: UserWarning: A NumPy version >=1.16.5 and <1.23.0 is required for this version of SciPy (detected version 1.24.3\n",
      "  warnings.warn(f\"A NumPy version >={np_minversion} and <{np_maxversion}\"\n"
     ]
    },
    {
     "data": {
      "text/plain": [
       "dict_keys(['data', 'target', 'frame', 'target_names', 'DESCR', 'feature_names', 'filename', 'data_module'])"
      ]
     },
     "execution_count": 1,
     "metadata": {},
     "output_type": "execute_result"
    }
   ],
   "source": [
    "from sklearn import datasets  # 导入库\n",
    "import pandas as pd\n",
    "iris = datasets.load_iris()  # 导入鸢尾花数据\n",
    "iris.keys()"
   ]
  },
  {
   "cell_type": "code",
   "execution_count": 2,
   "id": "ca5fa84d",
   "metadata": {},
   "outputs": [
    {
     "data": {
      "text/html": [
       "<div>\n",
       "<style scoped>\n",
       "    .dataframe tbody tr th:only-of-type {\n",
       "        vertical-align: middle;\n",
       "    }\n",
       "\n",
       "    .dataframe tbody tr th {\n",
       "        vertical-align: top;\n",
       "    }\n",
       "\n",
       "    .dataframe thead th {\n",
       "        text-align: right;\n",
       "    }\n",
       "</style>\n",
       "<table border=\"1\" class=\"dataframe\">\n",
       "  <thead>\n",
       "    <tr style=\"text-align: right;\">\n",
       "      <th></th>\n",
       "      <th>sepal length (cm)</th>\n",
       "      <th>sepal width (cm)</th>\n",
       "      <th>petal length (cm)</th>\n",
       "      <th>petal width (cm)</th>\n",
       "    </tr>\n",
       "  </thead>\n",
       "  <tbody>\n",
       "    <tr>\n",
       "      <th>0</th>\n",
       "      <td>5.1</td>\n",
       "      <td>3.5</td>\n",
       "      <td>1.4</td>\n",
       "      <td>0.2</td>\n",
       "    </tr>\n",
       "    <tr>\n",
       "      <th>1</th>\n",
       "      <td>4.9</td>\n",
       "      <td>3.0</td>\n",
       "      <td>1.4</td>\n",
       "      <td>0.2</td>\n",
       "    </tr>\n",
       "    <tr>\n",
       "      <th>2</th>\n",
       "      <td>4.7</td>\n",
       "      <td>3.2</td>\n",
       "      <td>1.3</td>\n",
       "      <td>0.2</td>\n",
       "    </tr>\n",
       "    <tr>\n",
       "      <th>3</th>\n",
       "      <td>4.6</td>\n",
       "      <td>3.1</td>\n",
       "      <td>1.5</td>\n",
       "      <td>0.2</td>\n",
       "    </tr>\n",
       "    <tr>\n",
       "      <th>4</th>\n",
       "      <td>5.0</td>\n",
       "      <td>3.6</td>\n",
       "      <td>1.4</td>\n",
       "      <td>0.2</td>\n",
       "    </tr>\n",
       "  </tbody>\n",
       "</table>\n",
       "</div>"
      ],
      "text/plain": [
       "   sepal length (cm)  sepal width (cm)  petal length (cm)  petal width (cm)\n",
       "0                5.1               3.5                1.4               0.2\n",
       "1                4.9               3.0                1.4               0.2\n",
       "2                4.7               3.2                1.3               0.2\n",
       "3                4.6               3.1                1.5               0.2\n",
       "4                5.0               3.6                1.4               0.2"
      ]
     },
     "execution_count": 2,
     "metadata": {},
     "output_type": "execute_result"
    }
   ],
   "source": [
    "df = pd.DataFrame(dict(zip(iris['feature_names'],iris['data'].T)))\n",
    "df.head()"
   ]
  },
  {
   "cell_type": "markdown",
   "id": "2e1eb4f7",
   "metadata": {},
   "source": [
    "#### \n",
    "![jupyter](./img/PCA.png)"
   ]
  },
  {
   "cell_type": "code",
   "execution_count": 3,
   "id": "b7a212b9",
   "metadata": {},
   "outputs": [
    {
     "data": {
      "text/plain": [
       "array([2.91849782, 0.91403047, 0.14675688, 0.02071484])"
      ]
     },
     "execution_count": 3,
     "metadata": {},
     "output_type": "execute_result"
    }
   ],
   "source": [
    "import numpy as np\n",
    "import pandas as pd\n",
    " \n",
    "# df=pd.read_csv('iris.csv') #读取文件\n",
    "# df=pd.DataFrame(df)\n",
    "R=df.corr() #样本相关阵\n",
    "l,T=np.linalg.eig(R) #求特征值l与特征向量T，特征值默认从大到小排序\n",
    "l"
   ]
  },
  {
   "cell_type": "code",
   "execution_count": 4,
   "id": "94fa3e4d",
   "metadata": {},
   "outputs": [
    {
     "name": "stdout",
     "output_type": "stream",
     "text": [
      "主成分个数： 2\n",
      "主成分： [[ 0.38133887  0.4658345   0.35809443  0.19981633  0.29149052  0.22307895\n",
      "   0.1846763   0.29501741  0.2430433   0.33000747  0.39021849  0.11884759\n",
      "   0.38759928  0.34293623  0.70128948  0.33460319  0.51090549  0.4074675\n",
      "   0.39101186  0.22228558  0.3595305   0.28615597  0.37089069  0.31933837\n",
      "  -0.09702232  0.37402782  0.27531803  0.36148883  0.47118723  0.14222452\n",
      "   0.23207287  0.55570103  0.10890963  0.32557291  0.3561361   0.58637084\n",
      "   0.66172187  0.2132553   0.27725818  0.347124    0.42731754  0.61968573\n",
      "   0.20177465  0.28983352 -0.03941233  0.43985653  0.12420032  0.2340312\n",
      "   0.3381119   0.4047158  -0.57643603 -0.71903368 -0.70858551 -0.54079123\n",
      "  -0.58791668 -0.98507003 -0.92666668 -0.46586198 -0.62580911 -0.74999279\n",
      "  -0.40670161 -0.68821321 -0.3209024  -0.93217007 -0.42730867 -0.47914414\n",
      "  -1.06040289 -0.68578102 -0.44582925 -0.54446878 -1.11705066 -0.41686049\n",
      "  -0.79477448 -0.94668557 -0.51415238 -0.49350897 -0.6016388  -0.79475631\n",
      "  -0.81423476 -0.26840604 -0.48687698 -0.44104897 -0.4896105  -1.14436242\n",
      "  -1.16461607 -0.97681494 -0.66888542 -0.41176504 -0.82483361 -0.61627476\n",
      "  -0.96797169 -0.8979552  -0.52382537 -0.37601363 -0.78356496 -0.87081228\n",
      "  -0.80694189 -0.61836557 -0.15739202 -0.69724349 -1.62694529 -1.17018972\n",
      "  -1.12942515 -1.37105209 -1.34397943 -1.37258864 -1.18418297 -1.35368263\n",
      "  -1.15557195 -1.34316788 -0.96802376 -1.00146345 -0.99791838 -1.04872753\n",
      "  -1.07728835 -1.08565774 -1.23262404 -1.66824414 -1.33312765 -0.90982561\n",
      "  -1.11295133 -1.14210277 -1.34308378 -0.79187212 -1.30716353 -1.3031446\n",
      "  -0.80976384 -1.00931059 -1.20281786 -1.13600506 -1.09379237 -1.40041831\n",
      "  -1.17668923 -1.05191304 -1.4665545  -0.90844161 -1.40298913 -1.32247239\n",
      "  -0.98946055 -0.91159691 -1.08133748 -0.64346975 -1.17018972 -1.30897119\n",
      "  -1.20264901 -0.78189781 -0.76221661 -0.96449688 -1.33731108 -1.25743704]\n",
      " [-4.2877742  -3.77225688 -3.9274847  -3.75934403 -4.35316902 -4.68928408\n",
      "  -4.07312187 -4.14407171 -3.54525359 -3.82779731 -4.52879938 -4.06576404\n",
      "  -3.73297117 -3.67161199 -4.98684159 -5.2806125  -4.7870368  -4.30012516\n",
      "  -4.66540779 -4.55267568 -4.20293433 -4.47269708 -4.34318275 -4.06685342\n",
      "  -3.99244951 -3.75031527 -4.14433546 -4.29027076 -4.22237938 -3.85417017\n",
      "  -3.78877535 -4.27651261 -4.8318972  -5.04182014 -3.84014827 -4.03272711\n",
      "  -4.41995135 -4.31388331 -3.66202134 -4.17100645 -4.29762859 -3.05500008\n",
      "  -3.84668047 -4.26136695 -4.46727393 -3.7576731  -4.51588654 -3.87611178\n",
      "  -4.50186464 -4.07618032 -3.86429731 -3.76391616 -3.70850761 -2.78802634\n",
      "  -3.39709447 -3.18135277 -3.79278559 -2.8527618  -3.49165685 -3.11332951\n",
      "  -2.46150192 -3.51789784 -2.79331761 -3.34489592 -3.46669119 -3.76447805\n",
      "  -3.36377908 -3.17665777 -2.78675102 -2.99935647 -3.59298079 -3.41128263\n",
      "  -2.99292175 -3.22786443 -3.5111019  -3.64521374 -3.41667138 -3.5625723\n",
      "  -3.37918849 -3.20402253 -2.90453034 -2.91661755 -3.25023605 -3.06025125\n",
      "  -3.30990959 -3.85318728 -3.70351448 -2.90575158 -3.43682987 -2.97268547\n",
      "  -2.95491136 -3.46166366 -3.13346831 -2.78736698 -3.13540299 -3.42697547\n",
      "  -3.34699687 -3.45723241 -3.08462635 -3.27910548 -3.58624794 -3.04343465\n",
      "  -3.49977152 -3.22822565 -3.3749522  -3.463378   -2.73828996 -3.32650585\n",
      "  -2.91777001 -4.08121115 -3.70597665 -3.15616676 -3.51672    -2.86862991\n",
      "  -3.19751902 -3.66721844 -3.39886288 -4.21686205 -3.07238187 -2.61069064\n",
      "  -3.70413945 -3.14312204 -3.26886447 -3.21463376 -3.7178976  -3.64987433\n",
      "  -3.30446676 -3.43775297 -3.19988371 -3.48938963 -3.32233834 -4.31934415\n",
      "  -3.21223468 -3.22103409 -2.84796362 -3.63720556 -3.76397925 -3.4642577\n",
      "  -3.43525641 -3.66042249 -3.59472953 -3.75843895 -3.04343465 -3.62832835\n",
      "  -3.76730145 -3.58780171 -3.01788742 -3.49687934 -3.7735699  -3.33500713]]\n",
      "贡献率： [0.7296244541329989, 0.22850761786701762]\n",
      "累计贡献率： 0.9581320720000166\n",
      "因子载荷： [[ 0.89016876 -0.64476559 -1.2292792   0.44637133]\n",
      " [-0.25750946 -0.88271627  0.23364106 -0.1180813 ]]\n"
     ]
    }
   ],
   "source": [
    "import numpy as np\n",
    "import pandas as pd\n",
    " \n",
    "# df=pd.read_csv('iris.csv') #读取文件\n",
    "# df=pd.DataFrame(df)\n",
    "R=df.corr() #样本相关阵\n",
    "l,T=np.linalg.eig(R) #求特征值l与特征向量T，特征值默认从大到小排序\n",
    "\n",
    "n,p=df.shape \n",
    "s=0\n",
    "t=0\n",
    "cr=[] #累计贡献率\n",
    "for i in range(len(l)):\n",
    "    t+=1\n",
    "    contri=l[i]/np.sum(l) #第i主成分贡献率\n",
    "    cr.append(contri)\n",
    "    s+=contri #累计贡献率\n",
    "    if s>=0.9: #累计贡献率达80%即停止\n",
    "        break\n",
    "pc=[] #主成分\n",
    "for i in range(t):\n",
    "    Y=np.dot(df,T[i].T) #计算第i主成分\n",
    "    pc.append(Y)\n",
    "factor_loading=[]\n",
    "for i in range(t):\n",
    "    a=[]\n",
    "    for j in range(p):\n",
    "        a.append(np.sqrt(l[i])*T[i][j]) #计算第i主成分在第j个变量上的载荷\n",
    "    factor_loading.append(a)\n",
    "factor_loading=np.array(factor_loading)\n",
    "print('主成分个数：',t)\n",
    "print('主成分：',np.mat(pc))\n",
    "print('贡献率：',cr)\n",
    "print('累计贡献率：',s)\n",
    "print('因子载荷：',factor_loading)\n"
   ]
  },
  {
   "cell_type": "code",
   "execution_count": 5,
   "id": "266578a7",
   "metadata": {},
   "outputs": [],
   "source": [
    "from sklearn import datasets  # 导入库\n",
    "import pandas as pd\n",
    "iris = datasets.load_iris()  # 导入鸢尾花数据"
   ]
  },
  {
   "cell_type": "code",
   "execution_count": 6,
   "id": "c604f6b5",
   "metadata": {},
   "outputs": [
    {
     "data": {
      "text/plain": [
       "dict_keys(['data', 'target', 'frame', 'target_names', 'DESCR', 'feature_names', 'filename', 'data_module'])"
      ]
     },
     "execution_count": 6,
     "metadata": {},
     "output_type": "execute_result"
    }
   ],
   "source": [
    "iris.keys()"
   ]
  },
  {
   "cell_type": "code",
   "execution_count": 7,
   "id": "ce201768",
   "metadata": {},
   "outputs": [
    {
     "data": {
      "text/plain": [
       "'sklearn.datasets.data'"
      ]
     },
     "execution_count": 7,
     "metadata": {},
     "output_type": "execute_result"
    }
   ],
   "source": [
    "iris['data_module']"
   ]
  },
  {
   "cell_type": "code",
   "execution_count": null,
   "id": "5ea70f0a",
   "metadata": {},
   "outputs": [],
   "source": []
  },
  {
   "cell_type": "code",
   "execution_count": 8,
   "id": "cae4729a",
   "metadata": {},
   "outputs": [],
   "source": [
    "df = pd.DataFrame(dict(zip(iris['feature_names'],iris['data'].T)))\n",
    "df.to_csv(iris['filename'])"
   ]
  },
  {
   "cell_type": "code",
   "execution_count": null,
   "id": "9f11506d",
   "metadata": {},
   "outputs": [],
   "source": []
  },
  {
   "cell_type": "code",
   "execution_count": null,
   "id": "ffc457db",
   "metadata": {},
   "outputs": [],
   "source": []
  }
 ],
 "metadata": {
  "kernelspec": {
   "display_name": "Python 3 (ipykernel)",
   "language": "python",
   "name": "python3"
  },
  "language_info": {
   "codemirror_mode": {
    "name": "ipython",
    "version": 3
   },
   "file_extension": ".py",
   "mimetype": "text/x-python",
   "name": "python",
   "nbconvert_exporter": "python",
   "pygments_lexer": "ipython3",
   "version": "3.8.13"
  }
 },
 "nbformat": 4,
 "nbformat_minor": 5
}
