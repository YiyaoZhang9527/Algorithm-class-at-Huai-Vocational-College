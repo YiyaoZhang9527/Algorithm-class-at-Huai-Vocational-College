{
 "cells": [
  {
   "cell_type": "code",
   "execution_count": 24,
   "id": "15aef83e",
   "metadata": {},
   "outputs": [
    {
     "data": {
      "text/plain": [
       "(400, 10)"
      ]
     },
     "execution_count": 24,
     "metadata": {},
     "output_type": "execute_result"
    }
   ],
   "source": [
    "import numpy as np\n",
    "\n",
    "X = np.random.normal(0,1,4000).reshape(400,10)\n",
    "X.shape"
   ]
  },
  {
   "cell_type": "code",
   "execution_count": 27,
   "id": "2b99bbc1",
   "metadata": {},
   "outputs": [
    {
     "data": {
      "text/plain": [
       "array([[ 1.0252281 , -0.03895896,  0.1458192 , ...,  1.11075207,\n",
       "        -0.14275553,  0.07332268],\n",
       "       [-0.96084807, -1.54741314, -0.5620334 , ...,  0.23042889,\n",
       "        -0.41026127, -0.8433077 ],\n",
       "       [-0.49060147,  0.09432452,  0.44512869, ...,  0.64755628,\n",
       "         1.06428733, -0.25667493],\n",
       "       ...,\n",
       "       [-0.16856119,  0.7978171 ,  0.35304063, ...,  0.4142003 ,\n",
       "         1.54240205,  0.3666114 ],\n",
       "       [-0.13168326,  0.79532405,  2.77679373, ..., -0.77499527,\n",
       "         0.37822201,  1.21648183],\n",
       "       [-1.54428854, -1.12331735,  1.34116209, ...,  1.64152917,\n",
       "        -0.59795091,  0.9999024 ]])"
      ]
     },
     "execution_count": 27,
     "metadata": {},
     "output_type": "execute_result"
    }
   ],
   "source": [
    "X"
   ]
  },
  {
   "cell_type": "code",
   "execution_count": 28,
   "id": "899370b4",
   "metadata": {},
   "outputs": [],
   "source": [
    "#from factor_analyzer import factor_analyzer\n",
    "from factor_analyzer import FactorAnalyzer"
   ]
  },
  {
   "cell_type": "markdown",
   "id": "1b9dc07b",
   "metadata": {},
   "source": [
    "#### 选择适合的因子个数 "
   ]
  },
  {
   "cell_type": "code",
   "execution_count": 29,
   "id": "9a5d7106",
   "metadata": {},
   "outputs": [
    {
     "name": "stderr",
     "output_type": "stream",
     "text": [
      "/home/zhangmanman/anaconda3/envs/XgboostENV/lib/python3.7/site-packages/factor_analyzer/factor_analyzer.py:664: UserWarning: No rotation will be performed when the number of factors equals 1.\n",
      "  \"No rotation will be performed when \"\n"
     ]
    },
    {
     "data": {
      "text/plain": [
       "FactorAnalyzer(method='principal', n_factors=1, rotation='varimax',\n",
       "               rotation_kwargs={})"
      ]
     },
     "execution_count": 29,
     "metadata": {},
     "output_type": "execute_result"
    }
   ],
   "source": [
    "fa = FactorAnalyzer(n_factors=1\n",
    "                    ,rotation=\"varimax\"\n",
    "                   ,method=\"principal\"\n",
    "                   ,use_smc=True)\n",
    "fa.fit(X)"
   ]
  },
  {
   "cell_type": "markdown",
   "id": "6fb7a89c",
   "metadata": {},
   "source": [
    "#### 因子载荷矩阵"
   ]
  },
  {
   "cell_type": "code",
   "execution_count": 30,
   "id": "a94fd8a1",
   "metadata": {},
   "outputs": [
    {
     "data": {
      "text/plain": [
       "array([[ 0.40111514],\n",
       "       [-0.07238059],\n",
       "       [ 0.36789039],\n",
       "       [-0.15004962],\n",
       "       [-0.32249279],\n",
       "       [ 0.06931135],\n",
       "       [ 0.32243365],\n",
       "       [ 0.61048685],\n",
       "       [ 0.26519196],\n",
       "       [ 0.51994109]])"
      ]
     },
     "execution_count": 30,
     "metadata": {},
     "output_type": "execute_result"
    }
   ],
   "source": [
    "fa.loadings_"
   ]
  },
  {
   "cell_type": "markdown",
   "id": "57327589",
   "metadata": {},
   "source": [
    "#### 因各变量的共同度"
   ]
  },
  {
   "cell_type": "code",
   "execution_count": 31,
   "id": "9b0383d0",
   "metadata": {},
   "outputs": [
    {
     "data": {
      "text/plain": [
       "array([0.16089336, 0.00523895, 0.13534334, 0.02251489, 0.1040016 ,\n",
       "       0.00480406, 0.10396346, 0.3726942 , 0.07032677, 0.27033874])"
      ]
     },
     "execution_count": 31,
     "metadata": {},
     "output_type": "execute_result"
    }
   ],
   "source": [
    "fa.get_communalities()"
   ]
  },
  {
   "cell_type": "markdown",
   "id": "b0dc075b",
   "metadata": {},
   "source": [
    "#### 因子得分"
   ]
  },
  {
   "cell_type": "code",
   "execution_count": 32,
   "id": "0239a31d",
   "metadata": {},
   "outputs": [
    {
     "data": {
      "text/html": [
       "<div>\n",
       "<style scoped>\n",
       "    .dataframe tbody tr th:only-of-type {\n",
       "        vertical-align: middle;\n",
       "    }\n",
       "\n",
       "    .dataframe tbody tr th {\n",
       "        vertical-align: top;\n",
       "    }\n",
       "\n",
       "    .dataframe thead tr th {\n",
       "        text-align: left;\n",
       "    }\n",
       "</style>\n",
       "<table border=\"1\" class=\"dataframe\">\n",
       "  <thead>\n",
       "    <tr>\n",
       "      <th></th>\n",
       "      <th>因子</th>\n",
       "    </tr>\n",
       "  </thead>\n",
       "  <tbody>\n",
       "    <tr>\n",
       "      <th>0</th>\n",
       "      <td>0.805240</td>\n",
       "    </tr>\n",
       "    <tr>\n",
       "      <th>1</th>\n",
       "      <td>-0.941986</td>\n",
       "    </tr>\n",
       "    <tr>\n",
       "      <th>2</th>\n",
       "      <td>1.118653</td>\n",
       "    </tr>\n",
       "    <tr>\n",
       "      <th>3</th>\n",
       "      <td>-0.247853</td>\n",
       "    </tr>\n",
       "    <tr>\n",
       "      <th>4</th>\n",
       "      <td>-1.420424</td>\n",
       "    </tr>\n",
       "    <tr>\n",
       "      <th>...</th>\n",
       "      <td>...</td>\n",
       "    </tr>\n",
       "    <tr>\n",
       "      <th>395</th>\n",
       "      <td>-0.106448</td>\n",
       "    </tr>\n",
       "    <tr>\n",
       "      <th>396</th>\n",
       "      <td>-0.715849</td>\n",
       "    </tr>\n",
       "    <tr>\n",
       "      <th>397</th>\n",
       "      <td>0.334770</td>\n",
       "    </tr>\n",
       "    <tr>\n",
       "      <th>398</th>\n",
       "      <td>0.491183</td>\n",
       "    </tr>\n",
       "    <tr>\n",
       "      <th>399</th>\n",
       "      <td>1.226172</td>\n",
       "    </tr>\n",
       "  </tbody>\n",
       "</table>\n",
       "<p>400 rows × 1 columns</p>\n",
       "</div>"
      ],
      "text/plain": [
       "           因子\n",
       "0    0.805240\n",
       "1   -0.941986\n",
       "2    1.118653\n",
       "3   -0.247853\n",
       "4   -1.420424\n",
       "..        ...\n",
       "395 -0.106448\n",
       "396 -0.715849\n",
       "397  0.334770\n",
       "398  0.491183\n",
       "399  1.226172\n",
       "\n",
       "[400 rows x 1 columns]"
      ]
     },
     "execution_count": 32,
     "metadata": {},
     "output_type": "execute_result"
    }
   ],
   "source": [
    "import pandas as pd\n",
    "data_newf = fa.transform(X)\n",
    "scores_f = pd.DataFrame(data_newf,columns=[[\"因子\"]])\n",
    "scores_f"
   ]
  },
  {
   "cell_type": "code",
   "execution_count": null,
   "id": "37f76ade",
   "metadata": {},
   "outputs": [],
   "source": []
  }
 ],
 "metadata": {
  "kernelspec": {
   "display_name": "Python [conda env:XgboostENV]",
   "language": "python",
   "name": "conda-env-XgboostENV-py"
  },
  "language_info": {
   "codemirror_mode": {
    "name": "ipython",
    "version": 3
   },
   "file_extension": ".py",
   "mimetype": "text/x-python",
   "name": "python",
   "nbconvert_exporter": "python",
   "pygments_lexer": "ipython3",
   "version": "3.7.12"
  }
 },
 "nbformat": 4,
 "nbformat_minor": 5
}
