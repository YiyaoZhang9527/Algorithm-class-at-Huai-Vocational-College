{
 "cells": [
  {
   "cell_type": "code",
   "execution_count": 113,
   "metadata": {},
   "outputs": [],
   "source": [
    "import numpy as np\n",
    "from scipy.stats import ttest_ind\n",
    " \n",
    "# 定义数据\n",
    "data1 = np.random.normal(0, 1, 1000)\n",
    "data2 = np.random.normal(1, 1, 1000)\n"
   ]
  },
  {
   "cell_type": "markdown",
   "metadata": {},
   "source": [
    "### 如果P值小于0.05，则我们认为两组数据的差异显著。如果P值大于0.05，则我们认为两组数据的差异不显著。"
   ]
  },
  {
   "cell_type": "code",
   "execution_count": 114,
   "metadata": {},
   "outputs": [
    {
     "name": "stdout",
     "output_type": "stream",
     "text": [
      "p值为：【3.2419149146812036e-91】拒绝原假设,两组数据差异明显\n"
     ]
    }
   ],
   "source": [
    " \n",
    "# 检验两组数据的差异性\n",
    "t, p = ttest_ind(data1, data2)\n",
    " \n",
    "# 设定显著性水平，通常为0.05\n",
    "alpha = 0.05\n",
    "\n",
    "H = {\n",
    "    0:\"两组数据差异不显著\"\n",
    "    ,1:\"两组数据差异明显\"\n",
    "} \n",
    "# 判断是否拒绝原假设\n",
    "if p >= alpha:\n",
    "    print(f\"p值为【{p}】,{H[0]}\")\n",
    "elif p < alpha:\n",
    "    print(f\"p值为：【{p}】拒绝原假设,{H[1]}\")\n",
    "    "
   ]
  },
  {
   "cell_type": "markdown",
   "metadata": {},
   "source": [
    "#### 另一种检验方法\n",
    "### $u=\\frac{\\bar{X}-\\mu_0}{S_{\\bar{X}}}=\\frac{\\bar{X}-\\mu_0}{S / \\sqrt{n}} \\quad(n$ 较大时 $)$\n",
    "\n",
    "### $u=\\frac{\\bar{X}-\\mu_0}{\\sigma_{\\bar{X}}}=\\frac{\\bar{X}-\\mu_0}{\\sigma_0 / \\sqrt{n}} \\quad\\left(\\sigma_0\\right.$ 已知时)\n",
    "\n",
    "### $ \\bar{X}: 抽样的均值 $\n",
    "### $ \\mu_0: 样本原本应该的均值 $\n",
    "### $ sigma_0:样本原本应该的标准差 $\n"
   ]
  },
  {
   "cell_type": "code",
   "execution_count": 122,
   "metadata": {},
   "outputs": [
    {
     "data": {
      "text/plain": [
       "'p<0.01 ,u=30.436658588271882,两组数据具有显著不同'"
      ]
     },
     "execution_count": 122,
     "metadata": {},
     "output_type": "execute_result"
    }
   ],
   "source": [
    "\n",
    "\n",
    "def u(sigma_0,mu_0,bar_x_mu,n):\n",
    "    \"\"\"计算u值\n",
    "\n",
    "    Args:\n",
    "        sigma_0 (_type_): 标准差\n",
    "        mu_0 (_type_): 均值\n",
    "        bar_x_mu (_type_): 待比较样本均值\n",
    "        n (_type_): 待比较样本数量\n",
    "\n",
    "    Returns:\n",
    "        _type_: _description_\n",
    "    \"\"\"\n",
    "    #print(f\"sigma_0:{sigma_0},\\nmu_0:{mu_0},\\nbar_x_mu:{bar_x_mu},\\nn:{n}\")\n",
    "    u = (bar_x_mu-mu_0)/(sigma_0/np.sqrt(n))\n",
    "    return u\n",
    "\n",
    "def p_value_test(data1,data2):\n",
    "    \"\"\"P值检验\n",
    "\n",
    "    Args:\n",
    "        data1 (_type_): 数据1\n",
    "        data2 (_type_): 数据2\n",
    "\n",
    "    Returns:\n",
    "        _type_: _description_\n",
    "    \"\"\"\n",
    "    sigma_0 = np.std(data1)\n",
    "    mu_0 = np.mean(data1) \n",
    "    bar_x_mu = np.mean(data2)\n",
    "    n = data2.size\n",
    "    u_value = u(sigma_0,mu_0,bar_x_mu,n)\n",
    "    if u_value <= 1.96:\n",
    "        return f\"P值大于等于0.5,u={u_value},两组数据差异并不显著\"\n",
    "    elif u_value > 2.58:\n",
    "        return f\"p<0.01 ,u={u_value},两组数据具有显著不同\"\n",
    "    elif u_value > 1.96:\n",
    "        return f\"P值<0.05,u={u_value},两组数据具有显著不同\"\n",
    "    \n",
    "\n",
    "p_value_test(data1,data2)\n"
   ]
  }
 ],
 "metadata": {
  "kernelspec": {
   "display_name": "TS_ENV_38_add_AKshare",
   "language": "python",
   "name": "python3"
  },
  "language_info": {
   "codemirror_mode": {
    "name": "ipython",
    "version": 3
   },
   "file_extension": ".py",
   "mimetype": "text/x-python",
   "name": "python",
   "nbconvert_exporter": "python",
   "pygments_lexer": "ipython3",
   "version": "3.8.18"
  },
  "orig_nbformat": 4
 },
 "nbformat": 4,
 "nbformat_minor": 2
}
