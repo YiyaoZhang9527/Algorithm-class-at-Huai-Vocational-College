{
 "cells": [
  {
   "cell_type": "code",
   "execution_count": null,
   "metadata": {},
   "outputs": [],
   "source": []
  },
  {
   "cell_type": "markdown",
   "metadata": {},
   "source": [
    "#### State vlaue\n",
    "#### Consider the following single-step process:\n",
    "#### 考虑如下单步的过程\n",
    "#### $$ S_{t} \\xrightarrow{A_{t}} R_{t+1},S_{t+1} $$\n",
    "* #### $$ 以上公式的意思是，在S_{t}状态下，采取动作为A_{t},返回RewordR_{t+1},和下一个状态S_{t+1} $$ \n",
    "* $ _{t} $ : 离散的时间变量，表示某一个时刻 t [discrete time instances]\n",
    "* $ _{t+1} $ : 离散的时间变量，表示某一个t+1的时刻 [discrete time instances]\n",
    "* $ S_{t} $ : 在t时刻的状态 [state at time $_{t}$] \n",
    "* $ A_{t} $ : S_{t}状态下采取的行动  [the action taken at state $S_{t}$]\n",
    "* $ R_{t+1} $ : 在采取动作 $A_{t} 后获得的返回值/Reword $ [the reward obtained after taking $A_{t}$]\n",
    "* $ S_{t+1} $ : 在采取动作 A_{t} 后过渡到的状态 [the state transited to after taking $A_{t}$ ]\n",
    "* $  $"
   ]
  },
  {
   "cell_type": "markdown",
   "metadata": {},
   "source": []
  },
  {
   "cell_type": "markdown",
   "metadata": {},
   "source": []
  }
 ],
 "metadata": {
  "language_info": {
   "name": "python"
  }
 },
 "nbformat": 4,
 "nbformat_minor": 2
}
