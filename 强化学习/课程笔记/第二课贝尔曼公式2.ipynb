{
 "cells": [
  {
   "cell_type": "code",
   "execution_count": null,
   "metadata": {},
   "outputs": [],
   "source": []
  },
  {
   "cell_type": "markdown",
   "metadata": {},
   "source": [
    "#### State vlaue\n",
    "#### Consider the following single-step process:\n",
    "#### 考虑如下单步的过程\n",
    "#### $$ S_{t} \\xrightarrow{A_{t}} R_{t+1},S_{t+1} $$\n",
    "* #### $$ 以上公式的意思是，在S_{t}状态下，采取动作为A_{t},返回Reword=R_{t+1},和下一个状态S_{t+1} $$ \n",
    "* $ _{t} $ : 离散的时间变量，表示某一个时刻 t [discrete time instances]\n",
    "* $ _{t+1} $ : 离散的时间变量，表示某一个t+1的时刻 [discrete time instances]\n",
    "* $ S_{t} $ : 在t时刻的状态 [state at time $_{t}$] \n",
    "* $ A_{t} $ : S_{t}状态下采取的行动  [the action taken at state $S_{t}$]\n",
    "* $ R_{t+1} $ : 在采取动作 $A_{t} 后获得的返回值/Reword $ [the reward obtained after taking $A_{t}$]\n",
    "* $ S_{t+1} $ : 在采取动作 A_{t} 后过渡到的状态 [the state transited to after taking $A_{t}$ ]\n",
    "#### 以上这些变量都是随机变量，这一步是由如下概率分布决定的\n",
    "* $ S_{t} \\to  {A_{t}}:是由 \\pi(A_{t}=a | S_{t}=s ) 计算出来的  $\n",
    "* $ S_{t},A_{t} \\to  {R_{t}}:是由 p(R_{t}=r | S_{t}=s,A_{t} = a ) 计算出来的 $ \n",
    "* $ S_{t},A_{t} \\to  {S_{t+1}}:是由 p(S_{t+1}=s^{'} | S_{t}=s,A_{t} = a ) 计算出来的  $\n",
    "\n",
    "[](./images/)"
   ]
  },
  {
   "cell_type": "code",
   "execution_count": null,
   "metadata": {},
   "outputs": [],
   "source": []
  },
  {
   "cell_type": "markdown",
   "metadata": {},
   "source": [
    "![](./images/4多步轨迹计算.png)"
   ]
  },
  {
   "cell_type": "code",
   "execution_count": null,
   "metadata": {},
   "outputs": [],
   "source": []
  },
  {
   "cell_type": "markdown",
   "metadata": {},
   "source": [
    "![](./images/4状态值函数.png)"
   ]
  },
  {
   "cell_type": "markdown",
   "metadata": {},
   "source": [
    "![](./images/4三个策略的状态值例子.png)"
   ]
  }
 ],
 "metadata": {
  "kernelspec": {
   "display_name": "XGBoostAndScikitOPT_GPU",
   "language": "python",
   "name": "python3"
  },
  "language_info": {
   "codemirror_mode": {
    "name": "ipython",
    "version": 3
   },
   "file_extension": ".py",
   "mimetype": "text/x-python",
   "name": "python",
   "nbconvert_exporter": "python",
   "pygments_lexer": "ipython3",
   "version": "3.7.16"
  }
 },
 "nbformat": 4,
 "nbformat_minor": 2
}
