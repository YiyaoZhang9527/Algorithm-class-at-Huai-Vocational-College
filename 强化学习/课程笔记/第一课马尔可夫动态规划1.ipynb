{
 "cells": [
  {
   "cell_type": "code",
   "execution_count": 2,
   "metadata": {},
   "outputs": [],
   "source": [
    "import pandas as pd\n",
    "import numpy as np\n",
    "import matplotlib.pyplot as plt"
   ]
  },
  {
   "cell_type": "markdown",
   "metadata": {},
   "source": [
    "#### 环境\n",
    "![1环境](./images/1环境.png)"
   ]
  },
  {
   "cell_type": "code",
   "execution_count": 3,
   "metadata": {},
   "outputs": [
    {
     "data": {
      "text/plain": [
       "array([['start', '0', '0'],\n",
       "       ['0', '0', 'forbidden'],\n",
       "       ['forbideen', '0', 'target']], dtype='<U21')"
      ]
     },
     "execution_count": 3,
     "metadata": {},
     "output_type": "execute_result"
    }
   ],
   "source": [
    "grid_word_example = np.array([\n",
    "    [\"start\",0,0],\n",
    "    [0,0,\"forbidden\"],\n",
    "    [\"forbideen\",0,\"target\"]])\n",
    "grid_word_example"
   ]
  },
  {
   "cell_type": "markdown",
   "metadata": {},
   "source": [
    "#### State : 状态\n",
    "* #### $ s_i = (x,y)$\n",
    "#### State Space : 状态空间\n",
    "* #### 把所有的状态集中在一起就是一个状态空间，就是一个集合 $ \\mathcal{S}=\\left\\{s_i\\right\\}_{i=1}^9 $\n",
    "![1状态空间](./images/1状态空间.png)"
   ]
  },
  {
   "cell_type": "code",
   "execution_count": 4,
   "metadata": {},
   "outputs": [
    {
     "data": {
      "text/plain": [
       "'s4'"
      ]
     },
     "execution_count": 4,
     "metadata": {},
     "output_type": "execute_result"
    }
   ],
   "source": [
    "state = np.array([\n",
    "    [\"s1\",\"s2\",\"s3\"],\n",
    "    [\"s4\",\"s5\",\"s6\"],\n",
    "    [\"s7\",'s8','s9']],dtype=str)\n",
    "state[1,0]"
   ]
  },
  {
   "cell_type": "markdown",
   "metadata": {},
   "source": [
    "#### Action : 动作\n",
    "\n",
    "#### Action space : 动作空间\n",
    "* #### 把所有动作放在一起就是动作空间 $\\mathcal{A}\\left(s_i\\right)=\\left\\{a_i\\right\\}_{i=1}^5$.\n",
    "* #### 不同的状态动作空间是不一样的\n",
    "![1动作表示图](./images/1动作表示图.png)"
   ]
  },
  {
   "cell_type": "code",
   "execution_count": 5,
   "metadata": {},
   "outputs": [
    {
     "data": {
      "text/plain": [
       "{1: 'upwards',\n",
       " 2: 'rightwards',\n",
       " 3: 'downwards',\n",
       " 4: 'leftwards',\n",
       " 5: 'stary unchanged'}"
      ]
     },
     "execution_count": 5,
     "metadata": {},
     "output_type": "execute_result"
    }
   ],
   "source": [
    "Action = np.array([\"upwards\",\"rightwards\",\"downwards\",\"leftwards\",\"stary unchanged\"])\n",
    "a = {i+1:action for i,action in enumerate(Action)}\n",
    "a"
   ]
  },
  {
   "cell_type": "markdown",
   "metadata": {},
   "source": [
    "#### State transition : 状态转移  \n",
    "* #### 定义环境和交互的行为\n",
    "* #### 当采取一个动作的时候 从一个状态转移到另一状态，这样的过程就被称为 state trainsition/状态转移\n",
    "* #### $s_1 \\stackrel{a_2}{\\longrightarrow} s_2$\n",
    "\n",
    "![1状态矩阵](./images/1状态矩阵.png)\n",
    "\n",
    "#### 状态转移的矩阵表达"
   ]
  },
  {
   "cell_type": "markdown",
   "metadata": {},
   "source": [
    "#### State transition probability : 状态转移概率\n",
    "* #### 条件概率\n",
    "* #### $ p\\left(s_2 \\mid s_1, a_2\\right)=1 $:$ 当在s_1状态下并且动作是a_2，下一个状态是s_2的概率 $\n",
    "* #### $p\\left(s_i \\mid s_1, a_2\\right)=0 \\quad \\forall i \\neq 2$:$ 当在s_1状态下并且动作是a_2，下一个状态是s_i的概率 $"
   ]
  },
  {
   "cell_type": "markdown",
   "metadata": {},
   "source": [
    "#### Polocy:策略\n",
    "* #### 作用就是告诉代理应该执行哪一个策略\n",
    "* #### $\\begin{aligned} & \\pi\\left(a_1 \\mid s_1\\right)=0 、 s_1 状态下动作 a_1 的策略得到的概率 \\\\ & \\pi\\left(a_2 \\mid s_1\\right)=1 \\\\ & \\pi\\left(a_3 \\mid s_1\\right)=0 \\\\ & \\pi\\left(a_4 \\mid s_1\\right)=0 \\\\ & \\pi\\left(a_5 \\mid s_1\\right)=0\\end{aligned}$\n",
    "* #### $ \\pi $ 强化学习中就统一表示策略函数\n",
    "* #### 以上一个策略在S1状态下所有动作之和应该等于1\n",
    "* #### 策略不仅有确定策略也有随机策略\n",
    "#### 策略可以用矩阵的形式表达\n",
    "![1策略矩阵](./images/1策略矩阵.png)"
   ]
  },
  {
   "cell_type": "markdown",
   "metadata": {},
   "source": []
  },
  {
   "cell_type": "markdown",
   "metadata": {},
   "source": []
  },
  {
   "cell_type": "markdown",
   "metadata": {},
   "source": []
  },
  {
   "cell_type": "code",
   "execution_count": null,
   "metadata": {},
   "outputs": [],
   "source": []
  },
  {
   "cell_type": "code",
   "execution_count": 8,
   "metadata": {},
   "outputs": [],
   "source": [
    "###"
   ]
  },
  {
   "cell_type": "code",
   "execution_count": null,
   "metadata": {},
   "outputs": [],
   "source": []
  },
  {
   "cell_type": "code",
   "execution_count": null,
   "metadata": {},
   "outputs": [],
   "source": []
  },
  {
   "cell_type": "code",
   "execution_count": null,
   "metadata": {},
   "outputs": [],
   "source": []
  }
 ],
 "metadata": {
  "kernelspec": {
   "display_name": "XGBoostAndScikitOPT_GPU",
   "language": "python",
   "name": "python3"
  },
  "language_info": {
   "codemirror_mode": {
    "name": "ipython",
    "version": 3
   },
   "file_extension": ".py",
   "mimetype": "text/x-python",
   "name": "python",
   "nbconvert_exporter": "python",
   "pygments_lexer": "ipython3",
   "version": "3.7.16"
  }
 },
 "nbformat": 4,
 "nbformat_minor": 2
}
