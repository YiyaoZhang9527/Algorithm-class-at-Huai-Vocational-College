{
 "cells": [
  {
   "cell_type": "code",
   "execution_count": 17,
   "metadata": {},
   "outputs": [
    {
     "name": "stdout",
     "output_type": "stream",
     "text": [
      "历史数据长度93\n",
      "['absorbing state', 'achieved', 'agent', 'Algorithm', 'Align', 'among', 'answer ', 'answer lies in the', 'because greater cumulaiv', 'Bootstrapping', 'calculate', 'conditional ', 'conditional  expectation', 'Consider', 'considering', 'contraction mapping', 'contraction mapping theorem', 'contractive function', 'cumulative', 'Derivation', 'derive', 'describe', 'determinsitc cases', 'Discounted return', 'discrete ', 'dynamic model', 'elegant', 'elementwise', 'elementwise from', 'environment model', 'Episode', 'evaluate', 'evaluation', 'Existence', 'expectation', 'expected ', 'extremely ', 'fixed point', 'following', 'fundamental', 'governed by', 'greater', 'human-machine interface', 'immediate', 'important ', 'inspired', 'inspired by', 'inspired by ', 'instances', 'intuition', 'iteration', 'lies ', 'manager', 'Math representation', 'memoryless ', 'memoryless Markow property', 'model free reinforcement learning', 'moreover', 'obtained', 'obtained ', 'policy', 'possible', 'prime', 'probability distribution', 'process', 'random variables', 'regardless', 'relationship', 'represent', 'represents', 'Reword', 'satisfy', 'satisfying', 'sequence', 'short-sighted', 'side', 'sighted', 'since', 'single-step', 'stochastic', 'stochastic policies', 'summary', 'suppose', 'take', 'take action', 'taken at', 'taking', 'the state transited to after taking  \"A time\"', 'therefore', 'trajectory', 'transited to', 'tricky', 'Uniqueness']\n",
      "本次写入数据长度93\n"
     ]
    },
    {
     "data": {
      "text/plain": [
       "{'absorbing state': '吸收状态',\n",
       " 'achieved': '实现',\n",
       " 'agent': '代理',\n",
       " 'Algorithm': '算法',\n",
       " 'Align': '对齐',\n",
       " 'among': '之间的关系',\n",
       " 'answer ': '答案 ',\n",
       " 'answer lies in the': '答案位于',\n",
       " 'because greater cumulaiv': '因为累积值越大',\n",
       " 'Bootstrapping': '引导',\n",
       " 'calculate': '计算',\n",
       " 'conditional ': '条件 ',\n",
       " 'conditional  expectation': '条件预期',\n",
       " 'Consider': '考虑',\n",
       " 'considering': '考虑',\n",
       " 'contraction mapping': '收缩映射',\n",
       " 'contraction mapping theorem': '收缩映射定理',\n",
       " 'contractive function': '收缩功能',\n",
       " 'cumulative': '累计',\n",
       " 'Derivation': '推导',\n",
       " 'derive': '得出',\n",
       " 'describe': '描述',\n",
       " 'determinsitc cases': '确定案例',\n",
       " 'Discounted return': '贴现回报',\n",
       " 'discrete ': '离散 ',\n",
       " 'dynamic model': '动态模型',\n",
       " 'elegant': '优雅的',\n",
       " 'elementwise': '逐元素',\n",
       " 'elementwise from': 'elementwise从',\n",
       " 'environment model': '环境模型',\n",
       " 'Episode': '插曲',\n",
       " 'evaluate': '评估',\n",
       " 'evaluation': '评价',\n",
       " 'Existence': '存在',\n",
       " 'expectation': '期望',\n",
       " 'expected ': '预期 ',\n",
       " 'extremely ': '极',\n",
       " 'fixed point': '不动点',\n",
       " 'following': '如下',\n",
       " 'fundamental': '基本',\n",
       " 'governed by': '由',\n",
       " 'greater': '更大',\n",
       " 'human-machine interface': '人机界面',\n",
       " 'immediate': '即时',\n",
       " 'important ': '重要 ',\n",
       " 'inspired': '启发',\n",
       " 'inspired by': '灵感来自于',\n",
       " 'inspired by ': '灵感来自于',\n",
       " 'instances': '实例',\n",
       " 'intuition': '直觉',\n",
       " 'iteration': '迭代',\n",
       " 'lies ': '答案位于 ',\n",
       " 'manager': '管理器',\n",
       " 'Math representation': '数学表示',\n",
       " 'memoryless ': '无记忆 ',\n",
       " 'memoryless Markow property': '无记忆马科属性',\n",
       " 'model free reinforcement learning': '无模型强化学习',\n",
       " 'moreover': '此外',\n",
       " 'obtained': '获得',\n",
       " 'obtained ': '获得的 ',\n",
       " 'policy': '策略',\n",
       " 'possible': '可能',\n",
       " 'prime': '首要',\n",
       " 'probability distribution': '概率分布',\n",
       " 'process': '过程',\n",
       " 'random variables': '随机变量',\n",
       " 'regardless': '不管',\n",
       " 'relationship': '关系',\n",
       " 'represent': '表示',\n",
       " 'represents': '代表',\n",
       " 'Reword': '重写',\n",
       " 'satisfy': '满足',\n",
       " 'satisfying': '令人满意的',\n",
       " 'sequence': '序列',\n",
       " 'short-sighted': '目光短浅的',\n",
       " 'side': '一边',\n",
       " 'sighted': '有视力的',\n",
       " 'since': '自',\n",
       " 'single-step': '单步',\n",
       " 'stochastic': '随机',\n",
       " 'stochastic policies': '随机策略',\n",
       " 'summary': '摘要',\n",
       " 'suppose': '假设',\n",
       " 'take': '采取',\n",
       " 'take action': '采取行动',\n",
       " 'taken at': '取自',\n",
       " 'taking': '获取',\n",
       " 'the state transited to after taking  \"A time\"': 'A时间 \"后过渡到的状态',\n",
       " 'therefore': '因此',\n",
       " 'trajectory': '轨迹',\n",
       " 'transited to': '转入',\n",
       " 'tricky': '棘手的',\n",
       " 'Uniqueness': '独特性'}"
      ]
     },
     "execution_count": 17,
     "metadata": {},
     "output_type": "execute_result"
    }
   ],
   "source": [
    "english = \"\"\"\n",
    "inspired\n",
    "inspired by\n",
    "considering\n",
    "achieved\n",
    "contraction mapping theorem\n",
    "fixed point\n",
    "contraction mapping\n",
    "contractive function\n",
    "since\n",
    "moreover\n",
    "satisfying\n",
    "Existence\n",
    "Uniqueness\n",
    "Algorithm\n",
    "sequence\n",
    "elementwise from\n",
    "iteration\n",
    "extremely \n",
    "sighted\n",
    "short-sighted\n",
    "\"\"\"\n",
    "chinese = \"\"\"\n",
    "启发\n",
    "灵感来自于\n",
    "考虑\n",
    "实现\n",
    "收缩映射定理\n",
    "不动点\n",
    "收缩映射\n",
    "收缩功能\n",
    "自\n",
    "此外\n",
    "令人满意的\n",
    "存在\n",
    "独特性\n",
    "算法\n",
    "序列\n",
    "elementwise从\n",
    "迭代\n",
    "极\n",
    "有视力的\n",
    "目光短浅的\n",
    "\"\"\"\n",
    "\n",
    "import json\n",
    "import os \n",
    "\n",
    "def align(english,chinese):\n",
    "    \"\"\"\n",
    "    中英文对齐转字典\n",
    "    \"\"\"\n",
    "    split_en = english.split(\"\\n\")\n",
    "    split_zh = chinese.split(\"\\n\")\n",
    "    if len(split_zh)==len(split_en):\n",
    "        return {e:z for e,z in zip(split_en,split_zh) }\n",
    "    print(\"中英文长度不匹配\")\n",
    "\n",
    "\n",
    "def sorted_dict_alphabetically(dictionary):\n",
    "    \"\"\"\n",
    "    按照字典的k=英文进行排序\n",
    "    \"\"\"\n",
    "    sorted_alpha =  sorted(dictionary,key= lambda x : len(x) > 1 and x.lower() or x)\n",
    "    sorted_alpha.remove(\"\")\n",
    "    print(sorted_alpha)\n",
    "    return {k:dictionary[k] for k in sorted_alpha}\n",
    "\n",
    "def write_single_translation(single_step_translate\n",
    "                             ,json_translate_path = \"josn_translate.json\"):\n",
    "    \"\"\"把单步的对齐好的翻译字典写入历史josn中\"\"\"\n",
    "    if isinstance(single_step_translate,dict):\n",
    "        if os.path.exists(json_translate_path):\n",
    "            if len(single_step_translate) > 0:\n",
    "                with open(json_translate_path,'r',encoding=\"utf-8\") as f:\n",
    "                    json_translate = json.load(f)\n",
    "                    history_translate_lenght = len(json_translate)\n",
    "                    print(f\"历史数据长度{history_translate_lenght}\")\n",
    "                    json_translate.update(single_step_translate)\n",
    "                    json_translate = sorted_dict_alphabetically(json_translate)\n",
    "                    current_translate_leght = len(json_translate)\n",
    "                    print(f\"本次写入数据长度{current_translate_leght}\")\n",
    "                with open(json_translate_path,\"w\",encoding=\"utf-8\") as f:\n",
    "                    json.dump(json_translate,f,indent=4,ensure_ascii=False)      \n",
    "        else:\n",
    "            with open(json_translate_path,\"w\",encoding=\"utf-8\") as f:\n",
    "                json.dump(single_step_translate,f,indent=4,ensure_ascii=False)\n",
    "        return json_translate\n",
    "\n",
    "single_step_translate = align(english,chinese)\n",
    "write_single_translation(single_step_translate)\n"
   ]
  },
  {
   "cell_type": "code",
   "execution_count": 18,
   "metadata": {},
   "outputs": [
    {
     "data": {
      "text/plain": [
       "{'': '',\n",
       " 'inspired': '启发',\n",
       " 'inspired by': '灵感来自于',\n",
       " 'considering': '考虑',\n",
       " 'achieved': '实现',\n",
       " 'contraction mapping theorem': '收缩映射定理',\n",
       " 'fixed point': '不动点',\n",
       " 'contraction mapping': '收缩映射',\n",
       " 'contractive function': '收缩功能',\n",
       " 'since': '自',\n",
       " 'moreover': '此外',\n",
       " 'satisfying': '令人满意的',\n",
       " 'Existence': '存在',\n",
       " 'Uniqueness': '独特性',\n",
       " 'Algorithm': '算法',\n",
       " 'sequence': '序列',\n",
       " 'elementwise from': 'elementwise从',\n",
       " 'iteration': '迭代',\n",
       " 'extremely ': '极',\n",
       " 'sighted': '有视力的',\n",
       " 'short-sighted': '目光短浅的'}"
      ]
     },
     "execution_count": 18,
     "metadata": {},
     "output_type": "execute_result"
    }
   ],
   "source": [
    "(single_step_translate)"
   ]
  },
  {
   "cell_type": "code",
   "execution_count": 19,
   "metadata": {},
   "outputs": [
    {
     "name": "stdout",
     "output_type": "stream",
     "text": [
      "47\n",
      "{'agent': '代理'}\n",
      "{'absorbing state': '吸收状态'}\n",
      "{'answer ': '答案 '}\n",
      "{'answer lies in the': '答案位于'}\n",
      "{'among': '之间的关系'}\n",
      "{'Bootstrapping': '引导'}\n",
      "{'calculate': '计算'}\n",
      "{'Consider': '考虑'}\n",
      "{'cumulative': '累计'}\n",
      "{'determinsitc cases': '确定案例'}\n",
      "{'describe': '描述'}\n",
      "{'Discounted return': '贴现回报'}\n",
      "{'Derivation': '推导'}\n",
      "{'discrete ': '离散 '}\n",
      "{'derive': '得出'}\n",
      "{'Episode': '插曲'}\n",
      "{'expectation': '期望'}\n",
      "{'fundamental': '基本'}\n",
      "{'following': '如下'}\n",
      "{'governed by': '由'}\n",
      "{'greater': '更大'}\n",
      "{'human-machine interface': '人机界面'}\n",
      "{'important ': '重要 '}\n",
      "{'instances': '实例'}\n",
      "{'intuition': '直觉'}\n",
      "{'lies ': '答案位于 '}\n",
      "{'Math representation': '数学表示'}\n",
      "{'obtained ': '获得的 '}\n",
      "{'obtained': '获得'}\n",
      "{'policy': '策略'}\n",
      "{'probability distribution': '概率分布'}\n",
      "{'process': '过程'}\n",
      "{'Reword': '重写'}\n",
      "{'random variables': '随机变量'}\n",
      "{'represents': '代表'}\n",
      "{'relationship': '关系'}\n",
      "{'stochastic': '随机'}\n",
      "{'stochastic policies': '随机策略'}\n",
      "{'summary': '摘要'}\n",
      "{'single-step': '单步'}\n",
      "{'since': '自'}\n",
      "{'take': '采取'}\n",
      "{'trajectory': '轨迹'}\n",
      "{'taken at': '取自'}\n",
      "{'taking': '获取'}\n",
      "{'transited to': '转入'}\n",
      "{'the state transited to after taking  \"A time\"': 'A时间 \"后过渡到的状态'}\n"
     ]
    }
   ],
   "source": [
    "translates = {'policy': '策略',\n",
    " 'determinsitc cases': '确定案例',\n",
    " 'stochastic': '随机',\n",
    " 'describe': '描述',\n",
    " 'take': '采取',\n",
    " 'agent': '代理',\n",
    " 'Math representation': '数学表示',\n",
    " 'stochastic policies': '随机策略',\n",
    " 'Reword': '重写',\n",
    " 'human-machine interface': '人机界面',\n",
    " 'trajectory': '轨迹',\n",
    " 'Discounted return': '贴现回报',\n",
    " 'Episode': '插曲',\n",
    " 'absorbing state': '吸收状态',\n",
    " 'probability distribution': '概率分布',\n",
    "'fundamental': '基本',\n",
    " 'Derivation': '推导',\n",
    " 'summary': '摘要',\n",
    " 'expectation': '期望',\n",
    " 'important ': '重要 ',\n",
    " 'calculate': '计算',\n",
    " 'Bootstrapping': '引导',\n",
    " 'Consider': '考虑',\n",
    " 'following': '如下',\n",
    " 'process': '过程',\n",
    " 'single-step': '单步',\n",
    " 'discrete ': '离散 ',\n",
    " 'instances': '实例',\n",
    " 'taken at': '取自',\n",
    " 'obtained ': '获得的 ',\n",
    " 'taking': '获取',\n",
    " 'transited to': '转入',\n",
    " 'the state transited to after taking  \"A time\"': 'A时间 \"后过渡到的状态',\n",
    " 'random variables': '随机变量',\n",
    " 'governed by': '由',\n",
    " 'since':'自',\n",
    " 'represents': '代表',\n",
    " 'greater': '更大',\n",
    " 'cumulative': '累计',\n",
    " 'obtained': '获得',\n",
    " 'answer ': '答案 ',\n",
    " 'lies ': '答案位于 ',\n",
    " 'answer lies in the': '答案位于',\n",
    " 'relationship': '关系',\n",
    " 'among': '之间的关系',\n",
    " 'derive': '得出',\n",
    " 'intuition': '直觉'\n",
    "\n",
    "}\n",
    "print(len(translates))\n",
    "for en in sorted(translates,key= lambda x : x[0].lower()):\n",
    "    zh = translates[en]\n",
    "    print({en:zh})"
   ]
  },
  {
   "cell_type": "markdown",
   "metadata": {},
   "source": []
  },
  {
   "cell_type": "code",
   "execution_count": 20,
   "metadata": {},
   "outputs": [
    {
     "data": {
      "text/plain": [
       "(13.000937912998413, 13.000937912998413)"
      ]
     },
     "execution_count": 20,
     "metadata": {},
     "output_type": "execute_result"
    }
   ],
   "source": [
    "import numpy as np\n",
    "\n",
    "def func(x,y):\n",
    "    return np.sqrt(4+np.square(x)) + np.sqrt(9+np.square(y))\n",
    "\n",
    "min_value = np.inf\n",
    "values = []\n",
    "max_x = 12\n",
    "max_y = 12\n",
    "for x in range(0,max_x+1):\n",
    "    y = max_y-x\n",
    "    value = func(x,y)\n",
    "    if min_value > value:\n",
    "        min_value = value\n",
    "    values.append(value)   \n",
    "min_value,min(values)"
   ]
  },
  {
   "cell_type": "code",
   "execution_count": 21,
   "metadata": {},
   "outputs": [
    {
     "data": {
      "text/latex": [
       "$\\displaystyle 13$"
      ],
      "text/plain": [
       "13"
      ]
     },
     "execution_count": 21,
     "metadata": {},
     "output_type": "execute_result"
    }
   ],
   "source": [
    "from sympy import symbols,diff,minimum,solve\n",
    "from sympy import Eq\n",
    "from sympy import sqrt\n",
    "x,y = symbols(\"x y\")\n",
    "y = 12-x\n",
    "eq2 = sqrt(4+x**2)+sqrt(9+y**2)\n",
    "minimum(eq2,x)\n"
   ]
  },
  {
   "cell_type": "code",
   "execution_count": 22,
   "metadata": {},
   "outputs": [
    {
     "data": {
      "text/plain": [
       "({x: 0, y: 0}, sqrt(x**2 + 4) + sqrt(y**2 + 9))"
      ]
     },
     "execution_count": 22,
     "metadata": {},
     "output_type": "execute_result"
    }
   ],
   "source": [
    "from sympy import sympify\n",
    "x,y = symbols(\"x y\")\n",
    "eq2 = sqrt(4+x**2)+sqrt(9+y**2)\n",
    "dx = diff(eq2,x)\n",
    "dy = diff(eq2,y)\n",
    "r = solve([dx,dy],[x,y])\n",
    "r,sympify(eq2)"
   ]
  },
  {
   "cell_type": "code",
   "execution_count": 23,
   "metadata": {},
   "outputs": [
    {
     "data": {
      "text/latex": [
       "$\\displaystyle - \\frac{1}{r - 1}$"
      ],
      "text/plain": [
       "-1/(r - 1)"
      ]
     },
     "execution_count": 23,
     "metadata": {},
     "output_type": "execute_result"
    }
   ],
   "source": [
    "from sympy import Eq,solve,symbols,simplify\n",
    "\n",
    "x,r = symbols(\"x,r\")\n",
    "eq = 1+r*(1/(1-r))\n",
    "simplify(eq)"
   ]
  },
  {
   "cell_type": "code",
   "execution_count": 24,
   "metadata": {},
   "outputs": [
    {
     "ename": "NameError",
     "evalue": "name 'sympy' is not defined",
     "output_type": "error",
     "traceback": [
      "\u001b[0;31m---------------------------------------------------------------------------\u001b[0m",
      "\u001b[0;31mNameError\u001b[0m                                 Traceback (most recent call last)",
      "\u001b[1;32m/Users/magu/Documents/淮职算法课准备/强化学习/课程笔记/英语翻译对齐脚本.ipynb 单元格 9\u001b[0m line \u001b[0;36m<cell line: 3>\u001b[0;34m()\u001b[0m\n\u001b[1;32m      <a href='vscode-notebook-cell:/Users/magu/Documents/%E6%B7%AE%E8%81%8C%E7%AE%97%E6%B3%95%E8%AF%BE%E5%87%86%E5%A4%87/%E5%BC%BA%E5%8C%96%E5%AD%A6%E4%B9%A0/%E8%AF%BE%E7%A8%8B%E7%AC%94%E8%AE%B0/%E8%8B%B1%E8%AF%AD%E7%BF%BB%E8%AF%91%E5%AF%B9%E9%BD%90%E8%84%9A%E6%9C%AC.ipynb#X11sZmlsZQ%3D%3D?line=0'>1</a>\u001b[0m x \u001b[39m=\u001b[39m \u001b[39m1\u001b[39m\u001b[39m+\u001b[39mr\u001b[39m*\u001b[39mx\n\u001b[1;32m      <a href='vscode-notebook-cell:/Users/magu/Documents/%E6%B7%AE%E8%81%8C%E7%AE%97%E6%B3%95%E8%AF%BE%E5%87%86%E5%A4%87/%E5%BC%BA%E5%8C%96%E5%AD%A6%E4%B9%A0/%E8%AF%BE%E7%A8%8B%E7%AC%94%E8%AE%B0/%E8%8B%B1%E8%AF%AD%E7%BF%BB%E8%AF%91%E5%AF%B9%E9%BD%90%E8%84%9A%E6%9C%AC.ipynb#X11sZmlsZQ%3D%3D?line=1'>2</a>\u001b[0m eq \u001b[39m=\u001b[39m x\u001b[39m-\u001b[39m(\u001b[39m1\u001b[39m\u001b[39m+\u001b[39mr\u001b[39m*\u001b[39mx)\n\u001b[0;32m----> <a href='vscode-notebook-cell:/Users/magu/Documents/%E6%B7%AE%E8%81%8C%E7%AE%97%E6%B3%95%E8%AF%BE%E5%87%86%E5%A4%87/%E5%BC%BA%E5%8C%96%E5%AD%A6%E4%B9%A0/%E8%AF%BE%E7%A8%8B%E7%AC%94%E8%AE%B0/%E8%8B%B1%E8%AF%AD%E7%BF%BB%E8%AF%91%E5%AF%B9%E9%BD%90%E8%84%9A%E6%9C%AC.ipynb#X11sZmlsZQ%3D%3D?line=2'>3</a>\u001b[0m sympy\u001b[39m.\u001b[39msolve(eq,x)\n",
      "\u001b[0;31mNameError\u001b[0m: name 'sympy' is not defined"
     ]
    }
   ],
   "source": [
    "x = 1+r*x\n",
    "eq = x-(1+r*x)\n",
    "sympy.solve(eq,x)"
   ]
  },
  {
   "cell_type": "code",
   "execution_count": null,
   "metadata": {},
   "outputs": [
    {
     "data": {
      "text/plain": [
       "(0.6666666666666667, -0.5)"
      ]
     },
     "execution_count": 9,
     "metadata": {},
     "output_type": "execute_result"
    }
   ],
   "source": [
    "r =3\n",
    "-(1/r-1),1/(1-r)"
   ]
  }
 ],
 "metadata": {
  "kernelspec": {
   "display_name": "XGBoostAndScikitOPT_GPU",
   "language": "python",
   "name": "python3"
  },
  "language_info": {
   "codemirror_mode": {
    "name": "ipython",
    "version": 3
   },
   "file_extension": ".py",
   "mimetype": "text/x-python",
   "name": "python",
   "nbconvert_exporter": "python",
   "pygments_lexer": "ipython3",
   "version": "3.8.18"
  }
 },
 "nbformat": 4,
 "nbformat_minor": 2
}
