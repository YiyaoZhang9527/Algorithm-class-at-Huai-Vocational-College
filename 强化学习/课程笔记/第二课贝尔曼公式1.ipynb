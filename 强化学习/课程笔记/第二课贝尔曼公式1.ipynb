{
 "cells": [
  {
   "cell_type": "code",
   "execution_count": null,
   "metadata": {},
   "outputs": [],
   "source": []
  },
  {
   "cell_type": "markdown",
   "metadata": {},
   "source": [
    "#### Bellman Equation :贝尔曼公式\n",
    "* #### 核心概念[core concept]:状态值[state value]:\n",
    "* #### 基本工具[fundamental tool]:贝尔曼公式[Bellman equation] \n",
    "\n",
    "#### 本次课程大纲\n",
    "* #### 1.0  一些例子\n",
    "* #### 2.0  状态值\n",
    "* #### 3.0  贝尔曼公式:推导\n",
    "* #### 4.0  贝尔曼公式:矩阵形式\n",
    "* #### 5.0  贝尔曼公式:求解状态值\n",
    "* #### 6.0  动作值\n",
    "* #### 7.0  总和\n",
    "![](./images/3贝尔曼公式解决什么问题.png)\n",
    "以上三种策略直观上可以看出第一个策略最优，第二个策略最差，第三个策略不好也不差，但是如何在数学上表达呢\n",
    "![](./images/3return的gamma计算推导策略一.png)\n",
    "\n",
    "策略一的计算过程\n",
    "下面是以上式子的python计算证明 "
   ]
  },
  {
   "cell_type": "code",
   "execution_count": 33,
   "metadata": {},
   "outputs": [
    {
     "name": "stdout",
     "output_type": "stream",
     "text": [
      "gamma:0.16296385702318295\n"
     ]
    },
    {
     "data": {
      "text/plain": [
       "(0.1946915389947429, 0.19469154156667817, 0.1946915257844347)"
      ]
     },
     "execution_count": 33,
     "metadata": {},
     "output_type": "execute_result"
    }
   ],
   "source": [
    "import numpy as np\n",
    "\n",
    "gamma = np.random.uniform(0,1)\n",
    "print(f'gamma:{gamma}')\n",
    "n = 10\n",
    "point = 0\n",
    "gammas = np.zeros(n)\n",
    "gammas_sum = np.zeros(n)\n",
    "for i in range(n):\n",
    "    if i == point:\n",
    "        gammas_sum[i] = 0\n",
    "    else:\n",
    "        gammas_sum[i] = gamma ** i\n",
    "    gammas[i] = gamma**i\n",
    "(gamma*(gammas)).sum(),gamma/(1-gamma),gammas_sum.sum()"
   ]
  },
  {
   "cell_type": "markdown",
   "metadata": {},
   "source": [
    "![3return的gamma计算推导策略二](./images/3return的gamma计算推导策略二.png)\n",
    "以下是上式策略二的python的证明"
   ]
  },
  {
   "cell_type": "code",
   "execution_count": 67,
   "metadata": {},
   "outputs": [
    {
     "name": "stdout",
     "output_type": "stream",
     "text": [
      "gamma:0.28190034053536706\n"
     ]
    },
    {
     "data": {
      "text/plain": [
       "(-0.6074400432119189, -0.6074368739655239, -0.6074356298323089)"
      ]
     },
     "execution_count": 67,
     "metadata": {},
     "output_type": "execute_result"
    }
   ],
   "source": [
    "import numpy as np\n",
    "\n",
    "gamma = np.random.uniform(0,1)\n",
    "print(f'gamma:{gamma}')\n",
    "n = 10\n",
    "point = 0\n",
    "gammas = np.zeros(n)\n",
    "Return = np.zeros(n)\n",
    "discounterd_return = np.zeros(n)\n",
    "point = 0\n",
    "\n",
    "for i in range(n):\n",
    "    if point >=i :\n",
    "        Return[i] = -1\n",
    "    else:\n",
    "        Return[i] = 1\n",
    "\n",
    "for i in range(n):\n",
    "    discounterd_return[i] = gamma**i*Return[i]\n",
    "    if point <=i:\n",
    "        gammas[i]=gamma**i\n",
    "\n",
    "discounterd_return.sum(),(Return[:point+1]).sum()+(gamma*gammas[point:]).sum(),(Return[:point+1]).sum()+(gamma/(1-gamma))"
   ]
  },
  {
   "cell_type": "markdown",
   "metadata": {},
   "source": [
    "![](./images/3return的gamma计算推导策略三.png)\n",
    "第三个策略的结果是一二策略的分别乘以概率0.5,以下是对上面的等式python的计算证明，严格意义上第三个策略求出的是期望而不是返回值了，其实就是state value状态值了"
   ]
  },
  {
   "cell_type": "code",
   "execution_count": 72,
   "metadata": {},
   "outputs": [
    {
     "name": "stdout",
     "output_type": "stream",
     "text": [
      "第0步证明计算值为:-0.10743562983230895\n",
      "第1步证明计算值为:-0.10743562983230895\n",
      "第2步证明计算值为:-0.10743562983230898\n",
      "第3步证明计算值为:-0.10743562983230898\n",
      "第4步证明计算值为:-0.10743562983230898\n",
      "第5步证明计算值为:-0.10743562983230898\n"
     ]
    }
   ],
   "source": [
    "step0 = 0.5*(-1+(gamma/(1-gamma))) + 0.5*(gamma/(1-gamma))\n",
    "step1 = 0.5*-1+0.5*(gamma/(1-gamma))+0.5*(gamma/(1-gamma))\n",
    "step2 = 0.5*(-1+ (gamma/(1-gamma))*2)\n",
    "step3 = 0.5 * -1 + 0.5*2*(gamma/(1-gamma))\n",
    "step4 = -0.5 + 1*(gamma/(1-gamma))\n",
    "step5 = -0.5+(gamma/(1-gamma))\n",
    "for i, step in enumerate((step0,step1,step2,step3,step4,step5)):\n",
    "    print(f\"第{i}步证明计算值为:{step}\")"
   ]
  },
  {
   "cell_type": "markdown",
   "metadata": {},
   "source": [
    "![](./images/3return的gamma计算推导策略四.png)\n",
    "#### 直观上就可以看出来不同策略比较结果:\n",
    "* ##### 策略1：$ \\gamma/(1-\\gamma) $\n",
    "* ##### 策略2：$ -1+(\\gamma/(1-\\gamma))$\n",
    "* ##### 策略3：$ -0.5 + (\\gamma/(1-\\gamma)) $\n",
    "以下再用python计算以下结果观察"
   ]
  },
  {
   "cell_type": "code",
   "execution_count": 76,
   "metadata": {},
   "outputs": [
    {
     "name": "stdout",
     "output_type": "stream",
     "text": [
      "gamma0.8255390865686738,策略一:4.731942933989248,策略二:3.731942933989248,策略三:4.231942933989248\n",
      "gamma0.7100311447325648,策略一:2.4486462316020474,策略二:1.4486462316020474,策略三:1.9486462316020474\n",
      "gamma0.5168742520494072,策略一:1.069854492835405,策略二:0.06985449283540501,策略三:0.569854492835405\n",
      "gamma0.1499587734254233,策略一:0.1764135299998499,策略二:-0.8235864700001501,策略三:-0.32358647000015006\n",
      "gamma0.7989347452754809,策略一:3.973509726332911,策略二:2.973509726332911,策略三:3.473509726332911\n",
      "gamma0.1882567258261273,策略一:0.2319165822688459,策略二:-0.7680834177311541,策略三:-0.2680834177311541\n",
      "gamma0.7242417644553701,策略一:2.626364949808202,策略二:1.626364949808202,策略三:2.126364949808202\n",
      "gamma0.7572360971044958,策略一:3.1192285511674362,策略二:2.1192285511674362,策略三:2.6192285511674362\n",
      "gamma0.37931045037221445,策略一:0.611111385071134,策略二:-0.38888861492886595,策略三:0.11111138507113405\n",
      "gamma0.1736708995916918,策略一:0.21017158842146189,策略二:-0.7898284115785381,策略三:-0.2898284115785381\n"
     ]
    }
   ],
   "source": [
    "gammas = np.random.uniform(0,1,10)\n",
    "\n",
    "\n",
    "def policy1(gamma):\n",
    "    return gamma/(1-gamma)\n",
    "def policy2(gamma):\n",
    "    return -1+gamma/(1-gamma)\n",
    "def policy3(gamma):\n",
    "    return -0.5+gamma/(1-gamma)\n",
    "for gamma in gammas:\n",
    "    print(f\"gamma{gamma},策略一:{policy1(gamma)},策略二:{policy2(gamma)},策略三:{policy3(gamma)}\")\n"
   ]
  },
  {
   "cell_type": "markdown",
   "metadata": {},
   "source": [
    "#### 通过上面可以看出Return/返回值可以用来衡量策略的好坏\n",
    "#### 那如何计算return？\n",
    "![](./images/3如何计算return1.png)\n",
    "#### 另一种计算方式\n",
    "![](./images/3如何计算return12.png)\n",
    "#### Bootstrapping/自举\n",
    "* #### 以上我们通过对第一种方法的约简，得到的四步就变得非常简单，在强化学习中被称为Bootstrapping/自举\n",
    "#### 自举的计算方法\n",
    "![](./images/3自举的计算方法.png)\n",
    "#### 求解上面的式子\n",
    "* #### $ v = r+(\\gamma P v)$\n",
    "* #### $ (I-\\gamma p )v = r $\n",
    "* #### $ v = (I-\\gamma p )^{-1}r  $\n",
    "* #### $ 以上 I是单位矩阵，(I-\\gamma p )^{-1}是对(I-\\gamma p )求逆运算 $\\\n",
    "以下是python的计算验证"
   ]
  },
  {
   "cell_type": "code",
   "execution_count": 26,
   "metadata": {},
   "outputs": [
    {
     "name": "stdout",
     "output_type": "stream",
     "text": [
      "I:[[1. 0. 0. 0.]\n",
      " [0. 1. 0. 0.]\n",
      " [0. 0. 1. 0.]\n",
      " [0. 0. 0. 1.]]\n",
      "P:[[0 0 1 0]\n",
      " [1 0 0 1]\n",
      " [0 0 0 1]\n",
      " [1 0 0 1]]\n",
      "r:[-0.0500688   0.3290625   0.7163425   0.29093356]\n"
     ]
    },
    {
     "name": "stderr",
     "output_type": "stream",
     "text": [
      "/home/zhangmanman/anaconda3/envs/XGBoostAndScikitOPT_GPU/lib/python3.7/site-packages/ipykernel_launcher.py:9: DeprecationWarning: This function is deprecated. Please call randint(0, 1 + 1) instead\n",
      "  if __name__ == \"__main__\":\n"
     ]
    },
    {
     "data": {
      "text/plain": [
       "array([0.68188104, 1.37751428, 1.41109553, 1.33938534])"
      ]
     },
     "execution_count": 26,
     "metadata": {},
     "output_type": "execute_result"
    }
   ],
   "source": [
    "import numpy as np\n",
    "n = 4\n",
    "I = np.identity(n)\n",
    "print(f\"I:{I}\")\n",
    "\n",
    "gamma = np.random.uniform(0,1)\n",
    "gamma\n",
    "\n",
    "P = np.random.random_integers(0,1,size=n*n).reshape((n,n))\n",
    "print(f\"P:{P}\")\n",
    "r = np.random.normal(0,1,n)\n",
    "print(f\"r:{r}\")\n",
    "\n",
    "v = np.linalg.inv(I-gamma*P).dot(r)\n",
    "v"
   ]
  },
  {
   "cell_type": "code",
   "execution_count": 27,
   "metadata": {},
   "outputs": [
    {
     "data": {
      "text/plain": [
       "array([0.68188104, 1.37751428, 1.41109553, 1.33938534])"
      ]
     },
     "execution_count": 27,
     "metadata": {},
     "output_type": "execute_result"
    }
   ],
   "source": [
    "v = r+(gamma*P.dot(v))\n",
    "v"
   ]
  },
  {
   "cell_type": "markdown",
   "metadata": {},
   "source": [
    "![](./images/3列出示例的贝尔曼方程.png)\n",
    "\n",
    "#### 以下是python的计算验证\n",
    "#### 先将上面的贝尔曼公式转成线性方程组\n",
    "* #### step-1\n",
    "* * ##### $0 = v_{1} - \\gamma v_{3}$\n",
    "* * ##### $1 = v_{2} - \\gamma v_{4}$\n",
    "* * ##### $1 = v_{3} - \\gamma v_{4}$\n",
    "* * ##### $1 = v_{4} - \\gamma v_{4}$\n",
    "* #### step-2\n",
    "* * ##### $0 = 1 v_{1}  + 0 v_{2} - 1 \\gamma v_{3} + 0 v_{4}$\n",
    "* * ##### $1 = 0 v_{1}  + 1 v_{2} + 0 v_{3} - 1 \\gamma v_{4}$\n",
    "* * ##### $1 = 0 v_{1}  + 0 v_{2} + 1 v_{3} - 1 \\gamma v_{4}$\n",
    "* * ##### $1 = 0 v_{1}  + 0 v_{2} + 0 v_{3} + (1-\\gamma) v_{4}$"
   ]
  },
  {
   "cell_type": "code",
   "execution_count": 45,
   "metadata": {},
   "outputs": [
    {
     "data": {
      "text/plain": [
       "array([0.95140621, 1.95140621, 1.95140621, 1.95140621])"
      ]
     },
     "execution_count": 45,
     "metadata": {},
     "output_type": "execute_result"
    }
   ],
   "source": [
    "import numpy as np\n",
    "\n",
    "gamma = np.random.uniform(0,1)\n",
    "\n",
    "\n",
    "a = np.array([0,1,1,1])\n",
    "Matrix = np.array(\n",
    "    [\n",
    "        [1,0,-1*gamma,0]\n",
    "        ,[0,1,0,-1*gamma]\n",
    "        ,[0,0,1,-1*gamma]\n",
    "        ,[0,0,0,(1-gamma)]\n",
    "    ]\n",
    ")\n",
    "v = np.linalg.solve(Matrix,a)\n",
    "v"
   ]
  },
  {
   "cell_type": "markdown",
   "metadata": {},
   "source": [
    "##### 我们验证以下解是否正确"
   ]
  },
  {
   "cell_type": "code",
   "execution_count": 46,
   "metadata": {},
   "outputs": [
    {
     "data": {
      "text/plain": [
       "(True, True)"
      ]
     },
     "execution_count": 46,
     "metadata": {},
     "output_type": "execute_result"
    }
   ],
   "source": [
    "v[0]==0+gamma*v[2],v[1]==1+gamma*v[3]"
   ]
  },
  {
   "cell_type": "code",
   "execution_count": 48,
   "metadata": {},
   "outputs": [
    {
     "data": {
      "text/latex": [
       "$\\displaystyle \\left[\\begin{matrix}0.951406207872612\\\\1.95140620787261\\\\1.95140620787261\\\\1.95140620787261\\end{matrix}\\right]$"
      ],
      "text/plain": [
       "Matrix([\n",
       "[0.951406207872612],\n",
       "[ 1.95140620787261],\n",
       "[ 1.95140620787261],\n",
       "[ 1.95140620787261]])"
      ]
     },
     "execution_count": 48,
     "metadata": {},
     "output_type": "execute_result"
    }
   ],
   "source": [
    "import sympy\n",
    "# gamma = np.random.uniform(0,1)\n",
    "\n",
    "syMatrix = sympy.Matrix(\n",
    "    [        \n",
    "        [1,0,-1*gamma,0]\n",
    "        ,[0,1,0,-1*gamma]\n",
    "        ,[0,0,1,-1*gamma]\n",
    "        ,[0,0,0,(1-gamma)]\n",
    "    ]\n",
    "\n",
    ")\n",
    "sya = sympy.Matrix([0,1,1,1])\n",
    "syMatrix.solve(sya)"
   ]
  }
 ],
 "metadata": {
  "kernelspec": {
   "display_name": "XGBoostAndScikitOPT_GPU",
   "language": "python",
   "name": "python3"
  },
  "language_info": {
   "codemirror_mode": {
    "name": "ipython",
    "version": 3
   },
   "file_extension": ".py",
   "mimetype": "text/x-python",
   "name": "python",
   "nbconvert_exporter": "python",
   "pygments_lexer": "ipython3",
   "version": "3.7.16"
  }
 },
 "nbformat": 4,
 "nbformat_minor": 2
}
