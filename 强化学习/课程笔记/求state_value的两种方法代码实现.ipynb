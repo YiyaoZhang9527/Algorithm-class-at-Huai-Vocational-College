{
 "cells": [
  {
   "cell_type": "markdown",
   "metadata": {},
   "source": [
    "![](./images/求state-value的两种办法.png)"
   ]
  },
  {
   "cell_type": "code",
   "execution_count": 1426,
   "metadata": {},
   "outputs": [
    {
     "name": "stdout",
     "output_type": "stream",
     "text": [
      "I:[[1. 0. 0. 0.]\n",
      " [0. 1. 0. 0.]\n",
      " [0. 0. 1. 0.]\n",
      " [0. 0. 0. 1.]]\n",
      "gamma0.19372696932233624\n",
      "P:[[0.2046686  0.17637474 0.10723194 0.51172472]\n",
      " [0.27333154 0.09887258 0.47916684 0.14862904]\n",
      " [0.21664249 0.05464088 0.19998177 0.52873486]\n",
      " [0.54275236 0.22527734 0.11848426 0.11348604]]\n",
      "r:[-7.30831475 -1.01923086 11.44880767 -1.66979385]\n",
      "pi:[0.11423946 0.34730203 0.44975773 0.08870078]\n"
     ]
    }
   ],
   "source": [
    "import numpy as np\n",
    "n = 4\n",
    "I = np.identity(n)\n",
    "print(f\"I:{I}\")\n",
    "\n",
    "gamma = np.random.uniform(0,1)\n",
    "print(f'gamma{gamma}')\n",
    "\n",
    "P = np.zeros((n,n))\n",
    "for i in range(n):\n",
    "    single_step = abs(np.random.randn(1,n))\n",
    "    second = single_step/single_step.sum()\n",
    "    P[i]=second\n",
    "# P = np.random.random_integers(0,1,size=n*n).reshape((n,n))\n",
    "print(f\"P:{P}\")\n",
    "r = np.random.normal(0,10,n)\n",
    "print(f\"r:{r}\")\n",
    "\n",
    "pi = abs(np.random.normal(0.1,1,n))\n",
    "pi = pi/pi.sum()\n",
    "print(f\"pi:{pi}\")"
   ]
  },
  {
   "cell_type": "markdown",
   "metadata": {},
   "source": [
    "矩阵解析法"
   ]
  },
  {
   "cell_type": "code",
   "execution_count": 1427,
   "metadata": {},
   "outputs": [
    {
     "name": "stdout",
     "output_type": "stream",
     "text": [
      "CPU times: user 9 µs, sys: 6 µs, total: 15 µs\n",
      "Wall time: 7.15 µs\n"
     ]
    },
    {
     "data": {
      "text/plain": [
       "array([-6.84699010e-01, -2.03782027e-01,  5.29938864e+00,  2.08691116e-03])"
      ]
     },
     "execution_count": 1427,
     "metadata": {},
     "output_type": "execute_result"
    }
   ],
   "source": [
    "P_pi = P.dot(pi)\n",
    "r_pi = r*pi\n",
    "v_pi = np.linalg.inv(I-gamma*P_pi).dot(r_pi)\n",
    "%time v_pi\n",
    "v_pi"
   ]
  },
  {
   "cell_type": "markdown",
   "metadata": {},
   "source": [
    "验证v是否正确"
   ]
  },
  {
   "cell_type": "code",
   "execution_count": 1428,
   "metadata": {},
   "outputs": [
    {
     "data": {
      "text/plain": [
       "array([-6.84699010e-01, -2.03782027e-01,  5.29938864e+00,  2.08691116e-03])"
      ]
     },
     "execution_count": 1428,
     "metadata": {},
     "output_type": "execute_result"
    }
   ],
   "source": [
    "v_pi = (r*pi)+(gamma*P.dot(pi).dot(v_pi))\n",
    "v_pi"
   ]
  },
  {
   "cell_type": "markdown",
   "metadata": {},
   "source": [
    "迭代法求state value"
   ]
  },
  {
   "cell_type": "code",
   "execution_count": 1429,
   "metadata": {},
   "outputs": [
    {
     "name": "stdout",
     "output_type": "stream",
     "text": [
      "CPU times: user 6 µs, sys: 7 µs, total: 13 µs\n",
      "Wall time: 7.15 µs\n"
     ]
    },
    {
     "data": {
      "text/plain": [
       "(array([-6.84699010e-01, -2.03782027e-01,  5.29938864e+00,  2.08691116e-03]),\n",
       " 23)"
      ]
     },
     "execution_count": 1429,
     "metadata": {},
     "output_type": "execute_result"
    }
   ],
   "source": [
    "dim_of_v = v_pi.size\n",
    "vpi0 = np.full(dim_of_v,0)\n",
    "max_iter = 10000\n",
    "histroy_v_pi = np.zeros((max_iter+1,dim_of_v))\n",
    "for i in range(0,max_iter):\n",
    "    if i ==0:\n",
    "        v_pi_k = vpi0\n",
    "    P_pi = P.dot(pi)\n",
    "    r_pi = (r*pi)\n",
    "    v_pi_k1 = r_pi  + gamma * P_pi.dot(v_pi_k)\n",
    "    v_pi_k = v_pi_k1\n",
    "    histroy_v_pi[i+1] = v_pi_k\n",
    "    if (histroy_v_pi[i+1][-1]-histroy_v_pi[i])[-1]==0 :\n",
    "        break\n",
    "%time v_pi_k,i"
   ]
  },
  {
   "cell_type": "markdown",
   "metadata": {},
   "source": [
    "#### 整理成 contractive function 求state value"
   ]
  },
  {
   "cell_type": "code",
   "execution_count": 1430,
   "metadata": {},
   "outputs": [
    {
     "name": "stdout",
     "output_type": "stream",
     "text": [
      "CPU times: user 718 µs, sys: 350 µs, total: 1.07 ms\n",
      "Wall time: 646 µs\n"
     ]
    },
    {
     "data": {
      "text/plain": [
       "(array([-6.84699010e-01, -2.03782027e-01,  5.29938864e+00,  2.08691116e-03]),\n",
       " 22)"
      ]
     },
     "execution_count": 1430,
     "metadata": {},
     "output_type": "execute_result"
    }
   ],
   "source": [
    "def Vpi(v_pi_k,pi,r,gamma,P):\n",
    "    P_pi = P.dot(pi)\n",
    "    r_pi = (r*pi)\n",
    "    v_pi_k1 = r_pi  + gamma * P_pi.dot(v_pi_k)\n",
    "    return v_pi_k1\n",
    "\n",
    "def cotraction_mapping_for_Vpi1(pi,r,gamma,P,max_iter=10000):\n",
    "    dim_of_v = r.size\n",
    "    vpi0 = np.full(dim_of_v,0)\n",
    "    #histroy_v_pi = np.zeros((max_iter+1,dim_of_v))\n",
    "    for i in range(0,max_iter):\n",
    "        if i ==0:\n",
    "            v_pi_k = vpi0\n",
    "        v_pi_k1 = Vpi(v_pi_k,pi,r,gamma,P)\n",
    "        v_pi_k = v_pi_k1\n",
    "        histroy_v_pi[i+1] = v_pi_k\n",
    "        if (Vpi(v_pi_k,pi,r,gamma,P)-v_pi_k).sum()==0:\n",
    "            break\n",
    "        # if (histroy_v_pi[i+1]-histroy_v_pi[i]).sum()==0 :\n",
    "        #     print(Vpi_k(v_pi_k,pi,r,gamma,P))\n",
    "            break\n",
    "#  \n",
    "    return v_pi_k,i\n",
    "\n",
    "def cotraction_mapping_for_Vpi2(pi,r,gamma,P,max_iter=10000):\n",
    "    dim_of_v = r.size\n",
    "    vpi0 = np.full(dim_of_v,0)\n",
    "    histroy_v_pi = np.zeros((max_iter+1,dim_of_v))\n",
    "    for i in range(0,max_iter):\n",
    "        if i ==0:\n",
    "            v_pi_k = vpi0\n",
    "        v_pi_k1 = Vpi(v_pi_k,pi,r,gamma,P)\n",
    "        v_pi_k = v_pi_k1\n",
    "        histroy_v_pi[i+1] = v_pi_k\n",
    "        # if (Vpi(v_pi_k,pi,r,gamma,P)-v_pi_k).sum()==0:\n",
    "        #     break\n",
    "        if (histroy_v_pi[i+1]-histroy_v_pi[i]).sum()==0 :\n",
    "            # print(Vpi(v_pi_k,pi,r,gamma,P))\n",
    "            break\n",
    "#  \n",
    "    return v_pi_k,i\n",
    "\n",
    "%time cotraction_mapping_for_Vpi1(pi,r,gamma,P)"
   ]
  },
  {
   "cell_type": "code",
   "execution_count": 1431,
   "metadata": {},
   "outputs": [
    {
     "name": "stdout",
     "output_type": "stream",
     "text": [
      "CPU times: user 218 µs, sys: 22 µs, total: 240 µs\n",
      "Wall time: 243 µs\n"
     ]
    },
    {
     "data": {
      "text/plain": [
       "(array([-6.84699010e-01, -2.03782027e-01,  5.29938864e+00,  2.08691116e-03]),\n",
       " 23)"
      ]
     },
     "execution_count": 1431,
     "metadata": {},
     "output_type": "execute_result"
    }
   ],
   "source": [
    "%time cotraction_mapping_for_Vpi2(pi,r,gamma,P)"
   ]
  },
  {
   "cell_type": "markdown",
   "metadata": {},
   "source": [
    "#### 求贝尔曼最优的$\\pi$"
   ]
  },
  {
   "cell_type": "code",
   "execution_count": 1437,
   "metadata": {},
   "outputs": [
    {
     "name": "stdout",
     "output_type": "stream",
     "text": [
      "v_pi:[0.04375383 0.04375383 1.04375383 0.04375383]\n",
      "设r=1[0 0 1 0],保证后面的计算不被影响\n"
     ]
    },
    {
     "data": {
      "text/plain": [
       "array([0, 0, 1, 0])"
      ]
     },
     "execution_count": 1437,
     "metadata": {},
     "output_type": "execute_result"
    }
   ],
   "source": [
    "\n",
    "\n",
    "v_pi = (r*pi)+(gamma*P.dot(pi).dot(v_pi))\n",
    "print(f\"v_pi:{v_pi}\")\n",
    "def solve_pi(r,gamma,P):\n",
    "    pi = np.ones(P.shape[-1])\n",
    "    print(f\"设r=1{r},保证后面的计算不被影响\")\n",
    "    qk ,i = cotraction_mapping_for_Vpi2(pi,r,gamma,P)\n",
    "    solve = np.where(qk==qk.max(),True,False).astype(int)\n",
    "    return solve\n",
    "\n",
    "pi = solve_pi(pi,gamma,P)\n",
    "pi\n"
   ]
  },
  {
   "cell_type": "code",
   "execution_count": null,
   "metadata": {},
   "outputs": [],
   "source": []
  },
  {
   "cell_type": "code",
   "execution_count": 1433,
   "metadata": {},
   "outputs": [
    {
     "data": {
      "text/plain": [
       "array([0., 0., 0., 0.])"
      ]
     },
     "execution_count": 1433,
     "metadata": {},
     "output_type": "execute_result"
    }
   ],
   "source": [
    "v_pi -v_pi_k"
   ]
  },
  {
   "cell_type": "code",
   "execution_count": 1434,
   "metadata": {},
   "outputs": [
    {
     "data": {
      "text/plain": [
       "array([-6.84699010e-01, -2.03782027e-01,  5.29938864e+00,  2.08691116e-03])"
      ]
     },
     "execution_count": 1434,
     "metadata": {},
     "output_type": "execute_result"
    }
   ],
   "source": [
    "histroy_v_pi[i]"
   ]
  },
  {
   "cell_type": "markdown",
   "metadata": {},
   "source": [
    "#### 这个函数之所以起作用，就是因为他是一个contraction mapping,以下再用一个简单的函数证实它"
   ]
  },
  {
   "cell_type": "code",
   "execution_count": 1435,
   "metadata": {},
   "outputs": [
    {
     "data": {
      "text/plain": [
       "(0.0, 1012)"
      ]
     },
     "execution_count": 1435,
     "metadata": {},
     "output_type": "execute_result"
    }
   ],
   "source": [
    "def f(x):\n",
    "    return x*np.sin(0.5)\n",
    "\n",
    "xn = 10000\n",
    "x0 = 1\n",
    "histroy_xk = np.zeros(xn+1)\n",
    "for i in range(xn):\n",
    "    if i == 0:\n",
    "        x = x0\n",
    "    x_k1 = f(x)\n",
    "    x = x_k1\n",
    "    \n",
    "    histroy_xk[i]=x\n",
    "    if f(x) == x:\n",
    "        break\n",
    "    # if abs(histroy_xk[-1]-histroy_xk[-2])==0:\n",
    "    #     break    \n",
    "x_k1,i\n",
    "    "
   ]
  },
  {
   "cell_type": "markdown",
   "metadata": {},
   "source": [
    "def f(x)"
   ]
  },
  {
   "cell_type": "markdown",
   "metadata": {},
   "source": []
  }
 ],
 "metadata": {
  "kernelspec": {
   "display_name": "XGBoostAndScikitOPT_GPU",
   "language": "python",
   "name": "python3"
  },
  "language_info": {
   "codemirror_mode": {
    "name": "ipython",
    "version": 3
   },
   "file_extension": ".py",
   "mimetype": "text/x-python",
   "name": "python",
   "nbconvert_exporter": "python",
   "pygments_lexer": "ipython3",
   "version": "3.8.18"
  }
 },
 "nbformat": 4,
 "nbformat_minor": 2
}
