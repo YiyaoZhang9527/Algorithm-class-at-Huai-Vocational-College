{
 "cells": [
  {
   "cell_type": "markdown",
   "metadata": {},
   "source": [
    "![](./images/求state-value的两种办法.png)\n",
    "![](./images/矩阵表示求解vpi.png)\n",
    "![](./images/矩阵表示求解vpi1.png)\n",
    "### [github课本地址](https://github.com/MathFoundationRL/Book-Mathmatical-Foundation-of-Reinforcement-Learning.git)"
   ]
  },
  {
   "cell_type": "code",
   "execution_count": 1,
   "metadata": {},
   "outputs": [
    {
     "name": "stdout",
     "output_type": "stream",
     "text": [
      "I:[[1. 0. 0. 0.]\n",
      " [0. 1. 0. 0.]\n",
      " [0. 0. 1. 0.]\n",
      " [0. 0. 0. 1.]]\n",
      "gamma0.14471789883353492\n",
      "P:[[1. 1. 1. 1.]\n",
      " [1. 1. 1. 1.]\n",
      " [1. 1. 1. 1.]\n",
      " [1. 1. 1. 1.]]\n",
      "r:[1 0 0 0]\n",
      "pi:[[0. 0. 0. 1.]\n",
      " [0. 0. 1. 0.]\n",
      " [0. 1. 0. 0.]\n",
      " [1. 0. 0. 0.]]\n"
     ]
    }
   ],
   "source": [
    "import numpy as np\n",
    "n = 4\n",
    "I = np.identity(n)\n",
    "print(f\"I:{I}\")\n",
    "\n",
    "gamma = np.random.uniform(0,1)\n",
    "print(f'gamma{gamma}')\n",
    "\n",
    "P = np.ones((n,n))\n",
    "# for i in range(n):\n",
    "#     single_step = abs(np.random.randn(1,n))\n",
    "#     second = single_step/single_step.sum()\n",
    "#     P[i]=second\n",
    "# P = np.random.random_integers(0,1,size=n*n).reshape((n,n))\n",
    "print(f\"P:{P}\")\n",
    "r = np.array([1,0,0,0])#np.random.normal(0,10,n)\n",
    "print(f\"r:{r}\")\n",
    "\n",
    "# pi = np.zeros((n,n))\n",
    "# for i in range(n): \n",
    "#     single_tep = abs(np.random.normal(0.1,1,n))\n",
    "#     second = single_tep/single_tep.sum()\n",
    "#     pi[i]= second \n",
    "\n",
    "single_step = np.identity(n)\n",
    "np.random.shuffle(single_step)\n",
    "pi = single_step    \n",
    "print(f\"pi:{pi}\")"
   ]
  },
  {
   "cell_type": "code",
   "execution_count": 2,
   "metadata": {},
   "outputs": [
    {
     "data": {
      "text/plain": [
       "array([0., 0., 0., 1.])"
      ]
     },
     "execution_count": 2,
     "metadata": {},
     "output_type": "execute_result"
    }
   ],
   "source": [
    "pi.dot(r)"
   ]
  },
  {
   "cell_type": "markdown",
   "metadata": {},
   "source": [
    "矩阵解析法"
   ]
  },
  {
   "cell_type": "code",
   "execution_count": 3,
   "metadata": {},
   "outputs": [
    {
     "name": "stdout",
     "output_type": "stream",
     "text": [
      "r_pi:[0. 0. 0. 1.]\n",
      "CPU times: user 2 µs, sys: 1 µs, total: 3 µs\n",
      "Wall time: 3.81 µs\n"
     ]
    },
    {
     "data": {
      "text/plain": [
       "array([0.1478136 , 0.        , 0.        , 1.02139127])"
      ]
     },
     "execution_count": 3,
     "metadata": {},
     "output_type": "execute_result"
    }
   ],
   "source": [
    "P_pi = P*pi\n",
    "r_pi = r.dot(pi)\n",
    "print(f\"r_pi:{r_pi}\")\n",
    "v_pi = np.linalg.inv(I-gamma*P_pi).dot(r_pi)\n",
    "%time v_pi"
   ]
  },
  {
   "cell_type": "markdown",
   "metadata": {},
   "source": [
    "验证v是否正确"
   ]
  },
  {
   "cell_type": "code",
   "execution_count": 4,
   "metadata": {},
   "outputs": [
    {
     "data": {
      "text/plain": [
       "array([0.1478136 , 0.        , 0.        , 1.02139127])"
      ]
     },
     "execution_count": 4,
     "metadata": {},
     "output_type": "execute_result"
    }
   ],
   "source": [
    "v_pi = (r.dot(pi))+(gamma*(P*pi).dot(v_pi))\n",
    "v_pi"
   ]
  },
  {
   "cell_type": "markdown",
   "metadata": {},
   "source": [
    "迭代法求state value"
   ]
  },
  {
   "cell_type": "code",
   "execution_count": 5,
   "metadata": {},
   "outputs": [
    {
     "name": "stdout",
     "output_type": "stream",
     "text": [
      "CPU times: user 2 µs, sys: 1 µs, total: 3 µs\n",
      "Wall time: 3.58 µs\n"
     ]
    },
    {
     "data": {
      "text/plain": [
       "(array([0.1447179, 0.       , 0.       , 1.       ]), 1)"
      ]
     },
     "execution_count": 5,
     "metadata": {},
     "output_type": "execute_result"
    }
   ],
   "source": [
    "dim_of_v = v_pi.size\n",
    "vpi0 = np.full((dim_of_v),0)\n",
    "max_iter = 10000\n",
    "histroy_v_pi = np.zeros((max_iter+1,dim_of_v))\n",
    "for i in range(0,max_iter):\n",
    "    if i ==0:\n",
    "        v_pi_k = vpi0\n",
    "    P_pi = P*pi\n",
    "    r_pi = r.dot(pi)\n",
    "    v_pi_k1 = r_pi + gamma * P_pi.dot(v_pi_k)\n",
    "    # print(v_pi_k)\n",
    "    v_pi_k = v_pi_k1\n",
    "    histroy_v_pi[i+1] = v_pi_k\n",
    "    if (histroy_v_pi[i+1][-1]-histroy_v_pi[i])[-1]==0 :\n",
    "        break\n",
    "%time v_pi_k,i"
   ]
  },
  {
   "cell_type": "markdown",
   "metadata": {},
   "source": [
    "#### 整理成 contractive function 求state value"
   ]
  },
  {
   "cell_type": "code",
   "execution_count": 6,
   "metadata": {},
   "outputs": [
    {
     "name": "stdout",
     "output_type": "stream",
     "text": [
      "CPU times: user 539 µs, sys: 110 µs, total: 649 µs\n",
      "Wall time: 458 µs\n"
     ]
    },
    {
     "data": {
      "text/plain": [
       "(array([0.1478136 , 0.        , 0.        , 1.02139127]), 19)"
      ]
     },
     "execution_count": 6,
     "metadata": {},
     "output_type": "execute_result"
    }
   ],
   "source": [
    "def Vpi(v_pi_k,pi,r,gamma,P):\n",
    "    P_pi = P*pi\n",
    "    r_pi = r.dot(pi)\n",
    "    v_pi_k1 = r_pi  + gamma * P_pi.dot(v_pi_k)\n",
    "    return v_pi_k1\n",
    "\n",
    "def cotraction_mapping_for_Vpi1(pi,r,gamma,P,max_iter=10000):\n",
    "    dim_of_v = r.size\n",
    "    vpi0 = np.full(dim_of_v,0)\n",
    "    #histroy_v_pi = np.zeros((max_iter+1,dim_of_v))\n",
    "    for i in range(0,max_iter):\n",
    "        if i ==0:\n",
    "            v_pi_k = vpi0\n",
    "        v_pi_k1 = Vpi(v_pi_k,pi,r,gamma,P)\n",
    "        v_pi_k = v_pi_k1\n",
    "        histroy_v_pi[i+1] = v_pi_k\n",
    "        if (Vpi(v_pi_k,pi,r,gamma,P)-v_pi_k).sum()==0:\n",
    "            break\n",
    "        # if (histroy_v_pi[i+1]-histroy_v_pi[i]).sum()==0 :\n",
    "        #     print(Vpi_k(v_pi_k,pi,r,gamma,P))\n",
    "            break\n",
    "#  \n",
    "    return v_pi_k,i\n",
    "\n",
    "def cotraction_mapping_for_Vpi2(pi,r,gamma,P,max_iter=10000):\n",
    "    dim_of_v = r.size\n",
    "    vpi0 = np.full(dim_of_v,0)\n",
    "    histroy_v_pi = np.zeros((max_iter+1,dim_of_v))\n",
    "    for i in range(0,max_iter):\n",
    "        if i ==0:\n",
    "            v_pi_k = vpi0\n",
    "        v_pi_k1 = Vpi(v_pi_k,pi,r,gamma,P)\n",
    "        v_pi_k = v_pi_k1\n",
    "        histroy_v_pi[i+1] = v_pi_k\n",
    "        # if (Vpi(v_pi_k,pi,r,gamma,P)-v_pi_k).sum()==0:\n",
    "        #     break\n",
    "        if (histroy_v_pi[i+1]-histroy_v_pi[i]).sum()==0 :\n",
    "            # print(Vpi(v_pi_k,pi,r,gamma,P))\n",
    "            break\n",
    "#  \n",
    "    return v_pi_k,i\n",
    "\n",
    "%time cotraction_mapping_for_Vpi1(pi,r,gamma,P)"
   ]
  },
  {
   "cell_type": "code",
   "execution_count": 7,
   "metadata": {},
   "outputs": [
    {
     "name": "stdout",
     "output_type": "stream",
     "text": [
      "CPU times: user 496 µs, sys: 103 µs, total: 599 µs\n",
      "Wall time: 405 µs\n"
     ]
    },
    {
     "data": {
      "text/plain": [
       "(array([0.1478136 , 0.        , 0.        , 1.02139127]), 20)"
      ]
     },
     "execution_count": 7,
     "metadata": {},
     "output_type": "execute_result"
    }
   ],
   "source": [
    "%time cotraction_mapping_for_Vpi2(pi,r,gamma,P)"
   ]
  },
  {
   "cell_type": "markdown",
   "metadata": {},
   "source": [
    "### 求解 $q_{k}(s,a)$\n",
    "### $$ q_{k}(s,a) = \\sum_{r} p(r|s,a) r + \\gamma \\sum_{s^{'}} p(s^{'} | s,a ) v_{k}(s^{'}) $$\n",
    "![](./images/q_table的例子1.png)\n",
    "![](./images/q_table的例子2.png)\n",
    "### 设 $ k=1，v0 = 1，\\gamma = 0.9 $\n",
    "### $ q(s1,a_{l} ) = -1+0.9*1 = -0.1$\n",
    "![](./images/q_table的例子3.png)\n"
   ]
  },
  {
   "cell_type": "code",
   "execution_count": 8,
   "metadata": {},
   "outputs": [],
   "source": [
    "import numpy as np\n"
   ]
  },
  {
   "cell_type": "code",
   "execution_count": null,
   "metadata": {},
   "outputs": [],
   "source": []
  },
  {
   "cell_type": "markdown",
   "metadata": {},
   "source": [
    "#### 求贝尔曼最优的$\\pi$"
   ]
  },
  {
   "cell_type": "code",
   "execution_count": null,
   "metadata": {},
   "outputs": [],
   "source": []
  },
  {
   "cell_type": "code",
   "execution_count": 9,
   "metadata": {},
   "outputs": [],
   "source": [
    "\n",
    "\n",
    "# vk= (r.dot(pi))+(gamma*P.dot(pi).dot(v_pi))\n",
    "# print(f\"v_pi:{v_pi}\")\n",
    "\n",
    "# def pi_func(pi,r,gamma,P,v_pi_k):\n",
    "#     P_pi = P*pi\n",
    "#     r_pi = r.dot(pi)\n",
    "#     v_pi_k1 = r_pi  + gamma * P_pi.dot(v_pi_k)\n",
    "#     return v_pi_k,i\n",
    "\n",
    "\n",
    "# def solve_pi(r,gamma,P,vk):\n",
    "#     pi0 = np.ones_like(P)\n",
    "#     dim = r.size\n",
    "#     pi0 = np.ones_like(P)/n\n",
    "#     histroy_pi = np.zeros((max_iter+1,dim))\n",
    "#     for i in range(0,max_iter):\n",
    "#         if i ==0:\n",
    "#             pi_k = pi0\n",
    "#         pi_k1 = pi_func(pi,r,gamma,P,vk)\n",
    "#         pi_k = pi_k1\n",
    "\n",
    "#     # qk ,i = cotraction_mapping_for_Vpi2(pi,r,gamma,P)\n",
    "#     #solve_pi = np.where(qk==qk.max(),True,False).astype(int)\n",
    "#     return pi_k1\n",
    "\n",
    "# pi = solve_pi(pi,gamma,P,vk)\n",
    "# pi\n"
   ]
  },
  {
   "cell_type": "code",
   "execution_count": null,
   "metadata": {},
   "outputs": [],
   "source": []
  },
  {
   "cell_type": "code",
   "execution_count": 10,
   "metadata": {},
   "outputs": [
    {
     "data": {
      "text/plain": [
       "array([0.0030957 , 0.        , 0.        , 0.02139127])"
      ]
     },
     "execution_count": 10,
     "metadata": {},
     "output_type": "execute_result"
    }
   ],
   "source": [
    "v_pi -v_pi_k"
   ]
  },
  {
   "cell_type": "code",
   "execution_count": 11,
   "metadata": {},
   "outputs": [
    {
     "data": {
      "text/plain": [
       "array([0., 0., 0., 1.])"
      ]
     },
     "execution_count": 11,
     "metadata": {},
     "output_type": "execute_result"
    }
   ],
   "source": [
    "histroy_v_pi[i]"
   ]
  },
  {
   "cell_type": "markdown",
   "metadata": {},
   "source": [
    "#### 这个函数之所以起作用，就是因为他是一个contraction mapping,以下再用一个简单的函数证实它"
   ]
  },
  {
   "cell_type": "code",
   "execution_count": 12,
   "metadata": {},
   "outputs": [
    {
     "data": {
      "text/plain": [
       "(0.0, 1012)"
      ]
     },
     "execution_count": 12,
     "metadata": {},
     "output_type": "execute_result"
    }
   ],
   "source": [
    "def f(x):\n",
    "    return x*np.sin(0.5)\n",
    "\n",
    "xn = 10000\n",
    "x0 = 1\n",
    "histroy_xk = np.zeros(xn+1)\n",
    "for i in range(xn):\n",
    "    if i == 0:\n",
    "        x = x0\n",
    "    x_k1 = f(x)\n",
    "    x = x_k1\n",
    "    \n",
    "    histroy_xk[i]=x\n",
    "    if f(x) == x:\n",
    "        break\n",
    "    # if abs(histroy_xk[-1]-histroy_xk[-2])==0:\n",
    "    #     break    \n",
    "x_k1,i\n",
    "    "
   ]
  },
  {
   "cell_type": "markdown",
   "metadata": {},
   "source": [
    "def f(x)"
   ]
  },
  {
   "cell_type": "markdown",
   "metadata": {},
   "source": []
  }
 ],
 "metadata": {
  "kernelspec": {
   "display_name": "Python 3 (ipykernel)",
   "language": "python",
   "name": "python3"
  },
  "language_info": {
   "codemirror_mode": {
    "name": "ipython",
    "version": 3
   },
   "file_extension": ".py",
   "mimetype": "text/x-python",
   "name": "python",
   "nbconvert_exporter": "python",
   "pygments_lexer": "ipython3",
   "version": "3.8.10"
  }
 },
 "nbformat": 4,
 "nbformat_minor": 4
}
