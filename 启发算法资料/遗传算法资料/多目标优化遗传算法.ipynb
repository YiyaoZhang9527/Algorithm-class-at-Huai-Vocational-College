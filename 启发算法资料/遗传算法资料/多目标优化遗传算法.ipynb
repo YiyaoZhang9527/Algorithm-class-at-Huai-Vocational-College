{
 "cells": [
  {
   "cell_type": "markdown",
   "metadata": {},
   "source": [
    "###  https://pymoo.org/getting_started/part_2.html"
   ]
  },
  {
   "cell_type": "code",
   "execution_count": 596,
   "metadata": {},
   "outputs": [],
   "source": [
    "import numpy as np\n",
    "from pymoo.core.problem import ElementwiseProblem\n",
    "\n",
    "class MyProblem(ElementwiseProblem):\n",
    "\n",
    "    def __init__(self):\n",
    "        super().__init__(n_var=2, # X 变量数量\n",
    "                         n_obj=2, # f 问题数\n",
    "                         n_ieq_constr=1,# g 约束条件数量\n",
    "                         xl=np.array([-2,-2]), # X 自变量下限\n",
    "                         xu=np.array([2,2])# X 自变量上限\n",
    "                         ) \n",
    "\n",
    "    def _evaluate(self, x, out, *args, **kwargs):\n",
    "        # 待求解函数 \n",
    "        f1 = np.cos(x[0]+x[1]) #100 * (x[0]**2 + x[1]**2) \n",
    "        f2 = np.sin(x[0]-x[1]) #(x[0]-1)**2 + x[1]**2\n",
    "        # f3 = (abs(x[0])<0.3)+(abs(x[1])<0.5)\n",
    "\n",
    "        # 约束条件会选择 <= 0 的选择\n",
    "        # g1 = 2*(x[0]-0.1) * (x[0]-0.9) / 0.18\n",
    "        # g2 = - 20*(x[0]-0.4) * (x[0]-0.6) / 4.8\n",
    "        # g3 = ((x[0]**2)<0.5)+((x[1]**2)>0.3)\n",
    "        g3 = x[0]-0.7 #+(abs(x[1])<0.3)\n",
    "\n",
    "        out[\"F\"] = [f1, f2] #待求解问题\n",
    "        #out[\"G\"] = [g1, g2,g3] #约束条件\n",
    "        out[\"G\"] = [g3] #约束条件\n",
    "\n",
    "\n",
    "problem = MyProblem()"
   ]
  },
  {
   "cell_type": "markdown",
   "metadata": {},
   "source": [
    "* 您之所以意识到这个框架，可能是因为存在您喜欢使用的算法。 pymoo 遵循面向对象的方法，因此，我们接下来必须定义一个算法对象。根据优化问题的不同，不同的算法在不同类型的问题上会表现得更好或更差。建议首先了解算法背后的直觉，然后选择最适合解决您的优化问题的算法。 pymoo 中可用的算法列表可在此处找到。\n",
    "\n",
    "* 在我们的例子中，优化问题相当简单，但应该考虑有两个目标和两个约束的方面。因此，让我们选择著名的多目标算法[NSGA-II](../algorithms/moo/nsga2.ipynb)。对于大多数算法，您可以选择默认的超参数，也可以通过修改它们来创建您自己的算法版本。例如，对于这个相对简单的问题，我们选择人口规模为 40 (`pop_size=40`)，并且每代中只有 10 (`n_offsprings=10`)。这种实现是一种贪婪的变体，可以提高更简单优化问题的收敛性，而不会出现优化方面的重大困难，例如局部帕累托前沿的存在。此外，我们启用重复检查（“eliminate_duplicates=True”），确保交配产生的后代在设计空间值方面与自身和现有种群不同。"
   ]
  },
  {
   "cell_type": "code",
   "execution_count": 597,
   "metadata": {},
   "outputs": [],
   "source": [
    "from pymoo.algorithms.moo.nsga2 import NSGA2\n",
    "from pymoo.operators.crossover.sbx import SBX\n",
    "from pymoo.operators.mutation.pm import PM\n",
    "from pymoo.operators.sampling.rnd import FloatRandomSampling,IntegerRandomSampling\n",
    "\n",
    "algorithm = NSGA2(\n",
    "    pop_size=90, # z种群数量\n",
    "    n_offsprings=100, # 每代的数量\n",
    "    sampling= FloatRandomSampling(), #抽样设置\n",
    "     #交叉配对\n",
    "    crossover=SBX(prob=0.9 #交叉配对概率\n",
    "                  , eta=15),\n",
    "    #变异\n",
    "    mutation=PM(prob=0.8 #编译概率\n",
    "                ,eta=20),\n",
    "    eliminate_duplicates=True\n",
    ")"
   ]
  },
  {
   "cell_type": "markdown",
   "metadata": {},
   "source": [
    "* 此外，需要定义终止标准来启动优化过程。定义终止的最常见方法是限制函数求值的总数或简单地限制算法的迭代次数。此外，一些算法已经实现了自己的算法，例如单纯形退化时的 Nelder-Mead 或使用供应商库的 CMA-ES。由于这个问题的简单性，我们使用了相当少量的 40 次迭代算法。"
   ]
  },
  {
   "cell_type": "code",
   "execution_count": 598,
   "metadata": {},
   "outputs": [],
   "source": [
    "from pymoo.termination import get_termination\n",
    "\n",
    "termination = get_termination(\"n_gen\", 90)\n",
    "# termination = get_termination(\"nsga2\")"
   ]
  },
  {
   "cell_type": "markdown",
   "metadata": {},
   "source": [
    "* 最后，我们problem用我们定义的algorithm和来解决termination。函数式接口使用minimize方法。默认情况下，minimize执行算法和终止对象的深层复制，以保证它们在函数调用期间不会被修改。这对于确保使用相同随机种子的重复函数调用最终得到相同的结果非常重要。当算法终止时，该minimize函数返回一个Result对象。"
   ]
  },
  {
   "cell_type": "code",
   "execution_count": 599,
   "metadata": {},
   "outputs": [
    {
     "name": "stdout",
     "output_type": "stream",
     "text": [
      "==========================================================================================\n",
      "n_gen  |  n_eval  | n_nds  |     cv_min    |     cv_avg    |      eps      |   indicator  \n",
      "==========================================================================================\n",
      "     1 |       90 |      7 |  0.000000E+00 |  0.1912845192 |             - |             -\n",
      "     2 |      190 |      5 |  0.000000E+00 |  0.000000E+00 |  0.0119558463 |         ideal\n",
      "     3 |      290 |      8 |  0.000000E+00 |  0.000000E+00 |  0.0412643720 |             f\n",
      "     4 |      390 |     14 |  0.000000E+00 |  0.000000E+00 |  0.6132318573 |         nadir\n",
      "     5 |      490 |     19 |  0.000000E+00 |  0.000000E+00 |  0.7796115248 |         nadir\n",
      "     6 |      590 |     21 |  0.000000E+00 |  0.000000E+00 |  0.0014395791 |             f\n",
      "     7 |      690 |     28 |  0.000000E+00 |  0.000000E+00 |  0.0062988488 |             f\n",
      "     8 |      790 |     35 |  0.000000E+00 |  0.000000E+00 |  0.0029146602 |             f\n",
      "     9 |      890 |     32 |  0.000000E+00 |  0.000000E+00 |  5.4678928181 |         nadir\n",
      "    10 |      990 |     41 |  0.000000E+00 |  0.000000E+00 |  0.2715904563 |         nadir\n",
      "    11 |     1090 |     64 |  0.000000E+00 |  0.000000E+00 |  0.6012032254 |         nadir\n",
      "    12 |     1190 |     83 |  0.000000E+00 |  0.000000E+00 |  0.0017348467 |             f\n",
      "    13 |     1290 |     90 |  0.000000E+00 |  0.000000E+00 |  0.0027277284 |             f\n",
      "    14 |     1390 |     90 |  0.000000E+00 |  0.000000E+00 |  0.0008595479 |             f\n",
      "    15 |     1490 |     90 |  0.000000E+00 |  0.000000E+00 |  5.8088284534 |         nadir\n",
      "    16 |     1590 |     90 |  0.000000E+00 |  0.000000E+00 |  0.0026095929 |             f\n",
      "    17 |     1690 |     90 |  0.000000E+00 |  0.000000E+00 |  0.0014018829 |             f\n",
      "    18 |     1790 |     90 |  0.000000E+00 |  0.000000E+00 |  0.0023165004 |             f\n",
      "    19 |     1890 |     90 |  0.000000E+00 |  0.000000E+00 |  0.0034128420 |             f\n",
      "    20 |     1990 |     90 |  0.000000E+00 |  0.000000E+00 |  0.0011766651 |             f\n",
      "    21 |     2090 |     90 |  0.000000E+00 |  0.000000E+00 |  0.0018907630 |             f\n",
      "    22 |     2190 |     90 |  0.000000E+00 |  0.000000E+00 |  0.0029862807 |             f\n",
      "    23 |     2290 |     90 |  0.000000E+00 |  0.000000E+00 |  0.0013880585 |             f\n",
      "    24 |     2390 |     90 |  0.000000E+00 |  0.000000E+00 |  0.0021908710 |             f\n",
      "    25 |     2490 |     90 |  0.000000E+00 |  0.000000E+00 |  0.0029469893 |             f\n",
      "    26 |     2590 |     90 |  0.000000E+00 |  0.000000E+00 |  0.0009771937 |             f\n",
      "    27 |     2690 |     90 |  0.000000E+00 |  0.000000E+00 |  0.0013904146 |             f\n",
      "    28 |     2790 |     90 |  0.000000E+00 |  0.000000E+00 |  0.0020527672 |             f\n",
      "    29 |     2890 |     90 |  0.000000E+00 |  0.000000E+00 |  0.0030134207 |             f\n",
      "    30 |     2990 |     90 |  0.000000E+00 |  0.000000E+00 |  0.0015810863 |             f\n",
      "    31 |     3090 |     90 |  0.000000E+00 |  0.000000E+00 |  0.0024358182 |             f\n",
      "    32 |     3190 |     90 |  0.000000E+00 |  0.000000E+00 |  0.0028678605 |             f\n",
      "    33 |     3290 |     90 |  0.000000E+00 |  0.000000E+00 |  0.0012491298 |             f\n",
      "    34 |     3390 |     90 |  0.000000E+00 |  0.000000E+00 |  0.0022099947 |             f\n",
      "    35 |     3490 |     90 |  0.000000E+00 |  0.000000E+00 |  0.0030986210 |             f\n",
      "    36 |     3590 |     90 |  0.000000E+00 |  0.000000E+00 |  0.0015298422 |             f\n",
      "    37 |     3690 |     90 |  0.000000E+00 |  0.000000E+00 |  0.0026016543 |             f\n",
      "    38 |     3790 |     90 |  0.000000E+00 |  0.000000E+00 |  0.0007164476 |             f\n",
      "    39 |     3890 |     90 |  0.000000E+00 |  0.000000E+00 |  0.0015034644 |             f\n",
      "    40 |     3990 |     90 |  0.000000E+00 |  0.000000E+00 |  0.0023956390 |             f\n",
      "    41 |     4090 |     90 |  0.000000E+00 |  0.000000E+00 |  0.0031078205 |             f\n",
      "    42 |     4190 |     90 |  0.000000E+00 |  0.000000E+00 |  0.0009463026 |             f\n",
      "    43 |     4290 |     90 |  0.000000E+00 |  0.000000E+00 |  0.0016350293 |             f\n",
      "    44 |     4390 |     90 |  0.000000E+00 |  0.000000E+00 |  0.0025244717 |             f\n",
      "    45 |     4490 |     90 |  0.000000E+00 |  0.000000E+00 |  0.0011254061 |             f\n",
      "    46 |     4590 |     90 |  0.000000E+00 |  0.000000E+00 |  0.0017366205 |             f\n",
      "    47 |     4690 |     90 |  0.000000E+00 |  0.000000E+00 |  0.0026007357 |             f\n",
      "    48 |     4790 |     90 |  0.000000E+00 |  0.000000E+00 |  0.0008121179 |             f\n",
      "    49 |     4890 |     90 |  0.000000E+00 |  0.000000E+00 |  0.0013534518 |             f\n",
      "    50 |     4990 |     90 |  0.000000E+00 |  0.000000E+00 |  0.0023572447 |             f\n",
      "    51 |     5090 |     90 |  0.000000E+00 |  0.000000E+00 |  0.0027202696 |             f\n",
      "    52 |     5190 |     90 |  0.000000E+00 |  0.000000E+00 |  0.0015525631 |             f\n",
      "    53 |     5290 |     90 |  0.000000E+00 |  0.000000E+00 |  0.0018795667 |             f\n",
      "    54 |     5390 |     90 |  0.000000E+00 |  0.000000E+00 |  0.0025090533 |             f\n",
      "    55 |     5490 |     90 |  0.000000E+00 |  0.000000E+00 |  0.0008492440 |             f\n",
      "    56 |     5590 |     90 |  0.000000E+00 |  0.000000E+00 |  0.0012521460 |             f\n",
      "    57 |     5690 |     90 |  0.000000E+00 |  0.000000E+00 |  0.0020964091 |             f\n",
      "    58 |     5790 |     90 |  0.000000E+00 |  0.000000E+00 |  0.0027265064 |             f\n",
      "    59 |     5890 |     90 |  0.000000E+00 |  0.000000E+00 |  0.0013537854 |             f\n",
      "    60 |     5990 |     90 |  0.000000E+00 |  0.000000E+00 |  0.0020205855 |             f\n",
      "    61 |     6090 |     90 |  0.000000E+00 |  0.000000E+00 |  0.0026933815 |             f\n",
      "    62 |     6190 |     90 |  0.000000E+00 |  0.000000E+00 |  0.0012588396 |             f\n",
      "    63 |     6290 |     90 |  0.000000E+00 |  0.000000E+00 |  0.0017864078 |             f\n",
      "    64 |     6390 |     90 |  0.000000E+00 |  0.000000E+00 |  0.0017469226 |             f\n",
      "    65 |     6490 |     90 |  0.000000E+00 |  0.000000E+00 |  0.0025747234 |             f\n",
      "    66 |     6590 |     90 |  0.000000E+00 |  0.000000E+00 |  0.0011911730 |             f\n",
      "    67 |     6690 |     90 |  0.000000E+00 |  0.000000E+00 |  0.0025477414 |             f\n",
      "    68 |     6790 |     90 |  0.000000E+00 |  0.000000E+00 |  0.0018740388 |             f\n",
      "    69 |     6890 |     90 |  0.000000E+00 |  0.000000E+00 |  0.0024249792 |             f\n",
      "    70 |     6990 |     90 |  0.000000E+00 |  0.000000E+00 |  0.0026953809 |             f\n",
      "    71 |     7090 |     90 |  0.000000E+00 |  0.000000E+00 |  0.0014236433 |             f\n",
      "    72 |     7190 |     90 |  0.000000E+00 |  0.000000E+00 |  0.0019717168 |             f\n",
      "    73 |     7290 |     90 |  0.000000E+00 |  0.000000E+00 |  0.0027108037 |             f\n",
      "    74 |     7390 |     90 |  0.000000E+00 |  0.000000E+00 |  0.0015386232 |             f\n",
      "    75 |     7490 |     90 |  0.000000E+00 |  0.000000E+00 |  0.0023407650 |             f\n",
      "    76 |     7590 |     90 |  0.000000E+00 |  0.000000E+00 |  0.0030043826 |             f\n",
      "    77 |     7690 |     90 |  0.000000E+00 |  0.000000E+00 |  0.0013607318 |             f\n",
      "    78 |     7790 |     90 |  0.000000E+00 |  0.000000E+00 |  0.0021975755 |             f\n",
      "    79 |     7890 |     90 |  0.000000E+00 |  0.000000E+00 |  0.0030429961 |             f\n",
      "    80 |     7990 |     90 |  0.000000E+00 |  0.000000E+00 |  0.0011290643 |             f\n",
      "    81 |     8090 |     90 |  0.000000E+00 |  0.000000E+00 |  0.0021759765 |             f\n",
      "    82 |     8190 |     90 |  0.000000E+00 |  0.000000E+00 |  0.0027292431 |             f\n",
      "    83 |     8290 |     90 |  0.000000E+00 |  0.000000E+00 |  0.0012013835 |             f\n",
      "    84 |     8390 |     90 |  0.000000E+00 |  0.000000E+00 |  0.0020021881 |             f\n",
      "    85 |     8490 |     90 |  0.000000E+00 |  0.000000E+00 |  0.0026974046 |             f\n",
      "    86 |     8590 |     90 |  0.000000E+00 |  0.000000E+00 |  0.0012329003 |             f\n",
      "    87 |     8690 |     90 |  0.000000E+00 |  0.000000E+00 |  0.0022959466 |             f\n",
      "    88 |     8790 |     90 |  0.000000E+00 |  0.000000E+00 |  0.0029822003 |             f\n",
      "    89 |     8890 |     90 |  0.000000E+00 |  0.000000E+00 |  0.0013551997 |             f\n",
      "    90 |     8990 |     90 |  0.000000E+00 |  0.000000E+00 |  0.0024111791 |             f\n"
     ]
    }
   ],
   "source": [
    "from pymoo.optimize import minimize\n",
    "\n",
    "res = minimize(problem,\n",
    "               algorithm,\n",
    "               termination,\n",
    "               seed=1,\n",
    "               save_history=True,\n",
    "               verbose=True)\n",
    "\n",
    "X = res.X\n",
    "F = res.F"
   ]
  },
  {
   "cell_type": "code",
   "execution_count": 600,
   "metadata": {},
   "outputs": [
    {
     "data": {
      "text/plain": [
       "array([[-1.9892955 , -1.15229969],\n",
       "       [-1.93118763, -0.3603872 ],\n",
       "       [-2.        , -0.42941113],\n",
       "       [-1.9321642 , -0.36149768],\n",
       "       [-1.99998524, -0.68401365],\n",
       "       [-1.99999769, -0.70328614],\n",
       "       [-2.        , -0.91270829],\n",
       "       [-1.99999999, -0.97219159],\n",
       "       [-2.        , -0.72069179],\n",
       "       [-1.99969111, -1.1419944 ],\n",
       "       [-1.98932828, -1.15229969],\n",
       "       [-1.99999981, -0.44998962],\n",
       "       [-2.        , -1.04954022],\n",
       "       [-1.99999999, -0.90119233],\n",
       "       [-2.        , -1.06707356],\n",
       "       [-1.99999973, -0.98784605],\n",
       "       [-2.        , -0.61526221],\n",
       "       [-1.99999979, -0.67016928],\n",
       "       [-1.99999868, -0.9245961 ],\n",
       "       [-2.        , -0.65137489],\n",
       "       [-1.99999995, -0.60017981],\n",
       "       [-1.9999997 , -0.62957026],\n",
       "       [-2.        , -0.73529463],\n",
       "       [-1.99999978, -0.55993718],\n",
       "       [-1.99999982, -0.71066274],\n",
       "       [-1.99999997, -0.43360606],\n",
       "       [-2.        , -0.6428753 ],\n",
       "       [-1.99999996, -0.57144752],\n",
       "       [-2.        , -0.8587619 ],\n",
       "       [-1.99999137, -0.47407973],\n",
       "       [-1.99914079, -0.89309151],\n",
       "       [-2.        , -1.0111669 ],\n",
       "       [-1.99999985, -1.01861581],\n",
       "       [-1.99999941, -0.54435971],\n",
       "       [-1.99999966, -0.81173993],\n",
       "       [-1.99999995, -0.60889591],\n",
       "       [-1.99993179, -0.50676953],\n",
       "       [-1.99998746, -1.12243975],\n",
       "       [-2.        , -0.58980428],\n",
       "       [-1.99999949, -1.09082472],\n",
       "       [-1.99999984, -1.04695866],\n",
       "       [-2.        , -1.09792909],\n",
       "       [-1.99999983, -1.07500299],\n",
       "       [-1.99998705, -0.78815789],\n",
       "       [-1.99999973, -0.58458778],\n",
       "       [-1.99999998, -0.48262089],\n",
       "       [-2.        , -0.63396614],\n",
       "       [-1.99999998, -0.88674694],\n",
       "       [-1.99999979, -0.45976786],\n",
       "       [-2.        , -0.66160501],\n",
       "       [-2.        , -0.94946316],\n",
       "       [-1.99999769, -0.46471189],\n",
       "       [-2.        , -0.74696472],\n",
       "       [-1.99998828, -1.10878938],\n",
       "       [-2.        , -0.79633542],\n",
       "       [-2.        , -1.10297598],\n",
       "       [-1.99984566, -0.95966656],\n",
       "       [-1.99999999, -0.73830017],\n",
       "       [-1.99999998, -0.52691045],\n",
       "       [-2.        , -1.13460136],\n",
       "       [-1.99999858, -1.0327943 ],\n",
       "       [-1.99998534, -0.48884086],\n",
       "       [-2.        , -0.83284264],\n",
       "       [-1.99999973, -0.96492158],\n",
       "       [-2.        , -1.03714775],\n",
       "       [-1.9999998 , -0.76332909],\n",
       "       [-1.99999952, -0.87824954],\n",
       "       [-1.9999989 , -0.53541763],\n",
       "       [-1.99999988, -0.84219386],\n",
       "       [-2.        , -0.51740773],\n",
       "       [-2.        , -0.87141069],\n",
       "       [-1.99999994, -0.80337588],\n",
       "       [-1.99979727, -1.00268027],\n",
       "       [-1.99999999, -0.85158489],\n",
       "       [-1.99999927, -0.81843626],\n",
       "       [-1.99999983, -0.82708412],\n",
       "       [-2.        , -1.12785854],\n",
       "       [-1.99999998, -0.8491353 ],\n",
       "       [-2.        , -0.83893945],\n",
       "       [-2.        , -0.99519443],\n",
       "       [-1.99999998, -1.11499318],\n",
       "       [-1.99915815, -0.93657026],\n",
       "       [-1.99999998, -1.08554009],\n",
       "       [-1.99969111, -1.00439253],\n",
       "       [-1.99999998, -0.88156556],\n",
       "       [-2.        , -0.75550985],\n",
       "       [-2.        , -0.7763134 ],\n",
       "       [-2.        , -0.86690386],\n",
       "       [-1.99998433, -0.93020765],\n",
       "       [-1.99999973, -1.06812725]])"
      ]
     },
     "execution_count": 600,
     "metadata": {},
     "output_type": "execute_result"
    }
   ],
   "source": [
    "X"
   ]
  },
  {
   "cell_type": "code",
   "execution_count": 606,
   "metadata": {},
   "outputs": [
    {
     "data": {
      "text/plain": [
       "<matplotlib.collections.PathCollection at 0x7fc163277190>"
      ]
     },
     "execution_count": 606,
     "metadata": {},
     "output_type": "execute_result"
    },
    {
     "data": {
      "image/png": "[encoded data removed]",
      "text/plain": [
       "<Figure size 1152x1152 with 1 Axes>"
      ]
     },
     "metadata": {
      "needs_background": "light"
     },
     "output_type": "display_data"
    }
   ],
   "source": [
    "import matplotlib.pyplot as plt \n",
    "plt.figure(figsize=(16,16))\n",
    "plt.scatter(X[:,0],X[:,-1])"
   ]
  },
  {
   "cell_type": "code",
   "execution_count": 602,
   "metadata": {},
   "outputs": [
    {
     "data": {
      "text/plain": [
       "(90, 2)"
      ]
     },
     "execution_count": 602,
     "metadata": {},
     "output_type": "execute_result"
    }
   ],
   "source": [
    "F.shape"
   ]
  },
  {
   "cell_type": "code",
   "execution_count": 608,
   "metadata": {},
   "outputs": [
    {
     "data": {
      "text/plain": [
       "<matplotlib.collections.PathCollection at 0x7fc1671a3ca0>"
      ]
     },
     "execution_count": 608,
     "metadata": {},
     "output_type": "execute_result"
    },
    {
     "data": {
      "image/png": "[encoded data removed]",
      "text/plain": [
       "<Figure size 1152x648 with 1 Axes>"
      ]
     },
     "metadata": {
      "needs_background": "light"
     },
     "output_type": "display_data"
    }
   ],
   "source": [
    "import matplotlib.pyplot as plt \n",
    "plt.figure(figsize=(16,9))\n",
    "plt.scatter(F[:,0],F[:,-1])"
   ]
  },
  {
   "cell_type": "code",
   "execution_count": 604,
   "metadata": {},
   "outputs": [],
   "source": [
    "import numpy as np\n",
    "from pymoo.factory import get_algorithm,get_problem\n",
    "from pymoo.optimize import minimize\n",
    "\n",
    "#\n",
    "class MyProblem:\n",
    "    def __init__(self):\n",
    "        self.n_var = 2\n",
    "        "
   ]
  },
  {
   "cell_type": "code",
   "execution_count": 605,
   "metadata": {},
   "outputs": [
    {
     "data": {
      "text/plain": [
       "<pymoo.visualization.scatter.Scatter at 0x7fc17e9d5d00>"
      ]
     },
     "execution_count": 605,
     "metadata": {},
     "output_type": "execute_result"
    },
    {
     "data": {
      "image/png": "[encoded data removed]",
      "text/plain": [
       "<Figure size 576x432 with 1 Axes>"
      ]
     },
     "metadata": {
      "needs_background": "light"
     },
     "output_type": "display_data"
    }
   ],
   "source": [
    "from pymoo.algorithms.moo.nsga2 import NSGA2\n",
    "from pymoo.problems import get_problem\n",
    "from pymoo.operators.crossover.pntx import TwoPointCrossover\n",
    "from pymoo.operators.mutation.bitflip import BitflipMutation\n",
    "from pymoo.operators.sampling.rnd import BinaryRandomSampling\n",
    "from pymoo.optimize import minimize\n",
    "from pymoo.visualization.scatter import Scatter\n",
    "\n",
    "problem = get_problem(\"zdt5\")\n",
    "\n",
    "algorithm = NSGA2(pop_size=100,\n",
    "                  sampling=BinaryRandomSampling(),\n",
    "                  crossover=TwoPointCrossover(),\n",
    "                  mutation=BitflipMutation(),\n",
    "                  eliminate_duplicates=True)\n",
    "\n",
    "res = minimize(problem,\n",
    "               algorithm,\n",
    "               ('n_gen', 500),\n",
    "               seed=1,\n",
    "               verbose=False)\n",
    "\n",
    "Scatter().add(res.F).show()"
   ]
  }
 ],
 "metadata": {
  "kernelspec": {
   "display_name": "TS_ENV_38_add_AKshare",
   "language": "python",
   "name": "python3"
  },
  "language_info": {
   "codemirror_mode": {
    "name": "ipython",
    "version": 3
   },
   "file_extension": ".py",
   "mimetype": "text/x-python",
   "name": "python",
   "nbconvert_exporter": "python",
   "pygments_lexer": "ipython3",
   "version": "3.8.18"
  },
  "orig_nbformat": 4
 },
 "nbformat": 4,
 "nbformat_minor": 2
}
