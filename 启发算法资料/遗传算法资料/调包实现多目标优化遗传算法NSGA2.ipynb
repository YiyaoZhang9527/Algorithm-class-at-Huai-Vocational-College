{
 "cells": [
  {
   "cell_type": "markdown",
   "metadata": {},
   "source": [
    "###  https://pymoo.org/getting_started/part_2.html"
   ]
  },
  {
   "cell_type": "code",
   "execution_count": 1,
   "metadata": {},
   "outputs": [],
   "source": [
    "import numpy as np\n",
    "from pymoo.core.problem import ElementwiseProblem\n",
    "\n",
    "class MyProblem(ElementwiseProblem):\n",
    "\n",
    "    def __init__(self):\n",
    "        super().__init__(n_var=2, # X 变量数量\n",
    "                         n_obj=2, # f 问题数\n",
    "                         n_ieq_constr=1,# g 约束条件数量\n",
    "                         xl=np.array([-2,-2]), # X 自变量下限\n",
    "                         xu=np.array([2,2])# X 自变量上限\n",
    "                         ) \n",
    "\n",
    "    def _evaluate(self, x, out, *args, **kwargs):\n",
    "        # 待求解函数 \n",
    "        f1 = np.cos(x[0]+x[1]) #100 * (x[0]**2 + x[1]**2) \n",
    "        f2 = np.sin(x[0]+x[1]) #(x[0]-1)**2 + x[1]**2\n",
    "        # f3 = (abs(x[0])<0.3)+(abs(x[1])<0.5)\n",
    "\n",
    "        # 约束条件会选择 <= 0 的选择\n",
    "        # g1 = 2*(x[0]-0.1) * (x[0]-0.9) / 0.18\n",
    "        # g2 = - 20*(x[0]-0.4) * (x[0]-0.6) / 4.8\n",
    "        # g3 = ((x[0]**2)<0.5)+((x[1]**2)>0.3)\n",
    "        g3 = x[0]-0.7 #+(abs(x[1])<0.3)\n",
    "\n",
    "        out[\"F\"] = [f1, f2] #待求解问题\n",
    "        #out[\"G\"] = [g1, g2,g3] #约束条件\n",
    "        out[\"G\"] = [g3] #约束条件\n",
    "\n",
    "\n",
    "problem = MyProblem()"
   ]
  },
  {
   "cell_type": "markdown",
   "metadata": {},
   "source": [
    "* 您之所以意识到这个框架，可能是因为存在您喜欢使用的算法。 pymoo 遵循面向对象的方法，因此，我们接下来必须定义一个算法对象。根据优化问题的不同，不同的算法在不同类型的问题上会表现得更好或更差。建议首先了解算法背后的直觉，然后选择最适合解决您的优化问题的算法。 pymoo 中可用的算法列表可在此处找到。\n",
    "\n",
    "* 在我们的例子中，优化问题相当简单，但应该考虑有两个目标和两个约束的方面。因此，让我们选择著名的多目标算法[NSGA-II](../algorithms/moo/nsga2.ipynb)。对于大多数算法，您可以选择默认的超参数，也可以通过修改它们来创建您自己的算法版本。例如，对于这个相对简单的问题，我们选择人口规模为 40 (`pop_size=40`)，并且每代中只有 10 (`n_offsprings=10`)。这种实现是一种贪婪的变体，可以提高更简单优化问题的收敛性，而不会出现优化方面的重大困难，例如局部帕累托前沿的存在。此外，我们启用重复检查（“eliminate_duplicates=True”），确保交配产生的后代在设计空间值方面与自身和现有种群不同。"
   ]
  },
  {
   "cell_type": "code",
   "execution_count": 2,
   "metadata": {},
   "outputs": [],
   "source": [
    "from pymoo.algorithms.moo.nsga2 import NSGA2\n",
    "from pymoo.operators.crossover.sbx import SBX\n",
    "from pymoo.operators.mutation.pm import PM\n",
    "from pymoo.operators.sampling.rnd import FloatRandomSampling,IntegerRandomSampling,BinaryRandomSampling\n",
    "\n",
    "algorithm = NSGA2(\n",
    "    pop_size=90, # z种群数量\n",
    "    n_offsprings=100, # 每代的数量\n",
    "    sampling= FloatRandomSampling(), #抽样设置\n",
    "     #交叉配对\n",
    "    crossover=SBX(prob=0.9 #交叉配对概率\n",
    "                  , eta=15), #配对效率\n",
    "    #变异\n",
    "    mutation=PM(prob=0.8 #编译概率\n",
    "                ,eta=20),# 配对效率\n",
    "    eliminate_duplicates=True\n",
    ")"
   ]
  },
  {
   "cell_type": "markdown",
   "metadata": {},
   "source": [
    "* 此外，需要定义终止标准来启动优化过程。定义终止的最常见方法是限制函数求值的总数或简单地限制算法的迭代次数。此外，一些算法已经实现了自己的算法，例如单纯形退化时的 Nelder-Mead 或使用供应商库的 CMA-ES。由于这个问题的简单性，我们使用了相当少量的 40 次迭代算法。"
   ]
  },
  {
   "cell_type": "code",
   "execution_count": 3,
   "metadata": {},
   "outputs": [],
   "source": [
    "from pymoo.termination import get_termination\n",
    "\n",
    "termination = get_termination(\"n_gen\", 90)\n",
    "# termination = get_termination(\"nsga2\")"
   ]
  },
  {
   "cell_type": "markdown",
   "metadata": {},
   "source": [
    "* 最后，我们problem用我们定义的algorithm和来解决termination。函数式接口使用minimize方法。默认情况下，minimize执行算法和终止对象的深层复制，以保证它们在函数调用期间不会被修改。这对于确保使用相同随机种子的重复函数调用最终得到相同的结果非常重要。当算法终止时，该minimize函数返回一个Result对象。"
   ]
  },
  {
   "cell_type": "code",
   "execution_count": 4,
   "metadata": {},
   "outputs": [
    {
     "name": "stdout",
     "output_type": "stream",
     "text": [
      "==========================================================================================\n",
      "n_gen  |  n_eval  | n_nds  |     cv_min    |     cv_avg    |      eps      |   indicator  \n",
      "==========================================================================================\n",
      "     1 |       90 |     20 |  0.000000E+00 |  0.1912845192 |             - |             -\n",
      "     2 |      190 |     45 |  0.000000E+00 |  0.000000E+00 |  0.0591365027 |         nadir\n",
      "     3 |      290 |     90 |  0.000000E+00 |  0.000000E+00 |  0.0046572784 |         ideal\n",
      "     4 |      390 |     90 |  0.000000E+00 |  0.000000E+00 |  0.0291473611 |         nadir\n",
      "     5 |      490 |     90 |  0.000000E+00 |  0.000000E+00 |  0.0038821887 |             f\n",
      "     6 |      590 |     90 |  0.000000E+00 |  0.000000E+00 |  0.0078645426 |         nadir\n",
      "     7 |      690 |     90 |  0.000000E+00 |  0.000000E+00 |  0.0022837539 |             f\n",
      "     8 |      790 |     90 |  0.000000E+00 |  0.000000E+00 |  0.0038184841 |             f\n",
      "     9 |      890 |     90 |  0.000000E+00 |  0.000000E+00 |  0.0022181568 |             f\n",
      "    10 |      990 |     90 |  0.000000E+00 |  0.000000E+00 |  0.0036767248 |             f\n",
      "    11 |     1090 |     90 |  0.000000E+00 |  0.000000E+00 |  0.0025197717 |             f\n",
      "    12 |     1190 |     90 |  0.000000E+00 |  0.000000E+00 |  0.0026388181 |             f\n",
      "    13 |     1290 |     90 |  0.000000E+00 |  0.000000E+00 |  0.0025275311 |             f\n",
      "    14 |     1390 |     90 |  0.000000E+00 |  0.000000E+00 |  0.0028853686 |             f\n",
      "    15 |     1490 |     90 |  0.000000E+00 |  0.000000E+00 |  0.0028829472 |             f\n",
      "    16 |     1590 |     90 |  0.000000E+00 |  0.000000E+00 |  0.0028075800 |         nadir\n",
      "    17 |     1690 |     90 |  0.000000E+00 |  0.000000E+00 |  0.0027230242 |             f\n",
      "    18 |     1790 |     90 |  0.000000E+00 |  0.000000E+00 |  0.0030864692 |             f\n",
      "    19 |     1890 |     90 |  0.000000E+00 |  0.000000E+00 |  0.0030443860 |             f\n",
      "    20 |     1990 |     90 |  0.000000E+00 |  0.000000E+00 |  0.0026986738 |             f\n",
      "    21 |     2090 |     90 |  0.000000E+00 |  0.000000E+00 |  0.0028684728 |             f\n",
      "    22 |     2190 |     90 |  0.000000E+00 |  0.000000E+00 |  0.0020639619 |             f\n",
      "    23 |     2290 |     90 |  0.000000E+00 |  0.000000E+00 |  0.0032707711 |             f\n",
      "    24 |     2390 |     90 |  0.000000E+00 |  0.000000E+00 |  0.0025877001 |             f\n",
      "    25 |     2490 |     90 |  0.000000E+00 |  0.000000E+00 |  0.0029068333 |             f\n",
      "    26 |     2590 |     90 |  0.000000E+00 |  0.000000E+00 |  0.0024491733 |             f\n",
      "    27 |     2690 |     90 |  0.000000E+00 |  0.000000E+00 |  0.0039777632 |             f\n",
      "    28 |     2790 |     90 |  0.000000E+00 |  0.000000E+00 |  0.0024521188 |             f\n",
      "    29 |     2890 |     90 |  0.000000E+00 |  0.000000E+00 |  0.0043457655 |             f\n",
      "    30 |     2990 |     90 |  0.000000E+00 |  0.000000E+00 |  0.0024647952 |             f\n",
      "    31 |     3090 |     90 |  0.000000E+00 |  0.000000E+00 |  0.0042205120 |             f\n",
      "    32 |     3190 |     90 |  0.000000E+00 |  0.000000E+00 |  0.0023365422 |             f\n",
      "    33 |     3290 |     90 |  0.000000E+00 |  0.000000E+00 |  0.0031983244 |             f\n",
      "    34 |     3390 |     90 |  0.000000E+00 |  0.000000E+00 |  0.0025019305 |             f\n",
      "    35 |     3490 |     90 |  0.000000E+00 |  0.000000E+00 |  0.0024849468 |             f\n",
      "    36 |     3590 |     90 |  0.000000E+00 |  0.000000E+00 |  0.0035596882 |             f\n",
      "    37 |     3690 |     90 |  0.000000E+00 |  0.000000E+00 |  0.0021499159 |             f\n",
      "    38 |     3790 |     90 |  0.000000E+00 |  0.000000E+00 |  0.0037701145 |             f\n",
      "    39 |     3890 |     90 |  0.000000E+00 |  0.000000E+00 |  0.0028708323 |             f\n",
      "    40 |     3990 |     90 |  0.000000E+00 |  0.000000E+00 |  0.0031380586 |             f\n",
      "    41 |     4090 |     90 |  0.000000E+00 |  0.000000E+00 |  0.0025776408 |             f\n",
      "    42 |     4190 |     90 |  0.000000E+00 |  0.000000E+00 |  0.0025252571 |             f\n",
      "    43 |     4290 |     90 |  0.000000E+00 |  0.000000E+00 |  0.0022667312 |             f\n",
      "    44 |     4390 |     90 |  0.000000E+00 |  0.000000E+00 |  0.0039357669 |             f\n",
      "    45 |     4490 |     90 |  0.000000E+00 |  0.000000E+00 |  0.0026940247 |             f\n",
      "    46 |     4590 |     90 |  0.000000E+00 |  0.000000E+00 |  0.0022374501 |             f\n",
      "    47 |     4690 |     90 |  0.000000E+00 |  0.000000E+00 |  0.0037770692 |             f\n",
      "    48 |     4790 |     90 |  0.000000E+00 |  0.000000E+00 |  0.0026475468 |             f\n",
      "    49 |     4890 |     90 |  0.000000E+00 |  0.000000E+00 |  0.0035185826 |             f\n",
      "    50 |     4990 |     90 |  0.000000E+00 |  0.000000E+00 |  0.0026362114 |             f\n",
      "    51 |     5090 |     90 |  0.000000E+00 |  0.000000E+00 |  0.0021463424 |             f\n",
      "    52 |     5190 |     90 |  0.000000E+00 |  0.000000E+00 |  0.0035190352 |             f\n",
      "    53 |     5290 |     90 |  0.000000E+00 |  0.000000E+00 |  0.0027627236 |             f\n",
      "    54 |     5390 |     90 |  0.000000E+00 |  0.000000E+00 |  0.0025272467 |             f\n",
      "    55 |     5490 |     90 |  0.000000E+00 |  0.000000E+00 |  0.0030043879 |             f\n",
      "    56 |     5590 |     90 |  0.000000E+00 |  0.000000E+00 |  0.0023167233 |             f\n",
      "    57 |     5690 |     90 |  0.000000E+00 |  0.000000E+00 |  0.0030290617 |             f\n",
      "    58 |     5790 |     90 |  0.000000E+00 |  0.000000E+00 |  0.0024584589 |             f\n",
      "    59 |     5890 |     90 |  0.000000E+00 |  0.000000E+00 |  0.0039235797 |             f\n",
      "    60 |     5990 |     90 |  0.000000E+00 |  0.000000E+00 |  0.0030321137 |             f\n",
      "    61 |     6090 |     90 |  0.000000E+00 |  0.000000E+00 |  0.0026738148 |             f\n",
      "    62 |     6190 |     90 |  0.000000E+00 |  0.000000E+00 |  0.0021571062 |             f\n",
      "    63 |     6290 |     90 |  0.000000E+00 |  0.000000E+00 |  0.0039943928 |             f\n",
      "    64 |     6390 |     90 |  0.000000E+00 |  0.000000E+00 |  0.0032923771 |             f\n",
      "    65 |     6490 |     90 |  0.000000E+00 |  0.000000E+00 |  0.0024354269 |             f\n",
      "    66 |     6590 |     90 |  0.000000E+00 |  0.000000E+00 |  0.0035326968 |             f\n",
      "    67 |     6690 |     90 |  0.000000E+00 |  0.000000E+00 |  0.0026087179 |             f\n",
      "    68 |     6790 |     90 |  0.000000E+00 |  0.000000E+00 |  0.0020331329 |             f\n",
      "    69 |     6890 |     90 |  0.000000E+00 |  0.000000E+00 |  0.0032497593 |             f\n",
      "    70 |     6990 |     90 |  0.000000E+00 |  0.000000E+00 |  0.0033551755 |             f\n",
      "    71 |     7090 |     90 |  0.000000E+00 |  0.000000E+00 |  0.0028599750 |             f\n",
      "    72 |     7190 |     90 |  0.000000E+00 |  0.000000E+00 |  0.0022393428 |             f\n",
      "    73 |     7290 |     90 |  0.000000E+00 |  0.000000E+00 |  0.0039431613 |             f\n",
      "    74 |     7390 |     90 |  0.000000E+00 |  0.000000E+00 |  0.0019887474 |             f\n",
      "    75 |     7490 |     90 |  0.000000E+00 |  0.000000E+00 |  0.0037044614 |             f\n",
      "    76 |     7590 |     90 |  0.000000E+00 |  0.000000E+00 |  0.0027846020 |             f\n",
      "    77 |     7690 |     90 |  0.000000E+00 |  0.000000E+00 |  0.0027824864 |             f\n",
      "    78 |     7790 |     90 |  0.000000E+00 |  0.000000E+00 |  0.0024070918 |             f\n",
      "    79 |     7890 |     90 |  0.000000E+00 |  0.000000E+00 |  0.0038770703 |             f\n",
      "    80 |     7990 |     90 |  0.000000E+00 |  0.000000E+00 |  0.0026342769 |             f\n",
      "    81 |     8090 |     90 |  0.000000E+00 |  0.000000E+00 |  0.0031426093 |             f\n",
      "    82 |     8190 |     90 |  0.000000E+00 |  0.000000E+00 |  0.0030195848 |             f\n",
      "    83 |     8290 |     90 |  0.000000E+00 |  0.000000E+00 |  0.0023932000 |             f\n",
      "    84 |     8390 |     90 |  0.000000E+00 |  0.000000E+00 |  0.0037492413 |             f\n",
      "    85 |     8490 |     90 |  0.000000E+00 |  0.000000E+00 |  0.0027624307 |             f\n",
      "    86 |     8590 |     90 |  0.000000E+00 |  0.000000E+00 |  0.0024578494 |             f\n",
      "    87 |     8690 |     90 |  0.000000E+00 |  0.000000E+00 |  0.0035362237 |             f\n",
      "    88 |     8790 |     90 |  0.000000E+00 |  0.000000E+00 |  0.0027888387 |             f\n",
      "    89 |     8890 |     90 |  0.000000E+00 |  0.000000E+00 |  0.0026244418 |             f\n",
      "    90 |     8990 |     90 |  0.000000E+00 |  0.000000E+00 |  0.0026094684 |             f\n"
     ]
    }
   ],
   "source": [
    "from pymoo.optimize import minimize\n",
    "\n",
    "res = minimize(problem,\n",
    "               algorithm,\n",
    "               termination,\n",
    "               seed=1,\n",
    "               save_history=True,\n",
    "               verbose=True)\n",
    "\n",
    "X = res.X\n",
    "F = res.F"
   ]
  },
  {
   "cell_type": "code",
   "execution_count": 5,
   "metadata": {},
   "outputs": [
    {
     "data": {
      "text/plain": [
       "array([[-1.22983903, -0.3408983 ],\n",
       "       [-1.17312926, -1.9683635 ],\n",
       "       [-1.62815244, -1.25867184],\n",
       "       [-1.59459202, -1.24720921],\n",
       "       [-0.85812605, -0.86104326],\n",
       "       [ 0.14217774, -1.79408273],\n",
       "       [-1.16038493, -0.45298884],\n",
       "       [-1.30857014, -0.53215836],\n",
       "       [-0.99480251, -1.0484723 ],\n",
       "       [-1.17506923, -0.83512127],\n",
       "       [-1.12330204, -1.13340585],\n",
       "       [-1.02395611, -1.33764674],\n",
       "       [-0.99658648, -0.88776711],\n",
       "       [-0.87963539, -0.86581268],\n",
       "       [-1.59330301, -0.09593218],\n",
       "       [-1.89860429, -1.07240541],\n",
       "       [-0.92025241, -0.88515559],\n",
       "       [-1.89221588, -1.02590525],\n",
       "       [-1.15977198, -0.61984559],\n",
       "       [-1.23391136, -1.89214062],\n",
       "       [-1.08575639, -1.1960931 ],\n",
       "       [-1.8422881 , -1.17730121],\n",
       "       [-1.97907088, -0.67847822],\n",
       "       [-1.19339619, -1.30837703],\n",
       "       [-1.81657534, -0.6468284 ],\n",
       "       [-1.34872892, -1.1691978 ],\n",
       "       [-1.70461135, -1.08101794],\n",
       "       [-1.28766298, -0.92085304],\n",
       "       [-1.10488217, -1.16702018],\n",
       "       [-1.45199598, -0.92807938],\n",
       "       [-1.83785271, -0.26933177],\n",
       "       [-1.10292853, -1.0760453 ],\n",
       "       [-1.97460715, -1.02344251],\n",
       "       [-1.92346673, -1.17730121],\n",
       "       [-1.35716933, -0.9513154 ],\n",
       "       [-1.07370789, -1.16339584],\n",
       "       [-1.61844778, -0.54832033],\n",
       "       [-1.69262569, -1.29666833],\n",
       "       [-1.1205858 , -1.9683635 ],\n",
       "       [-1.32886108, -1.09105746],\n",
       "       [-0.87963539, -0.85896725],\n",
       "       [-1.17319829, -1.50153054],\n",
       "       [-1.63954555, -1.28599005],\n",
       "       [-0.92662448, -0.93538073],\n",
       "       [-1.29072744, -0.82715754],\n",
       "       [-1.72496415, -1.22313643],\n",
       "       [-1.70410919, -1.36171497],\n",
       "       [-1.57300848, -1.04123091],\n",
       "       [-1.81522276, -0.66364657],\n",
       "       [-1.28643454, -1.14856238],\n",
       "       [-1.13870379, -0.8286136 ],\n",
       "       [-1.60254074, -1.21320856],\n",
       "       [-1.3972806 , -0.68146238],\n",
       "       [-1.37242908, -0.92807938],\n",
       "       [-1.29950364, -0.37689045],\n",
       "       [-1.32237812, -1.09105746],\n",
       "       [-1.59549137, -1.35399596],\n",
       "       [-0.86920703, -1.22313643],\n",
       "       [-1.38180886, -1.34157915],\n",
       "       [-1.46024398, -1.24232167],\n",
       "       [-1.12485534, -1.47579521],\n",
       "       [-1.24917941, -1.2408934 ],\n",
       "       [-1.6174287 , -1.02798238],\n",
       "       [-1.46214609, -0.68146238],\n",
       "       [-0.89315598, -0.95504252],\n",
       "       [-1.2693953 , -1.07649403],\n",
       "       [-1.31640451, -1.32237493],\n",
       "       [-1.2414329 , -1.15952844],\n",
       "       [-1.10828403, -0.80474544],\n",
       "       [-1.06864911, -0.83165391],\n",
       "       [-1.83785271, -1.1960931 ],\n",
       "       [-1.03382957, -1.50125804],\n",
       "       [-1.81678927, -0.71106355],\n",
       "       [-1.12485534, -1.50226124],\n",
       "       [-1.14170746, -1.05251568],\n",
       "       [-0.37583973, -1.94856256],\n",
       "       [-1.19888652, -0.86892885],\n",
       "       [-1.44462396, -0.94172587],\n",
       "       [-1.57293402, -1.19861388],\n",
       "       [-1.7873066 , -1.04123091],\n",
       "       [-1.19339619, -0.74337764],\n",
       "       [-1.41439116, -0.77744839],\n",
       "       [-1.03394747, -1.65557748],\n",
       "       [-1.29621172, -0.30606688],\n",
       "       [-0.85812605, -1.09549174],\n",
       "       [-1.31640451, -1.39906326],\n",
       "       [-1.36337969, -1.03256822],\n",
       "       [-1.59459202, -1.20585082],\n",
       "       [-1.10292853, -1.02523266],\n",
       "       [-1.85491578, -0.88327578]])"
      ]
     },
     "execution_count": 5,
     "metadata": {},
     "output_type": "execute_result"
    }
   ],
   "source": [
    "X"
   ]
  },
  {
   "cell_type": "code",
   "execution_count": 6,
   "metadata": {},
   "outputs": [
    {
     "data": {
      "text/plain": [
       "<matplotlib.collections.PathCollection at 0x7fe898276b20>"
      ]
     },
     "execution_count": 6,
     "metadata": {},
     "output_type": "execute_result"
    },
    {
     "data": {
      "image/png": "[encoded data removed]",
      "text/plain": [
       "<Figure size 1152x1152 with 1 Axes>"
      ]
     },
     "metadata": {
      "needs_background": "light"
     },
     "output_type": "display_data"
    }
   ],
   "source": [
    "import matplotlib.pyplot as plt \n",
    "plt.figure(figsize=(16,16))\n",
    "plt.scatter(X[:,0],X[:,-1])"
   ]
  },
  {
   "cell_type": "code",
   "execution_count": 7,
   "metadata": {},
   "outputs": [
    {
     "data": {
      "text/plain": [
       "(90, 2)"
      ]
     },
     "execution_count": 7,
     "metadata": {},
     "output_type": "execute_result"
    }
   ],
   "source": [
    "F.shape"
   ]
  },
  {
   "cell_type": "markdown",
   "metadata": {},
   "source": [
    "## 帕累托最优前沿"
   ]
  },
  {
   "cell_type": "code",
   "execution_count": 8,
   "metadata": {},
   "outputs": [
    {
     "data": {
      "text/plain": [
       "<matplotlib.collections.PathCollection at 0x7fe898f43ac0>"
      ]
     },
     "execution_count": 8,
     "metadata": {},
     "output_type": "execute_result"
    },
    {
     "data": {
      "image/png": "[encoded data removed]",
      "text/plain": [
       "<Figure size 1152x648 with 1 Axes>"
      ]
     },
     "metadata": {
      "needs_background": "light"
     },
     "output_type": "display_data"
    }
   ],
   "source": [
    "import matplotlib.pyplot as plt \n",
    "plt.figure(figsize=(16,9))\n",
    "plt.scatter(F[:,0],F[:,-1])"
   ]
  },
  {
   "cell_type": "code",
   "execution_count": 9,
   "metadata": {},
   "outputs": [],
   "source": [
    "import numpy as np\n",
    "from pymoo.factory import get_algorithm,get_problem\n",
    "from pymoo.optimize import minimize\n",
    "\n",
    "#\n",
    "class MyProblem:\n",
    "    def __init__(self):\n",
    "        self.n_var = 2\n",
    "        "
   ]
  },
  {
   "cell_type": "code",
   "execution_count": 10,
   "metadata": {},
   "outputs": [
    {
     "data": {
      "text/plain": [
       "<pymoo.visualization.scatter.Scatter at 0x7fe894c9a1f0>"
      ]
     },
     "execution_count": 10,
     "metadata": {},
     "output_type": "execute_result"
    },
    {
     "data": {
      "image/png": "[encoded data removed]",
      "text/plain": [
       "<Figure size 576x432 with 1 Axes>"
      ]
     },
     "metadata": {
      "needs_background": "light"
     },
     "output_type": "display_data"
    }
   ],
   "source": [
    "from pymoo.algorithms.moo.nsga2 import NSGA2\n",
    "from pymoo.problems import get_problem\n",
    "from pymoo.operators.crossover.pntx import TwoPointCrossover\n",
    "from pymoo.operators.mutation.bitflip import BitflipMutation\n",
    "from pymoo.operators.sampling.rnd import BinaryRandomSampling\n",
    "from pymoo.optimize import minimize\n",
    "from pymoo.visualization.scatter import Scatter\n",
    "\n",
    "problem = get_problem(\"zdt5\")\n",
    "\n",
    "algorithm = NSGA2(pop_size=100,\n",
    "                  sampling=BinaryRandomSampling(),\n",
    "                  crossover=TwoPointCrossover(),\n",
    "                  mutation=BitflipMutation(),\n",
    "                  eliminate_duplicates=True)\n",
    "\n",
    "res = minimize(problem,\n",
    "               algorithm,\n",
    "               ('n_gen', 500),\n",
    "               seed=1,\n",
    "               verbose=False)\n",
    "\n",
    "Scatter().add(res.F).show()"
   ]
  }
 ],
 "metadata": {
  "kernelspec": {
   "display_name": "TS_ENV_38_add_AKshare",
   "language": "python",
   "name": "python3"
  },
  "language_info": {
   "codemirror_mode": {
    "name": "ipython",
    "version": 3
   },
   "file_extension": ".py",
   "mimetype": "text/x-python",
   "name": "python",
   "nbconvert_exporter": "python",
   "pygments_lexer": "ipython3",
   "version": "3.8.18"
  },
  "orig_nbformat": 4
 },
 "nbformat": 4,
 "nbformat_minor": 2
}
