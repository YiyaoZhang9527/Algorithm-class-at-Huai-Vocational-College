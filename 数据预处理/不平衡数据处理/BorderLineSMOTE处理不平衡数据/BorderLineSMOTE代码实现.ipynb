{
 "cells": [
  {
   "cell_type": "markdown",
   "id": "60242aab",
   "metadata": {},
   "source": [
    "#### BorderLine SMOTE采样\n",
    "\n",
    "* 由于多数类分布的区域往往存在一些少数类的点或异常值，此时利用SMOTE创建的新样本有时候往往不够准确，此时可以使用BorderLine Smote采样算法进行解决。\n",
    "\n",
    "* Borderline SMOTE采样过程是将少数类样本分为3类，分别为Safe、Danger和Noise，具体说明如下。\n",
    "在这里插入图片描述\n",
    "\n",
    "![jupyter](BorderLineSMOTE采样.png)\n",
    "\n",
    "* *    Safe，样本周围一半以上均为少数类样本，如图中点A\n",
    "* *    Danger：样本周围一半以上均为多数类样本，视为在边界上的样本，如图中点B\n",
    "* *    Noise：样本周围均为多数类样本，视为噪音，如图中点C\n",
    "\n",
    "* 最后，Borderline SMOTE算法仅对上述Danger的少数类样本进行过采样。\n",
    "————————————————\n",
    "版权声明：本文为CSDN博主「赵卓不凡」的原创文章，遵循CC 4.0 BY-SA版权协议，转载请附上原文出处链接及本声明。\n",
    "原文链接：https://blog.csdn.net/sgzqc/article/details/122131884"
   ]
  },
  {
   "cell_type": "markdown",
   "id": "52bcf647",
   "metadata": {},
   "source": []
  },
  {
   "cell_type": "code",
   "execution_count": 1,
   "id": "33b3bc91",
   "metadata": {},
   "outputs": [
    {
     "name": "stdout",
     "output_type": "stream",
     "text": [
      "x.shape:(150, 4),y.shape(150,)\n"
     ]
    }
   ],
   "source": [
    "from sklearn import datasets \n",
    "import numpy as np\n",
    "\n",
    "data = datasets.load_iris()\n",
    "x = data[\"data\"]\n",
    "y = data[\"target\"]\n",
    "print(f\"x.shape:{x.shape},y.shape{y.shape}\")"
   ]
  },
  {
   "cell_type": "code",
   "execution_count": 2,
   "id": "06d1f0d8",
   "metadata": {},
   "outputs": [
    {
     "name": "stdout",
     "output_type": "stream",
     "text": [
      "x_train.shape(90, 4),y_train.shape(90,)\n"
     ]
    }
   ],
   "source": [
    "from sklearn.model_selection import train_test_split\n",
    "\n",
    "x_train, x_test, y_train, y_test = train_test_split(x, y,test_size=0.4)\n",
    "\n",
    "print(f\"x_train.shape{x_train.shape},y_train.shape{y_train.shape}\")"
   ]
  },
  {
   "cell_type": "markdown",
   "id": "bb198b08",
   "metadata": {},
   "source": [
    "* 初始各类的数量"
   ]
  },
  {
   "cell_type": "code",
   "execution_count": 3,
   "id": "d82f47e1",
   "metadata": {},
   "outputs": [
    {
     "data": {
      "text/plain": [
       "{0: 27, 1: 35, 2: 28}"
      ]
     },
     "execution_count": 3,
     "metadata": {},
     "output_type": "execute_result"
    }
   ],
   "source": [
    "y_target,y_counter = np.unique(y_train,return_counts=True)\n",
    "dict(zip(y_target,y_counter))"
   ]
  },
  {
   "cell_type": "markdown",
   "id": "f8a5712b",
   "metadata": {},
   "source": [
    "* 重采样"
   ]
  },
  {
   "cell_type": "code",
   "execution_count": 4,
   "id": "6d1ca063",
   "metadata": {},
   "outputs": [
    {
     "name": "stdout",
     "output_type": "stream",
     "text": [
      "x_resample.shape:(97, 4),y_resample.shape:(97,)\n"
     ]
    }
   ],
   "source": [
    "from imblearn.over_sampling import BorderlineSMOTE\n",
    "\n",
    "smo2 = BorderlineSMOTE()\n",
    "\n",
    "x_resample,y_resample = smo2.fit_resample(x_train,y_train)\n",
    "print(f\"x_resample.shape:{x_resample.shape},y_resample.shape:{y_resample.shape}\")"
   ]
  },
  {
   "cell_type": "markdown",
   "id": "a358c572",
   "metadata": {},
   "source": [
    "* 查看重采样后的各类数量"
   ]
  },
  {
   "cell_type": "code",
   "execution_count": 5,
   "id": "358f890f",
   "metadata": {},
   "outputs": [
    {
     "data": {
      "text/plain": [
       "{0: 27, 1: 35, 2: 35}"
      ]
     },
     "execution_count": 5,
     "metadata": {},
     "output_type": "execute_result"
    }
   ],
   "source": [
    "\n",
    "y_target,y_counter = np.unique(y_resample,return_counts=True)\n",
    "dict(zip(y_target,y_counter))"
   ]
  },
  {
   "cell_type": "code",
   "execution_count": null,
   "id": "169bc619",
   "metadata": {},
   "outputs": [],
   "source": []
  },
  {
   "cell_type": "code",
   "execution_count": null,
   "id": "babc8959",
   "metadata": {},
   "outputs": [],
   "source": []
  }
 ],
 "metadata": {
  "kernelspec": {
   "display_name": "XgboostENV",
   "language": "python",
   "name": "python3"
  },
  "language_info": {
   "codemirror_mode": {
    "name": "ipython",
    "version": 3
   },
   "file_extension": ".py",
   "mimetype": "text/x-python",
   "name": "python",
   "nbconvert_exporter": "python",
   "pygments_lexer": "ipython3",
   "version": "3.7.12"
  }
 },
 "nbformat": 4,
 "nbformat_minor": 5
}
