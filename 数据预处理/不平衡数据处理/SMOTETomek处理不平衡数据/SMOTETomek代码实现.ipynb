{
 "cells": [
  {
   "cell_type": "markdown",
   "id": "60242aab",
   "metadata": {},
   "source": [
    "#### SMOTETomek (SMOTE + Tomek Links)\n",
    "\n",
    "* SMOTEENN结合SMOTE和Tomek Links进行过采样和欠采样。"
   ]
  },
  {
   "cell_type": "code",
   "execution_count": 1,
   "id": "33b3bc91",
   "metadata": {},
   "outputs": [
    {
     "name": "stdout",
     "output_type": "stream",
     "text": [
      "x.shape:(150, 4),y.shape(150,)\n"
     ]
    }
   ],
   "source": [
    "from sklearn import datasets \n",
    "import numpy as np\n",
    "\n",
    "data = datasets.load_iris()\n",
    "x = data[\"data\"]\n",
    "y = data[\"target\"]\n",
    "print(f\"x.shape:{x.shape},y.shape{y.shape}\")"
   ]
  },
  {
   "cell_type": "code",
   "execution_count": 2,
   "id": "06d1f0d8",
   "metadata": {},
   "outputs": [
    {
     "name": "stdout",
     "output_type": "stream",
     "text": [
      "x_train.shape(90, 4),y_train.shape(90,)\n"
     ]
    }
   ],
   "source": [
    "from sklearn.model_selection import train_test_split\n",
    "\n",
    "x_train, x_test, y_train, y_test = train_test_split(x, y,test_size=0.4)\n",
    "\n",
    "print(f\"x_train.shape{x_train.shape},y_train.shape{y_train.shape}\")"
   ]
  },
  {
   "cell_type": "markdown",
   "id": "bb198b08",
   "metadata": {},
   "source": [
    "* 初始各类的数量"
   ]
  },
  {
   "cell_type": "code",
   "execution_count": 3,
   "id": "d82f47e1",
   "metadata": {},
   "outputs": [
    {
     "data": {
      "text/plain": [
       "{0: 34, 1: 28, 2: 28}"
      ]
     },
     "execution_count": 3,
     "metadata": {},
     "output_type": "execute_result"
    }
   ],
   "source": [
    "y_target,y_counter = np.unique(y_train,return_counts=True)\n",
    "dict(zip(y_target,y_counter))"
   ]
  },
  {
   "cell_type": "markdown",
   "id": "f8a5712b",
   "metadata": {},
   "source": [
    "* 重采样"
   ]
  },
  {
   "cell_type": "code",
   "execution_count": 4,
   "id": "6d1ca063",
   "metadata": {},
   "outputs": [
    {
     "name": "stdout",
     "output_type": "stream",
     "text": [
      "x_resample.shape:(102, 4),y_resample.shape:(102,)\n"
     ]
    }
   ],
   "source": [
    "from imblearn.combine import SMOTETomek\n",
    "\n",
    "smotetomek = SMOTETomek()\n",
    "\n",
    "x_resample,y_resample = smotetomek.fit_resample(x_train,y_train)\n",
    "print(f\"x_resample.shape:{x_resample.shape},y_resample.shape:{y_resample.shape}\")"
   ]
  },
  {
   "cell_type": "markdown",
   "id": "a358c572",
   "metadata": {},
   "source": [
    "* 查看重采样后的各类数量"
   ]
  },
  {
   "cell_type": "code",
   "execution_count": 5,
   "id": "358f890f",
   "metadata": {},
   "outputs": [
    {
     "data": {
      "text/plain": [
       "{0: 34, 1: 34, 2: 34}"
      ]
     },
     "execution_count": 5,
     "metadata": {},
     "output_type": "execute_result"
    }
   ],
   "source": [
    "\n",
    "y_target,y_counter = np.unique(y_resample,return_counts=True)\n",
    "dict(zip(y_target,y_counter))"
   ]
  },
  {
   "cell_type": "code",
   "execution_count": null,
   "id": "169bc619",
   "metadata": {},
   "outputs": [],
   "source": []
  },
  {
   "cell_type": "code",
   "execution_count": null,
   "id": "babc8959",
   "metadata": {},
   "outputs": [],
   "source": []
  }
 ],
 "metadata": {
  "kernelspec": {
   "display_name": "XgboostENV",
   "language": "python",
   "name": "python3"
  },
  "language_info": {
   "codemirror_mode": {
    "name": "ipython",
    "version": 3
   },
   "file_extension": ".py",
   "mimetype": "text/x-python",
   "name": "python",
   "nbconvert_exporter": "python",
   "pygments_lexer": "ipython3",
   "version": "3.7.12"
  }
 },
 "nbformat": 4,
 "nbformat_minor": 5
}
