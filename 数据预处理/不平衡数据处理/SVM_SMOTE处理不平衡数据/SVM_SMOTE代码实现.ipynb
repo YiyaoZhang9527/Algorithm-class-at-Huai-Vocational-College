{
 "cells": [
  {
   "cell_type": "markdown",
   "id": "60242aab",
   "metadata": {},
   "source": [
    "#### SVM SMOTE采样\n",
    "\n",
    "* BorderLine SMOTE的另一个变体是SMOTE SVM，或者我们可以称之为SVM-SMOTE。该技术结合了SVM算法来识别误分类点。\n",
    "* 在SVM-SMOTE中，在原始训练集上训练SVM分类器后，用支持向量逼近边界区域。然后沿着将每个少数类支持向量与其若干最近邻连接起来的直线随机创建合成数据。\n",
    "————————————————\n",
    "版权声明：本文为CSDN博主「赵卓不凡」的原创文章，遵循CC 4.0 BY-SA版权协议，转载请附上原文出处链接及本声明。\n",
    "原文链接：https://blog.csdn.net/sgzqc/article/details/122131884"
   ]
  },
  {
   "cell_type": "code",
   "execution_count": 35,
   "id": "33b3bc91",
   "metadata": {},
   "outputs": [
    {
     "name": "stdout",
     "output_type": "stream",
     "text": [
      "x.shape:(150, 4),y.shape(150,)\n"
     ]
    }
   ],
   "source": [
    "from sklearn import datasets \n",
    "import numpy as np\n",
    "\n",
    "data = datasets.load_iris()\n",
    "x = data[\"data\"]\n",
    "y = data[\"target\"]\n",
    "print(f\"x.shape:{x.shape},y.shape{y.shape}\")"
   ]
  },
  {
   "cell_type": "code",
   "execution_count": 36,
   "id": "06d1f0d8",
   "metadata": {},
   "outputs": [
    {
     "name": "stdout",
     "output_type": "stream",
     "text": [
      "x_train.shape(90, 4),y_train.shape(90,)\n"
     ]
    }
   ],
   "source": [
    "from sklearn.model_selection import train_test_split\n",
    "\n",
    "x_train, x_test, y_train, y_test = train_test_split(x, y,test_size=0.4)\n",
    "\n",
    "print(f\"x_train.shape{x_train.shape},y_train.shape{y_train.shape}\")"
   ]
  },
  {
   "cell_type": "markdown",
   "id": "bb198b08",
   "metadata": {},
   "source": [
    "* 初始各类的数量"
   ]
  },
  {
   "cell_type": "code",
   "execution_count": 37,
   "id": "d82f47e1",
   "metadata": {},
   "outputs": [
    {
     "data": {
      "text/plain": [
       "{0: 28, 1: 32, 2: 30}"
      ]
     },
     "execution_count": 37,
     "metadata": {},
     "output_type": "execute_result"
    }
   ],
   "source": [
    "y_target,y_counter = np.unique(y_train,return_counts=True)\n",
    "dict(zip(y_target,y_counter))"
   ]
  },
  {
   "cell_type": "markdown",
   "id": "f8a5712b",
   "metadata": {},
   "source": [
    "* SMOTE 重采样"
   ]
  },
  {
   "cell_type": "code",
   "execution_count": 38,
   "id": "6d1ca063",
   "metadata": {},
   "outputs": [
    {
     "name": "stdout",
     "output_type": "stream",
     "text": [
      "x_resample.shape:(95, 4),y_resample.shape:(95,)\n"
     ]
    }
   ],
   "source": [
    "from imblearn.over_sampling import SVMSMOTE\n",
    "\n",
    "smo4 = SVMSMOTE()\n",
    "\n",
    "x_resample,y_resample = smo4.fit_resample(x_train,y_train)\n",
    "print(f\"x_resample.shape:{x_resample.shape},y_resample.shape:{y_resample.shape}\")"
   ]
  },
  {
   "cell_type": "markdown",
   "id": "a358c572",
   "metadata": {},
   "source": [
    "* 查看SMOTE采样后的各类数量"
   ]
  },
  {
   "cell_type": "code",
   "execution_count": 39,
   "id": "358f890f",
   "metadata": {},
   "outputs": [
    {
     "data": {
      "text/plain": [
       "{0: 31, 1: 32, 2: 32}"
      ]
     },
     "execution_count": 39,
     "metadata": {},
     "output_type": "execute_result"
    }
   ],
   "source": [
    "\n",
    "y_target,y_counter = np.unique(y_resample,return_counts=True)\n",
    "dict(zip(y_target,y_counter))"
   ]
  },
  {
   "cell_type": "code",
   "execution_count": null,
   "id": "169bc619",
   "metadata": {},
   "outputs": [],
   "source": []
  },
  {
   "cell_type": "code",
   "execution_count": null,
   "id": "babc8959",
   "metadata": {},
   "outputs": [],
   "source": []
  }
 ],
 "metadata": {
  "kernelspec": {
   "display_name": "XgboostENV",
   "language": "python",
   "name": "python3"
  },
  "language_info": {
   "codemirror_mode": {
    "name": "ipython",
    "version": 3
   },
   "file_extension": ".py",
   "mimetype": "text/x-python",
   "name": "python",
   "nbconvert_exporter": "python",
   "pygments_lexer": "ipython3",
   "version": "3.7.12"
  }
 },
 "nbformat": 4,
 "nbformat_minor": 5
}
