{
 "cells": [
  {
   "cell_type": "markdown",
   "id": "60242aab",
   "metadata": {},
   "source": [
    "#### SMOTE采样\n",
    "\n",
    "* 在上述随机过采样的案例中，由于少数类别的重复复制导致模型容易过拟合复制的样本,为了改善这种情况,引入了SMOTE策略. SMOTE为 Synthetic Minority Oversampling Technique的简称,它通过合成新的样本来使得训练数据趋于平衡.\n",
    "\n",
    "* SMOTE主要利用K近邻算法来合成样本数据,以下为其详细步骤:\n",
    "\n",
    "* *    采样最邻近算法，计算出每个少数类样本的K个近邻;\n",
    "\n",
    "* *    从K个近邻中随机挑选N个样本进行随机线性插值;\n",
    "\n",
    "* *    构造新的少数类样本;\n",
    "\n",
    "* *    将新样本与原数据合成，产生新的训练集;\n",
    "\n",
    "\n",
    "版权声明：本文为CSDN博主「赵卓不凡」的原创文章，遵循CC 4.0 BY-SA版权协议，转载请附上原文出处链接及本声明。\n",
    "原文链接：https://blog.csdn.net/sgzqc/article/details/122131884"
   ]
  },
  {
   "cell_type": "code",
   "execution_count": 6,
   "id": "33b3bc91",
   "metadata": {},
   "outputs": [
    {
     "name": "stdout",
     "output_type": "stream",
     "text": [
      "x.shape:(150, 4),y.shape(150,)\n"
     ]
    }
   ],
   "source": [
    "from sklearn import datasets \n",
    "import numpy as np\n",
    "\n",
    "data = datasets.load_iris()\n",
    "x = data[\"data\"]\n",
    "y = data[\"target\"]\n",
    "print(f\"x.shape:{x.shape},y.shape{y.shape}\")"
   ]
  },
  {
   "cell_type": "code",
   "execution_count": 7,
   "id": "06d1f0d8",
   "metadata": {},
   "outputs": [
    {
     "name": "stdout",
     "output_type": "stream",
     "text": [
      "x_train.shape(90, 4),y_train.shape(90,)\n"
     ]
    }
   ],
   "source": [
    "from sklearn.model_selection import train_test_split\n",
    "\n",
    "x_train, x_test, y_train, y_test = train_test_split(x, y,test_size=0.4)\n",
    "\n",
    "print(f\"x_train.shape{x_train.shape},y_train.shape{y_train.shape}\")"
   ]
  },
  {
   "cell_type": "markdown",
   "id": "bb198b08",
   "metadata": {},
   "source": [
    "* 初始各类的数量"
   ]
  },
  {
   "cell_type": "code",
   "execution_count": 8,
   "id": "d82f47e1",
   "metadata": {},
   "outputs": [
    {
     "data": {
      "text/plain": [
       "{0: 25, 1: 36, 2: 29}"
      ]
     },
     "execution_count": 8,
     "metadata": {},
     "output_type": "execute_result"
    }
   ],
   "source": [
    "y_target,y_counter = np.unique(y_train,return_counts=True)\n",
    "dict(zip(y_target,y_counter))"
   ]
  },
  {
   "cell_type": "markdown",
   "id": "f8a5712b",
   "metadata": {},
   "source": [
    "* 重采样"
   ]
  },
  {
   "cell_type": "code",
   "execution_count": 9,
   "id": "6d1ca063",
   "metadata": {},
   "outputs": [
    {
     "name": "stdout",
     "output_type": "stream",
     "text": [
      "x_resample.shape:(108, 4),y_resample.shape:(108,)\n"
     ]
    }
   ],
   "source": [
    "from imblearn.over_sampling import SMOTE\n",
    "\n",
    "smo = SMOTE()\n",
    "\n",
    "x_resample,y_resample = smo.fit_resample(x_train,y_train)\n",
    "print(f\"x_resample.shape:{x_resample.shape},y_resample.shape:{y_resample.shape}\")"
   ]
  },
  {
   "cell_type": "markdown",
   "id": "a358c572",
   "metadata": {},
   "source": [
    "* 查看重采样后的各类数量"
   ]
  },
  {
   "cell_type": "code",
   "execution_count": 10,
   "id": "358f890f",
   "metadata": {},
   "outputs": [
    {
     "data": {
      "text/plain": [
       "{0: 36, 1: 36, 2: 36}"
      ]
     },
     "execution_count": 10,
     "metadata": {},
     "output_type": "execute_result"
    }
   ],
   "source": [
    "\n",
    "y_target,y_counter = np.unique(y_resample,return_counts=True)\n",
    "dict(zip(y_target,y_counter))"
   ]
  },
  {
   "cell_type": "code",
   "execution_count": null,
   "id": "169bc619",
   "metadata": {},
   "outputs": [],
   "source": []
  },
  {
   "cell_type": "code",
   "execution_count": null,
   "id": "babc8959",
   "metadata": {},
   "outputs": [],
   "source": []
  }
 ],
 "metadata": {
  "kernelspec": {
   "display_name": "Python [conda env:XgboostENV]",
   "language": "python",
   "name": "conda-env-XgboostENV-py"
  },
  "language_info": {
   "codemirror_mode": {
    "name": "ipython",
    "version": 3
   },
   "file_extension": ".py",
   "mimetype": "text/x-python",
   "name": "python",
   "nbconvert_exporter": "python",
   "pygments_lexer": "ipython3",
   "version": "3.7.12"
  }
 },
 "nbformat": 4,
 "nbformat_minor": 5
}
