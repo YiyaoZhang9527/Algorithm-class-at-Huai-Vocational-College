{
 "cells": [
  {
   "cell_type": "markdown",
   "id": "14c21677",
   "metadata": {},
   "source": [
    "#### 随机采样\n",
    "\n",
    "* 既然我们知道模型在不均衡数据集上模型训练效果不佳,那么接下来我们来对样本数目少的数据进行重采样,以提升缺失样本的比例.\n",
    "\n",
    "* 随机重采样是最简单的采样策略用来使得数据集中的数据趋于平衡.该策略主要通过重复复制样本数目少的数据来使不同类间数据趋于平衡.这种策略的缺点在于模型有可能会对复制的样本产生过拟合.\n",
    "\n",
    "版权声明：本文为CSDN博主「赵卓不凡」的原创文章，遵循CC 4.0 BY-SA版权协议，转载请附上原文出处链接及本声明。\n",
    "原文链接：https://blog.csdn.net/sgzqc/article/details/122131884"
   ]
  },
  {
   "cell_type": "code",
   "execution_count": 7,
   "id": "ead20b2d",
   "metadata": {},
   "outputs": [
    {
     "name": "stdout",
     "output_type": "stream",
     "text": [
      "x.shape:(150, 4),y.shape(150,)\n"
     ]
    }
   ],
   "source": [
    "from sklearn import datasets \n",
    "import numpy as np\n",
    "\n",
    "data = datasets.load_iris()\n",
    "x = data[\"data\"]\n",
    "y = data[\"target\"]\n",
    "print(f\"x.shape:{x.shape},y.shape{y.shape}\")"
   ]
  },
  {
   "cell_type": "code",
   "execution_count": 8,
   "id": "f2678f4f",
   "metadata": {},
   "outputs": [
    {
     "name": "stdout",
     "output_type": "stream",
     "text": [
      "x_train.shape(90, 4),y_train.shape(90,)\n"
     ]
    }
   ],
   "source": [
    "from sklearn.model_selection import train_test_split\n",
    "\n",
    "x_train, x_test, y_train, y_test = train_test_split(x, y,test_size=0.4)\n",
    "\n",
    "print(f\"x_train.shape{x_train.shape},y_train.shape{y_train.shape}\")"
   ]
  },
  {
   "cell_type": "markdown",
   "id": "65b3a79c",
   "metadata": {},
   "source": [
    "* 初始各类的数量"
   ]
  },
  {
   "cell_type": "code",
   "execution_count": 9,
   "id": "e3bd5a7b",
   "metadata": {},
   "outputs": [
    {
     "data": {
      "text/plain": [
       "{0: 29, 1: 33, 2: 28}"
      ]
     },
     "execution_count": 9,
     "metadata": {},
     "output_type": "execute_result"
    }
   ],
   "source": [
    "y_target,y_counter = np.unique(y_train,return_counts=True)\n",
    "dict(zip(y_target,y_counter))"
   ]
  },
  {
   "cell_type": "markdown",
   "id": "5eaf0f18",
   "metadata": {},
   "source": [
    "* 重采样"
   ]
  },
  {
   "cell_type": "code",
   "execution_count": 10,
   "id": "3e5bad45",
   "metadata": {},
   "outputs": [
    {
     "name": "stdout",
     "output_type": "stream",
     "text": [
      "x_resample.shape:(99, 4),y_resample.shape:(99,)\n"
     ]
    }
   ],
   "source": [
    "from imblearn.over_sampling import RandomOverSampler\n",
    "\n",
    "ros = RandomOverSampler(random_state=0)\n",
    "\n",
    "x_resample,y_resample = ros.fit_resample(x_train,y_train)\n",
    "print(f\"x_resample.shape:{x_resample.shape},y_resample.shape:{y_resample.shape}\")"
   ]
  },
  {
   "cell_type": "markdown",
   "id": "51fc8125",
   "metadata": {},
   "source": [
    "* 查看重采样后的各类数量"
   ]
  },
  {
   "cell_type": "code",
   "execution_count": 11,
   "id": "73822109",
   "metadata": {},
   "outputs": [
    {
     "data": {
      "text/plain": [
       "{0: 33, 1: 33, 2: 33}"
      ]
     },
     "execution_count": 11,
     "metadata": {},
     "output_type": "execute_result"
    }
   ],
   "source": [
    "\n",
    "y_target,y_counter = np.unique(y_resample,return_counts=True)\n",
    "dict(zip(y_target,y_counter))"
   ]
  },
  {
   "cell_type": "code",
   "execution_count": null,
   "id": "7a8e2408",
   "metadata": {},
   "outputs": [],
   "source": []
  }
 ],
 "metadata": {
  "kernelspec": {
   "display_name": "Python [conda env:XgboostENV]",
   "language": "python",
   "name": "conda-env-XgboostENV-py"
  },
  "language_info": {
   "codemirror_mode": {
    "name": "ipython",
    "version": 3
   },
   "file_extension": ".py",
   "mimetype": "text/x-python",
   "name": "python",
   "nbconvert_exporter": "python",
   "pygments_lexer": "ipython3",
   "version": "3.7.12"
  }
 },
 "nbformat": 4,
 "nbformat_minor": 5
}
