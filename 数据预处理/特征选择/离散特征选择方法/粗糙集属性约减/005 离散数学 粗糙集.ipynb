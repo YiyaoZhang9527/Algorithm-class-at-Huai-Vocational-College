{
 "cells": [
  {
   "cell_type": "code",
   "execution_count": 20,
   "metadata": {},
   "outputs": [
    {
     "output_type": "execute_result",
     "data": {
      "text/plain": "array([['ID', '色泽', '根蒂', '敲声', '纹理', '脐部', '触感', '好瓜'],\n       ['1', '青绿', '蜷缩', '浊响', '清晰', '凹陷', '硬滑', '好瓜'],\n       ['2', '乌黑', '蜷缩', '沉闷', '清晰', '凹陷', '硬滑', '好瓜'],\n       ['3', '乌黑', '蜷缩', '浊响', '清晰', '凹陷', '硬滑', '好瓜'],\n       ['4', '青绿', '蜷缩', '沉闷', '清晰', '凹陷', '硬滑', '好瓜'],\n       ['5', '浅白', '蜷缩', '浊响', '清晰', '凹陷', '硬滑', '好瓜'],\n       ['6', '青绿', '稍蜷', '浊响', '清晰', '稍凹', '软粘', '好瓜'],\n       ['7', '乌黑', '稍蜷', '浊响', '稍糊', '稍凹', '软粘', '好瓜'],\n       ['8', '乌黑', '稍蜷', '浊响', '清晰', '稍凹', '硬滑', '好瓜'],\n       ['9', '乌黑', '稍蜷', '沉闷', '稍糊', '稍凹', '硬滑', '坏瓜'],\n       ['10', '青绿', '硬挺', '清脆', '清晰', '平坦', '软粘', '坏瓜'],\n       ['11', '浅白', '硬挺', '清脆', '模糊', '平坦', '硬滑', '坏瓜'],\n       ['12', '浅白', '蜷缩', '浊响', '模糊', '平坦', '软粘', '坏瓜'],\n       ['13', '青绿', '稍蜷', '浊响', '稍糊', '凹陷', '硬滑', '坏瓜'],\n       ['14', '浅白', '稍蜷', '沉闷', '稍糊', '凹陷', '硬滑', '坏瓜'],\n       ['15', '乌黑', '稍蜷', '浊响', '清晰', '稍凹', '软粘', '坏瓜'],\n       ['16', '浅白', '蜷缩', '浊响', '模糊', '平坦', '硬滑', '坏瓜'],\n       ['17', '青绿', '蜷缩', '沉闷', '稍糊', '稍凹', '硬滑', '坏瓜']], dtype='<U2')"
     },
     "metadata": {},
     "execution_count": 20
    }
   ],
   "source": [
    "import numpy as np\n",
    "from scipy.special import perm\n",
    "from functools import reduce \n",
    "from itertools import permutations , combinations\n",
    "# TODO 这里是粗糙集算法的函数包\n",
    "\n",
    "\n",
    "path = '/Users/manmanzhang/Library/Mobile Documents/com~apple~CloudDocs/MyProject/InferenceSystem/src/I5_algorithm/setcase.csv'\n",
    "data = np.loadtxt(path,dtype=str,delimiter=',')\n",
    "'''\n",
    "data = np.array([['ID', '色泽', '根蒂', '敲声', '纹理', '脐部', '触感', '好瓜'],\n",
    "       ['1', '青绿', '蜷缩', '浊响', '清晰', '凹陷', '硬滑', '好瓜'],\n",
    "       ['2', '乌黑', '蜷缩', '沉闷', '清晰', '凹陷', '硬滑', '好瓜'],\n",
    "       ['3', '乌黑', '蜷缩', '浊响', '清晰', '凹陷', '硬滑', '好瓜'],\n",
    "       ['4', '青绿', '蜷缩', '沉闷', '清晰', '凹陷', '硬滑', '好瓜'],\n",
    "       ['5', '浅白', '蜷缩', '浊响', '清晰', '凹陷', '硬滑', '好瓜'],\n",
    "       ['6', '青绿', '稍蜷', '浊响', '清晰', '稍凹', '软粘', '好瓜'],\n",
    "       ['7', '乌黑', '稍蜷', '浊响', '稍糊', '稍凹', '软粘', '好瓜'],\n",
    "       ['8', '乌黑', '稍蜷', '浊响', '清晰', '稍凹', '硬滑', '好瓜'],\n",
    "       ['9', '乌黑', '稍蜷', '沉闷', '稍糊', '稍凹', '硬滑', '坏瓜'],\n",
    "       ['10', '青绿', '硬挺', '清脆', '清晰', '平坦', '软粘', '坏瓜'],\n",
    "       ['11', '浅白', '硬挺', '清脆', '模糊', '平坦', '硬滑', '坏瓜'],\n",
    "       ['12', '浅白', '蜷缩', '浊响', '模糊', '平坦', '软粘', '坏瓜'],\n",
    "       ['13', '青绿', '稍蜷', '浊响', '稍糊', '凹陷', '硬滑', '坏瓜'],\n",
    "       ['14', '浅白', '稍蜷', '沉闷', '稍糊', '凹陷', '硬滑', '坏瓜'],\n",
    "       ['15', '乌黑', '稍蜷', '浊响', '清晰', '稍凹', '软粘', '坏瓜'],\n",
    "       ['16', '浅白', '蜷缩', '浊响', '模糊', '平坦', '硬滑', '坏瓜'],\n",
    "       ['17', '青绿', '蜷缩', '沉闷', '稍糊', '稍凹', '硬滑', '坏瓜']], dtype='<U2')\n",
    "'''\n",
    "data"
   ]
  },
  {
   "cell_type": "code",
   "execution_count": 21,
   "metadata": {},
   "outputs": [],
   "source": [
    "def Drop_Weft_Funciton(mylist): \n",
    "    '''\n",
    "    二维降一维\n",
    "    '''\n",
    "    return [i for j in range(len(mylist)) for i in mylist[j]]"
   ]
  },
  {
   "cell_type": "code",
   "execution_count": 22,
   "metadata": {},
   "outputs": [],
   "source": [
    "def Enumerated_vector_combination(myarray):\n",
    "    '''\n",
    "    枚举向量组合\n",
    "    '''\n",
    "    return Drop_Weft_Funciton([list(combinations(range(len(myarray)),i)) for i in range(1,len(myarray)+1)])"
   ]
  },
  {
   "cell_type": "code",
   "execution_count": 23,
   "metadata": {},
   "outputs": [
    {
     "output_type": "execute_result",
     "data": {
      "text/plain": "array([['1'],\n       ['2'],\n       ['3'],\n       ['4'],\n       ['5'],\n       ['6'],\n       ['7'],\n       ['8'],\n       ['9'],\n       ['10'],\n       ['11'],\n       ['12'],\n       ['13'],\n       ['14'],\n       ['15'],\n       ['16'],\n       ['17']], dtype='<U2')"
     },
     "metadata": {},
     "execution_count": 23
    }
   ],
   "source": [
    "def Theory_of_domain(information_table):\n",
    "    '''\n",
    "    论域\n",
    "    :return: \n",
    "    '''\n",
    "    return information_table[1:,0:1]\n",
    "\n",
    "Theory_of_domain(data)"
   ]
  },
  {
   "cell_type": "code",
   "execution_count": 24,
   "metadata": {},
   "outputs": [
    {
     "output_type": "execute_result",
     "data": {
      "text/plain": "array([['好瓜'],\n       ['好瓜'],\n       ['好瓜'],\n       ['好瓜'],\n       ['好瓜'],\n       ['好瓜'],\n       ['好瓜'],\n       ['好瓜'],\n       ['坏瓜'],\n       ['坏瓜'],\n       ['坏瓜'],\n       ['坏瓜'],\n       ['坏瓜'],\n       ['坏瓜'],\n       ['坏瓜'],\n       ['坏瓜'],\n       ['坏瓜']], dtype='<U2')"
     },
     "metadata": {},
     "execution_count": 24
    }
   ],
   "source": [
    "def Decision_attribute(information_table):\n",
    "    '''\n",
    "    决策属性\n",
    "    :param information_table: \n",
    "    :return: \n",
    "    '''\n",
    "    return information_table[1:,-1:]\n",
    "\n",
    "Decision_attribute(data)"
   ]
  },
  {
   "cell_type": "code",
   "execution_count": 25,
   "metadata": {},
   "outputs": [
    {
     "output_type": "execute_result",
     "data": {
      "text/plain": "array([['青绿', '蜷缩', '浊响', '清晰', '凹陷', '硬滑'],\n       ['乌黑', '蜷缩', '沉闷', '清晰', '凹陷', '硬滑'],\n       ['乌黑', '蜷缩', '浊响', '清晰', '凹陷', '硬滑'],\n       ['青绿', '蜷缩', '沉闷', '清晰', '凹陷', '硬滑'],\n       ['浅白', '蜷缩', '浊响', '清晰', '凹陷', '硬滑'],\n       ['青绿', '稍蜷', '浊响', '清晰', '稍凹', '软粘'],\n       ['乌黑', '稍蜷', '浊响', '稍糊', '稍凹', '软粘'],\n       ['乌黑', '稍蜷', '浊响', '清晰', '稍凹', '硬滑'],\n       ['乌黑', '稍蜷', '沉闷', '稍糊', '稍凹', '硬滑'],\n       ['青绿', '硬挺', '清脆', '清晰', '平坦', '软粘'],\n       ['浅白', '硬挺', '清脆', '模糊', '平坦', '硬滑'],\n       ['浅白', '蜷缩', '浊响', '模糊', '平坦', '软粘'],\n       ['青绿', '稍蜷', '浊响', '稍糊', '凹陷', '硬滑'],\n       ['浅白', '稍蜷', '沉闷', '稍糊', '凹陷', '硬滑'],\n       ['乌黑', '稍蜷', '浊响', '清晰', '稍凹', '软粘'],\n       ['浅白', '蜷缩', '浊响', '模糊', '平坦', '硬滑'],\n       ['青绿', '蜷缩', '沉闷', '稍糊', '稍凹', '硬滑']], dtype='<U2')"
     },
     "metadata": {},
     "execution_count": 25
    }
   ],
   "source": [
    "def Condition_attributes(information_table):\n",
    "    '''\n",
    "    条件属性\n",
    "    :param information_table: \n",
    "    :return: \n",
    "    '''\n",
    "    return information_table[1:,1:-1]\n",
    "\n",
    "Condition_attributes(data)"
   ]
  },
  {
   "cell_type": "code",
   "execution_count": 26,
   "metadata": {},
   "outputs": [
    {
     "output_type": "execute_result",
     "data": {
      "text/plain": "(array([['青绿', '蜷缩', '沉闷', '稍糊', '稍凹', '硬滑'],\n        ['青绿', '蜷缩', '浊响', '清晰', '凹陷', '硬滑'],\n        ['乌黑', '蜷缩', '浊响', '清晰', '凹陷', '硬滑'],\n        ['浅白', '蜷缩', '浊响', '清晰', '凹陷', '硬滑'],\n        ['浅白', '硬挺', '清脆', '模糊', '平坦', '硬滑'],\n        ['乌黑', '稍蜷', '浊响', '清晰', '稍凹', '硬滑'],\n        ['乌黑', '蜷缩', '沉闷', '清晰', '凹陷', '硬滑'],\n        ['青绿', '稍蜷', '浊响', '稍糊', '凹陷', '硬滑'],\n        ['浅白', '稍蜷', '沉闷', '稍糊', '凹陷', '硬滑'],\n        ['青绿', '硬挺', '清脆', '清晰', '平坦', '软粘'],\n        ['青绿', '稍蜷', '浊响', '清晰', '稍凹', '软粘'],\n        ['青绿', '蜷缩', '沉闷', '清晰', '凹陷', '硬滑'],\n        ['浅白', '蜷缩', '浊响', '模糊', '平坦', '软粘'],\n        ['乌黑', '稍蜷', '浊响', '稍糊', '稍凹', '软粘'],\n        ['乌黑', '稍蜷', '沉闷', '稍糊', '稍凹', '硬滑'],\n        ['乌黑', '稍蜷', '浊响', '清晰', '稍凹', '软粘'],\n        ['浅白', '蜷缩', '浊响', '模糊', '平坦', '硬滑']], dtype='<U2'),\n 'difference:',\n 0)"
     },
     "metadata": {},
     "execution_count": 26
    }
   ],
   "source": [
    "def Quotient_set(information_table):\n",
    "    '''\n",
    "    信息表的所有商集\n",
    "    :return: \n",
    "    '''\n",
    "    #去重\n",
    "    Condition_Attributes = Condition_attributes(information_table)\n",
    "    duplicate_removal = list(map(lambda x: np.array(eval(x)),set([repr(list(i)) for i in Condition_Attributes])))\n",
    "    return np.array(duplicate_removal),'difference:',len(Condition_Attributes)-len(duplicate_removal)\n",
    "\n",
    "Quotient_set(data)"
   ]
  },
  {
   "cell_type": "code",
   "execution_count": 27,
   "metadata": {},
   "outputs": [
    {
     "output_type": "execute_result",
     "data": {
      "text/plain": "('组合表等价类:',\n array([['1', '青绿', '蜷缩', '浊响', '清晰', '凹陷', '硬滑', '好瓜'],\n        ['2', '乌黑', '蜷缩', '沉闷', '清晰', '凹陷', '硬滑', '好瓜'],\n        ['3', '乌黑', '蜷缩', '浊响', '清晰', '凹陷', '硬滑', '好瓜'],\n        ['4', '青绿', '蜷缩', '沉闷', '清晰', '凹陷', '硬滑', '好瓜'],\n        ['5', '浅白', '蜷缩', '浊响', '清晰', '凹陷', '硬滑', '好瓜'],\n        ['6', '青绿', '稍蜷', '浊响', '清晰', '稍凹', '软粘', '好瓜'],\n        ['10', '青绿', '硬挺', '清脆', '清晰', '平坦', '软粘', '坏瓜'],\n        ['12', '浅白', '蜷缩', '浊响', '模糊', '平坦', '软粘', '坏瓜'],\n        ['13', '青绿', '稍蜷', '浊响', '稍糊', '凹陷', '硬滑', '坏瓜'],\n        ['16', '浅白', '蜷缩', '浊响', '模糊', '平坦', '硬滑', '坏瓜'],\n        ['17', '青绿', '蜷缩', '沉闷', '稍糊', '稍凹', '硬滑', '坏瓜']], dtype='<U2'),\n '组合表等价类下标:',\n [1, 2, 3, 4, 5, 6, 10, 12, 13, 16, 17],\n '分表等价类:',\n array([array([['1', '青绿', '蜷缩', '浊响', '清晰', '凹陷', '硬滑', '好瓜'],\n        ['4', '青绿', '蜷缩', '沉闷', '清晰', '凹陷', '硬滑', '好瓜'],\n        ['6', '青绿', '稍蜷', '浊响', '清晰', '稍凹', '软粘', '好瓜'],\n        ['10', '青绿', '硬挺', '清脆', '清晰', '平坦', '软粘', '坏瓜'],\n        ['13', '青绿', '稍蜷', '浊响', '稍糊', '凹陷', '硬滑', '坏瓜'],\n        ['17', '青绿', '蜷缩', '沉闷', '稍糊', '稍凹', '硬滑', '坏瓜']], dtype='<U2'),\n        array([['1', '青绿', '蜷缩', '浊响', '清晰', '凹陷', '硬滑', '好瓜'],\n        ['2', '乌黑', '蜷缩', '沉闷', '清晰', '凹陷', '硬滑', '好瓜'],\n        ['3', '乌黑', '蜷缩', '浊响', '清晰', '凹陷', '硬滑', '好瓜'],\n        ['4', '青绿', '蜷缩', '沉闷', '清晰', '凹陷', '硬滑', '好瓜'],\n        ['5', '浅白', '蜷缩', '浊响', '清晰', '凹陷', '硬滑', '好瓜'],\n        ['12', '浅白', '蜷缩', '浊响', '模糊', '平坦', '软粘', '坏瓜'],\n        ['16', '浅白', '蜷缩', '浊响', '模糊', '平坦', '硬滑', '坏瓜'],\n        ['17', '青绿', '蜷缩', '沉闷', '稍糊', '稍凹', '硬滑', '坏瓜']], dtype='<U2')],\n       dtype=object),\n '分表等价类下标:',\n [array([ 1,  4,  6, 10, 13, 17]), array([ 1,  2,  3,  4,  5, 12, 16, 17])])"
     },
     "metadata": {},
     "execution_count": 27
    }
   ],
   "source": [
    "def Equivalence_class(X,information_table):\n",
    "    '''\n",
    "    等价类\n",
    "    :return: \n",
    "    '''\n",
    "    expr = np.array([np.array([column for column in information_table if element in column]) for element  in X])\n",
    "    join_table = np.concatenate(tuple(expr))\n",
    "    all_table_index = sorted([eval(i) for i in np.unique(join_table[:,0:1])])\n",
    "    all_table = information_table[all_table_index]\n",
    "    results = '组合表等价类:',all_table ,'组合表等价类下标:',all_table_index ,'分表等价类:',expr ,'分表等价类下标:', [np.array([eval(j[0]) for j in i[:,0:1]]) for i in expr]\n",
    "    return results\n",
    "        \n",
    "\n",
    "Equivalence_class(['青绿', '蜷缩'],data)"
   ]
  },
  {
   "cell_type": "code",
   "execution_count": 28,
   "metadata": {},
   "outputs": [
    {
     "output_type": "execute_result",
     "data": {
      "text/plain": "array([['乌黑', '硬挺', '沉闷', '模糊', '凹陷', '硬滑'],\n       ['乌黑', '硬挺', '沉闷', '模糊', '凹陷', '软粘'],\n       ['乌黑', '硬挺', '沉闷', '模糊', '平坦', '硬滑'],\n       ...,\n       ['青绿', '蜷缩', '清脆', '稍糊', '平坦', '软粘'],\n       ['青绿', '蜷缩', '清脆', '稍糊', '稍凹', '硬滑'],\n       ['青绿', '蜷缩', '清脆', '稍糊', '稍凹', '软粘']], dtype='<U2')"
     },
     "metadata": {},
     "execution_count": 28
    }
   ],
   "source": [
    "# TODO 求出所有信息表的组合方式\n",
    "\n",
    "def spread(arg):\n",
    "    '''\n",
    "    广播函数\n",
    "    :param arg:\n",
    "    :return:\n",
    "    '''\n",
    "    ret = []\n",
    "    for i in arg:\n",
    "        if isinstance(i, (list,tuple)):\n",
    "            ret.extend(i)  # 列表末尾追加 等同于 ret += i\n",
    "        else:\n",
    "            ret.append(i)\n",
    "    return ret\n",
    "\n",
    "\n",
    "def deep_flatten(lst):\n",
    "    '''\n",
    "    深度平展\n",
    "    :param lst:\n",
    "    :return:\n",
    "    '''\n",
    "    result = []\n",
    "    result.extend(\n",
    "        spread(list(map(lambda x: deep_flatten(x) if type(x) in (list,tuple) else x, lst))))\n",
    "    return result\n",
    "\n",
    "def my_combination(x):\n",
    "    '''\n",
    "    多组组合\n",
    "    :param x: \n",
    "    :param code: \n",
    "    :return: \n",
    "    '''\n",
    "    return reduce(lambda x, y: [deep_flatten([i,j]) for i in x for j in y], x)\n",
    "\n",
    "def combination_module_of_information_table(information_table):\n",
    "    '''\n",
    "    求出所有信息表的组合方式\n",
    "    '''\n",
    "    condition = Condition_attributes(information_table)\n",
    "    #列出信息表内所有信息元素的二维结构展示\n",
    "    columns = [list(np.unique(condition[:,i:i+1])) for i in range(len(condition[0]))]\n",
    "    #计算出所有组合方式\n",
    "    #counts = list(map(lambda x : [perm(len(x),i) for i in range(1,len(x)+1)] ,columns))\n",
    "    #print(counts)\n",
    "    return np.array([i for i in map(lambda x : np.array(x),my_combination(columns))])\n",
    "\n",
    "combination_module_of_information_table(data)"
   ]
  },
  {
   "cell_type": "code",
   "execution_count": 29,
   "metadata": {},
   "outputs": [
    {
     "output_type": "execute_result",
     "data": {
      "text/plain": "array([array(['乌黑', '硬挺', '沉闷', '模糊', '凹陷', '硬滑'], dtype='<U2'),\n       array(['乌黑', '硬挺', '沉闷', '模糊', '凹陷', '软粘'], dtype='<U2'),\n       array(['乌黑', '硬挺', '沉闷', '模糊', '凹陷'], dtype='<U2'), ...,\n       array(['稍凹'], dtype='<U2'), array(['硬滑'], dtype='<U2'),\n       array(['软粘'], dtype='<U2')], dtype=object)"
     },
     "metadata": {},
     "execution_count": 29
    }
   ],
   "source": [
    "def Missing_combination_calculation(information_table):\n",
    "    '''\n",
    "    求出所有信息表内不完全组合的计算\n",
    "    :return: \n",
    "    '''\n",
    "    condition = Condition_attributes(information_table)\n",
    "    #列出信息表内所有信息元素的二维结构展示\n",
    "    columns = [list(np.unique(condition[:,i:i+1])) + [None] for i in range(len(condition[0]))]\n",
    "    #计算出所有组合方式\n",
    "    temporary =  np.array([np.array([j for j in i if j != None]) for i in my_combination(columns) if  [j for j in i if j != None] != []])\n",
    "    return temporary\n",
    "    \n",
    "Missing_combination_calculation(data)"
   ]
  },
  {
   "cell_type": "code",
   "execution_count": 30,
   "metadata": {},
   "outputs": [
    {
     "output_type": "execute_result",
     "data": {
      "text/plain": "[(('坏瓜', array([ 9, 10, 11, 12, 13, 14, 15, 16, 17])),\n  matrix([['9', '乌黑', '稍蜷', '沉闷', '稍糊', '稍凹', '硬滑', '坏瓜'],\n          ['10', '青绿', '硬挺', '清脆', '清晰', '平坦', '软粘', '坏瓜'],\n          ['11', '浅白', '硬挺', '清脆', '模糊', '平坦', '硬滑', '坏瓜'],\n          ['12', '浅白', '蜷缩', '浊响', '模糊', '平坦', '软粘', '坏瓜'],\n          ['13', '青绿', '稍蜷', '浊响', '稍糊', '凹陷', '硬滑', '坏瓜'],\n          ['14', '浅白', '稍蜷', '沉闷', '稍糊', '凹陷', '硬滑', '坏瓜'],\n          ['15', '乌黑', '稍蜷', '浊响', '清晰', '稍凹', '软粘', '坏瓜'],\n          ['16', '浅白', '蜷缩', '浊响', '模糊', '平坦', '硬滑', '坏瓜'],\n          ['17', '青绿', '蜷缩', '沉闷', '稍糊', '稍凹', '硬滑', '坏瓜']], dtype='<U2')),\n (('好瓜', array([0, 1, 2, 3, 4, 5, 6, 7, 8])),\n  matrix([['ID', '色泽', '根蒂', '敲声', '纹理', '脐部', '触感', '好瓜'],\n          ['1', '青绿', '蜷缩', '浊响', '清晰', '凹陷', '硬滑', '好瓜'],\n          ['2', '乌黑', '蜷缩', '沉闷', '清晰', '凹陷', '硬滑', '好瓜'],\n          ['3', '乌黑', '蜷缩', '浊响', '清晰', '凹陷', '硬滑', '好瓜'],\n          ['4', '青绿', '蜷缩', '沉闷', '清晰', '凹陷', '硬滑', '好瓜'],\n          ['5', '浅白', '蜷缩', '浊响', '清晰', '凹陷', '硬滑', '好瓜'],\n          ['6', '青绿', '稍蜷', '浊响', '清晰', '稍凹', '软粘', '好瓜'],\n          ['7', '乌黑', '稍蜷', '浊响', '稍糊', '稍凹', '软粘', '好瓜'],\n          ['8', '乌黑', '稍蜷', '浊响', '清晰', '稍凹', '硬滑', '好瓜']], dtype='<U2'))]"
     },
     "metadata": {},
     "execution_count": 30
    }
   ],
   "source": [
    "# TODO 这一部分知识为了求等价类 \n",
    "\n",
    "def Classification_of_decision(information_table):\n",
    "    '''\n",
    "    决策分类\n",
    "    :param information_table: \n",
    "    :return: \n",
    "    '''\n",
    "    information_table_1 = information_table\n",
    "    duplicate_removal = np.unique(information_table_1[:,-1:])\n",
    "    expr = [(duplicate_removal[i], np.where( (np.ravel(information_table_1[:,-1:])==duplicate_removal[i]).astype(int) == 1)[0]) for i in range(len(duplicate_removal))]\n",
    "    return [(i , np.mat([information_table_1[j] for j in i[-1]]) ) for i in expr]\n",
    "\n",
    "Classification_of_decision(data)"
   ]
  },
  {
   "cell_type": "code",
   "execution_count": 31,
   "metadata": {},
   "outputs": [
    {
     "output_type": "execute_result",
     "data": {
      "text/plain": "array(['稍蜷', '浊响', '清晰', '稍凹', '软粘'], dtype='<U2'),\n       array(['青绿', '蜷缩', '沉闷', '稍糊'], dtype='<U2'),\n       array(['蜷缩', '浊响', '平坦'], dtype='<U2'),\n       array(['浅白', '蜷缩', '模糊', '平坦', '软粘'], dtype='<U2'),\n       array(['青绿', '浊响', '清晰', '硬滑'], dtype='<U2'),\n       array(['蜷缩', '浊响', '凹陷', '硬滑'], dtype='<U2'),\n       array(['凹陷'], dtype='<U2'), array(['青绿', '沉闷', '清晰'], dtype='<U2'),\n       array(['浅白', '硬挺', '清脆'], dtype='<U2'),\n       array(['青绿', '蜷缩', '沉闷', '凹陷', '硬滑'], dtype='<U2'),\n       array(['乌黑', '稍蜷', '浊响', '清晰', '硬滑'], dtype='<U2'),\n       array(['青绿', '清脆', '软粘'], dtype='<U2'),\n       array(['乌黑', '沉闷', '凹陷'], dtype='<U2'),\n       array(['浅白', '稍糊'], dtype='<U2'),\n       array(['乌黑', '稍蜷', '清晰'], dtype='<U2'),\n       array(['浊响', '凹陷', '硬滑'], dtype='<U2'),\n       array(['稍蜷', '浊响', '稍糊', '软粘'], dtype='<U2'),\n       array(['稍蜷', '稍糊'], dtype='<U2'),\n       array(['蜷缩', '浊响', '清晰', '硬滑'], dtype='<U2'),\n       array(['稍蜷', '稍糊', '稍凹', '软粘'], dtype='<U2'),\n       array(['乌黑', '稍蜷', '清晰', '软粘'], dtype='<U2'),\n       array(['清晰', '稍凹', '硬滑'], dtype='<U2'),\n       array(['乌黑', '浊响'], dtype='<U2'), array(['稍蜷'], dtype='<U2'),\n       array(['浅白', '硬挺', '模糊'], dtype='<U2'),\n       array(['硬挺', '平坦', '硬滑'], dtype='<U2'),\n       array(['青绿', '沉闷', '稍糊'], dtype='<U2'),\n       array(['乌黑', '浊响', '稍糊'], dtype='<U2'),\n       array(['浅白', '清脆', '平坦'], dtype='<U2'),\n       array(['浅白', '稍蜷', '稍糊', '硬滑'], dtype='<U2'),\n       array(['乌黑', '蜷缩', '凹陷', '硬滑'], dtype='<U2'),\n       array(['浅白', '稍糊', '硬滑'], dtype='<U2'),\n       array(['青绿', '硬挺', '清脆', '平坦', '软粘'], dtype='<U2'),\n       array(['沉闷', '稍凹', '硬滑'], dtype='<U2'),\n       array(['青绿', '沉闷', '清晰', '硬滑'], dtype='<U2'),\n       array(['乌黑', '稍蜷', '浊响', '软粘'], dtype='<U2'),\n       array(['青绿', '清脆', '清晰'], dtype='<U2'),\n       array(['青绿', '平坦'], dtype='<U2'),\n       array(['青绿', '清晰', '稍凹', '软粘'], dtype='<U2'),\n       array(['稍蜷', '浊响', '清晰', '稍凹'], dtype='<U2'),\n       array(['稍蜷', '沉闷', '稍糊', '硬滑'], dtype='<U2'),\n       array(['乌黑', '稍蜷', '清晰', '稍凹', '软粘'], dtype='<U2'),\n       array(['青绿', '蜷缩', '凹陷'], dtype='<U2'),\n       array(['浅白', '软粘'], dtype='<U2'),\n       array(['浅白', '清脆', '模糊'], dtype='<U2'),\n       array(['浊响', '稍糊', '凹陷'], dtype='<U2'),\n       array(['稍蜷', '稍糊', '凹陷', '硬滑'], dtype='<U2'),\n       array(['硬挺', '清脆', '平坦'], dtype='<U2'),\n       array(['青绿', '蜷缩', '稍糊'], dtype='<U2'),\n       array(['稍蜷', '稍糊', '稍凹', '硬滑'], dtype='<U2'),\n       array(['青绿', '稍蜷', '浊响', '稍糊'], dtype='<U2'),\n       array(['浊响'], dtype='<U2'),\n       array(['乌黑', '蜷缩', '沉闷', '清晰', '凹陷'], dtype='<U2'),\n       array(['硬挺'], dtype='<U2'),\n       array(['青绿', '蜷缩', '稍糊', '硬滑'], dtype='<U2'),\n       array(['稍蜷', '沉闷', '稍凹'], dtype='<U2'),\n       array(['乌黑', '蜷缩', '沉闷', '清晰'], dtype='<U2'),\n       array(['乌黑', '蜷缩', '浊响', '硬滑'], dtype='<U2'),\n       array(['青绿', '清晰', '平坦', '软粘'], dtype='<U2'),\n       array(['浅白', '沉闷', '凹陷'], dtype='<U2'),\n       array(['青绿', '浊响', '硬滑'], dtype='<U2'),\n       array(['稍蜷', '浊响', '稍糊'], dtype='<U2'),\n       array(['乌黑', '浊响', '稍凹', '软粘'], dtype='<U2'),\n       array(['硬挺', '清脆', '平坦', '硬滑'], dtype='<U2'),\n       array(['沉闷', '稍糊'], dtype='<U2'),\n       array(['稍蜷', '浊响', '清晰', '软粘'], dtype='<U2'),\n       array(['乌黑', '清晰'], dtype='<U2'), array(['软粘'], dtype='<U2'),\n       array(['浅白', '浊响', '凹陷', '硬滑'], dtype='<U2'),\n       array(['浅白', '蜷缩', '浊响', '硬滑'], dtype='<U2'),\n       array(['清脆', '软粘'], dtype='<U2'),\n       array(['浅白', '硬挺', '清脆', '硬滑'], dtype='<U2'),\n       array(['青绿', '蜷缩', '沉闷', '稍凹', '硬滑'], dtype='<U2'),\n       array(['青绿', '硬挺', '软粘'], dtype='<U2'), array(['蜷缩'], dtype='<U2'),\n       array(['浅白', '浊响', '模糊', '平坦', '软粘'], dtype='<U2'),\n       array(['乌黑', '蜷缩', '浊响', '清晰'], dtype='<U2'),\n       array(['浊响', '稍凹', '软粘'], dtype='<U2'),\n       array(['稍蜷', '浊响', '软粘'], dtype='<U2'),\n       array(['浅白', '硬挺', '硬滑'], dtype='<U2'),\n       array(['乌黑', '稍蜷', '浊响', '稍糊', '稍凹'], dtype='<U2'),\n       array(['乌黑', '稍凹', '硬滑'], dtype='<U2'),\n       array(['青绿', '凹陷', '硬滑'], dtype='<U2'),\n       array(['乌黑', '清晰', '稍凹', '硬滑'], dtype='<U2'),\n       array(['蜷缩', '模糊'], dtype='<U2'),\n       array(['蜷缩', '浊响', '模糊', '平坦', '软粘'], dtype='<U2'),\n       array(['稍蜷', '稍糊', '稍凹'], dtype='<U2'), array(['平坦'], dtype='<U2'),\n       array(['青绿', '硬挺', '清脆', '清晰', '平坦'], dtype='<U2'),\n       array(['青绿', '沉闷', '硬滑'], dtype='<U2'),\n       array(['浅白', '清晰', '凹陷'], dtype='<U2'),\n       array(['稍蜷', '浊响', '清晰', '硬滑'], dtype='<U2'),\n       array(['乌黑', '稍蜷', '沉闷', '稍凹'], dtype='<U2'),\n       array(['浅白', '清脆', '模糊', '硬滑'], dtype='<U2'),\n       array(['青绿', '稍蜷', '清晰', '稍凹'], dtype='<U2'),\n       array(['浊响', '清晰', '凹陷', '硬滑'], dtype='<U2'),\n       array(['乌黑', '清晰', '硬滑'], dtype='<U2'),\n       array(['青绿', '沉闷', '清晰', '凹陷', '硬滑'], dtype='<U2'),\n       array(['乌黑', '稍蜷', '浊响', '稍凹', '硬滑'], dtype='<U2'),\n       array(['稍蜷', '沉闷', '稍糊', '凹陷'], dtype='<U2'),\n       array(['乌黑', '清晰', '稍凹'], dtype='<U2'),\n       array(['乌黑', '蜷缩', '浊响', '凹陷', '硬滑'], dtype='<U2'),\n       array(['硬挺', '清脆', '清晰', '平坦'], dtype='<U2'),\n       array(['浅白', '浊响', '清晰', '凹陷'], dtype='<U2'),\n       array(['硬挺', '硬滑'], dtype='<U2'),\n       array(['蜷缩', '平坦', '软粘'], dtype='<U2'),\n       array(['青绿', '沉闷', '稍凹'], dtype='<U2'),\n       array(['蜷缩', '模糊', '平坦', '硬滑'], dtype='<U2'),\n       array(['浅白', '蜷缩', '模糊', '软粘'], dtype='<U2'),\n       array(['沉闷', '稍凹'], dtype='<U2'),\n       array(['蜷缩', '浊响', '清晰'], dtype='<U2'),\n       array(['青绿', '沉闷', '凹陷', '硬滑'], dtype='<U2'),\n       array(['青绿', '稍糊', '凹陷', '硬滑'], dtype='<U2'),\n       array(['浅白', '蜷缩', '平坦', '软粘'], dtype='<U2'),\n       array(['浅白', '稍蜷', '沉闷'], dtype='<U2'),\n       array(['模糊', '平坦', '硬滑'], dtype='<U2'),\n       array(['青绿', '蜷缩', '硬滑'], dtype='<U2'),\n       array(['清晰', '平坦', '软粘'], dtype='<U2'),\n       array(['浅白', '清脆'], dtype='<U2'),\n       array(['浅白', '浊响', '模糊'], dtype='<U2'),\n       array(['稍糊', '软粘'], dtype='<U2'),\n       array(['硬挺', '清脆', '模糊'], dtype='<U2'),\n       array(['青绿', '蜷缩', '浊响', '硬滑'], dtype='<U2'),\n       array(['青绿', '沉闷', '稍凹', '硬滑'], dtype='<U2'),\n       array(['乌黑', '稍蜷', '稍糊', '软粘'], dtype='<U2'),\n       array(['清脆', '清晰'], dtype='<U2'),\n       array(['青绿', '稍蜷', '清晰', '稍凹', '软粘'], dtype='<U2'),\n       array(['乌黑', '稍蜷', '沉闷'], dtype='<U2'),\n       array(['青绿', '蜷缩', '浊响', '清晰', '凹陷'], dtype='<U2'),\n       array(['青绿', '硬挺', '清晰', '平坦'], dtype='<U2'),\n       array(['浅白', '浊响', '平坦'], dtype='<U2'),\n       array(['青绿', '稍蜷', '稍糊', '凹陷', '硬滑'], dtype='<U2'),\n       array(['浅白', '稍糊', '凹陷'], dtype='<U2'),\n       array(['蜷缩', '模糊', '平坦'], dtype='<U2'),\n       array(['青绿', '浊响', '清晰', '凹陷', '硬滑'], dtype='<U2'),\n       array(['浅白', '蜷缩', '凹陷'], dtype='<U2'),\n       array(['硬挺', '软粘'], dtype='<U2'),\n       array(['蜷缩', '平坦', '硬滑'], dtype='<U2'), array(['浅白'], dtype='<U2'),\n       array(['乌黑', '稍蜷', '清晰', '稍凹'], dtype='<U2'),\n       array(['青绿', '清晰', '稍凹'], dtype='<U2'),\n       array(['乌黑', '蜷缩'], dtype='<U2'),\n       array(['浅白', '硬挺', '清脆', '模糊', '硬滑'], dtype='<U2'),\n       array(['乌黑', '蜷缩', '硬滑'], dtype='<U2'),\n       array(['蜷缩', '清晰', '硬滑'], dtype='<U2'),\n       array(['乌黑', '蜷缩', '浊响', '凹陷'], dtype='<U2'),\n       array(['稍蜷', '浊响', '清晰'], dtype='<U2'), array(['青绿'], dtype='<U2'),\n       array(['青绿', '稍蜷', '凹陷'], dtype='<U2'),\n       array(['青绿', '清脆'], dtype='<U2'),\n       array(['乌黑', '稍蜷', '沉闷', '稍糊'], dtype='<U2'),\n       array(['稍蜷', '凹陷', '硬滑'], dtype='<U2'),\n       array(['青绿', '蜷缩', '浊响', '清晰'], dtype='<U2'),\n       array(['沉闷', '硬滑'], dtype='<U2'),\n       array(['浅白', '蜷缩', '浊响', '平坦', '软粘'], dtype='<U2'),\n       array(['青绿', '清脆', '清晰', '平坦', '软粘'], dtype='<U2'),\n       array(['青绿', '稍蜷', '稍糊', '凹陷'], dtype='<U2'),\n       array(['稍蜷', '沉闷', '凹陷', '硬滑'], dtype='<U2'),\n       array(['乌黑', '稍蜷', '软粘'], dtype='<U2'),\n       array(['青绿', '稍蜷', '凹陷', '硬滑'], dtype='<U2'),\n       array(['青绿', '蜷缩', '沉闷', '稍糊', '稍凹'], dtype='<U2'),\n       array(['蜷缩', '沉闷', '稍糊', '稍凹', '硬滑'], dtype='<U2'),\n       array(['稍蜷', '浊响', '稍糊', '凹陷', '硬滑'], dtype='<U2'),\n       array(['蜷缩', '模糊', '软粘'], dtype='<U2'),\n       array(['蜷缩', '模糊', '平坦', '软粘'], dtype='<U2'),\n       array(['青绿', '蜷缩', '稍凹', '硬滑'], dtype='<U2'),\n       array(['乌黑', '浊响', '硬滑'], dtype='<U2'),\n       array(['清脆', '平坦', '硬滑'], dtype='<U2'),\n       array(['稍糊', '凹陷', '硬滑'], dtype='<U2'),\n       array(['乌黑', '清晰', '凹陷'], dtype='<U2'),\n       array(['沉闷', '清晰', '凹陷'], dtype='<U2'),\n       array(['乌黑', '稍蜷', '沉闷', '硬滑'], dtype='<U2'),\n       array(['乌黑', '稍蜷', '沉闷', '稍凹', '硬滑'], dtype='<U2'),\n       array(['浅白', '稍蜷'], dtype='<U2'),\n       array(['乌黑', '蜷缩', '沉闷', '凹陷'], dtype='<U2'),\n       array(['稍蜷', '浊响', '稍糊', '稍凹', '软粘'], dtype='<U2'),\n       array(['清晰', '凹陷', '硬滑'], dtype='<U2'),\n       array(['乌黑', '蜷缩', '浊响'], dtype='<U2'),\n       array(['乌黑', '稍蜷', '浊响', '稍凹'], dtype='<U2'),\n       array(['稍蜷', '浊响'], dtype='<U2'), array(['模糊', '平坦'], dtype='<U2'),\n       array(['青绿', '蜷缩', '浊响'], dtype='<U2'),\n       array(['浊响', '模糊', '软粘'], dtype='<U2'),\n       array(['浅白', '稍蜷', '沉闷', '稍糊'], dtype='<U2'),\n       array(['青绿', '稍蜷', '浊响', '稍凹'], dtype='<U2'),\n       array(['浅白', '蜷缩', '清晰', '凹陷', '硬滑'], dtype='<U2'),\n       array(['稍蜷', '清晰'], dtype='<U2'),\n       array(['稍蜷', '清晰', '硬滑'], dtype='<U2'),\n       array(['浅白', '蜷缩', '浊响', '凹陷'], dtype='<U2'),\n       array(['青绿', '稍蜷', '浊响', '稍糊', '凹陷'], dtype='<U2'),\n       array(['浅白', '蜷缩'], dtype='<U2'),\n       array(['青绿', '稍凹', '软粘'], dtype='<U2'),\n       array(['稍蜷', '稍糊', '软粘'], dtype='<U2'),\n       array(['浊响', '稍糊', '软粘'], dtype='<U2'),\n       array(['浅白', '蜷缩', '浊响', '模糊'], dtype='<U2'),\n       array(['青绿', '稍糊', '硬滑'], dtype='<U2'),\n       array(['乌黑', '浊响', '清晰'], dtype='<U2'),\n       array(['浅白', '蜷缩', '凹陷', '硬滑'], dtype='<U2'),\n       array(['浅白', '浊响', '模糊', '硬滑'], dtype='<U2'),\n       array(['青绿', '蜷缩', '稍糊', '稍凹'], dtype='<U2'),\n       array(['浅白', '硬挺', '清脆', '模糊', '平坦'], dtype='<U2'),\n       array(['青绿', '蜷缩', '浊响', '清晰', '硬滑'], dtype='<U2'),\n       array(['乌黑', '沉闷', '清晰', '凹陷', '硬滑'], dtype='<U2'),\n       array(['青绿', '稍蜷', '浊响', '凹陷', '硬滑'], dtype='<U2'),\n       array(['蜷缩', '浊响', '硬滑'], dtype='<U2'),\n       array(['青绿', '硬挺', '清晰', '平坦', '软粘'], dtype='<U2'),\n       array(['浅白', '蜷缩', '浊响'], dtype='<U2'),\n       array(['浅白', '稍蜷', '沉闷', '凹陷', '硬滑'], dtype='<U2'),\n       array(['浅白', '沉闷'], dtype='<U2'),\n       array(['稍蜷', '浊响', '凹陷'], dtype='<U2'),\n       array(['清晰', '硬滑'], dtype='<U2'),\n       array(['沉闷', '稍糊', '硬滑'], dtype='<U2'),\n       array(['青绿', '稍蜷', '清晰'], dtype='<U2'), array(['模糊'], dtype='<U2'),\n       array(['浅白', '浊响', '模糊', '平坦', '硬滑'], dtype='<U2'),\n       array(['青绿', '稍蜷', '稍凹', '软粘'], dtype='<U2'),\n       array(['硬挺', '平坦', '软粘'], dtype='<U2'),\n       array(['浅白', '蜷缩', '清晰', '凹陷'], dtype='<U2'),\n       array(['蜷缩', '浊响', '凹陷'], dtype='<U2'),\n       array(['乌黑', '稍蜷', '浊响', '稍糊', '软粘'], dtype='<U2'),\n       array(['蜷缩', '浊响', '软粘'], dtype='<U2'),\n       array(['稍蜷', '凹陷'], dtype='<U2'),\n       array(['乌黑', '稍糊', '硬滑'], dtype='<U2'),\n       array(['浅白', '平坦', '硬滑'], dtype='<U2'),\n       array(['硬挺', '模糊', '平坦', '硬滑'], dtype='<U2'),\n       array(['稍蜷', '清晰', '软粘'], dtype='<U2'),\n       array(['青绿', '硬挺', '清脆'], dtype='<U2'),\n       array(['稍蜷', '浊响', '凹陷', '硬滑'], dtype='<U2'),\n       array(['青绿', '蜷缩', '清晰'], dtype='<U2'),\n       array(['乌黑', '稍蜷', '稍糊', '硬滑'], dtype='<U2'),\n       array(['硬挺', '清晰', '平坦'], dtype='<U2'),\n       array(['乌黑', '浊响', '清晰', '稍凹'], dtype='<U2'),\n       array(['青绿', '清脆', '平坦', '软粘'], dtype='<U2'),\n       array(['青绿', '浊响', '清晰', '稍凹', '软粘'], dtype='<U2'),\n       array(['青绿', '清晰', '硬滑'], dtype='<U2'),\n       array(['清晰', '稍凹', '软粘'], dtype='<U2'),\n       array(['稍蜷', '浊响', '稍糊', '硬滑'], dtype='<U2'),\n       array(['乌黑', '稍蜷', '清晰', '硬滑'], dtype='<U2'),\n       array(['青绿', '沉闷'], dtype='<U2'),\n       array(['浅白', '浊响', '硬滑'], dtype='<U2'),\n       array(['稍蜷', '沉闷', '稍糊', '稍凹', '硬滑'], dtype='<U2'),\n       array(['青绿', '稍蜷', '浊响', '清晰', '稍凹'], dtype='<U2'),\n       array(['浅白', '模糊', '平坦', '硬滑'], dtype='<U2'),\n       array(['乌黑', '稍蜷', '浊响', '稍凹', '软粘'], dtype='<U2'),\n       array(['蜷缩', '浊响', '清晰', '凹陷', '硬滑'], dtype='<U2'),\n       array(['乌黑', '蜷缩', '浊响', '清晰', '凹陷'], dtype='<U2'),\n       array(['沉闷', '稍糊', '凹陷', '硬滑'], dtype='<U2'),\n       array(['青绿', '蜷缩', '清晰', '硬滑'], dtype='<U2'),\n       array(['浅白', '蜷缩', '浊响', '软粘'], dtype='<U2'),\n       array(['乌黑', '稍蜷', '浊响', '稍糊'], dtype='<U2'),\n       array(['青绿', '凹陷'], dtype='<U2'), array(['蜷缩', '硬滑'], dtype='<U2'),\n       array(['浅白', '蜷缩', '模糊', '平坦', '硬滑'], dtype='<U2'),\n       array(['青绿', '浊响', '稍糊', '硬滑'], dtype='<U2'),\n       array(['硬挺', '清脆', '清晰'], dtype='<U2'),\n       array(['蜷缩', '沉闷', '稍凹'], dtype='<U2'),\n       array(['青绿', '蜷缩', '清晰', '凹陷'], dtype='<U2'),\n       array(['青绿', '浊响', '清晰', '软粘'], dtype='<U2'),\n       array(['乌黑', '浊响', '清晰', '软粘'], dtype='<U2'),\n       array(['乌黑', '蜷缩', '沉闷'], dtype='<U2'),\n       array(['浅白', '清晰', '硬滑'], dtype='<U2'),\n       array(['稍蜷', '沉闷', '稍糊'], dtype='<U2'),\n       array(['硬挺', '清晰'], dtype='<U2'),\n       array(['浅白', '清脆', '硬滑'], dtype='<U2'),\n       array(['青绿', '清晰'], dtype='<U2'),\n       array(['青绿', '清脆', '清晰', '软粘'], dtype='<U2'),\n       array(['乌黑', '沉闷', '清晰', '凹陷'], dtype='<U2'),\n       array(['浅白', '稍蜷', '沉闷', '硬滑'], dtype='<U2'),\n       array(['蜷缩', '浊响', '模糊', '硬滑'], dtype='<U2'),\n       array(['蜷缩', '沉闷', '稍糊', '稍凹'], dtype='<U2'),\n       array(['青绿', '蜷缩', '浊响', '凹陷', '硬滑'], dtype='<U2'),\n       array(['青绿', '浊响', '清晰'], dtype='<U2'),\n       array(['模糊', '平坦', '软粘'], dtype='<U2'),\n       array(['稍蜷', '稍糊', '硬滑'], dtype='<U2'),\n       array(['乌黑', '稍糊'], dtype='<U2'),\n       array(['蜷缩', '浊响', '模糊'], dtype='<U2'),\n       array(['乌黑', '清晰', '稍凹', '软粘'], dtype='<U2'),\n       array(['乌黑', '蜷缩', '清晰', '凹陷'], dtype='<U2'),\n       array(['浅白', '稍蜷', '稍糊'], dtype='<U2'),\n       array(['青绿', '硬滑'], dtype='<U2'), array(['青绿', '稍凹'], dtype='<U2'),\n       array(['青绿', '硬挺', '清脆', '清晰', '软粘'], dtype='<U2'),\n       array(['乌黑', '稍蜷', '浊响'], dtype='<U2'),\n       array(['乌黑', '稍蜷', '沉闷', '稍糊', '硬滑'], dtype='<U2'),\n       array(['浅白', '浊响', '清晰', '硬滑'], dtype='<U2'),\n       array(['沉闷', '稍糊', '稍凹', '硬滑'], dtype='<U2'),\n       array(['乌黑', '沉闷'], dtype='<U2'),\n       array(['浅白', '浊响', '清晰', '凹陷', '硬滑'], dtype='<U2'),\n       array(['浊响', '硬滑'], dtype='<U2'),\n       array(['蜷缩', '沉闷', '凹陷'], dtype='<U2'),\n       array(['青绿', '沉闷', '凹陷'], dtype='<U2'),\n       array(['清脆', '平坦'], dtype='<U2'),\n       array(['乌黑', '浊响', '凹陷', '硬滑'], dtype='<U2'),\n       array(['浅白', '沉闷', '稍糊', '凹陷', '硬滑'], dtype='<U2'),\n       array(['乌黑', '沉闷', '稍糊', '稍凹', '硬滑'], dtype='<U2'),\n       array(['青绿', '浊响', '稍凹', '软粘'], dtype='<U2'),\n       array(['稍蜷', '浊响', '稍糊', '凹陷'], dtype='<U2'),\n       array(['清脆', '模糊', '平坦', '硬滑'], dtype='<U2'),\n       array(['模糊', '软粘'], dtype='<U2'),\n       array(['青绿', '稍蜷', '清晰', '软粘'], dtype='<U2'),\n       array(['浊响', '清晰', '软粘'], dtype='<U2'),\n       array(['乌黑', '稍糊', '稍凹', '软粘'], dtype='<U2'),\n       array(['浊响', '模糊', '平坦'], dtype='<U2'),\n       array(['青绿', '清脆', '清晰', '平坦'], dtype='<U2'),\n       array(['浅白', '蜷缩', '平坦', '硬滑'], dtype='<U2'),\n       array(['稍蜷', '沉闷'], dtype='<U2'),\n       array(['乌黑', '蜷缩', '凹陷'], dtype='<U2'),\n       array(['乌黑', '稍蜷', '稍糊', '稍凹', '软粘'], dtype='<U2'),\n       array(['浅白', '清脆', '模糊', '平坦', '硬滑'], dtype='<U2'),\n       array(['浅白', '硬挺', '模糊', '平坦', '硬滑'], dtype='<U2'),\n       array(['浊响', '稍糊', '硬滑'], dtype='<U2'),\n       array(['乌黑', '清晰', '软粘'], dtype='<U2'),\n       array(['浊响', '稍糊', '稍凹'], dtype='<U2'),\n       array(['蜷缩', '稍糊', '稍凹', '硬滑'], dtype='<U2'),\n       array(['青绿', '蜷缩', '浊响', '凹陷'], dtype='<U2'),\n       array(['浊响', '清晰', '稍凹'], dtype='<U2'),\n       array(['清脆', '平坦', '软粘'], dtype='<U2'), array(['清脆'], dtype='<U2'),\n       array(['乌黑', '沉闷', '稍糊', '硬滑'], dtype='<U2'),\n       array(['稍蜷', '沉闷', '稍糊', '凹陷', '硬滑'], dtype='<U2'),\n       array(['青绿', '稍蜷', '稍糊', '硬滑'], dtype='<U2'),\n       array(['青绿', '清晰', '凹陷'], dtype='<U2'),\n       array(['乌黑', '稍蜷', '浊响', '清晰', '稍凹'], dtype='<U2'),\n       array(['浅白', '硬挺', '清脆', '平坦', '硬滑'], dtype='<U2'),\n       array(['青绿', '硬挺'], dtype='<U2'),\n       array(['浅白', '沉闷', '稍糊'], dtype='<U2'),\n       array(['浅白', '稍糊', '凹陷', '硬滑'], dtype='<U2'),\n       array(['硬挺', '清脆', '清晰', '软粘'], dtype='<U2'),\n       array(['浅白', '清晰'], dtype='<U2'),\n       array(['浅白', '模糊', '软粘'], dtype='<U2'),\n       array(['青绿', '平坦', '软粘'], dtype='<U2'),\n       array(['青绿', '浊响'], dtype='<U2'),\n       array(['浅白', '稍蜷', '沉闷', '稍糊', '硬滑'], dtype='<U2'),\n       array(['清晰', '稍凹'], dtype='<U2'),\n       array(['乌黑', '稍蜷', '稍凹'], dtype='<U2'),\n       array(['青绿', '硬挺', '清脆', '软粘'], dtype='<U2'),\n       array(['青绿', '稍蜷', '硬滑'], dtype='<U2'),\n       array(['乌黑', '浊响', '稍凹'], dtype='<U2'),\n       array(['沉闷', '清晰'], dtype='<U2'),\n       array(['稍蜷', '稍凹', '软粘'], dtype='<U2'),\n       array(['青绿', '蜷缩', '清晰', '凹陷', '硬滑'], dtype='<U2'),\n       array(['蜷缩', '沉闷', '稍凹', '硬滑'], dtype='<U2'),\n       array(['青绿', '清晰', '平坦'], dtype='<U2'),\n       array(['稍蜷', '稍凹'], dtype='<U2'),\n       array(['乌黑', '稍蜷', '沉闷', '稍糊', '稍凹'], dtype='<U2'),\n       array(['乌黑', '稍蜷', '稍糊', '稍凹'], dtype='<U2'),\n       array(['浊响', '平坦', '硬滑'], dtype='<U2'),\n       array(['蜷缩', '浊响'], dtype='<U2'),\n       array(['青绿', '蜷缩', '沉闷', '清晰', '硬滑'], dtype='<U2'),\n       array(['清晰'], dtype='<U2'),\n       array(['浅白', '蜷缩', '浊响', '清晰'], dtype='<U2'),\n       array(['蜷缩', '沉闷', '硬滑'], dtype='<U2'),\n       array(['浊响', '模糊'], dtype='<U2'),\n       array(['硬挺', '清脆', '模糊', '硬滑'], dtype='<U2'),\n       array(['蜷缩', '浊响', '模糊', '平坦'], dtype='<U2'),\n       array(['青绿', '蜷缩', '沉闷', '清晰'], dtype='<U2'),\n       array(['青绿', '稍蜷', '浊响', '稍糊', '硬滑'], dtype='<U2'),\n       array(['稍蜷', '沉闷', '稍凹', '硬滑'], dtype='<U2'),\n       array(['乌黑', '稍蜷', '浊响', '清晰', '软粘'], dtype='<U2'),\n       array(['蜷缩', '沉闷'], dtype='<U2'),\n       array(['蜷缩', '浊响', '清晰', '凹陷'], dtype='<U2'),\n       array(['稍蜷', '沉闷', '凹陷'], dtype='<U2'),\n       array(['浅白', '硬滑'], dtype='<U2'),\n       array(['稍蜷', '稍糊', '凹陷'], dtype='<U2'),\n       array(['硬挺', '清脆', '模糊', '平坦'], dtype='<U2'),\n       array(['浅白', '平坦', '软粘'], dtype='<U2'),\n       array(['青绿', '稍蜷'], dtype='<U2'),\n       array(['蜷缩', '浊响', '模糊', '平坦', '硬滑'], dtype='<U2'),\n       array(['蜷缩', '凹陷', '硬滑'], dtype='<U2'),\n       array(['浅白', '蜷缩', '模糊', '硬滑'], dtype='<U2'),\n       array(['稍蜷', '清晰', '稍凹', '硬滑'], dtype='<U2'),\n       array(['乌黑', '稍糊', '稍凹'], dtype='<U2'),\n       array(['硬挺', '模糊', '硬滑'], dtype='<U2'),\n       array(['乌黑', '稍蜷'], dtype='<U2'),\n       array(['硬挺', '清晰', '软粘'], dtype='<U2'),\n       array(['乌黑', '浊响', '清晰', '稍凹', '软粘'], dtype='<U2'),\n       array(['青绿', '硬挺', '清脆', '清晰'], dtype='<U2'),\n       array(['清脆', '模糊', '平坦'], dtype='<U2'),\n       array(['蜷缩', '凹陷'], dtype='<U2'),\n       array(['青绿', '稍蜷', '稍糊'], dtype='<U2'),\n       array(['乌黑', '硬滑'], dtype='<U2'), array(['青绿', '稍糊'], dtype='<U2'),\n       array(['浅白', '浊响', '模糊', '平坦'], dtype='<U2'),\n       array(['浅白', '凹陷'], dtype='<U2'),\n       array(['蜷缩', '沉闷', '清晰'], dtype='<U2'),\n       array(['乌黑', '浊响', '清晰', '凹陷', '硬滑'], dtype='<U2'),\n       array(['乌黑', '蜷缩', '浊响', '清晰', '硬滑'], dtype='<U2'),\n       array(['青绿', '沉闷', '清晰', '凹陷'], dtype='<U2'),\n       array(['浅白', '沉闷', '凹陷', '硬滑'], dtype='<U2'),\n       array(['浅白', '浊响', '平坦', '硬滑'], dtype='<U2'),\n       array(['乌黑', '沉闷', '稍糊'], dtype='<U2'),\n       array(['浅白', '蜷缩', '浊响', '清晰', '硬滑'], dtype='<U2'),\n       array(['稍凹'], dtype='<U2'), array(['乌黑', '稍凹'], dtype='<U2'),\n       array(['乌黑', '稍蜷', '浊响', '硬滑'], dtype='<U2'),\n       array(['稍蜷', '软粘'], dtype='<U2'),\n       array(['青绿', '浊响', '软粘'], dtype='<U2'),\n       array(['清脆', '模糊'], dtype='<U2'),\n       array(['乌黑', '浊响', '稍糊', '软粘'], dtype='<U2'),\n       array(['浊响', '清晰', '稍凹', '软粘'], dtype='<U2'),\n       array(['乌黑', '稍糊', '稍凹', '硬滑'], dtype='<U2'),\n       array(['沉闷', '凹陷', '硬滑'], dtype='<U2'),\n       array(['青绿', '清晰', '软粘'], dtype='<U2'),\n       array(['浊响', '清晰', '硬滑'], dtype='<U2'),\n       array(['浅白', '平坦'], dtype='<U2')], dtype=object)"
     },
     "metadata": {},
     "execution_count": 31
    }
   ],
   "source": [
    "def Enumerates_the_quotient_that_appears(information_table):\n",
    "    '''\n",
    "    枚举集合所有出现的商集\n",
    "    :param information_table: \n",
    "    :return: \n",
    "    '''\n",
    "    \n",
    "    condition = Condition_attributes(information_table)\n",
    "    slice_range = condition[0].size\n",
    "\n",
    "    slicing_rule = [list(combinations(list(range(slice_range)),i)) for i in range(1,slice_range)]\n",
    "    flatten_function = lambda data : [i for j in range(len(data)) for i in data[j]]\n",
    "    flatten = flatten_function(slicing_rule)\n",
    "    all_the_slices = [[[condition[y][j] for j in i] for i in flatten] for y in range(len(condition))]\n",
    "    return np.array(list(map(lambda z : np.array(z),list(map(lambda y : eval(y),set(list(map(lambda x : str(x) ,flatten_function(all_the_slices)))))))))\n",
    "    \n",
    "Enumerates_the_quotient_that_appears(data)"
   ]
  },
  {
   "cell_type": "code",
   "execution_count": 32,
   "metadata": {},
   "outputs": [
    {
     "output_type": "execute_result",
     "data": {
      "text/plain": "array([{'tag': array(['稍蜷', '浊响', '稍凹', '硬滑'], dtype='<U2'), 'data': array(['乌黑', '稍蜷', '浊响', '清晰', '稍凹', '硬滑'], dtype='<U2')}],\n      dtype=object)"
     },
     "metadata": {},
     "execution_count": 32
    }
   ],
   "source": [
    "def Equivalence_class_of_all(information_table):\n",
    "    '''\n",
    "    求出所有等价类->等价类就是相同条件的集合\n",
    "    :param information_table: \n",
    "    :return: \n",
    "    '''\n",
    "    condition = Condition_attributes(information_table)\n",
    "    results1 = []\n",
    "    enumerates_q = Enumerates_the_quotient_that_appears(information_table)\n",
    "    contrasts = np.unique(condition)\n",
    "    index_dict = {i:j for i,j in zip(contrasts,range(len(contrasts)))}\n",
    "    \n",
    "    for i in enumerates_q:\n",
    "        exec(''.join(i)+' = []') \n",
    "\n",
    "    for a in enumerates_q:\n",
    "        for b in condition:\n",
    "            p = np.all(np.isin(a,b))\n",
    "            if p:\n",
    "                exec(''.join(a)+'.append({\"tag\":a,\"data\":b})')   \n",
    "            else:\n",
    "                pass\n",
    "    data_set = []\n",
    "    for i in enumerates_q:\n",
    "        data_set.append(np.array(eval(''.join(i))))\n",
    "    split_func = lambda keyword :np.array([i[0][keyword] for i in data_set])\n",
    "    datas = split_func(\"data\")\n",
    "    tags = split_func(\"tag\")\n",
    "    indexs = np.array([np.array([index_dict[j] for j in i]) for i in datas])\n",
    "\n",
    "    return {'tags':tags,'datas':datas,'indexs':indexs,'contrasts':contrasts,'data_set':data_set}\n",
    "\n",
    "Equivalence_class_of_all(data)['data_set'][0]"
   ]
  },
  {
   "cell_type": "code",
   "execution_count": 33,
   "metadata": {},
   "outputs": [
    {
     "output_type": "execute_result",
     "data": {
      "text/plain": "[('信息表中出现的等价关系:',\n  [array(['浊响', '稍凹', '硬滑'], dtype='<U2'),\n   array(['乌黑', '浊响', '清晰', '稍凹', '硬滑'], dtype='<U2'),\n   array(['稍凹', '硬滑'], dtype='<U2'),\n   array(['乌黑', '稍蜷', '稍凹', '硬滑'], dtype='<U2'),\n   array(['乌黑', '稍蜷', '硬滑'], dtype='<U2'),\n   array(['乌黑', '稍蜷', '清晰', '稍凹', '硬滑'], dtype='<U2'),\n   array(['浊响', '清晰', '稍凹', '硬滑'], dtype='<U2'),\n   array(['稍蜷', '浊响', '硬滑'], dtype='<U2'),\n   array(['乌黑', '稍蜷', '浊响', '清晰'], dtype='<U2'),\n   array(['稍蜷', '浊响', '清晰', '稍凹', '硬滑'], dtype='<U2'),\n   array(['乌黑', '浊响', '稍凹', '硬滑'], dtype='<U2'),\n   array(['稍蜷', '硬滑'], dtype='<U2'),\n   array(['稍蜷', '稍凹', '硬滑'], dtype='<U2'),\n   array(['乌黑', '稍蜷', '浊响', '清晰', '硬滑'], dtype='<U2'),\n   array(['乌黑', '稍蜷', '清晰'], dtype='<U2'),\n   array(['清晰', '稍凹', '硬滑'], dtype='<U2'),\n   array(['乌黑', '稍凹', '硬滑'], dtype='<U2'),\n   array(['乌黑', '清晰', '稍凹', '硬滑'], dtype='<U2'),\n   array(['稍蜷', '浊响', '清晰', '硬滑'], dtype='<U2'),\n   array(['乌黑', '稍蜷', '浊响', '稍凹', '硬滑'], dtype='<U2'),\n   array(['乌黑', '清晰', '稍凹'], dtype='<U2'),\n   array(['乌黑', '稍蜷', '清晰', '稍凹'], dtype='<U2'),\n   array(['稍蜷', '清晰', '硬滑'], dtype='<U2'),\n   array(['乌黑', '浊响', '清晰', '稍凹'], dtype='<U2'),\n   array(['乌黑', '稍蜷', '清晰', '硬滑'], dtype='<U2'),\n   array(['乌黑', '稍蜷', '浊响', '清晰', '稍凹'], dtype='<U2'),\n   array(['稍蜷', '清晰', '稍凹', '硬滑'], dtype='<U2'),\n   array(['乌黑', '稍蜷', '浊响', '硬滑'], dtype='<U2')],\n  '信息表当前行:',\n  array(['乌黑', '稍蜷', '浊响', '清晰', '稍凹', '硬滑'], dtype='<U2'),\n  '论域:',\n  '8',\n  '决策属性:',\n  '好瓜')]"
     },
     "metadata": {},
     "execution_count": 33
    }
   ],
   "source": [
    "\n",
    "\n",
    "def Reduction(information_table):\n",
    "    '''\n",
    "    集合约简\n",
    "    :return:\n",
    "    '''\n",
    "    equivalence = Equivalence_class_of_all(information_table)\n",
    "    #决策属性\n",
    "    condition = Condition_attributes(information_table)\n",
    "    tags , datas ,indexs ,contrasts  = equivalence['tags'] ,equivalence['datas'] ,equivalence['indexs'] ,equivalence['contrasts']\n",
    "    \n",
    "    #求二元等价类的level2下标\n",
    "    compare = lambda data : [[(i,j) for i,i_d in zip(range(len(data)),data) if (i_d==j_d).all() and i != j][0] for j,j_d in zip(range(len(data)),data)]\n",
    "    #约简集合下标\n",
    "    compare_data = compare(indexs)\n",
    "    #print(compare_data)\n",
    "    reduction_set_subscript = [{j:[p[-1] for p in compare_data if p[0] == j ]} for j in set([i[0] for i in compare_data ])]\n",
    "    return [\n",
    "        [\n",
    "            (\n",
    "                '信息表中出现的等价关系:',[tags[j]for j in indexs]\n",
    "                ,'信息表当前行:', datas[n]\n",
    "                ,'论域:', information_table[np.argwhere(np.dot( datas[n]==condition , np.ones_like(datas[n]).astype(int))==np.ones_like(datas[n]).astype(int).sum())[0][0]+1][0]\n",
    "                ,'决策属性:', information_table[np.argwhere(np.dot( datas[n]==condition , np.ones_like(datas[n]).astype(int))==np.ones_like(datas[n]).astype(int).sum())[0][0]+1][-1]\n",
    "\n",
    "                ) for n,indexs in i.items()\n",
    "                ] for i in reduction_set_subscript]\n",
    "\n",
    "\n",
    "    '''\n",
    "    #适合大量表的时候减少每次矩阵运算的计算量\n",
    "    return [[('信息表中出现的等价关系：',[tags[j]for j in indexs],'信息表当前行：',datas[n],np.array(deep_flatten([['决策属性：', information_table[1:,-1:][i][0],'论域：',i+1] for i in range(len(information_table[1:,1:-1])) if (information_table[1:,1:-1][i]==datas[n]).all()]))) for n,indexs in i.items()][0] for i in reduction_set_subscript]\n",
    "    '''\n",
    "    \n",
    "\n",
    "\n",
    "Reduction(data)[0]"
   ]
  },
  {
   "cell_type": "code",
   "execution_count": 34,
   "metadata": {},
   "outputs": [
    {
     "output_type": "stream",
     "name": "stdout",
     "text": "18\n"
    },
    {
     "output_type": "execute_result",
     "data": {
      "text/plain": "['等价关系',\n array(['浅白'], dtype='<U2'),\n '坏瓜',\n array([1, 2, 3, 4]),\n matrix([['11', '浅白', '硬挺', '清脆', '模糊', '平坦', '硬滑', '坏瓜'],\n         ['12', '浅白', '蜷缩', '浊响', '模糊', '平坦', '软粘', '坏瓜'],\n         ['14', '浅白', '稍蜷', '沉闷', '稍糊', '凹陷', '硬滑', '坏瓜'],\n         ['16', '浅白', '蜷缩', '浊响', '模糊', '平坦', '硬滑', '坏瓜']], dtype='<U2'),\n '好瓜',\n array([0]),\n matrix([['5', '浅白', '蜷缩', '浊响', '清晰', '凹陷', '硬滑', '好瓜']], dtype='<U2')]"
     },
     "metadata": {},
     "execution_count": 34
    }
   ],
   "source": [
    "'''\n",
    "print('使用intersect1d输出x和y的交集:', np.intersect1d(x,y))\n",
    "print('使用setdiff1d输出在x中不在y中的元素:', np.setdiff1d(x,y))\n",
    "print('使用union1d输出x和y的并集:',np.union1d(x,y))\n",
    "print('使用setxor1d输出x和y的异或集:',np.setxor1d(x,y))\n",
    "'''\n",
    "\n",
    "def PosR(X,information_table):\n",
    "    '''\n",
    "    上近似\n",
    "    设X⊆U是任一子集，R是U上的等价关系\n",
    "    Y是U上按等价关系R作成的等价类\n",
    "    上近近似集 (X)=U{Y∈U/R,Y∩X≠∅}\n",
    "    上近似集被理解为那些与X有交的等价关系的并集\n",
    "    上近近似集 (X)={x∈U,[x]R∩X≠∅}。\n",
    "    :return: \n",
    "    '''\n",
    "    print(len(information_table))\n",
    "    condition_attributes = information_table[1:]\n",
    "    single_vector_all_equivalence_classes = [ np.array([X[j] for j in i]) for i in Enumerated_vector_combination(X)]\n",
    "    expr = [(\n",
    "        #'等价关系' ,\n",
    "         an_vector \n",
    "        #,'等价集合'\n",
    "        , condition_attributes[np.array([len(np.intersect1d(an_vector,information))>0 for information in condition_attributes])]\n",
    "    )for an_vector in single_vector_all_equivalence_classes ]\n",
    "    return [ deep_flatten( ['等价关系', i[0] , Classification_of_decision(i[-1]) ]) for i in expr] \n",
    "\n",
    "'''\n",
    "    return [ \n",
    "        [\n",
    "            '等价关系' , an_vector , \n",
    "            np.array([#(\n",
    "                np.append( information , np.argwhere(np.dot((condition_attributes==information),np.ones(len(information)))==len(information))[0][0]+1 )\n",
    "                #)\n",
    "                for information in condition_attributes if len( np.intersect1d( information , an_vector ) ) > 0 ])\n",
    "                ]\n",
    "                for an_vector in single_vector_all_equivalence_classes]\n",
    "                '''\n",
    "\n",
    "\n",
    "\n",
    "PosR([ '浅白' ,'蜷缩' ,'浊响' ,'清晰' ,'凹陷' ,'硬滑' ], data)[0]"
   ]
  },
  {
   "cell_type": "code",
   "execution_count": 35,
   "metadata": {},
   "outputs": [],
   "source": [
    "def negR(X):\n",
    "    '''\n",
    "    下近似\n",
    "    设X⊆U是任一子集，R是U上的等价关系\n",
    "    Y是U上按等价关系R作成的等价类\n",
    "    则下近似：R(X)=U{Y∈U/R,Y⊆X}\n",
    "    下近似集可以被理解为所有那些被包含在X里面的等价关系的并集\n",
    "    因此可以写成以下的等价形式：R(X)={x∈U,[x]R⊆U}\n",
    "    :return: \n",
    "    '''\n",
    "    "
   ]
  },
  {
   "cell_type": "code",
   "execution_count": 36,
   "metadata": {},
   "outputs": [],
   "source": [
    "def bnR(X):\n",
    "    '''\n",
    "    X的R边界线\n",
    "    设X⊆U是任一子集，R是U上的等价关系\n",
    "    集合bnR(x)= (X)-R(x),称为X的R边界线\n",
    "    :param X: \n",
    "    :return: \n",
    "    '''\n",
    ""
   ]
  },
  {
   "cell_type": "code",
   "execution_count": 37,
   "metadata": {},
   "outputs": [],
   "source": [
    "def Positive_domain():\n",
    "    '''\n",
    "    正域\n",
    "    设X⊆U是任一子集，R是U上的等价关系\n",
    "    PosR（X）=R(X)称为X的R正域\n",
    "    :return: \n",
    "    '''"
   ]
  },
  {
   "cell_type": "code",
   "execution_count": 38,
   "metadata": {},
   "outputs": [],
   "source": [
    "def Negative_domain():\n",
    "    '''\n",
    "    负域\n",
    "    设X⊆U是任一子集，R是U上的等价关系\n",
    "    negR（X）=U-（x）称为X的R负域\n",
    "    :return: \n",
    "    '''\n",
    ""
   ]
  }
 ],
 "metadata": {
  "kernelspec": {
   "display_name": "PyCharm (InferenceSystem)",
   "language": "python",
   "name": "pycharm-66c53067"
  },
  "language_info": {
   "codemirror_mode": {
    "name": "ipython",
    "version": 2
   },
   "file_extension": ".py",
   "mimetype": "text/x-python",
   "name": "python",
   "nbconvert_exporter": "python",
   "pygments_lexer": "ipython2",
   "version": "3.5.6-final"
  },
  "pycharm": {
   "stem_cell": {
    "cell_type": "raw",
    "source": [],
    "metadata": {
     "collapsed": false
    }
   }
  }
 },
 "nbformat": 4,
 "nbformat_minor": 0
}