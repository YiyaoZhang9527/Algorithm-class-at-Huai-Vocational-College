{
 "cells": [
  {
   "cell_type": "markdown",
   "metadata": {},
   "source": [
    "粗糙集是波兰理工大学Z.pawlak教授提出用来研究不完整数据，不精确知识的表达、学习，归纳等的一套理论\n",
    "\n",
    "它是一种新的处理模糊和不确定性问题的数学工具，已被广泛应用于知识发现、机器学习、决策支持、模式识别、专家系统及归纳推理等领域。\n",
    "\n",
    "粗糙集理论的特点是能够分析隐藏在数据中的事实，又不需要关于数据附加信息。\n",
    "\n",
    "其主要思想是在保持分类能力不变的前提下，通过知识约简，导出问题的决策或分类规则。\n",
    "\n",
    "从数学的角度看，粗糙集是研究集合的；从编程的角度看，粗糙集的研究对象是矩阵,只不过是一些特殊的矩阵；从人工智能的角度来看，粗糙集研究的是决策表。\n",
    "##### 视频讲解粗糙集和属性约简\n",
    "\n",
    "* [视频讲解粗糙集1](https://www.bilibili.com/video/BV1xu41157ss/?spm_id_from=333.999.0.0&vd_source=ce2c265fe654b727a504cf64875b6105)\n",
    "\n",
    "* [视频讲解粗糙集2](https://www.bilibili.com/video/BV1D14y1R7qB/?spm_id_from=333.788.recommend_more_video.-1&vd_source=ce2c265fe654b727a504cf64875b6105)\n",
    "\n",
    "* [视频讲解粗糙集3](https://www.bilibili.com/video/BV18z4y1J7GF/?spm_id_from=333.788.recommend_more_video.0&vd_source=ce2c265fe654b727a504cf64875b6105)\n",
    "##### 文字讲解什么是粗糙集\n",
    "* [什么是粗糙集1](https://www.jianshu.com/p/a129b7a6be9e)\n",
    "\n",
    "* [什么是粗糙集2](https://www.jianshu.com/p/bb61d6bc81e1)\n",
    "\n",
    "* [什么是粗糙集3](https://www.jianshu.com/p/ab3135fd5d40)\n",
    "\n",
    "* [什么是粗糙集4](https://www.jianshu.com/p/b48d46688078)\n",
    "\n",
    "* [什么是粗糙集5](https://www.jianshu.com/p/768166d73aa1)\n",
    "\n",
    "* [什么是粗糙集6](https://www.jianshu.com/p/b303f95313cf)"
   ]
  },
  {
   "cell_type": "code",
   "execution_count": 173,
   "metadata": {},
   "outputs": [],
   "source": [
    "import numpy as np\n",
    "import pandas as pd\n"
   ]
  },
  {
   "cell_type": "code",
   "execution_count": 174,
   "metadata": {},
   "outputs": [
    {
     "data": {
      "text/html": [
       "<div>\n",
       "<style scoped>\n",
       "    .dataframe tbody tr th:only-of-type {\n",
       "        vertical-align: middle;\n",
       "    }\n",
       "\n",
       "    .dataframe tbody tr th {\n",
       "        vertical-align: top;\n",
       "    }\n",
       "\n",
       "    .dataframe thead th {\n",
       "        text-align: right;\n",
       "    }\n",
       "</style>\n",
       "<table border=\"1\" class=\"dataframe\">\n",
       "  <thead>\n",
       "    <tr style=\"text-align: right;\">\n",
       "      <th></th>\n",
       "      <th>病人</th>\n",
       "      <th>头疼</th>\n",
       "      <th>肌肉疼</th>\n",
       "      <th>体温</th>\n",
       "      <th>流感</th>\n",
       "    </tr>\n",
       "  </thead>\n",
       "  <tbody>\n",
       "    <tr>\n",
       "      <th>0</th>\n",
       "      <td>e1</td>\n",
       "      <td>是</td>\n",
       "      <td>是</td>\n",
       "      <td>正常</td>\n",
       "      <td>否</td>\n",
       "    </tr>\n",
       "    <tr>\n",
       "      <th>1</th>\n",
       "      <td>e2</td>\n",
       "      <td>是</td>\n",
       "      <td>是</td>\n",
       "      <td>高</td>\n",
       "      <td>是</td>\n",
       "    </tr>\n",
       "    <tr>\n",
       "      <th>2</th>\n",
       "      <td>e3</td>\n",
       "      <td>是</td>\n",
       "      <td>是</td>\n",
       "      <td>很高</td>\n",
       "      <td>是</td>\n",
       "    </tr>\n",
       "    <tr>\n",
       "      <th>3</th>\n",
       "      <td>e4</td>\n",
       "      <td>否</td>\n",
       "      <td>是</td>\n",
       "      <td>正常</td>\n",
       "      <td>否</td>\n",
       "    </tr>\n",
       "    <tr>\n",
       "      <th>4</th>\n",
       "      <td>e5</td>\n",
       "      <td>否</td>\n",
       "      <td>否</td>\n",
       "      <td>高</td>\n",
       "      <td>否</td>\n",
       "    </tr>\n",
       "    <tr>\n",
       "      <th>5</th>\n",
       "      <td>e6</td>\n",
       "      <td>否</td>\n",
       "      <td>是</td>\n",
       "      <td>很高</td>\n",
       "      <td>是</td>\n",
       "    </tr>\n",
       "  </tbody>\n",
       "</table>\n",
       "</div>"
      ],
      "text/plain": [
       "   病人 头疼 肌肉疼  体温 流感\n",
       "0  e1  是   是  正常  否\n",
       "1  e2  是   是   高  是\n",
       "2  e3  是   是  很高  是\n",
       "3  e4  否   是  正常  否\n",
       "4  e5  否   否   高  否\n",
       "5  e6  否   是  很高  是"
      ]
     },
     "execution_count": 174,
     "metadata": {},
     "output_type": "execute_result"
    }
   ],
   "source": [
    "table = pd.DataFrame(\n",
    "    data=np.matrix([[\"e1\",'是', '是', '正常', '否']\n",
    "    ,[\"e2\",'是', '是', '高', '是']\n",
    "    ,[\"e3\",'是', '是', '很高', '是']\n",
    "    ,[\"e4\",'否', '是', '正常', '否']\n",
    "    ,[\"e5\",'否', '否', '高', '否']\n",
    "    ,[\"e6\",'否', '是', '很高', '是']])\n",
    "    ,columns= [\"病人\",\"头疼\",\"肌肉疼\",\"体温\",\"流感\"]\n",
    "    # ,index = ['e1','e2','e3','e4','e5','e6']\n",
    "        )\n",
    "table"
   ]
  },
  {
   "cell_type": "markdown",
   "metadata": {},
   "source": [
    "#### 决策属性 $ D $\n",
    "* 决策属性其实就相当于平时分类建模时候训练数据的标签\n",
    "* 在这里决策属性其实就是 “流感” 这一列"
   ]
  },
  {
   "cell_type": "code",
   "execution_count": 175,
   "metadata": {},
   "outputs": [],
   "source": [
    "D = np.ravel(table.iloc[:,-1])\n",
    "D = np.array(D,dtype=np.str_)"
   ]
  },
  {
   "cell_type": "markdown",
   "metadata": {},
   "source": [
    "#### 条件属性 $ C $\n",
    "* 条件属性就是去掉索引和标签的部分"
   ]
  },
  {
   "cell_type": "code",
   "execution_count": 176,
   "metadata": {},
   "outputs": [
    {
     "data": {
      "text/plain": [
       "matrix([['是', '是', '正常'],\n",
       "        ['是', '是', '高'],\n",
       "        ['是', '是', '很高'],\n",
       "        ['否', '是', '正常'],\n",
       "        ['否', '否', '高'],\n",
       "        ['否', '是', '很高']], dtype='<U2')"
      ]
     },
     "execution_count": 176,
     "metadata": {},
     "output_type": "execute_result"
    }
   ],
   "source": [
    "C = np.matrix(table.iloc[:,1:-1],dtype=np.str_)\n",
    "C "
   ]
  },
  {
   "cell_type": "markdown",
   "metadata": {},
   "source": [
    "#### $ R $ 其实就是个属性值的列名"
   ]
  },
  {
   "cell_type": "code",
   "execution_count": 177,
   "metadata": {},
   "outputs": [
    {
     "data": {
      "text/plain": [
       "array(['病人', '头疼', '肌肉疼', '体温', '流感'], dtype='<U3')"
      ]
     },
     "execution_count": 177,
     "metadata": {},
     "output_type": "execute_result"
    }
   ],
   "source": [
    "R = np.array(table.columns,dtype=np.str_)\n",
    "R"
   ]
  },
  {
   "cell_type": "markdown",
   "metadata": {},
   "source": [
    "#### 论域是一个对象$ U $\n",
    "* 论域其实就是平时建模时候的 X 变量矩阵\n",
    "* 在信息系统中，这就是 U ，是非空有限对象集，称为论域\n",
    "* $ U = \\{e1,e2,e3,e4,e5,e6\\} $ [e1,e2 ……]这些其实是论域的标签"
   ]
  },
  {
   "cell_type": "code",
   "execution_count": 178,
   "metadata": {},
   "outputs": [
    {
     "data": {
      "text/plain": [
       "matrix([['e1', '是', '是', '正常', '否'],\n",
       "        ['e2', '是', '是', '高', '是'],\n",
       "        ['e3', '是', '是', '很高', '是'],\n",
       "        ['e4', '否', '是', '正常', '否'],\n",
       "        ['e5', '否', '否', '高', '否'],\n",
       "        ['e6', '否', '是', '很高', '是']], dtype='<U2')"
      ]
     },
     "execution_count": 178,
     "metadata": {},
     "output_type": "execute_result"
    }
   ],
   "source": [
    "U = np.matrix(table.iloc[:,:],dtype=np.str_)\n",
    "U"
   ]
  },
  {
   "cell_type": "markdown",
   "metadata": {},
   "source": [
    "####  $ V $ 是属性值的集合"
   ]
  },
  {
   "cell_type": "code",
   "execution_count": 179,
   "metadata": {},
   "outputs": [
    {
     "data": {
      "text/plain": [
       "array(['否', '很高', '是', '正常', '高'], dtype='<U2')"
      ]
     },
     "execution_count": 179,
     "metadata": {},
     "output_type": "execute_result"
    }
   ],
   "source": [
    "V = np.unique(np.ravel(U[:,1:]))\n",
    "V"
   ]
  },
  {
   "cell_type": "markdown",
   "metadata": {},
   "source": [
    "#### $ V_{a} $ 就是各属性的值域，白话说就是各属性的值的取值范围\n",
    "##### 比如这张表里:\n",
    "* $ V_{头疼} $ ：的取值范围就是 {是，否}\n",
    "* $ V_{肌肉疼 } $ ： 的取值范围就是 {是，否}\n",
    "* $ V_{体温} $ ： 的取值范围就是 {正常，高，很高}"
   ]
  },
  {
   "cell_type": "code",
   "execution_count": 180,
   "metadata": {},
   "outputs": [
    {
     "data": {
      "text/html": [
       "<div>\n",
       "<style scoped>\n",
       "    .dataframe tbody tr th:only-of-type {\n",
       "        vertical-align: middle;\n",
       "    }\n",
       "\n",
       "    .dataframe tbody tr th {\n",
       "        vertical-align: top;\n",
       "    }\n",
       "\n",
       "    .dataframe thead th {\n",
       "        text-align: right;\n",
       "    }\n",
       "</style>\n",
       "<table border=\"1\" class=\"dataframe\">\n",
       "  <thead>\n",
       "    <tr style=\"text-align: right;\">\n",
       "      <th></th>\n",
       "      <th>变量名</th>\n",
       "      <th>值域</th>\n",
       "    </tr>\n",
       "  </thead>\n",
       "  <tbody>\n",
       "    <tr>\n",
       "      <th>0</th>\n",
       "      <td>头疼</td>\n",
       "      <td>[否, 是, 正常]</td>\n",
       "    </tr>\n",
       "    <tr>\n",
       "      <th>1</th>\n",
       "      <td>肌肉疼</td>\n",
       "      <td>[是, 高]</td>\n",
       "    </tr>\n",
       "    <tr>\n",
       "      <th>2</th>\n",
       "      <td>体温</td>\n",
       "      <td>[很高, 是]</td>\n",
       "    </tr>\n",
       "    <tr>\n",
       "      <th>3</th>\n",
       "      <td>流感</td>\n",
       "      <td>[否, 是, 正常]</td>\n",
       "    </tr>\n",
       "  </tbody>\n",
       "</table>\n",
       "</div>"
      ],
      "text/plain": [
       "   变量名          值域\n",
       "0   头疼  [否, 是, 正常]\n",
       "1  肌肉疼      [是, 高]\n",
       "2   体温     [很高, 是]\n",
       "3   流感  [否, 是, 正常]"
      ]
     },
     "execution_count": 180,
     "metadata": {},
     "output_type": "execute_result"
    }
   ],
   "source": [
    "def GetVa(U,R):\n",
    "    return_eq = {\"变量名\":[],\"值域\":[]}\n",
    "    # 切分出值矩阵\n",
    "    Vmatrix = U[:,1:]\n",
    "    # 且分出列明\n",
    "    Rs = R[1:]\n",
    "\n",
    "    for R_name,Varray in zip(Rs,Vmatrix):\n",
    "        # 先将列数据降维到行数据\n",
    "        lower_dimensional = np.ravel(Varray)\n",
    "        # 对数据去重得到 Va 也就是属性的值域\n",
    "        Va = np.unique(lower_dimensional) \n",
    "        return_eq[\"变量名\"].append(R_name)\n",
    "        return_eq[\"值域\"].append(Va)\n",
    "\n",
    "    return pd.DataFrame(return_eq)\n",
    "\n",
    "GetVa(U,R)"
   ]
  },
  {
   "cell_type": "markdown",
   "metadata": {},
   "source": [
    "$f$ : 是 $U \\times R \\rightarrow V$ 的一个信息函数, 它为每个对象 $\\mathbf{x}$ 的 每个属性 $\\mathbf{a}$ 赋予一个属性值, 即\n",
    "$$\n",
    "a \\in R, x \\in U, f_a(x) \\in V_a\n",
    "$$\n",
    "* 比如 $ e1 $ 在这里就是 【头疼】这一项 映射的值就是【是】，这个过程就是这个信息函数的作用  \n",
    "* 这里调用f函数的要求是： $ x \\in U $ $ a \\in R $ \n",
    "* 返回的 $f(x) \\in V$"
   ]
  },
  {
   "cell_type": "code",
   "execution_count": 181,
   "metadata": {},
   "outputs": [
    {
     "data": {
      "text/html": [
       "<div>\n",
       "<style scoped>\n",
       "    .dataframe tbody tr th:only-of-type {\n",
       "        vertical-align: middle;\n",
       "    }\n",
       "\n",
       "    .dataframe tbody tr th {\n",
       "        vertical-align: top;\n",
       "    }\n",
       "\n",
       "    .dataframe thead th {\n",
       "        text-align: right;\n",
       "    }\n",
       "</style>\n",
       "<table border=\"1\" class=\"dataframe\">\n",
       "  <thead>\n",
       "    <tr style=\"text-align: right;\">\n",
       "      <th></th>\n",
       "      <th>头疼</th>\n",
       "      <th>体温</th>\n",
       "    </tr>\n",
       "  </thead>\n",
       "  <tbody>\n",
       "    <tr>\n",
       "      <th>e1</th>\n",
       "      <td>是</td>\n",
       "      <td>正常</td>\n",
       "    </tr>\n",
       "    <tr>\n",
       "      <th>e2</th>\n",
       "      <td>是</td>\n",
       "      <td>高</td>\n",
       "    </tr>\n",
       "  </tbody>\n",
       "</table>\n",
       "</div>"
      ],
      "text/plain": [
       "   头疼  体温\n",
       "e1  是  正常\n",
       "e2  是   高"
      ]
     },
     "execution_count": 181,
     "metadata": {},
     "output_type": "execute_result"
    }
   ],
   "source": [
    "def f(U,R,x,a):\n",
    "    '''\n",
    "    信息函数\n",
    "    '''\n",
    "    a = np.array(a)\n",
    "    x = np.array(x)\n",
    "    # 切分出 U 的标签 e_{x}\n",
    "    U_i = U[:,0]\n",
    "\n",
    "    # 生成 U 轴的布尔值索引\n",
    "    m,n = U_i.shape\n",
    "    x_index = np.zeros(m)\n",
    "    for x_i in x: \n",
    "        x_index += np.ravel(U_i==x_i)\n",
    "    # 将x所属U的位置数字变为bool值索引 \n",
    "    x_index = x_index.astype(bool)\n",
    "\n",
    "    # 生成 R 轴的布尔值索引\n",
    "    m = R.size\n",
    "    a_index = np.zeros(m)\n",
    "    for a_i in a:\n",
    "        a_index += np.ravel(R == a_i)\n",
    "    # 将a所属R的位置数字变为bool值索引 \n",
    "    a_index = a_index.astype(bool)\n",
    "\n",
    "    # 切分出当前信息\n",
    "    fx = U[x_index].T[a_index].T\n",
    "    return pd.DataFrame(data=fx,columns=a,index=x)\n",
    "\n",
    "f(U,R,a=[\"头疼\",\"体温\"],x=[\"e1\",\"e2\"])"
   ]
  },
  {
   "cell_type": "markdown",
   "metadata": {},
   "source": [
    "#### IND(A) 等价关系\n",
    "* 大白话说等价关系就是两或者多个对象,在某一个或着多个属性上相同，那么就说他们之间是等价关系\n",
    "* A 可能包含一个属性，或者多个属性"
   ]
  },
  {
   "cell_type": "code",
   "execution_count": 213,
   "metadata": {},
   "outputs": [
    {
     "data": {
      "text/html": [
       "<div>\n",
       "<style scoped>\n",
       "    .dataframe tbody tr th:only-of-type {\n",
       "        vertical-align: middle;\n",
       "    }\n",
       "\n",
       "    .dataframe tbody tr th {\n",
       "        vertical-align: top;\n",
       "    }\n",
       "\n",
       "    .dataframe thead th {\n",
       "        text-align: right;\n",
       "    }\n",
       "</style>\n",
       "<table border=\"1\" class=\"dataframe\">\n",
       "  <thead>\n",
       "    <tr style=\"text-align: right;\">\n",
       "      <th></th>\n",
       "      <th>比较属性列名</th>\n",
       "      <th>等价属性</th>\n",
       "      <th>等价类对象</th>\n",
       "    </tr>\n",
       "  </thead>\n",
       "  <tbody>\n",
       "    <tr>\n",
       "      <th>0</th>\n",
       "      <td>[肌肉疼]</td>\n",
       "      <td>[否]</td>\n",
       "      <td>[e5]</td>\n",
       "    </tr>\n",
       "    <tr>\n",
       "      <th>1</th>\n",
       "      <td>[肌肉疼]</td>\n",
       "      <td>[是]</td>\n",
       "      <td>[e1, e2, e3, e4, e6]</td>\n",
       "    </tr>\n",
       "  </tbody>\n",
       "</table>\n",
       "</div>"
      ],
      "text/plain": [
       "  比较属性列名 等价属性                 等价类对象\n",
       "0  [肌肉疼]  [否]                  [e5]\n",
       "1  [肌肉疼]  [是]  [e1, e2, e3, e4, e6]"
      ]
     },
     "execution_count": 213,
     "metadata": {},
     "output_type": "execute_result"
    }
   ],
   "source": [
    "def IND(U,R,A:iter,out_dataframe=None):\n",
    "    # 切分出 U 的标签 e_{x}\n",
    "    U_i = U[:,0]\n",
    "    m = R.size\n",
    "    A = np.array(A)\n",
    "    a_index = np.zeros(m)\n",
    "    for a_i in A:\n",
    "        a_index += np.ravel(R == a_i)\n",
    "    # 将a所属R的位置数字变为bool值索引 \n",
    "    a_index = a_index.astype(bool)\n",
    "\n",
    "    # 切出待比较的列\n",
    "    U_ij = U.T[a_index].T\n",
    "    # 去重相同属性\n",
    "    de_duplicate_Uij = np.unique(U_ij,axis=0)\n",
    "\n",
    "\n",
    "    A_length = len(A)\n",
    "    return_eq = {\"比较属性列名\":[],\"等价属性\":[],\"等价类对象\":[]}\n",
    "    for de_ in de_duplicate_Uij:\n",
    "        x_index = np.where(U_ij == de_,True,False).sum(axis=1)==len(A)\n",
    "        return_eq[\"比较属性列名\"].append(A)\n",
    "        return_eq[\"等价属性\"].append(de_)\n",
    "        return_eq[\"等价类对象\"].append(np.ravel(U_i[x_index]))\n",
    "        # print(de_,np.ravel(U_i[x_index]))\n",
    "    if out_dataframe:\n",
    "        return pd.DataFrame(return_eq)\n",
    "    return return_eq\n",
    "\n",
    "IND(U,R,A=[\"肌肉疼\"],out_dataframe=True)"
   ]
  },
  {
   "cell_type": "markdown",
   "metadata": {},
   "source": []
  }
 ],
 "metadata": {
  "kernelspec": {
   "display_name": "base",
   "language": "python",
   "name": "python3"
  },
  "language_info": {
   "codemirror_mode": {
    "name": "ipython",
    "version": 3
   },
   "file_extension": ".py",
   "mimetype": "text/x-python",
   "name": "python",
   "nbconvert_exporter": "python",
   "pygments_lexer": "ipython3",
   "version": "3.8.18"
  },
  "orig_nbformat": 4
 },
 "nbformat": 4,
 "nbformat_minor": 2
}
