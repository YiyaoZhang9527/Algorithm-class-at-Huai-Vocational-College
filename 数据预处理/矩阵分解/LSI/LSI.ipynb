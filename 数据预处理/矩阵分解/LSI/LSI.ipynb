{
 "cells": [
  {
   "cell_type": "markdown",
   "metadata": {},
   "source": [
    "[使用Python进行潜在语义分析](https://www.datacamp.com/tutorial/discovering-hidden-topics-python)"
   ]
  },
  {
   "cell_type": "code",
   "execution_count": 1,
   "metadata": {},
   "outputs": [],
   "source": [
    "import numpy as np\n",
    "from scipy.sparse import *\n",
    "from scipy.sparse.linalg import svds\n",
    "def lsi(documents, k):\n",
    "    matrix = np.zeros((len(documents), len(vocabulary)))\n",
    "    for i, doc in enumerate(documents):\n",
    "        for word, freq in doc.items():\n",
    "            matrix[i][vocabulary[word]] = freq\n",
    "            sparse_matrix = csr_matrix(matrix)\n",
    "    u, s, vt = svds(sparse_matrix, k)\n",
    "    return u, s, vt"
   ]
  },
  {
   "cell_type": "code",
   "execution_count": null,
   "metadata": {},
   "outputs": [],
   "source": []
  }
 ],
 "metadata": {
  "kernelspec": {
   "display_name": "base",
   "language": "python",
   "name": "python3"
  },
  "language_info": {
   "codemirror_mode": {
    "name": "ipython",
    "version": 3
   },
   "file_extension": ".py",
   "mimetype": "text/x-python",
   "name": "python",
   "nbconvert_exporter": "python",
   "pygments_lexer": "ipython3",
   "version": "3.7.16"
  }
 },
 "nbformat": 4,
 "nbformat_minor": 2
}
