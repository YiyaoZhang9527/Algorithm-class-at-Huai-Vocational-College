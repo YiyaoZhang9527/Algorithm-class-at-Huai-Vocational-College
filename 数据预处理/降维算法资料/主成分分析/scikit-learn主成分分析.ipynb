{
 "cells": [
  {
   "cell_type": "code",
   "execution_count": 2,
   "id": "eba7a27a",
   "metadata": {},
   "outputs": [
    {
     "data": {
      "text/plain": [
       "(40, 10)"
      ]
     },
     "execution_count": 2,
     "metadata": {},
     "output_type": "execute_result"
    }
   ],
   "source": [
    "import numpy as np\n",
    "\n",
    "X = np.random.normal(0,1,400).reshape(40,10)\n",
    "X.shape"
   ]
  },
  {
   "cell_type": "markdown",
   "id": "e53c676e",
   "metadata": {},
   "source": [
    "## 参数设置默认\n",
    "###### PCA(copy=True, iterated_power='auto', n_components=0.99, random_state=None,svd_solver='auto', tol=0.0, whiten=False)"
   ]
  },
  {
   "cell_type": "code",
   "execution_count": 3,
   "id": "62895fb1",
   "metadata": {},
   "outputs": [
    {
     "data": {
      "text/plain": [
       "PCA(n_components=2)"
      ]
     },
     "execution_count": 3,
     "metadata": {},
     "output_type": "execute_result"
    }
   ],
   "source": [
    "from sklearn.decomposition import PCA  # 导入 sklearn.decomposition.PCA 类\n",
    "\n",
    "\n",
    "modelPCA = PCA(n_components=2)  # 建立模型，设定保留主成分数 K=2\n",
    "modelPCA.fit(X)  # 用数据集 X 训练 模型 modelPCA"
   ]
  },
  {
   "cell_type": "code",
   "execution_count": 4,
   "id": "fb52a558",
   "metadata": {},
   "outputs": [
    {
     "name": "stdout",
     "output_type": "stream",
     "text": [
      "2\n"
     ]
    }
   ],
   "source": [
    "print(modelPCA.n_components_)  # 返回 PCA 模型保留的主成份个数"
   ]
  },
  {
   "cell_type": "code",
   "execution_count": 5,
   "id": "9d2fa183",
   "metadata": {},
   "outputs": [
    {
     "name": "stdout",
     "output_type": "stream",
     "text": [
      "[0.19294641 0.18181607]\n"
     ]
    }
   ],
   "source": [
    "print(modelPCA.explained_variance_ratio_)  # 返回 PCA 模型各主成份占比"
   ]
  },
  {
   "cell_type": "code",
   "execution_count": 6,
   "id": "adad7f30",
   "metadata": {},
   "outputs": [
    {
     "data": {
      "text/plain": [
       "(40, 2)"
      ]
     },
     "execution_count": 6,
     "metadata": {},
     "output_type": "execute_result"
    }
   ],
   "source": [
    "modelPCA.transform(X).shape"
   ]
  },
  {
   "cell_type": "markdown",
   "id": "a8100e84",
   "metadata": {},
   "source": [
    "#### 方差百分比建立模型"
   ]
  },
  {
   "cell_type": "code",
   "execution_count": 7,
   "id": "0f42535e",
   "metadata": {},
   "outputs": [],
   "source": [
    "modelPCA2 = PCA(n_components=0.9) # 建立模型，设定主成份方差占比 0.9"
   ]
  },
  {
   "cell_type": "code",
   "execution_count": 8,
   "id": "ac2ee3c6",
   "metadata": {},
   "outputs": [
    {
     "data": {
      "text/plain": [
       "(40, 8)"
      ]
     },
     "execution_count": 8,
     "metadata": {},
     "output_type": "execute_result"
    }
   ],
   "source": [
    "Xtrans = modelPCA2.fit_transform(X)\n",
    "Xtrans.shape"
   ]
  },
  {
   "cell_type": "markdown",
   "id": "a78c8034",
   "metadata": {},
   "source": [
    "#### 主成分方差贡献率"
   ]
  },
  {
   "cell_type": "code",
   "execution_count": 9,
   "id": "8da4f2f6",
   "metadata": {},
   "outputs": [
    {
     "data": {
      "text/plain": [
       "array([0.19294641, 0.18181607, 0.13630666, 0.10905516, 0.09694546,\n",
       "       0.06893132, 0.06184328, 0.05911568])"
      ]
     },
     "execution_count": 9,
     "metadata": {},
     "output_type": "execute_result"
    }
   ],
   "source": [
    "modelPCA2.explained_variance_ratio_ # 返回 PCA 模型各主成份占比"
   ]
  },
  {
   "cell_type": "markdown",
   "id": "e55ece72",
   "metadata": {},
   "source": [
    "#### 主成分方差"
   ]
  },
  {
   "cell_type": "code",
   "execution_count": 10,
   "id": "fa1612e4",
   "metadata": {},
   "outputs": [
    {
     "data": {
      "text/plain": [
       "array([1.87431655, 1.76619435, 1.32410775, 1.05938171, 0.94174581,\n",
       "       0.66961139, 0.60075685, 0.57426051])"
      ]
     },
     "execution_count": 10,
     "metadata": {},
     "output_type": "execute_result"
    }
   ],
   "source": [
    "modelPCA2.explained_variance_ # * 降维后的各主成分的方差值。方差值越大，则说明越是重要的主成分。"
   ]
  },
  {
   "cell_type": "markdown",
   "id": "1814a8e4",
   "metadata": {},
   "source": [
    "#### 主成分载荷矩阵"
   ]
  },
  {
   "cell_type": "code",
   "execution_count": 11,
   "id": "6f41058a",
   "metadata": {},
   "outputs": [
    {
     "data": {
      "text/plain": [
       "array([[ 0.61278887,  0.02705309,  0.11272518,  0.25531316,  0.02626036,\n",
       "         0.29063204,  0.24338431, -0.11464445,  0.60645865, -0.14331159],\n",
       "       [-0.05286742, -0.0738637 ,  0.32274864,  0.22454807, -0.36116824,\n",
       "        -0.65166316,  0.01271264,  0.1713725 ,  0.34398622,  0.3663286 ],\n",
       "       [-0.28092616,  0.06461298, -0.11579382,  0.16478364,  0.75013384,\n",
       "        -0.12092767,  0.40883843,  0.00590856,  0.17129273,  0.32014769],\n",
       "       [-0.11389442,  0.36480186,  0.23116809,  0.48235478, -0.18816223,\n",
       "         0.48788343,  0.07466166,  0.33790805, -0.26203799,  0.32555714],\n",
       "       [ 0.0856119 ,  0.58383104, -0.46505948,  0.03482258, -0.27917549,\n",
       "        -0.17516511,  0.14438684, -0.5081309 , -0.04902728,  0.2103544 ],\n",
       "       [ 0.60192753, -0.25999387, -0.39196464,  0.1557948 ,  0.07688139,\n",
       "        -0.21429034,  0.08846738,  0.35090426, -0.41219277,  0.19870551],\n",
       "       [-0.2311891 ,  0.21200944, -0.40349583, -0.03084846, -0.19852891,\n",
       "        -0.07874826,  0.29711175,  0.57928534,  0.24027985, -0.45896271],\n",
       "       [-0.24252274, -0.31343169, -0.24684736,  0.75533445, -0.02979677,\n",
       "        -0.05719241, -0.19153493, -0.26799787, -0.03206163, -0.31270481]])"
      ]
     },
     "execution_count": 11,
     "metadata": {},
     "output_type": "execute_result"
    }
   ],
   "source": [
    "modelPCA2.components_"
   ]
  },
  {
   "cell_type": "code",
   "execution_count": null,
   "id": "33648f56",
   "metadata": {},
   "outputs": [],
   "source": []
  }
 ],
 "metadata": {
  "kernelspec": {
   "display_name": "Python 3 (ipykernel)",
   "language": "python",
   "name": "python3"
  },
  "language_info": {
   "codemirror_mode": {
    "name": "ipython",
    "version": 3
   },
   "file_extension": ".py",
   "mimetype": "text/x-python",
   "name": "python",
   "nbconvert_exporter": "python",
   "pygments_lexer": "ipython3",
   "version": "3.8.10"
  }
 },
 "nbformat": 4,
 "nbformat_minor": 5
}
