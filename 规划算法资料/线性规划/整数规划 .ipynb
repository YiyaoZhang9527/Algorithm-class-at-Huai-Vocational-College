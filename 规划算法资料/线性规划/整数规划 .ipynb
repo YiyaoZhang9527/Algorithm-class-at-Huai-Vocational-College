{
 "cells": [
  {
   "cell_type": "code",
   "execution_count": 79,
   "metadata": {},
   "outputs": [
    {
     "data": {
      "text/plain": [
       "['CLARABEL',\n",
       " 'CVXOPT',\n",
       " 'ECOS',\n",
       " 'ECOS_BB',\n",
       " 'GLPK',\n",
       " 'GLPK_MI',\n",
       " 'OSQP',\n",
       " 'SCIPY',\n",
       " 'SCS']"
      ]
     },
     "execution_count": 79,
     "metadata": {},
     "output_type": "execute_result"
    }
   ],
   "source": [
    "import cvxpy as cp\n",
    "from numpy import array\n",
    "\n",
    "cp.installed_solvers()\n",
    "\n"
   ]
  },
  {
   "cell_type": "markdown",
   "metadata": {},
   "source": [
    "例 6.1 求解下列整数线性规划问题:\n",
    "$$\n",
    "\\begin{aligned}\n",
    "& \\min z=40 x_1+90 x_2, \\\\\n",
    "& \\text { s.t. }\\left\\{\\begin{array}{l}\n",
    "9 x_1+7 x_2 \\leq 56, \\\\\n",
    "7 x_1+20 x_2 \\geq 70, \\\\\n",
    "x_1, x_2 \\geq 0 \\text { 为整数. }\n",
    "\\end{array}\\right.\n",
    "\\end{aligned}\n",
    "$$\n",
    "\n",
    "解 利用 cvxpy 库, 求得的最优解为 $x_1=2, x_2=3$; 目标函数的最优值为 $z=350$ 。"
   ]
  },
  {
   "cell_type": "code",
   "execution_count": 80,
   "metadata": {},
   "outputs": [
    {
     "data": {
      "text/plain": [
       "Variable((2,), var937, integer=True)"
      ]
     },
     "execution_count": 80,
     "metadata": {},
     "output_type": "execute_result"
    }
   ],
   "source": [
    "c=array([40,90])  #定义目标向量\n",
    "a=array([[9,7],[-7,-20]])  #定义约束矩阵\n",
    "b=array([56,-70])  #定义约束条件的右边向量\n",
    "x=cp.Variable(2,integer=True)  #定义两个整数决策变量\n",
    "\n",
    "x"
   ]
  },
  {
   "cell_type": "code",
   "execution_count": 81,
   "metadata": {},
   "outputs": [
    {
     "name": "stdout",
     "output_type": "stream",
     "text": [
      "===============================================================================\n",
      "                                     CVXPY                                     \n",
      "                                     v1.4.1                                    \n",
      "===============================================================================\n",
      "(CVXPY) Oct 29 06:57:43 PM: Your problem has 2 variables, 2 constraints, and 0 parameters.\n",
      "(CVXPY) Oct 29 06:57:43 PM: It is compliant with the following grammars: DCP, DQCP\n",
      "(CVXPY) Oct 29 06:57:43 PM: (If you need to solve this problem multiple times, but with different data, consider using parameters.)\n",
      "(CVXPY) Oct 29 06:57:43 PM: CVXPY will first compile your problem; then, it will invoke a numerical solver to obtain a solution.\n",
      "(CVXPY) Oct 29 06:57:43 PM: Your problem is compiled with the CPP canonicalization backend.\n",
      "-------------------------------------------------------------------------------\n",
      "                                  Compilation                                  \n",
      "-------------------------------------------------------------------------------\n",
      "(CVXPY) Oct 29 06:57:43 PM: Compiling problem (target solver=GLPK_MI).\n",
      "(CVXPY) Oct 29 06:57:43 PM: Reduction chain: Dcp2Cone -> CvxAttr2Constr -> ConeMatrixStuffing -> GLPK_MI\n",
      "(CVXPY) Oct 29 06:57:43 PM: Applying reduction Dcp2Cone\n",
      "(CVXPY) Oct 29 06:57:43 PM: Applying reduction CvxAttr2Constr\n",
      "(CVXPY) Oct 29 06:57:44 PM: Applying reduction ConeMatrixStuffing\n",
      "(CVXPY) Oct 29 06:57:44 PM: Applying reduction GLPK_MI\n",
      "(CVXPY) Oct 29 06:57:44 PM: Finished problem compilation (took 4.402e-02 seconds).\n",
      "-------------------------------------------------------------------------------\n",
      "                                Numerical solver                               \n",
      "-------------------------------------------------------------------------------\n",
      "(CVXPY) Oct 29 06:57:44 PM: Invoking solver GLPK_MI  to obtain a solution.\n",
      "-------------------------------------------------------------------------------\n",
      "                                    Summary                                    \n",
      "-------------------------------------------------------------------------------      0: obj =   2.700000000e+02 inf =   6.250e-01 (1)\n",
      "\n",
      "(CVXPY) Oct 29 06:57:44 PM: Problem status: optimal\n",
      "      1: obj =   3.150000000e+02 inf =   0.000e+00 (0)\n",
      "+     1: mip =     not found yet >=              -inf        (1; 0)\n",
      "Solution found by heuristic: 360\n",
      "+     2: >>>>>   3.500000000e+02 >=   3.500000000e+02   0.0% (1; 0)\n",
      "+     2: mip =   3.500000000e+02 >=     tree is empty   0.0% (0; 1)\n",
      "(CVXPY) Oct 29 06:57:44 PM: Optimal value: 3.500e+02\n",
      "(CVXPY) Oct 29 06:57:44 PM: Compilation took 4.402e-02 seconds\n",
      "(CVXPY) Oct 29 06:57:44 PM: Solver (including time spent in interface) took 7.219e-04 seconds\n",
      "最优值为: 350.0\n",
      "最优解为：\n",
      " [2. 3.]\n"
     ]
    },
    {
     "name": "stderr",
     "output_type": "stream",
     "text": [
      "/Users/magu/anaconda3/envs/TS_ENV_38_add_AKshare/lib/python3.8/site-packages/cvxpy/expressions/expression.py:621: UserWarning: \n",
      "This use of ``*`` has resulted in matrix multiplication.\n",
      "Using ``*`` for matrix multiplication has been deprecated since CVXPY 1.1.\n",
      "    Use ``*`` for matrix-scalar and vector-scalar multiplication.\n",
      "    Use ``@`` for matrix-matrix and matrix-vector multiplication.\n",
      "    Use ``multiply`` for elementwise multiplication.\n",
      "This code path has been hit 68 times so far.\n",
      "\n",
      "  warnings.warn(msg, UserWarning)\n",
      "/Users/magu/anaconda3/envs/TS_ENV_38_add_AKshare/lib/python3.8/site-packages/cvxpy/expressions/expression.py:621: UserWarning: \n",
      "This use of ``*`` has resulted in matrix multiplication.\n",
      "Using ``*`` for matrix multiplication has been deprecated since CVXPY 1.1.\n",
      "    Use ``*`` for matrix-scalar and vector-scalar multiplication.\n",
      "    Use ``@`` for matrix-matrix and matrix-vector multiplication.\n",
      "    Use ``multiply`` for elementwise multiplication.\n",
      "This code path has been hit 69 times so far.\n",
      "\n",
      "  warnings.warn(msg, UserWarning)\n"
     ]
    }
   ],
   "source": [
    "obj=cp.Minimize(c*x)  #构造目标函数\n",
    "cons=[a*x<=b, x>=0]    #构造约束条件\n",
    "prob=cp.Problem(obj, cons)  #构建问题模型\n",
    "prob.solve(solver='GLPK_MI',verbose =True)  #求解问题\n",
    "print(\"最优值为:\",prob.value)\n",
    "print(\"最优解为：\\n\",x.value)"
   ]
  },
  {
   "cell_type": "markdown",
   "metadata": {},
   "source": [
    "有2000元经费，需要采购单价为50元的若干桌子和单价为20元的若干椅子，你希望桌椅的总数尽可能的多，但要求椅子数量不少于桌子数量，且不多于桌子数量的1.5倍，那你需要怎样的一个采购方案呢？\n",
    "\n",
    "解：要采购x1张桌子，x2把椅子，形式化为：\n",
    "\n",
    "* max z= x1 + x2\n",
    "* s.t. x1 - x2 <= 0\n",
    "* 1.5x1 >= x2\n",
    "* 50x1 + 20x2 <= 2000\n",
    "* x1, x2 >=0"
   ]
  },
  {
   "cell_type": "code",
   "execution_count": 82,
   "metadata": {},
   "outputs": [
    {
     "name": "stdout",
     "output_type": "stream",
     "text": [
      "solver='CLARABEL最优值为:-62.0,solver='CLARABEL最优解为: [25. 37.]\n",
      "solver='CVXOPT最优值为:-62.0,solver='CVXOPT最优解为: [25. 37.]\n",
      "solver='ECOS最优值为:-62.0,solver='ECOS最优解为: [25. 37.]\n",
      "solver='ECOS_BB最优值为:-62.0,solver='ECOS_BB最优解为: [25. 37.]\n",
      "solver='GLPK最优值为:-62.0,solver='GLPK最优解为: [25. 37.]\n",
      "solver='GLPK_MI最优值为:-62.0,solver='GLPK_MI最优解为: [25. 37.]\n",
      "solver='OSQP最优值为:-62.0,solver='OSQP最优解为: [25. 37.]\n",
      "solver='SCIPY最优值为:-62.0,solver='SCIPY最优解为: [25. 37.]\n",
      "solver='SCS最优值为:-62.0,solver='SCS最优解为: [25. 37.]\n"
     ]
    },
    {
     "name": "stderr",
     "output_type": "stream",
     "text": [
      "/Users/magu/anaconda3/envs/TS_ENV_38_add_AKshare/lib/python3.8/site-packages/cvxpy/expressions/expression.py:621: UserWarning: \n",
      "This use of ``*`` has resulted in matrix multiplication.\n",
      "Using ``*`` for matrix multiplication has been deprecated since CVXPY 1.1.\n",
      "    Use ``*`` for matrix-scalar and vector-scalar multiplication.\n",
      "    Use ``@`` for matrix-matrix and matrix-vector multiplication.\n",
      "    Use ``multiply`` for elementwise multiplication.\n",
      "This code path has been hit 70 times so far.\n",
      "\n",
      "  warnings.warn(msg, UserWarning)\n",
      "/Users/magu/anaconda3/envs/TS_ENV_38_add_AKshare/lib/python3.8/site-packages/cvxpy/expressions/expression.py:621: UserWarning: \n",
      "This use of ``*`` has resulted in matrix multiplication.\n",
      "Using ``*`` for matrix multiplication has been deprecated since CVXPY 1.1.\n",
      "    Use ``*`` for matrix-scalar and vector-scalar multiplication.\n",
      "    Use ``@`` for matrix-matrix and matrix-vector multiplication.\n",
      "    Use ``multiply`` for elementwise multiplication.\n",
      "This code path has been hit 71 times so far.\n",
      "\n",
      "  warnings.warn(msg, UserWarning)\n"
     ]
    }
   ],
   "source": [
    "import numpy as np\n",
    "import cvxpy as cp\n",
    "# 因为求的是最大花钱的组合，所以c加-号求最大值\n",
    "c = -np.array([1,1])\n",
    "a = np.array([\n",
    "    [1,-1]\n",
    "    ,[-1.5,1]\n",
    "    ,[50,20]\n",
    "    \n",
    "])\n",
    "b = np.array([\n",
    "    0,0,2000\n",
    "])\n",
    "x=cp.Variable(2,integer=True)\n",
    "\n",
    "obj=cp.Minimize(c*x) \n",
    "cons=[a*x<=b, x>=0]\n",
    "prob=cp.Problem(obj, cons)  #构建问题模型\n",
    "for sol in cp.installed_solvers():\n",
    "    prob.solve(solver='GLPK_MI',verbose =False)  #求解问题\n",
    "    print(f\"solver='{sol}最优值为:{prob.value},solver='{sol}最优解为:\",x.value)"
   ]
  },
  {
   "cell_type": "code",
   "execution_count": 83,
   "metadata": {},
   "outputs": [
    {
     "name": "stderr",
     "output_type": "stream",
     "text": [
      "/var/folders/3g/m1jxz4d919v61y989s04k9r80000gn/T/ipykernel_67983/1175560747.py:2: DeprecationWarning: `method='interior-point'` is deprecated and will be removed in SciPy 1.11.0. Please use one of the HiGHS solvers (e.g. `method='highs'`) in new code.\n",
      "  ans = optimize.linprog(c\n"
     ]
    },
    {
     "data": {
      "text/plain": [
       " message: Optimization terminated successfully.\n",
       " success: True\n",
       "  status: 0\n",
       "     fun: -62.499999006121215\n",
       "       x: [ 2.500e+01  3.750e+01]\n",
       "     nit: 5"
      ]
     },
     "execution_count": 83,
     "metadata": {},
     "output_type": "execute_result"
    }
   ],
   "source": [
    "from scipy import optimize\n",
    "ans = optimize.linprog(c\n",
    "                       ,a\n",
    "                       ,b\n",
    "                       ,bounds=[(0,None),(0,None)],method = \"interior-point\")\n",
    "ans"
   ]
  }
 ],
 "metadata": {
  "kernelspec": {
   "display_name": "TS_ENV_38_add_AKshare",
   "language": "python",
   "name": "python3"
  },
  "language_info": {
   "codemirror_mode": {
    "name": "ipython",
    "version": 3
   },
   "file_extension": ".py",
   "mimetype": "text/x-python",
   "name": "python",
   "nbconvert_exporter": "python",
   "pygments_lexer": "ipython3",
   "version": "3.8.18"
  }
 },
 "nbformat": 4,
 "nbformat_minor": 2
}
