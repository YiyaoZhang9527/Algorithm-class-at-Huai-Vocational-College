{
 "cells": [
  {
   "cell_type": "code",
   "execution_count": 1429,
   "metadata": {},
   "outputs": [],
   "source": [
    "import numpy as np\n",
    "import matplotlib.pyplot as plt\n",
    "import pandas as pd\n",
    "from scipy import optimize"
   ]
  },
  {
   "cell_type": "markdown",
   "metadata": {},
   "source": [
    "## 线性规划是苏联经济学的核心，苏联经济学不同于西方的经济学，本质上是就是在一群学者，统计人员的手里扼住市场那只看不见的手。\n",
    "## 单纯从生产力的角度理解来说，苏联经济学无疑是要先进于西方的原教旨市场经济的。虽然存在瑕疵，但是通过主动干预来扼住那只手，提高生产效率这一点上很成功\n",
    "## 仅用不到4亿人口，无法完成4亿人口的全产业链结构，对抗压制西方世界几十年。毫无疑问要感谢于这套科学的计划经济理论。虽然最终失败，但是毫无疑问的展示了他们的经济制度的强大规划能力。\n",
    "## 当今，线性规划问题依然是生产，组织，和投行大佬的最爱"
   ]
  },
  {
   "cell_type": "markdown",
   "metadata": {},
   "source": [
    "用一个例子来解释线性规划的原理"
   ]
  },
  {
   "cell_type": "code",
   "execution_count": 1430,
   "metadata": {},
   "outputs": [
    {
     "data": {
      "text/html": [
       "<div>\n",
       "<style scoped>\n",
       "    .dataframe tbody tr th:only-of-type {\n",
       "        vertical-align: middle;\n",
       "    }\n",
       "\n",
       "    .dataframe tbody tr th {\n",
       "        vertical-align: top;\n",
       "    }\n",
       "\n",
       "    .dataframe thead th {\n",
       "        text-align: right;\n",
       "    }\n",
       "</style>\n",
       "<table border=\"1\" class=\"dataframe\">\n",
       "  <thead>\n",
       "    <tr style=\"text-align: right;\">\n",
       "      <th></th>\n",
       "      <th>Food</th>\n",
       "      <th>Energy（能量)</th>\n",
       "      <th>Protein(蛋白质)</th>\n",
       "      <th>Calcium（钙)</th>\n",
       "      <th>Price</th>\n",
       "    </tr>\n",
       "  </thead>\n",
       "  <tbody>\n",
       "    <tr>\n",
       "      <th>0</th>\n",
       "      <td>Oatmeal(燕麦)</td>\n",
       "      <td>110</td>\n",
       "      <td>4</td>\n",
       "      <td>2</td>\n",
       "      <td>3</td>\n",
       "    </tr>\n",
       "    <tr>\n",
       "      <th>1</th>\n",
       "      <td>Whole milk(全奶)</td>\n",
       "      <td>160</td>\n",
       "      <td>8</td>\n",
       "      <td>285</td>\n",
       "      <td>9</td>\n",
       "    </tr>\n",
       "    <tr>\n",
       "      <th>2</th>\n",
       "      <td>Whole milk(全奶)</td>\n",
       "      <td>420</td>\n",
       "      <td>4</td>\n",
       "      <td>22</td>\n",
       "      <td>20</td>\n",
       "    </tr>\n",
       "    <tr>\n",
       "      <th>3</th>\n",
       "      <td>Pork with beans(猪肉)</td>\n",
       "      <td>260</td>\n",
       "      <td>14</td>\n",
       "      <td>80</td>\n",
       "      <td>19</td>\n",
       "    </tr>\n",
       "    <tr>\n",
       "      <th>4</th>\n",
       "      <td>condition(条件)</td>\n",
       "      <td>&gt;=2000</td>\n",
       "      <td>&gt;=55</td>\n",
       "      <td>&gt;=800</td>\n",
       "      <td>sum = 51</td>\n",
       "    </tr>\n",
       "  </tbody>\n",
       "</table>\n",
       "</div>"
      ],
      "text/plain": [
       "                  Food Energy（能量) Protein(蛋白质) Calcium（钙)     Price\n",
       "0          Oatmeal(燕麦)        110            4          2         3\n",
       "1       Whole milk(全奶)        160            8        285         9\n",
       "2       Whole milk(全奶)        420            4         22        20\n",
       "3  Pork with beans(猪肉)        260           14         80        19\n",
       "4        condition(条件)     >=2000         >=55      >=800  sum = 51"
      ]
     },
     "execution_count": 1430,
     "metadata": {},
     "output_type": "execute_result"
    }
   ],
   "source": [
    "table = pd.DataFrame({\n",
    "    'Food':['Oatmeal(燕麦)'\n",
    "            ,'Whole milk(全奶)'\n",
    "            ,'Whole milk(全奶)'\n",
    "            ,'Pork with beans(猪肉)'\n",
    "            ,'condition(条件)'\n",
    "            ]\n",
    "    ,'Energy（能量)':[110,160,420,260,'>=2000']\n",
    "    ,'Protein(蛋白质)':[4,8,4,14,'>=55']\n",
    "    ,'Calcium（钙)':[2,285,22,80,'>=800']\n",
    "    ,'Price':[3,9,20,19,'sum = '+(3+9+20+19).__repr__()]})\n",
    "table"
   ]
  },
  {
   "cell_type": "markdown",
   "metadata": {},
   "source": [
    "#### 要求我们买的食物中，至少要有2000的能量，55的蛋白质，800的钙，怎样买最省钱？\n",
    "#### 设买燕麦、全奶、草莓派、猪肉为x1,x2,x3,x4\n",
    "#### 于是我们可以写出如下的不等式组：\n",
    "#### $  z_{min} = { 3x_1 + 9x_2 + 20x_3 + 19x_4}$\n",
    "$ s.t.\\begin{cases}\n",
    "110x_1 + 160x_2 + 420x_3 + 260x_4 >= 2000\\\\\n",
    "4x_1 + 8x_2 + 4x_3 + 14x_4 >= 55\\\\\n",
    "2x_1 + 285x_2 + 22x_3 + 80x_4 >= 800\\\\\n",
    "x_1 , x_2 , x_3 , x_4 >= 0\\\\\n",
    "\\end{cases} $\n",
    "\n",
    "\n",
    "\n",
    "#### 这里我们使用scipy中的linprog进行求解，其用法如下：\n",
    "\n",
    "```scipy.optimize.linprog(c, A_ub=None, b_ub=None, A_eq=None, b_eq=None,bounds=None, method='simplex', callback=None, options=None)```\n",
    "其中:\n",
    "* c为要最小化的线性目标函数的系数。如果求最大值就加' - '号\n",
    "* A_ub和b_ub对应线性不等式约束，\n",
    "* A_eq和b_eq对应线性等式约束\n",
    "* bounds确定边界，如x≥0为（0，None）\n",
    "*，x无约束则为（None，None）\n",
    "*，method是求解器的类型，'simplex' 为单纯形法，其他的参数暂时可忽略。\n",
    "* 要使用linprog,目标函数要变成求最小值，如果原题目要求求max（最大值），只需对目标函数取负，但要注意求解的最终值是取负后的目标函数的最小值，取负即为最大值。\n",
    "\n"
   ]
  },
  {
   "cell_type": "code",
   "execution_count": 1431,
   "metadata": {},
   "outputs": [
    {
     "data": {
      "text/plain": [
       "array([ 3,  9, 20, 19])"
      ]
     },
     "execution_count": 1431,
     "metadata": {},
     "output_type": "execute_result"
    }
   ],
   "source": [
    "c1 = np.array([3,9,20,19])\n",
    "c1"
   ]
  },
  {
   "cell_type": "markdown",
   "metadata": {},
   "source": [
    "#### 不等式约束\n",
    "$ s.t.\\begin{cases}\n",
    "110x_1 + 160x_2 + 420x_3 + 260x_4 >= 2000\\\\\n",
    "4x_1 + 8x_2 + 4x_3 + 14x_4 >= 500\\\\\n",
    "2x_1 + 285x_2 + 22x_3 + 80x_4 >= 800\\\\\n",
    "\\end{cases} $"
   ]
  },
  {
   "cell_type": "code",
   "execution_count": 1432,
   "metadata": {},
   "outputs": [
    {
     "data": {
      "text/plain": [
       "array([[-110, -160, -420, -260],\n",
       "       [  -4,   -8,   -4,  -14],\n",
       "       [  -2, -285,  -22,  -80]])"
      ]
     },
     "execution_count": 1432,
     "metadata": {},
     "output_type": "execute_result"
    }
   ],
   "source": [
    "A1 = -np.array([\n",
    "    [110,160,420,260]\n",
    "    ,[4,8,4,14]\n",
    "    ,[2,285,22,80]])\n",
    "A1"
   ]
  },
  {
   "cell_type": "markdown",
   "metadata": {},
   "source": [
    "#### 三个组合方程要达到的标准\n",
    "$ >=2000,>=500,>=800 $"
   ]
  },
  {
   "cell_type": "code",
   "execution_count": 1433,
   "metadata": {},
   "outputs": [
    {
     "data": {
      "text/plain": [
       "array([-2000,   -55,  -800])"
      ]
     },
     "execution_count": 1433,
     "metadata": {},
     "output_type": "execute_result"
    }
   ],
   "source": [
    "b1 = -np.array([2000,55,800])\n",
    "b1"
   ]
  },
  {
   "cell_type": "markdown",
   "metadata": {},
   "source": [
    "#### 等式约束\n",
    "$ 51 = { x_1*1 + x_2*1 + x_3*1 + x_4*1} $"
   ]
  },
  {
   "cell_type": "code",
   "execution_count": 1434,
   "metadata": {},
   "outputs": [
    {
     "data": {
      "text/plain": [
       "array([[1, 1, 1, 1]])"
      ]
     },
     "execution_count": 1434,
     "metadata": {},
     "output_type": "execute_result"
    }
   ],
   "source": [
    "Aeq1 = np.array([[1,1,1,1]])\n",
    "Aeq1"
   ]
  },
  {
   "cell_type": "code",
   "execution_count": 1435,
   "metadata": {},
   "outputs": [
    {
     "data": {
      "text/plain": [
       "array([51])"
      ]
     },
     "execution_count": 1435,
     "metadata": {},
     "output_type": "execute_result"
    }
   ],
   "source": [
    "beq1 = np.array([3+9+20+19])\n",
    "beq1"
   ]
  },
  {
   "cell_type": "markdown",
   "metadata": {},
   "source": [
    "#### $ x_{n} $ 的边界，None代表正无穷"
   ]
  },
  {
   "cell_type": "code",
   "execution_count": 1436,
   "metadata": {},
   "outputs": [
    {
     "data": {
      "text/plain": [
       "[(0, None), (0, None), (0, None), (0, None)]"
      ]
     },
     "execution_count": 1436,
     "metadata": {},
     "output_type": "execute_result"
    }
   ],
   "source": [
    "bounds=[(0,None),(0,None),(0,None),(0,None)]\n",
    "bounds"
   ]
  },
  {
   "cell_type": "code",
   "execution_count": 1437,
   "metadata": {},
   "outputs": [
    {
     "data": {
      "text/plain": [
       "        message: Optimization terminated successfully. (HiGHS Status 7: Optimal)\n",
       "        success: True\n",
       "         status: 0\n",
       "            fun: 67.09635836287464\n",
       "              x: [ 1.424e+01  2.707e+00  0.000e+00  0.000e+00]\n",
       "            nit: 2\n",
       "          lower:  residual: [ 1.424e+01  2.707e+00  0.000e+00  0.000e+00]\n",
       "                 marginals: [ 0.000e+00  0.000e+00  8.309e+00  1.067e+01]\n",
       "          upper:  residual: [       inf        inf        inf        inf]\n",
       "                 marginals: [ 0.000e+00  0.000e+00  0.000e+00  0.000e+00]\n",
       "          eqlin:  residual: []\n",
       "                 marginals: []\n",
       "        ineqlin:  residual: [ 0.000e+00  2.363e+01  0.000e+00]\n",
       "                 marginals: [-2.697e-02 -0.000e+00 -1.644e-02]\n",
       " mip_node_count: 0\n",
       " mip_dual_bound: 0.0\n",
       "        mip_gap: 0.0"
      ]
     },
     "execution_count": 1437,
     "metadata": {},
     "output_type": "execute_result"
    }
   ],
   "source": [
    "ressimplex = optimize.linprog(c=c1\n",
    "                              ,A_ub=A1\n",
    "                              ,b_ub=b1\n",
    "                            #   ,A_eq=Aeq1\n",
    "                            #   ,b_eq=beq1\n",
    "                              # ,method='simplex'\n",
    "                            \n",
    "                              # ,method='revised simplex'\n",
    "                              ,bounds=bounds)\n",
    "ressimplex"
   ]
  },
  {
   "cell_type": "code",
   "execution_count": 1438,
   "metadata": {},
   "outputs": [
    {
     "data": {
      "text/plain": [
       "{'目标函数最小值【花的钱数】': 67.09635836287464,\n",
       " '解': array([14.24427973,  2.70705769,  0.        ,  0.        ])}"
      ]
     },
     "execution_count": 1438,
     "metadata": {},
     "output_type": "execute_result"
    }
   ],
   "source": [
    "{'目标函数最小值【花的钱数】':ressimplex.fun,'解':ressimplex.x}"
   ]
  },
  {
   "cell_type": "code",
   "execution_count": 1439,
   "metadata": {},
   "outputs": [
    {
     "data": {
      "text/plain": [
       "array([2000.        ,   78.63358041,  800.        ])"
      ]
     },
     "execution_count": 1439,
     "metadata": {},
     "output_type": "execute_result"
    }
   ],
   "source": [
    "-A1.dot(ressimplex.x)"
   ]
  },
  {
   "cell_type": "code",
   "execution_count": 1440,
   "metadata": {},
   "outputs": [
    {
     "data": {
      "text/plain": [
       "{'验证目标函数最小值(计算最小价格组合每样一个)': 67.09635836287464}"
      ]
     },
     "execution_count": 1440,
     "metadata": {},
     "output_type": "execute_result"
    }
   ],
   "source": [
    "{'验证目标函数最小值(计算最小价格组合每样一个)':np.dot(c1,ressimplex.x)}"
   ]
  },
  {
   "cell_type": "code",
   "execution_count": 1441,
   "metadata": {},
   "outputs": [
    {
     "data": {
      "text/html": [
       "<div>\n",
       "<style scoped>\n",
       "    .dataframe tbody tr th:only-of-type {\n",
       "        vertical-align: middle;\n",
       "    }\n",
       "\n",
       "    .dataframe tbody tr th {\n",
       "        vertical-align: top;\n",
       "    }\n",
       "\n",
       "    .dataframe thead th {\n",
       "        text-align: right;\n",
       "    }\n",
       "</style>\n",
       "<table border=\"1\" class=\"dataframe\">\n",
       "  <thead>\n",
       "    <tr style=\"text-align: right;\">\n",
       "      <th></th>\n",
       "      <th>Food</th>\n",
       "      <th>Energy（能量)</th>\n",
       "      <th>Protein(蛋白质)</th>\n",
       "      <th>Calcium（钙)</th>\n",
       "      <th>Price</th>\n",
       "    </tr>\n",
       "  </thead>\n",
       "  <tbody>\n",
       "    <tr>\n",
       "      <th>0</th>\n",
       "      <td>Oatmeal(燕麦)</td>\n",
       "      <td>110</td>\n",
       "      <td>4</td>\n",
       "      <td>2</td>\n",
       "      <td>3</td>\n",
       "    </tr>\n",
       "    <tr>\n",
       "      <th>1</th>\n",
       "      <td>Whole milk(全奶)</td>\n",
       "      <td>160</td>\n",
       "      <td>8</td>\n",
       "      <td>285</td>\n",
       "      <td>9</td>\n",
       "    </tr>\n",
       "    <tr>\n",
       "      <th>2</th>\n",
       "      <td>Whole milk(全奶)</td>\n",
       "      <td>420</td>\n",
       "      <td>4</td>\n",
       "      <td>22</td>\n",
       "      <td>20</td>\n",
       "    </tr>\n",
       "    <tr>\n",
       "      <th>3</th>\n",
       "      <td>Pork with beans(猪肉)</td>\n",
       "      <td>260</td>\n",
       "      <td>14</td>\n",
       "      <td>80</td>\n",
       "      <td>19</td>\n",
       "    </tr>\n",
       "    <tr>\n",
       "      <th>4</th>\n",
       "      <td>condition(条件)</td>\n",
       "      <td>&gt;=2000</td>\n",
       "      <td>&gt;=55</td>\n",
       "      <td>&gt;=800</td>\n",
       "      <td>sum = 51</td>\n",
       "    </tr>\n",
       "  </tbody>\n",
       "</table>\n",
       "</div>"
      ],
      "text/plain": [
       "                  Food Energy（能量) Protein(蛋白质) Calcium（钙)     Price\n",
       "0          Oatmeal(燕麦)        110            4          2         3\n",
       "1       Whole milk(全奶)        160            8        285         9\n",
       "2       Whole milk(全奶)        420            4         22        20\n",
       "3  Pork with beans(猪肉)        260           14         80        19\n",
       "4        condition(条件)     >=2000         >=55      >=800  sum = 51"
      ]
     },
     "execution_count": 1441,
     "metadata": {},
     "output_type": "execute_result"
    }
   ],
   "source": [
    "table"
   ]
  },
  {
   "cell_type": "markdown",
   "metadata": {},
   "source": [
    "# 投资决策当中的线性规划问题"
   ]
  },
  {
   "cell_type": "code",
   "execution_count": 1442,
   "metadata": {},
   "outputs": [],
   "source": [
    "def factorial(N):\n",
    "    n = 1\n",
    "    for i in range(1,N+1):\n",
    "        n *= i\n",
    "    return n\n",
    "\n",
    "def Ank(n,k):\n",
    "    return factorial(n)/factorial(n-k)\n",
    "\n",
    "def Cnk(n,k):\n",
    "    return factorial(n)/(factorial(k)*factorial(n-k))\n",
    "\n",
    "def bernoulliDistribution(n,X,P):\n",
    "    k = X\n",
    "    return Cnk(n,k)*(P**k)*((1-P)**(n-k))\n",
    "\n",
    "def Epb(n,k,P):\n",
    "    return 1/bernoulliDistribution(n,k,P)\n",
    "\n",
    "def pocssonDistribution(n,k,p):\n",
    "    Lambda = n*p\n",
    "    probability = np.array([(np.exp(-Lambda)*Lambda**ki)/np.math.factorial(ki) for ki in range(k+1)])\n",
    "    cumulativeProbability = np.array([np.dot(probability[:i],np.ones(i)) for i in range(1,len(probability)+1)])\n",
    "    return probability[:-1],cumulativeProbability[:-1],Lambda\n",
    "\n",
    "def pocssonDistribution_to_table(n,k,p):\n",
    "    probability,cumulativeProbability,Lambda = pocssonDistribution(n,k,p)\n",
    "    return pd.DataFrame({'k':range(1,len(probability)+1),'Lambda':Lambda,'单次概率':probability,'累计概率':cumulativeProbability})"
   ]
  },
  {
   "cell_type": "code",
   "execution_count": 1443,
   "metadata": {},
   "outputs": [
    {
     "data": {
      "text/html": [
       "<div>\n",
       "<style scoped>\n",
       "    .dataframe tbody tr th:only-of-type {\n",
       "        vertical-align: middle;\n",
       "    }\n",
       "\n",
       "    .dataframe tbody tr th {\n",
       "        vertical-align: top;\n",
       "    }\n",
       "\n",
       "    .dataframe thead th {\n",
       "        text-align: right;\n",
       "    }\n",
       "</style>\n",
       "<table border=\"1\" class=\"dataframe\">\n",
       "  <thead>\n",
       "    <tr style=\"text-align: right;\">\n",
       "      <th></th>\n",
       "      <th>年份</th>\n",
       "      <th>餐饮</th>\n",
       "      <th>房地产</th>\n",
       "      <th>卫生</th>\n",
       "      <th>餐饮成本</th>\n",
       "      <th>房地产成本</th>\n",
       "      <th>卫生成本</th>\n",
       "    </tr>\n",
       "  </thead>\n",
       "  <tbody>\n",
       "    <tr>\n",
       "      <th>0</th>\n",
       "      <td>1970</td>\n",
       "      <td>-2912.705310</td>\n",
       "      <td>-123113.559646</td>\n",
       "      <td>4226.874208</td>\n",
       "      <td>20.342457</td>\n",
       "      <td>458.692172</td>\n",
       "      <td>12.368116</td>\n",
       "    </tr>\n",
       "    <tr>\n",
       "      <th>1</th>\n",
       "      <td>1971</td>\n",
       "      <td>-223.117176</td>\n",
       "      <td>108713.221792</td>\n",
       "      <td>-10163.866656</td>\n",
       "      <td>39.584404</td>\n",
       "      <td>668.537522</td>\n",
       "      <td>3.303213</td>\n",
       "    </tr>\n",
       "    <tr>\n",
       "      <th>2</th>\n",
       "      <td>1972</td>\n",
       "      <td>1171.321686</td>\n",
       "      <td>-173732.221455</td>\n",
       "      <td>-36610.088775</td>\n",
       "      <td>45.231656</td>\n",
       "      <td>1537.451427</td>\n",
       "      <td>10.920657</td>\n",
       "    </tr>\n",
       "    <tr>\n",
       "      <th>3</th>\n",
       "      <td>1973</td>\n",
       "      <td>-4048.619727</td>\n",
       "      <td>-79428.170168</td>\n",
       "      <td>-453.177742</td>\n",
       "      <td>85.193901</td>\n",
       "      <td>1311.710995</td>\n",
       "      <td>0.031007</td>\n",
       "    </tr>\n",
       "    <tr>\n",
       "      <th>4</th>\n",
       "      <td>1974</td>\n",
       "      <td>16415.199067</td>\n",
       "      <td>-62490.178709</td>\n",
       "      <td>1743.783884</td>\n",
       "      <td>14.328230</td>\n",
       "      <td>1552.648496</td>\n",
       "      <td>19.350255</td>\n",
       "    </tr>\n",
       "  </tbody>\n",
       "</table>\n",
       "</div>"
      ],
      "text/plain": [
       "     年份            餐饮            房地产            卫生       餐饮成本        房地产成本  \\\n",
       "0  1970  -2912.705310 -123113.559646   4226.874208  20.342457   458.692172   \n",
       "1  1971   -223.117176  108713.221792 -10163.866656  39.584404   668.537522   \n",
       "2  1972   1171.321686 -173732.221455 -36610.088775  45.231656  1537.451427   \n",
       "3  1973  -4048.619727  -79428.170168   -453.177742  85.193901  1311.710995   \n",
       "4  1974  16415.199067  -62490.178709   1743.783884  14.328230  1552.648496   \n",
       "\n",
       "        卫生成本  \n",
       "0  12.368116  \n",
       "1   3.303213  \n",
       "2  10.920657  \n",
       "3   0.031007  \n",
       "4  19.350255  "
      ]
     },
     "execution_count": 1443,
     "metadata": {},
     "output_type": "execute_result"
    }
   ],
   "source": [
    "n = 50\n",
    "info = pd.DataFrame({'年份':np.arange(2020-n,2020)\n",
    "                     ,'餐饮':np.random.randn(n)*10000\n",
    "                     ,'房地产':np.random.randn(n)*100000\n",
    "                     ,'卫生':np.random.randn(n)*10000\n",
    "                     ,'餐饮成本':abs(np.random.randn(n)*100)\n",
    "                     ,'房地产成本':abs(np.random.randn(n)*1000)\n",
    "                     ,'卫生成本':abs(np.random.randn(n)*10)})\n",
    "info.head()"
   ]
  },
  {
   "cell_type": "code",
   "execution_count": 1444,
   "metadata": {},
   "outputs": [
    {
     "data": {
      "text/plain": [
       "<matplotlib.collections.PathCollection at 0x7f9fbd66ceb0>"
      ]
     },
     "execution_count": 1444,
     "metadata": {},
     "output_type": "execute_result"
    },
    {
     "data": {
      "image/png": "[encoded data removed]",
      "text/plain": [
       "<Figure size 1152x648 with 1 Axes>"
      ]
     },
     "metadata": {
      "needs_background": "light"
     },
     "output_type": "display_data"
    }
   ],
   "source": [
    "plt.figure(figsize=(16,9))\n",
    "plt.plot(info.年份,info.餐饮)\n",
    "plt.scatter(info.年份,info.餐饮,c='b')\n",
    "plt.plot(info.年份,info.房地产)\n",
    "plt.scatter(info.年份,info.房地产,c='y')\n",
    "plt.plot(info.年份,info.卫生)\n",
    "plt.scatter(info.年份,info.卫生,c='g')"
   ]
  },
  {
   "cell_type": "markdown",
   "metadata": {},
   "source": [
    "## 通过变异系数看项目总体稳定性"
   ]
  },
  {
   "cell_type": "code",
   "execution_count": 1445,
   "metadata": {},
   "outputs": [
    {
     "data": {
      "text/plain": [
       "[-0.11891512569781547, 0.33673627437576564, -0.08448047832401342]"
      ]
     },
     "execution_count": 1445,
     "metadata": {},
     "output_type": "execute_result"
    }
   ],
   "source": [
    "stvalue = [info.房地产.mean()/info.房地产.std(),info.餐饮.mean()/info.餐饮.std(),info.卫生.mean()/info.卫生.std()]\n",
    "stvalue"
   ]
  },
  {
   "cell_type": "markdown",
   "metadata": {},
   "source": [
    "## 平均盈利能力"
   ]
  },
  {
   "cell_type": "code",
   "execution_count": 1446,
   "metadata": {},
   "outputs": [
    {
     "data": {
      "text/plain": [
       "[-17.253089841629848, 71.08978009671127, -109.64609813258181]"
      ]
     },
     "execution_count": 1446,
     "metadata": {},
     "output_type": "execute_result"
    }
   ],
   "source": [
    "mean_ = [info.房地产.mean()/info.房地产成本.mean()\n",
    "         ,info.餐饮.mean()/info.餐饮成本.mean()\n",
    "         ,info.卫生.mean()/info.卫生成本.mean()]\n",
    "mean_"
   ]
  },
  {
   "cell_type": "markdown",
   "metadata": {},
   "source": [
    "## 计算盈利年份的概率"
   ]
  },
  {
   "cell_type": "code",
   "execution_count": 1447,
   "metadata": {},
   "outputs": [
    {
     "data": {
      "text/plain": [
       "[0.48, 0.54, 0.4]"
      ]
     },
     "execution_count": 1447,
     "metadata": {},
     "output_type": "execute_result"
    }
   ],
   "source": [
    "P = [info.房地产[info.房地产>0].shape[0]/info.shape[0]\n",
    "     ,info.餐饮[info.餐饮>0].shape[0]/info.shape[0]\n",
    "     ,info.卫生[info.卫生>0].shape[0]/info.shape[0]]\n",
    "P"
   ]
  },
  {
   "cell_type": "code",
   "execution_count": 1448,
   "metadata": {},
   "outputs": [
    {
     "data": {
      "text/plain": [
       "[<matplotlib.lines.Line2D at 0x7f9fc0d12040>]"
      ]
     },
     "execution_count": 1448,
     "metadata": {},
     "output_type": "execute_result"
    },
    {
     "data": {
      "image/png": "[encoded data removed]",
      "text/plain": [
       "<Figure size 432x288 with 1 Axes>"
      ]
     },
     "metadata": {
      "needs_background": "light"
     },
     "output_type": "display_data"
    }
   ],
   "source": [
    "plt.plot([bernoulliDistribution(100,i,0.5) for i in range(100)])"
   ]
  },
  {
   "cell_type": "markdown",
   "metadata": {},
   "source": [
    "# 其他的代码例子"
   ]
  },
  {
   "cell_type": "markdown",
   "metadata": {},
   "source": [
    "$ max \\quad z = 2x_1+3x_2-5x_3 \\\\ \\quad\\\\\n",
    "s.t.\\begin{cases}\n",
    "x_1+x_2+x_3 =7\\\\\n",
    "2x_1-5x_2+x_3>=10\\\\\n",
    "x_1+3x_2+x_3<=12\\\\\n",
    "x_1,x_2,x_3>=0\\\\\n",
    "\\end{cases} $"
   ]
  },
  {
   "cell_type": "code",
   "execution_count": 1449,
   "metadata": {},
   "outputs": [],
   "source": [
    "c = np.array([2,3,-5])\n",
    "A = np.array([[-2,5,-1],[1,3,1]])\n",
    "b = np.array([-10,12])\n",
    "Aeq = np.array([[1,1,1]])\n",
    "\n",
    "beq = np.array([7])"
   ]
  },
  {
   "cell_type": "code",
   "execution_count": 1450,
   "metadata": {},
   "outputs": [
    {
     "data": {
      "text/plain": [
       "array([ 2,  3, -5])"
      ]
     },
     "execution_count": 1450,
     "metadata": {},
     "output_type": "execute_result"
    }
   ],
   "source": [
    "c"
   ]
  },
  {
   "cell_type": "markdown",
   "metadata": {},
   "source": [
    "## >=10 所以*-1求最小"
   ]
  },
  {
   "cell_type": "code",
   "execution_count": 1451,
   "metadata": {},
   "outputs": [
    {
     "data": {
      "text/plain": [
       "array([[-2,  5, -1],\n",
       "       [ 1,  3,  1]])"
      ]
     },
     "execution_count": 1451,
     "metadata": {},
     "output_type": "execute_result"
    }
   ],
   "source": [
    "A"
   ]
  },
  {
   "cell_type": "code",
   "execution_count": 1452,
   "metadata": {},
   "outputs": [
    {
     "data": {
      "text/plain": [
       "array([-10,  12])"
      ]
     },
     "execution_count": 1452,
     "metadata": {},
     "output_type": "execute_result"
    }
   ],
   "source": [
    "b"
   ]
  },
  {
   "cell_type": "code",
   "execution_count": 1453,
   "metadata": {},
   "outputs": [
    {
     "data": {
      "text/plain": [
       "array([[1, 1, 1]])"
      ]
     },
     "execution_count": 1453,
     "metadata": {},
     "output_type": "execute_result"
    }
   ],
   "source": [
    "Aeq"
   ]
  },
  {
   "cell_type": "code",
   "execution_count": 1454,
   "metadata": {},
   "outputs": [],
   "source": [
    "res = optimize.linprog(-c,A,b,Aeq,beq)"
   ]
  },
  {
   "cell_type": "code",
   "execution_count": 1455,
   "metadata": {
    "tags": []
   },
   "outputs": [
    {
     "name": "stdout",
     "output_type": "stream",
     "text": [
      "        message: Optimization terminated successfully. (HiGHS Status 7: Optimal)\n",
      "        success: True\n",
      "         status: 0\n",
      "            fun: -14.571428571428571\n",
      "              x: [ 6.429e+00  5.714e-01  0.000e+00]\n",
      "            nit: 3\n",
      "          lower:  residual: [ 6.429e+00  5.714e-01  0.000e+00]\n",
      "                 marginals: [ 0.000e+00  0.000e+00  7.143e+00]\n",
      "          upper:  residual: [       inf        inf        inf]\n",
      "                 marginals: [ 0.000e+00  0.000e+00  0.000e+00]\n",
      "          eqlin:  residual: [ 0.000e+00]\n",
      "                 marginals: [-2.286e+00]\n",
      "        ineqlin:  residual: [ 0.000e+00  3.857e+00]\n",
      "                 marginals: [-1.429e-01 -0.000e+00]\n",
      " mip_node_count: 0\n",
      " mip_dual_bound: 0.0\n",
      "        mip_gap: 0.0\n"
     ]
    }
   ],
   "source": [
    "print(res)"
   ]
  },
  {
   "cell_type": "markdown",
   "metadata": {},
   "source": [
    "fun就是目标函数最小值，x就是最优解"
   ]
  }
 ],
 "metadata": {
  "kernelspec": {
   "display_name": "TS_ENV_38_add_AKshare",
   "language": "python",
   "name": "python3"
  },
  "language_info": {
   "codemirror_mode": {
    "name": "ipython",
    "version": 3
   },
   "file_extension": ".py",
   "mimetype": "text/x-python",
   "name": "python",
   "nbconvert_exporter": "python",
   "pygments_lexer": "ipython3",
   "version": "3.8.18"
  }
 },
 "nbformat": 4,
 "nbformat_minor": 4
}
