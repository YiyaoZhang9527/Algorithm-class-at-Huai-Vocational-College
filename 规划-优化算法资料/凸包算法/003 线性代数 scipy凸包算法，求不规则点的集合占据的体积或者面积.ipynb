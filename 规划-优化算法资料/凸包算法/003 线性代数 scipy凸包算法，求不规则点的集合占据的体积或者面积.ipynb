{
 "cells": [
  {
   "cell_type": "code",
   "execution_count": 3,
   "metadata": {},
   "outputs": [
    {
     "data": {
      "text/plain": [
       "{'所有点': array([[0.59874826, 0.96954509],\n",
       "        [0.01895377, 0.46513409],\n",
       "        [0.6162436 , 0.81226559],\n",
       "        [0.00298476, 0.4571271 ],\n",
       "        [0.70830622, 0.34244615],\n",
       "        [0.35985969, 0.84635372],\n",
       "        [0.78256962, 0.82534556],\n",
       "        [0.62813747, 0.17051296],\n",
       "        [0.80831355, 0.94193632],\n",
       "        [0.00668225, 0.88156834],\n",
       "        [0.83544976, 0.79142983],\n",
       "        [0.34206066, 0.8064909 ],\n",
       "        [0.32208642, 0.87370229],\n",
       "        [0.50326388, 0.58327683],\n",
       "        [0.97350247, 0.4250357 ],\n",
       "        [0.2360233 , 0.39208864],\n",
       "        [0.99348141, 0.7103083 ],\n",
       "        [0.79724849, 0.48450169],\n",
       "        [0.85117529, 0.7299412 ],\n",
       "        [0.92142128, 0.10204644],\n",
       "        [0.05545662, 0.71167338],\n",
       "        [0.40557571, 0.63850684],\n",
       "        [0.92575236, 0.53794729],\n",
       "        [0.99134119, 0.25794006],\n",
       "        [0.37569809, 0.11159284],\n",
       "        [0.15702341, 0.90007755],\n",
       "        [0.91202413, 0.78463126],\n",
       "        [0.90457364, 0.75786114],\n",
       "        [0.62929347, 0.38801707],\n",
       "        [0.32763912, 0.03896092]]),\n",
       " '边界': array([0.99348141, 0.96954509]),\n",
       " '纬度': 2,\n",
       " '计算点数量': 30,\n",
       " 'a': 8,\n",
       " '凸壳单面形成点的指数': array([[29,  3],\n",
       "        [ 9,  3],\n",
       "        [19, 29],\n",
       "        [ 8, 16],\n",
       "        [23, 16],\n",
       "        [23, 19],\n",
       "        [ 0,  9],\n",
       "        [ 0,  8]], dtype=int32),\n",
       " '面积': 3.280696585649599,\n",
       " '形成小面的超平面方程': array([[-7.89888349e-01, -6.13250679e-01,  2.82691135e-01],\n",
       "        [-9.99962058e-01,  8.71109009e-03, -9.97423656e-04],\n",
       "        [ 1.05648952e-01, -9.94403489e-01,  4.12814544e-03],\n",
       "        [ 7.81090091e-01,  6.24418345e-01, -1.21952802e+00],\n",
       "        [ 9.99988808e-01, -4.73111020e-03, -9.90109748e-01],\n",
       "        [ 9.12429439e-01, -4.09234064e-01, -7.98971025e-01],\n",
       "        [-1.46979032e-01,  9.89139608e-01, -8.71012008e-01],\n",
       "        [ 1.30614422e-01,  9.91433242e-01, -1.03944439e+00]]),\n",
       " '体积': 0.767713310424295}"
      ]
     },
     "execution_count": 3,
     "metadata": {},
     "output_type": "execute_result"
    }
   ],
   "source": [
    "# -*- coding: utf-8 -*-\n",
    "from scipy.spatial import ConvexHull\n",
    "import numpy as np\n",
    "import matplotlib.pyplot as plt\n",
    "##########scipy 凸包################\n",
    "points = np.random.rand(30, 2)\n",
    "hull = ConvexHull(points)\n",
    "{'所有点':hull.points\n",
    " ,'边界':hull.max_bound\n",
    " ,'纬度':hull.ndim\n",
    " ,'计算点数量':hull.npoints\n",
    " ,'a':hull.nsimplex\n",
    " ,'凸壳单面形成点的指数':hull.simplices\n",
    " ,'面积':hull.area\n",
    " ,'形成小面的超平面方程':hull.equations\n",
    " ,'体积':hull.volume}"
   ]
  },
  {
   "cell_type": "code",
   "execution_count": 4,
   "metadata": {},
   "outputs": [
    {
     "data": {
      "image/png": "[encoded data removed]",
      "text/plain": [
       "<Figure size 432x288 with 1 Axes>"
      ]
     },
     "metadata": {
      "needs_background": "light"
     },
     "output_type": "display_data"
    }
   ],
   "source": [
    "plt.plot(points[:,0], points[:,1], 'o')\n",
    "# hull.vertices 得到凸轮廓坐标的索引值，逆时针画\n",
    "hull1=hull.vertices.tolist()#要闭合必须再回到起点[0]\n",
    "hull1.append(hull1[0])\n",
    "plt.plot(points[hull1,0], points[hull1,1], 'r--^',lw=2)\n",
    "for i in range(len(hull1)-1):\n",
    "    plt.text(points[hull1[i],0], points[hull1[i],1],str(i),fontsize=20)"
   ]
  },
  {
   "cell_type": "code",
   "execution_count": null,
   "metadata": {},
   "outputs": [],
   "source": []
  }
 ],
 "metadata": {
  "kernelspec": {
   "display_name": "TS_ENV_38_add_AKshare",
   "language": "python",
   "name": "python3"
  },
  "language_info": {
   "codemirror_mode": {
    "name": "ipython",
    "version": 3
   },
   "file_extension": ".py",
   "mimetype": "text/x-python",
   "name": "python",
   "nbconvert_exporter": "python",
   "pygments_lexer": "ipython3",
   "version": "3.8.18"
  },
  "orig_nbformat": 2
 },
 "nbformat": 4,
 "nbformat_minor": 2
}
