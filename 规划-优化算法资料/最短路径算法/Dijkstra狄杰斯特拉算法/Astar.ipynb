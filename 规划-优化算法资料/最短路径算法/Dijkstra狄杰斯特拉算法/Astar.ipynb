{
 "cells": [
  {
   "cell_type": "code",
   "execution_count": 1,
   "metadata": {},
   "outputs": [],
   "source": [
    "import numpy as np"
   ]
  },
  {
   "cell_type": "markdown",
   "metadata": {},
   "source": [
    "#### 地图"
   ]
  },
  {
   "cell_type": "code",
   "execution_count": 2,
   "metadata": {},
   "outputs": [
    {
     "data": {
      "text/plain": [
       "(2.0,\n",
       " array([[ 0.,  0.,  0.,  0.,  0.,  0.,  0.,  0.,  0.],\n",
       "        [ 0.,  0.,  0.,  0.,  0.,  0.,  0.,  0.,  0.],\n",
       "        [ 0.,  2.,  1.,  0.,  0.,  0.,  0., inf,  0.],\n",
       "        [ 0.,  0.,  0.,  0.,  0.,  0.,  0.,  0.,  0.],\n",
       "        [ 0.,  0.,  0.,  0.,  0.,  0.,  0.,  0.,  0.]]))"
      ]
     },
     "execution_count": 2,
     "metadata": {},
     "output_type": "execute_result"
    }
   ],
   "source": [
    "\n",
    "start_value = 2\n",
    "dest_value = np.inf\n",
    "Map = np.array(\n",
    "    [\n",
    "        [0,0,0,0,0,0,0,0,0]\n",
    "        ,[0,0,0,0,0,0,0,0,0]\n",
    "        ,[0,start_value,1,0,0,0,0,dest_value,0]\n",
    "        ,[0,0,0,0,0,0,0,0,0]\n",
    "        ,[0,0,0,0,0,0,0,0,0]\n",
    "        \n",
    "    ]\n",
    ")\n",
    "Map[2,1],Map"
   ]
  },
  {
   "cell_type": "code",
   "execution_count": null,
   "metadata": {},
   "outputs": [],
   "source": []
  },
  {
   "cell_type": "markdown",
   "metadata": {},
   "source": [
    "#### 距离函数"
   ]
  },
  {
   "cell_type": "code",
   "execution_count": 3,
   "metadata": {},
   "outputs": [
    {
     "data": {
      "text/plain": [
       "6.082762530298219"
      ]
     },
     "execution_count": 3,
     "metadata": {},
     "output_type": "execute_result"
    }
   ],
   "source": [
    "def euclidean(a,b):\n",
    "    if isinstance(a,np.ndarray) == False:\n",
    "        a = np.array(a,dtype=np.float64)\n",
    "    if isinstance(b,np.ndarray) == False:\n",
    "        b = np.array(b,dtype=np.float64)    \n",
    "    return np.sqrt(((a-b)**2).sum())\n",
    "\n",
    "\n",
    "euclidean([2,4],[8,3])"
   ]
  },
  {
   "cell_type": "markdown",
   "metadata": {},
   "source": [
    "#### 成本函数"
   ]
  },
  {
   "cell_type": "code",
   "execution_count": 4,
   "metadata": {},
   "outputs": [
    {
     "data": {
      "text/plain": [
       "7.082762530298219"
      ]
     },
     "execution_count": 4,
     "metadata": {},
     "output_type": "execute_result"
    }
   ],
   "source": [
    "def cost(starting_piont=[],next_point=[],destination_point=[]):\n",
    "    cost_value1 = euclidean(starting_piont,next_point)\n",
    "    cost_value2 = euclidean(next_point,destination_point)\n",
    "    return cost_value1+cost_value2\n",
    "\n",
    "cost([2,3],[2,4],[8,3])"
   ]
  },
  {
   "cell_type": "code",
   "execution_count": 5,
   "metadata": {},
   "outputs": [
    {
     "data": {
      "text/plain": [
       "True"
      ]
     },
     "execution_count": 5,
     "metadata": {},
     "output_type": "execute_result"
    }
   ],
   "source": [
    "def is_way(Map,Index,tag=0):\n",
    "    \"\"\"\n",
    "    判断是否可通行\n",
    "    \"\"\"\n",
    "    x,y = Index[0],Index[-1]\n",
    "    point_value = Map[y,x]\n",
    "    if point_value == tag:\n",
    "        return True\n",
    "    return False \n",
    "\n",
    "is_way(Map,[1,2],tag=2)"
   ]
  },
  {
   "cell_type": "code",
   "execution_count": 6,
   "metadata": {},
   "outputs": [
    {
     "data": {
      "text/plain": [
       "(2.0, 1, 2)"
      ]
     },
     "execution_count": 6,
     "metadata": {},
     "output_type": "execute_result"
    }
   ],
   "source": [
    "def get_value_index(Map,value=0):\n",
    "    \"获得某个值的点的对应坐标\"\n",
    "    y = -1\n",
    "    x = -1 \n",
    "    for i in Map:\n",
    "        y += 1\n",
    "        for j in i:\n",
    "            x += 1\n",
    "            point = Map[y,x]\n",
    "            if point == value:\n",
    "                return [x,y] \n",
    "        x = -1\n",
    "    return False,False\n",
    "\n",
    "x,y = get_value_index(Map,value=start_value)\n",
    "Map[y,x],x,y"
   ]
  },
  {
   "cell_type": "code",
   "execution_count": 7,
   "metadata": {},
   "outputs": [
    {
     "data": {
      "text/plain": [
       "((1, 3), (1, 1), (0, 2), (2, 2))"
      ]
     },
     "execution_count": 7,
     "metadata": {},
     "output_type": "execute_result"
    }
   ],
   "source": [
    "def all_around_index(point_index):\n",
    "    \"\"\"\n",
    "    获得周围的索引\n",
    "    \"\"\"\n",
    "    x,y = point_index\n",
    "    up_index = x,y+1\n",
    "    down_index = x,y-1\n",
    "    lef_index = x-1,y\n",
    "    right_index = x+1,y \n",
    "    return up_index,down_index,lef_index,right_index\n",
    "\n",
    "all_around_index([1,2])"
   ]
  },
  {
   "cell_type": "code",
   "execution_count": 8,
   "metadata": {},
   "outputs": [
    {
     "data": {
      "text/plain": [
       "{'min_indexs': [[0, 1], [1, 1]], 'min_costs': [0, 0]}"
      ]
     },
     "execution_count": 8,
     "metadata": {},
     "output_type": "execute_result"
    }
   ],
   "source": [
    "def find_min_index(costs,Index):\n",
    "    \"\"\"\n",
    "    寻找最小值下标\n",
    "    \"\"\"\n",
    "    result = [],[]\n",
    "    \n",
    "    min_value = min(costs)\n",
    "    t = -1\n",
    "    for x in costs:\n",
    "        t += 1\n",
    "        if x == min_value:\n",
    "            result[0].append(Index[t])\n",
    "            result[1].append(costs[t])\n",
    "    return {\"min_indexs\":result[0],\"min_costs\":result[-1]}\n",
    "\n",
    "find_min_index([0,0,1,1],[[0,1],[1,1],[1,2],[3,1]])"
   ]
  },
  {
   "cell_type": "code",
   "execution_count": 9,
   "metadata": {},
   "outputs": [
    {
     "data": {
      "text/plain": [
       "([(1, 3), (1, 1)], [7.082762530298219, 7.082762530298219])"
      ]
     },
     "execution_count": 9,
     "metadata": {},
     "output_type": "execute_result"
    }
   ],
   "source": [
    "def update_one_step(now_index,dist_index=get_value_index(Map,np.inf)):\n",
    "    \"\"\"\n",
    "    更新下一步坐标\n",
    "    \"\"\"\n",
    "    \n",
    "    temp_costs = []\n",
    "    temp_indexs = []\n",
    "    \n",
    "    now_x,now_y = now_index[0],now_index[-1]\n",
    "    up_index,down_index,left_index,right_index = all_around_index([now_x,now_y])\n",
    "\n",
    "    if is_way(Map,up_index):\n",
    "        temp_costs.append(cost(now_index,up_index,dist_index))\n",
    "        temp_indexs.append(up_index)\n",
    "  \n",
    "    if is_way(Map,down_index):\n",
    "        temp_costs.append(cost(now_index,down_index,dist_index))\n",
    "        temp_indexs.append(down_index)\n",
    "\n",
    "    if is_way(Map,left_index):\n",
    "        temp_costs.append(cost(now_index,left_index,dist_index))\n",
    "        temp_indexs.append(left_index)\n",
    "\n",
    "    if is_way(Map,right_index):\n",
    "        temp_costs.append(cost(now_index,right_index,dist_index))\n",
    "        temp_indexs.append(right_index)\n",
    "    \n",
    "    next_ = find_min_index(temp_costs,temp_indexs)\n",
    "\n",
    "    next_indexs,min_costs = next_[\"min_indexs\"],next_[\"min_costs\"]\n",
    "\n",
    "    return next_indexs,min_costs\n",
    "\n",
    "update_one_step([1,2])"
   ]
  },
  {
   "cell_type": "code",
   "execution_count": 30,
   "metadata": {},
   "outputs": [
    {
     "name": "stdout",
     "output_type": "stream",
     "text": [
      "0:[(1, 3), (1, 1)]\n",
      "1\n",
      "f ([[(1, 3), (1, 1)]], [[7.082762530298219, 7.082762530298219]])\n"
     ]
    },
    {
     "data": {
      "text/plain": [
       "([[(1, 3), (1, 1)]], [[7.082762530298219, 7.082762530298219]])"
      ]
     },
     "execution_count": 30,
     "metadata": {},
     "output_type": "execute_result"
    }
   ],
   "source": [
    "_indexs=[]\n",
    "_min_costs=[]\n",
    "\n",
    "def update(now_index\n",
    "           ,dist_index=get_value_index(Map,np.inf)\n",
    "           ):\n",
    "    next_indexs,min_costs = update_one_step(now_index,dist_index)\n",
    "    print(f\"0:{next_indexs}\")\n",
    "    _indexs.append(next_indexs)\n",
    "    _min_costs.append(min_costs)\n",
    "    \n",
    "    if len(_indexs) == 1:\n",
    "        print(f\"1\")\n",
    "        return _indexs,_min_costs\n",
    "    if len(_indexs) > 1:\n",
    "        print(f\"2\")\n",
    "        t = -1\n",
    "        for next_index in _indexs:\n",
    "            t += 1\n",
    "            print(f\"2.{t}:next_index{next_index}\")\n",
    "            update(next_index)\n",
    "        \n",
    "        #return next_indexs,min_costs\n",
    "        \n",
    "    \n",
    "\n",
    "print(f\"f\",update([1,2]))\n",
    "_indexs,_min_costs"
   ]
  },
  {
   "cell_type": "code",
   "execution_count": null,
   "metadata": {},
   "outputs": [],
   "source": [
    "_indexs=[]\n",
    "_min_costs=[]\n",
    "\n",
    "def update(now_indexs\n",
    "          ,dist_index-get_value_index(Map,np.inf)):\n",
    "    if len(now_indexs)==1:\n",
    "        next_indexs,min_costs = update_one_step(now_index,dist_index)\n",
    "        return next_indexs,min_costs\n",
    "    if len(next_indexs)>1:\n",
    "        for _ in range((len(now_indexs))):\n",
    "            next_index = next_indexs[_]\n",
    "            min_cost = min_costs[_]\n",
    "            \n",
    "            \n",
    "            "
   ]
  },
  {
   "cell_type": "code",
   "execution_count": 31,
   "metadata": {},
   "outputs": [
    {
     "data": {
      "text/plain": [
       "(4, [1, 2, 3, 4])"
      ]
     },
     "execution_count": 31,
     "metadata": {},
     "output_type": "execute_result"
    }
   ],
   "source": [
    "def d(x,iters=[]):\n",
    "    x += 1\n",
    "    iters.append(x)\n",
    "    if x >3:\n",
    "        return x,iters\n",
    "    return d(x)\n",
    "\n",
    "d(0)"
   ]
  },
  {
   "cell_type": "code",
   "execution_count": null,
   "metadata": {},
   "outputs": [],
   "source": [
    "start_index = get_value_index(Map,2)\n",
    "dist_index = get_value_index(Map,np.inf)\n",
    "start_index,dist_index"
   ]
  },
  {
   "cell_type": "code",
   "execution_count": null,
   "metadata": {},
   "outputs": [],
   "source": [
    "now_index = start_index\n",
    "\n",
    "while now_index == dist_index:\n",
    "    \n",
    "    next_indexs = update(now_index)\n",
    "    \n",
    "    if len(next_indexs)==0:\n",
    "        next_index = next_indexs[0]\n",
    "    else:\n",
    "        temp_next_indexs = []\n",
    "        for next_index in next_indexs:\n",
    "            next_indexs = update(next_index)\n",
    "                \n",
    "        \n",
    "    \n",
    "#     now_x,now_y = now_index[0],now_index[-1]\n",
    "    \n",
    "#     up_index,down_index,left_index,right_index = all_around_index([now_x,now_y])\n",
    "    \n",
    "    \n",
    "#     if is_way(up_index):\n",
    "#         temp_costs.append(cost(now_index,up_index,dist_index))\n",
    "#         temp_indexs.append(up_index)\n",
    "#         pass\n",
    "#     if is_way(down_index):\n",
    "#         temp_cost.append(cost(now_index,down_index,dist_index))\n",
    "#         temp_indexs.append(down_index)\n",
    "#         pass\n",
    "#     if is_way(left_index):\n",
    "#         temp_cost.append(cost(now_index,left_index,dist_index))\n",
    "#         temp_indexs.append(left_index)\n",
    "#         pass\n",
    "#     if is_way(right_index):\n",
    "#         temp_cost.append(cost(now_index,right_index,dist_index))\n",
    "#         temp_indexs.append(right_index)\n",
    "#         pass\n",
    "    \n",
    "#     next_indexs = find_min_index(temp_costs)\n",
    "    \n",
    "    \n",
    "\n",
    "#     next_index = temp_cost\n",
    "    \n",
    "    "
   ]
  }
 ],
 "metadata": {
  "kernelspec": {
   "display_name": "Python 3 (ipykernel)",
   "language": "python",
   "name": "python3"
  },
  "language_info": {
   "codemirror_mode": {
    "name": "ipython",
    "version": 3
   },
   "file_extension": ".py",
   "mimetype": "text/x-python",
   "name": "python",
   "nbconvert_exporter": "python",
   "pygments_lexer": "ipython3",
   "version": "3.7.16"
  }
 },
 "nbformat": 4,
 "nbformat_minor": 4
}
