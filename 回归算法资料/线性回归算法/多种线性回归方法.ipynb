{
 "cells": [
  {
   "cell_type": "code",
   "execution_count": 135,
   "metadata": {},
   "outputs": [],
   "source": [
    "import pandas as pd\n",
    "import numpy as np\n",
    "import matplotlib.pyplot as plt\n",
    "import seaborn as sns\n",
    "sns.set()"
   ]
  },
  {
   "cell_type": "code",
   "execution_count": 136,
   "metadata": {
    "tags": []
   },
   "outputs": [
    {
     "name": "stdout",
     "output_type": "stream",
     "text": [
      "(746, 198) (746, 1)\n"
     ]
    }
   ],
   "source": [
    "def example_data():\n",
    "    data = pd.read_csv(\"data3.csv\")\n",
    "    a = (data.to_numpy()[:,1:]).astype(float)\n",
    "    b = np.ones_like(a)\n",
    "    X = np.where(np.isnan(a), 0, a * b)[:,:-2]\n",
    "    Y = b[:,-2:-1]\n",
    "    print(X.shape,Y.shape)\n",
    "    return X,Y\n",
    "x,y = example_data()"
   ]
  },
  {
   "cell_type": "code",
   "execution_count": 137,
   "metadata": {},
   "outputs": [],
   "source": [
    "xu=np.random.rand(50)*8*np.pi-2*np.pi"
   ]
  },
  {
   "cell_type": "code",
   "execution_count": 138,
   "metadata": {},
   "outputs": [],
   "source": [
    "def f(x):\n",
    "    return np.sin(x)+0.5*x\n",
    "yu=f(xu)"
   ]
  },
  {
   "cell_type": "markdown",
   "metadata": {},
   "source": [
    "# 1.numpy.polyfit( )"
   ]
  },
  {
   "cell_type": "markdown",
   "metadata": {},
   "source": [
    "## 线性拟合"
   ]
  },
  {
   "cell_type": "code",
   "execution_count": 139,
   "metadata": {},
   "outputs": [
    {
     "data": {
      "text/plain": [
       "<matplotlib.collections.PathCollection at 0x7fc32553aa30>"
      ]
     },
     "execution_count": 139,
     "metadata": {},
     "output_type": "execute_result"
    },
    {
     "data": {
      "image/png": "[encoded data removed]",
      "text/plain": [
       "<Figure size 432x288 with 1 Axes>"
      ]
     },
     "metadata": {},
     "output_type": "display_data"
    }
   ],
   "source": [
    "plt.scatter(xu,yu)"
   ]
  },
  {
   "cell_type": "code",
   "execution_count": 140,
   "metadata": {},
   "outputs": [
    {
     "data": {
      "text/plain": [
       "Text(0, 0.5, 'f(x)')"
      ]
     },
     "execution_count": 140,
     "metadata": {},
     "output_type": "execute_result"
    },
    {
     "data": {
      "image/png": "[encoded data removed]",
      "text/plain": [
       "<Figure size 432x288 with 1 Axes>"
      ]
     },
     "metadata": {},
     "output_type": "display_data"
    }
   ],
   "source": [
    "import numpy as np\n",
    "reg = np.polyfit(xu,yu,deg=2)\n",
    "ry = np.polyval(reg,xu)\n",
    "plt.plot(xu,yu,'b^',label='f(x)')\n",
    "plt.plot(xu,ry,'r.',label='regression')\n",
    "plt.legend(loc=0)\n",
    "plt.grid(True)\n",
    "plt.xlabel('x')\n",
    "plt.ylabel('f(x)')\n"
   ]
  },
  {
   "cell_type": "markdown",
   "metadata": {},
   "source": [
    "## 多项式拟合 参数 deg>1"
   ]
  },
  {
   "cell_type": "code",
   "execution_count": 141,
   "metadata": {},
   "outputs": [
    {
     "data": {
      "text/plain": [
       "Text(0, 0.5, 'f(x)')"
      ]
     },
     "execution_count": 141,
     "metadata": {},
     "output_type": "execute_result"
    },
    {
     "data": {
      "image/png": "[encoded data removed]",
      "text/plain": [
       "<Figure size 432x288 with 1 Axes>"
      ]
     },
     "metadata": {},
     "output_type": "display_data"
    }
   ],
   "source": [
    "import numpy as np\n",
    "reg = np.polyfit(xu,yu,deg=20)\n",
    "ry = np.polyval(reg,xu)\n",
    "plt.plot(xu,yu,'b^',label='f(x)')\n",
    "plt.plot(xu,ry,'r.',label='regression')\n",
    "plt.legend(loc=0)\n",
    "plt.grid(True)\n",
    "plt.xlabel('x')\n",
    "plt.ylabel('f(x)')"
   ]
  },
  {
   "cell_type": "markdown",
   "metadata": {},
   "source": [
    "## 查看均方误差"
   ]
  },
  {
   "cell_type": "code",
   "execution_count": 142,
   "metadata": {},
   "outputs": [
    {
     "data": {
      "text/plain": [
       "6.90273778530364e-09"
      ]
     },
     "execution_count": 142,
     "metadata": {},
     "output_type": "execute_result"
    }
   ],
   "source": [
    "mse=np.sum((f(xu)-ry)**2)/len(xu)\n",
    "mse"
   ]
  },
  {
   "cell_type": "code",
   "execution_count": 143,
   "metadata": {},
   "outputs": [
    {
     "data": {
      "text/plain": [
       "((100, 10), (100, 1))"
      ]
     },
     "execution_count": 143,
     "metadata": {},
     "output_type": "execute_result"
    }
   ],
   "source": [
    "x = np.random.rand(1000).reshape(100,10)\n",
    "y = np.random.rand(100)[:,None]\n",
    "x.shape,y.shape"
   ]
  },
  {
   "cell_type": "markdown",
   "metadata": {},
   "source": [
    "# 2.scipy.stats.linregress()\n",
    "https://blog.minitab.com/blog/adventures-in-statistics-2/regression-analysis-how-do-i-interpret-r-squared-and-assess-the-goodness-of-fit\n",
    "#### 这是一个高度专业化的线性回归函数，可以在SciPy的统计模块中找到。然而因为它仅被#### 用来优化计算两组测量数据的最小二乘回归，所以其灵活性相当受限。因此，不能使用它#### 进行广义线性模型和多元回归拟合。但是，由于其特殊性，它是简单线性回归中最快速的#### 方法之一。除了拟合的系数和截距项之外，它还返回基本统计量，如R2系数和标准差"
   ]
  },
  {
   "cell_type": "code",
   "execution_count": 144,
   "metadata": {},
   "outputs": [],
   "source": [
    "from scipy import stats\n",
    "statsreg = stats.linregress(xu,yu)"
   ]
  },
  {
   "cell_type": "code",
   "execution_count": 145,
   "metadata": {},
   "outputs": [
    {
     "data": {
      "text/plain": [
       "LinregressResult(slope=0.480484585941693, intercept=0.12581984489653353, rvalue=0.9815760570422326, pvalue=3.666443554127663e-36, stderr=0.013499930980153271, intercept_stderr=0.11812590912091375)"
      ]
     },
     "execution_count": 145,
     "metadata": {},
     "output_type": "execute_result"
    }
   ],
   "source": [
    "statsreg"
   ]
  },
  {
   "cell_type": "markdown",
   "metadata": {},
   "source": [
    "# 3.optimize.curve_fit( )\n",
    "https://blog.csdn.net/jason_cuijiahui/article/details/87211889\n",
    "#### 这与Polyfit方法是一致的，但本质上更具一般性。这个强大的函数来自\n",
    "#### scipy.optimize模块，可以通过最小二乘最小化将任意的用户自定义函数拟合到数据集上。\n",
    "#### 对于简单的线性回归来说，可以只写一个线性的mx + c函数并调用这个估计函数。不言而喻，\n",
    "#### 它也适用于多元回归，并返回最小二乘度量最小的函数参数数组以及协方差矩阵。"
   ]
  },
  {
   "cell_type": "code",
   "execution_count": 152,
   "metadata": {},
   "outputs": [
    {
     "data": {
      "text/plain": [
       "[<matplotlib.lines.Line2D at 0x7fc30817e8e0>]"
      ]
     },
     "execution_count": 152,
     "metadata": {},
     "output_type": "execute_result"
    },
    {
     "data": {
      "image/png": "[encoded data removed]",
      "text/plain": [
       "<Figure size 432x288 with 1 Axes>"
      ]
     },
     "metadata": {},
     "output_type": "display_data"
    }
   ],
   "source": [
    "from scipy import optimize\n",
    "\n",
    "# 定义目标函数\n",
    "def func(x, a, b, c):\n",
    "    return a * np.exp(-b * x) + c\n",
    "\n",
    "# 这部分生成样本点，对函数值加上高斯噪声作为样本点\n",
    "# [0, 4]共50个点\n",
    "xdata = np.linspace(0, 4, 50)\n",
    "# a=2.5, b=1.3, c=0.5\n",
    "y = func(xdata, 2.5, 1.3, 0.5)\n",
    "np.random.seed(10086)\n",
    "err_stdev = 0.2\n",
    "# 生成均值为0，标准差为err_stdev为0.2的高斯噪声\n",
    "y_noise = err_stdev * np.random.normal(size=xdata.size)\n",
    "ydata = y + y_noise\n",
    "plt.figure('拟合图')\n",
    "plt.plot(xdata, ydata, 'b-', label='data')"
   ]
  },
  {
   "cell_type": "code",
   "execution_count": 147,
   "metadata": {},
   "outputs": [
    {
     "data": {
      "text/plain": [
       "(array([2.67723696, 1.43052196, 0.54537768]),\n",
       " array([[ 0.01242841,  0.00555071, -0.00050879],\n",
       "        [ 0.00555071,  0.01524339,  0.00377389],\n",
       "        [-0.00050879,  0.00377389,  0.00193364]]))"
      ]
     },
     "execution_count": 147,
     "metadata": {},
     "output_type": "execute_result"
    },
    {
     "data": {
      "image/png": "[encoded data removed]",
      "text/plain": [
       "<Figure size 432x288 with 1 Axes>"
      ]
     },
     "metadata": {},
     "output_type": "display_data"
    }
   ],
   "source": [
    "popt, pcov = optimize.curve_fit(func, xdata, ydata)\n",
    "plt.plot(xdata, func(xdata, *popt), 'r-', label='fit: a=%5.3f, b=%5.3f, c=%5.3f' % tuple(popt))\n",
    "plt.scatter(xdata, ydata, label='data')\n",
    "popt,pcov"
   ]
  },
  {
   "cell_type": "markdown",
   "metadata": {},
   "source": [
    "# numpy.linalg.lstsq()\n",
    "#### 这是通过矩阵分解计算线性方程组的最小二乘解的基本方法。来自numpy包的简便线性代#### 数模块。在该方法中，通过计算欧几里德2-范数||b-ax||2最小化的向量x来求解等式#### ax = b。\n",
    "#### 该方程可能有无数解、唯一解或无解。如果a是方阵且满秩，则x（四舍五入）是方程的“精确”解。\n",
    "#### 你可以使用这个方法做一元或多元线性回归来得到计算的系数和残差。一个小诀窍是，在#### 调用函数之前必须在x数据后加一列1来计算截距项。这被证明是更快速地解决线性回归#### 问题的方法之一。"
   ]
  },
  {
   "cell_type": "code",
   "execution_count": 148,
   "metadata": {
    "tags": []
   },
   "outputs": [
    {
     "name": "stdout",
     "output_type": "stream",
     "text": [
      "[ 1.   -0.95]\n",
      "[[ 1.  ]\n",
      " [-0.95]]\n",
      "[[ 1.  ]\n",
      " [-0.95]]\n"
     ]
    },
    {
     "name": "stderr",
     "output_type": "stream",
     "text": [
      "/var/folders/3g/m1jxz4d919v61y989s04k9r80000gn/T/ipykernel_46516/2057262067.py:8: FutureWarning: `rcond` parameter will change to the default of machine precision times ``max(M, N)`` where M and N are the input matrix dimensions.\n",
      "To use the future default and silence this warning we advise to pass `rcond=None`, to keep using the old, explicitly pass `rcond=-1`.\n",
      "  print(np.linalg.lstsq(A, y)[0])\n"
     ]
    }
   ],
   "source": [
    "import numpy as np\n",
    "import numpy as np\n",
    "x = np.array([0, 1, 2, 3])\n",
    "y = np.array([-1, 0.2, 0.9, 2.1])\n",
    "A = np.vstack([x, np.ones(len(x))]).T\n",
    "Am = np.mat(A)\n",
    "ym = np.mat(y).T\n",
    "print(np.linalg.lstsq(A, y)[0])\n",
    "print(np.linalg.inv(Am.T * Am) * Am.T * ym)\n",
    "print(np.linalg.pinv(Am) * ym)"
   ]
  },
  {
   "cell_type": "markdown",
   "metadata": {},
   "source": []
  },
  {
   "cell_type": "code",
   "execution_count": 149,
   "metadata": {},
   "outputs": [],
   "source": [
    "from sklearn.linear_model import SGDRegressor\n",
    "# 从sklearn.model导入数据分割器\n",
    "from sklearn.model_selection import train_test_split\n",
    "from sklearn.preprocessing import StandardScaler # 从sklearn.preprocessing导入数据标准化模块\n",
    "# 分别初始化对特征和目标值的标准化器\n",
    "\n",
    "X = np.random.rand(1000).reshape(100,10)\n",
    "y = np.random.rand(100)[:,None]\n",
    "ss_X = StandardScaler()\n",
    "ss_y = StandardScaler()\n",
    "# 随机采样25%的数据构建测试样本,其余作为训练样本\n",
    "x_train, x_test, y_train, y_test = train_test_split(X, y, random_state=33, test_size=0.25)\n",
    "# 分别对训练和测试数据的特征以及目标值进行标准化处理\n",
    "x_train = ss_X.fit_transform(x_train)\n",
    "x_test = ss_X.transform(x_test)\n"
   ]
  },
  {
   "cell_type": "markdown",
   "metadata": {},
   "source": [
    "# 参数说明\n",
    "http://lijiancheng0614.github.io/scikit-learn/modules/generated/sklearn.linear_model.SGDRegressor.html\n",
    "loss：str，'squared_loss'，'huber'，'epsilon_insensitive'或'squared_epsilon_insensitive'\n",
    "\n",
    "要使用的损失函数。默认为'squared_loss'，表示普通的最小二乘拟合。'huber'修改了'squared_loss'，通过将平方损失转换为线性损失超过ε距离，从而减少了对异常值校正的关注。'epsilon_insensitive'忽略小于epsilon的错误，并且超出此范围呈线性关系；这是SVR中使用的损失函数。'squared_epsilon_insensitive'是相同的，但超过ε容差后变为平方损耗。"
   ]
  },
  {
   "cell_type": "code",
   "execution_count": 150,
   "metadata": {},
   "outputs": [
    {
     "ename": "InvalidParameterError",
     "evalue": "The 'loss' parameter of SGDRegressor must be a str among {'squared_epsilon_insensitive', 'squared_error', 'huber', 'epsilon_insensitive'}. Got 'squared_loss' instead.",
     "output_type": "error",
     "traceback": [
      "\u001b[0;31m---------------------------------------------------------------------------\u001b[0m",
      "\u001b[0;31mInvalidParameterError\u001b[0m                     Traceback (most recent call last)",
      "\u001b[1;32m/Users/magu/Documents/淮职算法课准备/回归算法资料/线性回归算法/多种线性回归方法.ipynb 单元格 25\u001b[0m line \u001b[0;36m<cell line: 10>\u001b[0;34m()\u001b[0m\n\u001b[1;32m      <a href='vscode-notebook-cell:/Users/magu/Documents/%E6%B7%AE%E8%81%8C%E7%AE%97%E6%B3%95%E8%AF%BE%E5%87%86%E5%A4%87/%E5%9B%9E%E5%BD%92%E7%AE%97%E6%B3%95%E8%B5%84%E6%96%99/%E7%BA%BF%E6%80%A7%E5%9B%9E%E5%BD%92%E7%AE%97%E6%B3%95/%E5%A4%9A%E7%A7%8D%E7%BA%BF%E6%80%A7%E5%9B%9E%E5%BD%92%E6%96%B9%E6%B3%95.ipynb#X33sZmlsZQ%3D%3D?line=2'>3</a>\u001b[0m sgdr \u001b[39m=\u001b[39m SGDRegressor(max_iter\u001b[39m=\u001b[39m\u001b[39m1000\u001b[39m\n\u001b[1;32m      <a href='vscode-notebook-cell:/Users/magu/Documents/%E6%B7%AE%E8%81%8C%E7%AE%97%E6%B3%95%E8%AF%BE%E5%87%86%E5%A4%87/%E5%9B%9E%E5%BD%92%E7%AE%97%E6%B3%95%E8%B5%84%E6%96%99/%E7%BA%BF%E6%80%A7%E5%9B%9E%E5%BD%92%E7%AE%97%E6%B3%95/%E5%A4%9A%E7%A7%8D%E7%BA%BF%E6%80%A7%E5%9B%9E%E5%BD%92%E6%96%B9%E6%B3%95.ipynb#X33sZmlsZQ%3D%3D?line=3'>4</a>\u001b[0m ,alpha\u001b[39m=\u001b[39m\u001b[39m0.0000001\u001b[39m\n\u001b[1;32m      <a href='vscode-notebook-cell:/Users/magu/Documents/%E6%B7%AE%E8%81%8C%E7%AE%97%E6%B3%95%E8%AF%BE%E5%87%86%E5%A4%87/%E5%9B%9E%E5%BD%92%E7%AE%97%E6%B3%95%E8%B5%84%E6%96%99/%E7%BA%BF%E6%80%A7%E5%9B%9E%E5%BD%92%E7%AE%97%E6%B3%95/%E5%A4%9A%E7%A7%8D%E7%BA%BF%E6%80%A7%E5%9B%9E%E5%BD%92%E6%96%B9%E6%B3%95.ipynb#X33sZmlsZQ%3D%3D?line=4'>5</a>\u001b[0m ,epsilon\u001b[39m=\u001b[39m\u001b[39m0.000000000000001\u001b[39m\n\u001b[1;32m      <a href='vscode-notebook-cell:/Users/magu/Documents/%E6%B7%AE%E8%81%8C%E7%AE%97%E6%B3%95%E8%AF%BE%E5%87%86%E5%A4%87/%E5%9B%9E%E5%BD%92%E7%AE%97%E6%B3%95%E8%B5%84%E6%96%99/%E7%BA%BF%E6%80%A7%E5%9B%9E%E5%BD%92%E7%AE%97%E6%B3%95/%E5%A4%9A%E7%A7%8D%E7%BA%BF%E6%80%A7%E5%9B%9E%E5%BD%92%E6%96%B9%E6%B3%95.ipynb#X33sZmlsZQ%3D%3D?line=5'>6</a>\u001b[0m ,fit_intercept\u001b[39m=\u001b[39m\u001b[39mTrue\u001b[39;00m\n\u001b[1;32m      <a href='vscode-notebook-cell:/Users/magu/Documents/%E6%B7%AE%E8%81%8C%E7%AE%97%E6%B3%95%E8%AF%BE%E5%87%86%E5%A4%87/%E5%9B%9E%E5%BD%92%E7%AE%97%E6%B3%95%E8%B5%84%E6%96%99/%E7%BA%BF%E6%80%A7%E5%9B%9E%E5%BD%92%E7%AE%97%E6%B3%95/%E5%A4%9A%E7%A7%8D%E7%BA%BF%E6%80%A7%E5%9B%9E%E5%BD%92%E6%96%B9%E6%B3%95.ipynb#X33sZmlsZQ%3D%3D?line=6'>7</a>\u001b[0m ,l1_ratio\u001b[39m=\u001b[39m\u001b[39m0.15\u001b[39m\n\u001b[1;32m      <a href='vscode-notebook-cell:/Users/magu/Documents/%E6%B7%AE%E8%81%8C%E7%AE%97%E6%B3%95%E8%AF%BE%E5%87%86%E5%A4%87/%E5%9B%9E%E5%BD%92%E7%AE%97%E6%B3%95%E8%B5%84%E6%96%99/%E7%BA%BF%E6%80%A7%E5%9B%9E%E5%BD%92%E7%AE%97%E6%B3%95/%E5%A4%9A%E7%A7%8D%E7%BA%BF%E6%80%A7%E5%9B%9E%E5%BD%92%E6%96%B9%E6%B3%95.ipynb#X33sZmlsZQ%3D%3D?line=7'>8</a>\u001b[0m ,loss\u001b[39m=\u001b[39m\u001b[39m'\u001b[39m\u001b[39msquared_loss\u001b[39m\u001b[39m'\u001b[39m)\u001b[39m#0 <= l1_ratio <= 1的Elastic Net混合参数。l1_ratio = 0对应于L2惩罚，l1_ratio = 1到L1。默认值为0.15。\u001b[39;00m\n\u001b[1;32m      <a href='vscode-notebook-cell:/Users/magu/Documents/%E6%B7%AE%E8%81%8C%E7%AE%97%E6%B3%95%E8%AF%BE%E5%87%86%E5%A4%87/%E5%9B%9E%E5%BD%92%E7%AE%97%E6%B3%95%E8%B5%84%E6%96%99/%E7%BA%BF%E6%80%A7%E5%9B%9E%E5%BD%92%E7%AE%97%E6%B3%95/%E5%A4%9A%E7%A7%8D%E7%BA%BF%E6%80%A7%E5%9B%9E%E5%BD%92%E6%96%B9%E6%B3%95.ipynb#X33sZmlsZQ%3D%3D?line=8'>9</a>\u001b[0m \u001b[39m# 使用训练数据进行参数估计\u001b[39;00m\n\u001b[0;32m---> <a href='vscode-notebook-cell:/Users/magu/Documents/%E6%B7%AE%E8%81%8C%E7%AE%97%E6%B3%95%E8%AF%BE%E5%87%86%E5%A4%87/%E5%9B%9E%E5%BD%92%E7%AE%97%E6%B3%95%E8%B5%84%E6%96%99/%E7%BA%BF%E6%80%A7%E5%9B%9E%E5%BD%92%E7%AE%97%E6%B3%95/%E5%A4%9A%E7%A7%8D%E7%BA%BF%E6%80%A7%E5%9B%9E%E5%BD%92%E6%96%B9%E6%B3%95.ipynb#X33sZmlsZQ%3D%3D?line=9'>10</a>\u001b[0m sgdr\u001b[39m.\u001b[39;49mfit(x_train, y_train)\n\u001b[1;32m     <a href='vscode-notebook-cell:/Users/magu/Documents/%E6%B7%AE%E8%81%8C%E7%AE%97%E6%B3%95%E8%AF%BE%E5%87%86%E5%A4%87/%E5%9B%9E%E5%BD%92%E7%AE%97%E6%B3%95%E8%B5%84%E6%96%99/%E7%BA%BF%E6%80%A7%E5%9B%9E%E5%BD%92%E7%AE%97%E6%B3%95/%E5%A4%9A%E7%A7%8D%E7%BA%BF%E6%80%A7%E5%9B%9E%E5%BD%92%E6%96%B9%E6%B3%95.ipynb#X33sZmlsZQ%3D%3D?line=10'>11</a>\u001b[0m \u001b[39m# 对测试数据进行回归预测\u001b[39;00m\n\u001b[1;32m     <a href='vscode-notebook-cell:/Users/magu/Documents/%E6%B7%AE%E8%81%8C%E7%AE%97%E6%B3%95%E8%AF%BE%E5%87%86%E5%A4%87/%E5%9B%9E%E5%BD%92%E7%AE%97%E6%B3%95%E8%B5%84%E6%96%99/%E7%BA%BF%E6%80%A7%E5%9B%9E%E5%BD%92%E7%AE%97%E6%B3%95/%E5%A4%9A%E7%A7%8D%E7%BA%BF%E6%80%A7%E5%9B%9E%E5%BD%92%E6%96%B9%E6%B3%95.ipynb#X33sZmlsZQ%3D%3D?line=11'>12</a>\u001b[0m sgdr_y_predict \u001b[39m=\u001b[39m sgdr\u001b[39m.\u001b[39mpredict(x_test)\n",
      "File \u001b[0;32m~/anaconda3/envs/TS_ENV_38_add_AKshare/lib/python3.8/site-packages/sklearn/base.py:1144\u001b[0m, in \u001b[0;36m_fit_context.<locals>.decorator.<locals>.wrapper\u001b[0;34m(estimator, *args, **kwargs)\u001b[0m\n\u001b[1;32m   1139\u001b[0m partial_fit_and_fitted \u001b[39m=\u001b[39m (\n\u001b[1;32m   1140\u001b[0m     fit_method\u001b[39m.\u001b[39m\u001b[39m__name__\u001b[39m \u001b[39m==\u001b[39m \u001b[39m\"\u001b[39m\u001b[39mpartial_fit\u001b[39m\u001b[39m\"\u001b[39m \u001b[39mand\u001b[39;00m _is_fitted(estimator)\n\u001b[1;32m   1141\u001b[0m )\n\u001b[1;32m   1143\u001b[0m \u001b[39mif\u001b[39;00m \u001b[39mnot\u001b[39;00m global_skip_validation \u001b[39mand\u001b[39;00m \u001b[39mnot\u001b[39;00m partial_fit_and_fitted:\n\u001b[0;32m-> 1144\u001b[0m     estimator\u001b[39m.\u001b[39;49m_validate_params()\n\u001b[1;32m   1146\u001b[0m \u001b[39mwith\u001b[39;00m config_context(\n\u001b[1;32m   1147\u001b[0m     skip_parameter_validation\u001b[39m=\u001b[39m(\n\u001b[1;32m   1148\u001b[0m         prefer_skip_nested_validation \u001b[39mor\u001b[39;00m global_skip_validation\n\u001b[1;32m   1149\u001b[0m     )\n\u001b[1;32m   1150\u001b[0m ):\n\u001b[1;32m   1151\u001b[0m     \u001b[39mreturn\u001b[39;00m fit_method(estimator, \u001b[39m*\u001b[39margs, \u001b[39m*\u001b[39m\u001b[39m*\u001b[39mkwargs)\n",
      "File \u001b[0;32m~/anaconda3/envs/TS_ENV_38_add_AKshare/lib/python3.8/site-packages/sklearn/base.py:637\u001b[0m, in \u001b[0;36mBaseEstimator._validate_params\u001b[0;34m(self)\u001b[0m\n\u001b[1;32m    629\u001b[0m \u001b[39mdef\u001b[39;00m \u001b[39m_validate_params\u001b[39m(\u001b[39mself\u001b[39m):\n\u001b[1;32m    630\u001b[0m     \u001b[39m\"\"\"Validate types and values of constructor parameters\u001b[39;00m\n\u001b[1;32m    631\u001b[0m \n\u001b[1;32m    632\u001b[0m \u001b[39m    The expected type and values must be defined in the `_parameter_constraints`\u001b[39;00m\n\u001b[0;32m   (...)\u001b[0m\n\u001b[1;32m    635\u001b[0m \u001b[39m    accepted constraints.\u001b[39;00m\n\u001b[1;32m    636\u001b[0m \u001b[39m    \"\"\"\u001b[39;00m\n\u001b[0;32m--> 637\u001b[0m     validate_parameter_constraints(\n\u001b[1;32m    638\u001b[0m         \u001b[39mself\u001b[39;49m\u001b[39m.\u001b[39;49m_parameter_constraints,\n\u001b[1;32m    639\u001b[0m         \u001b[39mself\u001b[39;49m\u001b[39m.\u001b[39;49mget_params(deep\u001b[39m=\u001b[39;49m\u001b[39mFalse\u001b[39;49;00m),\n\u001b[1;32m    640\u001b[0m         caller_name\u001b[39m=\u001b[39;49m\u001b[39mself\u001b[39;49m\u001b[39m.\u001b[39;49m\u001b[39m__class__\u001b[39;49m\u001b[39m.\u001b[39;49m\u001b[39m__name__\u001b[39;49m,\n\u001b[1;32m    641\u001b[0m     )\n",
      "File \u001b[0;32m~/anaconda3/envs/TS_ENV_38_add_AKshare/lib/python3.8/site-packages/sklearn/utils/_param_validation.py:95\u001b[0m, in \u001b[0;36mvalidate_parameter_constraints\u001b[0;34m(parameter_constraints, params, caller_name)\u001b[0m\n\u001b[1;32m     89\u001b[0m \u001b[39melse\u001b[39;00m:\n\u001b[1;32m     90\u001b[0m     constraints_str \u001b[39m=\u001b[39m (\n\u001b[1;32m     91\u001b[0m         \u001b[39mf\u001b[39m\u001b[39m\"\u001b[39m\u001b[39m{\u001b[39;00m\u001b[39m'\u001b[39m\u001b[39m, \u001b[39m\u001b[39m'\u001b[39m\u001b[39m.\u001b[39mjoin([\u001b[39mstr\u001b[39m(c) \u001b[39mfor\u001b[39;00m c \u001b[39min\u001b[39;00m constraints[:\u001b[39m-\u001b[39m\u001b[39m1\u001b[39m]])\u001b[39m}\u001b[39;00m\u001b[39m or\u001b[39m\u001b[39m\"\u001b[39m\n\u001b[1;32m     92\u001b[0m         \u001b[39mf\u001b[39m\u001b[39m\"\u001b[39m\u001b[39m \u001b[39m\u001b[39m{\u001b[39;00mconstraints[\u001b[39m-\u001b[39m\u001b[39m1\u001b[39m]\u001b[39m}\u001b[39;00m\u001b[39m\"\u001b[39m\n\u001b[1;32m     93\u001b[0m     )\n\u001b[0;32m---> 95\u001b[0m \u001b[39mraise\u001b[39;00m InvalidParameterError(\n\u001b[1;32m     96\u001b[0m     \u001b[39mf\u001b[39m\u001b[39m\"\u001b[39m\u001b[39mThe \u001b[39m\u001b[39m{\u001b[39;00mparam_name\u001b[39m!r}\u001b[39;00m\u001b[39m parameter of \u001b[39m\u001b[39m{\u001b[39;00mcaller_name\u001b[39m}\u001b[39;00m\u001b[39m must be\u001b[39m\u001b[39m\"\u001b[39m\n\u001b[1;32m     97\u001b[0m     \u001b[39mf\u001b[39m\u001b[39m\"\u001b[39m\u001b[39m \u001b[39m\u001b[39m{\u001b[39;00mconstraints_str\u001b[39m}\u001b[39;00m\u001b[39m. Got \u001b[39m\u001b[39m{\u001b[39;00mparam_val\u001b[39m!r}\u001b[39;00m\u001b[39m instead.\u001b[39m\u001b[39m\"\u001b[39m\n\u001b[1;32m     98\u001b[0m )\n",
      "\u001b[0;31mInvalidParameterError\u001b[0m: The 'loss' parameter of SGDRegressor must be a str among {'squared_epsilon_insensitive', 'squared_error', 'huber', 'epsilon_insensitive'}. Got 'squared_loss' instead."
     ]
    }
   ],
   "source": [
    "from sklearn.linear_model import SGDRegressor\n",
    "# 使用默认配置初始化线性回归器SGDRegressore\n",
    "sgdr = SGDRegressor(max_iter=1000\n",
    ",alpha=0.0000001\n",
    ",epsilon=0.000000000000001\n",
    ",fit_intercept=True\n",
    ",l1_ratio=0.15\n",
    ",loss='squared_loss')#0 <= l1_ratio <= 1的Elastic Net混合参数。l1_ratio = 0对应于L2惩罚，l1_ratio = 1到L1。默认值为0.15。\n",
    "# 使用训练数据进行参数估计\n",
    "sgdr.fit(x_train, y_train)\n",
    "# 对测试数据进行回归预测\n",
    "sgdr_y_predict = sgdr.predict(x_test)"
   ]
  },
  {
   "cell_type": "code",
   "execution_count": null,
   "metadata": {},
   "outputs": [
    {
     "data": {
      "text/plain": [
       "(array([0.49545153, 0.54403753, 0.42738637, 0.50891984, 0.44941291,\n",
       "        0.28288966, 0.44809617, 0.37832647, 0.43990936, 0.44020192,\n",
       "        0.48732721, 0.2654563 , 0.28150491, 0.40907274, 0.51439692,\n",
       "        0.5244678 , 0.41221734, 0.40922816, 0.41521889, 0.54315681,\n",
       "        0.52845623, 0.47836339, 0.4214144 , 0.46674648, 0.50571352]),\n",
       " 1e-07)"
      ]
     },
     "execution_count": 17,
     "metadata": {},
     "output_type": "execute_result"
    }
   ],
   "source": [
    "sgdr_y_predict,sgdr.alpha"
   ]
  },
  {
   "cell_type": "code",
   "execution_count": null,
   "metadata": {
    "tags": []
   },
   "outputs": [
    {
     "name": "stdout",
     "output_type": "stream",
     "text": [
      "SGD的默认评估值为： 0.014909937616276792\n",
      "SGD的R_squared值为： 0.014909937616276792\n"
     ]
    }
   ],
   "source": [
    "from sklearn.metrics import r2_score, mean_squared_error, mean_absolute_error\n",
    "# 对SGD模型评估\n",
    "sgdr_score = sgdr.score(x_test, y_test)\n",
    "print(\"SGD的默认评估值为：\", sgdr_score)\n",
    "sgdr_R_squared = r2_score(y_test, sgdr_y_predict)\n",
    "print(\"SGD的R_squared值为：\", sgdr_R_squared)\n",
    "#sgdr_mse = mean_squared_error(ss_y.inverse_transform(y_test), ss_y.inverse_transform(sgdr_y_predict))\n",
    "#print(\"SGD的均方误差为:\", sgdr_mse)\n",
    "#sgdr_mae = mean_absolute_error(ss_y.inverse_transform(y_test), ss_y.inverse_transform(sgdr_y_predict))\n",
    "#print(\"SGD的平均绝对误差为:\", sgdr_mae)"
   ]
  },
  {
   "cell_type": "markdown",
   "metadata": {},
   "source": [
    "## 方程解回归"
   ]
  },
  {
   "cell_type": "code",
   "execution_count": null,
   "metadata": {},
   "outputs": [],
   "source": [
    "def EquationRegression(X,Y,predict):\n",
    "        '''\n",
    "        回归方程\n",
    "        :param X:\n",
    "        :param Y:\n",
    "        :param predict:\n",
    "        :return:\n",
    "        '''\n",
    "        predict = np.array(predict)\n",
    "        try:\n",
    "            xm,xn = X.shape\n",
    "            ym,yn = Y.shape\n",
    "        except Exception:\n",
    "            xm,xn = X.shape\n",
    "            Y = Y[:,None]\n",
    "        finally:\n",
    "            newX = np.c_[np.ones(xm),X]\n",
    "            fit = np.dot(np.dot(np.linalg.inv(np.dot(newX.T,newX)),newX.T),Y)\n",
    "            predictX = np.c_[np.ones(predict.shape[0]),predict].dot(fit)\n",
    "            return fit,predictX"
   ]
  },
  {
   "cell_type": "code",
   "execution_count": null,
   "metadata": {},
   "outputs": [
    {
     "data": {
      "text/plain": [
       "(array([[ 4.85520986e-01],\n",
       "        [ 4.25398019e-02],\n",
       "        [-3.16620072e-02],\n",
       "        [-4.41818451e-02],\n",
       "        [ 1.72997270e-02],\n",
       "        [-3.70826229e-02],\n",
       "        [-2.40099205e-02],\n",
       "        [ 1.21867187e-02],\n",
       "        [-1.94980367e-02],\n",
       "        [-5.15829251e-02],\n",
       "        [ 2.68701245e-05]]),\n",
       " array([[0.52817774],\n",
       "        [0.58580856],\n",
       "        [0.4802982 ],\n",
       "        [0.55866135],\n",
       "        [0.46154174],\n",
       "        [0.27637173],\n",
       "        [0.46698022],\n",
       "        [0.4038013 ],\n",
       "        [0.47790167],\n",
       "        [0.4923329 ],\n",
       "        [0.53146892],\n",
       "        [0.2647369 ],\n",
       "        [0.28891748],\n",
       "        [0.44792312],\n",
       "        [0.54196026],\n",
       "        [0.57245008],\n",
       "        [0.43121027],\n",
       "        [0.45704052],\n",
       "        [0.45557085],\n",
       "        [0.57839973],\n",
       "        [0.60641609],\n",
       "        [0.52447441],\n",
       "        [0.46585664],\n",
       "        [0.47763555],\n",
       "        [0.54604768]]))"
      ]
     },
     "execution_count": 20,
     "metadata": {},
     "output_type": "execute_result"
    }
   ],
   "source": [
    "EquationRegression(x_train,y_train,x_test)"
   ]
  },
  {
   "cell_type": "code",
   "execution_count": null,
   "metadata": {},
   "outputs": [],
   "source": []
  }
 ],
 "metadata": {
  "kernelspec": {
   "display_name": "Python 3 (ipykernel)",
   "language": "python",
   "name": "python3"
  },
  "language_info": {
   "codemirror_mode": {
    "name": "ipython",
    "version": 3
   },
   "file_extension": ".py",
   "mimetype": "text/x-python",
   "name": "python",
   "nbconvert_exporter": "python",
   "pygments_lexer": "ipython3",
   "version": "3.8.18"
  }
 },
 "nbformat": 4,
 "nbformat_minor": 4
}
