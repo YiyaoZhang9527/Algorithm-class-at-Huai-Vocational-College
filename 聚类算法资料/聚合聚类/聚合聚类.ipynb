{
 "cells": [
  {
   "cell_type": "code",
   "execution_count": null,
   "metadata": {},
   "outputs": [],
   "source": []
  },
  {
   "cell_type": "markdown",
   "metadata": {},
   "source": [
    "## .聚合聚类/层次聚类\n",
    "\n",
    "聚合聚类涉及合并示例，直到达到所需的群集数量为止。它是层次聚类方法的更广泛类的一部分，通过 AgglomerationClustering 类实现的，主要配置是“ n _ clusters ”集，这是对数据中的群集数量的估计，例如2。下面列出了完整的示例。\n",
    "\n",
    "#### 参数设置说明\n",
    "```python\n",
    "class sklearn.cluster.AgglomerativeClustering(n_clusters=2, affinity='euclidean',\n",
    "memory=Memory(cachedir=None), connectivity=None, n_components=None,\n",
    "compute_full_tree='auto', linkage='ward', pooling_func=<function mean>)\n",
    "```\n",
    "1. * `n_clusters`：一个整数，指定簇的数量。\n",
    "   * `connectivity`：一个数组或者可调用对象或者为 `None`，用于指定连接矩阵。它给出了每个样本的可连接样本。\n",
    "   * `affinity`：一个字符串或者可调用对象，用于计算距离。可以为：`'euclidean', 'l1', 'l2', 'manhattan', 'cosine', 'precomputed''minkowski', 'manhattan', 'euclidean', 'rogerstanimoto', 'canberra', 'l2', 'dice', 'wminkowski', 'l1', 'cosine', 'sqeuclidean', 'jaccard', 'nan_euclidean', 'cityblock', 'russellrao', 'sokalmichener', 'chebyshev', 'seuclidean', 'kulsinski', 'yule', 'haversine', 'precomputed', 'hamming', 'mahalanobis', 'braycurtis', 'matching', 'sokalsneath', 'correlation'`\n",
    "     如果 `linkage='ward'`，则** **`'affinity`必须是** **`'euclidean'`\n",
    "   * `memory`：用于缓存输出的结果，默认为不缓存。如果给定一个字符串，则表示缓存目录的路径。\n",
    "   * `n_components`：将在 `scikit-learn v 0.18`中移除\n",
    "   * `compute_full_tree`：通常当已经训练了 `n_clusters`之后，训练过程就停止。\n",
    "     但是如果 `compute_full_tree=True`，则会继续训练从而生成一颗完整的树。\n",
    "   * `linkage`：一个字符串，用于指定链接算法。\n",
    "     * `'ward'`：采用方差恶化距离 `variance incress distance` 。\n",
    "     * `'complete'`：全链接 `complete-linkage`算法，采用** **![四、AgglomerativeClustering - 图1](http://cdn.mianshigee.com/upload/tutorial/huaxiaozhuan-ai/1dab025c565b8b0e6519f6cf4ba15537.svg) 。\n",
    "     * `'average'`：均链接 `average-linkage`算法,采用** **![四、AgglomerativeClustering - 图2](http://cdn.mianshigee.com/upload/tutorial/huaxiaozhuan-ai/ca1d9cf1a98ee2e0757ae4303a32b525.svg) 。\n",
    "     * `'single'`：单链接 `single-linkage`算法，采用** **![四、AgglomerativeClustering - 图3](http://cdn.mianshigee.com/upload/tutorial/huaxiaozhuan-ai/1234942c0baa9dad942537b752a539a1.svg) 。\n",
    "   * `pooling_func`：即将被废弃的接口。\n",
    "2. 属性：\n",
    "   * `labels_`：一个形状为 `[n_samples,]` 的数组，给出了每个样本的簇标记。\n",
    "   * `n_leaves_`：一个整数，给出了分层树的叶结点数量。\n",
    "   * `n_components_`：一个整数，给除了连接图中的连通分量的估计值。\n",
    "   * `children_`：一个形状为 `[n_samples-1,2]`数组，给出了每个非叶结点中的子节点数量。\n",
    "3. 方法：\n",
    "   * `fit(X[, y])`：训练模型。\n",
    "   * `fit_predict(X[, y])`：训练模型并执行聚类，返回每个样本所属的簇标记。"
   ]
  },
  {
   "cell_type": "code",
   "execution_count": 1,
   "metadata": {},
   "outputs": [
    {
     "name": "stderr",
     "output_type": "stream",
     "text": [
      "/Users/magu/anaconda3/envs/TS_ENV_38_add_AKshare/lib/python3.8/site-packages/sklearn/cluster/_agglomerative.py:1005: FutureWarning: Attribute `affinity` was deprecated in version 1.2 and will be removed in 1.4. Use `metric` instead\n",
      "  warnings.warn(\n"
     ]
    },
    {
     "data": {
      "image/png": "[encoded data removed]",
      "text/plain": [
       "<Figure size 432x288 with 1 Axes>"
      ]
     },
     "metadata": {
      "needs_background": "light"
     },
     "output_type": "display_data"
    }
   ],
   "source": [
    "# 亲和力传播聚类\n",
    "from numpy import where\n",
    "from sklearn.datasets import make_classification\n",
    "from matplotlib import pyplot\n",
    "import seaborn as sns\n",
    "sns.set()\n",
    "\n",
    "\n",
    "# 聚合聚类\n",
    "from numpy import unique\n",
    "from numpy import where\n",
    "from sklearn.datasets import make_classification\n",
    "from sklearn.cluster import AgglomerativeClustering\n",
    "\n",
    "\n",
    "# 定义数据集\n",
    "X, _ = make_classification(n_samples=1000, n_features=2, n_informative=2, n_redundant=0, n_clusters_per_class=1, random_state=4)\n",
    "# 定义模型\n",
    "model = AgglomerativeClustering(n_clusters=2,affinity='cosine',linkage='single')\n",
    "# 模型拟合与聚类预测\n",
    "yhat = model.fit_predict(X)\n",
    "# 检索唯一群集\n",
    "clusters = unique(yhat)\n",
    "# 为每个群集的样本创建散点图\n",
    "for cluster in clusters:\n",
    "# 获取此群集的示例的行索引\n",
    "    row_ix = where(yhat == cluster)\n",
    "# 创建这些样本的散布\n",
    "    pyplot.scatter(X[row_ix, 0], X[row_ix, 1])\n",
    "# 绘制散点图\n",
    "pyplot.show()"
   ]
  }
 ],
 "metadata": {
  "kernelspec": {
   "display_name": "TS_ENV_38_add_AKshare",
   "language": "python",
   "name": "python3"
  },
  "language_info": {
   "codemirror_mode": {
    "name": "ipython",
    "version": 3
   },
   "file_extension": ".py",
   "mimetype": "text/x-python",
   "name": "python",
   "nbconvert_exporter": "python",
   "pygments_lexer": "ipython3",
   "version": "3.8.18"
  },
  "orig_nbformat": 4
 },
 "nbformat": 4,
 "nbformat_minor": 2
}
