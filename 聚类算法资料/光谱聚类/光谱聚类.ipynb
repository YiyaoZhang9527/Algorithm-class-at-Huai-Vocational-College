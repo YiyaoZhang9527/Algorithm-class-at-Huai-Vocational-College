{
 "cells": [
  {
   "cell_type": "markdown",
   "metadata": {},
   "source": [
    "## 光谱聚类\n",
    "\n",
    "光谱聚类是一类通用的聚类方法，取自线性线性代数。\n",
    "\n",
    "最近在许多领域出现的一个有希望的替代方案是使用聚类的光谱方法。这里，使用从点之间的距离导出的矩阵的顶部特征向量。\n",
    "—源自：《关于光谱聚类：分析和算法》，2002年\n",
    "\n",
    "它是通过 Spectral 聚类类实现的，而主要的 Spectral 聚类是一个由聚类方法组成的通用类，取自线性线性代数。要优化的是“ n _ clusters ”超参数，用于指定数据中的估计群集数量。下面列出了完整的示例。"
   ]
  },
  {
   "cell_type": "code",
   "execution_count": null,
   "metadata": {},
   "outputs": [],
   "source": [
    "from numpy import where\n",
    "from sklearn.datasets import make_classification\n",
    "from matplotlib import pyplot\n",
    "import seaborn as sns\n",
    "sns.set()\n",
    "# spectral clustering\n",
    "from numpy import unique\n",
    "from numpy import where\n",
    "from sklearn.datasets import make_classification\n",
    "from sklearn.cluster import SpectralClustering\n",
    "\n",
    "# 定义数据集\n",
    "X, _ = make_classification(n_samples=1000, n_features=2, n_informative=2, n_redundant=0, n_clusters_per_class=1, random_state=4)\n",
    "# 定义模型\n",
    "model = SpectralClustering(n_clusters=2)\n",
    "# 模型拟合与聚类预测\n",
    "yhat = model.fit_predict(X)\n",
    "# 检索唯一群集\n",
    "clusters = unique(yhat)\n",
    "# 为每个群集的样本创建散点图\n",
    "for cluster in clusters:\n",
    "# 获取此群集的示例的行索引\n",
    "    row_ix = where(yhat == cluster)\n",
    "# 创建这些样本的散布\n",
    "    pyplot.scatter(X[row_ix, 0], X[row_ix, 1])\n",
    "# 绘制散点图\n",
    "pyplot.show()"
   ]
  },
  {
   "cell_type": "markdown",
   "metadata": {},
   "source": [
    "运行该示例符合训练数据集上的模型，并预测数据集中每个示例的群集。然后创建一个散点图，并由其指定的群集着色。\n",
    "\n",
    "在这种情况下，找到了合理的集群。"
   ]
  },
  {
   "cell_type": "code",
   "execution_count": null,
   "metadata": {},
   "outputs": [],
   "source": []
  }
 ],
 "metadata": {
  "kernelspec": {
   "display_name": "TS_ENV_38_add_AKshare",
   "language": "python",
   "name": "python3"
  },
  "language_info": {
   "name": "python",
   "version": "3.8.18"
  },
  "orig_nbformat": 4
 },
 "nbformat": 4,
 "nbformat_minor": 2
}
