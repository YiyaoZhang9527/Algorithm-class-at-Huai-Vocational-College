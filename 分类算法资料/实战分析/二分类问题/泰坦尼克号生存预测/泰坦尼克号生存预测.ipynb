{
 "cells": [
  {
   "cell_type": "code",
   "execution_count": 1,
   "id": "517c418e",
   "metadata": {},
   "outputs": [],
   "source": [
    "import numpy as np\n",
    "import pandas as pd\n",
    "import matplotlib.pyplot as plt\n",
    "import seaborn as sns\n",
    "sns.set_style(\"darkgrid\")"
   ]
  },
  {
   "cell_type": "markdown",
   "id": "b664f656",
   "metadata": {},
   "source": [
    "### 1读取并合并数据\n",
    "#### 1.1 读取生存结果数据"
   ]
  },
  {
   "cell_type": "code",
   "execution_count": 2,
   "id": "c32286dd",
   "metadata": {},
   "outputs": [
    {
     "data": {
      "text/html": [
       "<div>\n",
       "<style scoped>\n",
       "    .dataframe tbody tr th:only-of-type {\n",
       "        vertical-align: middle;\n",
       "    }\n",
       "\n",
       "    .dataframe tbody tr th {\n",
       "        vertical-align: top;\n",
       "    }\n",
       "\n",
       "    .dataframe thead th {\n",
       "        text-align: right;\n",
       "    }\n",
       "</style>\n",
       "<table border=\"1\" class=\"dataframe\">\n",
       "  <thead>\n",
       "    <tr style=\"text-align: right;\">\n",
       "      <th></th>\n",
       "      <th>PassengerId</th>\n",
       "      <th>Survived</th>\n",
       "    </tr>\n",
       "  </thead>\n",
       "  <tbody>\n",
       "    <tr>\n",
       "      <th>0</th>\n",
       "      <td>892</td>\n",
       "      <td>0</td>\n",
       "    </tr>\n",
       "    <tr>\n",
       "      <th>1</th>\n",
       "      <td>893</td>\n",
       "      <td>1</td>\n",
       "    </tr>\n",
       "    <tr>\n",
       "      <th>2</th>\n",
       "      <td>894</td>\n",
       "      <td>0</td>\n",
       "    </tr>\n",
       "    <tr>\n",
       "      <th>3</th>\n",
       "      <td>895</td>\n",
       "      <td>0</td>\n",
       "    </tr>\n",
       "    <tr>\n",
       "      <th>4</th>\n",
       "      <td>896</td>\n",
       "      <td>1</td>\n",
       "    </tr>\n",
       "  </tbody>\n",
       "</table>\n",
       "</div>"
      ],
      "text/plain": [
       "   PassengerId  Survived\n",
       "0          892         0\n",
       "1          893         1\n",
       "2          894         0\n",
       "3          895         0\n",
       "4          896         1"
      ]
     },
     "execution_count": 2,
     "metadata": {},
     "output_type": "execute_result"
    }
   ],
   "source": [
    "gender_submission_data = pd.read_csv(\"gender_submission.csv\")\n",
    "gender_submission_data.head()"
   ]
  },
  {
   "cell_type": "markdown",
   "id": "6add7410",
   "metadata": {},
   "source": [
    "#### 1.2 读取测试数据"
   ]
  },
  {
   "cell_type": "code",
   "execution_count": 3,
   "id": "c1e6aba0",
   "metadata": {},
   "outputs": [
    {
     "data": {
      "text/html": [
       "<div>\n",
       "<style scoped>\n",
       "    .dataframe tbody tr th:only-of-type {\n",
       "        vertical-align: middle;\n",
       "    }\n",
       "\n",
       "    .dataframe tbody tr th {\n",
       "        vertical-align: top;\n",
       "    }\n",
       "\n",
       "    .dataframe thead th {\n",
       "        text-align: right;\n",
       "    }\n",
       "</style>\n",
       "<table border=\"1\" class=\"dataframe\">\n",
       "  <thead>\n",
       "    <tr style=\"text-align: right;\">\n",
       "      <th></th>\n",
       "      <th>PassengerId</th>\n",
       "      <th>Pclass</th>\n",
       "      <th>Name</th>\n",
       "      <th>Sex</th>\n",
       "      <th>Age</th>\n",
       "      <th>SibSp</th>\n",
       "      <th>Parch</th>\n",
       "      <th>Ticket</th>\n",
       "      <th>Fare</th>\n",
       "      <th>Cabin</th>\n",
       "      <th>Embarked</th>\n",
       "    </tr>\n",
       "  </thead>\n",
       "  <tbody>\n",
       "    <tr>\n",
       "      <th>0</th>\n",
       "      <td>892</td>\n",
       "      <td>3</td>\n",
       "      <td>Kelly, Mr. James</td>\n",
       "      <td>male</td>\n",
       "      <td>34.5</td>\n",
       "      <td>0</td>\n",
       "      <td>0</td>\n",
       "      <td>330911</td>\n",
       "      <td>7.8292</td>\n",
       "      <td>NaN</td>\n",
       "      <td>Q</td>\n",
       "    </tr>\n",
       "    <tr>\n",
       "      <th>1</th>\n",
       "      <td>893</td>\n",
       "      <td>3</td>\n",
       "      <td>Wilkes, Mrs. James (Ellen Needs)</td>\n",
       "      <td>female</td>\n",
       "      <td>47.0</td>\n",
       "      <td>1</td>\n",
       "      <td>0</td>\n",
       "      <td>363272</td>\n",
       "      <td>7.0000</td>\n",
       "      <td>NaN</td>\n",
       "      <td>S</td>\n",
       "    </tr>\n",
       "    <tr>\n",
       "      <th>2</th>\n",
       "      <td>894</td>\n",
       "      <td>2</td>\n",
       "      <td>Myles, Mr. Thomas Francis</td>\n",
       "      <td>male</td>\n",
       "      <td>62.0</td>\n",
       "      <td>0</td>\n",
       "      <td>0</td>\n",
       "      <td>240276</td>\n",
       "      <td>9.6875</td>\n",
       "      <td>NaN</td>\n",
       "      <td>Q</td>\n",
       "    </tr>\n",
       "    <tr>\n",
       "      <th>3</th>\n",
       "      <td>895</td>\n",
       "      <td>3</td>\n",
       "      <td>Wirz, Mr. Albert</td>\n",
       "      <td>male</td>\n",
       "      <td>27.0</td>\n",
       "      <td>0</td>\n",
       "      <td>0</td>\n",
       "      <td>315154</td>\n",
       "      <td>8.6625</td>\n",
       "      <td>NaN</td>\n",
       "      <td>S</td>\n",
       "    </tr>\n",
       "    <tr>\n",
       "      <th>4</th>\n",
       "      <td>896</td>\n",
       "      <td>3</td>\n",
       "      <td>Hirvonen, Mrs. Alexander (Helga E Lindqvist)</td>\n",
       "      <td>female</td>\n",
       "      <td>22.0</td>\n",
       "      <td>1</td>\n",
       "      <td>1</td>\n",
       "      <td>3101298</td>\n",
       "      <td>12.2875</td>\n",
       "      <td>NaN</td>\n",
       "      <td>S</td>\n",
       "    </tr>\n",
       "  </tbody>\n",
       "</table>\n",
       "</div>"
      ],
      "text/plain": [
       "   PassengerId  Pclass                                          Name     Sex  \\\n",
       "0          892       3                              Kelly, Mr. James    male   \n",
       "1          893       3              Wilkes, Mrs. James (Ellen Needs)  female   \n",
       "2          894       2                     Myles, Mr. Thomas Francis    male   \n",
       "3          895       3                              Wirz, Mr. Albert    male   \n",
       "4          896       3  Hirvonen, Mrs. Alexander (Helga E Lindqvist)  female   \n",
       "\n",
       "    Age  SibSp  Parch   Ticket     Fare Cabin Embarked  \n",
       "0  34.5      0      0   330911   7.8292   NaN        Q  \n",
       "1  47.0      1      0   363272   7.0000   NaN        S  \n",
       "2  62.0      0      0   240276   9.6875   NaN        Q  \n",
       "3  27.0      0      0   315154   8.6625   NaN        S  \n",
       "4  22.0      1      1  3101298  12.2875   NaN        S  "
      ]
     },
     "execution_count": 3,
     "metadata": {},
     "output_type": "execute_result"
    }
   ],
   "source": [
    "test_data = pd.read_csv(\"test.csv\")\n",
    "test_data.head()"
   ]
  },
  {
   "cell_type": "markdown",
   "id": "2dcdad98",
   "metadata": {},
   "source": [
    "#### 1.3 读取训练数据"
   ]
  },
  {
   "cell_type": "code",
   "execution_count": 4,
   "id": "a79b30f6",
   "metadata": {},
   "outputs": [
    {
     "data": {
      "text/html": [
       "<div>\n",
       "<style scoped>\n",
       "    .dataframe tbody tr th:only-of-type {\n",
       "        vertical-align: middle;\n",
       "    }\n",
       "\n",
       "    .dataframe tbody tr th {\n",
       "        vertical-align: top;\n",
       "    }\n",
       "\n",
       "    .dataframe thead th {\n",
       "        text-align: right;\n",
       "    }\n",
       "</style>\n",
       "<table border=\"1\" class=\"dataframe\">\n",
       "  <thead>\n",
       "    <tr style=\"text-align: right;\">\n",
       "      <th></th>\n",
       "      <th>PassengerId</th>\n",
       "      <th>Survived</th>\n",
       "      <th>Pclass</th>\n",
       "      <th>Name</th>\n",
       "      <th>Sex</th>\n",
       "      <th>Age</th>\n",
       "      <th>SibSp</th>\n",
       "      <th>Parch</th>\n",
       "      <th>Ticket</th>\n",
       "      <th>Fare</th>\n",
       "      <th>Cabin</th>\n",
       "      <th>Embarked</th>\n",
       "    </tr>\n",
       "  </thead>\n",
       "  <tbody>\n",
       "    <tr>\n",
       "      <th>0</th>\n",
       "      <td>1</td>\n",
       "      <td>0</td>\n",
       "      <td>3</td>\n",
       "      <td>Braund, Mr. Owen Harris</td>\n",
       "      <td>male</td>\n",
       "      <td>22.0</td>\n",
       "      <td>1</td>\n",
       "      <td>0</td>\n",
       "      <td>A/5 21171</td>\n",
       "      <td>7.2500</td>\n",
       "      <td>NaN</td>\n",
       "      <td>S</td>\n",
       "    </tr>\n",
       "    <tr>\n",
       "      <th>1</th>\n",
       "      <td>2</td>\n",
       "      <td>1</td>\n",
       "      <td>1</td>\n",
       "      <td>Cumings, Mrs. John Bradley (Florence Briggs Th...</td>\n",
       "      <td>female</td>\n",
       "      <td>38.0</td>\n",
       "      <td>1</td>\n",
       "      <td>0</td>\n",
       "      <td>PC 17599</td>\n",
       "      <td>71.2833</td>\n",
       "      <td>C85</td>\n",
       "      <td>C</td>\n",
       "    </tr>\n",
       "    <tr>\n",
       "      <th>2</th>\n",
       "      <td>3</td>\n",
       "      <td>1</td>\n",
       "      <td>3</td>\n",
       "      <td>Heikkinen, Miss. Laina</td>\n",
       "      <td>female</td>\n",
       "      <td>26.0</td>\n",
       "      <td>0</td>\n",
       "      <td>0</td>\n",
       "      <td>STON/O2. 3101282</td>\n",
       "      <td>7.9250</td>\n",
       "      <td>NaN</td>\n",
       "      <td>S</td>\n",
       "    </tr>\n",
       "    <tr>\n",
       "      <th>3</th>\n",
       "      <td>4</td>\n",
       "      <td>1</td>\n",
       "      <td>1</td>\n",
       "      <td>Futrelle, Mrs. Jacques Heath (Lily May Peel)</td>\n",
       "      <td>female</td>\n",
       "      <td>35.0</td>\n",
       "      <td>1</td>\n",
       "      <td>0</td>\n",
       "      <td>113803</td>\n",
       "      <td>53.1000</td>\n",
       "      <td>C123</td>\n",
       "      <td>S</td>\n",
       "    </tr>\n",
       "    <tr>\n",
       "      <th>4</th>\n",
       "      <td>5</td>\n",
       "      <td>0</td>\n",
       "      <td>3</td>\n",
       "      <td>Allen, Mr. William Henry</td>\n",
       "      <td>male</td>\n",
       "      <td>35.0</td>\n",
       "      <td>0</td>\n",
       "      <td>0</td>\n",
       "      <td>373450</td>\n",
       "      <td>8.0500</td>\n",
       "      <td>NaN</td>\n",
       "      <td>S</td>\n",
       "    </tr>\n",
       "  </tbody>\n",
       "</table>\n",
       "</div>"
      ],
      "text/plain": [
       "   PassengerId  Survived  Pclass  \\\n",
       "0            1         0       3   \n",
       "1            2         1       1   \n",
       "2            3         1       3   \n",
       "3            4         1       1   \n",
       "4            5         0       3   \n",
       "\n",
       "                                                Name     Sex   Age  SibSp  \\\n",
       "0                            Braund, Mr. Owen Harris    male  22.0      1   \n",
       "1  Cumings, Mrs. John Bradley (Florence Briggs Th...  female  38.0      1   \n",
       "2                             Heikkinen, Miss. Laina  female  26.0      0   \n",
       "3       Futrelle, Mrs. Jacques Heath (Lily May Peel)  female  35.0      1   \n",
       "4                           Allen, Mr. William Henry    male  35.0      0   \n",
       "\n",
       "   Parch            Ticket     Fare Cabin Embarked  \n",
       "0      0         A/5 21171   7.2500   NaN        S  \n",
       "1      0          PC 17599  71.2833   C85        C  \n",
       "2      0  STON/O2. 3101282   7.9250   NaN        S  \n",
       "3      0            113803  53.1000  C123        S  \n",
       "4      0            373450   8.0500   NaN        S  "
      ]
     },
     "execution_count": 4,
     "metadata": {},
     "output_type": "execute_result"
    }
   ],
   "source": [
    "train_data = pd.read_csv(\"train.csv\")\n",
    "train_data.head()"
   ]
  },
  {
   "cell_type": "markdown",
   "id": "ba58b3ab",
   "metadata": {},
   "source": [
    "#### 1.4 合并数据并用来做基础分析\n",
    "##### 1.41 合并测试数据及结果"
   ]
  },
  {
   "cell_type": "code",
   "execution_count": 5,
   "id": "cb0aa426",
   "metadata": {},
   "outputs": [
    {
     "data": {
      "text/html": [
       "<div>\n",
       "<style scoped>\n",
       "    .dataframe tbody tr th:only-of-type {\n",
       "        vertical-align: middle;\n",
       "    }\n",
       "\n",
       "    .dataframe tbody tr th {\n",
       "        vertical-align: top;\n",
       "    }\n",
       "\n",
       "    .dataframe thead th {\n",
       "        text-align: right;\n",
       "    }\n",
       "</style>\n",
       "<table border=\"1\" class=\"dataframe\">\n",
       "  <thead>\n",
       "    <tr style=\"text-align: right;\">\n",
       "      <th></th>\n",
       "      <th>PassengerId</th>\n",
       "      <th>Survived</th>\n",
       "      <th>Pclass</th>\n",
       "      <th>Name</th>\n",
       "      <th>Sex</th>\n",
       "      <th>Age</th>\n",
       "      <th>SibSp</th>\n",
       "      <th>Parch</th>\n",
       "      <th>Ticket</th>\n",
       "      <th>Fare</th>\n",
       "      <th>Cabin</th>\n",
       "      <th>Embarked</th>\n",
       "    </tr>\n",
       "  </thead>\n",
       "  <tbody>\n",
       "    <tr>\n",
       "      <th>0</th>\n",
       "      <td>892</td>\n",
       "      <td>0</td>\n",
       "      <td>3</td>\n",
       "      <td>Kelly, Mr. James</td>\n",
       "      <td>male</td>\n",
       "      <td>34.5</td>\n",
       "      <td>0</td>\n",
       "      <td>0</td>\n",
       "      <td>330911</td>\n",
       "      <td>7.8292</td>\n",
       "      <td>NaN</td>\n",
       "      <td>Q</td>\n",
       "    </tr>\n",
       "    <tr>\n",
       "      <th>1</th>\n",
       "      <td>893</td>\n",
       "      <td>1</td>\n",
       "      <td>3</td>\n",
       "      <td>Wilkes, Mrs. James (Ellen Needs)</td>\n",
       "      <td>female</td>\n",
       "      <td>47.0</td>\n",
       "      <td>1</td>\n",
       "      <td>0</td>\n",
       "      <td>363272</td>\n",
       "      <td>7.0000</td>\n",
       "      <td>NaN</td>\n",
       "      <td>S</td>\n",
       "    </tr>\n",
       "    <tr>\n",
       "      <th>2</th>\n",
       "      <td>894</td>\n",
       "      <td>0</td>\n",
       "      <td>2</td>\n",
       "      <td>Myles, Mr. Thomas Francis</td>\n",
       "      <td>male</td>\n",
       "      <td>62.0</td>\n",
       "      <td>0</td>\n",
       "      <td>0</td>\n",
       "      <td>240276</td>\n",
       "      <td>9.6875</td>\n",
       "      <td>NaN</td>\n",
       "      <td>Q</td>\n",
       "    </tr>\n",
       "    <tr>\n",
       "      <th>3</th>\n",
       "      <td>895</td>\n",
       "      <td>0</td>\n",
       "      <td>3</td>\n",
       "      <td>Wirz, Mr. Albert</td>\n",
       "      <td>male</td>\n",
       "      <td>27.0</td>\n",
       "      <td>0</td>\n",
       "      <td>0</td>\n",
       "      <td>315154</td>\n",
       "      <td>8.6625</td>\n",
       "      <td>NaN</td>\n",
       "      <td>S</td>\n",
       "    </tr>\n",
       "    <tr>\n",
       "      <th>4</th>\n",
       "      <td>896</td>\n",
       "      <td>1</td>\n",
       "      <td>3</td>\n",
       "      <td>Hirvonen, Mrs. Alexander (Helga E Lindqvist)</td>\n",
       "      <td>female</td>\n",
       "      <td>22.0</td>\n",
       "      <td>1</td>\n",
       "      <td>1</td>\n",
       "      <td>3101298</td>\n",
       "      <td>12.2875</td>\n",
       "      <td>NaN</td>\n",
       "      <td>S</td>\n",
       "    </tr>\n",
       "  </tbody>\n",
       "</table>\n",
       "</div>"
      ],
      "text/plain": [
       "   PassengerId  Survived  Pclass  \\\n",
       "0          892         0       3   \n",
       "1          893         1       3   \n",
       "2          894         0       2   \n",
       "3          895         0       3   \n",
       "4          896         1       3   \n",
       "\n",
       "                                           Name     Sex   Age  SibSp  Parch  \\\n",
       "0                              Kelly, Mr. James    male  34.5      0      0   \n",
       "1              Wilkes, Mrs. James (Ellen Needs)  female  47.0      1      0   \n",
       "2                     Myles, Mr. Thomas Francis    male  62.0      0      0   \n",
       "3                              Wirz, Mr. Albert    male  27.0      0      0   \n",
       "4  Hirvonen, Mrs. Alexander (Helga E Lindqvist)  female  22.0      1      1   \n",
       "\n",
       "    Ticket     Fare Cabin Embarked  \n",
       "0   330911   7.8292   NaN        Q  \n",
       "1   363272   7.0000   NaN        S  \n",
       "2   240276   9.6875   NaN        Q  \n",
       "3   315154   8.6625   NaN        S  \n",
       "4  3101298  12.2875   NaN        S  "
      ]
     },
     "execution_count": 5,
     "metadata": {},
     "output_type": "execute_result"
    }
   ],
   "source": [
    "test_data.insert(loc=1,column=\"Survived\",value=gender_submission_data.Survived)\n",
    "test_data.head()"
   ]
  },
  {
   "cell_type": "markdown",
   "id": "fd839752",
   "metadata": {},
   "source": [
    "##### 1.42替换列名为中文方便观察与合并"
   ]
  },
  {
   "cell_type": "code",
   "execution_count": 6,
   "id": "d97c59ed",
   "metadata": {},
   "outputs": [
    {
     "data": {
      "text/html": [
       "<div>\n",
       "<style scoped>\n",
       "    .dataframe tbody tr th:only-of-type {\n",
       "        vertical-align: middle;\n",
       "    }\n",
       "\n",
       "    .dataframe tbody tr th {\n",
       "        vertical-align: top;\n",
       "    }\n",
       "\n",
       "    .dataframe thead th {\n",
       "        text-align: right;\n",
       "    }\n",
       "</style>\n",
       "<table border=\"1\" class=\"dataframe\">\n",
       "  <thead>\n",
       "    <tr style=\"text-align: right;\">\n",
       "      <th></th>\n",
       "      <th>乘客ID</th>\n",
       "      <th>是否生还</th>\n",
       "      <th>舱位</th>\n",
       "      <th>姓名</th>\n",
       "      <th>性别</th>\n",
       "      <th>年龄</th>\n",
       "      <th>兄弟姐妹/配偶的个数</th>\n",
       "      <th>父母/小孩个数</th>\n",
       "      <th>船票信息</th>\n",
       "      <th>票价</th>\n",
       "      <th>客舱号</th>\n",
       "      <th>登船港口</th>\n",
       "    </tr>\n",
       "  </thead>\n",
       "  <tbody>\n",
       "    <tr>\n",
       "      <th>0</th>\n",
       "      <td>1</td>\n",
       "      <td>0</td>\n",
       "      <td>3</td>\n",
       "      <td>Braund, Mr. Owen Harris</td>\n",
       "      <td>male</td>\n",
       "      <td>22.0</td>\n",
       "      <td>1</td>\n",
       "      <td>0</td>\n",
       "      <td>A/5 21171</td>\n",
       "      <td>7.2500</td>\n",
       "      <td>NaN</td>\n",
       "      <td>S</td>\n",
       "    </tr>\n",
       "    <tr>\n",
       "      <th>1</th>\n",
       "      <td>2</td>\n",
       "      <td>1</td>\n",
       "      <td>1</td>\n",
       "      <td>Cumings, Mrs. John Bradley (Florence Briggs Th...</td>\n",
       "      <td>female</td>\n",
       "      <td>38.0</td>\n",
       "      <td>1</td>\n",
       "      <td>0</td>\n",
       "      <td>PC 17599</td>\n",
       "      <td>71.2833</td>\n",
       "      <td>C85</td>\n",
       "      <td>C</td>\n",
       "    </tr>\n",
       "    <tr>\n",
       "      <th>2</th>\n",
       "      <td>3</td>\n",
       "      <td>1</td>\n",
       "      <td>3</td>\n",
       "      <td>Heikkinen, Miss. Laina</td>\n",
       "      <td>female</td>\n",
       "      <td>26.0</td>\n",
       "      <td>0</td>\n",
       "      <td>0</td>\n",
       "      <td>STON/O2. 3101282</td>\n",
       "      <td>7.9250</td>\n",
       "      <td>NaN</td>\n",
       "      <td>S</td>\n",
       "    </tr>\n",
       "    <tr>\n",
       "      <th>3</th>\n",
       "      <td>4</td>\n",
       "      <td>1</td>\n",
       "      <td>1</td>\n",
       "      <td>Futrelle, Mrs. Jacques Heath (Lily May Peel)</td>\n",
       "      <td>female</td>\n",
       "      <td>35.0</td>\n",
       "      <td>1</td>\n",
       "      <td>0</td>\n",
       "      <td>113803</td>\n",
       "      <td>53.1000</td>\n",
       "      <td>C123</td>\n",
       "      <td>S</td>\n",
       "    </tr>\n",
       "    <tr>\n",
       "      <th>4</th>\n",
       "      <td>5</td>\n",
       "      <td>0</td>\n",
       "      <td>3</td>\n",
       "      <td>Allen, Mr. William Henry</td>\n",
       "      <td>male</td>\n",
       "      <td>35.0</td>\n",
       "      <td>0</td>\n",
       "      <td>0</td>\n",
       "      <td>373450</td>\n",
       "      <td>8.0500</td>\n",
       "      <td>NaN</td>\n",
       "      <td>S</td>\n",
       "    </tr>\n",
       "  </tbody>\n",
       "</table>\n",
       "</div>"
      ],
      "text/plain": [
       "   乘客ID  是否生还  舱位                                                 姓名      性别  \\\n",
       "0     1     0   3                            Braund, Mr. Owen Harris    male   \n",
       "1     2     1   1  Cumings, Mrs. John Bradley (Florence Briggs Th...  female   \n",
       "2     3     1   3                             Heikkinen, Miss. Laina  female   \n",
       "3     4     1   1       Futrelle, Mrs. Jacques Heath (Lily May Peel)  female   \n",
       "4     5     0   3                           Allen, Mr. William Henry    male   \n",
       "\n",
       "     年龄  兄弟姐妹/配偶的个数  父母/小孩个数              船票信息       票价   客舱号 登船港口  \n",
       "0  22.0           1        0         A/5 21171   7.2500   NaN    S  \n",
       "1  38.0           1        0          PC 17599  71.2833   C85    C  \n",
       "2  26.0           0        0  STON/O2. 3101282   7.9250   NaN    S  \n",
       "3  35.0           1        0            113803  53.1000  C123    S  \n",
       "4  35.0           0        0            373450   8.0500   NaN    S  "
      ]
     },
     "execution_count": 6,
     "metadata": {},
     "output_type": "execute_result"
    }
   ],
   "source": [
    "new_columns = [\"乘客ID\",\"是否生还\",\"舱位\",\"姓名\",\"性别\",\"年龄\",\"兄弟姐妹/配偶的个数\",\"父母/小孩个数\",\"船票信息\",\"票价\",\"客舱号\",\"登船港口\"]\n",
    "test_data.columns = new_columns\n",
    "train_data.columns = new_columns\n",
    "train_data.head()"
   ]
  },
  {
   "cell_type": "markdown",
   "id": "c9544317",
   "metadata": {},
   "source": [
    "##### 1.42 合并所有数据为一张表"
   ]
  },
  {
   "cell_type": "code",
   "execution_count": 7,
   "id": "77be2412",
   "metadata": {},
   "outputs": [
    {
     "data": {
      "text/plain": [
       "乘客ID            int64\n",
       "是否生还            int64\n",
       "舱位              int64\n",
       "姓名             object\n",
       "性别             object\n",
       "年龄            float64\n",
       "兄弟姐妹/配偶的个数      int64\n",
       "父母/小孩个数         int64\n",
       "船票信息           object\n",
       "票价            float64\n",
       "客舱号            object\n",
       "登船港口           object\n",
       "dtype: object"
      ]
     },
     "execution_count": 7,
     "metadata": {},
     "output_type": "execute_result"
    }
   ],
   "source": [
    "test_data.dtypes"
   ]
  },
  {
   "cell_type": "code",
   "execution_count": 8,
   "id": "68d963d7",
   "metadata": {},
   "outputs": [
    {
     "data": {
      "text/plain": [
       "乘客ID            int64\n",
       "是否生还            int64\n",
       "舱位              int64\n",
       "姓名             object\n",
       "性别             object\n",
       "年龄            float64\n",
       "兄弟姐妹/配偶的个数      int64\n",
       "父母/小孩个数         int64\n",
       "船票信息           object\n",
       "票价            float64\n",
       "客舱号            object\n",
       "登船港口           object\n",
       "dtype: object"
      ]
     },
     "execution_count": 8,
     "metadata": {},
     "output_type": "execute_result"
    }
   ],
   "source": [
    "train_data.dtypes"
   ]
  },
  {
   "cell_type": "code",
   "execution_count": 9,
   "id": "b7652759",
   "metadata": {},
   "outputs": [],
   "source": [
    "# titanic_data = pd.merge(test_data,train_data,left_index=True,right_index=True,how='left')\n",
    "# titanic_data"
   ]
  },
  {
   "cell_type": "code",
   "execution_count": 10,
   "id": "c8f51b0c",
   "metadata": {},
   "outputs": [
    {
     "data": {
      "text/html": [
       "<div>\n",
       "<style scoped>\n",
       "    .dataframe tbody tr th:only-of-type {\n",
       "        vertical-align: middle;\n",
       "    }\n",
       "\n",
       "    .dataframe tbody tr th {\n",
       "        vertical-align: top;\n",
       "    }\n",
       "\n",
       "    .dataframe thead th {\n",
       "        text-align: right;\n",
       "    }\n",
       "</style>\n",
       "<table border=\"1\" class=\"dataframe\">\n",
       "  <thead>\n",
       "    <tr style=\"text-align: right;\">\n",
       "      <th></th>\n",
       "      <th>乘客ID</th>\n",
       "      <th>是否生还</th>\n",
       "      <th>舱位</th>\n",
       "      <th>姓名</th>\n",
       "      <th>性别</th>\n",
       "      <th>年龄</th>\n",
       "      <th>兄弟姐妹/配偶的个数</th>\n",
       "      <th>父母/小孩个数</th>\n",
       "      <th>船票信息</th>\n",
       "      <th>票价</th>\n",
       "      <th>客舱号</th>\n",
       "      <th>登船港口</th>\n",
       "    </tr>\n",
       "  </thead>\n",
       "  <tbody>\n",
       "    <tr>\n",
       "      <th>0</th>\n",
       "      <td>1</td>\n",
       "      <td>0</td>\n",
       "      <td>3</td>\n",
       "      <td>Braund, Mr. Owen Harris</td>\n",
       "      <td>male</td>\n",
       "      <td>22.0</td>\n",
       "      <td>1</td>\n",
       "      <td>0</td>\n",
       "      <td>A/5 21171</td>\n",
       "      <td>7.2500</td>\n",
       "      <td>NaN</td>\n",
       "      <td>S</td>\n",
       "    </tr>\n",
       "    <tr>\n",
       "      <th>1</th>\n",
       "      <td>2</td>\n",
       "      <td>1</td>\n",
       "      <td>1</td>\n",
       "      <td>Cumings, Mrs. John Bradley (Florence Briggs Th...</td>\n",
       "      <td>female</td>\n",
       "      <td>38.0</td>\n",
       "      <td>1</td>\n",
       "      <td>0</td>\n",
       "      <td>PC 17599</td>\n",
       "      <td>71.2833</td>\n",
       "      <td>C85</td>\n",
       "      <td>C</td>\n",
       "    </tr>\n",
       "    <tr>\n",
       "      <th>2</th>\n",
       "      <td>3</td>\n",
       "      <td>1</td>\n",
       "      <td>3</td>\n",
       "      <td>Heikkinen, Miss. Laina</td>\n",
       "      <td>female</td>\n",
       "      <td>26.0</td>\n",
       "      <td>0</td>\n",
       "      <td>0</td>\n",
       "      <td>STON/O2. 3101282</td>\n",
       "      <td>7.9250</td>\n",
       "      <td>NaN</td>\n",
       "      <td>S</td>\n",
       "    </tr>\n",
       "    <tr>\n",
       "      <th>3</th>\n",
       "      <td>4</td>\n",
       "      <td>1</td>\n",
       "      <td>1</td>\n",
       "      <td>Futrelle, Mrs. Jacques Heath (Lily May Peel)</td>\n",
       "      <td>female</td>\n",
       "      <td>35.0</td>\n",
       "      <td>1</td>\n",
       "      <td>0</td>\n",
       "      <td>113803</td>\n",
       "      <td>53.1000</td>\n",
       "      <td>C123</td>\n",
       "      <td>S</td>\n",
       "    </tr>\n",
       "    <tr>\n",
       "      <th>4</th>\n",
       "      <td>5</td>\n",
       "      <td>0</td>\n",
       "      <td>3</td>\n",
       "      <td>Allen, Mr. William Henry</td>\n",
       "      <td>male</td>\n",
       "      <td>35.0</td>\n",
       "      <td>0</td>\n",
       "      <td>0</td>\n",
       "      <td>373450</td>\n",
       "      <td>8.0500</td>\n",
       "      <td>NaN</td>\n",
       "      <td>S</td>\n",
       "    </tr>\n",
       "    <tr>\n",
       "      <th>...</th>\n",
       "      <td>...</td>\n",
       "      <td>...</td>\n",
       "      <td>...</td>\n",
       "      <td>...</td>\n",
       "      <td>...</td>\n",
       "      <td>...</td>\n",
       "      <td>...</td>\n",
       "      <td>...</td>\n",
       "      <td>...</td>\n",
       "      <td>...</td>\n",
       "      <td>...</td>\n",
       "      <td>...</td>\n",
       "    </tr>\n",
       "    <tr>\n",
       "      <th>413</th>\n",
       "      <td>1305</td>\n",
       "      <td>0</td>\n",
       "      <td>3</td>\n",
       "      <td>Spector, Mr. Woolf</td>\n",
       "      <td>male</td>\n",
       "      <td>NaN</td>\n",
       "      <td>0</td>\n",
       "      <td>0</td>\n",
       "      <td>A.5. 3236</td>\n",
       "      <td>8.0500</td>\n",
       "      <td>NaN</td>\n",
       "      <td>S</td>\n",
       "    </tr>\n",
       "    <tr>\n",
       "      <th>414</th>\n",
       "      <td>1306</td>\n",
       "      <td>1</td>\n",
       "      <td>1</td>\n",
       "      <td>Oliva y Ocana, Dona. Fermina</td>\n",
       "      <td>female</td>\n",
       "      <td>39.0</td>\n",
       "      <td>0</td>\n",
       "      <td>0</td>\n",
       "      <td>PC 17758</td>\n",
       "      <td>108.9000</td>\n",
       "      <td>C105</td>\n",
       "      <td>C</td>\n",
       "    </tr>\n",
       "    <tr>\n",
       "      <th>415</th>\n",
       "      <td>1307</td>\n",
       "      <td>0</td>\n",
       "      <td>3</td>\n",
       "      <td>Saether, Mr. Simon Sivertsen</td>\n",
       "      <td>male</td>\n",
       "      <td>38.5</td>\n",
       "      <td>0</td>\n",
       "      <td>0</td>\n",
       "      <td>SOTON/O.Q. 3101262</td>\n",
       "      <td>7.2500</td>\n",
       "      <td>NaN</td>\n",
       "      <td>S</td>\n",
       "    </tr>\n",
       "    <tr>\n",
       "      <th>416</th>\n",
       "      <td>1308</td>\n",
       "      <td>0</td>\n",
       "      <td>3</td>\n",
       "      <td>Ware, Mr. Frederick</td>\n",
       "      <td>male</td>\n",
       "      <td>NaN</td>\n",
       "      <td>0</td>\n",
       "      <td>0</td>\n",
       "      <td>359309</td>\n",
       "      <td>8.0500</td>\n",
       "      <td>NaN</td>\n",
       "      <td>S</td>\n",
       "    </tr>\n",
       "    <tr>\n",
       "      <th>417</th>\n",
       "      <td>1309</td>\n",
       "      <td>0</td>\n",
       "      <td>3</td>\n",
       "      <td>Peter, Master. Michael J</td>\n",
       "      <td>male</td>\n",
       "      <td>NaN</td>\n",
       "      <td>1</td>\n",
       "      <td>1</td>\n",
       "      <td>2668</td>\n",
       "      <td>22.3583</td>\n",
       "      <td>NaN</td>\n",
       "      <td>C</td>\n",
       "    </tr>\n",
       "  </tbody>\n",
       "</table>\n",
       "<p>1309 rows × 12 columns</p>\n",
       "</div>"
      ],
      "text/plain": [
       "     乘客ID  是否生还  舱位                                                 姓名  \\\n",
       "0       1     0   3                            Braund, Mr. Owen Harris   \n",
       "1       2     1   1  Cumings, Mrs. John Bradley (Florence Briggs Th...   \n",
       "2       3     1   3                             Heikkinen, Miss. Laina   \n",
       "3       4     1   1       Futrelle, Mrs. Jacques Heath (Lily May Peel)   \n",
       "4       5     0   3                           Allen, Mr. William Henry   \n",
       "..    ...   ...  ..                                                ...   \n",
       "413  1305     0   3                                 Spector, Mr. Woolf   \n",
       "414  1306     1   1                       Oliva y Ocana, Dona. Fermina   \n",
       "415  1307     0   3                       Saether, Mr. Simon Sivertsen   \n",
       "416  1308     0   3                                Ware, Mr. Frederick   \n",
       "417  1309     0   3                           Peter, Master. Michael J   \n",
       "\n",
       "         性别    年龄  兄弟姐妹/配偶的个数  父母/小孩个数                船票信息        票价   客舱号  \\\n",
       "0      male  22.0           1        0           A/5 21171    7.2500   NaN   \n",
       "1    female  38.0           1        0            PC 17599   71.2833   C85   \n",
       "2    female  26.0           0        0    STON/O2. 3101282    7.9250   NaN   \n",
       "3    female  35.0           1        0              113803   53.1000  C123   \n",
       "4      male  35.0           0        0              373450    8.0500   NaN   \n",
       "..      ...   ...         ...      ...                 ...       ...   ...   \n",
       "413    male   NaN           0        0           A.5. 3236    8.0500   NaN   \n",
       "414  female  39.0           0        0            PC 17758  108.9000  C105   \n",
       "415    male  38.5           0        0  SOTON/O.Q. 3101262    7.2500   NaN   \n",
       "416    male   NaN           0        0              359309    8.0500   NaN   \n",
       "417    male   NaN           1        1                2668   22.3583   NaN   \n",
       "\n",
       "    登船港口  \n",
       "0      S  \n",
       "1      C  \n",
       "2      S  \n",
       "3      S  \n",
       "4      S  \n",
       "..   ...  \n",
       "413    S  \n",
       "414    C  \n",
       "415    S  \n",
       "416    S  \n",
       "417    C  \n",
       "\n",
       "[1309 rows x 12 columns]"
      ]
     },
     "execution_count": 10,
     "metadata": {},
     "output_type": "execute_result"
    }
   ],
   "source": [
    "titanic_data = pd.concat([train_data,test_data],axis=0)\n",
    "titanic_data"
   ]
  },
  {
   "cell_type": "code",
   "execution_count": 11,
   "id": "82736fab",
   "metadata": {},
   "outputs": [
    {
     "name": "stdout",
     "output_type": "stream",
     "text": [
      "合并后共有1309行数据 \n",
      " 测试数据共有418行 \n",
      " 训练数据共有891行, \n",
      " 训练集占比0.31932773109243695\n"
     ]
    }
   ],
   "source": [
    "print(f\"合并后共有{titanic_data.shape[0]}行数据 \\n 测试数据共有{test_data.shape[0]}行 \\n 训练数据共有{train_data.shape[0]}行, \\n 训练集占比{test_data.shape[0]/titanic_data.shape[0]}\")"
   ]
  },
  {
   "cell_type": "code",
   "execution_count": null,
   "id": "44e588df",
   "metadata": {},
   "outputs": [],
   "source": []
  },
  {
   "cell_type": "markdown",
   "id": "21f151ee",
   "metadata": {},
   "source": [
    "### 2数据探索\n",
    "#### 2.1 查看空值情况"
   ]
  },
  {
   "cell_type": "code",
   "execution_count": 12,
   "id": "f3fe9b71",
   "metadata": {},
   "outputs": [
    {
     "name": "stdout",
     "output_type": "stream",
     "text": [
      "乘客ID列的空值比例\t:< 0.0% >\t空值个数:< 0 >\n",
      "是否生还列的空值比例\t:< 0.0% >\t空值个数:< 0 >\n",
      "舱位列的空值比例\t:< 0.0% >\t空值个数:< 0 >\n",
      "姓名列的空值比例\t:< 0.0% >\t空值个数:< 0 >\n",
      "性别列的空值比例\t:< 0.0% >\t空值个数:< 0 >\n",
      "年龄列的空值比例\t:< 0.20091673032849502% >\t空值个数:< 263 >\n",
      "兄弟姐妹/配偶的个数列的空值比例\t:< 0.0% >\t空值个数:< 0 >\n",
      "父母/小孩个数列的空值比例\t:< 0.0% >\t空值个数:< 0 >\n",
      "船票信息列的空值比例\t:< 0.0% >\t空值个数:< 0 >\n",
      "票价列的空值比例\t:< 0.0007639419404125286% >\t空值个数:< 1 >\n",
      "客舱号列的空值比例\t:< 0.774637127578304% >\t空值个数:< 1014 >\n",
      "登船港口列的空值比例\t:< 0.0015278838808250573% >\t空值个数:< 2 >\n"
     ]
    }
   ],
   "source": [
    "for column_name in titanic_data.columns:\n",
    "    column_data = titanic_data[column_name]\n",
    "    m = column_data.size\n",
    "    isna = pd.isna(column_data).sum()\n",
    "    print(f\"{column_name}列的空值比例\\t:< {isna/m}% >\\t空值个数:< {isna} >\")\n",
    "    "
   ]
  },
  {
   "cell_type": "markdown",
   "id": "e91b3000",
   "metadata": {},
   "source": [
    "#### 2.2 查看列数据种类数量"
   ]
  },
  {
   "cell_type": "code",
   "execution_count": 13,
   "id": "7e8c5035",
   "metadata": {},
   "outputs": [
    {
     "name": "stdout",
     "output_type": "stream",
     "text": [
      "乘客ID 列中有: < 1309 > 种值\n",
      "是否生还 列中有: < 2 > 种值\n",
      "舱位 列中有: < 3 > 种值\n",
      "姓名 列中有: < 1307 > 种值\n",
      "性别 列中有: < 2 > 种值\n",
      "年龄 列中有: < 361 > 种值\n",
      "兄弟姐妹/配偶的个数 列中有: < 7 > 种值\n",
      "父母/小孩个数 列中有: < 8 > 种值\n",
      "船票信息 列中有: < 929 > 种值\n",
      "票价 列中有: < 282 > 种值\n",
      "客舱号 列中有: < 187 > 种值\n",
      "登船港口 列中有: < 4 > 种值\n"
     ]
    }
   ],
   "source": [
    "for column_name in titanic_data.columns:\n",
    "    column_data = titanic_data[column_name]\n",
    "    print(f\"{column_name} 列中有: < {len((set(column_data)))} > 种值\")"
   ]
  },
  {
   "cell_type": "code",
   "execution_count": 14,
   "id": "4cc7516e",
   "metadata": {},
   "outputs": [
    {
     "data": {
      "text/html": [
       "<div>\n",
       "<style scoped>\n",
       "    .dataframe tbody tr th:only-of-type {\n",
       "        vertical-align: middle;\n",
       "    }\n",
       "\n",
       "    .dataframe tbody tr th {\n",
       "        vertical-align: top;\n",
       "    }\n",
       "\n",
       "    .dataframe thead th {\n",
       "        text-align: right;\n",
       "    }\n",
       "</style>\n",
       "<table border=\"1\" class=\"dataframe\">\n",
       "  <thead>\n",
       "    <tr style=\"text-align: right;\">\n",
       "      <th></th>\n",
       "      <th>乘客ID</th>\n",
       "      <th>是否生还</th>\n",
       "      <th>舱位</th>\n",
       "      <th>年龄</th>\n",
       "      <th>兄弟姐妹/配偶的个数</th>\n",
       "      <th>父母/小孩个数</th>\n",
       "      <th>票价</th>\n",
       "    </tr>\n",
       "  </thead>\n",
       "  <tbody>\n",
       "    <tr>\n",
       "      <th>count</th>\n",
       "      <td>1309.000000</td>\n",
       "      <td>1309.000000</td>\n",
       "      <td>1309.000000</td>\n",
       "      <td>1046.000000</td>\n",
       "      <td>1309.000000</td>\n",
       "      <td>1309.000000</td>\n",
       "      <td>1308.000000</td>\n",
       "    </tr>\n",
       "    <tr>\n",
       "      <th>mean</th>\n",
       "      <td>655.000000</td>\n",
       "      <td>0.377387</td>\n",
       "      <td>2.294882</td>\n",
       "      <td>29.881138</td>\n",
       "      <td>0.498854</td>\n",
       "      <td>0.385027</td>\n",
       "      <td>33.295479</td>\n",
       "    </tr>\n",
       "    <tr>\n",
       "      <th>std</th>\n",
       "      <td>378.020061</td>\n",
       "      <td>0.484918</td>\n",
       "      <td>0.837836</td>\n",
       "      <td>14.413493</td>\n",
       "      <td>1.041658</td>\n",
       "      <td>0.865560</td>\n",
       "      <td>51.758668</td>\n",
       "    </tr>\n",
       "    <tr>\n",
       "      <th>min</th>\n",
       "      <td>1.000000</td>\n",
       "      <td>0.000000</td>\n",
       "      <td>1.000000</td>\n",
       "      <td>0.170000</td>\n",
       "      <td>0.000000</td>\n",
       "      <td>0.000000</td>\n",
       "      <td>0.000000</td>\n",
       "    </tr>\n",
       "    <tr>\n",
       "      <th>25%</th>\n",
       "      <td>328.000000</td>\n",
       "      <td>0.000000</td>\n",
       "      <td>2.000000</td>\n",
       "      <td>21.000000</td>\n",
       "      <td>0.000000</td>\n",
       "      <td>0.000000</td>\n",
       "      <td>7.895800</td>\n",
       "    </tr>\n",
       "    <tr>\n",
       "      <th>50%</th>\n",
       "      <td>655.000000</td>\n",
       "      <td>0.000000</td>\n",
       "      <td>3.000000</td>\n",
       "      <td>28.000000</td>\n",
       "      <td>0.000000</td>\n",
       "      <td>0.000000</td>\n",
       "      <td>14.454200</td>\n",
       "    </tr>\n",
       "    <tr>\n",
       "      <th>75%</th>\n",
       "      <td>982.000000</td>\n",
       "      <td>1.000000</td>\n",
       "      <td>3.000000</td>\n",
       "      <td>39.000000</td>\n",
       "      <td>1.000000</td>\n",
       "      <td>0.000000</td>\n",
       "      <td>31.275000</td>\n",
       "    </tr>\n",
       "    <tr>\n",
       "      <th>max</th>\n",
       "      <td>1309.000000</td>\n",
       "      <td>1.000000</td>\n",
       "      <td>3.000000</td>\n",
       "      <td>80.000000</td>\n",
       "      <td>8.000000</td>\n",
       "      <td>9.000000</td>\n",
       "      <td>512.329200</td>\n",
       "    </tr>\n",
       "  </tbody>\n",
       "</table>\n",
       "</div>"
      ],
      "text/plain": [
       "              乘客ID         是否生还           舱位           年龄   兄弟姐妹/配偶的个数  \\\n",
       "count  1309.000000  1309.000000  1309.000000  1046.000000  1309.000000   \n",
       "mean    655.000000     0.377387     2.294882    29.881138     0.498854   \n",
       "std     378.020061     0.484918     0.837836    14.413493     1.041658   \n",
       "min       1.000000     0.000000     1.000000     0.170000     0.000000   \n",
       "25%     328.000000     0.000000     2.000000    21.000000     0.000000   \n",
       "50%     655.000000     0.000000     3.000000    28.000000     0.000000   \n",
       "75%     982.000000     1.000000     3.000000    39.000000     1.000000   \n",
       "max    1309.000000     1.000000     3.000000    80.000000     8.000000   \n",
       "\n",
       "           父母/小孩个数           票价  \n",
       "count  1309.000000  1308.000000  \n",
       "mean      0.385027    33.295479  \n",
       "std       0.865560    51.758668  \n",
       "min       0.000000     0.000000  \n",
       "25%       0.000000     7.895800  \n",
       "50%       0.000000    14.454200  \n",
       "75%       0.000000    31.275000  \n",
       "max       9.000000   512.329200  "
      ]
     },
     "execution_count": 14,
     "metadata": {},
     "output_type": "execute_result"
    }
   ],
   "source": [
    "titanic_data.describe()"
   ]
  },
  {
   "cell_type": "markdown",
   "id": "068891df",
   "metadata": {},
   "source": [
    "#### 2.3 画图查看样本平衡情况"
   ]
  },
  {
   "cell_type": "code",
   "execution_count": 15,
   "id": "36423b7c",
   "metadata": {},
   "outputs": [
    {
     "data": {
      "text/plain": [
       "Text(0.5, 1.0, 'Survived Rate = 0.37738731856378915')"
      ]
     },
     "execution_count": 15,
     "metadata": {},
     "output_type": "execute_result"
    },
    {
     "data": {
      "image/png": "[encoded data removed]",
      "text/plain": [
       "<Figure size 1600x900 with 1 Axes>"
      ]
     },
     "metadata": {},
     "output_type": "display_data"
    }
   ],
   "source": [
    "Survived = (titanic_data[\"是否生还\"]==1).sum()\n",
    "No_Survived = titanic_data.shape[0]-Survived\n",
    "plt.figure(figsize=(16,9))\n",
    "plt.ylabel(\"Counter\")\n",
    "plt.bar(range(2),[Survived,No_Survived],tick_label=[\"Survived\",\"No Survived\"])\n",
    "plt.title(f\"Survived Rate = {Survived/titanic_data.shape[0]}\")"
   ]
  },
  {
   "cell_type": "markdown",
   "id": "4507c023",
   "metadata": {},
   "source": [
    "### 3.1 特征工程\n",
    "##### one hot 编码对 舱位 性别 登船港口 三列数据 做特征工程"
   ]
  },
  {
   "cell_type": "code",
   "execution_count": 16,
   "id": "153cb08a",
   "metadata": {},
   "outputs": [
    {
     "data": {
      "text/plain": [
       "[1, 2, 3]"
      ]
     },
     "execution_count": 16,
     "metadata": {},
     "output_type": "execute_result"
    }
   ],
   "source": [
    "from sklearn.preprocessing import LabelEncoder\n",
    "from sklearn.preprocessing import OneHotEncoder\n",
    "\n",
    "\n",
    "Pclass_elements = list(set(titanic_data[\"舱位\"]))\n",
    "Pclass_elements"
   ]
  },
  {
   "cell_type": "code",
   "execution_count": 17,
   "id": "43211689",
   "metadata": {},
   "outputs": [
    {
     "data": {
      "text/plain": [
       "array([[0., 0., 0.],\n",
       "       [0., 0., 0.],\n",
       "       [0., 0., 0.],\n",
       "       ...,\n",
       "       [0., 0., 0.],\n",
       "       [0., 0., 0.],\n",
       "       [0., 0., 0.]])"
      ]
     },
     "execution_count": 17,
     "metadata": {},
     "output_type": "execute_result"
    }
   ],
   "source": [
    "one_hot_for_Pclass = np.zeros((titanic_data.shape[0],3))   \n",
    "one_hot_for_Pclass"
   ]
  },
  {
   "cell_type": "code",
   "execution_count": 18,
   "id": "5adcf104",
   "metadata": {},
   "outputs": [
    {
     "data": {
      "text/plain": [
       "array([[0., 0., 1.],\n",
       "       [1., 0., 0.],\n",
       "       [0., 0., 1.],\n",
       "       ...,\n",
       "       [0., 0., 1.],\n",
       "       [0., 0., 1.],\n",
       "       [0., 0., 1.]])"
      ]
     },
     "execution_count": 18,
     "metadata": {},
     "output_type": "execute_result"
    }
   ],
   "source": [
    "\n",
    "for m,Pclass in enumerate(titanic_data[\"舱位\"]):\n",
    "    if Pclass == Pclass_elements[0]:\n",
    "        one_hot_for_Pclass[m][0]=1\n",
    "    if Pclass == Pclass_elements[1]:\n",
    "        one_hot_for_Pclass[m][1]=1\n",
    "    if Pclass == Pclass_elements[2]:\n",
    "        one_hot_for_Pclass[m][2]=1\n",
    "one_hot_for_Pclass   "
   ]
  },
  {
   "cell_type": "code",
   "execution_count": 19,
   "id": "a38897dc",
   "metadata": {},
   "outputs": [
    {
     "data": {
      "text/html": [
       "<div>\n",
       "<style scoped>\n",
       "    .dataframe tbody tr th:only-of-type {\n",
       "        vertical-align: middle;\n",
       "    }\n",
       "\n",
       "    .dataframe tbody tr th {\n",
       "        vertical-align: top;\n",
       "    }\n",
       "\n",
       "    .dataframe thead th {\n",
       "        text-align: right;\n",
       "    }\n",
       "</style>\n",
       "<table border=\"1\" class=\"dataframe\">\n",
       "  <thead>\n",
       "    <tr style=\"text-align: right;\">\n",
       "      <th></th>\n",
       "      <th>1等舱</th>\n",
       "      <th>2等舱</th>\n",
       "      <th>3等舱</th>\n",
       "    </tr>\n",
       "  </thead>\n",
       "  <tbody>\n",
       "    <tr>\n",
       "      <th>0</th>\n",
       "      <td>0.0</td>\n",
       "      <td>0.0</td>\n",
       "      <td>1.0</td>\n",
       "    </tr>\n",
       "    <tr>\n",
       "      <th>1</th>\n",
       "      <td>1.0</td>\n",
       "      <td>0.0</td>\n",
       "      <td>0.0</td>\n",
       "    </tr>\n",
       "    <tr>\n",
       "      <th>2</th>\n",
       "      <td>0.0</td>\n",
       "      <td>0.0</td>\n",
       "      <td>1.0</td>\n",
       "    </tr>\n",
       "    <tr>\n",
       "      <th>3</th>\n",
       "      <td>1.0</td>\n",
       "      <td>0.0</td>\n",
       "      <td>0.0</td>\n",
       "    </tr>\n",
       "    <tr>\n",
       "      <th>4</th>\n",
       "      <td>0.0</td>\n",
       "      <td>0.0</td>\n",
       "      <td>1.0</td>\n",
       "    </tr>\n",
       "    <tr>\n",
       "      <th>...</th>\n",
       "      <td>...</td>\n",
       "      <td>...</td>\n",
       "      <td>...</td>\n",
       "    </tr>\n",
       "    <tr>\n",
       "      <th>1304</th>\n",
       "      <td>0.0</td>\n",
       "      <td>0.0</td>\n",
       "      <td>1.0</td>\n",
       "    </tr>\n",
       "    <tr>\n",
       "      <th>1305</th>\n",
       "      <td>1.0</td>\n",
       "      <td>0.0</td>\n",
       "      <td>0.0</td>\n",
       "    </tr>\n",
       "    <tr>\n",
       "      <th>1306</th>\n",
       "      <td>0.0</td>\n",
       "      <td>0.0</td>\n",
       "      <td>1.0</td>\n",
       "    </tr>\n",
       "    <tr>\n",
       "      <th>1307</th>\n",
       "      <td>0.0</td>\n",
       "      <td>0.0</td>\n",
       "      <td>1.0</td>\n",
       "    </tr>\n",
       "    <tr>\n",
       "      <th>1308</th>\n",
       "      <td>0.0</td>\n",
       "      <td>0.0</td>\n",
       "      <td>1.0</td>\n",
       "    </tr>\n",
       "  </tbody>\n",
       "</table>\n",
       "<p>1309 rows × 3 columns</p>\n",
       "</div>"
      ],
      "text/plain": [
       "      1等舱  2等舱  3等舱\n",
       "0     0.0  0.0  1.0\n",
       "1     1.0  0.0  0.0\n",
       "2     0.0  0.0  1.0\n",
       "3     1.0  0.0  0.0\n",
       "4     0.0  0.0  1.0\n",
       "...   ...  ...  ...\n",
       "1304  0.0  0.0  1.0\n",
       "1305  1.0  0.0  0.0\n",
       "1306  0.0  0.0  1.0\n",
       "1307  0.0  0.0  1.0\n",
       "1308  0.0  0.0  1.0\n",
       "\n",
       "[1309 rows x 3 columns]"
      ]
     },
     "execution_count": 19,
     "metadata": {},
     "output_type": "execute_result"
    }
   ],
   "source": [
    "OneHotPclass= pd.DataFrame(one_hot_for_Pclass\n",
    "                           ,columns=[f\"{Pclass_elements[0]}等舱\",f\"{Pclass_elements[1]}等舱\",f\"{Pclass_elements[2]}等舱\"])\n",
    "OneHotPclass"
   ]
  },
  {
   "cell_type": "code",
   "execution_count": 20,
   "id": "e6d49acd",
   "metadata": {},
   "outputs": [
    {
     "data": {
      "text/plain": [
       "['female', 'male']"
      ]
     },
     "execution_count": 20,
     "metadata": {},
     "output_type": "execute_result"
    }
   ],
   "source": [
    "Sex_elements = list(set(titanic_data[\"性别\"]))\n",
    "Sex_elements"
   ]
  },
  {
   "cell_type": "code",
   "execution_count": 21,
   "id": "d6532cba",
   "metadata": {},
   "outputs": [
    {
     "data": {
      "text/plain": [
       "array([[0., 0.],\n",
       "       [0., 0.],\n",
       "       [0., 0.],\n",
       "       ...,\n",
       "       [0., 0.],\n",
       "       [0., 0.],\n",
       "       [0., 0.]])"
      ]
     },
     "execution_count": 21,
     "metadata": {},
     "output_type": "execute_result"
    }
   ],
   "source": [
    "one_hot_for_Sex = np.zeros((titanic_data.shape[0],len(Sex_elements)))\n",
    "one_hot_for_Sex"
   ]
  },
  {
   "cell_type": "code",
   "execution_count": null,
   "id": "47a2e72e",
   "metadata": {},
   "outputs": [],
   "source": []
  },
  {
   "cell_type": "code",
   "execution_count": 22,
   "id": "9b064992",
   "metadata": {},
   "outputs": [
    {
     "data": {
      "text/plain": [
       "array([[0., 1.],\n",
       "       [1., 0.],\n",
       "       [1., 0.],\n",
       "       ...,\n",
       "       [0., 1.],\n",
       "       [0., 1.],\n",
       "       [0., 1.]])"
      ]
     },
     "execution_count": 22,
     "metadata": {},
     "output_type": "execute_result"
    }
   ],
   "source": [
    "for m,Sex in enumerate(titanic_data[\"性别\"]):\n",
    "    if Sex == Sex_elements[0]:\n",
    "        one_hot_for_Sex[m][0]=1\n",
    "    if Sex == Sex_elements[1]:\n",
    "        one_hot_for_Sex[m][1]=1\n",
    "one_hot_for_Sex"
   ]
  },
  {
   "cell_type": "code",
   "execution_count": 23,
   "id": "a6e49a83",
   "metadata": {},
   "outputs": [
    {
     "data": {
      "text/html": [
       "<div>\n",
       "<style scoped>\n",
       "    .dataframe tbody tr th:only-of-type {\n",
       "        vertical-align: middle;\n",
       "    }\n",
       "\n",
       "    .dataframe tbody tr th {\n",
       "        vertical-align: top;\n",
       "    }\n",
       "\n",
       "    .dataframe thead th {\n",
       "        text-align: right;\n",
       "    }\n",
       "</style>\n",
       "<table border=\"1\" class=\"dataframe\">\n",
       "  <thead>\n",
       "    <tr style=\"text-align: right;\">\n",
       "      <th></th>\n",
       "      <th>女性</th>\n",
       "      <th>男性</th>\n",
       "    </tr>\n",
       "  </thead>\n",
       "  <tbody>\n",
       "    <tr>\n",
       "      <th>0</th>\n",
       "      <td>0.0</td>\n",
       "      <td>1.0</td>\n",
       "    </tr>\n",
       "    <tr>\n",
       "      <th>1</th>\n",
       "      <td>1.0</td>\n",
       "      <td>0.0</td>\n",
       "    </tr>\n",
       "    <tr>\n",
       "      <th>2</th>\n",
       "      <td>1.0</td>\n",
       "      <td>0.0</td>\n",
       "    </tr>\n",
       "    <tr>\n",
       "      <th>3</th>\n",
       "      <td>1.0</td>\n",
       "      <td>0.0</td>\n",
       "    </tr>\n",
       "    <tr>\n",
       "      <th>4</th>\n",
       "      <td>0.0</td>\n",
       "      <td>1.0</td>\n",
       "    </tr>\n",
       "    <tr>\n",
       "      <th>...</th>\n",
       "      <td>...</td>\n",
       "      <td>...</td>\n",
       "    </tr>\n",
       "    <tr>\n",
       "      <th>1304</th>\n",
       "      <td>0.0</td>\n",
       "      <td>1.0</td>\n",
       "    </tr>\n",
       "    <tr>\n",
       "      <th>1305</th>\n",
       "      <td>1.0</td>\n",
       "      <td>0.0</td>\n",
       "    </tr>\n",
       "    <tr>\n",
       "      <th>1306</th>\n",
       "      <td>0.0</td>\n",
       "      <td>1.0</td>\n",
       "    </tr>\n",
       "    <tr>\n",
       "      <th>1307</th>\n",
       "      <td>0.0</td>\n",
       "      <td>1.0</td>\n",
       "    </tr>\n",
       "    <tr>\n",
       "      <th>1308</th>\n",
       "      <td>0.0</td>\n",
       "      <td>1.0</td>\n",
       "    </tr>\n",
       "  </tbody>\n",
       "</table>\n",
       "<p>1309 rows × 2 columns</p>\n",
       "</div>"
      ],
      "text/plain": [
       "       女性   男性\n",
       "0     0.0  1.0\n",
       "1     1.0  0.0\n",
       "2     1.0  0.0\n",
       "3     1.0  0.0\n",
       "4     0.0  1.0\n",
       "...   ...  ...\n",
       "1304  0.0  1.0\n",
       "1305  1.0  0.0\n",
       "1306  0.0  1.0\n",
       "1307  0.0  1.0\n",
       "1308  0.0  1.0\n",
       "\n",
       "[1309 rows x 2 columns]"
      ]
     },
     "execution_count": 23,
     "metadata": {},
     "output_type": "execute_result"
    }
   ],
   "source": [
    "OneHotSex = pd.DataFrame(one_hot_for_Sex,columns=[\"女性\",\"男性\"])\n",
    "OneHotSex"
   ]
  },
  {
   "cell_type": "code",
   "execution_count": 24,
   "id": "749349b7",
   "metadata": {},
   "outputs": [
    {
     "data": {
      "text/plain": [
       "['C', nan, 'S', 'Q']"
      ]
     },
     "execution_count": 24,
     "metadata": {},
     "output_type": "execute_result"
    }
   ],
   "source": [
    "Embarked_element = list(set(titanic_data[\"登船港口\"]))\n",
    "Embarked_element\n",
    "\n"
   ]
  },
  {
   "cell_type": "code",
   "execution_count": 25,
   "id": "d771b68f",
   "metadata": {},
   "outputs": [
    {
     "data": {
      "text/plain": [
       "array([[0., 0., 0., 0.],\n",
       "       [0., 0., 0., 0.],\n",
       "       [0., 0., 0., 0.],\n",
       "       ...,\n",
       "       [0., 0., 0., 0.],\n",
       "       [0., 0., 0., 0.],\n",
       "       [0., 0., 0., 0.]])"
      ]
     },
     "execution_count": 25,
     "metadata": {},
     "output_type": "execute_result"
    }
   ],
   "source": [
    "one_hot_for_Embarked = np.zeros((titanic_data.shape[0],len(Embarked_element)))\n",
    "one_hot_for_Embarked"
   ]
  },
  {
   "cell_type": "code",
   "execution_count": 26,
   "id": "51f377ee",
   "metadata": {},
   "outputs": [
    {
     "data": {
      "text/plain": [
       "array([[0., 0., 1., 0.],\n",
       "       [1., 0., 0., 0.],\n",
       "       [0., 0., 1., 0.],\n",
       "       ...,\n",
       "       [0., 0., 1., 0.],\n",
       "       [0., 0., 1., 0.],\n",
       "       [1., 0., 0., 0.]])"
      ]
     },
     "execution_count": 26,
     "metadata": {},
     "output_type": "execute_result"
    }
   ],
   "source": [
    "for m,Embarked in enumerate(titanic_data[\"登船港口\"]):\n",
    "    if Embarked == Embarked_element[0]:\n",
    "        one_hot_for_Embarked[m][0] = 1\n",
    "    if Embarked == Embarked_element[1]:\n",
    "        one_hot_for_Embarked[m][1] = 1\n",
    "    if Embarked == Embarked_element[2]:\n",
    "        one_hot_for_Embarked[m][2] = 1\n",
    "    if Embarked == Embarked_element[3]:\n",
    "        one_hot_for_Embarked[m][3] = 1\n",
    "one_hot_for_Embarked\n",
    "\n"
   ]
  },
  {
   "cell_type": "code",
   "execution_count": 27,
   "id": "dec7071d",
   "metadata": {},
   "outputs": [
    {
     "data": {
      "text/html": [
       "<div>\n",
       "<style scoped>\n",
       "    .dataframe tbody tr th:only-of-type {\n",
       "        vertical-align: middle;\n",
       "    }\n",
       "\n",
       "    .dataframe tbody tr th {\n",
       "        vertical-align: top;\n",
       "    }\n",
       "\n",
       "    .dataframe thead th {\n",
       "        text-align: right;\n",
       "    }\n",
       "</style>\n",
       "<table border=\"1\" class=\"dataframe\">\n",
       "  <thead>\n",
       "    <tr style=\"text-align: right;\">\n",
       "      <th></th>\n",
       "      <th>登船港口为空</th>\n",
       "      <th>登船为nan港</th>\n",
       "      <th>登船为S港</th>\n",
       "      <th>登船为Q港</th>\n",
       "    </tr>\n",
       "  </thead>\n",
       "  <tbody>\n",
       "    <tr>\n",
       "      <th>0</th>\n",
       "      <td>0.0</td>\n",
       "      <td>0.0</td>\n",
       "      <td>1.0</td>\n",
       "      <td>0.0</td>\n",
       "    </tr>\n",
       "    <tr>\n",
       "      <th>1</th>\n",
       "      <td>1.0</td>\n",
       "      <td>0.0</td>\n",
       "      <td>0.0</td>\n",
       "      <td>0.0</td>\n",
       "    </tr>\n",
       "    <tr>\n",
       "      <th>2</th>\n",
       "      <td>0.0</td>\n",
       "      <td>0.0</td>\n",
       "      <td>1.0</td>\n",
       "      <td>0.0</td>\n",
       "    </tr>\n",
       "    <tr>\n",
       "      <th>3</th>\n",
       "      <td>0.0</td>\n",
       "      <td>0.0</td>\n",
       "      <td>1.0</td>\n",
       "      <td>0.0</td>\n",
       "    </tr>\n",
       "    <tr>\n",
       "      <th>4</th>\n",
       "      <td>0.0</td>\n",
       "      <td>0.0</td>\n",
       "      <td>1.0</td>\n",
       "      <td>0.0</td>\n",
       "    </tr>\n",
       "    <tr>\n",
       "      <th>...</th>\n",
       "      <td>...</td>\n",
       "      <td>...</td>\n",
       "      <td>...</td>\n",
       "      <td>...</td>\n",
       "    </tr>\n",
       "    <tr>\n",
       "      <th>1304</th>\n",
       "      <td>0.0</td>\n",
       "      <td>0.0</td>\n",
       "      <td>1.0</td>\n",
       "      <td>0.0</td>\n",
       "    </tr>\n",
       "    <tr>\n",
       "      <th>1305</th>\n",
       "      <td>1.0</td>\n",
       "      <td>0.0</td>\n",
       "      <td>0.0</td>\n",
       "      <td>0.0</td>\n",
       "    </tr>\n",
       "    <tr>\n",
       "      <th>1306</th>\n",
       "      <td>0.0</td>\n",
       "      <td>0.0</td>\n",
       "      <td>1.0</td>\n",
       "      <td>0.0</td>\n",
       "    </tr>\n",
       "    <tr>\n",
       "      <th>1307</th>\n",
       "      <td>0.0</td>\n",
       "      <td>0.0</td>\n",
       "      <td>1.0</td>\n",
       "      <td>0.0</td>\n",
       "    </tr>\n",
       "    <tr>\n",
       "      <th>1308</th>\n",
       "      <td>1.0</td>\n",
       "      <td>0.0</td>\n",
       "      <td>0.0</td>\n",
       "      <td>0.0</td>\n",
       "    </tr>\n",
       "  </tbody>\n",
       "</table>\n",
       "<p>1309 rows × 4 columns</p>\n",
       "</div>"
      ],
      "text/plain": [
       "      登船港口为空  登船为nan港  登船为S港  登船为Q港\n",
       "0        0.0      0.0    1.0    0.0\n",
       "1        1.0      0.0    0.0    0.0\n",
       "2        0.0      0.0    1.0    0.0\n",
       "3        0.0      0.0    1.0    0.0\n",
       "4        0.0      0.0    1.0    0.0\n",
       "...      ...      ...    ...    ...\n",
       "1304     0.0      0.0    1.0    0.0\n",
       "1305     1.0      0.0    0.0    0.0\n",
       "1306     0.0      0.0    1.0    0.0\n",
       "1307     0.0      0.0    1.0    0.0\n",
       "1308     1.0      0.0    0.0    0.0\n",
       "\n",
       "[1309 rows x 4 columns]"
      ]
     },
     "execution_count": 27,
     "metadata": {},
     "output_type": "execute_result"
    }
   ],
   "source": [
    "OneHotEmbarked = pd.DataFrame(one_hot_for_Embarked\n",
    "                              ,columns=[\"登船港口为空\"\n",
    "                                        ,f\"登船为{Embarked_element[1]}港\"\n",
    "                                        ,f\"登船为{Embarked_element[2]}港\"\n",
    "                                        ,f\"登船为{Embarked_element[3]}港\"])\n",
    "OneHotEmbarked"
   ]
  },
  {
   "cell_type": "markdown",
   "id": "a6e078bf",
   "metadata": {},
   "source": [
    "#### 整合one hot 编码和待用的列"
   ]
  },
  {
   "cell_type": "code",
   "execution_count": 28,
   "id": "065b95b2",
   "metadata": {},
   "outputs": [
    {
     "data": {
      "text/html": [
       "<div>\n",
       "<style scoped>\n",
       "    .dataframe tbody tr th:only-of-type {\n",
       "        vertical-align: middle;\n",
       "    }\n",
       "\n",
       "    .dataframe tbody tr th {\n",
       "        vertical-align: top;\n",
       "    }\n",
       "\n",
       "    .dataframe thead th {\n",
       "        text-align: right;\n",
       "    }\n",
       "</style>\n",
       "<table border=\"1\" class=\"dataframe\">\n",
       "  <thead>\n",
       "    <tr style=\"text-align: right;\">\n",
       "      <th></th>\n",
       "      <th>乘客ID</th>\n",
       "      <th>是否生还</th>\n",
       "      <th>舱位</th>\n",
       "      <th>姓名</th>\n",
       "      <th>性别</th>\n",
       "      <th>年龄</th>\n",
       "      <th>兄弟姐妹/配偶的个数</th>\n",
       "      <th>父母/小孩个数</th>\n",
       "      <th>船票信息</th>\n",
       "      <th>票价</th>\n",
       "      <th>客舱号</th>\n",
       "      <th>登船港口</th>\n",
       "    </tr>\n",
       "  </thead>\n",
       "  <tbody>\n",
       "    <tr>\n",
       "      <th>0</th>\n",
       "      <td>1</td>\n",
       "      <td>0</td>\n",
       "      <td>3</td>\n",
       "      <td>Braund, Mr. Owen Harris</td>\n",
       "      <td>male</td>\n",
       "      <td>22.0</td>\n",
       "      <td>1</td>\n",
       "      <td>0</td>\n",
       "      <td>A/5 21171</td>\n",
       "      <td>7.2500</td>\n",
       "      <td>NaN</td>\n",
       "      <td>S</td>\n",
       "    </tr>\n",
       "    <tr>\n",
       "      <th>1</th>\n",
       "      <td>2</td>\n",
       "      <td>1</td>\n",
       "      <td>1</td>\n",
       "      <td>Cumings, Mrs. John Bradley (Florence Briggs Th...</td>\n",
       "      <td>female</td>\n",
       "      <td>38.0</td>\n",
       "      <td>1</td>\n",
       "      <td>0</td>\n",
       "      <td>PC 17599</td>\n",
       "      <td>71.2833</td>\n",
       "      <td>C85</td>\n",
       "      <td>C</td>\n",
       "    </tr>\n",
       "    <tr>\n",
       "      <th>2</th>\n",
       "      <td>3</td>\n",
       "      <td>1</td>\n",
       "      <td>3</td>\n",
       "      <td>Heikkinen, Miss. Laina</td>\n",
       "      <td>female</td>\n",
       "      <td>26.0</td>\n",
       "      <td>0</td>\n",
       "      <td>0</td>\n",
       "      <td>STON/O2. 3101282</td>\n",
       "      <td>7.9250</td>\n",
       "      <td>NaN</td>\n",
       "      <td>S</td>\n",
       "    </tr>\n",
       "    <tr>\n",
       "      <th>3</th>\n",
       "      <td>4</td>\n",
       "      <td>1</td>\n",
       "      <td>1</td>\n",
       "      <td>Futrelle, Mrs. Jacques Heath (Lily May Peel)</td>\n",
       "      <td>female</td>\n",
       "      <td>35.0</td>\n",
       "      <td>1</td>\n",
       "      <td>0</td>\n",
       "      <td>113803</td>\n",
       "      <td>53.1000</td>\n",
       "      <td>C123</td>\n",
       "      <td>S</td>\n",
       "    </tr>\n",
       "    <tr>\n",
       "      <th>4</th>\n",
       "      <td>5</td>\n",
       "      <td>0</td>\n",
       "      <td>3</td>\n",
       "      <td>Allen, Mr. William Henry</td>\n",
       "      <td>male</td>\n",
       "      <td>35.0</td>\n",
       "      <td>0</td>\n",
       "      <td>0</td>\n",
       "      <td>373450</td>\n",
       "      <td>8.0500</td>\n",
       "      <td>NaN</td>\n",
       "      <td>S</td>\n",
       "    </tr>\n",
       "    <tr>\n",
       "      <th>...</th>\n",
       "      <td>...</td>\n",
       "      <td>...</td>\n",
       "      <td>...</td>\n",
       "      <td>...</td>\n",
       "      <td>...</td>\n",
       "      <td>...</td>\n",
       "      <td>...</td>\n",
       "      <td>...</td>\n",
       "      <td>...</td>\n",
       "      <td>...</td>\n",
       "      <td>...</td>\n",
       "      <td>...</td>\n",
       "    </tr>\n",
       "    <tr>\n",
       "      <th>413</th>\n",
       "      <td>1305</td>\n",
       "      <td>0</td>\n",
       "      <td>3</td>\n",
       "      <td>Spector, Mr. Woolf</td>\n",
       "      <td>male</td>\n",
       "      <td>NaN</td>\n",
       "      <td>0</td>\n",
       "      <td>0</td>\n",
       "      <td>A.5. 3236</td>\n",
       "      <td>8.0500</td>\n",
       "      <td>NaN</td>\n",
       "      <td>S</td>\n",
       "    </tr>\n",
       "    <tr>\n",
       "      <th>414</th>\n",
       "      <td>1306</td>\n",
       "      <td>1</td>\n",
       "      <td>1</td>\n",
       "      <td>Oliva y Ocana, Dona. Fermina</td>\n",
       "      <td>female</td>\n",
       "      <td>39.0</td>\n",
       "      <td>0</td>\n",
       "      <td>0</td>\n",
       "      <td>PC 17758</td>\n",
       "      <td>108.9000</td>\n",
       "      <td>C105</td>\n",
       "      <td>C</td>\n",
       "    </tr>\n",
       "    <tr>\n",
       "      <th>415</th>\n",
       "      <td>1307</td>\n",
       "      <td>0</td>\n",
       "      <td>3</td>\n",
       "      <td>Saether, Mr. Simon Sivertsen</td>\n",
       "      <td>male</td>\n",
       "      <td>38.5</td>\n",
       "      <td>0</td>\n",
       "      <td>0</td>\n",
       "      <td>SOTON/O.Q. 3101262</td>\n",
       "      <td>7.2500</td>\n",
       "      <td>NaN</td>\n",
       "      <td>S</td>\n",
       "    </tr>\n",
       "    <tr>\n",
       "      <th>416</th>\n",
       "      <td>1308</td>\n",
       "      <td>0</td>\n",
       "      <td>3</td>\n",
       "      <td>Ware, Mr. Frederick</td>\n",
       "      <td>male</td>\n",
       "      <td>NaN</td>\n",
       "      <td>0</td>\n",
       "      <td>0</td>\n",
       "      <td>359309</td>\n",
       "      <td>8.0500</td>\n",
       "      <td>NaN</td>\n",
       "      <td>S</td>\n",
       "    </tr>\n",
       "    <tr>\n",
       "      <th>417</th>\n",
       "      <td>1309</td>\n",
       "      <td>0</td>\n",
       "      <td>3</td>\n",
       "      <td>Peter, Master. Michael J</td>\n",
       "      <td>male</td>\n",
       "      <td>NaN</td>\n",
       "      <td>1</td>\n",
       "      <td>1</td>\n",
       "      <td>2668</td>\n",
       "      <td>22.3583</td>\n",
       "      <td>NaN</td>\n",
       "      <td>C</td>\n",
       "    </tr>\n",
       "  </tbody>\n",
       "</table>\n",
       "<p>1309 rows × 12 columns</p>\n",
       "</div>"
      ],
      "text/plain": [
       "     乘客ID  是否生还  舱位                                                 姓名  \\\n",
       "0       1     0   3                            Braund, Mr. Owen Harris   \n",
       "1       2     1   1  Cumings, Mrs. John Bradley (Florence Briggs Th...   \n",
       "2       3     1   3                             Heikkinen, Miss. Laina   \n",
       "3       4     1   1       Futrelle, Mrs. Jacques Heath (Lily May Peel)   \n",
       "4       5     0   3                           Allen, Mr. William Henry   \n",
       "..    ...   ...  ..                                                ...   \n",
       "413  1305     0   3                                 Spector, Mr. Woolf   \n",
       "414  1306     1   1                       Oliva y Ocana, Dona. Fermina   \n",
       "415  1307     0   3                       Saether, Mr. Simon Sivertsen   \n",
       "416  1308     0   3                                Ware, Mr. Frederick   \n",
       "417  1309     0   3                           Peter, Master. Michael J   \n",
       "\n",
       "         性别    年龄  兄弟姐妹/配偶的个数  父母/小孩个数                船票信息        票价   客舱号  \\\n",
       "0      male  22.0           1        0           A/5 21171    7.2500   NaN   \n",
       "1    female  38.0           1        0            PC 17599   71.2833   C85   \n",
       "2    female  26.0           0        0    STON/O2. 3101282    7.9250   NaN   \n",
       "3    female  35.0           1        0              113803   53.1000  C123   \n",
       "4      male  35.0           0        0              373450    8.0500   NaN   \n",
       "..      ...   ...         ...      ...                 ...       ...   ...   \n",
       "413    male   NaN           0        0           A.5. 3236    8.0500   NaN   \n",
       "414  female  39.0           0        0            PC 17758  108.9000  C105   \n",
       "415    male  38.5           0        0  SOTON/O.Q. 3101262    7.2500   NaN   \n",
       "416    male   NaN           0        0              359309    8.0500   NaN   \n",
       "417    male   NaN           1        1                2668   22.3583   NaN   \n",
       "\n",
       "    登船港口  \n",
       "0      S  \n",
       "1      C  \n",
       "2      S  \n",
       "3      S  \n",
       "4      S  \n",
       "..   ...  \n",
       "413    S  \n",
       "414    C  \n",
       "415    S  \n",
       "416    S  \n",
       "417    C  \n",
       "\n",
       "[1309 rows x 12 columns]"
      ]
     },
     "execution_count": 28,
     "metadata": {},
     "output_type": "execute_result"
    }
   ],
   "source": [
    "titanic_data"
   ]
  },
  {
   "cell_type": "code",
   "execution_count": 29,
   "id": "cc1c9991",
   "metadata": {},
   "outputs": [],
   "source": [
    "x_data = titanic_data[[\"年龄\",\"兄弟姐妹/配偶的个数\",\"父母/小孩个数\",\"票价\"]]"
   ]
  },
  {
   "cell_type": "code",
   "execution_count": 30,
   "id": "7ea4a03e",
   "metadata": {},
   "outputs": [
    {
     "data": {
      "text/html": [
       "<div>\n",
       "<style scoped>\n",
       "    .dataframe tbody tr th:only-of-type {\n",
       "        vertical-align: middle;\n",
       "    }\n",
       "\n",
       "    .dataframe tbody tr th {\n",
       "        vertical-align: top;\n",
       "    }\n",
       "\n",
       "    .dataframe thead th {\n",
       "        text-align: right;\n",
       "    }\n",
       "</style>\n",
       "<table border=\"1\" class=\"dataframe\">\n",
       "  <thead>\n",
       "    <tr style=\"text-align: right;\">\n",
       "      <th></th>\n",
       "      <th>年龄</th>\n",
       "      <th>兄弟姐妹/配偶的个数</th>\n",
       "      <th>父母/小孩个数</th>\n",
       "      <th>票价</th>\n",
       "    </tr>\n",
       "  </thead>\n",
       "  <tbody>\n",
       "    <tr>\n",
       "      <th>0</th>\n",
       "      <td>22.0</td>\n",
       "      <td>1</td>\n",
       "      <td>0</td>\n",
       "      <td>7.2500</td>\n",
       "    </tr>\n",
       "    <tr>\n",
       "      <th>1</th>\n",
       "      <td>38.0</td>\n",
       "      <td>1</td>\n",
       "      <td>0</td>\n",
       "      <td>71.2833</td>\n",
       "    </tr>\n",
       "    <tr>\n",
       "      <th>2</th>\n",
       "      <td>26.0</td>\n",
       "      <td>0</td>\n",
       "      <td>0</td>\n",
       "      <td>7.9250</td>\n",
       "    </tr>\n",
       "    <tr>\n",
       "      <th>3</th>\n",
       "      <td>35.0</td>\n",
       "      <td>1</td>\n",
       "      <td>0</td>\n",
       "      <td>53.1000</td>\n",
       "    </tr>\n",
       "    <tr>\n",
       "      <th>4</th>\n",
       "      <td>35.0</td>\n",
       "      <td>0</td>\n",
       "      <td>0</td>\n",
       "      <td>8.0500</td>\n",
       "    </tr>\n",
       "  </tbody>\n",
       "</table>\n",
       "</div>"
      ],
      "text/plain": [
       "     年龄  兄弟姐妹/配偶的个数  父母/小孩个数       票价\n",
       "0  22.0           1        0   7.2500\n",
       "1  38.0           1        0  71.2833\n",
       "2  26.0           0        0   7.9250\n",
       "3  35.0           1        0  53.1000\n",
       "4  35.0           0        0   8.0500"
      ]
     },
     "execution_count": 30,
     "metadata": {},
     "output_type": "execute_result"
    }
   ],
   "source": [
    "x_data.head()"
   ]
  },
  {
   "cell_type": "code",
   "execution_count": 31,
   "id": "72f9e96a",
   "metadata": {},
   "outputs": [
    {
     "data": {
      "text/html": [
       "<div>\n",
       "<style scoped>\n",
       "    .dataframe tbody tr th:only-of-type {\n",
       "        vertical-align: middle;\n",
       "    }\n",
       "\n",
       "    .dataframe tbody tr th {\n",
       "        vertical-align: top;\n",
       "    }\n",
       "\n",
       "    .dataframe thead th {\n",
       "        text-align: right;\n",
       "    }\n",
       "</style>\n",
       "<table border=\"1\" class=\"dataframe\">\n",
       "  <thead>\n",
       "    <tr style=\"text-align: right;\">\n",
       "      <th></th>\n",
       "      <th>1等舱</th>\n",
       "      <th>2等舱</th>\n",
       "      <th>3等舱</th>\n",
       "      <th>登船港口为空</th>\n",
       "      <th>登船为nan港</th>\n",
       "      <th>登船为S港</th>\n",
       "      <th>登船为Q港</th>\n",
       "      <th>女性</th>\n",
       "      <th>男性</th>\n",
       "    </tr>\n",
       "  </thead>\n",
       "  <tbody>\n",
       "    <tr>\n",
       "      <th>0</th>\n",
       "      <td>0.0</td>\n",
       "      <td>0.0</td>\n",
       "      <td>1.0</td>\n",
       "      <td>0.0</td>\n",
       "      <td>0.0</td>\n",
       "      <td>1.0</td>\n",
       "      <td>0.0</td>\n",
       "      <td>0.0</td>\n",
       "      <td>1.0</td>\n",
       "    </tr>\n",
       "    <tr>\n",
       "      <th>1</th>\n",
       "      <td>1.0</td>\n",
       "      <td>0.0</td>\n",
       "      <td>0.0</td>\n",
       "      <td>1.0</td>\n",
       "      <td>0.0</td>\n",
       "      <td>0.0</td>\n",
       "      <td>0.0</td>\n",
       "      <td>1.0</td>\n",
       "      <td>0.0</td>\n",
       "    </tr>\n",
       "    <tr>\n",
       "      <th>2</th>\n",
       "      <td>0.0</td>\n",
       "      <td>0.0</td>\n",
       "      <td>1.0</td>\n",
       "      <td>0.0</td>\n",
       "      <td>0.0</td>\n",
       "      <td>1.0</td>\n",
       "      <td>0.0</td>\n",
       "      <td>1.0</td>\n",
       "      <td>0.0</td>\n",
       "    </tr>\n",
       "    <tr>\n",
       "      <th>3</th>\n",
       "      <td>1.0</td>\n",
       "      <td>0.0</td>\n",
       "      <td>0.0</td>\n",
       "      <td>0.0</td>\n",
       "      <td>0.0</td>\n",
       "      <td>1.0</td>\n",
       "      <td>0.0</td>\n",
       "      <td>1.0</td>\n",
       "      <td>0.0</td>\n",
       "    </tr>\n",
       "    <tr>\n",
       "      <th>4</th>\n",
       "      <td>0.0</td>\n",
       "      <td>0.0</td>\n",
       "      <td>1.0</td>\n",
       "      <td>0.0</td>\n",
       "      <td>0.0</td>\n",
       "      <td>1.0</td>\n",
       "      <td>0.0</td>\n",
       "      <td>0.0</td>\n",
       "      <td>1.0</td>\n",
       "    </tr>\n",
       "  </tbody>\n",
       "</table>\n",
       "</div>"
      ],
      "text/plain": [
       "   1等舱  2等舱  3等舱  登船港口为空  登船为nan港  登船为S港  登船为Q港   女性   男性\n",
       "0  0.0  0.0  1.0     0.0      0.0    1.0    0.0  0.0  1.0\n",
       "1  1.0  0.0  0.0     1.0      0.0    0.0    0.0  1.0  0.0\n",
       "2  0.0  0.0  1.0     0.0      0.0    1.0    0.0  1.0  0.0\n",
       "3  1.0  0.0  0.0     0.0      0.0    1.0    0.0  1.0  0.0\n",
       "4  0.0  0.0  1.0     0.0      0.0    1.0    0.0  0.0  1.0"
      ]
     },
     "execution_count": 31,
     "metadata": {},
     "output_type": "execute_result"
    }
   ],
   "source": [
    "concat_1 = pd.concat([OneHotPclass,OneHotEmbarked],axis=1)\n",
    "concat_2 = pd.concat([concat_1,OneHotSex],axis=1)\n",
    "concat_2.head()"
   ]
  },
  {
   "cell_type": "code",
   "execution_count": 32,
   "id": "25bc232c",
   "metadata": {},
   "outputs": [
    {
     "data": {
      "text/html": [
       "<div>\n",
       "<style scoped>\n",
       "    .dataframe tbody tr th:only-of-type {\n",
       "        vertical-align: middle;\n",
       "    }\n",
       "\n",
       "    .dataframe tbody tr th {\n",
       "        vertical-align: top;\n",
       "    }\n",
       "\n",
       "    .dataframe thead th {\n",
       "        text-align: right;\n",
       "    }\n",
       "</style>\n",
       "<table border=\"1\" class=\"dataframe\">\n",
       "  <thead>\n",
       "    <tr style=\"text-align: right;\">\n",
       "      <th></th>\n",
       "      <th>年龄</th>\n",
       "      <th>兄弟姐妹/配偶的个数</th>\n",
       "      <th>父母/小孩个数</th>\n",
       "      <th>票价</th>\n",
       "      <th>1等舱</th>\n",
       "      <th>2等舱</th>\n",
       "      <th>3等舱</th>\n",
       "      <th>登船港口为空</th>\n",
       "      <th>登船为nan港</th>\n",
       "      <th>登船为S港</th>\n",
       "      <th>登船为Q港</th>\n",
       "      <th>女性</th>\n",
       "      <th>男性</th>\n",
       "    </tr>\n",
       "  </thead>\n",
       "  <tbody>\n",
       "    <tr>\n",
       "      <th>0</th>\n",
       "      <td>22.0</td>\n",
       "      <td>1</td>\n",
       "      <td>0</td>\n",
       "      <td>7.2500</td>\n",
       "      <td>0.0</td>\n",
       "      <td>0.0</td>\n",
       "      <td>1.0</td>\n",
       "      <td>0.0</td>\n",
       "      <td>0.0</td>\n",
       "      <td>1.0</td>\n",
       "      <td>0.0</td>\n",
       "      <td>0.0</td>\n",
       "      <td>1.0</td>\n",
       "    </tr>\n",
       "    <tr>\n",
       "      <th>1</th>\n",
       "      <td>38.0</td>\n",
       "      <td>1</td>\n",
       "      <td>0</td>\n",
       "      <td>71.2833</td>\n",
       "      <td>1.0</td>\n",
       "      <td>0.0</td>\n",
       "      <td>0.0</td>\n",
       "      <td>1.0</td>\n",
       "      <td>0.0</td>\n",
       "      <td>0.0</td>\n",
       "      <td>0.0</td>\n",
       "      <td>1.0</td>\n",
       "      <td>0.0</td>\n",
       "    </tr>\n",
       "    <tr>\n",
       "      <th>2</th>\n",
       "      <td>26.0</td>\n",
       "      <td>0</td>\n",
       "      <td>0</td>\n",
       "      <td>7.9250</td>\n",
       "      <td>0.0</td>\n",
       "      <td>0.0</td>\n",
       "      <td>1.0</td>\n",
       "      <td>0.0</td>\n",
       "      <td>0.0</td>\n",
       "      <td>1.0</td>\n",
       "      <td>0.0</td>\n",
       "      <td>1.0</td>\n",
       "      <td>0.0</td>\n",
       "    </tr>\n",
       "    <tr>\n",
       "      <th>3</th>\n",
       "      <td>35.0</td>\n",
       "      <td>1</td>\n",
       "      <td>0</td>\n",
       "      <td>53.1000</td>\n",
       "      <td>1.0</td>\n",
       "      <td>0.0</td>\n",
       "      <td>0.0</td>\n",
       "      <td>0.0</td>\n",
       "      <td>0.0</td>\n",
       "      <td>1.0</td>\n",
       "      <td>0.0</td>\n",
       "      <td>1.0</td>\n",
       "      <td>0.0</td>\n",
       "    </tr>\n",
       "    <tr>\n",
       "      <th>4</th>\n",
       "      <td>35.0</td>\n",
       "      <td>0</td>\n",
       "      <td>0</td>\n",
       "      <td>8.0500</td>\n",
       "      <td>0.0</td>\n",
       "      <td>0.0</td>\n",
       "      <td>1.0</td>\n",
       "      <td>0.0</td>\n",
       "      <td>0.0</td>\n",
       "      <td>1.0</td>\n",
       "      <td>0.0</td>\n",
       "      <td>0.0</td>\n",
       "      <td>1.0</td>\n",
       "    </tr>\n",
       "    <tr>\n",
       "      <th>...</th>\n",
       "      <td>...</td>\n",
       "      <td>...</td>\n",
       "      <td>...</td>\n",
       "      <td>...</td>\n",
       "      <td>...</td>\n",
       "      <td>...</td>\n",
       "      <td>...</td>\n",
       "      <td>...</td>\n",
       "      <td>...</td>\n",
       "      <td>...</td>\n",
       "      <td>...</td>\n",
       "      <td>...</td>\n",
       "      <td>...</td>\n",
       "    </tr>\n",
       "    <tr>\n",
       "      <th>1304</th>\n",
       "      <td>0.0</td>\n",
       "      <td>0</td>\n",
       "      <td>0</td>\n",
       "      <td>8.0500</td>\n",
       "      <td>0.0</td>\n",
       "      <td>0.0</td>\n",
       "      <td>1.0</td>\n",
       "      <td>0.0</td>\n",
       "      <td>0.0</td>\n",
       "      <td>1.0</td>\n",
       "      <td>0.0</td>\n",
       "      <td>0.0</td>\n",
       "      <td>1.0</td>\n",
       "    </tr>\n",
       "    <tr>\n",
       "      <th>1305</th>\n",
       "      <td>39.0</td>\n",
       "      <td>0</td>\n",
       "      <td>0</td>\n",
       "      <td>108.9000</td>\n",
       "      <td>1.0</td>\n",
       "      <td>0.0</td>\n",
       "      <td>0.0</td>\n",
       "      <td>1.0</td>\n",
       "      <td>0.0</td>\n",
       "      <td>0.0</td>\n",
       "      <td>0.0</td>\n",
       "      <td>1.0</td>\n",
       "      <td>0.0</td>\n",
       "    </tr>\n",
       "    <tr>\n",
       "      <th>1306</th>\n",
       "      <td>38.5</td>\n",
       "      <td>0</td>\n",
       "      <td>0</td>\n",
       "      <td>7.2500</td>\n",
       "      <td>0.0</td>\n",
       "      <td>0.0</td>\n",
       "      <td>1.0</td>\n",
       "      <td>0.0</td>\n",
       "      <td>0.0</td>\n",
       "      <td>1.0</td>\n",
       "      <td>0.0</td>\n",
       "      <td>0.0</td>\n",
       "      <td>1.0</td>\n",
       "    </tr>\n",
       "    <tr>\n",
       "      <th>1307</th>\n",
       "      <td>0.0</td>\n",
       "      <td>0</td>\n",
       "      <td>0</td>\n",
       "      <td>8.0500</td>\n",
       "      <td>0.0</td>\n",
       "      <td>0.0</td>\n",
       "      <td>1.0</td>\n",
       "      <td>0.0</td>\n",
       "      <td>0.0</td>\n",
       "      <td>1.0</td>\n",
       "      <td>0.0</td>\n",
       "      <td>0.0</td>\n",
       "      <td>1.0</td>\n",
       "    </tr>\n",
       "    <tr>\n",
       "      <th>1308</th>\n",
       "      <td>0.0</td>\n",
       "      <td>1</td>\n",
       "      <td>1</td>\n",
       "      <td>22.3583</td>\n",
       "      <td>0.0</td>\n",
       "      <td>0.0</td>\n",
       "      <td>1.0</td>\n",
       "      <td>1.0</td>\n",
       "      <td>0.0</td>\n",
       "      <td>0.0</td>\n",
       "      <td>0.0</td>\n",
       "      <td>0.0</td>\n",
       "      <td>1.0</td>\n",
       "    </tr>\n",
       "  </tbody>\n",
       "</table>\n",
       "<p>1309 rows × 13 columns</p>\n",
       "</div>"
      ],
      "text/plain": [
       "        年龄  兄弟姐妹/配偶的个数  父母/小孩个数        票价  1等舱  2等舱  3等舱  登船港口为空  登船为nan港  \\\n",
       "0     22.0           1        0    7.2500  0.0  0.0  1.0     0.0      0.0   \n",
       "1     38.0           1        0   71.2833  1.0  0.0  0.0     1.0      0.0   \n",
       "2     26.0           0        0    7.9250  0.0  0.0  1.0     0.0      0.0   \n",
       "3     35.0           1        0   53.1000  1.0  0.0  0.0     0.0      0.0   \n",
       "4     35.0           0        0    8.0500  0.0  0.0  1.0     0.0      0.0   \n",
       "...    ...         ...      ...       ...  ...  ...  ...     ...      ...   \n",
       "1304   0.0           0        0    8.0500  0.0  0.0  1.0     0.0      0.0   \n",
       "1305  39.0           0        0  108.9000  1.0  0.0  0.0     1.0      0.0   \n",
       "1306  38.5           0        0    7.2500  0.0  0.0  1.0     0.0      0.0   \n",
       "1307   0.0           0        0    8.0500  0.0  0.0  1.0     0.0      0.0   \n",
       "1308   0.0           1        1   22.3583  0.0  0.0  1.0     1.0      0.0   \n",
       "\n",
       "      登船为S港  登船为Q港   女性   男性  \n",
       "0       1.0    0.0  0.0  1.0  \n",
       "1       0.0    0.0  1.0  0.0  \n",
       "2       1.0    0.0  1.0  0.0  \n",
       "3       1.0    0.0  1.0  0.0  \n",
       "4       1.0    0.0  0.0  1.0  \n",
       "...     ...    ...  ...  ...  \n",
       "1304    1.0    0.0  0.0  1.0  \n",
       "1305    0.0    0.0  1.0  0.0  \n",
       "1306    1.0    0.0  0.0  1.0  \n",
       "1307    1.0    0.0  0.0  1.0  \n",
       "1308    0.0    0.0  0.0  1.0  \n",
       "\n",
       "[1309 rows x 13 columns]"
      ]
     },
     "execution_count": 32,
     "metadata": {},
     "output_type": "execute_result"
    }
   ],
   "source": [
    "X_data = pd.concat([x_data.reset_index(),concat_2],axis=1)\n",
    "X_data = X_data.drop(labels=[\"index\"],axis=1)\n",
    "X_data = X_data.fillna(0)\n",
    "# X_data = X_data[['年龄', '兄弟姐妹/配偶的个数', '父母/小孩个数', '票价', '1等舱', '2等舱', '3等舱', '登船港口为空',\n",
    "#        '登船为nan港', '登船为Q港', '登船为C港', '女性', '男性']]\n",
    "X_data"
   ]
  },
  {
   "cell_type": "code",
   "execution_count": null,
   "id": "b4aa453c",
   "metadata": {},
   "outputs": [],
   "source": []
  },
  {
   "cell_type": "markdown",
   "id": "f44208a2",
   "metadata": {},
   "source": [
    "### 3.2 画图查看 \t年龄 \t兄弟姐妹/配偶的个数 \t父母/小孩个数 \t票价  的分布情况，决定采用归一化或标准化"
   ]
  },
  {
   "cell_type": "code",
   "execution_count": 33,
   "id": "e5e8389f",
   "metadata": {},
   "outputs": [
    {
     "data": {
      "text/plain": [
       "Text(0, 0.5, 'age')"
      ]
     },
     "execution_count": 33,
     "metadata": {},
     "output_type": "execute_result"
    },
    {
     "data": {
      "image/png": "[encoded data removed]",
      "text/plain": [
       "<Figure size 640x480 with 1 Axes>"
      ]
     },
     "metadata": {},
     "output_type": "display_data"
    }
   ],
   "source": [
    "plt.scatter(range(titanic_data.shape[0]),titanic_data[\"年龄\"])\n",
    "\n",
    "plt.ylabel(\"age\")"
   ]
  },
  {
   "cell_type": "code",
   "execution_count": 34,
   "id": "8afecdaf",
   "metadata": {},
   "outputs": [
    {
     "data": {
      "text/plain": [
       "<matplotlib.axes._subplots.AxesSubplot at 0x7f13c8a79110>"
      ]
     },
     "execution_count": 34,
     "metadata": {},
     "output_type": "execute_result"
    },
    {
     "name": "stderr",
     "output_type": "stream",
     "text": [
      "/home/zhangmanman/anaconda3/envs/XgboostENV/lib/python3.7/site-packages/matplotlib/backends/backend_agg.py:214: RuntimeWarning: Glyph 24180 missing from current font.\n",
      "  font.set_text(s, 0.0, flags=flags)\n",
      "/home/zhangmanman/anaconda3/envs/XgboostENV/lib/python3.7/site-packages/matplotlib/backends/backend_agg.py:214: RuntimeWarning: Glyph 40836 missing from current font.\n",
      "  font.set_text(s, 0.0, flags=flags)\n",
      "/home/zhangmanman/anaconda3/envs/XgboostENV/lib/python3.7/site-packages/matplotlib/backends/backend_agg.py:183: RuntimeWarning: Glyph 24180 missing from current font.\n",
      "  font.set_text(s, 0, flags=flags)\n",
      "/home/zhangmanman/anaconda3/envs/XgboostENV/lib/python3.7/site-packages/matplotlib/backends/backend_agg.py:183: RuntimeWarning: Glyph 40836 missing from current font.\n",
      "  font.set_text(s, 0, flags=flags)\n"
     ]
    },
    {
     "data": {
      "image/png": "[encoded data removed]",
      "text/plain": [
       "<Figure size 640x480 with 1 Axes>"
      ]
     },
     "metadata": {},
     "output_type": "display_data"
    }
   ],
   "source": [
    "sns.kdeplot(titanic_data[\"年龄\"])"
   ]
  },
  {
   "cell_type": "code",
   "execution_count": 35,
   "id": "4db211c3",
   "metadata": {},
   "outputs": [
    {
     "data": {
      "text/plain": [
       "Text(0, 0.5, 'SibSp')"
      ]
     },
     "execution_count": 35,
     "metadata": {},
     "output_type": "execute_result"
    },
    {
     "data": {
      "image/png": "[encoded data removed]",
      "text/plain": [
       "<Figure size 640x480 with 1 Axes>"
      ]
     },
     "metadata": {},
     "output_type": "display_data"
    }
   ],
   "source": [
    "plt.scatter(range(titanic_data.shape[0]),titanic_data[\"兄弟姐妹/配偶的个数\"])\n",
    "plt.ylabel(\"SibSp\")"
   ]
  },
  {
   "cell_type": "code",
   "execution_count": 36,
   "id": "630f37cf",
   "metadata": {},
   "outputs": [
    {
     "data": {
      "text/plain": [
       "<matplotlib.axes._subplots.AxesSubplot at 0x7f13c89e4590>"
      ]
     },
     "execution_count": 36,
     "metadata": {},
     "output_type": "execute_result"
    },
    {
     "name": "stderr",
     "output_type": "stream",
     "text": [
      "/home/zhangmanman/anaconda3/envs/XgboostENV/lib/python3.7/site-packages/matplotlib/backends/backend_agg.py:214: RuntimeWarning: Glyph 20804 missing from current font.\n",
      "  font.set_text(s, 0.0, flags=flags)\n",
      "/home/zhangmanman/anaconda3/envs/XgboostENV/lib/python3.7/site-packages/matplotlib/backends/backend_agg.py:214: RuntimeWarning: Glyph 24351 missing from current font.\n",
      "  font.set_text(s, 0.0, flags=flags)\n",
      "/home/zhangmanman/anaconda3/envs/XgboostENV/lib/python3.7/site-packages/matplotlib/backends/backend_agg.py:214: RuntimeWarning: Glyph 22992 missing from current font.\n",
      "  font.set_text(s, 0.0, flags=flags)\n",
      "/home/zhangmanman/anaconda3/envs/XgboostENV/lib/python3.7/site-packages/matplotlib/backends/backend_agg.py:214: RuntimeWarning: Glyph 22969 missing from current font.\n",
      "  font.set_text(s, 0.0, flags=flags)\n",
      "/home/zhangmanman/anaconda3/envs/XgboostENV/lib/python3.7/site-packages/matplotlib/backends/backend_agg.py:214: RuntimeWarning: Glyph 37197 missing from current font.\n",
      "  font.set_text(s, 0.0, flags=flags)\n",
      "/home/zhangmanman/anaconda3/envs/XgboostENV/lib/python3.7/site-packages/matplotlib/backends/backend_agg.py:214: RuntimeWarning: Glyph 20598 missing from current font.\n",
      "  font.set_text(s, 0.0, flags=flags)\n",
      "/home/zhangmanman/anaconda3/envs/XgboostENV/lib/python3.7/site-packages/matplotlib/backends/backend_agg.py:214: RuntimeWarning: Glyph 30340 missing from current font.\n",
      "  font.set_text(s, 0.0, flags=flags)\n",
      "/home/zhangmanman/anaconda3/envs/XgboostENV/lib/python3.7/site-packages/matplotlib/backends/backend_agg.py:214: RuntimeWarning: Glyph 20010 missing from current font.\n",
      "  font.set_text(s, 0.0, flags=flags)\n",
      "/home/zhangmanman/anaconda3/envs/XgboostENV/lib/python3.7/site-packages/matplotlib/backends/backend_agg.py:214: RuntimeWarning: Glyph 25968 missing from current font.\n",
      "  font.set_text(s, 0.0, flags=flags)\n",
      "/home/zhangmanman/anaconda3/envs/XgboostENV/lib/python3.7/site-packages/matplotlib/backends/backend_agg.py:183: RuntimeWarning: Glyph 20804 missing from current font.\n",
      "  font.set_text(s, 0, flags=flags)\n",
      "/home/zhangmanman/anaconda3/envs/XgboostENV/lib/python3.7/site-packages/matplotlib/backends/backend_agg.py:183: RuntimeWarning: Glyph 24351 missing from current font.\n",
      "  font.set_text(s, 0, flags=flags)\n",
      "/home/zhangmanman/anaconda3/envs/XgboostENV/lib/python3.7/site-packages/matplotlib/backends/backend_agg.py:183: RuntimeWarning: Glyph 22992 missing from current font.\n",
      "  font.set_text(s, 0, flags=flags)\n",
      "/home/zhangmanman/anaconda3/envs/XgboostENV/lib/python3.7/site-packages/matplotlib/backends/backend_agg.py:183: RuntimeWarning: Glyph 22969 missing from current font.\n",
      "  font.set_text(s, 0, flags=flags)\n",
      "/home/zhangmanman/anaconda3/envs/XgboostENV/lib/python3.7/site-packages/matplotlib/backends/backend_agg.py:183: RuntimeWarning: Glyph 37197 missing from current font.\n",
      "  font.set_text(s, 0, flags=flags)\n",
      "/home/zhangmanman/anaconda3/envs/XgboostENV/lib/python3.7/site-packages/matplotlib/backends/backend_agg.py:183: RuntimeWarning: Glyph 20598 missing from current font.\n",
      "  font.set_text(s, 0, flags=flags)\n",
      "/home/zhangmanman/anaconda3/envs/XgboostENV/lib/python3.7/site-packages/matplotlib/backends/backend_agg.py:183: RuntimeWarning: Glyph 30340 missing from current font.\n",
      "  font.set_text(s, 0, flags=flags)\n",
      "/home/zhangmanman/anaconda3/envs/XgboostENV/lib/python3.7/site-packages/matplotlib/backends/backend_agg.py:183: RuntimeWarning: Glyph 20010 missing from current font.\n",
      "  font.set_text(s, 0, flags=flags)\n",
      "/home/zhangmanman/anaconda3/envs/XgboostENV/lib/python3.7/site-packages/matplotlib/backends/backend_agg.py:183: RuntimeWarning: Glyph 25968 missing from current font.\n",
      "  font.set_text(s, 0, flags=flags)\n"
     ]
    },
    {
     "data": {
      "image/png": "[encoded data removed]",
      "text/plain": [
       "<Figure size 640x480 with 1 Axes>"
      ]
     },
     "metadata": {},
     "output_type": "display_data"
    }
   ],
   "source": [
    "sns.kdeplot(titanic_data[\"兄弟姐妹/配偶的个数\"])"
   ]
  },
  {
   "cell_type": "code",
   "execution_count": 37,
   "id": "efcb9e21",
   "metadata": {},
   "outputs": [
    {
     "data": {
      "text/plain": [
       "Text(0, 0.5, 'Parch')"
      ]
     },
     "execution_count": 37,
     "metadata": {},
     "output_type": "execute_result"
    },
    {
     "data": {
      "image/png": "[encoded data removed]",
      "text/plain": [
       "<Figure size 640x480 with 1 Axes>"
      ]
     },
     "metadata": {},
     "output_type": "display_data"
    }
   ],
   "source": [
    "plt.scatter(range(titanic_data.shape[0]),titanic_data[\"父母/小孩个数\"])\n",
    "plt.ylabel(\"Parch\")"
   ]
  },
  {
   "cell_type": "code",
   "execution_count": 38,
   "id": "ec04d46f",
   "metadata": {},
   "outputs": [
    {
     "data": {
      "text/plain": [
       "<matplotlib.axes._subplots.AxesSubplot at 0x7f13c6c52290>"
      ]
     },
     "execution_count": 38,
     "metadata": {},
     "output_type": "execute_result"
    },
    {
     "name": "stderr",
     "output_type": "stream",
     "text": [
      "/home/zhangmanman/anaconda3/envs/XgboostENV/lib/python3.7/site-packages/matplotlib/backends/backend_agg.py:214: RuntimeWarning: Glyph 29238 missing from current font.\n",
      "  font.set_text(s, 0.0, flags=flags)\n",
      "/home/zhangmanman/anaconda3/envs/XgboostENV/lib/python3.7/site-packages/matplotlib/backends/backend_agg.py:214: RuntimeWarning: Glyph 27597 missing from current font.\n",
      "  font.set_text(s, 0.0, flags=flags)\n",
      "/home/zhangmanman/anaconda3/envs/XgboostENV/lib/python3.7/site-packages/matplotlib/backends/backend_agg.py:214: RuntimeWarning: Glyph 23567 missing from current font.\n",
      "  font.set_text(s, 0.0, flags=flags)\n",
      "/home/zhangmanman/anaconda3/envs/XgboostENV/lib/python3.7/site-packages/matplotlib/backends/backend_agg.py:214: RuntimeWarning: Glyph 23401 missing from current font.\n",
      "  font.set_text(s, 0.0, flags=flags)\n",
      "/home/zhangmanman/anaconda3/envs/XgboostENV/lib/python3.7/site-packages/matplotlib/backends/backend_agg.py:214: RuntimeWarning: Glyph 20010 missing from current font.\n",
      "  font.set_text(s, 0.0, flags=flags)\n",
      "/home/zhangmanman/anaconda3/envs/XgboostENV/lib/python3.7/site-packages/matplotlib/backends/backend_agg.py:214: RuntimeWarning: Glyph 25968 missing from current font.\n",
      "  font.set_text(s, 0.0, flags=flags)\n",
      "/home/zhangmanman/anaconda3/envs/XgboostENV/lib/python3.7/site-packages/matplotlib/backends/backend_agg.py:183: RuntimeWarning: Glyph 29238 missing from current font.\n",
      "  font.set_text(s, 0, flags=flags)\n",
      "/home/zhangmanman/anaconda3/envs/XgboostENV/lib/python3.7/site-packages/matplotlib/backends/backend_agg.py:183: RuntimeWarning: Glyph 27597 missing from current font.\n",
      "  font.set_text(s, 0, flags=flags)\n",
      "/home/zhangmanman/anaconda3/envs/XgboostENV/lib/python3.7/site-packages/matplotlib/backends/backend_agg.py:183: RuntimeWarning: Glyph 23567 missing from current font.\n",
      "  font.set_text(s, 0, flags=flags)\n",
      "/home/zhangmanman/anaconda3/envs/XgboostENV/lib/python3.7/site-packages/matplotlib/backends/backend_agg.py:183: RuntimeWarning: Glyph 23401 missing from current font.\n",
      "  font.set_text(s, 0, flags=flags)\n",
      "/home/zhangmanman/anaconda3/envs/XgboostENV/lib/python3.7/site-packages/matplotlib/backends/backend_agg.py:183: RuntimeWarning: Glyph 20010 missing from current font.\n",
      "  font.set_text(s, 0, flags=flags)\n",
      "/home/zhangmanman/anaconda3/envs/XgboostENV/lib/python3.7/site-packages/matplotlib/backends/backend_agg.py:183: RuntimeWarning: Glyph 25968 missing from current font.\n",
      "  font.set_text(s, 0, flags=flags)\n"
     ]
    },
    {
     "data": {
      "image/png": "[encoded data removed]",
      "text/plain": [
       "<Figure size 640x480 with 1 Axes>"
      ]
     },
     "metadata": {},
     "output_type": "display_data"
    }
   ],
   "source": [
    "sns.kdeplot(titanic_data[\"父母/小孩个数\"])"
   ]
  },
  {
   "cell_type": "code",
   "execution_count": 39,
   "id": "1eca97c7",
   "metadata": {},
   "outputs": [
    {
     "data": {
      "text/plain": [
       "Text(0, 0.5, 'Fare')"
      ]
     },
     "execution_count": 39,
     "metadata": {},
     "output_type": "execute_result"
    },
    {
     "data": {
      "image/png": "[encoded data removed]",
      "text/plain": [
       "<Figure size 640x480 with 1 Axes>"
      ]
     },
     "metadata": {},
     "output_type": "display_data"
    }
   ],
   "source": [
    "plt.scatter(range(titanic_data.shape[0]),titanic_data[\"票价\"])\n",
    "plt.ylabel(\"Fare\")"
   ]
  },
  {
   "cell_type": "code",
   "execution_count": 40,
   "id": "38af39db",
   "metadata": {},
   "outputs": [
    {
     "data": {
      "text/plain": [
       "<matplotlib.axes._subplots.AxesSubplot at 0x7f13c8ff2110>"
      ]
     },
     "execution_count": 40,
     "metadata": {},
     "output_type": "execute_result"
    },
    {
     "name": "stderr",
     "output_type": "stream",
     "text": [
      "/home/zhangmanman/anaconda3/envs/XgboostENV/lib/python3.7/site-packages/matplotlib/backends/backend_agg.py:214: RuntimeWarning: Glyph 31080 missing from current font.\n",
      "  font.set_text(s, 0.0, flags=flags)\n",
      "/home/zhangmanman/anaconda3/envs/XgboostENV/lib/python3.7/site-packages/matplotlib/backends/backend_agg.py:214: RuntimeWarning: Glyph 20215 missing from current font.\n",
      "  font.set_text(s, 0.0, flags=flags)\n",
      "/home/zhangmanman/anaconda3/envs/XgboostENV/lib/python3.7/site-packages/matplotlib/backends/backend_agg.py:183: RuntimeWarning: Glyph 31080 missing from current font.\n",
      "  font.set_text(s, 0, flags=flags)\n",
      "/home/zhangmanman/anaconda3/envs/XgboostENV/lib/python3.7/site-packages/matplotlib/backends/backend_agg.py:183: RuntimeWarning: Glyph 20215 missing from current font.\n",
      "  font.set_text(s, 0, flags=flags)\n"
     ]
    },
    {
     "data": {
      "image/png": "[encoded data removed]",
      "text/plain": [
       "<Figure size 640x480 with 1 Axes>"
      ]
     },
     "metadata": {},
     "output_type": "display_data"
    }
   ],
   "source": [
    "sns.kdeplot(titanic_data[\"票价\"])"
   ]
  },
  {
   "cell_type": "markdown",
   "id": "5e71f8d5",
   "metadata": {},
   "source": [
    "### 3.3 观察以上图，票价一栏存在有极端值的情况，所以归一化不合适，更适合使用标准化"
   ]
  },
  {
   "cell_type": "code",
   "execution_count": 41,
   "id": "a5a41ed9",
   "metadata": {},
   "outputs": [],
   "source": [
    "from sklearn.preprocessing import StandardScaler\n",
    "\n",
    "sc = StandardScaler()\n",
    "sc.fit(X_data)\n",
    "X = sc.transform(X_data)\n",
    "Y = np.array(titanic_data[\"是否生还\"])"
   ]
  },
  {
   "cell_type": "code",
   "execution_count": 42,
   "id": "9c413aab",
   "metadata": {},
   "outputs": [
    {
     "data": {
      "text/plain": [
       "(891, 13)"
      ]
     },
     "execution_count": 42,
     "metadata": {},
     "output_type": "execute_result"
    }
   ],
   "source": [
    "from sklearn.model_selection import train_test_split\n",
    "\n",
    "train_X,test_x,train_Y,test_y = train_test_split(X,Y,test_size=0.3193,random_state=42)\n",
    "train_X.shape"
   ]
  },
  {
   "cell_type": "markdown",
   "id": "0930d0ad",
   "metadata": {},
   "source": [
    "### 4.1 尝试建立模型并调节参数"
   ]
  },
  {
   "cell_type": "markdown",
   "id": "9952fcf2",
   "metadata": {},
   "source": [
    "#### 4.1.1 逻辑回归测试准确性"
   ]
  },
  {
   "cell_type": "code",
   "execution_count": 43,
   "id": "bba4b496",
   "metadata": {},
   "outputs": [
    {
     "name": "stderr",
     "output_type": "stream",
     "text": [
      "/home/zhangmanman/anaconda3/envs/XgboostENV/lib/python3.7/site-packages/sklearn/linear_model/_logistic.py:1479: UserWarning: l1_ratio parameter is only used when penalty is 'elasticnet'. Got (penalty=l2)\n",
      "  \"(penalty={})\".format(self.penalty)\n"
     ]
    },
    {
     "data": {
      "text/plain": [
       "0.861244019138756"
      ]
     },
     "execution_count": 43,
     "metadata": {},
     "output_type": "execute_result"
    }
   ],
   "source": [
    "from sklearn.linear_model import LogisticRegression\n",
    "\n",
    "clf = LogisticRegression(max_iter=100, # 最大迭代次数\n",
    "                            random_state=18,#随机数种子\n",
    "                         \n",
    "                            penalty=\"l2\", #正则化项\n",
    "                            solver=\"lbfgs\", # 求解器类型 \n",
    "                            dual=False, # 当模型数据行比较小，数据列又比较多的时候，可以用这个参数来优化结果\n",
    "                            tol=1e-4, # 模型损失值小于某一个精度的时候停止迭代\n",
    "                            C=1.0, #经验风险和结构风险在损失函数中的权重\n",
    "                            fit_intercept=True,#线性方程中是否包含截距项\n",
    "                            intercept_scaling=1,\n",
    "                            class_weight=None, #各类样本在损失值计算的权重 输入结构{0:1,1:3}代表1类样本的每一条数据在计算损失函数的时候都会*3 , 当参数为balanced的时则自动将这个比例调整为真实样本比例的反比，以达到平衡效果\n",
    "        \n",
    "                            multi_class=\"auto\", # 选择多分类策略，mvm（多模型合并）还是ovr（交叉熵函数实现多分类）\n",
    "                            verbose=0,\n",
    "                            warm_start=False,# 是否使用上次训练结果作为本次初始运行参数\n",
    "                            n_jobs= None, # 使用多少核心\n",
    "                            l1_ratio=True #当采用弹性网正则化时，l1正则权重项，就是损失函数中的p\n",
    "                             )\n",
    "clf.fit(train_X,train_Y)\n",
    "clf.score(test_x,test_y)"
   ]
  },
  {
   "cell_type": "code",
   "execution_count": 44,
   "id": "4e9c41da",
   "metadata": {},
   "outputs": [
    {
     "data": {
      "text/plain": [
       "0.861244019138756"
      ]
     },
     "execution_count": 44,
     "metadata": {},
     "output_type": "execute_result"
    }
   ],
   "source": [
    "from sklearn.metrics import accuracy_score\n",
    "test_predict =  clf.predict(test_x)\n",
    "accuracy_score(test_y,test_predict)"
   ]
  },
  {
   "cell_type": "markdown",
   "id": "2a595fc5",
   "metadata": {},
   "source": [
    "#### 4.1.2 Xgboosting 测试准确性"
   ]
  },
  {
   "cell_type": "code",
   "execution_count": 45,
   "id": "4e15e34a",
   "metadata": {},
   "outputs": [
    {
     "name": "stdout",
     "output_type": "stream",
     "text": [
      "[13:30:00] WARNING: /croot/xgboost-split_1675119646044/work/src/learner.cc:576: \n",
      "Parameters: { \"num_round\", \"silent\" } might not be used.\n",
      "\n",
      "  This could be a false alarm, with some parameters getting used by language bindings but\n",
      "  then being mistakenly passed down to XGBoost core, or some parameter actually being used\n",
      "  but getting flagged wrongly here. Please open an issue if you find any such cases.\n",
      "\n",
      "\n"
     ]
    },
    {
     "name": "stderr",
     "output_type": "stream",
     "text": [
      "/home/zhangmanman/anaconda3/envs/XgboostENV/lib/python3.7/site-packages/xgboost/sklearn.py:1224: UserWarning: The use of label encoder in XGBClassifier is deprecated and will be removed in a future release. To remove this warning, do the following: 1) Pass option use_label_encoder=False when constructing XGBClassifier object; and 2) Encode your labels (y) as integers starting with 0, i.e. 0, 1, 2, ..., [num_class - 1].\n",
      "  warnings.warn(label_encoder_deprecation_msg, UserWarning)\n",
      "/home/zhangmanman/anaconda3/envs/XgboostENV/lib/python3.7/site-packages/sklearn/preprocessing/_label.py:98: DataConversionWarning: A column-vector y was passed when a 1d array was expected. Please change the shape of y to (n_samples, ), for example using ravel().\n",
      "  y = column_or_1d(y, warn=True)\n",
      "/home/zhangmanman/anaconda3/envs/XgboostENV/lib/python3.7/site-packages/sklearn/preprocessing/_label.py:133: DataConversionWarning: A column-vector y was passed when a 1d array was expected. Please change the shape of y to (n_samples, ), for example using ravel().\n",
      "  y = column_or_1d(y, warn=True)\n"
     ]
    },
    {
     "data": {
      "text/plain": [
       "0.8803827751196173"
      ]
     },
     "execution_count": 45,
     "metadata": {},
     "output_type": "execute_result"
    }
   ],
   "source": [
    "import xgboost as xgb\n",
    "\n",
    "xgb1 = xgb.XGBClassifier( learning_rate =0.1\n",
    "               , n_estimators=9 #即基评估器的数量。这个参数对随机森林模型的精确性影响是单调的，n_estimators越 大，模型的效果往往越好。但是相应的，任何模型都有决策边  n_estimators达到一定的程度之后，随机森林的 精确性往往不在上升或开始波动，并且，n_estimators越大，需要的计算量和内存也越大，训练的时间也会越来越 长。对于这个参数，我们是渴望在训练难度和模型效果之间取得平衡。\n",
    "               , max_depth=12 #构建树的深度，越大越容易过拟合\n",
    "               , min_child_weight=0.0001 #孩子节点中最小的样本权重和。如果一个叶子节点的样本权重和小于min_child_weight则拆分过程结束\n",
    "               , num_class = 1#类别数，与 multisoftmax 并用\n",
    "               , gamma=0 #损失下降多少才进行分裂， 控制叶子节点的个数\n",
    "               , subsample=0.8 #随机采样训练样本\n",
    "               , colsample_bytree=0.97 #生成树时进行的列采样\n",
    "               , objective= 'binary:logistic' # 损失函数，默认为\"reg:linear\"。 {'binary:logistic'}是二分类的问题，{'multi:softmax',}是多分类的问题 这个是优化目标，必须得有，因为xgboost里面有求一阶导数和二阶导数，其实就是这个。\n",
    "               , nthread=4 #cpu 线程数\n",
    "               , scale_pos_weight=1.0 #负样本总数/正样本总数 。若训练负样本总数是500 ，正样本总数100，那么设置 scale_pos_weigh为 5\n",
    "#                , lambda_weight = 2 # 正则化参数\n",
    "               , eta = 0.001 # 如同学习率\n",
    "               , num_round = 0.001\n",
    "#               \n",
    "#                , metrics='auc'\n",
    "               , eval_metric = \"auc\"\n",
    "                , silent = 0 # ,设置成1则没有运行信息输出，最好是设置为0.\n",
    "               , seed=30 #这个随机指定一个常数，防止每次结果不一致\n",
    "                )\n",
    "train_Y = train_Y.reshape((train_Y.shape[0],1))\n",
    "xgb1.fit(train_X,train_Y)\n",
    "xgb1.score(test_x,test_y)\n"
   ]
  },
  {
   "cell_type": "code",
   "execution_count": 47,
   "id": "5f2e273d",
   "metadata": {},
   "outputs": [
    {
     "data": {
      "text/plain": [
       "array([0, 0, 0, 0, 1, 1, 1, 1, 1, 0, 0, 0, 0, 1, 0, 1, 1, 0, 0, 0, 0, 0,\n",
       "       0, 0, 0, 1, 0, 0, 0, 1, 0, 1, 1, 0, 0, 0, 1, 0, 0, 1, 1, 1, 1, 0,\n",
       "       0, 0, 0, 0, 1, 1, 1, 1, 0, 1, 1, 0, 0, 1, 0, 0, 1, 0, 1, 0, 1, 0,\n",
       "       1, 1, 0, 0, 0, 0, 0, 0, 0, 0, 1, 0, 1, 0, 1, 0, 0, 0, 0, 0, 0, 0,\n",
       "       1, 1, 1, 0, 0, 1, 0, 1, 0, 0, 1, 1, 0, 0, 0, 1, 1, 0, 1, 0, 0, 1,\n",
       "       0, 1, 1, 0, 1, 0, 1, 1, 0, 0, 0, 1, 0, 0, 0, 1, 1, 0, 0, 1, 0, 1,\n",
       "       0, 1, 0, 0, 1, 0, 0, 0, 0, 1, 0, 0, 0, 1, 0, 1, 0, 0, 0, 0, 0, 1,\n",
       "       1, 1, 0, 1, 0, 0, 0, 0, 0, 1, 0, 0, 0, 1, 0, 0, 0, 0, 0, 1, 0, 1,\n",
       "       0, 0, 0, 0, 0, 0, 1, 1, 1, 0, 0, 0, 1, 0, 0, 1, 0, 0, 0, 0, 1, 1,\n",
       "       0, 0, 0, 1, 1, 0, 0, 0, 0, 0, 0, 0, 0, 0, 0, 0, 0, 0, 1, 1, 0, 0,\n",
       "       0, 0, 0, 1, 0, 1, 0, 0, 0, 0, 1, 0, 0, 1, 1, 0, 1, 0, 1, 0, 0, 0,\n",
       "       0, 0, 0, 1, 0, 0, 1, 1, 0, 1, 0, 1, 1, 1, 0, 1, 1, 1, 1, 1, 1, 0,\n",
       "       1, 1, 0, 1, 1, 0, 0, 0, 1, 0, 0, 0, 0, 0, 0, 1, 0, 0, 0, 0, 0, 0,\n",
       "       0, 0, 1, 1, 0, 0, 0, 0, 1, 0, 1, 1, 0, 0, 1, 1, 1, 0, 0, 1, 0, 1,\n",
       "       0, 0, 0, 0, 0, 1, 0, 0, 1, 0, 0, 1, 1, 1, 0, 1, 1, 1, 0, 1, 1, 0,\n",
       "       1, 0, 0, 0, 0, 0, 1, 0, 0, 1, 0, 0, 0, 0, 0, 0, 0, 0, 0, 0, 0, 0,\n",
       "       0, 0, 1, 1, 1, 1, 0, 0, 0, 0, 0, 0, 1, 0, 0, 0, 0, 0, 0, 0, 0, 0,\n",
       "       0, 0, 1, 1, 0, 0, 0, 0, 0, 0, 0, 1, 1, 0, 1, 0, 0, 1, 1, 1, 0, 1,\n",
       "       0, 0, 1, 0, 0, 0, 0, 0, 0, 1, 0, 0, 1, 1, 1, 0, 1, 0, 0, 1, 1, 1])"
      ]
     },
     "execution_count": 47,
     "metadata": {},
     "output_type": "execute_result"
    }
   ],
   "source": [
    "xgb1.predict(test_x)"
   ]
  },
  {
   "cell_type": "markdown",
   "id": "444d1c08",
   "metadata": {},
   "source": [
    "#### 4.2 数据不做标准化再测试准确率\n",
    "#### 4.2.1 测试Xgboost的准去率"
   ]
  },
  {
   "cell_type": "code",
   "execution_count": null,
   "id": "2066b519",
   "metadata": {},
   "outputs": [],
   "source": [
    "train_X,test_x,train_Y,test_y = train_test_split(X_data,Y,test_size=0.3193,random_state=42)\n",
    "import xgboost as xgb\n",
    "\n",
    "xgb1 = xgb.XGBClassifier( learning_rate =0.1\n",
    "               , n_estimators=9 #即基评估器的数量。这个参数对随机森林模型的精确性影响是单调的，n_estimators越 大，模型的效果往往越好。但是相应的，任何模型都有决策边  n_estimators达到一定的程度之后，随机森林的 精确性往往不在上升或开始波动，并且，n_estimators越大，需要的计算量和内存也越大，训练的时间也会越来越 长。对于这个参数，我们是渴望在训练难度和模型效果之间取得平衡。\n",
    "               , max_depth=12 #构建树的深度，越大越容易过拟合\n",
    "               , min_child_weight=0.0001 #孩子节点中最小的样本权重和。如果一个叶子节点的样本权重和小于min_child_weight则拆分过程结束\n",
    "               , num_class = 1#类别数，与 multisoftmax 并用\n",
    "               , gamma=0 #损失下降多少才进行分裂， 控制叶子节点的个数\n",
    "               , subsample=0.8 #随机采样训练样本\n",
    "               , colsample_bytree=0.97 #生成树时进行的列采样\n",
    "               , objective= 'binary:logistic' # 损失函数，默认为\"reg:linear\"。 {'binary:logistic'}是二分类的问题，{'multi:softmax',}是多分类的问题 这个是优化目标，必须得有，因为xgboost里面有求一阶导数和二阶导数，其实就是这个。\n",
    "               , nthread=4 #cpu 线程数\n",
    "               , scale_pos_weight=1.0 #负样本总数/正样本总数 。若训练负样本总数是500 ，正样本总数100，那么设置 scale_pos_weigh为 5\n",
    "#                , lambda_weight = 2 # 正则化参数\n",
    "               , eta = 0.001 # 如同学习率\n",
    "               , num_round = 0.001\n",
    "#               \n",
    "#                , metrics='auc'\n",
    "               , eval_metric = \"auc\"\n",
    "                , silent = 0 # ,设置成1则没有运行信息输出，最好是设置为0.\n",
    "               , seed=30 #这个随机指定一个常数，防止每次结果不一致\n",
    "                )\n",
    "train_Y = train_Y.reshape((train_Y.shape[0],1))\n",
    "xgb1.fit(train_X,train_Y)\n",
    "xgb1.score(test_x,test_y)"
   ]
  },
  {
   "cell_type": "markdown",
   "id": "e80433d1",
   "metadata": {},
   "source": [
    "##### 4.2.2 逻辑回归不做标椎化的预测准确率"
   ]
  },
  {
   "cell_type": "code",
   "execution_count": null,
   "id": "9b683ced",
   "metadata": {},
   "outputs": [],
   "source": [
    "from sklearn.linear_model import LogisticRegression\n",
    "\n",
    "clf = LogisticRegression(max_iter=100, # 最大迭代次数\n",
    "                            random_state=18,#随机数种子\n",
    "                         \n",
    "                            penalty=\"l2\", #正则化项\n",
    "                            solver=\"lbfgs\", # 求解器类型 \n",
    "                            dual=False, # 当模型数据行比较小，数据列又比较多的时候，可以用这个参数来优化结果\n",
    "                            tol=1e-4, # 模型损失值小于某一个精度的时候停止迭代\n",
    "                            C=1.0, #经验风险和结构风险在损失函数中的权重\n",
    "                            fit_intercept=True,#线性方程中是否包含截距项\n",
    "                            intercept_scaling=1,\n",
    "                            class_weight=None, #各类样本在损失值计算的权重 输入结构{0:1,1:3}代表1类样本的每一条数据在计算损失函数的时候都会*3 , 当参数为balanced的时则自动将这个比例调整为真实样本比例的反比，以达到平衡效果\n",
    "        \n",
    "                            multi_class=\"auto\", # 选择多分类策略，mvm（多模型合并）还是ovr（交叉熵函数实现多分类）\n",
    "                            verbose=0,\n",
    "                            warm_start=False,# 是否使用上次训练结果作为本次初始运行参数\n",
    "                            n_jobs= None, # 使用多少核心\n",
    "                            l1_ratio=True #当采用弹性网正则化时，l1正则权重项，就是损失函数中的p\n",
    "                             )\n",
    "clf.fit(train_X,train_Y)\n",
    "clf.score(test_x,test_y)"
   ]
  },
  {
   "cell_type": "markdown",
   "id": "c87b4484",
   "metadata": {},
   "source": [
    "####  以上结果显示,即便不做标准化,预测结果并没有显著差距"
   ]
  },
  {
   "cell_type": "markdown",
   "id": "ec1a4e25",
   "metadata": {},
   "source": [
    "#### 4.3 增加特征再尝试,将是否有客舱号作为特征逻辑回归不做归一化的预测准确率"
   ]
  },
  {
   "cell_type": "code",
   "execution_count": 48,
   "id": "34da9976",
   "metadata": {},
   "outputs": [
    {
     "data": {
      "text/plain": [
       "[False, True]"
      ]
     },
     "execution_count": 48,
     "metadata": {},
     "output_type": "execute_result"
    }
   ],
   "source": [
    "Cabin_data = pd.isna(titanic_data[\"客舱号\"])\n",
    "Cabin_elements = list(set(Cabin_data))\n",
    "Cabin_elements"
   ]
  },
  {
   "cell_type": "code",
   "execution_count": 49,
   "id": "46036313",
   "metadata": {},
   "outputs": [
    {
     "data": {
      "text/plain": [
       "array([[0., 0.],\n",
       "       [0., 0.],\n",
       "       [0., 0.],\n",
       "       ...,\n",
       "       [0., 0.],\n",
       "       [0., 0.],\n",
       "       [0., 0.]])"
      ]
     },
     "execution_count": 49,
     "metadata": {},
     "output_type": "execute_result"
    }
   ],
   "source": [
    "one_hot_for_Cabin = np.zeros((Cabin_data.size,len(Cabin_elements)))\n",
    "one_hot_for_Cabin"
   ]
  },
  {
   "cell_type": "code",
   "execution_count": 50,
   "id": "57f55c87",
   "metadata": {},
   "outputs": [
    {
     "data": {
      "text/plain": [
       "array([[0., 1.],\n",
       "       [1., 0.],\n",
       "       [0., 1.],\n",
       "       ...,\n",
       "       [0., 1.],\n",
       "       [0., 1.],\n",
       "       [0., 1.]])"
      ]
     },
     "execution_count": 50,
     "metadata": {},
     "output_type": "execute_result"
    }
   ],
   "source": [
    "for m,Cabin in enumerate(Cabin_data):\n",
    "    if  Cabin == Cabin_elements[0]:\n",
    "        one_hot_for_Cabin[m][0]=1\n",
    "    if  Cabin == Cabin_elements[1]:\n",
    "        one_hot_for_Cabin[m][1]=1\n",
    "one_hot_for_Cabin"
   ]
  },
  {
   "cell_type": "code",
   "execution_count": 51,
   "id": "30d33b18",
   "metadata": {},
   "outputs": [
    {
     "data": {
      "text/html": [
       "<div>\n",
       "<style scoped>\n",
       "    .dataframe tbody tr th:only-of-type {\n",
       "        vertical-align: middle;\n",
       "    }\n",
       "\n",
       "    .dataframe tbody tr th {\n",
       "        vertical-align: top;\n",
       "    }\n",
       "\n",
       "    .dataframe thead th {\n",
       "        text-align: right;\n",
       "    }\n",
       "</style>\n",
       "<table border=\"1\" class=\"dataframe\">\n",
       "  <thead>\n",
       "    <tr style=\"text-align: right;\">\n",
       "      <th></th>\n",
       "      <th>有客舱好</th>\n",
       "      <th>没有客舱号</th>\n",
       "    </tr>\n",
       "  </thead>\n",
       "  <tbody>\n",
       "    <tr>\n",
       "      <th>0</th>\n",
       "      <td>0.0</td>\n",
       "      <td>1.0</td>\n",
       "    </tr>\n",
       "    <tr>\n",
       "      <th>1</th>\n",
       "      <td>1.0</td>\n",
       "      <td>0.0</td>\n",
       "    </tr>\n",
       "    <tr>\n",
       "      <th>2</th>\n",
       "      <td>0.0</td>\n",
       "      <td>1.0</td>\n",
       "    </tr>\n",
       "    <tr>\n",
       "      <th>3</th>\n",
       "      <td>1.0</td>\n",
       "      <td>0.0</td>\n",
       "    </tr>\n",
       "    <tr>\n",
       "      <th>4</th>\n",
       "      <td>0.0</td>\n",
       "      <td>1.0</td>\n",
       "    </tr>\n",
       "    <tr>\n",
       "      <th>...</th>\n",
       "      <td>...</td>\n",
       "      <td>...</td>\n",
       "    </tr>\n",
       "    <tr>\n",
       "      <th>1304</th>\n",
       "      <td>0.0</td>\n",
       "      <td>1.0</td>\n",
       "    </tr>\n",
       "    <tr>\n",
       "      <th>1305</th>\n",
       "      <td>1.0</td>\n",
       "      <td>0.0</td>\n",
       "    </tr>\n",
       "    <tr>\n",
       "      <th>1306</th>\n",
       "      <td>0.0</td>\n",
       "      <td>1.0</td>\n",
       "    </tr>\n",
       "    <tr>\n",
       "      <th>1307</th>\n",
       "      <td>0.0</td>\n",
       "      <td>1.0</td>\n",
       "    </tr>\n",
       "    <tr>\n",
       "      <th>1308</th>\n",
       "      <td>0.0</td>\n",
       "      <td>1.0</td>\n",
       "    </tr>\n",
       "  </tbody>\n",
       "</table>\n",
       "<p>1309 rows × 2 columns</p>\n",
       "</div>"
      ],
      "text/plain": [
       "      有客舱好  没有客舱号\n",
       "0      0.0    1.0\n",
       "1      1.0    0.0\n",
       "2      0.0    1.0\n",
       "3      1.0    0.0\n",
       "4      0.0    1.0\n",
       "...    ...    ...\n",
       "1304   0.0    1.0\n",
       "1305   1.0    0.0\n",
       "1306   0.0    1.0\n",
       "1307   0.0    1.0\n",
       "1308   0.0    1.0\n",
       "\n",
       "[1309 rows x 2 columns]"
      ]
     },
     "execution_count": 51,
     "metadata": {},
     "output_type": "execute_result"
    }
   ],
   "source": [
    "OneHotCabin = pd.DataFrame(one_hot_for_Cabin,columns=[\"有客舱好\",\"没有客舱号\"])\n",
    "OneHotCabin"
   ]
  },
  {
   "cell_type": "markdown",
   "id": "1dc62fb9",
   "metadata": {},
   "source": [
    "##### 4.3.1 合并进特征表X当中"
   ]
  },
  {
   "cell_type": "code",
   "execution_count": 52,
   "id": "2f752935",
   "metadata": {},
   "outputs": [
    {
     "data": {
      "text/html": [
       "<div>\n",
       "<style scoped>\n",
       "    .dataframe tbody tr th:only-of-type {\n",
       "        vertical-align: middle;\n",
       "    }\n",
       "\n",
       "    .dataframe tbody tr th {\n",
       "        vertical-align: top;\n",
       "    }\n",
       "\n",
       "    .dataframe thead th {\n",
       "        text-align: right;\n",
       "    }\n",
       "</style>\n",
       "<table border=\"1\" class=\"dataframe\">\n",
       "  <thead>\n",
       "    <tr style=\"text-align: right;\">\n",
       "      <th></th>\n",
       "      <th>年龄</th>\n",
       "      <th>兄弟姐妹/配偶的个数</th>\n",
       "      <th>父母/小孩个数</th>\n",
       "      <th>票价</th>\n",
       "      <th>1等舱</th>\n",
       "      <th>2等舱</th>\n",
       "      <th>3等舱</th>\n",
       "      <th>登船港口为空</th>\n",
       "      <th>登船为nan港</th>\n",
       "      <th>登船为S港</th>\n",
       "      <th>登船为Q港</th>\n",
       "      <th>女性</th>\n",
       "      <th>男性</th>\n",
       "      <th>有客舱好</th>\n",
       "      <th>没有客舱号</th>\n",
       "    </tr>\n",
       "  </thead>\n",
       "  <tbody>\n",
       "    <tr>\n",
       "      <th>0</th>\n",
       "      <td>22.0</td>\n",
       "      <td>1</td>\n",
       "      <td>0</td>\n",
       "      <td>7.2500</td>\n",
       "      <td>0.0</td>\n",
       "      <td>0.0</td>\n",
       "      <td>1.0</td>\n",
       "      <td>0.0</td>\n",
       "      <td>0.0</td>\n",
       "      <td>1.0</td>\n",
       "      <td>0.0</td>\n",
       "      <td>0.0</td>\n",
       "      <td>1.0</td>\n",
       "      <td>0.0</td>\n",
       "      <td>1.0</td>\n",
       "    </tr>\n",
       "    <tr>\n",
       "      <th>1</th>\n",
       "      <td>38.0</td>\n",
       "      <td>1</td>\n",
       "      <td>0</td>\n",
       "      <td>71.2833</td>\n",
       "      <td>1.0</td>\n",
       "      <td>0.0</td>\n",
       "      <td>0.0</td>\n",
       "      <td>1.0</td>\n",
       "      <td>0.0</td>\n",
       "      <td>0.0</td>\n",
       "      <td>0.0</td>\n",
       "      <td>1.0</td>\n",
       "      <td>0.0</td>\n",
       "      <td>1.0</td>\n",
       "      <td>0.0</td>\n",
       "    </tr>\n",
       "    <tr>\n",
       "      <th>2</th>\n",
       "      <td>26.0</td>\n",
       "      <td>0</td>\n",
       "      <td>0</td>\n",
       "      <td>7.9250</td>\n",
       "      <td>0.0</td>\n",
       "      <td>0.0</td>\n",
       "      <td>1.0</td>\n",
       "      <td>0.0</td>\n",
       "      <td>0.0</td>\n",
       "      <td>1.0</td>\n",
       "      <td>0.0</td>\n",
       "      <td>1.0</td>\n",
       "      <td>0.0</td>\n",
       "      <td>0.0</td>\n",
       "      <td>1.0</td>\n",
       "    </tr>\n",
       "    <tr>\n",
       "      <th>3</th>\n",
       "      <td>35.0</td>\n",
       "      <td>1</td>\n",
       "      <td>0</td>\n",
       "      <td>53.1000</td>\n",
       "      <td>1.0</td>\n",
       "      <td>0.0</td>\n",
       "      <td>0.0</td>\n",
       "      <td>0.0</td>\n",
       "      <td>0.0</td>\n",
       "      <td>1.0</td>\n",
       "      <td>0.0</td>\n",
       "      <td>1.0</td>\n",
       "      <td>0.0</td>\n",
       "      <td>1.0</td>\n",
       "      <td>0.0</td>\n",
       "    </tr>\n",
       "    <tr>\n",
       "      <th>4</th>\n",
       "      <td>35.0</td>\n",
       "      <td>0</td>\n",
       "      <td>0</td>\n",
       "      <td>8.0500</td>\n",
       "      <td>0.0</td>\n",
       "      <td>0.0</td>\n",
       "      <td>1.0</td>\n",
       "      <td>0.0</td>\n",
       "      <td>0.0</td>\n",
       "      <td>1.0</td>\n",
       "      <td>0.0</td>\n",
       "      <td>0.0</td>\n",
       "      <td>1.0</td>\n",
       "      <td>0.0</td>\n",
       "      <td>1.0</td>\n",
       "    </tr>\n",
       "    <tr>\n",
       "      <th>...</th>\n",
       "      <td>...</td>\n",
       "      <td>...</td>\n",
       "      <td>...</td>\n",
       "      <td>...</td>\n",
       "      <td>...</td>\n",
       "      <td>...</td>\n",
       "      <td>...</td>\n",
       "      <td>...</td>\n",
       "      <td>...</td>\n",
       "      <td>...</td>\n",
       "      <td>...</td>\n",
       "      <td>...</td>\n",
       "      <td>...</td>\n",
       "      <td>...</td>\n",
       "      <td>...</td>\n",
       "    </tr>\n",
       "    <tr>\n",
       "      <th>1304</th>\n",
       "      <td>0.0</td>\n",
       "      <td>0</td>\n",
       "      <td>0</td>\n",
       "      <td>8.0500</td>\n",
       "      <td>0.0</td>\n",
       "      <td>0.0</td>\n",
       "      <td>1.0</td>\n",
       "      <td>0.0</td>\n",
       "      <td>0.0</td>\n",
       "      <td>1.0</td>\n",
       "      <td>0.0</td>\n",
       "      <td>0.0</td>\n",
       "      <td>1.0</td>\n",
       "      <td>0.0</td>\n",
       "      <td>1.0</td>\n",
       "    </tr>\n",
       "    <tr>\n",
       "      <th>1305</th>\n",
       "      <td>39.0</td>\n",
       "      <td>0</td>\n",
       "      <td>0</td>\n",
       "      <td>108.9000</td>\n",
       "      <td>1.0</td>\n",
       "      <td>0.0</td>\n",
       "      <td>0.0</td>\n",
       "      <td>1.0</td>\n",
       "      <td>0.0</td>\n",
       "      <td>0.0</td>\n",
       "      <td>0.0</td>\n",
       "      <td>1.0</td>\n",
       "      <td>0.0</td>\n",
       "      <td>1.0</td>\n",
       "      <td>0.0</td>\n",
       "    </tr>\n",
       "    <tr>\n",
       "      <th>1306</th>\n",
       "      <td>38.5</td>\n",
       "      <td>0</td>\n",
       "      <td>0</td>\n",
       "      <td>7.2500</td>\n",
       "      <td>0.0</td>\n",
       "      <td>0.0</td>\n",
       "      <td>1.0</td>\n",
       "      <td>0.0</td>\n",
       "      <td>0.0</td>\n",
       "      <td>1.0</td>\n",
       "      <td>0.0</td>\n",
       "      <td>0.0</td>\n",
       "      <td>1.0</td>\n",
       "      <td>0.0</td>\n",
       "      <td>1.0</td>\n",
       "    </tr>\n",
       "    <tr>\n",
       "      <th>1307</th>\n",
       "      <td>0.0</td>\n",
       "      <td>0</td>\n",
       "      <td>0</td>\n",
       "      <td>8.0500</td>\n",
       "      <td>0.0</td>\n",
       "      <td>0.0</td>\n",
       "      <td>1.0</td>\n",
       "      <td>0.0</td>\n",
       "      <td>0.0</td>\n",
       "      <td>1.0</td>\n",
       "      <td>0.0</td>\n",
       "      <td>0.0</td>\n",
       "      <td>1.0</td>\n",
       "      <td>0.0</td>\n",
       "      <td>1.0</td>\n",
       "    </tr>\n",
       "    <tr>\n",
       "      <th>1308</th>\n",
       "      <td>0.0</td>\n",
       "      <td>1</td>\n",
       "      <td>1</td>\n",
       "      <td>22.3583</td>\n",
       "      <td>0.0</td>\n",
       "      <td>0.0</td>\n",
       "      <td>1.0</td>\n",
       "      <td>1.0</td>\n",
       "      <td>0.0</td>\n",
       "      <td>0.0</td>\n",
       "      <td>0.0</td>\n",
       "      <td>0.0</td>\n",
       "      <td>1.0</td>\n",
       "      <td>0.0</td>\n",
       "      <td>1.0</td>\n",
       "    </tr>\n",
       "  </tbody>\n",
       "</table>\n",
       "<p>1309 rows × 15 columns</p>\n",
       "</div>"
      ],
      "text/plain": [
       "        年龄  兄弟姐妹/配偶的个数  父母/小孩个数        票价  1等舱  2等舱  3等舱  登船港口为空  登船为nan港  \\\n",
       "0     22.0           1        0    7.2500  0.0  0.0  1.0     0.0      0.0   \n",
       "1     38.0           1        0   71.2833  1.0  0.0  0.0     1.0      0.0   \n",
       "2     26.0           0        0    7.9250  0.0  0.0  1.0     0.0      0.0   \n",
       "3     35.0           1        0   53.1000  1.0  0.0  0.0     0.0      0.0   \n",
       "4     35.0           0        0    8.0500  0.0  0.0  1.0     0.0      0.0   \n",
       "...    ...         ...      ...       ...  ...  ...  ...     ...      ...   \n",
       "1304   0.0           0        0    8.0500  0.0  0.0  1.0     0.0      0.0   \n",
       "1305  39.0           0        0  108.9000  1.0  0.0  0.0     1.0      0.0   \n",
       "1306  38.5           0        0    7.2500  0.0  0.0  1.0     0.0      0.0   \n",
       "1307   0.0           0        0    8.0500  0.0  0.0  1.0     0.0      0.0   \n",
       "1308   0.0           1        1   22.3583  0.0  0.0  1.0     1.0      0.0   \n",
       "\n",
       "      登船为S港  登船为Q港   女性   男性  有客舱好  没有客舱号  \n",
       "0       1.0    0.0  0.0  1.0   0.0    1.0  \n",
       "1       0.0    0.0  1.0  0.0   1.0    0.0  \n",
       "2       1.0    0.0  1.0  0.0   0.0    1.0  \n",
       "3       1.0    0.0  1.0  0.0   1.0    0.0  \n",
       "4       1.0    0.0  0.0  1.0   0.0    1.0  \n",
       "...     ...    ...  ...  ...   ...    ...  \n",
       "1304    1.0    0.0  0.0  1.0   0.0    1.0  \n",
       "1305    0.0    0.0  1.0  0.0   1.0    0.0  \n",
       "1306    1.0    0.0  0.0  1.0   0.0    1.0  \n",
       "1307    1.0    0.0  0.0  1.0   0.0    1.0  \n",
       "1308    0.0    0.0  0.0  1.0   0.0    1.0  \n",
       "\n",
       "[1309 rows x 15 columns]"
      ]
     },
     "execution_count": 52,
     "metadata": {},
     "output_type": "execute_result"
    }
   ],
   "source": [
    "X_data = pd.concat([X_data,OneHotCabin],axis=1)\n",
    "X_data"
   ]
  },
  {
   "cell_type": "markdown",
   "id": "75184ad6",
   "metadata": {},
   "source": [
    "#### 4.3.2 标准化数据并拆分出训练与测试数据"
   ]
  },
  {
   "cell_type": "code",
   "execution_count": null,
   "id": "8dd42506",
   "metadata": {},
   "outputs": [],
   "source": [
    "sc = StandardScaler()\n",
    "sc.fit(X_data)\n",
    "X = sc.transform(X_data)\n",
    "train_X,test_x,train_Y,test_y = train_test_split(X,Y,test_size=0.3193,random_state=42)\n"
   ]
  },
  {
   "cell_type": "markdown",
   "id": "c7fc7bf5",
   "metadata": {},
   "source": [
    "#### 4.2.3.1 测试Xgbosst"
   ]
  },
  {
   "cell_type": "code",
   "execution_count": null,
   "id": "a298e56b",
   "metadata": {},
   "outputs": [],
   "source": [
    "import xgboost as xgb\n",
    "\n",
    "xgb1 = xgb.XGBClassifier( learning_rate =0.1\n",
    "               , n_estimators=9 #即基评估器的数量。这个参数对随机森林模型的精确性影响是单调的，n_estimators越 大，模型的效果往往越好。但是相应的，任何模型都有决策边  n_estimators达到一定的程度之后，随机森林的 精确性往往不在上升或开始波动，并且，n_estimators越大，需要的计算量和内存也越大，训练的时间也会越来越 长。对于这个参数，我们是渴望在训练难度和模型效果之间取得平衡。\n",
    "               , max_depth=12 #构建树的深度，越大越容易过拟合\n",
    "               , min_child_weight=0.0001 #孩子节点中最小的样本权重和。如果一个叶子节点的样本权重和小于min_child_weight则拆分过程结束\n",
    "               , num_class = 1#类别数，与 multisoftmax 并用\n",
    "               , gamma=0 #损失下降多少才进行分裂， 控制叶子节点的个数\n",
    "               , subsample=0.9#随机采样训练样本\n",
    "               , colsample_bytree=0.97 #生成树时进行的列采样\n",
    "               , objective= 'binary:logistic' # 损失函数，默认为\"reg:linear\"。 {'binary:logistic'}是二分类的问题，{'multi:softmax',}是多分类的问题 这个是优化目标，必须得有，因为xgboost里面有求一阶导数和二阶导数，其实就是这个。\n",
    "               , nthread=4 #cpu 线程数\n",
    "               , scale_pos_weight=1.0 #负样本总数/正样本总数 。若训练负样本总数是500 ，正样本总数100，那么设置 scale_pos_weigh为 5\n",
    "#                , lambda_weight = 2 # 正则化参数\n",
    "               , eta = 0.001 # 如同学习率\n",
    "               , num_round = 0.01\n",
    "#               \n",
    "#                , metrics='auc'\n",
    "               , eval_metric = \"auc\"\n",
    "                , silent = 0 # ,设置成1则没有运行信息输出，最好是设置为0.\n",
    "               , seed=27#个随机指定一个常数，防止每次结果不一致\n",
    "                )\n",
    "train_Y = train_Y.reshape((train_Y.shape[0],1))\n",
    "xgb1.fit(train_X,train_Y)\n",
    "xgb1.score(test_x,test_y)"
   ]
  },
  {
   "cell_type": "markdown",
   "id": "1915850f",
   "metadata": {},
   "source": [
    "#### 4.2.3.2 测试逻辑回归的预测效果"
   ]
  },
  {
   "cell_type": "code",
   "execution_count": null,
   "id": "d4351273",
   "metadata": {},
   "outputs": [],
   "source": [
    "from sklearn.linear_model import LogisticRegression\n",
    "\n",
    "clf = LogisticRegression(max_iter=100, # 最大迭代次数\n",
    "                            random_state=18,#随机数种子\n",
    "                            penalty=\"l2\", #正则化项\n",
    "                            solver=\"lbfgs\", # 求解器类型 \n",
    "                            dual=False, # 当模型数据行比较小，数据列又比较多的时候，可以用这个参数来优化结果\n",
    "                            tol=1e-4, # 模型损失值小于某一个精度的时候停止迭代\n",
    "                            C=1.0, #经验风险和结构风险在损失函数中的权重\n",
    "                            fit_intercept=True,#线性方程中是否包含截距项\n",
    "                            intercept_scaling=1,\n",
    "                            class_weight=None, #各类样本在损失值计算的权重 输入结构{0:1,1:3}代表1类样本的每一条数据在计算损失函数的时候都会*3 , 当参数为balanced的时则自动将这个比例调整为真实样本比例的反比，以达到平衡效果\n",
    "        \n",
    "                            multi_class=\"auto\", # 选择多分类策略，mvm（多模型合并）还是ovr（交叉熵函数实现多分类）\n",
    "                            verbose=0,\n",
    "                            warm_start=False,# 是否使用上次训练结果作为本次初始运行参数\n",
    "                            n_jobs= None, # 使用多少核心\n",
    "                            l1_ratio=True #当采用弹性网正则化时，l1正则权重项，就是损失函数中的p\n",
    "                             )\n",
    "clf.fit(train_X,train_Y)\n",
    "clf.score(test_x,test_y)"
   ]
  },
  {
   "cell_type": "markdown",
   "id": "16597eac",
   "metadata": {},
   "source": [
    "#### 通过观察加入新的变量有无舱号信息后，准确率反而有所下降\n",
    "###  4.3.1 SMOTE 重采样处理数据不均衡问题后再测试"
   ]
  },
  {
   "cell_type": "code",
   "execution_count": 54,
   "id": "84b1d395",
   "metadata": {},
   "outputs": [
    {
     "name": "stdout",
     "output_type": "stream",
     "text": [
      "SMOTE过采样后，训练集中1的样本的个数为： 506\n",
      "SMOTE过采样后，训练集中0的样本的个数为： 506\n",
      "SMOTE过采样后，测试集1的样本的个数为： 309\n",
      "SMOTE过采样后，测试集0的样本的个数为： 309\n"
     ]
    }
   ],
   "source": [
    "from imblearn.over_sampling import SMOTE\n",
    "features_train, features_test, labels_train, labels_test = train_test_split(X_data,Y, test_size=0.4, random_state=0)\n",
    "oversampler = SMOTE(random_state=0)\n",
    "x_train,y_train = oversampler.fit_resample(features_train,labels_train)\n",
    "print('SMOTE过采样后，训练集中1的样本的个数为：',len(y_train[y_train==1]))\n",
    "print('SMOTE过采样后，训练集中0的样本的个数为：',len(y_train[y_train==0]))\n",
    "x_test,y_test = oversampler.fit_resample(features_test,labels_test)\n",
    "print('SMOTE过采样后，测试集1的样本的个数为：',len(y_test[y_test==1]))\n",
    "print('SMOTE过采样后，测试集0的样本的个数为：',len(y_test[y_test==0]))"
   ]
  },
  {
   "cell_type": "markdown",
   "id": "bcac5301",
   "metadata": {},
   "source": [
    "#### 4.3.2.1 Xgbosst测试重采样后的数据预测准确率"
   ]
  },
  {
   "cell_type": "code",
   "execution_count": 55,
   "id": "2b9eb36b",
   "metadata": {},
   "outputs": [
    {
     "name": "stdout",
     "output_type": "stream",
     "text": [
      "[13:38:41] WARNING: /croot/xgboost-split_1675119646044/work/src/learner.cc:576: \n",
      "Parameters: { \"num_round\", \"silent\" } might not be used.\n",
      "\n",
      "  This could be a false alarm, with some parameters getting used by language bindings but\n",
      "  then being mistakenly passed down to XGBoost core, or some parameter actually being used\n",
      "  but getting flagged wrongly here. Please open an issue if you find any such cases.\n",
      "\n",
      "\n"
     ]
    },
    {
     "name": "stderr",
     "output_type": "stream",
     "text": [
      "/home/zhangmanman/anaconda3/envs/XgboostENV/lib/python3.7/site-packages/xgboost/sklearn.py:1224: UserWarning: The use of label encoder in XGBClassifier is deprecated and will be removed in a future release. To remove this warning, do the following: 1) Pass option use_label_encoder=False when constructing XGBClassifier object; and 2) Encode your labels (y) as integers starting with 0, i.e. 0, 1, 2, ..., [num_class - 1].\n",
      "  warnings.warn(label_encoder_deprecation_msg, UserWarning)\n"
     ]
    },
    {
     "data": {
      "text/plain": [
       "0.8770226537216829"
      ]
     },
     "execution_count": 55,
     "metadata": {},
     "output_type": "execute_result"
    }
   ],
   "source": [
    "import xgboost as xgb\n",
    "\n",
    "xgb1 = xgb.XGBClassifier( learning_rate =0.1\n",
    "               , n_estimators=9 #即基评估器的数量。这个参数对随机森林模型的精确性影响是单调的，n_estimators越 大，模型的效果往往越好。但是相应的，任何模型都有决策边  n_estimators达到一定的程度之后，随机森林的 精确性往往不在上升或开始波动，并且，n_estimators越大，需要的计算量和内存也越大，训练的时间也会越来越 长。对于这个参数，我们是渴望在训练难度和模型效果之间取得平衡。\n",
    "               , max_depth=16 #构建树的深度，越大越容易过拟合\n",
    "               , min_child_weight=0.0001 #孩子节点中最小的样本权重和。如果一个叶子节点的样本权重和小于min_child_weight则拆分过程结束\n",
    "               , num_class = 1#类别数，与 multisoftmax 并用\n",
    "               , gamma=0 #损失下降多少才进行分裂， 控制叶子节点的个数\n",
    "               , subsample=0.9#随机采样训练样本\n",
    "               , colsample_bytree=0.97 #生成树时进行的列采样\n",
    "               , objective= 'binary:logistic' # 损失函数，默认为\"reg:linear\"。 {'binary:logistic'}是二分类的问题，{'multi:softmax',}是多分类的问题 这个是优化目标，必须得有，因为xgboost里面有求一阶导数和二阶导数，其实就是这个。\n",
    "               , nthread=4 #cpu 线程数\n",
    "               , scale_pos_weight=1.0 #负样本总数/正样本总数 。若训练负样本总数是500 ，正样本总数100，那么设置 scale_pos_weigh为 5\n",
    "#                , lambda_weight = 2 # 正则化参数\n",
    "               , eta = 0.001 # 如同学习率\n",
    "               , num_round = 0.01\n",
    "#               \n",
    "#                , metrics='auc'\n",
    "               , eval_metric = \"auc\"\n",
    "                , silent = 0 # ,设置成1则没有运行信息输出，最好是设置为0.\n",
    "               , seed=27#个随机指定一个常数，防止每次结果不一致\n",
    "                )\n",
    "xgb1.fit(x_train,y_train)\n",
    "xgb1.score(x_test,y_test)"
   ]
  },
  {
   "cell_type": "code",
   "execution_count": 56,
   "id": "2768386d",
   "metadata": {},
   "outputs": [
    {
     "data": {
      "text/plain": [
       "'AUC SCORE 0.8770226537216828'"
      ]
     },
     "execution_count": 56,
     "metadata": {},
     "output_type": "execute_result"
    }
   ],
   "source": [
    "from sklearn.metrics import roc_auc_score\n",
    "xgb_predict = xgb1.predict(x_test)\n",
    "f\"AUC SCORE {roc_auc_score(y_test,xgb_predict)}\""
   ]
  },
  {
   "cell_type": "markdown",
   "id": "fd41a967",
   "metadata": {},
   "source": [
    "#### 4.3.2.2 逻辑回归测试重采样后的数据预测准确率"
   ]
  },
  {
   "cell_type": "code",
   "execution_count": 57,
   "id": "efd1fe9e",
   "metadata": {},
   "outputs": [
    {
     "name": "stderr",
     "output_type": "stream",
     "text": [
      "/home/zhangmanman/anaconda3/envs/XgboostENV/lib/python3.7/site-packages/sklearn/linear_model/_logistic.py:1479: UserWarning: l1_ratio parameter is only used when penalty is 'elasticnet'. Got (penalty=l2)\n",
      "  \"(penalty={})\".format(self.penalty)\n",
      "/home/zhangmanman/anaconda3/envs/XgboostENV/lib/python3.7/site-packages/sklearn/linear_model/_logistic.py:818: ConvergenceWarning: lbfgs failed to converge (status=1):\n",
      "STOP: TOTAL NO. of ITERATIONS REACHED LIMIT.\n",
      "\n",
      "Increase the number of iterations (max_iter) or scale the data as shown in:\n",
      "    https://scikit-learn.org/stable/modules/preprocessing.html\n",
      "Please also refer to the documentation for alternative solver options:\n",
      "    https://scikit-learn.org/stable/modules/linear_model.html#logistic-regression\n",
      "  extra_warning_msg=_LOGISTIC_SOLVER_CONVERGENCE_MSG,\n"
     ]
    },
    {
     "data": {
      "text/plain": [
       "0.8802588996763754"
      ]
     },
     "execution_count": 57,
     "metadata": {},
     "output_type": "execute_result"
    }
   ],
   "source": [
    "from sklearn.linear_model import LogisticRegression\n",
    "\n",
    "clf = LogisticRegression(max_iter=100, # 最大迭代次数\n",
    "                            random_state=18,#随机数种子\n",
    "                            penalty=\"l2\", #正则化项\n",
    "                            solver=\"lbfgs\", # 求解器类型 \n",
    "                            dual=False, # 当模型数据行比较小，数据列又比较多的时候，可以用这个参数来优化结果\n",
    "                            tol=1e-4, # 模型损失值小于某一个精度的时候停止迭代\n",
    "                            C=1.0, #经验风险和结构风险在损失函数中的权重\n",
    "                            fit_intercept=True,#线性方程中是否包含截距项\n",
    "                            intercept_scaling=1,\n",
    "                            class_weight=None, #各类样本在损失值计算的权重 输入结构{0:1,1:3}代表1类样本的每一条数据在计算损失函数的时候都会*3 , 当参数为balanced的时则自动将这个比例调整为真实样本比例的反比，以达到平衡效果\n",
    "        \n",
    "                            multi_class=\"auto\", # 选择多分类策略，mvm（多模型合并）还是ovr（交叉熵函数实现多分类）\n",
    "                            verbose=0,\n",
    "                            warm_start=False,# 是否使用上次训练结果作为本次初始运行参数\n",
    "                            n_jobs= None, # 使用多少核心\n",
    "                            l1_ratio=True #当采用弹性网正则化时，l1正则权重项，就是损失函数中的p\n",
    "                             )\n",
    "clf.fit(x_train,y_train)\n",
    "clf.score(x_test,y_test)"
   ]
  },
  {
   "cell_type": "code",
   "execution_count": 62,
   "id": "44ddb335",
   "metadata": {},
   "outputs": [
    {
     "data": {
      "text/plain": [
       "'AUC SCORE :0.8802588996763754'"
      ]
     },
     "execution_count": 62,
     "metadata": {},
     "output_type": "execute_result"
    }
   ],
   "source": [
    "from sklearn.metrics import roc_auc_score\n",
    "\n",
    "clf_predict = clf.predict(x_test)\n",
    "f\"AUC SCORE :{roc_auc_score(y_test,clf_predict)}\""
   ]
  },
  {
   "cell_type": "markdown",
   "id": "0db11147",
   "metadata": {},
   "source": [
    "### 4.5 特征选择方法 \n",
    "#### 4.5.1 RFE 方法是用递归特征消除法进行特征排序。"
   ]
  },
  {
   "cell_type": "code",
   "execution_count": 69,
   "id": "b4862d03",
   "metadata": {},
   "outputs": [
    {
     "data": {
      "text/plain": [
       "\"删选了8个特征，分别是Index(['年龄', '兄弟姐妹/配偶的个数', '1等舱', '3等舱', '女性', '男性', '有客舱好', '没有客舱号'], dtype='object')\""
      ]
     },
     "execution_count": 69,
     "metadata": {},
     "output_type": "execute_result"
    }
   ],
   "source": [
    "from sklearn.feature_selection import RFE\n",
    "\n",
    "features_n = 8\n",
    "cols = X_data.columns\n",
    "# 标准化数据\n",
    "sc = StandardScaler()\n",
    "sc.fit(X_data)\n",
    "X = sc.transform(X_data)\n",
    "Y = np.array(titanic_data[\"是否生还\"])\n",
    "model = LogisticRegression()\n",
    "\n",
    "rfe = RFE(model,n_features_to_select=features_n)\n",
    "rfe = rfe.fit(X,Y)\n",
    "f\"删选了{features_n}个特征，分别是{X_data.columns[rfe.support_]}\""
   ]
  },
  {
   "cell_type": "markdown",
   "id": "b31c979b",
   "metadata": {},
   "source": [
    "#### 4.5.2 递归式特征消除和交叉验证选择特征\n",
    "####  如果减少特征会造成性能损失，则不会减少任何特征"
   ]
  },
  {
   "cell_type": "code",
   "execution_count": 74,
   "id": "69d401f8",
   "metadata": {},
   "outputs": [
    {
     "data": {
      "text/plain": [
       "1"
      ]
     },
     "execution_count": 74,
     "metadata": {},
     "output_type": "execute_result"
    }
   ],
   "source": [
    "from sklearn.feature_selection import RFECV\n",
    "\n",
    "rfecv = RFECV(estimator=model,step=1,cv=10,scoring=\"accuracy\")\n",
    "rfecv.fit(X,Y)\n",
    "rfecv.n_features_"
   ]
  },
  {
   "cell_type": "code",
   "execution_count": 73,
   "id": "8dd46569",
   "metadata": {},
   "outputs": [
    {
     "data": {
      "text/plain": [
       "Index(['男性'], dtype='object')"
      ]
     },
     "execution_count": 73,
     "metadata": {},
     "output_type": "execute_result"
    }
   ],
   "source": [
    "X_data.columns[rfecv.support_]"
   ]
  },
  {
   "cell_type": "code",
   "execution_count": 82,
   "id": "6a5d5b3d",
   "metadata": {},
   "outputs": [
    {
     "name": "stderr",
     "output_type": "stream",
     "text": [
      "/home/zhangmanman/anaconda3/envs/XgboostENV/lib/python3.7/site-packages/matplotlib/backends/backend_agg.py:214: RuntimeWarning: Glyph 24180 missing from current font.\n",
      "  font.set_text(s, 0.0, flags=flags)\n",
      "/home/zhangmanman/anaconda3/envs/XgboostENV/lib/python3.7/site-packages/matplotlib/backends/backend_agg.py:214: RuntimeWarning: Glyph 40836 missing from current font.\n",
      "  font.set_text(s, 0.0, flags=flags)\n",
      "/home/zhangmanman/anaconda3/envs/XgboostENV/lib/python3.7/site-packages/matplotlib/backends/backend_agg.py:214: RuntimeWarning: Glyph 20804 missing from current font.\n",
      "  font.set_text(s, 0.0, flags=flags)\n",
      "/home/zhangmanman/anaconda3/envs/XgboostENV/lib/python3.7/site-packages/matplotlib/backends/backend_agg.py:214: RuntimeWarning: Glyph 24351 missing from current font.\n",
      "  font.set_text(s, 0.0, flags=flags)\n",
      "/home/zhangmanman/anaconda3/envs/XgboostENV/lib/python3.7/site-packages/matplotlib/backends/backend_agg.py:214: RuntimeWarning: Glyph 22992 missing from current font.\n",
      "  font.set_text(s, 0.0, flags=flags)\n",
      "/home/zhangmanman/anaconda3/envs/XgboostENV/lib/python3.7/site-packages/matplotlib/backends/backend_agg.py:214: RuntimeWarning: Glyph 22969 missing from current font.\n",
      "  font.set_text(s, 0.0, flags=flags)\n",
      "/home/zhangmanman/anaconda3/envs/XgboostENV/lib/python3.7/site-packages/matplotlib/backends/backend_agg.py:214: RuntimeWarning: Glyph 37197 missing from current font.\n",
      "  font.set_text(s, 0.0, flags=flags)\n",
      "/home/zhangmanman/anaconda3/envs/XgboostENV/lib/python3.7/site-packages/matplotlib/backends/backend_agg.py:214: RuntimeWarning: Glyph 20598 missing from current font.\n",
      "  font.set_text(s, 0.0, flags=flags)\n",
      "/home/zhangmanman/anaconda3/envs/XgboostENV/lib/python3.7/site-packages/matplotlib/backends/backend_agg.py:214: RuntimeWarning: Glyph 30340 missing from current font.\n",
      "  font.set_text(s, 0.0, flags=flags)\n",
      "/home/zhangmanman/anaconda3/envs/XgboostENV/lib/python3.7/site-packages/matplotlib/backends/backend_agg.py:214: RuntimeWarning: Glyph 20010 missing from current font.\n",
      "  font.set_text(s, 0.0, flags=flags)\n",
      "/home/zhangmanman/anaconda3/envs/XgboostENV/lib/python3.7/site-packages/matplotlib/backends/backend_agg.py:214: RuntimeWarning: Glyph 25968 missing from current font.\n",
      "  font.set_text(s, 0.0, flags=flags)\n",
      "/home/zhangmanman/anaconda3/envs/XgboostENV/lib/python3.7/site-packages/matplotlib/backends/backend_agg.py:214: RuntimeWarning: Glyph 29238 missing from current font.\n",
      "  font.set_text(s, 0.0, flags=flags)\n",
      "/home/zhangmanman/anaconda3/envs/XgboostENV/lib/python3.7/site-packages/matplotlib/backends/backend_agg.py:214: RuntimeWarning: Glyph 27597 missing from current font.\n",
      "  font.set_text(s, 0.0, flags=flags)\n",
      "/home/zhangmanman/anaconda3/envs/XgboostENV/lib/python3.7/site-packages/matplotlib/backends/backend_agg.py:214: RuntimeWarning: Glyph 23567 missing from current font.\n",
      "  font.set_text(s, 0.0, flags=flags)\n",
      "/home/zhangmanman/anaconda3/envs/XgboostENV/lib/python3.7/site-packages/matplotlib/backends/backend_agg.py:214: RuntimeWarning: Glyph 23401 missing from current font.\n",
      "  font.set_text(s, 0.0, flags=flags)\n",
      "/home/zhangmanman/anaconda3/envs/XgboostENV/lib/python3.7/site-packages/matplotlib/backends/backend_agg.py:214: RuntimeWarning: Glyph 31080 missing from current font.\n",
      "  font.set_text(s, 0.0, flags=flags)\n",
      "/home/zhangmanman/anaconda3/envs/XgboostENV/lib/python3.7/site-packages/matplotlib/backends/backend_agg.py:214: RuntimeWarning: Glyph 20215 missing from current font.\n",
      "  font.set_text(s, 0.0, flags=flags)\n",
      "/home/zhangmanman/anaconda3/envs/XgboostENV/lib/python3.7/site-packages/matplotlib/backends/backend_agg.py:214: RuntimeWarning: Glyph 31561 missing from current font.\n",
      "  font.set_text(s, 0.0, flags=flags)\n",
      "/home/zhangmanman/anaconda3/envs/XgboostENV/lib/python3.7/site-packages/matplotlib/backends/backend_agg.py:214: RuntimeWarning: Glyph 33329 missing from current font.\n",
      "  font.set_text(s, 0.0, flags=flags)\n",
      "/home/zhangmanman/anaconda3/envs/XgboostENV/lib/python3.7/site-packages/matplotlib/backends/backend_agg.py:214: RuntimeWarning: Glyph 30331 missing from current font.\n",
      "  font.set_text(s, 0.0, flags=flags)\n",
      "/home/zhangmanman/anaconda3/envs/XgboostENV/lib/python3.7/site-packages/matplotlib/backends/backend_agg.py:214: RuntimeWarning: Glyph 33337 missing from current font.\n",
      "  font.set_text(s, 0.0, flags=flags)\n",
      "/home/zhangmanman/anaconda3/envs/XgboostENV/lib/python3.7/site-packages/matplotlib/backends/backend_agg.py:214: RuntimeWarning: Glyph 28207 missing from current font.\n",
      "  font.set_text(s, 0.0, flags=flags)\n",
      "/home/zhangmanman/anaconda3/envs/XgboostENV/lib/python3.7/site-packages/matplotlib/backends/backend_agg.py:214: RuntimeWarning: Glyph 21475 missing from current font.\n",
      "  font.set_text(s, 0.0, flags=flags)\n",
      "/home/zhangmanman/anaconda3/envs/XgboostENV/lib/python3.7/site-packages/matplotlib/backends/backend_agg.py:214: RuntimeWarning: Glyph 20026 missing from current font.\n",
      "  font.set_text(s, 0.0, flags=flags)\n",
      "/home/zhangmanman/anaconda3/envs/XgboostENV/lib/python3.7/site-packages/matplotlib/backends/backend_agg.py:214: RuntimeWarning: Glyph 31354 missing from current font.\n",
      "  font.set_text(s, 0.0, flags=flags)\n",
      "/home/zhangmanman/anaconda3/envs/XgboostENV/lib/python3.7/site-packages/matplotlib/backends/backend_agg.py:214: RuntimeWarning: Glyph 22899 missing from current font.\n",
      "  font.set_text(s, 0.0, flags=flags)\n",
      "/home/zhangmanman/anaconda3/envs/XgboostENV/lib/python3.7/site-packages/matplotlib/backends/backend_agg.py:214: RuntimeWarning: Glyph 24615 missing from current font.\n",
      "  font.set_text(s, 0.0, flags=flags)\n",
      "/home/zhangmanman/anaconda3/envs/XgboostENV/lib/python3.7/site-packages/matplotlib/backends/backend_agg.py:214: RuntimeWarning: Glyph 30007 missing from current font.\n",
      "  font.set_text(s, 0.0, flags=flags)\n",
      "/home/zhangmanman/anaconda3/envs/XgboostENV/lib/python3.7/site-packages/matplotlib/backends/backend_agg.py:214: RuntimeWarning: Glyph 26377 missing from current font.\n",
      "  font.set_text(s, 0.0, flags=flags)\n",
      "/home/zhangmanman/anaconda3/envs/XgboostENV/lib/python3.7/site-packages/matplotlib/backends/backend_agg.py:214: RuntimeWarning: Glyph 23458 missing from current font.\n",
      "  font.set_text(s, 0.0, flags=flags)\n",
      "/home/zhangmanman/anaconda3/envs/XgboostENV/lib/python3.7/site-packages/matplotlib/backends/backend_agg.py:214: RuntimeWarning: Glyph 22909 missing from current font.\n",
      "  font.set_text(s, 0.0, flags=flags)\n",
      "/home/zhangmanman/anaconda3/envs/XgboostENV/lib/python3.7/site-packages/matplotlib/backends/backend_agg.py:214: RuntimeWarning: Glyph 27809 missing from current font.\n",
      "  font.set_text(s, 0.0, flags=flags)\n",
      "/home/zhangmanman/anaconda3/envs/XgboostENV/lib/python3.7/site-packages/matplotlib/backends/backend_agg.py:214: RuntimeWarning: Glyph 21495 missing from current font.\n",
      "  font.set_text(s, 0.0, flags=flags)\n",
      "/home/zhangmanman/anaconda3/envs/XgboostENV/lib/python3.7/site-packages/matplotlib/backends/backend_agg.py:183: RuntimeWarning: Glyph 24180 missing from current font.\n",
      "  font.set_text(s, 0, flags=flags)\n",
      "/home/zhangmanman/anaconda3/envs/XgboostENV/lib/python3.7/site-packages/matplotlib/backends/backend_agg.py:183: RuntimeWarning: Glyph 40836 missing from current font.\n",
      "  font.set_text(s, 0, flags=flags)\n",
      "/home/zhangmanman/anaconda3/envs/XgboostENV/lib/python3.7/site-packages/matplotlib/backends/backend_agg.py:183: RuntimeWarning: Glyph 20804 missing from current font.\n",
      "  font.set_text(s, 0, flags=flags)\n",
      "/home/zhangmanman/anaconda3/envs/XgboostENV/lib/python3.7/site-packages/matplotlib/backends/backend_agg.py:183: RuntimeWarning: Glyph 24351 missing from current font.\n",
      "  font.set_text(s, 0, flags=flags)\n",
      "/home/zhangmanman/anaconda3/envs/XgboostENV/lib/python3.7/site-packages/matplotlib/backends/backend_agg.py:183: RuntimeWarning: Glyph 22992 missing from current font.\n",
      "  font.set_text(s, 0, flags=flags)\n",
      "/home/zhangmanman/anaconda3/envs/XgboostENV/lib/python3.7/site-packages/matplotlib/backends/backend_agg.py:183: RuntimeWarning: Glyph 22969 missing from current font.\n",
      "  font.set_text(s, 0, flags=flags)\n",
      "/home/zhangmanman/anaconda3/envs/XgboostENV/lib/python3.7/site-packages/matplotlib/backends/backend_agg.py:183: RuntimeWarning: Glyph 37197 missing from current font.\n",
      "  font.set_text(s, 0, flags=flags)\n",
      "/home/zhangmanman/anaconda3/envs/XgboostENV/lib/python3.7/site-packages/matplotlib/backends/backend_agg.py:183: RuntimeWarning: Glyph 20598 missing from current font.\n",
      "  font.set_text(s, 0, flags=flags)\n",
      "/home/zhangmanman/anaconda3/envs/XgboostENV/lib/python3.7/site-packages/matplotlib/backends/backend_agg.py:183: RuntimeWarning: Glyph 30340 missing from current font.\n",
      "  font.set_text(s, 0, flags=flags)\n",
      "/home/zhangmanman/anaconda3/envs/XgboostENV/lib/python3.7/site-packages/matplotlib/backends/backend_agg.py:183: RuntimeWarning: Glyph 20010 missing from current font.\n",
      "  font.set_text(s, 0, flags=flags)\n",
      "/home/zhangmanman/anaconda3/envs/XgboostENV/lib/python3.7/site-packages/matplotlib/backends/backend_agg.py:183: RuntimeWarning: Glyph 25968 missing from current font.\n",
      "  font.set_text(s, 0, flags=flags)\n",
      "/home/zhangmanman/anaconda3/envs/XgboostENV/lib/python3.7/site-packages/matplotlib/backends/backend_agg.py:183: RuntimeWarning: Glyph 29238 missing from current font.\n",
      "  font.set_text(s, 0, flags=flags)\n",
      "/home/zhangmanman/anaconda3/envs/XgboostENV/lib/python3.7/site-packages/matplotlib/backends/backend_agg.py:183: RuntimeWarning: Glyph 27597 missing from current font.\n",
      "  font.set_text(s, 0, flags=flags)\n",
      "/home/zhangmanman/anaconda3/envs/XgboostENV/lib/python3.7/site-packages/matplotlib/backends/backend_agg.py:183: RuntimeWarning: Glyph 23567 missing from current font.\n",
      "  font.set_text(s, 0, flags=flags)\n",
      "/home/zhangmanman/anaconda3/envs/XgboostENV/lib/python3.7/site-packages/matplotlib/backends/backend_agg.py:183: RuntimeWarning: Glyph 23401 missing from current font.\n",
      "  font.set_text(s, 0, flags=flags)\n",
      "/home/zhangmanman/anaconda3/envs/XgboostENV/lib/python3.7/site-packages/matplotlib/backends/backend_agg.py:183: RuntimeWarning: Glyph 31080 missing from current font.\n",
      "  font.set_text(s, 0, flags=flags)\n",
      "/home/zhangmanman/anaconda3/envs/XgboostENV/lib/python3.7/site-packages/matplotlib/backends/backend_agg.py:183: RuntimeWarning: Glyph 20215 missing from current font.\n",
      "  font.set_text(s, 0, flags=flags)\n",
      "/home/zhangmanman/anaconda3/envs/XgboostENV/lib/python3.7/site-packages/matplotlib/backends/backend_agg.py:183: RuntimeWarning: Glyph 31561 missing from current font.\n",
      "  font.set_text(s, 0, flags=flags)\n",
      "/home/zhangmanman/anaconda3/envs/XgboostENV/lib/python3.7/site-packages/matplotlib/backends/backend_agg.py:183: RuntimeWarning: Glyph 33329 missing from current font.\n",
      "  font.set_text(s, 0, flags=flags)\n",
      "/home/zhangmanman/anaconda3/envs/XgboostENV/lib/python3.7/site-packages/matplotlib/backends/backend_agg.py:183: RuntimeWarning: Glyph 30331 missing from current font.\n",
      "  font.set_text(s, 0, flags=flags)\n",
      "/home/zhangmanman/anaconda3/envs/XgboostENV/lib/python3.7/site-packages/matplotlib/backends/backend_agg.py:183: RuntimeWarning: Glyph 33337 missing from current font.\n",
      "  font.set_text(s, 0, flags=flags)\n",
      "/home/zhangmanman/anaconda3/envs/XgboostENV/lib/python3.7/site-packages/matplotlib/backends/backend_agg.py:183: RuntimeWarning: Glyph 28207 missing from current font.\n",
      "  font.set_text(s, 0, flags=flags)\n",
      "/home/zhangmanman/anaconda3/envs/XgboostENV/lib/python3.7/site-packages/matplotlib/backends/backend_agg.py:183: RuntimeWarning: Glyph 21475 missing from current font.\n",
      "  font.set_text(s, 0, flags=flags)\n",
      "/home/zhangmanman/anaconda3/envs/XgboostENV/lib/python3.7/site-packages/matplotlib/backends/backend_agg.py:183: RuntimeWarning: Glyph 20026 missing from current font.\n",
      "  font.set_text(s, 0, flags=flags)\n",
      "/home/zhangmanman/anaconda3/envs/XgboostENV/lib/python3.7/site-packages/matplotlib/backends/backend_agg.py:183: RuntimeWarning: Glyph 31354 missing from current font.\n",
      "  font.set_text(s, 0, flags=flags)\n",
      "/home/zhangmanman/anaconda3/envs/XgboostENV/lib/python3.7/site-packages/matplotlib/backends/backend_agg.py:183: RuntimeWarning: Glyph 22899 missing from current font.\n",
      "  font.set_text(s, 0, flags=flags)\n",
      "/home/zhangmanman/anaconda3/envs/XgboostENV/lib/python3.7/site-packages/matplotlib/backends/backend_agg.py:183: RuntimeWarning: Glyph 24615 missing from current font.\n",
      "  font.set_text(s, 0, flags=flags)\n",
      "/home/zhangmanman/anaconda3/envs/XgboostENV/lib/python3.7/site-packages/matplotlib/backends/backend_agg.py:183: RuntimeWarning: Glyph 30007 missing from current font.\n",
      "  font.set_text(s, 0, flags=flags)\n",
      "/home/zhangmanman/anaconda3/envs/XgboostENV/lib/python3.7/site-packages/matplotlib/backends/backend_agg.py:183: RuntimeWarning: Glyph 26377 missing from current font.\n",
      "  font.set_text(s, 0, flags=flags)\n",
      "/home/zhangmanman/anaconda3/envs/XgboostENV/lib/python3.7/site-packages/matplotlib/backends/backend_agg.py:183: RuntimeWarning: Glyph 23458 missing from current font.\n",
      "  font.set_text(s, 0, flags=flags)\n",
      "/home/zhangmanman/anaconda3/envs/XgboostENV/lib/python3.7/site-packages/matplotlib/backends/backend_agg.py:183: RuntimeWarning: Glyph 22909 missing from current font.\n",
      "  font.set_text(s, 0, flags=flags)\n",
      "/home/zhangmanman/anaconda3/envs/XgboostENV/lib/python3.7/site-packages/matplotlib/backends/backend_agg.py:183: RuntimeWarning: Glyph 27809 missing from current font.\n",
      "  font.set_text(s, 0, flags=flags)\n",
      "/home/zhangmanman/anaconda3/envs/XgboostENV/lib/python3.7/site-packages/matplotlib/backends/backend_agg.py:183: RuntimeWarning: Glyph 21495 missing from current font.\n",
      "  font.set_text(s, 0, flags=flags)\n"
     ]
    },
    {
     "data": {
      "text/plain": [
       "<matplotlib.axes._subplots.AxesSubplot at 0x7f13a2ea2f50>"
      ]
     },
     "execution_count": 82,
     "metadata": {},
     "output_type": "execute_result"
    },
    {
     "data": {
      "image/png": "[encoded data removed]",
      "text/plain": [
       "<Figure size 640x480 with 2 Axes>"
      ]
     },
     "metadata": {},
     "output_type": "display_data"
    }
   ],
   "source": [
    "sns.heatmap(X_data.corr(),annot=True)"
   ]
  },
  {
   "cell_type": "markdown",
   "id": "ac88d08e",
   "metadata": {},
   "source": [
    "## 5 评价指标的计算\n",
    "#### $ TPR = TP/(TP + FN) $ 也称为为—灵敏度\n",
    "#### $ FPR = FP/(FP + TN) $\n",
    "#### $ 1-FPR=特异度 $\n",
    "### 以下是一个样例"
   ]
  },
  {
   "cell_type": "code",
   "execution_count": 139,
   "id": "67241501",
   "metadata": {},
   "outputs": [
    {
     "name": "stderr",
     "output_type": "stream",
     "text": [
      "/home/zhangmanman/anaconda3/envs/XgboostENV/lib/python3.7/site-packages/xgboost/sklearn.py:1224: UserWarning: The use of label encoder in XGBClassifier is deprecated and will be removed in a future release. To remove this warning, do the following: 1) Pass option use_label_encoder=False when constructing XGBClassifier object; and 2) Encode your labels (y) as integers starting with 0, i.e. 0, 1, 2, ..., [num_class - 1].\n",
      "  warnings.warn(label_encoder_deprecation_msg, UserWarning)\n",
      "/home/zhangmanman/anaconda3/envs/XgboostENV/lib/python3.7/site-packages/sklearn/preprocessing/_label.py:98: DataConversionWarning: A column-vector y was passed when a 1d array was expected. Please change the shape of y to (n_samples, ), for example using ravel().\n",
      "  y = column_or_1d(y, warn=True)\n",
      "/home/zhangmanman/anaconda3/envs/XgboostENV/lib/python3.7/site-packages/sklearn/preprocessing/_label.py:133: DataConversionWarning: A column-vector y was passed when a 1d array was expected. Please change the shape of y to (n_samples, ), for example using ravel().\n",
      "  y = column_or_1d(y, warn=True)\n"
     ]
    },
    {
     "data": {
      "text/plain": [
       "0.861244019138756"
      ]
     },
     "execution_count": 139,
     "metadata": {},
     "output_type": "execute_result"
    }
   ],
   "source": [
    "import xgboost as xgb\n",
    "\n",
    "sc = StandardScaler()\n",
    "sc.fit(X_data)\n",
    "X = sc.transform(X_data)\n",
    "train_X,test_x,train_Y,test_y = train_test_split(X,Y,test_size=0.3193,random_state=42)\n",
    "\n",
    "xgb1 = xgb.XGBClassifier( learning_rate =0.1\n",
    "               , n_estimators=9 #即基评估器的数量。这个参数对随机森林模型的精确性影响是单调的，n_estimators越 大，模型的效果往往越好。但是相应的，任何模型都有决策边  n_estimators达到一定的程度之后，随机森林的 精确性往往不在上升或开始波动，并且，n_estimators越大，需要的计算量和内存也越大，训练的时间也会越来越 长。对于这个参数，我们是渴望在训练难度和模型效果之间取得平衡。\n",
    "               , max_depth=12 #构建树的深度，越大越容易过拟合\n",
    "               , min_child_weight=0.0001 #孩子节点中最小的样本权重和。如果一个叶子节点的样本权重和小于min_child_weight则拆分过程结束\n",
    "               , num_class = 1#类别数，与 multisoftmax 并用\n",
    "               , gamma=0 #损失下降多少才进行分裂， 控制叶子节点的个数\n",
    "               , subsample=0.9#随机采样训练样本\n",
    "               , colsample_bytree=0.97 #生成树时进行的列采样\n",
    "               , objective= 'binary:logistic' # 损失函数，默认为\"reg:linear\"。 {'binary:logistic'}是二分类的问题，{'multi:softmax',}是多分类的问题 这个是优化目标，必须得有，因为xgboost里面有求一阶导数和二阶导数，其实就是这个。\n",
    "               , nthread=4 #cpu 线程数\n",
    "               , scale_pos_weight=1.0 #负样本总数/正样本总数 。若训练负样本总数是500 ，正样本总数100，那么设置 scale_pos_weigh为 5\n",
    "#                , lambda_weight = 2 # 正则化参数\n",
    "               , eta = 0.001 # 如同学习率\n",
    "#                , num_round = 0.01\n",
    "#               \n",
    "#                , metrics='auc'\n",
    "               , eval_metric = \"auc\"\n",
    "#                 , silent = 0 # ,设置成1则没有运行信息输出，最好是设置为0.\n",
    "               , seed=27#个随机指定一个常数，防止每次结果不一致\n",
    "                )\n",
    "train_Y = train_Y.reshape((train_Y.shape[0],1))\n",
    "xgb1.fit(train_X,train_Y)\n",
    "xgb1.score(test_x,test_y)"
   ]
  },
  {
   "cell_type": "code",
   "execution_count": 140,
   "id": "5d570a4a",
   "metadata": {},
   "outputs": [
    {
     "data": {
      "text/plain": [
       "array([0, 0, 0, 0, 1, 1, 1, 1, 1, 0, 0, 0, 1, 1, 0, 1, 1, 0, 0, 0, 0, 0,\n",
       "       0, 0, 0, 1, 0, 0, 0, 1, 0, 1, 1, 0, 0, 0, 1, 0, 0, 1, 0, 1, 1, 0,\n",
       "       0, 0, 0, 0, 1, 1, 1, 1, 0, 0, 1, 0, 0, 1, 0, 0, 0, 0, 1, 1, 1, 0,\n",
       "       1, 1, 0, 0, 0, 0, 0, 0, 0, 0, 1, 0, 1, 0, 1, 0, 0, 0, 0, 0, 0, 0,\n",
       "       1, 1, 1, 1, 0, 1, 0, 1, 0, 0, 1, 1, 0, 0, 0, 1, 1, 0, 1, 0, 0, 1,\n",
       "       0, 1, 1, 0, 1, 0, 1, 1, 0, 0, 0, 1, 0, 0, 0, 1, 1, 0, 0, 1, 0, 1,\n",
       "       0, 1, 0, 0, 1, 0, 0, 0, 0, 1, 0, 0, 0, 1, 0, 1, 0, 0, 0, 0, 0, 0,\n",
       "       1, 1, 0, 1, 0, 0, 0, 0, 0, 1, 0, 0, 0, 1, 0, 0, 0, 0, 0, 1, 0, 1,\n",
       "       0, 0, 0, 0, 0, 0, 1, 1, 1, 0, 0, 0, 1, 0, 0, 1, 0, 0, 0, 0, 1, 1,\n",
       "       0, 0, 0, 1, 1, 0, 0, 0, 0, 0, 0, 0, 0, 0, 0, 0, 0, 0, 1, 1, 0, 0,\n",
       "       0, 0, 0, 1, 0, 1, 0, 0, 0, 0, 1, 0, 0, 1, 1, 0, 1, 0, 1, 0, 0, 0,\n",
       "       0, 0, 0, 1, 0, 0, 1, 1, 0, 1, 0, 1, 1, 1, 0, 1, 1, 1, 1, 1, 1, 0,\n",
       "       1, 1, 0, 0, 1, 0, 0, 0, 1, 0, 0, 0, 0, 0, 1, 1, 0, 0, 0, 0, 0, 0,\n",
       "       0, 0, 0, 1, 0, 0, 0, 0, 1, 0, 1, 1, 0, 0, 1, 1, 1, 0, 0, 1, 0, 1,\n",
       "       0, 0, 0, 0, 0, 1, 0, 0, 1, 0, 0, 1, 1, 1, 0, 1, 1, 1, 0, 1, 1, 0,\n",
       "       1, 0, 0, 0, 0, 0, 1, 0, 0, 1, 0, 0, 0, 0, 0, 0, 0, 0, 0, 0, 0, 0,\n",
       "       1, 0, 1, 1, 1, 1, 0, 0, 0, 0, 0, 0, 1, 0, 0, 0, 0, 0, 0, 0, 0, 0,\n",
       "       0, 0, 1, 1, 0, 0, 1, 0, 0, 0, 0, 1, 1, 0, 1, 0, 0, 1, 1, 0, 0, 1,\n",
       "       0, 0, 1, 0, 0, 0, 0, 0, 0, 1, 0, 0, 1, 1, 1, 0, 0, 0, 0, 1, 1, 1])"
      ]
     },
     "execution_count": 140,
     "metadata": {},
     "output_type": "execute_result"
    }
   ],
   "source": [
    "xgb_predict = xgb1.predict(test_x)\n",
    "xgb_predict"
   ]
  },
  {
   "cell_type": "code",
   "execution_count": 141,
   "id": "024ba510",
   "metadata": {},
   "outputs": [
    {
     "data": {
      "text/plain": [
       "array([0.24916132, 0.42928666, 0.24717356, 0.24916132, 0.68366563,\n",
       "       0.63086885, 0.68366563, 0.7782594 , 0.56016004, 0.38912836,\n",
       "       0.24916132, 0.24916132, 0.5184562 , 0.78028685, 0.24916132,\n",
       "       0.7782594 , 0.74065053, 0.24717356, 0.26505378, 0.24916132,\n",
       "       0.24916132, 0.24916132, 0.2822233 , 0.2822233 , 0.24916132,\n",
       "       0.5141486 , 0.3970157 , 0.2572632 , 0.24780644, 0.6563091 ,\n",
       "       0.25315756, 0.7782594 , 0.7129924 , 0.25952935, 0.26443464,\n",
       "       0.24717356, 0.69326395, 0.2702462 , 0.24717356, 0.5748161 ,\n",
       "       0.42928666, 0.72076005, 0.7129924 , 0.24916132, 0.2643017 ,\n",
       "       0.24916132, 0.24780644, 0.25176266, 0.68366563, 0.7782594 ,\n",
       "       0.67153263, 0.78028685, 0.24916132, 0.29781482, 0.7782594 ,\n",
       "       0.24717356, 0.24916132, 0.52164686, 0.27943674, 0.24916132,\n",
       "       0.34035966, 0.24717356, 0.7782594 , 0.61939245, 0.78028685,\n",
       "       0.31171957, 0.7782594 , 0.7782594 , 0.24916132, 0.24785604,\n",
       "       0.24717356, 0.32938075, 0.3412635 , 0.24780644, 0.24785604,\n",
       "       0.41483167, 0.6209387 , 0.24916132, 0.76457876, 0.25523278,\n",
       "       0.78028685, 0.24717356, 0.28973106, 0.24916132, 0.24916132,\n",
       "       0.24717356, 0.27092692, 0.26813045, 0.7782594 , 0.78028685,\n",
       "       0.68366563, 0.659047  , 0.24916132, 0.57506084, 0.24916132,\n",
       "       0.7782594 , 0.24916132, 0.3323033 , 0.7782594 , 0.78028685,\n",
       "       0.24916132, 0.25315756, 0.27925947, 0.73799163, 0.7231514 ,\n",
       "       0.300404  , 0.78028685, 0.24633427, 0.31452838, 0.68366563,\n",
       "       0.24916132, 0.73799163, 0.68366563, 0.24916132, 0.78028685,\n",
       "       0.29718477, 0.6921415 , 0.5334769 , 0.24916132, 0.34271955,\n",
       "       0.24916132, 0.7782594 , 0.25176266, 0.30362275, 0.25538412,\n",
       "       0.64082843, 0.5076948 , 0.24916132, 0.24916132, 0.78028685,\n",
       "       0.24976103, 0.78028685, 0.24868427, 0.7782594 , 0.24916132,\n",
       "       0.24916132, 0.7782594 , 0.28630552, 0.25176266, 0.24916132,\n",
       "       0.24717356, 0.5671919 , 0.31171957, 0.24916132, 0.24916132,\n",
       "       0.67071277, 0.30588   , 0.78028685, 0.24976103, 0.29629663,\n",
       "       0.24916132, 0.3788601 , 0.24717356, 0.4570874 , 0.6343575 ,\n",
       "       0.78028685, 0.24916132, 0.78028685, 0.2718976 , 0.2702462 ,\n",
       "       0.24916132, 0.24976103, 0.24916132, 0.6701025 , 0.24916132,\n",
       "       0.24868427, 0.24916132, 0.69326395, 0.24916132, 0.24717356,\n",
       "       0.26981065, 0.43057317, 0.24633427, 0.7782594 , 0.39906612,\n",
       "       0.7782594 , 0.41068944, 0.26984844, 0.24916132, 0.27782658,\n",
       "       0.24717356, 0.24717356, 0.67863506, 0.78028685, 0.78028685,\n",
       "       0.24717356, 0.29676545, 0.24916132, 0.6695533 , 0.24717356,\n",
       "       0.24916132, 0.69326395, 0.27092692, 0.2683794 , 0.26450115,\n",
       "       0.24916132, 0.7782594 , 0.68366563, 0.24916132, 0.2831856 ,\n",
       "       0.33101463, 0.6938876 , 0.77094036, 0.24916132, 0.2702462 ,\n",
       "       0.24916132, 0.24916132, 0.24916132, 0.4239203 , 0.24916132,\n",
       "       0.41361913, 0.264557  , 0.34491092, 0.4108218 , 0.24916132,\n",
       "       0.25315756, 0.72076005, 0.7782594 , 0.24916132, 0.31157988,\n",
       "       0.24916132, 0.30913877, 0.27581152, 0.7129924 , 0.24916132,\n",
       "       0.77094036, 0.24916132, 0.25176266, 0.24916132, 0.24916132,\n",
       "       0.7160536 , 0.2572632 , 0.25842702, 0.78028685, 0.7782594 ,\n",
       "       0.24916132, 0.7782594 , 0.25523278, 0.78028685, 0.24916132,\n",
       "       0.25556278, 0.24916132, 0.24916132, 0.29194072, 0.24916132,\n",
       "       0.76879305, 0.24916132, 0.24916132, 0.73799163, 0.5305897 ,\n",
       "       0.29075634, 0.704704  , 0.24916132, 0.76457876, 0.64767283,\n",
       "       0.6384543 , 0.3297094 , 0.5294896 , 0.57506084, 0.7029082 ,\n",
       "       0.7782594 , 0.7782594 , 0.77094036, 0.24916132, 0.68268967,\n",
       "       0.51661783, 0.4716448 , 0.35754922, 0.76879305, 0.27925947,\n",
       "       0.24916132, 0.24916132, 0.77094036, 0.2854256 , 0.25523278,\n",
       "       0.24916132, 0.29194072, 0.30042896, 0.659047  , 0.78028685,\n",
       "       0.24717356, 0.31406325, 0.25315756, 0.24916132, 0.25538412,\n",
       "       0.24916132, 0.24916132, 0.27009493, 0.34414685, 0.76879305,\n",
       "       0.24916132, 0.41854635, 0.25039834, 0.25176266, 0.78028685,\n",
       "       0.3388627 , 0.69326395, 0.78028685, 0.24916132, 0.2702462 ,\n",
       "       0.76457876, 0.7782594 , 0.76083434, 0.24717356, 0.24916132,\n",
       "       0.78028685, 0.24916132, 0.77094036, 0.24916132, 0.24916132,\n",
       "       0.24633427, 0.27128038, 0.3394186 , 0.68366563, 0.24916132,\n",
       "       0.24916132, 0.78028685, 0.2702462 , 0.24916132, 0.56016004,\n",
       "       0.6473803 , 0.78028685, 0.24916132, 0.76457876, 0.78028685,\n",
       "       0.77094036, 0.25315756, 0.5748161 , 0.7782594 , 0.38684416,\n",
       "       0.78028685, 0.28015998, 0.25354117, 0.24916132, 0.25523278,\n",
       "       0.24868427, 0.7782594 , 0.28644645, 0.24785604, 0.7782594 ,\n",
       "       0.28902438, 0.24916132, 0.24976103, 0.25176266, 0.46577585,\n",
       "       0.24916132, 0.24976103, 0.24916132, 0.25176266, 0.24717356,\n",
       "       0.30362275, 0.24916132, 0.54811925, 0.24717356, 0.5145023 ,\n",
       "       0.5013303 , 0.7782594 , 0.76879305, 0.41361913, 0.25406745,\n",
       "       0.2814088 , 0.3979328 , 0.28644645, 0.2822233 , 0.78028685,\n",
       "       0.24717356, 0.3075524 , 0.24916132, 0.24916132, 0.24633427,\n",
       "       0.26443464, 0.24916132, 0.24916132, 0.4010785 , 0.24868427,\n",
       "       0.24916132, 0.68966234, 0.68966234, 0.25176266, 0.24976103,\n",
       "       0.51585066, 0.24916132, 0.300453  , 0.3130168 , 0.24916132,\n",
       "       0.68366563, 0.7782594 , 0.24916132, 0.78028685, 0.32938075,\n",
       "       0.25039834, 0.6473803 , 0.78028685, 0.34035966, 0.42953143,\n",
       "       0.65670884, 0.39670515, 0.24916132, 0.5545064 , 0.2702462 ,\n",
       "       0.28206757, 0.24868427, 0.38509873, 0.24717356, 0.25646946,\n",
       "       0.65641475, 0.24916132, 0.28015998, 0.6441394 , 0.69326395,\n",
       "       0.78028685, 0.24916132, 0.49941757, 0.29991695, 0.24916132,\n",
       "       0.78028685, 0.7782594 , 0.76457876], dtype=float32)"
      ]
     },
     "execution_count": 141,
     "metadata": {},
     "output_type": "execute_result"
    }
   ],
   "source": [
    "xgb_predict_proba = xgb1.predict_proba(test_x)\n",
    "xgb_predict_proba[:,1]"
   ]
  },
  {
   "cell_type": "markdown",
   "id": "6dcb1681",
   "metadata": {},
   "source": [
    "### $TP(真阳性) = 真实值为1，预测值也为1的数量 $ "
   ]
  },
  {
   "cell_type": "code",
   "execution_count": 142,
   "id": "8c8ba2e4",
   "metadata": {},
   "outputs": [
    {
     "data": {
      "text/plain": [
       "124"
      ]
     },
     "execution_count": 142,
     "metadata": {},
     "output_type": "execute_result"
    }
   ],
   "source": [
    "\n",
    "\n",
    "TP = ((test_y==1) * (xgb_predict==1)).sum()\n",
    "TP"
   ]
  },
  {
   "cell_type": "markdown",
   "id": "93651a71",
   "metadata": {},
   "source": [
    "### $ FN(假阴性) = 真实值为1，预测集为0的数量$"
   ]
  },
  {
   "cell_type": "code",
   "execution_count": 143,
   "id": "5334578a",
   "metadata": {},
   "outputs": [
    {
     "data": {
      "text/plain": [
       "35"
      ]
     },
     "execution_count": 143,
     "metadata": {},
     "output_type": "execute_result"
    }
   ],
   "source": [
    "FN = ((test_y == 1) * (xgb_predict == 0)).sum()\n",
    "FN"
   ]
  },
  {
   "cell_type": "markdown",
   "id": "eef53dd1",
   "metadata": {},
   "source": [
    "### $ TPR = TP/(TP + FN) $ 也称为为—灵敏度"
   ]
  },
  {
   "cell_type": "code",
   "execution_count": 144,
   "id": "66a9c365",
   "metadata": {},
   "outputs": [
    {
     "data": {
      "text/plain": [
       "0.779874213836478"
      ]
     },
     "execution_count": 144,
     "metadata": {},
     "output_type": "execute_result"
    }
   ],
   "source": [
    "TPR = TP/(TP+FN)\n",
    "TPR"
   ]
  },
  {
   "cell_type": "markdown",
   "id": "1031905d",
   "metadata": {},
   "source": [
    "### $ FP(假阳性) = 真实值为0，预测值为1 的数量$ "
   ]
  },
  {
   "cell_type": "code",
   "execution_count": 145,
   "id": "7caae810",
   "metadata": {},
   "outputs": [
    {
     "data": {
      "text/plain": [
       "23"
      ]
     },
     "execution_count": 145,
     "metadata": {},
     "output_type": "execute_result"
    }
   ],
   "source": [
    "FP = ((test_y==0)*(xgb_predict==1)).sum()\n",
    "FP"
   ]
  },
  {
   "cell_type": "markdown",
   "id": "a7326f4b",
   "metadata": {},
   "source": [
    "### $ TN(真阴性) = 真实值为0，预测值也为0 的数量$"
   ]
  },
  {
   "cell_type": "code",
   "execution_count": 146,
   "id": "117b9390",
   "metadata": {},
   "outputs": [
    {
     "data": {
      "text/plain": [
       "236"
      ]
     },
     "execution_count": 146,
     "metadata": {},
     "output_type": "execute_result"
    }
   ],
   "source": [
    "TN = ((test_y==0)*(xgb_predict==0)).sum()\n",
    "TN"
   ]
  },
  {
   "cell_type": "markdown",
   "id": "10aed410",
   "metadata": {},
   "source": [
    "### $ FPR = FP/(FP + TN) $"
   ]
  },
  {
   "cell_type": "code",
   "execution_count": 147,
   "id": "bab7e70c",
   "metadata": {},
   "outputs": [
    {
     "data": {
      "text/plain": [
       "0.0888030888030888"
      ]
     },
     "execution_count": 147,
     "metadata": {},
     "output_type": "execute_result"
    }
   ],
   "source": [
    "FPR = FP/(FP+TN)\n",
    "FPR"
   ]
  },
  {
   "cell_type": "markdown",
   "id": "cd9c6289",
   "metadata": {},
   "source": [
    "### $ 1-FPR=特异度 $"
   ]
  },
  {
   "cell_type": "code",
   "execution_count": 148,
   "id": "322526e5",
   "metadata": {},
   "outputs": [
    {
     "data": {
      "text/plain": [
       "0.9111969111969112"
      ]
     },
     "execution_count": 148,
     "metadata": {},
     "output_type": "execute_result"
    }
   ],
   "source": [
    "1-FPR"
   ]
  },
  {
   "cell_type": "code",
   "execution_count": 149,
   "id": "aeeb4fd2",
   "metadata": {},
   "outputs": [
    {
     "data": {
      "text/plain": [
       "'accuracy得分返回正确分类的比率：0.861244019138756'"
      ]
     },
     "execution_count": 149,
     "metadata": {},
     "output_type": "execute_result"
    }
   ],
   "source": [
    "from sklearn.metrics import accuracy_score\n",
    "f\"accuracy得分返回正确分类的比率：{accuracy_score(test_y,xgb_predict)}\""
   ]
  },
  {
   "cell_type": "code",
   "execution_count": 150,
   "id": "86af5c53",
   "metadata": {},
   "outputs": [
    {
     "data": {
      "text/plain": [
       "(array([0.        , 0.        , 0.00772201, 0.01158301, 0.01158301,\n",
       "        0.01544402, 0.01544402, 0.01544402, 0.01930502, 0.01930502,\n",
       "        0.01930502, 0.02316602, 0.02316602, 0.02702703, 0.02702703,\n",
       "        0.02702703, 0.02702703, 0.02702703, 0.03088803, 0.03088803,\n",
       "        0.03474903, 0.03861004, 0.03861004, 0.04247104, 0.04633205,\n",
       "        0.04633205, 0.05791506, 0.06177606, 0.06177606, 0.06177606,\n",
       "        0.06563707, 0.06563707, 0.07335907, 0.07335907, 0.08108108,\n",
       "        0.08108108, 0.08880309, 0.08880309, 0.0965251 , 0.0965251 ,\n",
       "        0.1003861 , 0.1003861 , 0.10810811, 0.11583012, 0.11583012,\n",
       "        0.12355212, 0.12741313, 0.12741313, 0.13127413, 0.13127413,\n",
       "        0.13513514, 0.13513514, 0.14671815, 0.14671815, 0.15057915,\n",
       "        0.15057915, 0.15830116, 0.16216216, 0.16602317, 0.16602317,\n",
       "        0.17374517, 0.17374517, 0.18146718, 0.18918919, 0.18918919,\n",
       "        0.19305019, 0.1969112 , 0.1969112 , 0.2046332 , 0.21235521,\n",
       "        0.21621622, 0.21621622, 0.22393822, 0.22393822, 0.22779923,\n",
       "        0.22779923, 0.23166023, 0.23938224, 0.25096525, 0.25868726,\n",
       "        0.27027027, 0.27799228, 0.28571429, 0.29343629, 0.2972973 ,\n",
       "        0.30501931, 0.32046332, 0.32432432, 0.34362934, 0.34749035,\n",
       "        0.34749035, 0.37065637, 0.37451737, 0.38610039, 0.39382239,\n",
       "        0.4015444 , 0.40926641, 0.42471042, 0.43243243, 0.45173745,\n",
       "        0.47490347, 0.48262548, 0.50579151, 0.86872587, 0.88803089,\n",
       "        0.8957529 , 0.90733591, 0.98841699, 1.        ]),\n",
       " array([0.        , 0.18867925, 0.35849057, 0.38993711, 0.41509434,\n",
       "        0.44025157, 0.45283019, 0.47169811, 0.47169811, 0.48427673,\n",
       "        0.49056604, 0.50314465, 0.52201258, 0.54716981, 0.55345912,\n",
       "        0.56603774, 0.62264151, 0.62893082, 0.62893082, 0.65408805,\n",
       "        0.66037736, 0.66037736, 0.67295597, 0.67295597, 0.67924528,\n",
       "        0.70440252, 0.70440252, 0.71069182, 0.72327044, 0.72955975,\n",
       "        0.73584906, 0.74213836, 0.74213836, 0.75471698, 0.75471698,\n",
       "        0.76100629, 0.76100629, 0.78616352, 0.78616352, 0.79245283,\n",
       "        0.79245283, 0.79874214, 0.79874214, 0.79874214, 0.80503145,\n",
       "        0.80503145, 0.80503145, 0.81132075, 0.81132075, 0.81761006,\n",
       "        0.81761006, 0.83647799, 0.83647799, 0.8427673 , 0.8427673 ,\n",
       "        0.8490566 , 0.8490566 , 0.85534591, 0.85534591, 0.86163522,\n",
       "        0.86163522, 0.86792453, 0.86792453, 0.86792453, 0.87421384,\n",
       "        0.88050314, 0.88050314, 0.88679245, 0.88679245, 0.88679245,\n",
       "        0.88679245, 0.89308176, 0.89308176, 0.89937107, 0.89937107,\n",
       "        0.90566038, 0.90566038, 0.90566038, 0.90566038, 0.90566038,\n",
       "        0.90566038, 0.91194969, 0.91194969, 0.91194969, 0.91194969,\n",
       "        0.91194969, 0.91194969, 0.91823899, 0.9245283 , 0.9245283 ,\n",
       "        0.93081761, 0.93081761, 0.93710692, 0.93710692, 0.93710692,\n",
       "        0.93710692, 0.93710692, 0.93710692, 0.93710692, 0.93710692,\n",
       "        0.94968553, 0.94968553, 0.94968553, 0.98113208, 0.98113208,\n",
       "        0.98742138, 0.98742138, 0.99371069, 1.        ]))"
      ]
     },
     "execution_count": 150,
     "metadata": {},
     "output_type": "execute_result"
    }
   ],
   "source": [
    "from sklearn.metrics import roc_curve\n",
    "[fpr,tpr,thr]=roc_curve(test_y,xgb_predict_proba[:,1])\n",
    "fpr,tpr"
   ]
  },
  {
   "cell_type": "code",
   "execution_count": 151,
   "id": "61a7fdff",
   "metadata": {},
   "outputs": [
    {
     "data": {
      "text/plain": [
       "'auc得分：0.9104441368592313'"
      ]
     },
     "execution_count": 151,
     "metadata": {},
     "output_type": "execute_result"
    }
   ],
   "source": [
    "from sklearn.metrics import auc\n",
    "f\"auc得分：{auc(fpr,tpr)}\""
   ]
  },
  {
   "cell_type": "markdown",
   "id": "d407a1d4",
   "metadata": {},
   "source": [
    "### 手动计算auc得分"
   ]
  },
  {
   "cell_type": "code",
   "execution_count": 161,
   "id": "1ce2013c",
   "metadata": {},
   "outputs": [
    {
     "data": {
      "text/plain": [
       "0.9104441368592312"
      ]
     },
     "execution_count": 161,
     "metadata": {},
     "output_type": "execute_result"
    }
   ],
   "source": [
    "def AUC(label, pre):\n",
    "    pos = [i for i in range(len(label)) if label[i] == 1]\n",
    "    neg = [i for i in range(len(label)) if label[i] == 0]\n",
    "    #计算正样本和负样本的索引，以便索引出之后的概率值\n",
    "    auc = 0\n",
    "    for i in pos:\n",
    "        for j in neg:\n",
    "            if pre[i] > pre[j]:\n",
    "                auc += 1\n",
    "            elif pre[i] == pre[j]:\n",
    "                auc += 0.5\n",
    "    return auc / (len(pos)*len(neg))\n",
    "\n",
    "AUC(test_y,xgb_predict_proba[:,1])"
   ]
  },
  {
   "cell_type": "code",
   "execution_count": 159,
   "id": "c042c308",
   "metadata": {},
   "outputs": [
    {
     "data": {
      "text/plain": [
       "'log loss得分：0.43206069515082257'"
      ]
     },
     "execution_count": 159,
     "metadata": {},
     "output_type": "execute_result"
    }
   ],
   "source": [
    "from sklearn.metrics import log_loss\n",
    "\n",
    "f\"log loss得分：{log_loss(test_y,xgb_predict_proba[:,1])}\""
   ]
  },
  {
   "cell_type": "markdown",
   "id": "e13d45f9",
   "metadata": {},
   "source": [
    "### 6 十折验证 模型的效果\n",
    "\n",
    "#### 6.1 十折 accuracy 得分均值"
   ]
  },
  {
   "cell_type": "code",
   "execution_count": 152,
   "id": "3f834195",
   "metadata": {},
   "outputs": [
    {
     "name": "stderr",
     "output_type": "stream",
     "text": [
      "/home/zhangmanman/anaconda3/envs/XgboostENV/lib/python3.7/site-packages/xgboost/sklearn.py:1224: UserWarning: The use of label encoder in XGBClassifier is deprecated and will be removed in a future release. To remove this warning, do the following: 1) Pass option use_label_encoder=False when constructing XGBClassifier object; and 2) Encode your labels (y) as integers starting with 0, i.e. 0, 1, 2, ..., [num_class - 1].\n",
      "  warnings.warn(label_encoder_deprecation_msg, UserWarning)\n",
      "/home/zhangmanman/anaconda3/envs/XgboostENV/lib/python3.7/site-packages/xgboost/sklearn.py:1224: UserWarning: The use of label encoder in XGBClassifier is deprecated and will be removed in a future release. To remove this warning, do the following: 1) Pass option use_label_encoder=False when constructing XGBClassifier object; and 2) Encode your labels (y) as integers starting with 0, i.e. 0, 1, 2, ..., [num_class - 1].\n",
      "  warnings.warn(label_encoder_deprecation_msg, UserWarning)\n",
      "/home/zhangmanman/anaconda3/envs/XgboostENV/lib/python3.7/site-packages/xgboost/sklearn.py:1224: UserWarning: The use of label encoder in XGBClassifier is deprecated and will be removed in a future release. To remove this warning, do the following: 1) Pass option use_label_encoder=False when constructing XGBClassifier object; and 2) Encode your labels (y) as integers starting with 0, i.e. 0, 1, 2, ..., [num_class - 1].\n",
      "  warnings.warn(label_encoder_deprecation_msg, UserWarning)\n",
      "/home/zhangmanman/anaconda3/envs/XgboostENV/lib/python3.7/site-packages/xgboost/sklearn.py:1224: UserWarning: The use of label encoder in XGBClassifier is deprecated and will be removed in a future release. To remove this warning, do the following: 1) Pass option use_label_encoder=False when constructing XGBClassifier object; and 2) Encode your labels (y) as integers starting with 0, i.e. 0, 1, 2, ..., [num_class - 1].\n",
      "  warnings.warn(label_encoder_deprecation_msg, UserWarning)\n",
      "/home/zhangmanman/anaconda3/envs/XgboostENV/lib/python3.7/site-packages/xgboost/sklearn.py:1224: UserWarning: The use of label encoder in XGBClassifier is deprecated and will be removed in a future release. To remove this warning, do the following: 1) Pass option use_label_encoder=False when constructing XGBClassifier object; and 2) Encode your labels (y) as integers starting with 0, i.e. 0, 1, 2, ..., [num_class - 1].\n",
      "  warnings.warn(label_encoder_deprecation_msg, UserWarning)\n",
      "/home/zhangmanman/anaconda3/envs/XgboostENV/lib/python3.7/site-packages/xgboost/sklearn.py:1224: UserWarning: The use of label encoder in XGBClassifier is deprecated and will be removed in a future release. To remove this warning, do the following: 1) Pass option use_label_encoder=False when constructing XGBClassifier object; and 2) Encode your labels (y) as integers starting with 0, i.e. 0, 1, 2, ..., [num_class - 1].\n",
      "  warnings.warn(label_encoder_deprecation_msg, UserWarning)\n",
      "/home/zhangmanman/anaconda3/envs/XgboostENV/lib/python3.7/site-packages/xgboost/sklearn.py:1224: UserWarning: The use of label encoder in XGBClassifier is deprecated and will be removed in a future release. To remove this warning, do the following: 1) Pass option use_label_encoder=False when constructing XGBClassifier object; and 2) Encode your labels (y) as integers starting with 0, i.e. 0, 1, 2, ..., [num_class - 1].\n",
      "  warnings.warn(label_encoder_deprecation_msg, UserWarning)\n",
      "/home/zhangmanman/anaconda3/envs/XgboostENV/lib/python3.7/site-packages/xgboost/sklearn.py:1224: UserWarning: The use of label encoder in XGBClassifier is deprecated and will be removed in a future release. To remove this warning, do the following: 1) Pass option use_label_encoder=False when constructing XGBClassifier object; and 2) Encode your labels (y) as integers starting with 0, i.e. 0, 1, 2, ..., [num_class - 1].\n",
      "  warnings.warn(label_encoder_deprecation_msg, UserWarning)\n",
      "/home/zhangmanman/anaconda3/envs/XgboostENV/lib/python3.7/site-packages/xgboost/sklearn.py:1224: UserWarning: The use of label encoder in XGBClassifier is deprecated and will be removed in a future release. To remove this warning, do the following: 1) Pass option use_label_encoder=False when constructing XGBClassifier object; and 2) Encode your labels (y) as integers starting with 0, i.e. 0, 1, 2, ..., [num_class - 1].\n",
      "  warnings.warn(label_encoder_deprecation_msg, UserWarning)\n",
      "/home/zhangmanman/anaconda3/envs/XgboostENV/lib/python3.7/site-packages/xgboost/sklearn.py:1224: UserWarning: The use of label encoder in XGBClassifier is deprecated and will be removed in a future release. To remove this warning, do the following: 1) Pass option use_label_encoder=False when constructing XGBClassifier object; and 2) Encode your labels (y) as integers starting with 0, i.e. 0, 1, 2, ..., [num_class - 1].\n",
      "  warnings.warn(label_encoder_deprecation_msg, UserWarning)\n"
     ]
    },
    {
     "data": {
      "text/plain": [
       "0.8510980622431005"
      ]
     },
     "execution_count": 152,
     "metadata": {},
     "output_type": "execute_result"
    }
   ],
   "source": [
    "from sklearn.model_selection import cross_val_score\n",
    "\n",
    "scores_accuracy = cross_val_score(xgb1,X,Y,cv=10,scoring=\"accuracy\")\n",
    "scores_accuracy.mean()"
   ]
  },
  {
   "cell_type": "markdown",
   "id": "f43bdead",
   "metadata": {},
   "source": [
    "#### 6.2 十折 log loss 得分均值"
   ]
  },
  {
   "cell_type": "code",
   "execution_count": 155,
   "id": "0681358b",
   "metadata": {},
   "outputs": [
    {
     "name": "stderr",
     "output_type": "stream",
     "text": [
      "/home/zhangmanman/anaconda3/envs/XgboostENV/lib/python3.7/site-packages/xgboost/sklearn.py:1224: UserWarning: The use of label encoder in XGBClassifier is deprecated and will be removed in a future release. To remove this warning, do the following: 1) Pass option use_label_encoder=False when constructing XGBClassifier object; and 2) Encode your labels (y) as integers starting with 0, i.e. 0, 1, 2, ..., [num_class - 1].\n",
      "  warnings.warn(label_encoder_deprecation_msg, UserWarning)\n",
      "/home/zhangmanman/anaconda3/envs/XgboostENV/lib/python3.7/site-packages/xgboost/sklearn.py:1224: UserWarning: The use of label encoder in XGBClassifier is deprecated and will be removed in a future release. To remove this warning, do the following: 1) Pass option use_label_encoder=False when constructing XGBClassifier object; and 2) Encode your labels (y) as integers starting with 0, i.e. 0, 1, 2, ..., [num_class - 1].\n",
      "  warnings.warn(label_encoder_deprecation_msg, UserWarning)\n",
      "/home/zhangmanman/anaconda3/envs/XgboostENV/lib/python3.7/site-packages/xgboost/sklearn.py:1224: UserWarning: The use of label encoder in XGBClassifier is deprecated and will be removed in a future release. To remove this warning, do the following: 1) Pass option use_label_encoder=False when constructing XGBClassifier object; and 2) Encode your labels (y) as integers starting with 0, i.e. 0, 1, 2, ..., [num_class - 1].\n",
      "  warnings.warn(label_encoder_deprecation_msg, UserWarning)\n",
      "/home/zhangmanman/anaconda3/envs/XgboostENV/lib/python3.7/site-packages/xgboost/sklearn.py:1224: UserWarning: The use of label encoder in XGBClassifier is deprecated and will be removed in a future release. To remove this warning, do the following: 1) Pass option use_label_encoder=False when constructing XGBClassifier object; and 2) Encode your labels (y) as integers starting with 0, i.e. 0, 1, 2, ..., [num_class - 1].\n",
      "  warnings.warn(label_encoder_deprecation_msg, UserWarning)\n",
      "/home/zhangmanman/anaconda3/envs/XgboostENV/lib/python3.7/site-packages/xgboost/sklearn.py:1224: UserWarning: The use of label encoder in XGBClassifier is deprecated and will be removed in a future release. To remove this warning, do the following: 1) Pass option use_label_encoder=False when constructing XGBClassifier object; and 2) Encode your labels (y) as integers starting with 0, i.e. 0, 1, 2, ..., [num_class - 1].\n",
      "  warnings.warn(label_encoder_deprecation_msg, UserWarning)\n",
      "/home/zhangmanman/anaconda3/envs/XgboostENV/lib/python3.7/site-packages/xgboost/sklearn.py:1224: UserWarning: The use of label encoder in XGBClassifier is deprecated and will be removed in a future release. To remove this warning, do the following: 1) Pass option use_label_encoder=False when constructing XGBClassifier object; and 2) Encode your labels (y) as integers starting with 0, i.e. 0, 1, 2, ..., [num_class - 1].\n",
      "  warnings.warn(label_encoder_deprecation_msg, UserWarning)\n",
      "/home/zhangmanman/anaconda3/envs/XgboostENV/lib/python3.7/site-packages/xgboost/sklearn.py:1224: UserWarning: The use of label encoder in XGBClassifier is deprecated and will be removed in a future release. To remove this warning, do the following: 1) Pass option use_label_encoder=False when constructing XGBClassifier object; and 2) Encode your labels (y) as integers starting with 0, i.e. 0, 1, 2, ..., [num_class - 1].\n",
      "  warnings.warn(label_encoder_deprecation_msg, UserWarning)\n",
      "/home/zhangmanman/anaconda3/envs/XgboostENV/lib/python3.7/site-packages/xgboost/sklearn.py:1224: UserWarning: The use of label encoder in XGBClassifier is deprecated and will be removed in a future release. To remove this warning, do the following: 1) Pass option use_label_encoder=False when constructing XGBClassifier object; and 2) Encode your labels (y) as integers starting with 0, i.e. 0, 1, 2, ..., [num_class - 1].\n",
      "  warnings.warn(label_encoder_deprecation_msg, UserWarning)\n",
      "/home/zhangmanman/anaconda3/envs/XgboostENV/lib/python3.7/site-packages/xgboost/sklearn.py:1224: UserWarning: The use of label encoder in XGBClassifier is deprecated and will be removed in a future release. To remove this warning, do the following: 1) Pass option use_label_encoder=False when constructing XGBClassifier object; and 2) Encode your labels (y) as integers starting with 0, i.e. 0, 1, 2, ..., [num_class - 1].\n",
      "  warnings.warn(label_encoder_deprecation_msg, UserWarning)\n",
      "/home/zhangmanman/anaconda3/envs/XgboostENV/lib/python3.7/site-packages/xgboost/sklearn.py:1224: UserWarning: The use of label encoder in XGBClassifier is deprecated and will be removed in a future release. To remove this warning, do the following: 1) Pass option use_label_encoder=False when constructing XGBClassifier object; and 2) Encode your labels (y) as integers starting with 0, i.e. 0, 1, 2, ..., [num_class - 1].\n",
      "  warnings.warn(label_encoder_deprecation_msg, UserWarning)\n"
     ]
    },
    {
     "data": {
      "text/plain": [
       "0.4375838286697829"
      ]
     },
     "execution_count": 155,
     "metadata": {},
     "output_type": "execute_result"
    }
   ],
   "source": [
    "score_log_loss = cross_val_score(xgb1,X,Y,cv=10,scoring=\"neg_log_loss\")\n",
    "-score_log_loss.mean()"
   ]
  },
  {
   "cell_type": "markdown",
   "id": "220fba06",
   "metadata": {},
   "source": [
    "#### 6.3 十折 auc 得分均值"
   ]
  },
  {
   "cell_type": "code",
   "execution_count": 157,
   "id": "293b6cd4",
   "metadata": {},
   "outputs": [
    {
     "name": "stderr",
     "output_type": "stream",
     "text": [
      "/home/zhangmanman/anaconda3/envs/XgboostENV/lib/python3.7/site-packages/xgboost/sklearn.py:1224: UserWarning: The use of label encoder in XGBClassifier is deprecated and will be removed in a future release. To remove this warning, do the following: 1) Pass option use_label_encoder=False when constructing XGBClassifier object; and 2) Encode your labels (y) as integers starting with 0, i.e. 0, 1, 2, ..., [num_class - 1].\n",
      "  warnings.warn(label_encoder_deprecation_msg, UserWarning)\n",
      "/home/zhangmanman/anaconda3/envs/XgboostENV/lib/python3.7/site-packages/xgboost/sklearn.py:1224: UserWarning: The use of label encoder in XGBClassifier is deprecated and will be removed in a future release. To remove this warning, do the following: 1) Pass option use_label_encoder=False when constructing XGBClassifier object; and 2) Encode your labels (y) as integers starting with 0, i.e. 0, 1, 2, ..., [num_class - 1].\n",
      "  warnings.warn(label_encoder_deprecation_msg, UserWarning)\n",
      "/home/zhangmanman/anaconda3/envs/XgboostENV/lib/python3.7/site-packages/xgboost/sklearn.py:1224: UserWarning: The use of label encoder in XGBClassifier is deprecated and will be removed in a future release. To remove this warning, do the following: 1) Pass option use_label_encoder=False when constructing XGBClassifier object; and 2) Encode your labels (y) as integers starting with 0, i.e. 0, 1, 2, ..., [num_class - 1].\n",
      "  warnings.warn(label_encoder_deprecation_msg, UserWarning)\n",
      "/home/zhangmanman/anaconda3/envs/XgboostENV/lib/python3.7/site-packages/xgboost/sklearn.py:1224: UserWarning: The use of label encoder in XGBClassifier is deprecated and will be removed in a future release. To remove this warning, do the following: 1) Pass option use_label_encoder=False when constructing XGBClassifier object; and 2) Encode your labels (y) as integers starting with 0, i.e. 0, 1, 2, ..., [num_class - 1].\n",
      "  warnings.warn(label_encoder_deprecation_msg, UserWarning)\n",
      "/home/zhangmanman/anaconda3/envs/XgboostENV/lib/python3.7/site-packages/xgboost/sklearn.py:1224: UserWarning: The use of label encoder in XGBClassifier is deprecated and will be removed in a future release. To remove this warning, do the following: 1) Pass option use_label_encoder=False when constructing XGBClassifier object; and 2) Encode your labels (y) as integers starting with 0, i.e. 0, 1, 2, ..., [num_class - 1].\n",
      "  warnings.warn(label_encoder_deprecation_msg, UserWarning)\n",
      "/home/zhangmanman/anaconda3/envs/XgboostENV/lib/python3.7/site-packages/xgboost/sklearn.py:1224: UserWarning: The use of label encoder in XGBClassifier is deprecated and will be removed in a future release. To remove this warning, do the following: 1) Pass option use_label_encoder=False when constructing XGBClassifier object; and 2) Encode your labels (y) as integers starting with 0, i.e. 0, 1, 2, ..., [num_class - 1].\n",
      "  warnings.warn(label_encoder_deprecation_msg, UserWarning)\n",
      "/home/zhangmanman/anaconda3/envs/XgboostENV/lib/python3.7/site-packages/xgboost/sklearn.py:1224: UserWarning: The use of label encoder in XGBClassifier is deprecated and will be removed in a future release. To remove this warning, do the following: 1) Pass option use_label_encoder=False when constructing XGBClassifier object; and 2) Encode your labels (y) as integers starting with 0, i.e. 0, 1, 2, ..., [num_class - 1].\n",
      "  warnings.warn(label_encoder_deprecation_msg, UserWarning)\n",
      "/home/zhangmanman/anaconda3/envs/XgboostENV/lib/python3.7/site-packages/xgboost/sklearn.py:1224: UserWarning: The use of label encoder in XGBClassifier is deprecated and will be removed in a future release. To remove this warning, do the following: 1) Pass option use_label_encoder=False when constructing XGBClassifier object; and 2) Encode your labels (y) as integers starting with 0, i.e. 0, 1, 2, ..., [num_class - 1].\n",
      "  warnings.warn(label_encoder_deprecation_msg, UserWarning)\n",
      "/home/zhangmanman/anaconda3/envs/XgboostENV/lib/python3.7/site-packages/xgboost/sklearn.py:1224: UserWarning: The use of label encoder in XGBClassifier is deprecated and will be removed in a future release. To remove this warning, do the following: 1) Pass option use_label_encoder=False when constructing XGBClassifier object; and 2) Encode your labels (y) as integers starting with 0, i.e. 0, 1, 2, ..., [num_class - 1].\n",
      "  warnings.warn(label_encoder_deprecation_msg, UserWarning)\n",
      "/home/zhangmanman/anaconda3/envs/XgboostENV/lib/python3.7/site-packages/xgboost/sklearn.py:1224: UserWarning: The use of label encoder in XGBClassifier is deprecated and will be removed in a future release. To remove this warning, do the following: 1) Pass option use_label_encoder=False when constructing XGBClassifier object; and 2) Encode your labels (y) as integers starting with 0, i.e. 0, 1, 2, ..., [num_class - 1].\n",
      "  warnings.warn(label_encoder_deprecation_msg, UserWarning)\n"
     ]
    },
    {
     "data": {
      "text/plain": [
       "0.8988875676738628"
      ]
     },
     "execution_count": 157,
     "metadata": {},
     "output_type": "execute_result"
    }
   ],
   "source": [
    "scores_auc = cross_val_score(xgb1,X,Y,cv=10,scoring=\"roc_auc\")\n",
    "scores_auc.mean()"
   ]
  },
  {
   "cell_type": "code",
   "execution_count": 162,
   "id": "b372d266",
   "metadata": {},
   "outputs": [
    {
     "name": "stdout",
     "output_type": "stream",
     "text": [
      "[16:46:43] WARNING: /croot/xgboost-split_1675119646044/work/src/learner.cc:576: \n",
      "Parameters: { \"n_estimators\" } might not be used.\n",
      "\n",
      "  This could be a false alarm, with some parameters getting used by language bindings but\n",
      "  then being mistakenly passed down to XGBoost core, or some parameter actually being used\n",
      "  but getting flagged wrongly here. Please open an issue if you find any such cases.\n",
      "\n",
      "\n",
      "[0]\ttrain-auc:0.89514\n",
      "[1]\ttrain-auc:0.90158\n",
      "[2]\ttrain-auc:0.91077\n",
      "[3]\ttrain-auc:0.91197\n",
      "[4]\ttrain-auc:0.92527\n",
      "[5]\ttrain-auc:0.93700\n",
      "[6]\ttrain-auc:0.93671\n",
      "[7]\ttrain-auc:0.94010\n",
      "[8]\ttrain-auc:0.95815\n",
      "[9]\ttrain-auc:0.95896\n",
      "[10]\ttrain-auc:0.96022\n",
      "[11]\ttrain-auc:0.96769\n",
      "[12]\ttrain-auc:0.97088\n",
      "[13]\ttrain-auc:0.97259\n",
      "[14]\ttrain-auc:0.97607\n",
      "[15]\ttrain-auc:0.97932\n",
      "[16]\ttrain-auc:0.98028\n",
      "[17]\ttrain-auc:0.98114\n",
      "[18]\ttrain-auc:0.98228\n",
      "[19]\ttrain-auc:0.98266\n",
      "[20]\ttrain-auc:0.98374\n",
      "[21]\ttrain-auc:0.98531\n",
      "[22]\ttrain-auc:0.98628\n",
      "[23]\ttrain-auc:0.98649\n",
      "[24]\ttrain-auc:0.98706\n",
      "[25]\ttrain-auc:0.98786\n",
      "[26]\ttrain-auc:0.98804\n",
      "[27]\ttrain-auc:0.98848\n",
      "[28]\ttrain-auc:0.98916\n",
      "[29]\ttrain-auc:0.99013\n",
      "[30]\ttrain-auc:0.99070\n",
      "[31]\ttrain-auc:0.99122\n",
      "[32]\ttrain-auc:0.99155\n",
      "[33]\ttrain-auc:0.99198\n",
      "[34]\ttrain-auc:0.99245\n",
      "[35]\ttrain-auc:0.99265\n",
      "[36]\ttrain-auc:0.99322\n",
      "[37]\ttrain-auc:0.99349\n",
      "[38]\ttrain-auc:0.99370\n",
      "[39]\ttrain-auc:0.99398\n",
      "[40]\ttrain-auc:0.99438\n",
      "[41]\ttrain-auc:0.99474\n",
      "[42]\ttrain-auc:0.99477\n",
      "[43]\ttrain-auc:0.99499\n",
      "[44]\ttrain-auc:0.99511\n",
      "[45]\ttrain-auc:0.99535\n",
      "[46]\ttrain-auc:0.99550\n",
      "[47]\ttrain-auc:0.99565\n",
      "[48]\ttrain-auc:0.99590\n",
      "[49]\ttrain-auc:0.99598\n",
      "[50]\ttrain-auc:0.99614\n",
      "[51]\ttrain-auc:0.99627\n",
      "[52]\ttrain-auc:0.99648\n",
      "[53]\ttrain-auc:0.99654\n",
      "[54]\ttrain-auc:0.99662\n",
      "[55]\ttrain-auc:0.99671\n",
      "[56]\ttrain-auc:0.99684\n",
      "[57]\ttrain-auc:0.99700\n",
      "[58]\ttrain-auc:0.99721\n",
      "[59]\ttrain-auc:0.99715\n",
      "[60]\ttrain-auc:0.99728\n",
      "[61]\ttrain-auc:0.99745\n",
      "[62]\ttrain-auc:0.99755\n",
      "[63]\ttrain-auc:0.99767\n",
      "[64]\ttrain-auc:0.99779\n",
      "[65]\ttrain-auc:0.99787\n",
      "[66]\ttrain-auc:0.99794\n",
      "[67]\ttrain-auc:0.99800\n",
      "[68]\ttrain-auc:0.99806\n",
      "[69]\ttrain-auc:0.99812\n",
      "[70]\ttrain-auc:0.99812\n",
      "[71]\ttrain-auc:0.99818\n",
      "[72]\ttrain-auc:0.99827\n",
      "[73]\ttrain-auc:0.99829\n",
      "[74]\ttrain-auc:0.99832\n",
      "[75]\ttrain-auc:0.99834\n",
      "[76]\ttrain-auc:0.99842\n",
      "[77]\ttrain-auc:0.99845\n",
      "[78]\ttrain-auc:0.99846\n",
      "[79]\ttrain-auc:0.99847\n",
      "[80]\ttrain-auc:0.99851\n",
      "[81]\ttrain-auc:0.99853\n",
      "[82]\ttrain-auc:0.99852\n",
      "[83]\ttrain-auc:0.99854\n",
      "[84]\ttrain-auc:0.99855\n",
      "[85]\ttrain-auc:0.99852\n",
      "[86]\ttrain-auc:0.99852\n",
      "[87]\ttrain-auc:0.99856\n",
      "[88]\ttrain-auc:0.99861\n",
      "[89]\ttrain-auc:0.99869\n",
      "[90]\ttrain-auc:0.99872\n",
      "[91]\ttrain-auc:0.99873\n",
      "[92]\ttrain-auc:0.99877\n",
      "[93]\ttrain-auc:0.99877\n",
      "[94]\ttrain-auc:0.99883\n",
      "[95]\ttrain-auc:0.99887\n",
      "[96]\ttrain-auc:0.99886\n",
      "[97]\ttrain-auc:0.99886\n",
      "[98]\ttrain-auc:0.99888\n",
      "[99]\ttrain-auc:0.99890\n"
     ]
    },
    {
     "data": {
      "text/plain": [
       "0.861244019138756"
      ]
     },
     "execution_count": 162,
     "metadata": {},
     "output_type": "execute_result"
    }
   ],
   "source": [
    "import xgboost as xgb\n",
    "\n",
    "params = { \"learning_rate\":0.1\n",
    "               , \"n_estimators\":10 #即基评估器的数量。这个参数对随机森林模型的精确性影响是单调的，n_estimators越 大，模型的效果往往越好。但是相应的，任何模型都有决策边  n_estimators达到一定的程度之后，随机森林的 精确性往往不在上升或开始波动，并且，n_estimators越大，需要的计算量和内存也越大，训练的时间也会越来越 长。对于这个参数，我们是渴望在训练难度和模型效果之间取得平衡。\n",
    "               , \"max_depth\":12 #构建树的深度，越大越容易过拟合\n",
    "               , \"min_child_weight\":0.1 #孩子节点中最小的样本权重和。如果一个叶子节点的样本权重和小于min_child_weight则拆分过程结束\n",
    "#                , \"num_class \":1#类别数，与 multisoftmax 并用\n",
    "               , \"gamma\":0 #损失下降多少才进行分裂， 控制叶子节点的个数\n",
    "               , \"subsample\":0.8 #随机采样训练样本\n",
    "               , \"colsample_bytree\":1 #生成树时进行的列采样\n",
    "               , \"objective\":'binary:logistic' # {'binary:logistic'}是二分类的问题，{'multi:softmax',}是多分类的问题 这个是优化目标，必须得有，因为xgboost里面有求一阶导数和二阶导数，其实就是这个。\n",
    "               , \"nthread\":4 #cpu 线程数\n",
    "               , \"scale_pos_weight\":1.0 #负样本总数/正样本总数 。若训练负样本总数是500 ，正样本总数100，那么设置 scale_pos_weigh为 5\n",
    "#                , lambda_weight = 2 # 正则化参数\n",
    "               , \"eta\":0.001 # 如同学习率\n",
    "#               \n",
    "#                , metrics='auc'\n",
    "               , \"eval_metric\":\"auc\"\n",
    "#                , \"silent \": 0 # ,设置成1则没有运行信息输出，最好是设置为0.\n",
    "               , \"seed\":27\n",
    "        }\n",
    "dtrain = xgb.DMatrix(train_X,label=train_Y)\n",
    "dtest = xgb.DMatrix(test_x,label=test_y)\n",
    "clf = xgb.train(params=params,dtrain=dtrain,num_boost_round=100,evals=[(dtrain,\"train\")],verbose_eval=True)\n",
    "1-abs(np.array([c>0.5 and 1 or 0 for c in clf.predict(dtest)])-test_y).sum()/test_y.size"
   ]
  },
  {
   "cell_type": "code",
   "execution_count": null,
   "id": "d42f2160",
   "metadata": {},
   "outputs": [],
   "source": []
  },
  {
   "cell_type": "code",
   "execution_count": null,
   "id": "0ef5505f",
   "metadata": {},
   "outputs": [],
   "source": [
    "# clf.predict(dtest)"
   ]
  },
  {
   "cell_type": "code",
   "execution_count": null,
   "id": "90bf2d86",
   "metadata": {},
   "outputs": [],
   "source": []
  },
  {
   "cell_type": "code",
   "execution_count": null,
   "id": "02f7a985",
   "metadata": {},
   "outputs": [],
   "source": [
    "# xg_classifier = xgb.XGBClassifier(objective ='binary:logistic', colsample_bytree = 0.3, learning_rate = 0.1,\n",
    "#                 max_depth = 6, alpha = 10, n_estimators = 10)\n",
    "\n",
    "# xg_classifier.fit(train_X,train_Y)\n",
    "# xg_classifier.score(test_x, test_y)"
   ]
  },
  {
   "cell_type": "code",
   "execution_count": null,
   "id": "ad6b8442",
   "metadata": {},
   "outputs": [],
   "source": [
    "# dtrain = xgb.DMatrix(train_X,label=train_Y)\n",
    "# dtest = xgb.DMatrix(test_x,label=test_y)"
   ]
  },
  {
   "cell_type": "code",
   "execution_count": null,
   "id": "d1ebdce2",
   "metadata": {},
   "outputs": [],
   "source": [
    "# \"\"\"paramet setting\"\"\"\n",
    "# param = {\n",
    "#     'max_depth': 2,\n",
    "#     'eta': 0.007, # 如同学习率\n",
    "#     'objective': 'binary:logistic',# {'binary:logistic'}是二分类的问题，{'multi:softmax',}是多分类的问题 这个是优化目标，必须得有，因为xgboost里面有求一阶导数和二阶导数，其实就是这个\n",
    "#     'booster':'gbtree',# 这个指定基分类器\n",
    "# #     'num_class':2 ,# 类别数，与 multisoftmax 并用\n",
    "#     'gamma':0 ,# 损失下降多少才进行分裂， 控制叶子节点的个数\n",
    "#     'max_depth':12,# 构建树的深度，越大越容易过拟合\n",
    "#     'lambda':2, # 控制模型复杂度的权重值的L2正则化项参数，参数越大，模型越不容易过拟合。\n",
    "#     'subsample':0.7, # 随机采样训练样本\n",
    "#     'colsample_bytree':0.7,# 生成树时进行的列采样\n",
    "#     'min_child_weight':3, # 孩子节点中最小的样本权重和。如果一个叶子节点的样本权重和小于min_child_weight则拆分过程结束\n",
    "#     'silent':0 , # 设置成1则没有运行信息输出，最好是设置为0.\n",
    "#     'eta': 0.007,# 如同学习率\n",
    "#     'seed':1000,\n",
    "#     'nthread':6,# cpu 线程数\n",
    "# }\n",
    "# watch_list = [(dtest, 'eval'), (dtrain, 'train')]  # 这个是观测的时候在什么上面的结果  观测集\n",
    "# num_round = 5\n",
    "# model = xgb.train(params=param, dtrain=dtrain, num_boost_round=num_round, evals=watch_list)"
   ]
  },
  {
   "cell_type": "code",
   "execution_count": null,
   "id": "d25f1efe",
   "metadata": {},
   "outputs": [],
   "source": [
    "# pred = model.predict(dtest) \n",
    "# pred"
   ]
  },
  {
   "cell_type": "code",
   "execution_count": null,
   "id": "a4dd7465",
   "metadata": {},
   "outputs": [],
   "source": [
    "# Label_encoder = LabelEncoder()\n",
    "# integer_encoded = Label_encoder.fit_transform(titanic_data[\"舱位\"])\n",
    "# integer_encoded"
   ]
  },
  {
   "cell_type": "code",
   "execution_count": null,
   "id": "5673fa26",
   "metadata": {},
   "outputs": [],
   "source": []
  },
  {
   "cell_type": "code",
   "execution_count": null,
   "id": "c8688911",
   "metadata": {},
   "outputs": [],
   "source": []
  }
 ],
 "metadata": {
  "kernelspec": {
   "display_name": "Python [conda env:XgboostENV]",
   "language": "python",
   "name": "conda-env-XgboostENV-py"
  },
  "language_info": {
   "codemirror_mode": {
    "name": "ipython",
    "version": 3
   },
   "file_extension": ".py",
   "mimetype": "text/x-python",
   "name": "python",
   "nbconvert_exporter": "python",
   "pygments_lexer": "ipython3",
   "version": "3.7.12"
  }
 },
 "nbformat": 4,
 "nbformat_minor": 5
}
