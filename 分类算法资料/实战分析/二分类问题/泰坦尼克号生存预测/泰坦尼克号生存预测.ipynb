{
 "cells": [
  {
   "cell_type": "code",
   "execution_count": 1,
   "id": "4c7e9d41",
   "metadata": {},
   "outputs": [],
   "source": [
    "import numpy as np\n",
    "import pandas as pd\n",
    "import matplotlib.pyplot as plt\n",
    "import seaborn as sns\n",
    "sns.set_style(\"darkgrid\")"
   ]
  },
  {
   "cell_type": "markdown",
   "id": "a188992a",
   "metadata": {},
   "source": [
    "### 1读取并合并数据\n",
    "#### 1.1 读取生存结果数据"
   ]
  },
  {
   "cell_type": "code",
   "execution_count": 2,
   "id": "1f5afed9",
   "metadata": {},
   "outputs": [
    {
     "data": {
      "text/html": [
       "<div>\n",
       "<style scoped>\n",
       "    .dataframe tbody tr th:only-of-type {\n",
       "        vertical-align: middle;\n",
       "    }\n",
       "\n",
       "    .dataframe tbody tr th {\n",
       "        vertical-align: top;\n",
       "    }\n",
       "\n",
       "    .dataframe thead th {\n",
       "        text-align: right;\n",
       "    }\n",
       "</style>\n",
       "<table border=\"1\" class=\"dataframe\">\n",
       "  <thead>\n",
       "    <tr style=\"text-align: right;\">\n",
       "      <th></th>\n",
       "      <th>PassengerId</th>\n",
       "      <th>Survived</th>\n",
       "    </tr>\n",
       "  </thead>\n",
       "  <tbody>\n",
       "    <tr>\n",
       "      <th>0</th>\n",
       "      <td>892</td>\n",
       "      <td>0</td>\n",
       "    </tr>\n",
       "    <tr>\n",
       "      <th>1</th>\n",
       "      <td>893</td>\n",
       "      <td>1</td>\n",
       "    </tr>\n",
       "    <tr>\n",
       "      <th>2</th>\n",
       "      <td>894</td>\n",
       "      <td>0</td>\n",
       "    </tr>\n",
       "    <tr>\n",
       "      <th>3</th>\n",
       "      <td>895</td>\n",
       "      <td>0</td>\n",
       "    </tr>\n",
       "    <tr>\n",
       "      <th>4</th>\n",
       "      <td>896</td>\n",
       "      <td>1</td>\n",
       "    </tr>\n",
       "  </tbody>\n",
       "</table>\n",
       "</div>"
      ],
      "text/plain": [
       "   PassengerId  Survived\n",
       "0          892         0\n",
       "1          893         1\n",
       "2          894         0\n",
       "3          895         0\n",
       "4          896         1"
      ]
     },
     "execution_count": 2,
     "metadata": {},
     "output_type": "execute_result"
    }
   ],
   "source": [
    "gender_submission_data = pd.read_csv(\"gender_submission.csv\")\n",
    "gender_submission_data.head()"
   ]
  },
  {
   "cell_type": "markdown",
   "id": "616d669c",
   "metadata": {},
   "source": [
    "#### 1.2 读取测试数据"
   ]
  },
  {
   "cell_type": "code",
   "execution_count": 3,
   "id": "c1b3021d",
   "metadata": {},
   "outputs": [
    {
     "data": {
      "text/html": [
       "<div>\n",
       "<style scoped>\n",
       "    .dataframe tbody tr th:only-of-type {\n",
       "        vertical-align: middle;\n",
       "    }\n",
       "\n",
       "    .dataframe tbody tr th {\n",
       "        vertical-align: top;\n",
       "    }\n",
       "\n",
       "    .dataframe thead th {\n",
       "        text-align: right;\n",
       "    }\n",
       "</style>\n",
       "<table border=\"1\" class=\"dataframe\">\n",
       "  <thead>\n",
       "    <tr style=\"text-align: right;\">\n",
       "      <th></th>\n",
       "      <th>PassengerId</th>\n",
       "      <th>Pclass</th>\n",
       "      <th>Name</th>\n",
       "      <th>Sex</th>\n",
       "      <th>Age</th>\n",
       "      <th>SibSp</th>\n",
       "      <th>Parch</th>\n",
       "      <th>Ticket</th>\n",
       "      <th>Fare</th>\n",
       "      <th>Cabin</th>\n",
       "      <th>Embarked</th>\n",
       "    </tr>\n",
       "  </thead>\n",
       "  <tbody>\n",
       "    <tr>\n",
       "      <th>0</th>\n",
       "      <td>892</td>\n",
       "      <td>3</td>\n",
       "      <td>Kelly, Mr. James</td>\n",
       "      <td>male</td>\n",
       "      <td>34.5</td>\n",
       "      <td>0</td>\n",
       "      <td>0</td>\n",
       "      <td>330911</td>\n",
       "      <td>7.8292</td>\n",
       "      <td>NaN</td>\n",
       "      <td>Q</td>\n",
       "    </tr>\n",
       "    <tr>\n",
       "      <th>1</th>\n",
       "      <td>893</td>\n",
       "      <td>3</td>\n",
       "      <td>Wilkes, Mrs. James (Ellen Needs)</td>\n",
       "      <td>female</td>\n",
       "      <td>47.0</td>\n",
       "      <td>1</td>\n",
       "      <td>0</td>\n",
       "      <td>363272</td>\n",
       "      <td>7.0000</td>\n",
       "      <td>NaN</td>\n",
       "      <td>S</td>\n",
       "    </tr>\n",
       "    <tr>\n",
       "      <th>2</th>\n",
       "      <td>894</td>\n",
       "      <td>2</td>\n",
       "      <td>Myles, Mr. Thomas Francis</td>\n",
       "      <td>male</td>\n",
       "      <td>62.0</td>\n",
       "      <td>0</td>\n",
       "      <td>0</td>\n",
       "      <td>240276</td>\n",
       "      <td>9.6875</td>\n",
       "      <td>NaN</td>\n",
       "      <td>Q</td>\n",
       "    </tr>\n",
       "    <tr>\n",
       "      <th>3</th>\n",
       "      <td>895</td>\n",
       "      <td>3</td>\n",
       "      <td>Wirz, Mr. Albert</td>\n",
       "      <td>male</td>\n",
       "      <td>27.0</td>\n",
       "      <td>0</td>\n",
       "      <td>0</td>\n",
       "      <td>315154</td>\n",
       "      <td>8.6625</td>\n",
       "      <td>NaN</td>\n",
       "      <td>S</td>\n",
       "    </tr>\n",
       "    <tr>\n",
       "      <th>4</th>\n",
       "      <td>896</td>\n",
       "      <td>3</td>\n",
       "      <td>Hirvonen, Mrs. Alexander (Helga E Lindqvist)</td>\n",
       "      <td>female</td>\n",
       "      <td>22.0</td>\n",
       "      <td>1</td>\n",
       "      <td>1</td>\n",
       "      <td>3101298</td>\n",
       "      <td>12.2875</td>\n",
       "      <td>NaN</td>\n",
       "      <td>S</td>\n",
       "    </tr>\n",
       "  </tbody>\n",
       "</table>\n",
       "</div>"
      ],
      "text/plain": [
       "   PassengerId  Pclass                                          Name     Sex  \\\n",
       "0          892       3                              Kelly, Mr. James    male   \n",
       "1          893       3              Wilkes, Mrs. James (Ellen Needs)  female   \n",
       "2          894       2                     Myles, Mr. Thomas Francis    male   \n",
       "3          895       3                              Wirz, Mr. Albert    male   \n",
       "4          896       3  Hirvonen, Mrs. Alexander (Helga E Lindqvist)  female   \n",
       "\n",
       "    Age  SibSp  Parch   Ticket     Fare Cabin Embarked  \n",
       "0  34.5      0      0   330911   7.8292   NaN        Q  \n",
       "1  47.0      1      0   363272   7.0000   NaN        S  \n",
       "2  62.0      0      0   240276   9.6875   NaN        Q  \n",
       "3  27.0      0      0   315154   8.6625   NaN        S  \n",
       "4  22.0      1      1  3101298  12.2875   NaN        S  "
      ]
     },
     "execution_count": 3,
     "metadata": {},
     "output_type": "execute_result"
    }
   ],
   "source": [
    "test_data = pd.read_csv(\"test.csv\")\n",
    "test_data.head()"
   ]
  },
  {
   "cell_type": "markdown",
   "id": "1bd91a7a",
   "metadata": {},
   "source": [
    "#### 1.3 读取训练数据"
   ]
  },
  {
   "cell_type": "code",
   "execution_count": 4,
   "id": "048f1b57",
   "metadata": {},
   "outputs": [
    {
     "data": {
      "text/html": [
       "<div>\n",
       "<style scoped>\n",
       "    .dataframe tbody tr th:only-of-type {\n",
       "        vertical-align: middle;\n",
       "    }\n",
       "\n",
       "    .dataframe tbody tr th {\n",
       "        vertical-align: top;\n",
       "    }\n",
       "\n",
       "    .dataframe thead th {\n",
       "        text-align: right;\n",
       "    }\n",
       "</style>\n",
       "<table border=\"1\" class=\"dataframe\">\n",
       "  <thead>\n",
       "    <tr style=\"text-align: right;\">\n",
       "      <th></th>\n",
       "      <th>PassengerId</th>\n",
       "      <th>Survived</th>\n",
       "      <th>Pclass</th>\n",
       "      <th>Name</th>\n",
       "      <th>Sex</th>\n",
       "      <th>Age</th>\n",
       "      <th>SibSp</th>\n",
       "      <th>Parch</th>\n",
       "      <th>Ticket</th>\n",
       "      <th>Fare</th>\n",
       "      <th>Cabin</th>\n",
       "      <th>Embarked</th>\n",
       "    </tr>\n",
       "  </thead>\n",
       "  <tbody>\n",
       "    <tr>\n",
       "      <th>0</th>\n",
       "      <td>1</td>\n",
       "      <td>0</td>\n",
       "      <td>3</td>\n",
       "      <td>Braund, Mr. Owen Harris</td>\n",
       "      <td>male</td>\n",
       "      <td>22.0</td>\n",
       "      <td>1</td>\n",
       "      <td>0</td>\n",
       "      <td>A/5 21171</td>\n",
       "      <td>7.2500</td>\n",
       "      <td>NaN</td>\n",
       "      <td>S</td>\n",
       "    </tr>\n",
       "    <tr>\n",
       "      <th>1</th>\n",
       "      <td>2</td>\n",
       "      <td>1</td>\n",
       "      <td>1</td>\n",
       "      <td>Cumings, Mrs. John Bradley (Florence Briggs Th...</td>\n",
       "      <td>female</td>\n",
       "      <td>38.0</td>\n",
       "      <td>1</td>\n",
       "      <td>0</td>\n",
       "      <td>PC 17599</td>\n",
       "      <td>71.2833</td>\n",
       "      <td>C85</td>\n",
       "      <td>C</td>\n",
       "    </tr>\n",
       "    <tr>\n",
       "      <th>2</th>\n",
       "      <td>3</td>\n",
       "      <td>1</td>\n",
       "      <td>3</td>\n",
       "      <td>Heikkinen, Miss. Laina</td>\n",
       "      <td>female</td>\n",
       "      <td>26.0</td>\n",
       "      <td>0</td>\n",
       "      <td>0</td>\n",
       "      <td>STON/O2. 3101282</td>\n",
       "      <td>7.9250</td>\n",
       "      <td>NaN</td>\n",
       "      <td>S</td>\n",
       "    </tr>\n",
       "    <tr>\n",
       "      <th>3</th>\n",
       "      <td>4</td>\n",
       "      <td>1</td>\n",
       "      <td>1</td>\n",
       "      <td>Futrelle, Mrs. Jacques Heath (Lily May Peel)</td>\n",
       "      <td>female</td>\n",
       "      <td>35.0</td>\n",
       "      <td>1</td>\n",
       "      <td>0</td>\n",
       "      <td>113803</td>\n",
       "      <td>53.1000</td>\n",
       "      <td>C123</td>\n",
       "      <td>S</td>\n",
       "    </tr>\n",
       "    <tr>\n",
       "      <th>4</th>\n",
       "      <td>5</td>\n",
       "      <td>0</td>\n",
       "      <td>3</td>\n",
       "      <td>Allen, Mr. William Henry</td>\n",
       "      <td>male</td>\n",
       "      <td>35.0</td>\n",
       "      <td>0</td>\n",
       "      <td>0</td>\n",
       "      <td>373450</td>\n",
       "      <td>8.0500</td>\n",
       "      <td>NaN</td>\n",
       "      <td>S</td>\n",
       "    </tr>\n",
       "  </tbody>\n",
       "</table>\n",
       "</div>"
      ],
      "text/plain": [
       "   PassengerId  Survived  Pclass  \\\n",
       "0            1         0       3   \n",
       "1            2         1       1   \n",
       "2            3         1       3   \n",
       "3            4         1       1   \n",
       "4            5         0       3   \n",
       "\n",
       "                                                Name     Sex   Age  SibSp  \\\n",
       "0                            Braund, Mr. Owen Harris    male  22.0      1   \n",
       "1  Cumings, Mrs. John Bradley (Florence Briggs Th...  female  38.0      1   \n",
       "2                             Heikkinen, Miss. Laina  female  26.0      0   \n",
       "3       Futrelle, Mrs. Jacques Heath (Lily May Peel)  female  35.0      1   \n",
       "4                           Allen, Mr. William Henry    male  35.0      0   \n",
       "\n",
       "   Parch            Ticket     Fare Cabin Embarked  \n",
       "0      0         A/5 21171   7.2500   NaN        S  \n",
       "1      0          PC 17599  71.2833   C85        C  \n",
       "2      0  STON/O2. 3101282   7.9250   NaN        S  \n",
       "3      0            113803  53.1000  C123        S  \n",
       "4      0            373450   8.0500   NaN        S  "
      ]
     },
     "execution_count": 4,
     "metadata": {},
     "output_type": "execute_result"
    }
   ],
   "source": [
    "train_data = pd.read_csv(\"train.csv\")\n",
    "train_data.head()"
   ]
  },
  {
   "cell_type": "markdown",
   "id": "773c7d8c",
   "metadata": {},
   "source": [
    "#### 1.4 合并数据并用来做基础分析\n",
    "##### 1.41 合并测试数据及结果"
   ]
  },
  {
   "cell_type": "code",
   "execution_count": 5,
   "id": "8d221763",
   "metadata": {},
   "outputs": [
    {
     "data": {
      "text/html": [
       "<div>\n",
       "<style scoped>\n",
       "    .dataframe tbody tr th:only-of-type {\n",
       "        vertical-align: middle;\n",
       "    }\n",
       "\n",
       "    .dataframe tbody tr th {\n",
       "        vertical-align: top;\n",
       "    }\n",
       "\n",
       "    .dataframe thead th {\n",
       "        text-align: right;\n",
       "    }\n",
       "</style>\n",
       "<table border=\"1\" class=\"dataframe\">\n",
       "  <thead>\n",
       "    <tr style=\"text-align: right;\">\n",
       "      <th></th>\n",
       "      <th>PassengerId</th>\n",
       "      <th>Survived</th>\n",
       "      <th>Pclass</th>\n",
       "      <th>Name</th>\n",
       "      <th>Sex</th>\n",
       "      <th>Age</th>\n",
       "      <th>SibSp</th>\n",
       "      <th>Parch</th>\n",
       "      <th>Ticket</th>\n",
       "      <th>Fare</th>\n",
       "      <th>Cabin</th>\n",
       "      <th>Embarked</th>\n",
       "    </tr>\n",
       "  </thead>\n",
       "  <tbody>\n",
       "    <tr>\n",
       "      <th>0</th>\n",
       "      <td>892</td>\n",
       "      <td>0</td>\n",
       "      <td>3</td>\n",
       "      <td>Kelly, Mr. James</td>\n",
       "      <td>male</td>\n",
       "      <td>34.5</td>\n",
       "      <td>0</td>\n",
       "      <td>0</td>\n",
       "      <td>330911</td>\n",
       "      <td>7.8292</td>\n",
       "      <td>NaN</td>\n",
       "      <td>Q</td>\n",
       "    </tr>\n",
       "    <tr>\n",
       "      <th>1</th>\n",
       "      <td>893</td>\n",
       "      <td>1</td>\n",
       "      <td>3</td>\n",
       "      <td>Wilkes, Mrs. James (Ellen Needs)</td>\n",
       "      <td>female</td>\n",
       "      <td>47.0</td>\n",
       "      <td>1</td>\n",
       "      <td>0</td>\n",
       "      <td>363272</td>\n",
       "      <td>7.0000</td>\n",
       "      <td>NaN</td>\n",
       "      <td>S</td>\n",
       "    </tr>\n",
       "    <tr>\n",
       "      <th>2</th>\n",
       "      <td>894</td>\n",
       "      <td>0</td>\n",
       "      <td>2</td>\n",
       "      <td>Myles, Mr. Thomas Francis</td>\n",
       "      <td>male</td>\n",
       "      <td>62.0</td>\n",
       "      <td>0</td>\n",
       "      <td>0</td>\n",
       "      <td>240276</td>\n",
       "      <td>9.6875</td>\n",
       "      <td>NaN</td>\n",
       "      <td>Q</td>\n",
       "    </tr>\n",
       "    <tr>\n",
       "      <th>3</th>\n",
       "      <td>895</td>\n",
       "      <td>0</td>\n",
       "      <td>3</td>\n",
       "      <td>Wirz, Mr. Albert</td>\n",
       "      <td>male</td>\n",
       "      <td>27.0</td>\n",
       "      <td>0</td>\n",
       "      <td>0</td>\n",
       "      <td>315154</td>\n",
       "      <td>8.6625</td>\n",
       "      <td>NaN</td>\n",
       "      <td>S</td>\n",
       "    </tr>\n",
       "    <tr>\n",
       "      <th>4</th>\n",
       "      <td>896</td>\n",
       "      <td>1</td>\n",
       "      <td>3</td>\n",
       "      <td>Hirvonen, Mrs. Alexander (Helga E Lindqvist)</td>\n",
       "      <td>female</td>\n",
       "      <td>22.0</td>\n",
       "      <td>1</td>\n",
       "      <td>1</td>\n",
       "      <td>3101298</td>\n",
       "      <td>12.2875</td>\n",
       "      <td>NaN</td>\n",
       "      <td>S</td>\n",
       "    </tr>\n",
       "  </tbody>\n",
       "</table>\n",
       "</div>"
      ],
      "text/plain": [
       "   PassengerId  Survived  Pclass  \\\n",
       "0          892         0       3   \n",
       "1          893         1       3   \n",
       "2          894         0       2   \n",
       "3          895         0       3   \n",
       "4          896         1       3   \n",
       "\n",
       "                                           Name     Sex   Age  SibSp  Parch  \\\n",
       "0                              Kelly, Mr. James    male  34.5      0      0   \n",
       "1              Wilkes, Mrs. James (Ellen Needs)  female  47.0      1      0   \n",
       "2                     Myles, Mr. Thomas Francis    male  62.0      0      0   \n",
       "3                              Wirz, Mr. Albert    male  27.0      0      0   \n",
       "4  Hirvonen, Mrs. Alexander (Helga E Lindqvist)  female  22.0      1      1   \n",
       "\n",
       "    Ticket     Fare Cabin Embarked  \n",
       "0   330911   7.8292   NaN        Q  \n",
       "1   363272   7.0000   NaN        S  \n",
       "2   240276   9.6875   NaN        Q  \n",
       "3   315154   8.6625   NaN        S  \n",
       "4  3101298  12.2875   NaN        S  "
      ]
     },
     "execution_count": 5,
     "metadata": {},
     "output_type": "execute_result"
    }
   ],
   "source": [
    "test_data.insert(loc=1,column=\"Survived\",value=gender_submission_data.Survived)\n",
    "test_data.head()"
   ]
  },
  {
   "cell_type": "markdown",
   "id": "6085683b",
   "metadata": {},
   "source": [
    "##### 1.42替换列名为中文方便观察与合并"
   ]
  },
  {
   "cell_type": "code",
   "execution_count": 6,
   "id": "07efcb2a",
   "metadata": {},
   "outputs": [
    {
     "data": {
      "text/html": [
       "<div>\n",
       "<style scoped>\n",
       "    .dataframe tbody tr th:only-of-type {\n",
       "        vertical-align: middle;\n",
       "    }\n",
       "\n",
       "    .dataframe tbody tr th {\n",
       "        vertical-align: top;\n",
       "    }\n",
       "\n",
       "    .dataframe thead th {\n",
       "        text-align: right;\n",
       "    }\n",
       "</style>\n",
       "<table border=\"1\" class=\"dataframe\">\n",
       "  <thead>\n",
       "    <tr style=\"text-align: right;\">\n",
       "      <th></th>\n",
       "      <th>乘客ID</th>\n",
       "      <th>是否生还</th>\n",
       "      <th>舱位</th>\n",
       "      <th>姓名</th>\n",
       "      <th>性别</th>\n",
       "      <th>年龄</th>\n",
       "      <th>兄弟姐妹/配偶的个数</th>\n",
       "      <th>父母/小孩个数</th>\n",
       "      <th>船票信息</th>\n",
       "      <th>票价</th>\n",
       "      <th>客舱号</th>\n",
       "      <th>登船港口</th>\n",
       "    </tr>\n",
       "  </thead>\n",
       "  <tbody>\n",
       "    <tr>\n",
       "      <th>0</th>\n",
       "      <td>1</td>\n",
       "      <td>0</td>\n",
       "      <td>3</td>\n",
       "      <td>Braund, Mr. Owen Harris</td>\n",
       "      <td>male</td>\n",
       "      <td>22.0</td>\n",
       "      <td>1</td>\n",
       "      <td>0</td>\n",
       "      <td>A/5 21171</td>\n",
       "      <td>7.2500</td>\n",
       "      <td>NaN</td>\n",
       "      <td>S</td>\n",
       "    </tr>\n",
       "    <tr>\n",
       "      <th>1</th>\n",
       "      <td>2</td>\n",
       "      <td>1</td>\n",
       "      <td>1</td>\n",
       "      <td>Cumings, Mrs. John Bradley (Florence Briggs Th...</td>\n",
       "      <td>female</td>\n",
       "      <td>38.0</td>\n",
       "      <td>1</td>\n",
       "      <td>0</td>\n",
       "      <td>PC 17599</td>\n",
       "      <td>71.2833</td>\n",
       "      <td>C85</td>\n",
       "      <td>C</td>\n",
       "    </tr>\n",
       "    <tr>\n",
       "      <th>2</th>\n",
       "      <td>3</td>\n",
       "      <td>1</td>\n",
       "      <td>3</td>\n",
       "      <td>Heikkinen, Miss. Laina</td>\n",
       "      <td>female</td>\n",
       "      <td>26.0</td>\n",
       "      <td>0</td>\n",
       "      <td>0</td>\n",
       "      <td>STON/O2. 3101282</td>\n",
       "      <td>7.9250</td>\n",
       "      <td>NaN</td>\n",
       "      <td>S</td>\n",
       "    </tr>\n",
       "    <tr>\n",
       "      <th>3</th>\n",
       "      <td>4</td>\n",
       "      <td>1</td>\n",
       "      <td>1</td>\n",
       "      <td>Futrelle, Mrs. Jacques Heath (Lily May Peel)</td>\n",
       "      <td>female</td>\n",
       "      <td>35.0</td>\n",
       "      <td>1</td>\n",
       "      <td>0</td>\n",
       "      <td>113803</td>\n",
       "      <td>53.1000</td>\n",
       "      <td>C123</td>\n",
       "      <td>S</td>\n",
       "    </tr>\n",
       "    <tr>\n",
       "      <th>4</th>\n",
       "      <td>5</td>\n",
       "      <td>0</td>\n",
       "      <td>3</td>\n",
       "      <td>Allen, Mr. William Henry</td>\n",
       "      <td>male</td>\n",
       "      <td>35.0</td>\n",
       "      <td>0</td>\n",
       "      <td>0</td>\n",
       "      <td>373450</td>\n",
       "      <td>8.0500</td>\n",
       "      <td>NaN</td>\n",
       "      <td>S</td>\n",
       "    </tr>\n",
       "  </tbody>\n",
       "</table>\n",
       "</div>"
      ],
      "text/plain": [
       "   乘客ID  是否生还  舱位                                                 姓名      性别  \\\n",
       "0     1     0   3                            Braund, Mr. Owen Harris    male   \n",
       "1     2     1   1  Cumings, Mrs. John Bradley (Florence Briggs Th...  female   \n",
       "2     3     1   3                             Heikkinen, Miss. Laina  female   \n",
       "3     4     1   1       Futrelle, Mrs. Jacques Heath (Lily May Peel)  female   \n",
       "4     5     0   3                           Allen, Mr. William Henry    male   \n",
       "\n",
       "     年龄  兄弟姐妹/配偶的个数  父母/小孩个数              船票信息       票价   客舱号 登船港口  \n",
       "0  22.0           1        0         A/5 21171   7.2500   NaN    S  \n",
       "1  38.0           1        0          PC 17599  71.2833   C85    C  \n",
       "2  26.0           0        0  STON/O2. 3101282   7.9250   NaN    S  \n",
       "3  35.0           1        0            113803  53.1000  C123    S  \n",
       "4  35.0           0        0            373450   8.0500   NaN    S  "
      ]
     },
     "execution_count": 6,
     "metadata": {},
     "output_type": "execute_result"
    }
   ],
   "source": [
    "new_columns = [\"乘客ID\",\"是否生还\",\"舱位\",\"姓名\",\"性别\",\"年龄\",\"兄弟姐妹/配偶的个数\",\"父母/小孩个数\",\"船票信息\",\"票价\",\"客舱号\",\"登船港口\"]\n",
    "test_data.columns = new_columns\n",
    "train_data.columns = new_columns\n",
    "train_data.head()"
   ]
  },
  {
   "cell_type": "markdown",
   "id": "984ce208",
   "metadata": {},
   "source": [
    "##### 1.42 合并所有数据为一张表"
   ]
  },
  {
   "cell_type": "code",
   "execution_count": 7,
   "id": "80b8ad83",
   "metadata": {},
   "outputs": [
    {
     "data": {
      "text/plain": [
       "乘客ID            int64\n",
       "是否生还            int64\n",
       "舱位              int64\n",
       "姓名             object\n",
       "性别             object\n",
       "年龄            float64\n",
       "兄弟姐妹/配偶的个数      int64\n",
       "父母/小孩个数         int64\n",
       "船票信息           object\n",
       "票价            float64\n",
       "客舱号            object\n",
       "登船港口           object\n",
       "dtype: object"
      ]
     },
     "execution_count": 7,
     "metadata": {},
     "output_type": "execute_result"
    }
   ],
   "source": [
    "test_data.dtypes"
   ]
  },
  {
   "cell_type": "code",
   "execution_count": 8,
   "id": "892104f3",
   "metadata": {},
   "outputs": [
    {
     "data": {
      "text/plain": [
       "乘客ID            int64\n",
       "是否生还            int64\n",
       "舱位              int64\n",
       "姓名             object\n",
       "性别             object\n",
       "年龄            float64\n",
       "兄弟姐妹/配偶的个数      int64\n",
       "父母/小孩个数         int64\n",
       "船票信息           object\n",
       "票价            float64\n",
       "客舱号            object\n",
       "登船港口           object\n",
       "dtype: object"
      ]
     },
     "execution_count": 8,
     "metadata": {},
     "output_type": "execute_result"
    }
   ],
   "source": [
    "train_data.dtypes"
   ]
  },
  {
   "cell_type": "code",
   "execution_count": 9,
   "id": "78ed385c",
   "metadata": {},
   "outputs": [],
   "source": [
    "# titanic_data = pd.merge(test_data,train_data,left_index=True,right_index=True,how='left')\n",
    "# titanic_data"
   ]
  },
  {
   "cell_type": "code",
   "execution_count": 10,
   "id": "137b2003",
   "metadata": {},
   "outputs": [
    {
     "data": {
      "text/html": [
       "<div>\n",
       "<style scoped>\n",
       "    .dataframe tbody tr th:only-of-type {\n",
       "        vertical-align: middle;\n",
       "    }\n",
       "\n",
       "    .dataframe tbody tr th {\n",
       "        vertical-align: top;\n",
       "    }\n",
       "\n",
       "    .dataframe thead th {\n",
       "        text-align: right;\n",
       "    }\n",
       "</style>\n",
       "<table border=\"1\" class=\"dataframe\">\n",
       "  <thead>\n",
       "    <tr style=\"text-align: right;\">\n",
       "      <th></th>\n",
       "      <th>乘客ID</th>\n",
       "      <th>是否生还</th>\n",
       "      <th>舱位</th>\n",
       "      <th>姓名</th>\n",
       "      <th>性别</th>\n",
       "      <th>年龄</th>\n",
       "      <th>兄弟姐妹/配偶的个数</th>\n",
       "      <th>父母/小孩个数</th>\n",
       "      <th>船票信息</th>\n",
       "      <th>票价</th>\n",
       "      <th>客舱号</th>\n",
       "      <th>登船港口</th>\n",
       "    </tr>\n",
       "  </thead>\n",
       "  <tbody>\n",
       "    <tr>\n",
       "      <th>0</th>\n",
       "      <td>1</td>\n",
       "      <td>0</td>\n",
       "      <td>3</td>\n",
       "      <td>Braund, Mr. Owen Harris</td>\n",
       "      <td>male</td>\n",
       "      <td>22.0</td>\n",
       "      <td>1</td>\n",
       "      <td>0</td>\n",
       "      <td>A/5 21171</td>\n",
       "      <td>7.2500</td>\n",
       "      <td>NaN</td>\n",
       "      <td>S</td>\n",
       "    </tr>\n",
       "    <tr>\n",
       "      <th>1</th>\n",
       "      <td>2</td>\n",
       "      <td>1</td>\n",
       "      <td>1</td>\n",
       "      <td>Cumings, Mrs. John Bradley (Florence Briggs Th...</td>\n",
       "      <td>female</td>\n",
       "      <td>38.0</td>\n",
       "      <td>1</td>\n",
       "      <td>0</td>\n",
       "      <td>PC 17599</td>\n",
       "      <td>71.2833</td>\n",
       "      <td>C85</td>\n",
       "      <td>C</td>\n",
       "    </tr>\n",
       "    <tr>\n",
       "      <th>2</th>\n",
       "      <td>3</td>\n",
       "      <td>1</td>\n",
       "      <td>3</td>\n",
       "      <td>Heikkinen, Miss. Laina</td>\n",
       "      <td>female</td>\n",
       "      <td>26.0</td>\n",
       "      <td>0</td>\n",
       "      <td>0</td>\n",
       "      <td>STON/O2. 3101282</td>\n",
       "      <td>7.9250</td>\n",
       "      <td>NaN</td>\n",
       "      <td>S</td>\n",
       "    </tr>\n",
       "    <tr>\n",
       "      <th>3</th>\n",
       "      <td>4</td>\n",
       "      <td>1</td>\n",
       "      <td>1</td>\n",
       "      <td>Futrelle, Mrs. Jacques Heath (Lily May Peel)</td>\n",
       "      <td>female</td>\n",
       "      <td>35.0</td>\n",
       "      <td>1</td>\n",
       "      <td>0</td>\n",
       "      <td>113803</td>\n",
       "      <td>53.1000</td>\n",
       "      <td>C123</td>\n",
       "      <td>S</td>\n",
       "    </tr>\n",
       "    <tr>\n",
       "      <th>4</th>\n",
       "      <td>5</td>\n",
       "      <td>0</td>\n",
       "      <td>3</td>\n",
       "      <td>Allen, Mr. William Henry</td>\n",
       "      <td>male</td>\n",
       "      <td>35.0</td>\n",
       "      <td>0</td>\n",
       "      <td>0</td>\n",
       "      <td>373450</td>\n",
       "      <td>8.0500</td>\n",
       "      <td>NaN</td>\n",
       "      <td>S</td>\n",
       "    </tr>\n",
       "    <tr>\n",
       "      <th>...</th>\n",
       "      <td>...</td>\n",
       "      <td>...</td>\n",
       "      <td>...</td>\n",
       "      <td>...</td>\n",
       "      <td>...</td>\n",
       "      <td>...</td>\n",
       "      <td>...</td>\n",
       "      <td>...</td>\n",
       "      <td>...</td>\n",
       "      <td>...</td>\n",
       "      <td>...</td>\n",
       "      <td>...</td>\n",
       "    </tr>\n",
       "    <tr>\n",
       "      <th>413</th>\n",
       "      <td>1305</td>\n",
       "      <td>0</td>\n",
       "      <td>3</td>\n",
       "      <td>Spector, Mr. Woolf</td>\n",
       "      <td>male</td>\n",
       "      <td>NaN</td>\n",
       "      <td>0</td>\n",
       "      <td>0</td>\n",
       "      <td>A.5. 3236</td>\n",
       "      <td>8.0500</td>\n",
       "      <td>NaN</td>\n",
       "      <td>S</td>\n",
       "    </tr>\n",
       "    <tr>\n",
       "      <th>414</th>\n",
       "      <td>1306</td>\n",
       "      <td>1</td>\n",
       "      <td>1</td>\n",
       "      <td>Oliva y Ocana, Dona. Fermina</td>\n",
       "      <td>female</td>\n",
       "      <td>39.0</td>\n",
       "      <td>0</td>\n",
       "      <td>0</td>\n",
       "      <td>PC 17758</td>\n",
       "      <td>108.9000</td>\n",
       "      <td>C105</td>\n",
       "      <td>C</td>\n",
       "    </tr>\n",
       "    <tr>\n",
       "      <th>415</th>\n",
       "      <td>1307</td>\n",
       "      <td>0</td>\n",
       "      <td>3</td>\n",
       "      <td>Saether, Mr. Simon Sivertsen</td>\n",
       "      <td>male</td>\n",
       "      <td>38.5</td>\n",
       "      <td>0</td>\n",
       "      <td>0</td>\n",
       "      <td>SOTON/O.Q. 3101262</td>\n",
       "      <td>7.2500</td>\n",
       "      <td>NaN</td>\n",
       "      <td>S</td>\n",
       "    </tr>\n",
       "    <tr>\n",
       "      <th>416</th>\n",
       "      <td>1308</td>\n",
       "      <td>0</td>\n",
       "      <td>3</td>\n",
       "      <td>Ware, Mr. Frederick</td>\n",
       "      <td>male</td>\n",
       "      <td>NaN</td>\n",
       "      <td>0</td>\n",
       "      <td>0</td>\n",
       "      <td>359309</td>\n",
       "      <td>8.0500</td>\n",
       "      <td>NaN</td>\n",
       "      <td>S</td>\n",
       "    </tr>\n",
       "    <tr>\n",
       "      <th>417</th>\n",
       "      <td>1309</td>\n",
       "      <td>0</td>\n",
       "      <td>3</td>\n",
       "      <td>Peter, Master. Michael J</td>\n",
       "      <td>male</td>\n",
       "      <td>NaN</td>\n",
       "      <td>1</td>\n",
       "      <td>1</td>\n",
       "      <td>2668</td>\n",
       "      <td>22.3583</td>\n",
       "      <td>NaN</td>\n",
       "      <td>C</td>\n",
       "    </tr>\n",
       "  </tbody>\n",
       "</table>\n",
       "<p>1309 rows × 12 columns</p>\n",
       "</div>"
      ],
      "text/plain": [
       "     乘客ID  是否生还  舱位                                                 姓名  \\\n",
       "0       1     0   3                            Braund, Mr. Owen Harris   \n",
       "1       2     1   1  Cumings, Mrs. John Bradley (Florence Briggs Th...   \n",
       "2       3     1   3                             Heikkinen, Miss. Laina   \n",
       "3       4     1   1       Futrelle, Mrs. Jacques Heath (Lily May Peel)   \n",
       "4       5     0   3                           Allen, Mr. William Henry   \n",
       "..    ...   ...  ..                                                ...   \n",
       "413  1305     0   3                                 Spector, Mr. Woolf   \n",
       "414  1306     1   1                       Oliva y Ocana, Dona. Fermina   \n",
       "415  1307     0   3                       Saether, Mr. Simon Sivertsen   \n",
       "416  1308     0   3                                Ware, Mr. Frederick   \n",
       "417  1309     0   3                           Peter, Master. Michael J   \n",
       "\n",
       "         性别    年龄  兄弟姐妹/配偶的个数  父母/小孩个数                船票信息        票价   客舱号  \\\n",
       "0      male  22.0           1        0           A/5 21171    7.2500   NaN   \n",
       "1    female  38.0           1        0            PC 17599   71.2833   C85   \n",
       "2    female  26.0           0        0    STON/O2. 3101282    7.9250   NaN   \n",
       "3    female  35.0           1        0              113803   53.1000  C123   \n",
       "4      male  35.0           0        0              373450    8.0500   NaN   \n",
       "..      ...   ...         ...      ...                 ...       ...   ...   \n",
       "413    male   NaN           0        0           A.5. 3236    8.0500   NaN   \n",
       "414  female  39.0           0        0            PC 17758  108.9000  C105   \n",
       "415    male  38.5           0        0  SOTON/O.Q. 3101262    7.2500   NaN   \n",
       "416    male   NaN           0        0              359309    8.0500   NaN   \n",
       "417    male   NaN           1        1                2668   22.3583   NaN   \n",
       "\n",
       "    登船港口  \n",
       "0      S  \n",
       "1      C  \n",
       "2      S  \n",
       "3      S  \n",
       "4      S  \n",
       "..   ...  \n",
       "413    S  \n",
       "414    C  \n",
       "415    S  \n",
       "416    S  \n",
       "417    C  \n",
       "\n",
       "[1309 rows x 12 columns]"
      ]
     },
     "execution_count": 10,
     "metadata": {},
     "output_type": "execute_result"
    }
   ],
   "source": [
    "titanic_data = pd.concat([train_data,test_data],axis=0)\n",
    "titanic_data"
   ]
  },
  {
   "cell_type": "code",
   "execution_count": 11,
   "id": "d2df5a5c",
   "metadata": {},
   "outputs": [
    {
     "name": "stdout",
     "output_type": "stream",
     "text": [
      "合并后共有1309行数据 \n",
      " 测试数据共有418行 \n",
      " 训练数据共有891行, \n",
      " 训练集占比0.31932773109243695\n"
     ]
    }
   ],
   "source": [
    "print(f\"合并后共有{titanic_data.shape[0]}行数据 \\n 测试数据共有{test_data.shape[0]}行 \\n 训练数据共有{train_data.shape[0]}行, \\n 训练集占比{test_data.shape[0]/titanic_data.shape[0]}\")"
   ]
  },
  {
   "cell_type": "code",
   "execution_count": null,
   "id": "c860c5dd",
   "metadata": {},
   "outputs": [],
   "source": []
  },
  {
   "cell_type": "markdown",
   "id": "92b328c2",
   "metadata": {},
   "source": [
    "### 2数据探索\n",
    "#### 2.1 查看空值情况"
   ]
  },
  {
   "cell_type": "code",
   "execution_count": 12,
   "id": "e1b5ee30",
   "metadata": {},
   "outputs": [
    {
     "name": "stdout",
     "output_type": "stream",
     "text": [
      "乘客ID列的空值比例\t:< 0.0% >\t空值个数:< 0 >\n",
      "是否生还列的空值比例\t:< 0.0% >\t空值个数:< 0 >\n",
      "舱位列的空值比例\t:< 0.0% >\t空值个数:< 0 >\n",
      "姓名列的空值比例\t:< 0.0% >\t空值个数:< 0 >\n",
      "性别列的空值比例\t:< 0.0% >\t空值个数:< 0 >\n",
      "年龄列的空值比例\t:< 0.20091673032849502% >\t空值个数:< 263 >\n",
      "兄弟姐妹/配偶的个数列的空值比例\t:< 0.0% >\t空值个数:< 0 >\n",
      "父母/小孩个数列的空值比例\t:< 0.0% >\t空值个数:< 0 >\n",
      "船票信息列的空值比例\t:< 0.0% >\t空值个数:< 0 >\n",
      "票价列的空值比例\t:< 0.0007639419404125286% >\t空值个数:< 1 >\n",
      "客舱号列的空值比例\t:< 0.774637127578304% >\t空值个数:< 1014 >\n",
      "登船港口列的空值比例\t:< 0.0015278838808250573% >\t空值个数:< 2 >\n"
     ]
    }
   ],
   "source": [
    "for column_name in titanic_data.columns:\n",
    "    column_data = titanic_data[column_name]\n",
    "    m = column_data.size\n",
    "    isna = pd.isna(column_data).sum()\n",
    "    print(f\"{column_name}列的空值比例\\t:< {isna/m}% >\\t空值个数:< {isna} >\")\n",
    "    "
   ]
  },
  {
   "cell_type": "markdown",
   "id": "ce49bc13",
   "metadata": {},
   "source": [
    "#### 2.2 查看列数据种类数量"
   ]
  },
  {
   "cell_type": "code",
   "execution_count": 13,
   "id": "2154e7df",
   "metadata": {},
   "outputs": [
    {
     "name": "stdout",
     "output_type": "stream",
     "text": [
      "乘客ID 列中有: < 1309 > 种值\n",
      "是否生还 列中有: < 2 > 种值\n",
      "舱位 列中有: < 3 > 种值\n",
      "姓名 列中有: < 1307 > 种值\n",
      "性别 列中有: < 2 > 种值\n",
      "年龄 列中有: < 361 > 种值\n",
      "兄弟姐妹/配偶的个数 列中有: < 7 > 种值\n",
      "父母/小孩个数 列中有: < 8 > 种值\n",
      "船票信息 列中有: < 929 > 种值\n",
      "票价 列中有: < 282 > 种值\n",
      "客舱号 列中有: < 187 > 种值\n",
      "登船港口 列中有: < 4 > 种值\n"
     ]
    }
   ],
   "source": [
    "for column_name in titanic_data.columns:\n",
    "    column_data = titanic_data[column_name]\n",
    "    print(f\"{column_name} 列中有: < {len((set(column_data)))} > 种值\")"
   ]
  },
  {
   "cell_type": "code",
   "execution_count": 14,
   "id": "8d3a2305",
   "metadata": {},
   "outputs": [
    {
     "data": {
      "text/html": [
       "<div>\n",
       "<style scoped>\n",
       "    .dataframe tbody tr th:only-of-type {\n",
       "        vertical-align: middle;\n",
       "    }\n",
       "\n",
       "    .dataframe tbody tr th {\n",
       "        vertical-align: top;\n",
       "    }\n",
       "\n",
       "    .dataframe thead th {\n",
       "        text-align: right;\n",
       "    }\n",
       "</style>\n",
       "<table border=\"1\" class=\"dataframe\">\n",
       "  <thead>\n",
       "    <tr style=\"text-align: right;\">\n",
       "      <th></th>\n",
       "      <th>乘客ID</th>\n",
       "      <th>是否生还</th>\n",
       "      <th>舱位</th>\n",
       "      <th>年龄</th>\n",
       "      <th>兄弟姐妹/配偶的个数</th>\n",
       "      <th>父母/小孩个数</th>\n",
       "      <th>票价</th>\n",
       "    </tr>\n",
       "  </thead>\n",
       "  <tbody>\n",
       "    <tr>\n",
       "      <th>count</th>\n",
       "      <td>1309.000000</td>\n",
       "      <td>1309.000000</td>\n",
       "      <td>1309.000000</td>\n",
       "      <td>1046.000000</td>\n",
       "      <td>1309.000000</td>\n",
       "      <td>1309.000000</td>\n",
       "      <td>1308.000000</td>\n",
       "    </tr>\n",
       "    <tr>\n",
       "      <th>mean</th>\n",
       "      <td>655.000000</td>\n",
       "      <td>0.377387</td>\n",
       "      <td>2.294882</td>\n",
       "      <td>29.881138</td>\n",
       "      <td>0.498854</td>\n",
       "      <td>0.385027</td>\n",
       "      <td>33.295479</td>\n",
       "    </tr>\n",
       "    <tr>\n",
       "      <th>std</th>\n",
       "      <td>378.020061</td>\n",
       "      <td>0.484918</td>\n",
       "      <td>0.837836</td>\n",
       "      <td>14.413493</td>\n",
       "      <td>1.041658</td>\n",
       "      <td>0.865560</td>\n",
       "      <td>51.758668</td>\n",
       "    </tr>\n",
       "    <tr>\n",
       "      <th>min</th>\n",
       "      <td>1.000000</td>\n",
       "      <td>0.000000</td>\n",
       "      <td>1.000000</td>\n",
       "      <td>0.170000</td>\n",
       "      <td>0.000000</td>\n",
       "      <td>0.000000</td>\n",
       "      <td>0.000000</td>\n",
       "    </tr>\n",
       "    <tr>\n",
       "      <th>25%</th>\n",
       "      <td>328.000000</td>\n",
       "      <td>0.000000</td>\n",
       "      <td>2.000000</td>\n",
       "      <td>21.000000</td>\n",
       "      <td>0.000000</td>\n",
       "      <td>0.000000</td>\n",
       "      <td>7.895800</td>\n",
       "    </tr>\n",
       "    <tr>\n",
       "      <th>50%</th>\n",
       "      <td>655.000000</td>\n",
       "      <td>0.000000</td>\n",
       "      <td>3.000000</td>\n",
       "      <td>28.000000</td>\n",
       "      <td>0.000000</td>\n",
       "      <td>0.000000</td>\n",
       "      <td>14.454200</td>\n",
       "    </tr>\n",
       "    <tr>\n",
       "      <th>75%</th>\n",
       "      <td>982.000000</td>\n",
       "      <td>1.000000</td>\n",
       "      <td>3.000000</td>\n",
       "      <td>39.000000</td>\n",
       "      <td>1.000000</td>\n",
       "      <td>0.000000</td>\n",
       "      <td>31.275000</td>\n",
       "    </tr>\n",
       "    <tr>\n",
       "      <th>max</th>\n",
       "      <td>1309.000000</td>\n",
       "      <td>1.000000</td>\n",
       "      <td>3.000000</td>\n",
       "      <td>80.000000</td>\n",
       "      <td>8.000000</td>\n",
       "      <td>9.000000</td>\n",
       "      <td>512.329200</td>\n",
       "    </tr>\n",
       "  </tbody>\n",
       "</table>\n",
       "</div>"
      ],
      "text/plain": [
       "              乘客ID         是否生还           舱位           年龄   兄弟姐妹/配偶的个数  \\\n",
       "count  1309.000000  1309.000000  1309.000000  1046.000000  1309.000000   \n",
       "mean    655.000000     0.377387     2.294882    29.881138     0.498854   \n",
       "std     378.020061     0.484918     0.837836    14.413493     1.041658   \n",
       "min       1.000000     0.000000     1.000000     0.170000     0.000000   \n",
       "25%     328.000000     0.000000     2.000000    21.000000     0.000000   \n",
       "50%     655.000000     0.000000     3.000000    28.000000     0.000000   \n",
       "75%     982.000000     1.000000     3.000000    39.000000     1.000000   \n",
       "max    1309.000000     1.000000     3.000000    80.000000     8.000000   \n",
       "\n",
       "           父母/小孩个数           票价  \n",
       "count  1309.000000  1308.000000  \n",
       "mean      0.385027    33.295479  \n",
       "std       0.865560    51.758668  \n",
       "min       0.000000     0.000000  \n",
       "25%       0.000000     7.895800  \n",
       "50%       0.000000    14.454200  \n",
       "75%       0.000000    31.275000  \n",
       "max       9.000000   512.329200  "
      ]
     },
     "execution_count": 14,
     "metadata": {},
     "output_type": "execute_result"
    }
   ],
   "source": [
    "titanic_data.describe()"
   ]
  },
  {
   "cell_type": "markdown",
   "id": "981ad9c7",
   "metadata": {},
   "source": [
    "#### 2.3 画图查看样本平衡情况"
   ]
  },
  {
   "cell_type": "code",
   "execution_count": 15,
   "id": "5215b318",
   "metadata": {},
   "outputs": [
    {
     "data": {
      "text/plain": [
       "Text(0.5, 1.0, 'Survived Rate = 0.37738731856378915')"
      ]
     },
     "execution_count": 15,
     "metadata": {},
     "output_type": "execute_result"
    },
    {
     "data": {
      "image/png": "[encoded data removed]",
      "text/plain": [
       "<Figure size 1152x648 with 1 Axes>"
      ]
     },
     "metadata": {
      "needs_background": "light"
     },
     "output_type": "display_data"
    }
   ],
   "source": [
    "Survived = (titanic_data[\"是否生还\"]==1).sum()\n",
    "No_Survived = titanic_data.shape[0]-Survived\n",
    "plt.figure(figsize=(16,9))\n",
    "plt.ylabel(\"Counter\")\n",
    "plt.bar(range(2),[Survived,No_Survived],tick_label=[\"Survived\",\"No Survived\"])\n",
    "plt.title(f\"Survived Rate = {Survived/titanic_data.shape[0]}\")"
   ]
  },
  {
   "cell_type": "markdown",
   "id": "926c4807",
   "metadata": {},
   "source": [
    "### 3.1 特征工程\n",
    "##### one hot 编码对 舱位 性别 登船港口 三列数据 做特征工程"
   ]
  },
  {
   "cell_type": "code",
   "execution_count": 16,
   "id": "3c571091",
   "metadata": {},
   "outputs": [
    {
     "data": {
      "text/plain": [
       "[1, 2, 3]"
      ]
     },
     "execution_count": 16,
     "metadata": {},
     "output_type": "execute_result"
    }
   ],
   "source": [
    "from sklearn.preprocessing import LabelEncoder\n",
    "from sklearn.preprocessing import OneHotEncoder\n",
    "\n",
    "\n",
    "Pclass_elements = list(set(titanic_data[\"舱位\"]))\n",
    "Pclass_elements"
   ]
  },
  {
   "cell_type": "code",
   "execution_count": 17,
   "id": "68ceef00",
   "metadata": {},
   "outputs": [
    {
     "data": {
      "text/plain": [
       "array([[0., 0., 0.],\n",
       "       [0., 0., 0.],\n",
       "       [0., 0., 0.],\n",
       "       ...,\n",
       "       [0., 0., 0.],\n",
       "       [0., 0., 0.],\n",
       "       [0., 0., 0.]])"
      ]
     },
     "execution_count": 17,
     "metadata": {},
     "output_type": "execute_result"
    }
   ],
   "source": [
    "one_hot_for_Pclass = np.zeros((titanic_data.shape[0],3))   \n",
    "one_hot_for_Pclass"
   ]
  },
  {
   "cell_type": "code",
   "execution_count": 18,
   "id": "dc1127ee",
   "metadata": {},
   "outputs": [
    {
     "data": {
      "text/plain": [
       "array([[0., 0., 1.],\n",
       "       [1., 0., 0.],\n",
       "       [0., 0., 1.],\n",
       "       ...,\n",
       "       [0., 0., 1.],\n",
       "       [0., 0., 1.],\n",
       "       [0., 0., 1.]])"
      ]
     },
     "execution_count": 18,
     "metadata": {},
     "output_type": "execute_result"
    }
   ],
   "source": [
    "\n",
    "for m,Pclass in enumerate(titanic_data[\"舱位\"]):\n",
    "    if Pclass == Pclass_elements[0]:\n",
    "        one_hot_for_Pclass[m][0]=1\n",
    "    if Pclass == Pclass_elements[1]:\n",
    "        one_hot_for_Pclass[m][1]=1\n",
    "    if Pclass == Pclass_elements[2]:\n",
    "        one_hot_for_Pclass[m][2]=1\n",
    "one_hot_for_Pclass   "
   ]
  },
  {
   "cell_type": "code",
   "execution_count": 19,
   "id": "f7ee0ea2",
   "metadata": {},
   "outputs": [
    {
     "data": {
      "text/html": [
       "<div>\n",
       "<style scoped>\n",
       "    .dataframe tbody tr th:only-of-type {\n",
       "        vertical-align: middle;\n",
       "    }\n",
       "\n",
       "    .dataframe tbody tr th {\n",
       "        vertical-align: top;\n",
       "    }\n",
       "\n",
       "    .dataframe thead th {\n",
       "        text-align: right;\n",
       "    }\n",
       "</style>\n",
       "<table border=\"1\" class=\"dataframe\">\n",
       "  <thead>\n",
       "    <tr style=\"text-align: right;\">\n",
       "      <th></th>\n",
       "      <th>1等舱</th>\n",
       "      <th>2等舱</th>\n",
       "      <th>3等舱</th>\n",
       "    </tr>\n",
       "  </thead>\n",
       "  <tbody>\n",
       "    <tr>\n",
       "      <th>0</th>\n",
       "      <td>0.0</td>\n",
       "      <td>0.0</td>\n",
       "      <td>1.0</td>\n",
       "    </tr>\n",
       "    <tr>\n",
       "      <th>1</th>\n",
       "      <td>1.0</td>\n",
       "      <td>0.0</td>\n",
       "      <td>0.0</td>\n",
       "    </tr>\n",
       "    <tr>\n",
       "      <th>2</th>\n",
       "      <td>0.0</td>\n",
       "      <td>0.0</td>\n",
       "      <td>1.0</td>\n",
       "    </tr>\n",
       "    <tr>\n",
       "      <th>3</th>\n",
       "      <td>1.0</td>\n",
       "      <td>0.0</td>\n",
       "      <td>0.0</td>\n",
       "    </tr>\n",
       "    <tr>\n",
       "      <th>4</th>\n",
       "      <td>0.0</td>\n",
       "      <td>0.0</td>\n",
       "      <td>1.0</td>\n",
       "    </tr>\n",
       "    <tr>\n",
       "      <th>...</th>\n",
       "      <td>...</td>\n",
       "      <td>...</td>\n",
       "      <td>...</td>\n",
       "    </tr>\n",
       "    <tr>\n",
       "      <th>1304</th>\n",
       "      <td>0.0</td>\n",
       "      <td>0.0</td>\n",
       "      <td>1.0</td>\n",
       "    </tr>\n",
       "    <tr>\n",
       "      <th>1305</th>\n",
       "      <td>1.0</td>\n",
       "      <td>0.0</td>\n",
       "      <td>0.0</td>\n",
       "    </tr>\n",
       "    <tr>\n",
       "      <th>1306</th>\n",
       "      <td>0.0</td>\n",
       "      <td>0.0</td>\n",
       "      <td>1.0</td>\n",
       "    </tr>\n",
       "    <tr>\n",
       "      <th>1307</th>\n",
       "      <td>0.0</td>\n",
       "      <td>0.0</td>\n",
       "      <td>1.0</td>\n",
       "    </tr>\n",
       "    <tr>\n",
       "      <th>1308</th>\n",
       "      <td>0.0</td>\n",
       "      <td>0.0</td>\n",
       "      <td>1.0</td>\n",
       "    </tr>\n",
       "  </tbody>\n",
       "</table>\n",
       "<p>1309 rows × 3 columns</p>\n",
       "</div>"
      ],
      "text/plain": [
       "      1等舱  2等舱  3等舱\n",
       "0     0.0  0.0  1.0\n",
       "1     1.0  0.0  0.0\n",
       "2     0.0  0.0  1.0\n",
       "3     1.0  0.0  0.0\n",
       "4     0.0  0.0  1.0\n",
       "...   ...  ...  ...\n",
       "1304  0.0  0.0  1.0\n",
       "1305  1.0  0.0  0.0\n",
       "1306  0.0  0.0  1.0\n",
       "1307  0.0  0.0  1.0\n",
       "1308  0.0  0.0  1.0\n",
       "\n",
       "[1309 rows x 3 columns]"
      ]
     },
     "execution_count": 19,
     "metadata": {},
     "output_type": "execute_result"
    }
   ],
   "source": [
    "OneHotPclass= pd.DataFrame(one_hot_for_Pclass\n",
    "                           ,columns=[f\"{Pclass_elements[0]}等舱\",f\"{Pclass_elements[1]}等舱\",f\"{Pclass_elements[2]}等舱\"])\n",
    "OneHotPclass"
   ]
  },
  {
   "cell_type": "code",
   "execution_count": 20,
   "id": "4b461549",
   "metadata": {},
   "outputs": [
    {
     "data": {
      "text/plain": [
       "['female', 'male']"
      ]
     },
     "execution_count": 20,
     "metadata": {},
     "output_type": "execute_result"
    }
   ],
   "source": [
    "Sex_elements = list(set(titanic_data[\"性别\"]))\n",
    "Sex_elements"
   ]
  },
  {
   "cell_type": "code",
   "execution_count": 21,
   "id": "a395e28d",
   "metadata": {},
   "outputs": [
    {
     "data": {
      "text/plain": [
       "array([[0., 0.],\n",
       "       [0., 0.],\n",
       "       [0., 0.],\n",
       "       ...,\n",
       "       [0., 0.],\n",
       "       [0., 0.],\n",
       "       [0., 0.]])"
      ]
     },
     "execution_count": 21,
     "metadata": {},
     "output_type": "execute_result"
    }
   ],
   "source": [
    "one_hot_for_Sex = np.zeros((titanic_data.shape[0],len(Sex_elements)))\n",
    "one_hot_for_Sex"
   ]
  },
  {
   "cell_type": "code",
   "execution_count": null,
   "id": "de903b80",
   "metadata": {},
   "outputs": [],
   "source": []
  },
  {
   "cell_type": "code",
   "execution_count": 22,
   "id": "d55d3699",
   "metadata": {},
   "outputs": [
    {
     "data": {
      "text/plain": [
       "array([[0., 1.],\n",
       "       [1., 0.],\n",
       "       [1., 0.],\n",
       "       ...,\n",
       "       [0., 1.],\n",
       "       [0., 1.],\n",
       "       [0., 1.]])"
      ]
     },
     "execution_count": 22,
     "metadata": {},
     "output_type": "execute_result"
    }
   ],
   "source": [
    "for m,Sex in enumerate(titanic_data[\"性别\"]):\n",
    "    if Sex == Sex_elements[0]:\n",
    "        one_hot_for_Sex[m][0]=1\n",
    "    if Sex == Sex_elements[1]:\n",
    "        one_hot_for_Sex[m][1]=1\n",
    "one_hot_for_Sex"
   ]
  },
  {
   "cell_type": "code",
   "execution_count": 23,
   "id": "3e34f880",
   "metadata": {},
   "outputs": [
    {
     "data": {
      "text/html": [
       "<div>\n",
       "<style scoped>\n",
       "    .dataframe tbody tr th:only-of-type {\n",
       "        vertical-align: middle;\n",
       "    }\n",
       "\n",
       "    .dataframe tbody tr th {\n",
       "        vertical-align: top;\n",
       "    }\n",
       "\n",
       "    .dataframe thead th {\n",
       "        text-align: right;\n",
       "    }\n",
       "</style>\n",
       "<table border=\"1\" class=\"dataframe\">\n",
       "  <thead>\n",
       "    <tr style=\"text-align: right;\">\n",
       "      <th></th>\n",
       "      <th>女性</th>\n",
       "      <th>男性</th>\n",
       "    </tr>\n",
       "  </thead>\n",
       "  <tbody>\n",
       "    <tr>\n",
       "      <th>0</th>\n",
       "      <td>0.0</td>\n",
       "      <td>1.0</td>\n",
       "    </tr>\n",
       "    <tr>\n",
       "      <th>1</th>\n",
       "      <td>1.0</td>\n",
       "      <td>0.0</td>\n",
       "    </tr>\n",
       "    <tr>\n",
       "      <th>2</th>\n",
       "      <td>1.0</td>\n",
       "      <td>0.0</td>\n",
       "    </tr>\n",
       "    <tr>\n",
       "      <th>3</th>\n",
       "      <td>1.0</td>\n",
       "      <td>0.0</td>\n",
       "    </tr>\n",
       "    <tr>\n",
       "      <th>4</th>\n",
       "      <td>0.0</td>\n",
       "      <td>1.0</td>\n",
       "    </tr>\n",
       "    <tr>\n",
       "      <th>...</th>\n",
       "      <td>...</td>\n",
       "      <td>...</td>\n",
       "    </tr>\n",
       "    <tr>\n",
       "      <th>1304</th>\n",
       "      <td>0.0</td>\n",
       "      <td>1.0</td>\n",
       "    </tr>\n",
       "    <tr>\n",
       "      <th>1305</th>\n",
       "      <td>1.0</td>\n",
       "      <td>0.0</td>\n",
       "    </tr>\n",
       "    <tr>\n",
       "      <th>1306</th>\n",
       "      <td>0.0</td>\n",
       "      <td>1.0</td>\n",
       "    </tr>\n",
       "    <tr>\n",
       "      <th>1307</th>\n",
       "      <td>0.0</td>\n",
       "      <td>1.0</td>\n",
       "    </tr>\n",
       "    <tr>\n",
       "      <th>1308</th>\n",
       "      <td>0.0</td>\n",
       "      <td>1.0</td>\n",
       "    </tr>\n",
       "  </tbody>\n",
       "</table>\n",
       "<p>1309 rows × 2 columns</p>\n",
       "</div>"
      ],
      "text/plain": [
       "       女性   男性\n",
       "0     0.0  1.0\n",
       "1     1.0  0.0\n",
       "2     1.0  0.0\n",
       "3     1.0  0.0\n",
       "4     0.0  1.0\n",
       "...   ...  ...\n",
       "1304  0.0  1.0\n",
       "1305  1.0  0.0\n",
       "1306  0.0  1.0\n",
       "1307  0.0  1.0\n",
       "1308  0.0  1.0\n",
       "\n",
       "[1309 rows x 2 columns]"
      ]
     },
     "execution_count": 23,
     "metadata": {},
     "output_type": "execute_result"
    }
   ],
   "source": [
    "OneHotSex = pd.DataFrame(one_hot_for_Sex,columns=[\"女性\",\"男性\"])\n",
    "OneHotSex"
   ]
  },
  {
   "cell_type": "code",
   "execution_count": 24,
   "id": "410c5f66",
   "metadata": {},
   "outputs": [
    {
     "data": {
      "text/plain": [
       "[nan, 'Q', 'C', 'S']"
      ]
     },
     "execution_count": 24,
     "metadata": {},
     "output_type": "execute_result"
    }
   ],
   "source": [
    "Embarked_element = list(set(titanic_data[\"登船港口\"]))\n",
    "Embarked_element\n",
    "\n"
   ]
  },
  {
   "cell_type": "code",
   "execution_count": 25,
   "id": "8a30d731",
   "metadata": {},
   "outputs": [
    {
     "data": {
      "text/plain": [
       "array([[0., 0., 0., 0.],\n",
       "       [0., 0., 0., 0.],\n",
       "       [0., 0., 0., 0.],\n",
       "       ...,\n",
       "       [0., 0., 0., 0.],\n",
       "       [0., 0., 0., 0.],\n",
       "       [0., 0., 0., 0.]])"
      ]
     },
     "execution_count": 25,
     "metadata": {},
     "output_type": "execute_result"
    }
   ],
   "source": [
    "one_hot_for_Embarked = np.zeros((titanic_data.shape[0],len(Embarked_element)))\n",
    "one_hot_for_Embarked"
   ]
  },
  {
   "cell_type": "code",
   "execution_count": 26,
   "id": "16f70eb0",
   "metadata": {},
   "outputs": [
    {
     "data": {
      "text/plain": [
       "array([[0., 0., 0., 1.],\n",
       "       [0., 0., 1., 0.],\n",
       "       [0., 0., 0., 1.],\n",
       "       ...,\n",
       "       [0., 0., 0., 1.],\n",
       "       [0., 0., 0., 1.],\n",
       "       [0., 0., 1., 0.]])"
      ]
     },
     "execution_count": 26,
     "metadata": {},
     "output_type": "execute_result"
    }
   ],
   "source": [
    "for m,Embarked in enumerate(titanic_data[\"登船港口\"]):\n",
    "    if Embarked == Embarked_element[0]:\n",
    "        one_hot_for_Embarked[m][0] = 1\n",
    "    if Embarked == Embarked_element[1]:\n",
    "        one_hot_for_Embarked[m][1] = 1\n",
    "    if Embarked == Embarked_element[2]:\n",
    "        one_hot_for_Embarked[m][2] = 1\n",
    "    if Embarked == Embarked_element[3]:\n",
    "        one_hot_for_Embarked[m][3] = 1\n",
    "one_hot_for_Embarked\n",
    "\n"
   ]
  },
  {
   "cell_type": "code",
   "execution_count": 27,
   "id": "926d1345",
   "metadata": {},
   "outputs": [
    {
     "data": {
      "text/html": [
       "<div>\n",
       "<style scoped>\n",
       "    .dataframe tbody tr th:only-of-type {\n",
       "        vertical-align: middle;\n",
       "    }\n",
       "\n",
       "    .dataframe tbody tr th {\n",
       "        vertical-align: top;\n",
       "    }\n",
       "\n",
       "    .dataframe thead th {\n",
       "        text-align: right;\n",
       "    }\n",
       "</style>\n",
       "<table border=\"1\" class=\"dataframe\">\n",
       "  <thead>\n",
       "    <tr style=\"text-align: right;\">\n",
       "      <th></th>\n",
       "      <th>登船港口为空</th>\n",
       "      <th>登船为Q港</th>\n",
       "      <th>登船为C港</th>\n",
       "      <th>登船为S港</th>\n",
       "    </tr>\n",
       "  </thead>\n",
       "  <tbody>\n",
       "    <tr>\n",
       "      <th>0</th>\n",
       "      <td>0.0</td>\n",
       "      <td>0.0</td>\n",
       "      <td>0.0</td>\n",
       "      <td>1.0</td>\n",
       "    </tr>\n",
       "    <tr>\n",
       "      <th>1</th>\n",
       "      <td>0.0</td>\n",
       "      <td>0.0</td>\n",
       "      <td>1.0</td>\n",
       "      <td>0.0</td>\n",
       "    </tr>\n",
       "    <tr>\n",
       "      <th>2</th>\n",
       "      <td>0.0</td>\n",
       "      <td>0.0</td>\n",
       "      <td>0.0</td>\n",
       "      <td>1.0</td>\n",
       "    </tr>\n",
       "    <tr>\n",
       "      <th>3</th>\n",
       "      <td>0.0</td>\n",
       "      <td>0.0</td>\n",
       "      <td>0.0</td>\n",
       "      <td>1.0</td>\n",
       "    </tr>\n",
       "    <tr>\n",
       "      <th>4</th>\n",
       "      <td>0.0</td>\n",
       "      <td>0.0</td>\n",
       "      <td>0.0</td>\n",
       "      <td>1.0</td>\n",
       "    </tr>\n",
       "    <tr>\n",
       "      <th>...</th>\n",
       "      <td>...</td>\n",
       "      <td>...</td>\n",
       "      <td>...</td>\n",
       "      <td>...</td>\n",
       "    </tr>\n",
       "    <tr>\n",
       "      <th>1304</th>\n",
       "      <td>0.0</td>\n",
       "      <td>0.0</td>\n",
       "      <td>0.0</td>\n",
       "      <td>1.0</td>\n",
       "    </tr>\n",
       "    <tr>\n",
       "      <th>1305</th>\n",
       "      <td>0.0</td>\n",
       "      <td>0.0</td>\n",
       "      <td>1.0</td>\n",
       "      <td>0.0</td>\n",
       "    </tr>\n",
       "    <tr>\n",
       "      <th>1306</th>\n",
       "      <td>0.0</td>\n",
       "      <td>0.0</td>\n",
       "      <td>0.0</td>\n",
       "      <td>1.0</td>\n",
       "    </tr>\n",
       "    <tr>\n",
       "      <th>1307</th>\n",
       "      <td>0.0</td>\n",
       "      <td>0.0</td>\n",
       "      <td>0.0</td>\n",
       "      <td>1.0</td>\n",
       "    </tr>\n",
       "    <tr>\n",
       "      <th>1308</th>\n",
       "      <td>0.0</td>\n",
       "      <td>0.0</td>\n",
       "      <td>1.0</td>\n",
       "      <td>0.0</td>\n",
       "    </tr>\n",
       "  </tbody>\n",
       "</table>\n",
       "<p>1309 rows × 4 columns</p>\n",
       "</div>"
      ],
      "text/plain": [
       "      登船港口为空  登船为Q港  登船为C港  登船为S港\n",
       "0        0.0    0.0    0.0    1.0\n",
       "1        0.0    0.0    1.0    0.0\n",
       "2        0.0    0.0    0.0    1.0\n",
       "3        0.0    0.0    0.0    1.0\n",
       "4        0.0    0.0    0.0    1.0\n",
       "...      ...    ...    ...    ...\n",
       "1304     0.0    0.0    0.0    1.0\n",
       "1305     0.0    0.0    1.0    0.0\n",
       "1306     0.0    0.0    0.0    1.0\n",
       "1307     0.0    0.0    0.0    1.0\n",
       "1308     0.0    0.0    1.0    0.0\n",
       "\n",
       "[1309 rows x 4 columns]"
      ]
     },
     "execution_count": 27,
     "metadata": {},
     "output_type": "execute_result"
    }
   ],
   "source": [
    "OneHotEmbarked = pd.DataFrame(one_hot_for_Embarked\n",
    "                              ,columns=[\"登船港口为空\"\n",
    "                                        ,f\"登船为{Embarked_element[1]}港\"\n",
    "                                        ,f\"登船为{Embarked_element[2]}港\"\n",
    "                                        ,f\"登船为{Embarked_element[3]}港\"])\n",
    "OneHotEmbarked"
   ]
  },
  {
   "cell_type": "markdown",
   "id": "a1dadd13",
   "metadata": {},
   "source": [
    "#### 整合one hot 编码和待用的列"
   ]
  },
  {
   "cell_type": "code",
   "execution_count": 28,
   "id": "b2871974",
   "metadata": {},
   "outputs": [
    {
     "data": {
      "text/html": [
       "<div>\n",
       "<style scoped>\n",
       "    .dataframe tbody tr th:only-of-type {\n",
       "        vertical-align: middle;\n",
       "    }\n",
       "\n",
       "    .dataframe tbody tr th {\n",
       "        vertical-align: top;\n",
       "    }\n",
       "\n",
       "    .dataframe thead th {\n",
       "        text-align: right;\n",
       "    }\n",
       "</style>\n",
       "<table border=\"1\" class=\"dataframe\">\n",
       "  <thead>\n",
       "    <tr style=\"text-align: right;\">\n",
       "      <th></th>\n",
       "      <th>乘客ID</th>\n",
       "      <th>是否生还</th>\n",
       "      <th>舱位</th>\n",
       "      <th>姓名</th>\n",
       "      <th>性别</th>\n",
       "      <th>年龄</th>\n",
       "      <th>兄弟姐妹/配偶的个数</th>\n",
       "      <th>父母/小孩个数</th>\n",
       "      <th>船票信息</th>\n",
       "      <th>票价</th>\n",
       "      <th>客舱号</th>\n",
       "      <th>登船港口</th>\n",
       "    </tr>\n",
       "  </thead>\n",
       "  <tbody>\n",
       "    <tr>\n",
       "      <th>0</th>\n",
       "      <td>1</td>\n",
       "      <td>0</td>\n",
       "      <td>3</td>\n",
       "      <td>Braund, Mr. Owen Harris</td>\n",
       "      <td>male</td>\n",
       "      <td>22.0</td>\n",
       "      <td>1</td>\n",
       "      <td>0</td>\n",
       "      <td>A/5 21171</td>\n",
       "      <td>7.2500</td>\n",
       "      <td>NaN</td>\n",
       "      <td>S</td>\n",
       "    </tr>\n",
       "    <tr>\n",
       "      <th>1</th>\n",
       "      <td>2</td>\n",
       "      <td>1</td>\n",
       "      <td>1</td>\n",
       "      <td>Cumings, Mrs. John Bradley (Florence Briggs Th...</td>\n",
       "      <td>female</td>\n",
       "      <td>38.0</td>\n",
       "      <td>1</td>\n",
       "      <td>0</td>\n",
       "      <td>PC 17599</td>\n",
       "      <td>71.2833</td>\n",
       "      <td>C85</td>\n",
       "      <td>C</td>\n",
       "    </tr>\n",
       "    <tr>\n",
       "      <th>2</th>\n",
       "      <td>3</td>\n",
       "      <td>1</td>\n",
       "      <td>3</td>\n",
       "      <td>Heikkinen, Miss. Laina</td>\n",
       "      <td>female</td>\n",
       "      <td>26.0</td>\n",
       "      <td>0</td>\n",
       "      <td>0</td>\n",
       "      <td>STON/O2. 3101282</td>\n",
       "      <td>7.9250</td>\n",
       "      <td>NaN</td>\n",
       "      <td>S</td>\n",
       "    </tr>\n",
       "    <tr>\n",
       "      <th>3</th>\n",
       "      <td>4</td>\n",
       "      <td>1</td>\n",
       "      <td>1</td>\n",
       "      <td>Futrelle, Mrs. Jacques Heath (Lily May Peel)</td>\n",
       "      <td>female</td>\n",
       "      <td>35.0</td>\n",
       "      <td>1</td>\n",
       "      <td>0</td>\n",
       "      <td>113803</td>\n",
       "      <td>53.1000</td>\n",
       "      <td>C123</td>\n",
       "      <td>S</td>\n",
       "    </tr>\n",
       "    <tr>\n",
       "      <th>4</th>\n",
       "      <td>5</td>\n",
       "      <td>0</td>\n",
       "      <td>3</td>\n",
       "      <td>Allen, Mr. William Henry</td>\n",
       "      <td>male</td>\n",
       "      <td>35.0</td>\n",
       "      <td>0</td>\n",
       "      <td>0</td>\n",
       "      <td>373450</td>\n",
       "      <td>8.0500</td>\n",
       "      <td>NaN</td>\n",
       "      <td>S</td>\n",
       "    </tr>\n",
       "    <tr>\n",
       "      <th>...</th>\n",
       "      <td>...</td>\n",
       "      <td>...</td>\n",
       "      <td>...</td>\n",
       "      <td>...</td>\n",
       "      <td>...</td>\n",
       "      <td>...</td>\n",
       "      <td>...</td>\n",
       "      <td>...</td>\n",
       "      <td>...</td>\n",
       "      <td>...</td>\n",
       "      <td>...</td>\n",
       "      <td>...</td>\n",
       "    </tr>\n",
       "    <tr>\n",
       "      <th>413</th>\n",
       "      <td>1305</td>\n",
       "      <td>0</td>\n",
       "      <td>3</td>\n",
       "      <td>Spector, Mr. Woolf</td>\n",
       "      <td>male</td>\n",
       "      <td>NaN</td>\n",
       "      <td>0</td>\n",
       "      <td>0</td>\n",
       "      <td>A.5. 3236</td>\n",
       "      <td>8.0500</td>\n",
       "      <td>NaN</td>\n",
       "      <td>S</td>\n",
       "    </tr>\n",
       "    <tr>\n",
       "      <th>414</th>\n",
       "      <td>1306</td>\n",
       "      <td>1</td>\n",
       "      <td>1</td>\n",
       "      <td>Oliva y Ocana, Dona. Fermina</td>\n",
       "      <td>female</td>\n",
       "      <td>39.0</td>\n",
       "      <td>0</td>\n",
       "      <td>0</td>\n",
       "      <td>PC 17758</td>\n",
       "      <td>108.9000</td>\n",
       "      <td>C105</td>\n",
       "      <td>C</td>\n",
       "    </tr>\n",
       "    <tr>\n",
       "      <th>415</th>\n",
       "      <td>1307</td>\n",
       "      <td>0</td>\n",
       "      <td>3</td>\n",
       "      <td>Saether, Mr. Simon Sivertsen</td>\n",
       "      <td>male</td>\n",
       "      <td>38.5</td>\n",
       "      <td>0</td>\n",
       "      <td>0</td>\n",
       "      <td>SOTON/O.Q. 3101262</td>\n",
       "      <td>7.2500</td>\n",
       "      <td>NaN</td>\n",
       "      <td>S</td>\n",
       "    </tr>\n",
       "    <tr>\n",
       "      <th>416</th>\n",
       "      <td>1308</td>\n",
       "      <td>0</td>\n",
       "      <td>3</td>\n",
       "      <td>Ware, Mr. Frederick</td>\n",
       "      <td>male</td>\n",
       "      <td>NaN</td>\n",
       "      <td>0</td>\n",
       "      <td>0</td>\n",
       "      <td>359309</td>\n",
       "      <td>8.0500</td>\n",
       "      <td>NaN</td>\n",
       "      <td>S</td>\n",
       "    </tr>\n",
       "    <tr>\n",
       "      <th>417</th>\n",
       "      <td>1309</td>\n",
       "      <td>0</td>\n",
       "      <td>3</td>\n",
       "      <td>Peter, Master. Michael J</td>\n",
       "      <td>male</td>\n",
       "      <td>NaN</td>\n",
       "      <td>1</td>\n",
       "      <td>1</td>\n",
       "      <td>2668</td>\n",
       "      <td>22.3583</td>\n",
       "      <td>NaN</td>\n",
       "      <td>C</td>\n",
       "    </tr>\n",
       "  </tbody>\n",
       "</table>\n",
       "<p>1309 rows × 12 columns</p>\n",
       "</div>"
      ],
      "text/plain": [
       "     乘客ID  是否生还  舱位                                                 姓名  \\\n",
       "0       1     0   3                            Braund, Mr. Owen Harris   \n",
       "1       2     1   1  Cumings, Mrs. John Bradley (Florence Briggs Th...   \n",
       "2       3     1   3                             Heikkinen, Miss. Laina   \n",
       "3       4     1   1       Futrelle, Mrs. Jacques Heath (Lily May Peel)   \n",
       "4       5     0   3                           Allen, Mr. William Henry   \n",
       "..    ...   ...  ..                                                ...   \n",
       "413  1305     0   3                                 Spector, Mr. Woolf   \n",
       "414  1306     1   1                       Oliva y Ocana, Dona. Fermina   \n",
       "415  1307     0   3                       Saether, Mr. Simon Sivertsen   \n",
       "416  1308     0   3                                Ware, Mr. Frederick   \n",
       "417  1309     0   3                           Peter, Master. Michael J   \n",
       "\n",
       "         性别    年龄  兄弟姐妹/配偶的个数  父母/小孩个数                船票信息        票价   客舱号  \\\n",
       "0      male  22.0           1        0           A/5 21171    7.2500   NaN   \n",
       "1    female  38.0           1        0            PC 17599   71.2833   C85   \n",
       "2    female  26.0           0        0    STON/O2. 3101282    7.9250   NaN   \n",
       "3    female  35.0           1        0              113803   53.1000  C123   \n",
       "4      male  35.0           0        0              373450    8.0500   NaN   \n",
       "..      ...   ...         ...      ...                 ...       ...   ...   \n",
       "413    male   NaN           0        0           A.5. 3236    8.0500   NaN   \n",
       "414  female  39.0           0        0            PC 17758  108.9000  C105   \n",
       "415    male  38.5           0        0  SOTON/O.Q. 3101262    7.2500   NaN   \n",
       "416    male   NaN           0        0              359309    8.0500   NaN   \n",
       "417    male   NaN           1        1                2668   22.3583   NaN   \n",
       "\n",
       "    登船港口  \n",
       "0      S  \n",
       "1      C  \n",
       "2      S  \n",
       "3      S  \n",
       "4      S  \n",
       "..   ...  \n",
       "413    S  \n",
       "414    C  \n",
       "415    S  \n",
       "416    S  \n",
       "417    C  \n",
       "\n",
       "[1309 rows x 12 columns]"
      ]
     },
     "execution_count": 28,
     "metadata": {},
     "output_type": "execute_result"
    }
   ],
   "source": [
    "titanic_data"
   ]
  },
  {
   "cell_type": "code",
   "execution_count": 29,
   "id": "d1ee8907",
   "metadata": {},
   "outputs": [],
   "source": [
    "x_data = titanic_data[[\"年龄\",\"兄弟姐妹/配偶的个数\",\"父母/小孩个数\",\"票价\"]]"
   ]
  },
  {
   "cell_type": "code",
   "execution_count": 30,
   "id": "53cc9926",
   "metadata": {},
   "outputs": [
    {
     "data": {
      "text/html": [
       "<div>\n",
       "<style scoped>\n",
       "    .dataframe tbody tr th:only-of-type {\n",
       "        vertical-align: middle;\n",
       "    }\n",
       "\n",
       "    .dataframe tbody tr th {\n",
       "        vertical-align: top;\n",
       "    }\n",
       "\n",
       "    .dataframe thead th {\n",
       "        text-align: right;\n",
       "    }\n",
       "</style>\n",
       "<table border=\"1\" class=\"dataframe\">\n",
       "  <thead>\n",
       "    <tr style=\"text-align: right;\">\n",
       "      <th></th>\n",
       "      <th>年龄</th>\n",
       "      <th>兄弟姐妹/配偶的个数</th>\n",
       "      <th>父母/小孩个数</th>\n",
       "      <th>票价</th>\n",
       "    </tr>\n",
       "  </thead>\n",
       "  <tbody>\n",
       "    <tr>\n",
       "      <th>0</th>\n",
       "      <td>22.0</td>\n",
       "      <td>1</td>\n",
       "      <td>0</td>\n",
       "      <td>7.2500</td>\n",
       "    </tr>\n",
       "    <tr>\n",
       "      <th>1</th>\n",
       "      <td>38.0</td>\n",
       "      <td>1</td>\n",
       "      <td>0</td>\n",
       "      <td>71.2833</td>\n",
       "    </tr>\n",
       "    <tr>\n",
       "      <th>2</th>\n",
       "      <td>26.0</td>\n",
       "      <td>0</td>\n",
       "      <td>0</td>\n",
       "      <td>7.9250</td>\n",
       "    </tr>\n",
       "    <tr>\n",
       "      <th>3</th>\n",
       "      <td>35.0</td>\n",
       "      <td>1</td>\n",
       "      <td>0</td>\n",
       "      <td>53.1000</td>\n",
       "    </tr>\n",
       "    <tr>\n",
       "      <th>4</th>\n",
       "      <td>35.0</td>\n",
       "      <td>0</td>\n",
       "      <td>0</td>\n",
       "      <td>8.0500</td>\n",
       "    </tr>\n",
       "  </tbody>\n",
       "</table>\n",
       "</div>"
      ],
      "text/plain": [
       "     年龄  兄弟姐妹/配偶的个数  父母/小孩个数       票价\n",
       "0  22.0           1        0   7.2500\n",
       "1  38.0           1        0  71.2833\n",
       "2  26.0           0        0   7.9250\n",
       "3  35.0           1        0  53.1000\n",
       "4  35.0           0        0   8.0500"
      ]
     },
     "execution_count": 30,
     "metadata": {},
     "output_type": "execute_result"
    }
   ],
   "source": [
    "x_data.head()"
   ]
  },
  {
   "cell_type": "code",
   "execution_count": 31,
   "id": "c7369000",
   "metadata": {},
   "outputs": [
    {
     "data": {
      "text/html": [
       "<div>\n",
       "<style scoped>\n",
       "    .dataframe tbody tr th:only-of-type {\n",
       "        vertical-align: middle;\n",
       "    }\n",
       "\n",
       "    .dataframe tbody tr th {\n",
       "        vertical-align: top;\n",
       "    }\n",
       "\n",
       "    .dataframe thead th {\n",
       "        text-align: right;\n",
       "    }\n",
       "</style>\n",
       "<table border=\"1\" class=\"dataframe\">\n",
       "  <thead>\n",
       "    <tr style=\"text-align: right;\">\n",
       "      <th></th>\n",
       "      <th>1等舱</th>\n",
       "      <th>2等舱</th>\n",
       "      <th>3等舱</th>\n",
       "      <th>登船港口为空</th>\n",
       "      <th>登船为Q港</th>\n",
       "      <th>登船为C港</th>\n",
       "      <th>登船为S港</th>\n",
       "      <th>女性</th>\n",
       "      <th>男性</th>\n",
       "    </tr>\n",
       "  </thead>\n",
       "  <tbody>\n",
       "    <tr>\n",
       "      <th>0</th>\n",
       "      <td>0.0</td>\n",
       "      <td>0.0</td>\n",
       "      <td>1.0</td>\n",
       "      <td>0.0</td>\n",
       "      <td>0.0</td>\n",
       "      <td>0.0</td>\n",
       "      <td>1.0</td>\n",
       "      <td>0.0</td>\n",
       "      <td>1.0</td>\n",
       "    </tr>\n",
       "    <tr>\n",
       "      <th>1</th>\n",
       "      <td>1.0</td>\n",
       "      <td>0.0</td>\n",
       "      <td>0.0</td>\n",
       "      <td>0.0</td>\n",
       "      <td>0.0</td>\n",
       "      <td>1.0</td>\n",
       "      <td>0.0</td>\n",
       "      <td>1.0</td>\n",
       "      <td>0.0</td>\n",
       "    </tr>\n",
       "    <tr>\n",
       "      <th>2</th>\n",
       "      <td>0.0</td>\n",
       "      <td>0.0</td>\n",
       "      <td>1.0</td>\n",
       "      <td>0.0</td>\n",
       "      <td>0.0</td>\n",
       "      <td>0.0</td>\n",
       "      <td>1.0</td>\n",
       "      <td>1.0</td>\n",
       "      <td>0.0</td>\n",
       "    </tr>\n",
       "    <tr>\n",
       "      <th>3</th>\n",
       "      <td>1.0</td>\n",
       "      <td>0.0</td>\n",
       "      <td>0.0</td>\n",
       "      <td>0.0</td>\n",
       "      <td>0.0</td>\n",
       "      <td>0.0</td>\n",
       "      <td>1.0</td>\n",
       "      <td>1.0</td>\n",
       "      <td>0.0</td>\n",
       "    </tr>\n",
       "    <tr>\n",
       "      <th>4</th>\n",
       "      <td>0.0</td>\n",
       "      <td>0.0</td>\n",
       "      <td>1.0</td>\n",
       "      <td>0.0</td>\n",
       "      <td>0.0</td>\n",
       "      <td>0.0</td>\n",
       "      <td>1.0</td>\n",
       "      <td>0.0</td>\n",
       "      <td>1.0</td>\n",
       "    </tr>\n",
       "  </tbody>\n",
       "</table>\n",
       "</div>"
      ],
      "text/plain": [
       "   1等舱  2等舱  3等舱  登船港口为空  登船为Q港  登船为C港  登船为S港   女性   男性\n",
       "0  0.0  0.0  1.0     0.0    0.0    0.0    1.0  0.0  1.0\n",
       "1  1.0  0.0  0.0     0.0    0.0    1.0    0.0  1.0  0.0\n",
       "2  0.0  0.0  1.0     0.0    0.0    0.0    1.0  1.0  0.0\n",
       "3  1.0  0.0  0.0     0.0    0.0    0.0    1.0  1.0  0.0\n",
       "4  0.0  0.0  1.0     0.0    0.0    0.0    1.0  0.0  1.0"
      ]
     },
     "execution_count": 31,
     "metadata": {},
     "output_type": "execute_result"
    }
   ],
   "source": [
    "concat_1 = pd.concat([OneHotPclass,OneHotEmbarked],axis=1)\n",
    "concat_2 = pd.concat([concat_1,OneHotSex],axis=1)\n",
    "concat_2.head()"
   ]
  },
  {
   "cell_type": "code",
   "execution_count": 32,
   "id": "211ffcfe",
   "metadata": {},
   "outputs": [
    {
     "data": {
      "text/html": [
       "<div>\n",
       "<style scoped>\n",
       "    .dataframe tbody tr th:only-of-type {\n",
       "        vertical-align: middle;\n",
       "    }\n",
       "\n",
       "    .dataframe tbody tr th {\n",
       "        vertical-align: top;\n",
       "    }\n",
       "\n",
       "    .dataframe thead th {\n",
       "        text-align: right;\n",
       "    }\n",
       "</style>\n",
       "<table border=\"1\" class=\"dataframe\">\n",
       "  <thead>\n",
       "    <tr style=\"text-align: right;\">\n",
       "      <th></th>\n",
       "      <th>年龄</th>\n",
       "      <th>兄弟姐妹/配偶的个数</th>\n",
       "      <th>父母/小孩个数</th>\n",
       "      <th>票价</th>\n",
       "      <th>1等舱</th>\n",
       "      <th>2等舱</th>\n",
       "      <th>3等舱</th>\n",
       "      <th>登船港口为空</th>\n",
       "      <th>登船为Q港</th>\n",
       "      <th>登船为C港</th>\n",
       "      <th>登船为S港</th>\n",
       "      <th>女性</th>\n",
       "      <th>男性</th>\n",
       "    </tr>\n",
       "  </thead>\n",
       "  <tbody>\n",
       "    <tr>\n",
       "      <th>0</th>\n",
       "      <td>22.0</td>\n",
       "      <td>1</td>\n",
       "      <td>0</td>\n",
       "      <td>7.2500</td>\n",
       "      <td>0.0</td>\n",
       "      <td>0.0</td>\n",
       "      <td>1.0</td>\n",
       "      <td>0.0</td>\n",
       "      <td>0.0</td>\n",
       "      <td>0.0</td>\n",
       "      <td>1.0</td>\n",
       "      <td>0.0</td>\n",
       "      <td>1.0</td>\n",
       "    </tr>\n",
       "    <tr>\n",
       "      <th>1</th>\n",
       "      <td>38.0</td>\n",
       "      <td>1</td>\n",
       "      <td>0</td>\n",
       "      <td>71.2833</td>\n",
       "      <td>1.0</td>\n",
       "      <td>0.0</td>\n",
       "      <td>0.0</td>\n",
       "      <td>0.0</td>\n",
       "      <td>0.0</td>\n",
       "      <td>1.0</td>\n",
       "      <td>0.0</td>\n",
       "      <td>1.0</td>\n",
       "      <td>0.0</td>\n",
       "    </tr>\n",
       "    <tr>\n",
       "      <th>2</th>\n",
       "      <td>26.0</td>\n",
       "      <td>0</td>\n",
       "      <td>0</td>\n",
       "      <td>7.9250</td>\n",
       "      <td>0.0</td>\n",
       "      <td>0.0</td>\n",
       "      <td>1.0</td>\n",
       "      <td>0.0</td>\n",
       "      <td>0.0</td>\n",
       "      <td>0.0</td>\n",
       "      <td>1.0</td>\n",
       "      <td>1.0</td>\n",
       "      <td>0.0</td>\n",
       "    </tr>\n",
       "    <tr>\n",
       "      <th>3</th>\n",
       "      <td>35.0</td>\n",
       "      <td>1</td>\n",
       "      <td>0</td>\n",
       "      <td>53.1000</td>\n",
       "      <td>1.0</td>\n",
       "      <td>0.0</td>\n",
       "      <td>0.0</td>\n",
       "      <td>0.0</td>\n",
       "      <td>0.0</td>\n",
       "      <td>0.0</td>\n",
       "      <td>1.0</td>\n",
       "      <td>1.0</td>\n",
       "      <td>0.0</td>\n",
       "    </tr>\n",
       "    <tr>\n",
       "      <th>4</th>\n",
       "      <td>35.0</td>\n",
       "      <td>0</td>\n",
       "      <td>0</td>\n",
       "      <td>8.0500</td>\n",
       "      <td>0.0</td>\n",
       "      <td>0.0</td>\n",
       "      <td>1.0</td>\n",
       "      <td>0.0</td>\n",
       "      <td>0.0</td>\n",
       "      <td>0.0</td>\n",
       "      <td>1.0</td>\n",
       "      <td>0.0</td>\n",
       "      <td>1.0</td>\n",
       "    </tr>\n",
       "    <tr>\n",
       "      <th>...</th>\n",
       "      <td>...</td>\n",
       "      <td>...</td>\n",
       "      <td>...</td>\n",
       "      <td>...</td>\n",
       "      <td>...</td>\n",
       "      <td>...</td>\n",
       "      <td>...</td>\n",
       "      <td>...</td>\n",
       "      <td>...</td>\n",
       "      <td>...</td>\n",
       "      <td>...</td>\n",
       "      <td>...</td>\n",
       "      <td>...</td>\n",
       "    </tr>\n",
       "    <tr>\n",
       "      <th>1304</th>\n",
       "      <td>0.0</td>\n",
       "      <td>0</td>\n",
       "      <td>0</td>\n",
       "      <td>8.0500</td>\n",
       "      <td>0.0</td>\n",
       "      <td>0.0</td>\n",
       "      <td>1.0</td>\n",
       "      <td>0.0</td>\n",
       "      <td>0.0</td>\n",
       "      <td>0.0</td>\n",
       "      <td>1.0</td>\n",
       "      <td>0.0</td>\n",
       "      <td>1.0</td>\n",
       "    </tr>\n",
       "    <tr>\n",
       "      <th>1305</th>\n",
       "      <td>39.0</td>\n",
       "      <td>0</td>\n",
       "      <td>0</td>\n",
       "      <td>108.9000</td>\n",
       "      <td>1.0</td>\n",
       "      <td>0.0</td>\n",
       "      <td>0.0</td>\n",
       "      <td>0.0</td>\n",
       "      <td>0.0</td>\n",
       "      <td>1.0</td>\n",
       "      <td>0.0</td>\n",
       "      <td>1.0</td>\n",
       "      <td>0.0</td>\n",
       "    </tr>\n",
       "    <tr>\n",
       "      <th>1306</th>\n",
       "      <td>38.5</td>\n",
       "      <td>0</td>\n",
       "      <td>0</td>\n",
       "      <td>7.2500</td>\n",
       "      <td>0.0</td>\n",
       "      <td>0.0</td>\n",
       "      <td>1.0</td>\n",
       "      <td>0.0</td>\n",
       "      <td>0.0</td>\n",
       "      <td>0.0</td>\n",
       "      <td>1.0</td>\n",
       "      <td>0.0</td>\n",
       "      <td>1.0</td>\n",
       "    </tr>\n",
       "    <tr>\n",
       "      <th>1307</th>\n",
       "      <td>0.0</td>\n",
       "      <td>0</td>\n",
       "      <td>0</td>\n",
       "      <td>8.0500</td>\n",
       "      <td>0.0</td>\n",
       "      <td>0.0</td>\n",
       "      <td>1.0</td>\n",
       "      <td>0.0</td>\n",
       "      <td>0.0</td>\n",
       "      <td>0.0</td>\n",
       "      <td>1.0</td>\n",
       "      <td>0.0</td>\n",
       "      <td>1.0</td>\n",
       "    </tr>\n",
       "    <tr>\n",
       "      <th>1308</th>\n",
       "      <td>0.0</td>\n",
       "      <td>1</td>\n",
       "      <td>1</td>\n",
       "      <td>22.3583</td>\n",
       "      <td>0.0</td>\n",
       "      <td>0.0</td>\n",
       "      <td>1.0</td>\n",
       "      <td>0.0</td>\n",
       "      <td>0.0</td>\n",
       "      <td>1.0</td>\n",
       "      <td>0.0</td>\n",
       "      <td>0.0</td>\n",
       "      <td>1.0</td>\n",
       "    </tr>\n",
       "  </tbody>\n",
       "</table>\n",
       "<p>1309 rows × 13 columns</p>\n",
       "</div>"
      ],
      "text/plain": [
       "        年龄  兄弟姐妹/配偶的个数  父母/小孩个数        票价  1等舱  2等舱  3等舱  登船港口为空  登船为Q港  \\\n",
       "0     22.0           1        0    7.2500  0.0  0.0  1.0     0.0    0.0   \n",
       "1     38.0           1        0   71.2833  1.0  0.0  0.0     0.0    0.0   \n",
       "2     26.0           0        0    7.9250  0.0  0.0  1.0     0.0    0.0   \n",
       "3     35.0           1        0   53.1000  1.0  0.0  0.0     0.0    0.0   \n",
       "4     35.0           0        0    8.0500  0.0  0.0  1.0     0.0    0.0   \n",
       "...    ...         ...      ...       ...  ...  ...  ...     ...    ...   \n",
       "1304   0.0           0        0    8.0500  0.0  0.0  1.0     0.0    0.0   \n",
       "1305  39.0           0        0  108.9000  1.0  0.0  0.0     0.0    0.0   \n",
       "1306  38.5           0        0    7.2500  0.0  0.0  1.0     0.0    0.0   \n",
       "1307   0.0           0        0    8.0500  0.0  0.0  1.0     0.0    0.0   \n",
       "1308   0.0           1        1   22.3583  0.0  0.0  1.0     0.0    0.0   \n",
       "\n",
       "      登船为C港  登船为S港   女性   男性  \n",
       "0       0.0    1.0  0.0  1.0  \n",
       "1       1.0    0.0  1.0  0.0  \n",
       "2       0.0    1.0  1.0  0.0  \n",
       "3       0.0    1.0  1.0  0.0  \n",
       "4       0.0    1.0  0.0  1.0  \n",
       "...     ...    ...  ...  ...  \n",
       "1304    0.0    1.0  0.0  1.0  \n",
       "1305    1.0    0.0  1.0  0.0  \n",
       "1306    0.0    1.0  0.0  1.0  \n",
       "1307    0.0    1.0  0.0  1.0  \n",
       "1308    1.0    0.0  0.0  1.0  \n",
       "\n",
       "[1309 rows x 13 columns]"
      ]
     },
     "execution_count": 32,
     "metadata": {},
     "output_type": "execute_result"
    }
   ],
   "source": [
    "X_data = pd.concat([x_data.reset_index(),concat_2],axis=1)\n",
    "X_data = X_data.drop(labels=[\"index\"],axis=1)\n",
    "X_data = X_data.fillna(0)\n",
    "# X_data = X_data[['年龄', '兄弟姐妹/配偶的个数', '父母/小孩个数', '票价', '1等舱', '2等舱', '3等舱', '登船港口为空',\n",
    "#        '登船为nan港', '登船为Q港', '登船为C港', '女性', '男性']]\n",
    "X_data"
   ]
  },
  {
   "cell_type": "code",
   "execution_count": null,
   "id": "478064b2",
   "metadata": {},
   "outputs": [],
   "source": []
  },
  {
   "cell_type": "markdown",
   "id": "c9b15d01",
   "metadata": {},
   "source": [
    "### 3.2 画图查看 \t年龄 \t兄弟姐妹/配偶的个数 \t父母/小孩个数 \t票价  的分布情况，决定采用归一化或标准化"
   ]
  },
  {
   "cell_type": "code",
   "execution_count": 33,
   "id": "90589c5e",
   "metadata": {},
   "outputs": [
    {
     "data": {
      "text/plain": [
       "Text(0, 0.5, 'age')"
      ]
     },
     "execution_count": 33,
     "metadata": {},
     "output_type": "execute_result"
    },
    {
     "data": {
      "image/png": "[encoded data removed]",
      "text/plain": [
       "<Figure size 432x288 with 1 Axes>"
      ]
     },
     "metadata": {
      "needs_background": "light"
     },
     "output_type": "display_data"
    }
   ],
   "source": [
    "plt.scatter(range(titanic_data.shape[0]),titanic_data[\"年龄\"])\n",
    "\n",
    "plt.ylabel(\"age\")"
   ]
  },
  {
   "cell_type": "code",
   "execution_count": 34,
   "id": "5800b352",
   "metadata": {},
   "outputs": [
    {
     "data": {
      "text/plain": [
       "<Axes: xlabel='年龄', ylabel='Density'>"
      ]
     },
     "execution_count": 34,
     "metadata": {},
     "output_type": "execute_result"
    },
    {
     "name": "stderr",
     "output_type": "stream",
     "text": [
      "/Users/magu/anaconda3/envs/TS_ENV_38_add_AKshare/lib/python3.8/site-packages/IPython/core/events.py:89: UserWarning: Glyph 24180 (\\N{CJK UNIFIED IDEOGRAPH-5E74}) missing from current font.\n",
      "  func(*args, **kwargs)\n",
      "/Users/magu/anaconda3/envs/TS_ENV_38_add_AKshare/lib/python3.8/site-packages/IPython/core/events.py:89: UserWarning: Glyph 40836 (\\N{CJK UNIFIED IDEOGRAPH-9F84}) missing from current font.\n",
      "  func(*args, **kwargs)\n",
      "/Users/magu/anaconda3/envs/TS_ENV_38_add_AKshare/lib/python3.8/site-packages/IPython/core/pylabtools.py:151: UserWarning: Glyph 24180 (\\N{CJK UNIFIED IDEOGRAPH-5E74}) missing from current font.\n",
      "  fig.canvas.print_figure(bytes_io, **kw)\n",
      "/Users/magu/anaconda3/envs/TS_ENV_38_add_AKshare/lib/python3.8/site-packages/IPython/core/pylabtools.py:151: UserWarning: Glyph 40836 (\\N{CJK UNIFIED IDEOGRAPH-9F84}) missing from current font.\n",
      "  fig.canvas.print_figure(bytes_io, **kw)\n"
     ]
    },
    {
     "data": {
      "image/png": "[encoded data removed]",
      "text/plain": [
       "<Figure size 432x288 with 1 Axes>"
      ]
     },
     "metadata": {
      "needs_background": "light"
     },
     "output_type": "display_data"
    }
   ],
   "source": [
    "sns.kdeplot(titanic_data[\"年龄\"])"
   ]
  },
  {
   "cell_type": "code",
   "execution_count": 35,
   "id": "fa45bb66",
   "metadata": {},
   "outputs": [
    {
     "data": {
      "text/plain": [
       "Text(0, 0.5, 'SibSp')"
      ]
     },
     "execution_count": 35,
     "metadata": {},
     "output_type": "execute_result"
    },
    {
     "data": {
      "image/png": "[encoded data removed]",
      "text/plain": [
       "<Figure size 432x288 with 1 Axes>"
      ]
     },
     "metadata": {
      "needs_background": "light"
     },
     "output_type": "display_data"
    }
   ],
   "source": [
    "plt.scatter(range(titanic_data.shape[0]),titanic_data[\"兄弟姐妹/配偶的个数\"])\n",
    "plt.ylabel(\"SibSp\")"
   ]
  },
  {
   "cell_type": "code",
   "execution_count": 36,
   "id": "97f152e9",
   "metadata": {},
   "outputs": [
    {
     "data": {
      "text/plain": [
       "<Axes: xlabel='兄弟姐妹/配偶的个数', ylabel='Density'>"
      ]
     },
     "execution_count": 36,
     "metadata": {},
     "output_type": "execute_result"
    },
    {
     "name": "stderr",
     "output_type": "stream",
     "text": [
      "/Users/magu/anaconda3/envs/TS_ENV_38_add_AKshare/lib/python3.8/site-packages/IPython/core/events.py:89: UserWarning: Glyph 20804 (\\N{CJK UNIFIED IDEOGRAPH-5144}) missing from current font.\n",
      "  func(*args, **kwargs)\n",
      "/Users/magu/anaconda3/envs/TS_ENV_38_add_AKshare/lib/python3.8/site-packages/IPython/core/events.py:89: UserWarning: Glyph 24351 (\\N{CJK UNIFIED IDEOGRAPH-5F1F}) missing from current font.\n",
      "  func(*args, **kwargs)\n",
      "/Users/magu/anaconda3/envs/TS_ENV_38_add_AKshare/lib/python3.8/site-packages/IPython/core/events.py:89: UserWarning: Glyph 22992 (\\N{CJK UNIFIED IDEOGRAPH-59D0}) missing from current font.\n",
      "  func(*args, **kwargs)\n",
      "/Users/magu/anaconda3/envs/TS_ENV_38_add_AKshare/lib/python3.8/site-packages/IPython/core/events.py:89: UserWarning: Glyph 22969 (\\N{CJK UNIFIED IDEOGRAPH-59B9}) missing from current font.\n",
      "  func(*args, **kwargs)\n",
      "/Users/magu/anaconda3/envs/TS_ENV_38_add_AKshare/lib/python3.8/site-packages/IPython/core/events.py:89: UserWarning: Glyph 37197 (\\N{CJK UNIFIED IDEOGRAPH-914D}) missing from current font.\n",
      "  func(*args, **kwargs)\n",
      "/Users/magu/anaconda3/envs/TS_ENV_38_add_AKshare/lib/python3.8/site-packages/IPython/core/events.py:89: UserWarning: Glyph 20598 (\\N{CJK UNIFIED IDEOGRAPH-5076}) missing from current font.\n",
      "  func(*args, **kwargs)\n",
      "/Users/magu/anaconda3/envs/TS_ENV_38_add_AKshare/lib/python3.8/site-packages/IPython/core/events.py:89: UserWarning: Glyph 30340 (\\N{CJK UNIFIED IDEOGRAPH-7684}) missing from current font.\n",
      "  func(*args, **kwargs)\n",
      "/Users/magu/anaconda3/envs/TS_ENV_38_add_AKshare/lib/python3.8/site-packages/IPython/core/events.py:89: UserWarning: Glyph 20010 (\\N{CJK UNIFIED IDEOGRAPH-4E2A}) missing from current font.\n",
      "  func(*args, **kwargs)\n",
      "/Users/magu/anaconda3/envs/TS_ENV_38_add_AKshare/lib/python3.8/site-packages/IPython/core/events.py:89: UserWarning: Glyph 25968 (\\N{CJK UNIFIED IDEOGRAPH-6570}) missing from current font.\n",
      "  func(*args, **kwargs)\n",
      "/Users/magu/anaconda3/envs/TS_ENV_38_add_AKshare/lib/python3.8/site-packages/IPython/core/pylabtools.py:151: UserWarning: Glyph 20804 (\\N{CJK UNIFIED IDEOGRAPH-5144}) missing from current font.\n",
      "  fig.canvas.print_figure(bytes_io, **kw)\n",
      "/Users/magu/anaconda3/envs/TS_ENV_38_add_AKshare/lib/python3.8/site-packages/IPython/core/pylabtools.py:151: UserWarning: Glyph 24351 (\\N{CJK UNIFIED IDEOGRAPH-5F1F}) missing from current font.\n",
      "  fig.canvas.print_figure(bytes_io, **kw)\n",
      "/Users/magu/anaconda3/envs/TS_ENV_38_add_AKshare/lib/python3.8/site-packages/IPython/core/pylabtools.py:151: UserWarning: Glyph 22992 (\\N{CJK UNIFIED IDEOGRAPH-59D0}) missing from current font.\n",
      "  fig.canvas.print_figure(bytes_io, **kw)\n",
      "/Users/magu/anaconda3/envs/TS_ENV_38_add_AKshare/lib/python3.8/site-packages/IPython/core/pylabtools.py:151: UserWarning: Glyph 22969 (\\N{CJK UNIFIED IDEOGRAPH-59B9}) missing from current font.\n",
      "  fig.canvas.print_figure(bytes_io, **kw)\n",
      "/Users/magu/anaconda3/envs/TS_ENV_38_add_AKshare/lib/python3.8/site-packages/IPython/core/pylabtools.py:151: UserWarning: Glyph 37197 (\\N{CJK UNIFIED IDEOGRAPH-914D}) missing from current font.\n",
      "  fig.canvas.print_figure(bytes_io, **kw)\n",
      "/Users/magu/anaconda3/envs/TS_ENV_38_add_AKshare/lib/python3.8/site-packages/IPython/core/pylabtools.py:151: UserWarning: Glyph 20598 (\\N{CJK UNIFIED IDEOGRAPH-5076}) missing from current font.\n",
      "  fig.canvas.print_figure(bytes_io, **kw)\n",
      "/Users/magu/anaconda3/envs/TS_ENV_38_add_AKshare/lib/python3.8/site-packages/IPython/core/pylabtools.py:151: UserWarning: Glyph 30340 (\\N{CJK UNIFIED IDEOGRAPH-7684}) missing from current font.\n",
      "  fig.canvas.print_figure(bytes_io, **kw)\n",
      "/Users/magu/anaconda3/envs/TS_ENV_38_add_AKshare/lib/python3.8/site-packages/IPython/core/pylabtools.py:151: UserWarning: Glyph 20010 (\\N{CJK UNIFIED IDEOGRAPH-4E2A}) missing from current font.\n",
      "  fig.canvas.print_figure(bytes_io, **kw)\n",
      "/Users/magu/anaconda3/envs/TS_ENV_38_add_AKshare/lib/python3.8/site-packages/IPython/core/pylabtools.py:151: UserWarning: Glyph 25968 (\\N{CJK UNIFIED IDEOGRAPH-6570}) missing from current font.\n",
      "  fig.canvas.print_figure(bytes_io, **kw)\n"
     ]
    },
    {
     "data": {
      "image/png": "[encoded data removed]",
      "text/plain": [
       "<Figure size 432x288 with 1 Axes>"
      ]
     },
     "metadata": {
      "needs_background": "light"
     },
     "output_type": "display_data"
    }
   ],
   "source": [
    "sns.kdeplot(titanic_data[\"兄弟姐妹/配偶的个数\"])"
   ]
  },
  {
   "cell_type": "code",
   "execution_count": 37,
   "id": "d4199552",
   "metadata": {},
   "outputs": [
    {
     "data": {
      "text/plain": [
       "Text(0, 0.5, 'Parch')"
      ]
     },
     "execution_count": 37,
     "metadata": {},
     "output_type": "execute_result"
    },
    {
     "data": {
      "image/png": "[encoded data removed]",
      "text/plain": [
       "<Figure size 432x288 with 1 Axes>"
      ]
     },
     "metadata": {
      "needs_background": "light"
     },
     "output_type": "display_data"
    }
   ],
   "source": [
    "plt.scatter(range(titanic_data.shape[0]),titanic_data[\"父母/小孩个数\"])\n",
    "plt.ylabel(\"Parch\")"
   ]
  },
  {
   "cell_type": "code",
   "execution_count": 38,
   "id": "7a13a594",
   "metadata": {},
   "outputs": [
    {
     "data": {
      "text/plain": [
       "<Axes: xlabel='父母/小孩个数', ylabel='Density'>"
      ]
     },
     "execution_count": 38,
     "metadata": {},
     "output_type": "execute_result"
    },
    {
     "name": "stderr",
     "output_type": "stream",
     "text": [
      "/Users/magu/anaconda3/envs/TS_ENV_38_add_AKshare/lib/python3.8/site-packages/IPython/core/events.py:89: UserWarning: Glyph 29238 (\\N{CJK UNIFIED IDEOGRAPH-7236}) missing from current font.\n",
      "  func(*args, **kwargs)\n",
      "/Users/magu/anaconda3/envs/TS_ENV_38_add_AKshare/lib/python3.8/site-packages/IPython/core/events.py:89: UserWarning: Glyph 27597 (\\N{CJK UNIFIED IDEOGRAPH-6BCD}) missing from current font.\n",
      "  func(*args, **kwargs)\n",
      "/Users/magu/anaconda3/envs/TS_ENV_38_add_AKshare/lib/python3.8/site-packages/IPython/core/events.py:89: UserWarning: Glyph 23567 (\\N{CJK UNIFIED IDEOGRAPH-5C0F}) missing from current font.\n",
      "  func(*args, **kwargs)\n",
      "/Users/magu/anaconda3/envs/TS_ENV_38_add_AKshare/lib/python3.8/site-packages/IPython/core/events.py:89: UserWarning: Glyph 23401 (\\N{CJK UNIFIED IDEOGRAPH-5B69}) missing from current font.\n",
      "  func(*args, **kwargs)\n",
      "/Users/magu/anaconda3/envs/TS_ENV_38_add_AKshare/lib/python3.8/site-packages/IPython/core/events.py:89: UserWarning: Glyph 20010 (\\N{CJK UNIFIED IDEOGRAPH-4E2A}) missing from current font.\n",
      "  func(*args, **kwargs)\n",
      "/Users/magu/anaconda3/envs/TS_ENV_38_add_AKshare/lib/python3.8/site-packages/IPython/core/events.py:89: UserWarning: Glyph 25968 (\\N{CJK UNIFIED IDEOGRAPH-6570}) missing from current font.\n",
      "  func(*args, **kwargs)\n",
      "/Users/magu/anaconda3/envs/TS_ENV_38_add_AKshare/lib/python3.8/site-packages/IPython/core/pylabtools.py:151: UserWarning: Glyph 29238 (\\N{CJK UNIFIED IDEOGRAPH-7236}) missing from current font.\n",
      "  fig.canvas.print_figure(bytes_io, **kw)\n",
      "/Users/magu/anaconda3/envs/TS_ENV_38_add_AKshare/lib/python3.8/site-packages/IPython/core/pylabtools.py:151: UserWarning: Glyph 27597 (\\N{CJK UNIFIED IDEOGRAPH-6BCD}) missing from current font.\n",
      "  fig.canvas.print_figure(bytes_io, **kw)\n",
      "/Users/magu/anaconda3/envs/TS_ENV_38_add_AKshare/lib/python3.8/site-packages/IPython/core/pylabtools.py:151: UserWarning: Glyph 23567 (\\N{CJK UNIFIED IDEOGRAPH-5C0F}) missing from current font.\n",
      "  fig.canvas.print_figure(bytes_io, **kw)\n",
      "/Users/magu/anaconda3/envs/TS_ENV_38_add_AKshare/lib/python3.8/site-packages/IPython/core/pylabtools.py:151: UserWarning: Glyph 23401 (\\N{CJK UNIFIED IDEOGRAPH-5B69}) missing from current font.\n",
      "  fig.canvas.print_figure(bytes_io, **kw)\n",
      "/Users/magu/anaconda3/envs/TS_ENV_38_add_AKshare/lib/python3.8/site-packages/IPython/core/pylabtools.py:151: UserWarning: Glyph 20010 (\\N{CJK UNIFIED IDEOGRAPH-4E2A}) missing from current font.\n",
      "  fig.canvas.print_figure(bytes_io, **kw)\n",
      "/Users/magu/anaconda3/envs/TS_ENV_38_add_AKshare/lib/python3.8/site-packages/IPython/core/pylabtools.py:151: UserWarning: Glyph 25968 (\\N{CJK UNIFIED IDEOGRAPH-6570}) missing from current font.\n",
      "  fig.canvas.print_figure(bytes_io, **kw)\n"
     ]
    },
    {
     "data": {
      "image/png": "[encoded data removed]",
      "text/plain": [
       "<Figure size 432x288 with 1 Axes>"
      ]
     },
     "metadata": {
      "needs_background": "light"
     },
     "output_type": "display_data"
    }
   ],
   "source": [
    "sns.kdeplot(titanic_data[\"父母/小孩个数\"])"
   ]
  },
  {
   "cell_type": "code",
   "execution_count": 39,
   "id": "aea0175e",
   "metadata": {},
   "outputs": [
    {
     "data": {
      "text/plain": [
       "Text(0, 0.5, 'Fare')"
      ]
     },
     "execution_count": 39,
     "metadata": {},
     "output_type": "execute_result"
    },
    {
     "data": {
      "image/png": "[encoded data removed]",
      "text/plain": [
       "<Figure size 432x288 with 1 Axes>"
      ]
     },
     "metadata": {
      "needs_background": "light"
     },
     "output_type": "display_data"
    }
   ],
   "source": [
    "plt.scatter(range(titanic_data.shape[0]),titanic_data[\"票价\"])\n",
    "plt.ylabel(\"Fare\")"
   ]
  },
  {
   "cell_type": "code",
   "execution_count": 40,
   "id": "6806dc8a",
   "metadata": {},
   "outputs": [
    {
     "data": {
      "text/plain": [
       "<Axes: xlabel='票价', ylabel='Density'>"
      ]
     },
     "execution_count": 40,
     "metadata": {},
     "output_type": "execute_result"
    },
    {
     "name": "stderr",
     "output_type": "stream",
     "text": [
      "/Users/magu/anaconda3/envs/TS_ENV_38_add_AKshare/lib/python3.8/site-packages/IPython/core/events.py:89: UserWarning: Glyph 31080 (\\N{CJK UNIFIED IDEOGRAPH-7968}) missing from current font.\n",
      "  func(*args, **kwargs)\n",
      "/Users/magu/anaconda3/envs/TS_ENV_38_add_AKshare/lib/python3.8/site-packages/IPython/core/events.py:89: UserWarning: Glyph 20215 (\\N{CJK UNIFIED IDEOGRAPH-4EF7}) missing from current font.\n",
      "  func(*args, **kwargs)\n",
      "/Users/magu/anaconda3/envs/TS_ENV_38_add_AKshare/lib/python3.8/site-packages/IPython/core/pylabtools.py:151: UserWarning: Glyph 31080 (\\N{CJK UNIFIED IDEOGRAPH-7968}) missing from current font.\n",
      "  fig.canvas.print_figure(bytes_io, **kw)\n",
      "/Users/magu/anaconda3/envs/TS_ENV_38_add_AKshare/lib/python3.8/site-packages/IPython/core/pylabtools.py:151: UserWarning: Glyph 20215 (\\N{CJK UNIFIED IDEOGRAPH-4EF7}) missing from current font.\n",
      "  fig.canvas.print_figure(bytes_io, **kw)\n"
     ]
    },
    {
     "data": {
      "image/png": "[encoded data removed]",
      "text/plain": [
       "<Figure size 432x288 with 1 Axes>"
      ]
     },
     "metadata": {
      "needs_background": "light"
     },
     "output_type": "display_data"
    }
   ],
   "source": [
    "sns.kdeplot(titanic_data[\"票价\"])"
   ]
  },
  {
   "cell_type": "markdown",
   "id": "b2870163",
   "metadata": {},
   "source": [
    "### 3.3 观察以上图，票价一栏存在有极端值的情况，所以归一化不合适，更适合使用标准化"
   ]
  },
  {
   "cell_type": "code",
   "execution_count": 41,
   "id": "1b0f8ed1",
   "metadata": {},
   "outputs": [],
   "source": [
    "from sklearn.preprocessing import StandardScaler\n",
    "\n",
    "sc = StandardScaler()\n",
    "sc.fit(X_data)\n",
    "X = sc.transform(X_data)\n",
    "Y = np.array(titanic_data[\"是否生还\"])"
   ]
  },
  {
   "cell_type": "code",
   "execution_count": 42,
   "id": "ff9356bd",
   "metadata": {},
   "outputs": [
    {
     "data": {
      "text/plain": [
       "(891, 13)"
      ]
     },
     "execution_count": 42,
     "metadata": {},
     "output_type": "execute_result"
    }
   ],
   "source": [
    "from sklearn.model_selection import train_test_split\n",
    "\n",
    "train_X,test_x,train_Y,test_y = train_test_split(X,Y,test_size=0.3193,random_state=42)\n",
    "train_X.shape"
   ]
  },
  {
   "cell_type": "markdown",
   "id": "b4cfebf3",
   "metadata": {},
   "source": [
    "### 4.1 尝试建立模型并调节参数"
   ]
  },
  {
   "cell_type": "markdown",
   "id": "87eca75d",
   "metadata": {},
   "source": [
    "#### 4.1.1 逻辑回归测试准确性"
   ]
  },
  {
   "cell_type": "code",
   "execution_count": 43,
   "id": "e43b0d57",
   "metadata": {},
   "outputs": [
    {
     "name": "stderr",
     "output_type": "stream",
     "text": [
      "/Users/magu/anaconda3/envs/TS_ENV_38_add_AKshare/lib/python3.8/site-packages/sklearn/linear_model/_logistic.py:1171: UserWarning: l1_ratio parameter is only used when penalty is 'elasticnet'. Got (penalty=l2)\n",
      "  warnings.warn(\n"
     ]
    },
    {
     "data": {
      "text/plain": [
       "0.861244019138756"
      ]
     },
     "execution_count": 43,
     "metadata": {},
     "output_type": "execute_result"
    }
   ],
   "source": [
    "from sklearn.linear_model import LogisticRegression\n",
    "\n",
    "clf = LogisticRegression(max_iter=100, # 最大迭代次数\n",
    "                            random_state=18,#随机数种子\n",
    "                         \n",
    "                            penalty=\"l2\", #正则化项\n",
    "                            solver=\"lbfgs\", # 求解器类型 \n",
    "                            dual=False, # 当模型数据行比较小，数据列又比较多的时候，可以用这个参数来优化结果\n",
    "                            tol=1e-4, # 模型损失值小于某一个精度的时候停止迭代\n",
    "                            C=1.0, #经验风险和结构风险在损失函数中的权重\n",
    "                            fit_intercept=True,#线性方程中是否包含截距项\n",
    "                            intercept_scaling=1,\n",
    "                            class_weight=None, #各类样本在损失值计算的权重 输入结构{0:1,1:3}代表1类样本的每一条数据在计算损失函数的时候都会*3 , 当参数为balanced的时则自动将这个比例调整为真实样本比例的反比，以达到平衡效果\n",
    "        \n",
    "                            multi_class=\"auto\", # 选择多分类策略，mvm（多模型合并）还是ovr（交叉熵函数实现多分类）\n",
    "                            verbose=0,\n",
    "                            warm_start=False,# 是否使用上次训练结果作为本次初始运行参数\n",
    "                            n_jobs= None, # 使用多少核心\n",
    "                            l1_ratio=True #当采用弹性网正则化时，l1正则权重项，就是损失函数中的p\n",
    "                             )\n",
    "clf.fit(train_X,train_Y)\n",
    "clf.score(test_x,test_y)"
   ]
  },
  {
   "cell_type": "code",
   "execution_count": 44,
   "id": "3f69eb5f",
   "metadata": {},
   "outputs": [
    {
     "data": {
      "text/plain": [
       "0.861244019138756"
      ]
     },
     "execution_count": 44,
     "metadata": {},
     "output_type": "execute_result"
    }
   ],
   "source": [
    "from sklearn.metrics import accuracy_score\n",
    "test_predict =  clf.predict(test_x)\n",
    "accuracy_score(test_y,test_predict)"
   ]
  },
  {
   "cell_type": "markdown",
   "id": "41e4e5e4",
   "metadata": {},
   "source": [
    "#### 4.1.2 Xgboosting 测试准确性"
   ]
  },
  {
   "cell_type": "code",
   "execution_count": 45,
   "id": "111e6982",
   "metadata": {},
   "outputs": [
    {
     "name": "stderr",
     "output_type": "stream",
     "text": [
      "/Users/magu/anaconda3/envs/TS_ENV_38_add_AKshare/lib/python3.8/site-packages/xgboost/core.py:160: UserWarning: [17:51:41] WARNING: /Users/runner/work/xgboost/xgboost/src/learner.cc:742: \n",
      "Parameters: { \"num_round\", \"silent\" } are not used.\n",
      "\n",
      "  warnings.warn(smsg, UserWarning)\n"
     ]
    },
    {
     "data": {
      "text/plain": [
       "0.868421052631579"
      ]
     },
     "execution_count": 45,
     "metadata": {},
     "output_type": "execute_result"
    }
   ],
   "source": [
    "import xgboost as xgb\n",
    "\n",
    "xgb1 = xgb.XGBClassifier( learning_rate =0.1\n",
    "               , n_estimators=9 #即基评估器的数量。这个参数对随机森林模型的精确性影响是单调的，n_estimators越 大，模型的效果往往越好。但是相应的，任何模型都有决策边  n_estimators达到一定的程度之后，随机森林的 精确性往往不在上升或开始波动，并且，n_estimators越大，需要的计算量和内存也越大，训练的时间也会越来越 长。对于这个参数，我们是渴望在训练难度和模型效果之间取得平衡。\n",
    "               , max_depth=12 #构建树的深度，越大越容易过拟合\n",
    "               , min_child_weight=0.0001 #孩子节点中最小的样本权重和。如果一个叶子节点的样本权重和小于min_child_weight则拆分过程结束\n",
    "               , num_class = 1#类别数，与 multisoftmax 并用\n",
    "               , gamma=0 #损失下降多少才进行分裂， 控制叶子节点的个数\n",
    "               , subsample=0.8 #随机采样训练样本\n",
    "               , colsample_bytree=0.97 #生成树时进行的列采样\n",
    "               , objective= 'binary:logistic' # 损失函数，默认为\"reg:linear\"。 {'binary:logistic'}是二分类的问题，{'multi:softmax',}是多分类的问题 这个是优化目标，必须得有，因为xgboost里面有求一阶导数和二阶导数，其实就是这个。\n",
    "               , nthread=4 #cpu 线程数\n",
    "               , scale_pos_weight=1.0 #负样本总数/正样本总数 。若训练负样本总数是500 ，正样本总数100，那么设置 scale_pos_weigh为 5\n",
    "#                , lambda_weight = 2 # 正则化参数\n",
    "               , eta = 0.001 # 如同学习率\n",
    "               , num_round = 0.001\n",
    "#               \n",
    "#                , metrics='auc'\n",
    "               , eval_metric = \"auc\"\n",
    "                , silent = 0 # ,设置成1则没有运行信息输出，最好是设置为0.\n",
    "               , seed=30 #这个随机指定一个常数，防止每次结果不一致\n",
    "                )\n",
    "train_Y = train_Y.reshape((train_Y.shape[0],1))\n",
    "xgb1.fit(train_X,train_Y)\n",
    "xgb1.score(test_x,test_y)\n"
   ]
  },
  {
   "cell_type": "code",
   "execution_count": 46,
   "id": "c4767c57",
   "metadata": {},
   "outputs": [
    {
     "data": {
      "text/plain": [
       "array([0, 0, 0, 0, 1, 1, 1, 1, 0, 0, 0, 0, 0, 1, 0, 1, 1, 0, 0, 0, 0, 0,\n",
       "       0, 0, 0, 0, 0, 0, 0, 1, 0, 1, 1, 0, 0, 0, 1, 0, 0, 0, 0, 1, 1, 0,\n",
       "       0, 0, 0, 0, 1, 1, 1, 1, 0, 0, 1, 0, 0, 1, 0, 0, 0, 0, 1, 0, 1, 0,\n",
       "       1, 1, 0, 0, 0, 0, 0, 0, 0, 0, 1, 0, 1, 0, 1, 0, 0, 0, 0, 0, 0, 0,\n",
       "       1, 1, 1, 0, 0, 0, 0, 1, 0, 0, 1, 1, 0, 0, 0, 1, 1, 0, 1, 0, 0, 1,\n",
       "       0, 1, 1, 0, 1, 0, 1, 0, 0, 0, 0, 1, 0, 0, 0, 1, 1, 0, 0, 1, 0, 1,\n",
       "       0, 1, 0, 0, 1, 0, 0, 0, 0, 1, 0, 0, 0, 1, 0, 1, 0, 0, 0, 0, 0, 0,\n",
       "       1, 1, 0, 1, 0, 0, 0, 0, 0, 1, 0, 0, 0, 1, 0, 0, 0, 0, 0, 1, 0, 1,\n",
       "       0, 0, 0, 0, 0, 0, 1, 1, 1, 0, 0, 0, 1, 0, 0, 1, 0, 0, 0, 0, 1, 1,\n",
       "       0, 0, 0, 1, 1, 0, 0, 0, 0, 0, 0, 0, 0, 0, 0, 0, 0, 0, 1, 1, 0, 0,\n",
       "       0, 0, 0, 1, 0, 1, 0, 0, 0, 0, 1, 0, 0, 1, 1, 0, 1, 0, 1, 0, 0, 0,\n",
       "       0, 0, 0, 1, 0, 0, 1, 0, 0, 1, 0, 1, 1, 1, 0, 0, 0, 1, 1, 1, 1, 0,\n",
       "       1, 1, 0, 1, 1, 0, 0, 0, 1, 0, 0, 0, 0, 0, 0, 1, 0, 0, 0, 0, 0, 0,\n",
       "       0, 0, 1, 1, 0, 0, 0, 0, 1, 0, 1, 1, 0, 0, 1, 1, 1, 0, 0, 1, 0, 1,\n",
       "       0, 0, 0, 0, 0, 1, 0, 0, 1, 0, 0, 0, 1, 1, 0, 1, 1, 1, 0, 0, 1, 0,\n",
       "       1, 0, 0, 0, 0, 0, 1, 0, 0, 1, 0, 0, 0, 0, 0, 0, 0, 0, 0, 0, 0, 0,\n",
       "       0, 0, 0, 1, 1, 1, 0, 0, 0, 0, 0, 0, 1, 0, 0, 0, 0, 0, 0, 0, 0, 0,\n",
       "       0, 0, 1, 1, 0, 0, 0, 0, 0, 0, 0, 1, 1, 0, 1, 0, 0, 1, 1, 0, 0, 1,\n",
       "       0, 0, 1, 0, 0, 0, 0, 0, 0, 1, 0, 0, 1, 1, 1, 0, 0, 0, 0, 1, 1, 1])"
      ]
     },
     "execution_count": 46,
     "metadata": {},
     "output_type": "execute_result"
    }
   ],
   "source": [
    "xgb1.predict(test_x)"
   ]
  },
  {
   "cell_type": "markdown",
   "id": "189a02b3",
   "metadata": {},
   "source": [
    "#### 4.2 数据不做标准化再测试准确率\n",
    "#### 4.2.1 测试Xgboost的准去率"
   ]
  },
  {
   "cell_type": "code",
   "execution_count": 47,
   "id": "13e6e485",
   "metadata": {},
   "outputs": [
    {
     "name": "stderr",
     "output_type": "stream",
     "text": [
      "/Users/magu/anaconda3/envs/TS_ENV_38_add_AKshare/lib/python3.8/site-packages/xgboost/core.py:160: UserWarning: [17:51:41] WARNING: /Users/runner/work/xgboost/xgboost/src/learner.cc:742: \n",
      "Parameters: { \"num_round\", \"silent\" } are not used.\n",
      "\n",
      "  warnings.warn(smsg, UserWarning)\n"
     ]
    },
    {
     "data": {
      "text/plain": [
       "0.868421052631579"
      ]
     },
     "execution_count": 47,
     "metadata": {},
     "output_type": "execute_result"
    }
   ],
   "source": [
    "train_X,test_x,train_Y,test_y = train_test_split(X_data,Y,test_size=0.3193,random_state=42)\n",
    "import xgboost as xgb\n",
    "\n",
    "xgb1 = xgb.XGBClassifier( learning_rate =0.1\n",
    "               , n_estimators=9 #即基评估器的数量。这个参数对随机森林模型的精确性影响是单调的，n_estimators越 大，模型的效果往往越好。但是相应的，任何模型都有决策边  n_estimators达到一定的程度之后，随机森林的 精确性往往不在上升或开始波动，并且，n_estimators越大，需要的计算量和内存也越大，训练的时间也会越来越 长。对于这个参数，我们是渴望在训练难度和模型效果之间取得平衡。\n",
    "               , max_depth=12 #构建树的深度，越大越容易过拟合\n",
    "               , min_child_weight=0.0001 #孩子节点中最小的样本权重和。如果一个叶子节点的样本权重和小于min_child_weight则拆分过程结束\n",
    "               , num_class = 1#类别数，与 multisoftmax 并用\n",
    "               , gamma=0 #损失下降多少才进行分裂， 控制叶子节点的个数\n",
    "               , subsample=0.8 #随机采样训练样本\n",
    "               , colsample_bytree=0.97 #生成树时进行的列采样\n",
    "               , objective= 'binary:logistic' # 损失函数，默认为\"reg:linear\"。 {'binary:logistic'}是二分类的问题，{'multi:softmax',}是多分类的问题 这个是优化目标，必须得有，因为xgboost里面有求一阶导数和二阶导数，其实就是这个。\n",
    "               , nthread=4 #cpu 线程数\n",
    "               , scale_pos_weight=1.0 #负样本总数/正样本总数 。若训练负样本总数是500 ，正样本总数100，那么设置 scale_pos_weigh为 5\n",
    "#                , lambda_weight = 2 # 正则化参数\n",
    "               , eta = 0.001 # 如同学习率\n",
    "               , num_round = 0.001\n",
    "#               \n",
    "#                , metrics='auc'\n",
    "               , eval_metric = \"auc\"\n",
    "                , silent = 0 # ,设置成1则没有运行信息输出，最好是设置为0.\n",
    "               , seed=30 #这个随机指定一个常数，防止每次结果不一致\n",
    "                )\n",
    "train_Y = train_Y.reshape((train_Y.shape[0],1))\n",
    "xgb1.fit(train_X,train_Y)\n",
    "xgb1.score(test_x,test_y)"
   ]
  },
  {
   "cell_type": "markdown",
   "id": "34ba08a6",
   "metadata": {},
   "source": [
    "##### 4.2.2 逻辑回归不做标椎化的预测准确率"
   ]
  },
  {
   "cell_type": "code",
   "execution_count": 48,
   "id": "4cb1d1c9",
   "metadata": {},
   "outputs": [
    {
     "name": "stderr",
     "output_type": "stream",
     "text": [
      "/Users/magu/anaconda3/envs/TS_ENV_38_add_AKshare/lib/python3.8/site-packages/sklearn/linear_model/_logistic.py:1171: UserWarning: l1_ratio parameter is only used when penalty is 'elasticnet'. Got (penalty=l2)\n",
      "  warnings.warn(\n",
      "/Users/magu/anaconda3/envs/TS_ENV_38_add_AKshare/lib/python3.8/site-packages/sklearn/utils/validation.py:1184: DataConversionWarning: A column-vector y was passed when a 1d array was expected. Please change the shape of y to (n_samples, ), for example using ravel().\n",
      "  y = column_or_1d(y, warn=True)\n",
      "/Users/magu/anaconda3/envs/TS_ENV_38_add_AKshare/lib/python3.8/site-packages/sklearn/linear_model/_logistic.py:460: ConvergenceWarning: lbfgs failed to converge (status=1):\n",
      "STOP: TOTAL NO. of ITERATIONS REACHED LIMIT.\n",
      "\n",
      "Increase the number of iterations (max_iter) or scale the data as shown in:\n",
      "    https://scikit-learn.org/stable/modules/preprocessing.html\n",
      "Please also refer to the documentation for alternative solver options:\n",
      "    https://scikit-learn.org/stable/modules/linear_model.html#logistic-regression\n",
      "  n_iter_i = _check_optimize_result(\n"
     ]
    },
    {
     "data": {
      "text/plain": [
       "0.861244019138756"
      ]
     },
     "execution_count": 48,
     "metadata": {},
     "output_type": "execute_result"
    }
   ],
   "source": [
    "from sklearn.linear_model import LogisticRegression\n",
    "\n",
    "clf = LogisticRegression(max_iter=100, # 最大迭代次数\n",
    "                            random_state=18,#随机数种子\n",
    "                         \n",
    "                            penalty=\"l2\", #正则化项\n",
    "                            solver=\"lbfgs\", # 求解器类型 \n",
    "                            dual=False, # 当模型数据行比较小，数据列又比较多的时候，可以用这个参数来优化结果\n",
    "                            tol=1e-4, # 模型损失值小于某一个精度的时候停止迭代\n",
    "                            C=1.0, #经验风险和结构风险在损失函数中的权重\n",
    "                            fit_intercept=True,#线性方程中是否包含截距项\n",
    "                            intercept_scaling=1,\n",
    "                            class_weight=None, #各类样本在损失值计算的权重 输入结构{0:1,1:3}代表1类样本的每一条数据在计算损失函数的时候都会*3 , 当参数为balanced的时则自动将这个比例调整为真实样本比例的反比，以达到平衡效果\n",
    "        \n",
    "                            multi_class=\"auto\", # 选择多分类策略，mvm（多模型合并）还是ovr（交叉熵函数实现多分类）\n",
    "                            verbose=0,\n",
    "                            warm_start=False,# 是否使用上次训练结果作为本次初始运行参数\n",
    "                            n_jobs= None, # 使用多少核心\n",
    "                            l1_ratio=True #当采用弹性网正则化时，l1正则权重项，就是损失函数中的p\n",
    "                             )\n",
    "clf.fit(train_X,train_Y)\n",
    "clf.score(test_x,test_y)"
   ]
  },
  {
   "cell_type": "markdown",
   "id": "19516ea9",
   "metadata": {},
   "source": [
    "####  以上结果显示,即便不做标准化,预测结果并没有显著差距"
   ]
  },
  {
   "cell_type": "markdown",
   "id": "aa6ab965",
   "metadata": {},
   "source": [
    "#### 4.3 增加特征再尝试,将是否有客舱号作为特征逻辑回归不做归一化的预测准确率"
   ]
  },
  {
   "cell_type": "code",
   "execution_count": 49,
   "id": "b5421468",
   "metadata": {},
   "outputs": [
    {
     "data": {
      "text/plain": [
       "[False, True]"
      ]
     },
     "execution_count": 49,
     "metadata": {},
     "output_type": "execute_result"
    }
   ],
   "source": [
    "Cabin_data = pd.isna(titanic_data[\"客舱号\"])\n",
    "Cabin_elements = list(set(Cabin_data))\n",
    "Cabin_elements"
   ]
  },
  {
   "cell_type": "code",
   "execution_count": 50,
   "id": "bac1ab5f",
   "metadata": {},
   "outputs": [
    {
     "data": {
      "text/plain": [
       "array([[0., 0.],\n",
       "       [0., 0.],\n",
       "       [0., 0.],\n",
       "       ...,\n",
       "       [0., 0.],\n",
       "       [0., 0.],\n",
       "       [0., 0.]])"
      ]
     },
     "execution_count": 50,
     "metadata": {},
     "output_type": "execute_result"
    }
   ],
   "source": [
    "one_hot_for_Cabin = np.zeros((Cabin_data.size,len(Cabin_elements)))\n",
    "one_hot_for_Cabin"
   ]
  },
  {
   "cell_type": "code",
   "execution_count": 51,
   "id": "eebe1d2a",
   "metadata": {},
   "outputs": [
    {
     "data": {
      "text/plain": [
       "array([[0., 1.],\n",
       "       [1., 0.],\n",
       "       [0., 1.],\n",
       "       ...,\n",
       "       [0., 1.],\n",
       "       [0., 1.],\n",
       "       [0., 1.]])"
      ]
     },
     "execution_count": 51,
     "metadata": {},
     "output_type": "execute_result"
    }
   ],
   "source": [
    "for m,Cabin in enumerate(Cabin_data):\n",
    "    if  Cabin == Cabin_elements[0]:\n",
    "        one_hot_for_Cabin[m][0]=1\n",
    "    if  Cabin == Cabin_elements[1]:\n",
    "        one_hot_for_Cabin[m][1]=1\n",
    "one_hot_for_Cabin"
   ]
  },
  {
   "cell_type": "code",
   "execution_count": 52,
   "id": "d641f344",
   "metadata": {},
   "outputs": [
    {
     "data": {
      "text/html": [
       "<div>\n",
       "<style scoped>\n",
       "    .dataframe tbody tr th:only-of-type {\n",
       "        vertical-align: middle;\n",
       "    }\n",
       "\n",
       "    .dataframe tbody tr th {\n",
       "        vertical-align: top;\n",
       "    }\n",
       "\n",
       "    .dataframe thead th {\n",
       "        text-align: right;\n",
       "    }\n",
       "</style>\n",
       "<table border=\"1\" class=\"dataframe\">\n",
       "  <thead>\n",
       "    <tr style=\"text-align: right;\">\n",
       "      <th></th>\n",
       "      <th>有客舱好</th>\n",
       "      <th>没有客舱号</th>\n",
       "    </tr>\n",
       "  </thead>\n",
       "  <tbody>\n",
       "    <tr>\n",
       "      <th>0</th>\n",
       "      <td>0.0</td>\n",
       "      <td>1.0</td>\n",
       "    </tr>\n",
       "    <tr>\n",
       "      <th>1</th>\n",
       "      <td>1.0</td>\n",
       "      <td>0.0</td>\n",
       "    </tr>\n",
       "    <tr>\n",
       "      <th>2</th>\n",
       "      <td>0.0</td>\n",
       "      <td>1.0</td>\n",
       "    </tr>\n",
       "    <tr>\n",
       "      <th>3</th>\n",
       "      <td>1.0</td>\n",
       "      <td>0.0</td>\n",
       "    </tr>\n",
       "    <tr>\n",
       "      <th>4</th>\n",
       "      <td>0.0</td>\n",
       "      <td>1.0</td>\n",
       "    </tr>\n",
       "    <tr>\n",
       "      <th>...</th>\n",
       "      <td>...</td>\n",
       "      <td>...</td>\n",
       "    </tr>\n",
       "    <tr>\n",
       "      <th>1304</th>\n",
       "      <td>0.0</td>\n",
       "      <td>1.0</td>\n",
       "    </tr>\n",
       "    <tr>\n",
       "      <th>1305</th>\n",
       "      <td>1.0</td>\n",
       "      <td>0.0</td>\n",
       "    </tr>\n",
       "    <tr>\n",
       "      <th>1306</th>\n",
       "      <td>0.0</td>\n",
       "      <td>1.0</td>\n",
       "    </tr>\n",
       "    <tr>\n",
       "      <th>1307</th>\n",
       "      <td>0.0</td>\n",
       "      <td>1.0</td>\n",
       "    </tr>\n",
       "    <tr>\n",
       "      <th>1308</th>\n",
       "      <td>0.0</td>\n",
       "      <td>1.0</td>\n",
       "    </tr>\n",
       "  </tbody>\n",
       "</table>\n",
       "<p>1309 rows × 2 columns</p>\n",
       "</div>"
      ],
      "text/plain": [
       "      有客舱好  没有客舱号\n",
       "0      0.0    1.0\n",
       "1      1.0    0.0\n",
       "2      0.0    1.0\n",
       "3      1.0    0.0\n",
       "4      0.0    1.0\n",
       "...    ...    ...\n",
       "1304   0.0    1.0\n",
       "1305   1.0    0.0\n",
       "1306   0.0    1.0\n",
       "1307   0.0    1.0\n",
       "1308   0.0    1.0\n",
       "\n",
       "[1309 rows x 2 columns]"
      ]
     },
     "execution_count": 52,
     "metadata": {},
     "output_type": "execute_result"
    }
   ],
   "source": [
    "OneHotCabin = pd.DataFrame(one_hot_for_Cabin,columns=[\"有客舱好\",\"没有客舱号\"])\n",
    "OneHotCabin"
   ]
  },
  {
   "cell_type": "markdown",
   "id": "91c735e6",
   "metadata": {},
   "source": [
    "##### 4.3.1 合并进特征表X当中"
   ]
  },
  {
   "cell_type": "code",
   "execution_count": 53,
   "id": "051e0a56",
   "metadata": {},
   "outputs": [
    {
     "data": {
      "text/html": [
       "<div>\n",
       "<style scoped>\n",
       "    .dataframe tbody tr th:only-of-type {\n",
       "        vertical-align: middle;\n",
       "    }\n",
       "\n",
       "    .dataframe tbody tr th {\n",
       "        vertical-align: top;\n",
       "    }\n",
       "\n",
       "    .dataframe thead th {\n",
       "        text-align: right;\n",
       "    }\n",
       "</style>\n",
       "<table border=\"1\" class=\"dataframe\">\n",
       "  <thead>\n",
       "    <tr style=\"text-align: right;\">\n",
       "      <th></th>\n",
       "      <th>年龄</th>\n",
       "      <th>兄弟姐妹/配偶的个数</th>\n",
       "      <th>父母/小孩个数</th>\n",
       "      <th>票价</th>\n",
       "      <th>1等舱</th>\n",
       "      <th>2等舱</th>\n",
       "      <th>3等舱</th>\n",
       "      <th>登船港口为空</th>\n",
       "      <th>登船为Q港</th>\n",
       "      <th>登船为C港</th>\n",
       "      <th>登船为S港</th>\n",
       "      <th>女性</th>\n",
       "      <th>男性</th>\n",
       "      <th>有客舱好</th>\n",
       "      <th>没有客舱号</th>\n",
       "    </tr>\n",
       "  </thead>\n",
       "  <tbody>\n",
       "    <tr>\n",
       "      <th>0</th>\n",
       "      <td>22.0</td>\n",
       "      <td>1</td>\n",
       "      <td>0</td>\n",
       "      <td>7.2500</td>\n",
       "      <td>0.0</td>\n",
       "      <td>0.0</td>\n",
       "      <td>1.0</td>\n",
       "      <td>0.0</td>\n",
       "      <td>0.0</td>\n",
       "      <td>0.0</td>\n",
       "      <td>1.0</td>\n",
       "      <td>0.0</td>\n",
       "      <td>1.0</td>\n",
       "      <td>0.0</td>\n",
       "      <td>1.0</td>\n",
       "    </tr>\n",
       "    <tr>\n",
       "      <th>1</th>\n",
       "      <td>38.0</td>\n",
       "      <td>1</td>\n",
       "      <td>0</td>\n",
       "      <td>71.2833</td>\n",
       "      <td>1.0</td>\n",
       "      <td>0.0</td>\n",
       "      <td>0.0</td>\n",
       "      <td>0.0</td>\n",
       "      <td>0.0</td>\n",
       "      <td>1.0</td>\n",
       "      <td>0.0</td>\n",
       "      <td>1.0</td>\n",
       "      <td>0.0</td>\n",
       "      <td>1.0</td>\n",
       "      <td>0.0</td>\n",
       "    </tr>\n",
       "    <tr>\n",
       "      <th>2</th>\n",
       "      <td>26.0</td>\n",
       "      <td>0</td>\n",
       "      <td>0</td>\n",
       "      <td>7.9250</td>\n",
       "      <td>0.0</td>\n",
       "      <td>0.0</td>\n",
       "      <td>1.0</td>\n",
       "      <td>0.0</td>\n",
       "      <td>0.0</td>\n",
       "      <td>0.0</td>\n",
       "      <td>1.0</td>\n",
       "      <td>1.0</td>\n",
       "      <td>0.0</td>\n",
       "      <td>0.0</td>\n",
       "      <td>1.0</td>\n",
       "    </tr>\n",
       "    <tr>\n",
       "      <th>3</th>\n",
       "      <td>35.0</td>\n",
       "      <td>1</td>\n",
       "      <td>0</td>\n",
       "      <td>53.1000</td>\n",
       "      <td>1.0</td>\n",
       "      <td>0.0</td>\n",
       "      <td>0.0</td>\n",
       "      <td>0.0</td>\n",
       "      <td>0.0</td>\n",
       "      <td>0.0</td>\n",
       "      <td>1.0</td>\n",
       "      <td>1.0</td>\n",
       "      <td>0.0</td>\n",
       "      <td>1.0</td>\n",
       "      <td>0.0</td>\n",
       "    </tr>\n",
       "    <tr>\n",
       "      <th>4</th>\n",
       "      <td>35.0</td>\n",
       "      <td>0</td>\n",
       "      <td>0</td>\n",
       "      <td>8.0500</td>\n",
       "      <td>0.0</td>\n",
       "      <td>0.0</td>\n",
       "      <td>1.0</td>\n",
       "      <td>0.0</td>\n",
       "      <td>0.0</td>\n",
       "      <td>0.0</td>\n",
       "      <td>1.0</td>\n",
       "      <td>0.0</td>\n",
       "      <td>1.0</td>\n",
       "      <td>0.0</td>\n",
       "      <td>1.0</td>\n",
       "    </tr>\n",
       "    <tr>\n",
       "      <th>...</th>\n",
       "      <td>...</td>\n",
       "      <td>...</td>\n",
       "      <td>...</td>\n",
       "      <td>...</td>\n",
       "      <td>...</td>\n",
       "      <td>...</td>\n",
       "      <td>...</td>\n",
       "      <td>...</td>\n",
       "      <td>...</td>\n",
       "      <td>...</td>\n",
       "      <td>...</td>\n",
       "      <td>...</td>\n",
       "      <td>...</td>\n",
       "      <td>...</td>\n",
       "      <td>...</td>\n",
       "    </tr>\n",
       "    <tr>\n",
       "      <th>1304</th>\n",
       "      <td>0.0</td>\n",
       "      <td>0</td>\n",
       "      <td>0</td>\n",
       "      <td>8.0500</td>\n",
       "      <td>0.0</td>\n",
       "      <td>0.0</td>\n",
       "      <td>1.0</td>\n",
       "      <td>0.0</td>\n",
       "      <td>0.0</td>\n",
       "      <td>0.0</td>\n",
       "      <td>1.0</td>\n",
       "      <td>0.0</td>\n",
       "      <td>1.0</td>\n",
       "      <td>0.0</td>\n",
       "      <td>1.0</td>\n",
       "    </tr>\n",
       "    <tr>\n",
       "      <th>1305</th>\n",
       "      <td>39.0</td>\n",
       "      <td>0</td>\n",
       "      <td>0</td>\n",
       "      <td>108.9000</td>\n",
       "      <td>1.0</td>\n",
       "      <td>0.0</td>\n",
       "      <td>0.0</td>\n",
       "      <td>0.0</td>\n",
       "      <td>0.0</td>\n",
       "      <td>1.0</td>\n",
       "      <td>0.0</td>\n",
       "      <td>1.0</td>\n",
       "      <td>0.0</td>\n",
       "      <td>1.0</td>\n",
       "      <td>0.0</td>\n",
       "    </tr>\n",
       "    <tr>\n",
       "      <th>1306</th>\n",
       "      <td>38.5</td>\n",
       "      <td>0</td>\n",
       "      <td>0</td>\n",
       "      <td>7.2500</td>\n",
       "      <td>0.0</td>\n",
       "      <td>0.0</td>\n",
       "      <td>1.0</td>\n",
       "      <td>0.0</td>\n",
       "      <td>0.0</td>\n",
       "      <td>0.0</td>\n",
       "      <td>1.0</td>\n",
       "      <td>0.0</td>\n",
       "      <td>1.0</td>\n",
       "      <td>0.0</td>\n",
       "      <td>1.0</td>\n",
       "    </tr>\n",
       "    <tr>\n",
       "      <th>1307</th>\n",
       "      <td>0.0</td>\n",
       "      <td>0</td>\n",
       "      <td>0</td>\n",
       "      <td>8.0500</td>\n",
       "      <td>0.0</td>\n",
       "      <td>0.0</td>\n",
       "      <td>1.0</td>\n",
       "      <td>0.0</td>\n",
       "      <td>0.0</td>\n",
       "      <td>0.0</td>\n",
       "      <td>1.0</td>\n",
       "      <td>0.0</td>\n",
       "      <td>1.0</td>\n",
       "      <td>0.0</td>\n",
       "      <td>1.0</td>\n",
       "    </tr>\n",
       "    <tr>\n",
       "      <th>1308</th>\n",
       "      <td>0.0</td>\n",
       "      <td>1</td>\n",
       "      <td>1</td>\n",
       "      <td>22.3583</td>\n",
       "      <td>0.0</td>\n",
       "      <td>0.0</td>\n",
       "      <td>1.0</td>\n",
       "      <td>0.0</td>\n",
       "      <td>0.0</td>\n",
       "      <td>1.0</td>\n",
       "      <td>0.0</td>\n",
       "      <td>0.0</td>\n",
       "      <td>1.0</td>\n",
       "      <td>0.0</td>\n",
       "      <td>1.0</td>\n",
       "    </tr>\n",
       "  </tbody>\n",
       "</table>\n",
       "<p>1309 rows × 15 columns</p>\n",
       "</div>"
      ],
      "text/plain": [
       "        年龄  兄弟姐妹/配偶的个数  父母/小孩个数        票价  1等舱  2等舱  3等舱  登船港口为空  登船为Q港  \\\n",
       "0     22.0           1        0    7.2500  0.0  0.0  1.0     0.0    0.0   \n",
       "1     38.0           1        0   71.2833  1.0  0.0  0.0     0.0    0.0   \n",
       "2     26.0           0        0    7.9250  0.0  0.0  1.0     0.0    0.0   \n",
       "3     35.0           1        0   53.1000  1.0  0.0  0.0     0.0    0.0   \n",
       "4     35.0           0        0    8.0500  0.0  0.0  1.0     0.0    0.0   \n",
       "...    ...         ...      ...       ...  ...  ...  ...     ...    ...   \n",
       "1304   0.0           0        0    8.0500  0.0  0.0  1.0     0.0    0.0   \n",
       "1305  39.0           0        0  108.9000  1.0  0.0  0.0     0.0    0.0   \n",
       "1306  38.5           0        0    7.2500  0.0  0.0  1.0     0.0    0.0   \n",
       "1307   0.0           0        0    8.0500  0.0  0.0  1.0     0.0    0.0   \n",
       "1308   0.0           1        1   22.3583  0.0  0.0  1.0     0.0    0.0   \n",
       "\n",
       "      登船为C港  登船为S港   女性   男性  有客舱好  没有客舱号  \n",
       "0       0.0    1.0  0.0  1.0   0.0    1.0  \n",
       "1       1.0    0.0  1.0  0.0   1.0    0.0  \n",
       "2       0.0    1.0  1.0  0.0   0.0    1.0  \n",
       "3       0.0    1.0  1.0  0.0   1.0    0.0  \n",
       "4       0.0    1.0  0.0  1.0   0.0    1.0  \n",
       "...     ...    ...  ...  ...   ...    ...  \n",
       "1304    0.0    1.0  0.0  1.0   0.0    1.0  \n",
       "1305    1.0    0.0  1.0  0.0   1.0    0.0  \n",
       "1306    0.0    1.0  0.0  1.0   0.0    1.0  \n",
       "1307    0.0    1.0  0.0  1.0   0.0    1.0  \n",
       "1308    1.0    0.0  0.0  1.0   0.0    1.0  \n",
       "\n",
       "[1309 rows x 15 columns]"
      ]
     },
     "execution_count": 53,
     "metadata": {},
     "output_type": "execute_result"
    }
   ],
   "source": [
    "X_data = pd.concat([X_data,OneHotCabin],axis=1)\n",
    "X_data"
   ]
  },
  {
   "cell_type": "markdown",
   "id": "eb779502",
   "metadata": {},
   "source": [
    "#### 4.3.2 标准化数据并拆分出训练与测试数据"
   ]
  },
  {
   "cell_type": "code",
   "execution_count": 54,
   "id": "31eb9357",
   "metadata": {},
   "outputs": [],
   "source": [
    "sc = StandardScaler()\n",
    "sc.fit(X_data)\n",
    "X = sc.transform(X_data)\n",
    "train_X,test_x,train_Y,test_y = train_test_split(X,Y,test_size=0.3193,random_state=42)\n"
   ]
  },
  {
   "cell_type": "markdown",
   "id": "bf712bb1",
   "metadata": {},
   "source": [
    "#### 4.2.3.1 测试Xgbosst"
   ]
  },
  {
   "cell_type": "code",
   "execution_count": 55,
   "id": "b35ecba3",
   "metadata": {},
   "outputs": [
    {
     "name": "stderr",
     "output_type": "stream",
     "text": [
      "/Users/magu/anaconda3/envs/TS_ENV_38_add_AKshare/lib/python3.8/site-packages/xgboost/core.py:160: UserWarning: [17:51:41] WARNING: /Users/runner/work/xgboost/xgboost/src/learner.cc:742: \n",
      "Parameters: { \"num_round\", \"silent\" } are not used.\n",
      "\n",
      "  warnings.warn(smsg, UserWarning)\n"
     ]
    },
    {
     "data": {
      "text/plain": [
       "0.84688995215311"
      ]
     },
     "execution_count": 55,
     "metadata": {},
     "output_type": "execute_result"
    }
   ],
   "source": [
    "import xgboost as xgb\n",
    "\n",
    "xgb1 = xgb.XGBClassifier( learning_rate =0.1\n",
    "               , n_estimators=9 #即基评估器的数量。这个参数对随机森林模型的精确性影响是单调的，n_estimators越 大，模型的效果往往越好。但是相应的，任何模型都有决策边  n_estimators达到一定的程度之后，随机森林的 精确性往往不在上升或开始波动，并且，n_estimators越大，需要的计算量和内存也越大，训练的时间也会越来越 长。对于这个参数，我们是渴望在训练难度和模型效果之间取得平衡。\n",
    "               , max_depth=12 #构建树的深度，越大越容易过拟合\n",
    "               , min_child_weight=0.0001 #孩子节点中最小的样本权重和。如果一个叶子节点的样本权重和小于min_child_weight则拆分过程结束\n",
    "               , num_class = 1#类别数，与 multisoftmax 并用\n",
    "               , gamma=0 #损失下降多少才进行分裂， 控制叶子节点的个数\n",
    "               , subsample=0.9#随机采样训练样本\n",
    "               , colsample_bytree=0.97 #生成树时进行的列采样\n",
    "               , objective= 'binary:logistic' # 损失函数，默认为\"reg:linear\"。 {'binary:logistic'}是二分类的问题，{'multi:softmax',}是多分类的问题 这个是优化目标，必须得有，因为xgboost里面有求一阶导数和二阶导数，其实就是这个。\n",
    "               , nthread=4 #cpu 线程数\n",
    "               , scale_pos_weight=1.0 #负样本总数/正样本总数 。若训练负样本总数是500 ，正样本总数100，那么设置 scale_pos_weigh为 5\n",
    "#                , lambda_weight = 2 # 正则化参数\n",
    "               , eta = 0.001 # 如同学习率\n",
    "               , num_round = 0.01\n",
    "#               \n",
    "#                , metrics='auc'\n",
    "               , eval_metric = \"auc\"\n",
    "                , silent = 0 # ,设置成1则没有运行信息输出，最好是设置为0.\n",
    "               , seed=27#个随机指定一个常数，防止每次结果不一致\n",
    "                )\n",
    "train_Y = train_Y.reshape((train_Y.shape[0],1))\n",
    "xgb1.fit(train_X,train_Y)\n",
    "xgb1.score(test_x,test_y)"
   ]
  },
  {
   "cell_type": "markdown",
   "id": "99a88405",
   "metadata": {},
   "source": [
    "#### 4.2.3.2 测试逻辑回归的预测效果"
   ]
  },
  {
   "cell_type": "code",
   "execution_count": 56,
   "id": "7f1c6cf1",
   "metadata": {},
   "outputs": [
    {
     "name": "stderr",
     "output_type": "stream",
     "text": [
      "/Users/magu/anaconda3/envs/TS_ENV_38_add_AKshare/lib/python3.8/site-packages/sklearn/linear_model/_logistic.py:1171: UserWarning: l1_ratio parameter is only used when penalty is 'elasticnet'. Got (penalty=l2)\n",
      "  warnings.warn(\n",
      "/Users/magu/anaconda3/envs/TS_ENV_38_add_AKshare/lib/python3.8/site-packages/sklearn/utils/validation.py:1184: DataConversionWarning: A column-vector y was passed when a 1d array was expected. Please change the shape of y to (n_samples, ), for example using ravel().\n",
      "  y = column_or_1d(y, warn=True)\n"
     ]
    },
    {
     "data": {
      "text/plain": [
       "0.8588516746411483"
      ]
     },
     "execution_count": 56,
     "metadata": {},
     "output_type": "execute_result"
    }
   ],
   "source": [
    "from sklearn.linear_model import LogisticRegression\n",
    "\n",
    "clf = LogisticRegression(max_iter=100, # 最大迭代次数\n",
    "                            random_state=18,#随机数种子\n",
    "                            penalty=\"l2\", #正则化项\n",
    "                            solver=\"lbfgs\", # 求解器类型 \n",
    "                            dual=False, # 当模型数据行比较小，数据列又比较多的时候，可以用这个参数来优化结果\n",
    "                            tol=1e-4, # 模型损失值小于某一个精度的时候停止迭代\n",
    "                            C=1.0, #经验风险和结构风险在损失函数中的权重\n",
    "                            fit_intercept=True,#线性方程中是否包含截距项\n",
    "                            intercept_scaling=1,\n",
    "                            class_weight=None, #各类样本在损失值计算的权重 输入结构{0:1,1:3}代表1类样本的每一条数据在计算损失函数的时候都会*3 , 当参数为balanced的时则自动将这个比例调整为真实样本比例的反比，以达到平衡效果\n",
    "        \n",
    "                            multi_class=\"auto\", # 选择多分类策略，mvm（多模型合并）还是ovr（交叉熵函数实现多分类）\n",
    "                            verbose=0,\n",
    "                            warm_start=False,# 是否使用上次训练结果作为本次初始运行参数\n",
    "                            n_jobs= None, # 使用多少核心\n",
    "                            l1_ratio=True #当采用弹性网正则化时，l1正则权重项，就是损失函数中的p\n",
    "                             )\n",
    "clf.fit(train_X,train_Y)\n",
    "clf.score(test_x,test_y)"
   ]
  },
  {
   "cell_type": "markdown",
   "id": "3d76497d",
   "metadata": {},
   "source": [
    "#### 通过观察加入新的变量有无舱号信息后，准确率反而有所下降\n",
    "###  4.3.1 SMOTE 重采样处理数据不均衡问题后再测试"
   ]
  },
  {
   "cell_type": "code",
   "execution_count": 57,
   "id": "847267b5",
   "metadata": {},
   "outputs": [
    {
     "name": "stdout",
     "output_type": "stream",
     "text": [
      "SMOTE过采样后，训练集中1的样本的个数为： 506\n",
      "SMOTE过采样后，训练集中0的样本的个数为： 506\n",
      "SMOTE过采样后，测试集1的样本的个数为： 309\n",
      "SMOTE过采样后，测试集0的样本的个数为： 309\n"
     ]
    }
   ],
   "source": [
    "from imblearn.over_sampling import SMOTE\n",
    "features_train, features_test, labels_train, labels_test = train_test_split(X_data,Y, test_size=0.4, random_state=0)\n",
    "oversampler = SMOTE(random_state=0)\n",
    "x_train,y_train = oversampler.fit_resample(features_train,labels_train)\n",
    "print('SMOTE过采样后，训练集中1的样本的个数为：',len(y_train[y_train==1]))\n",
    "print('SMOTE过采样后，训练集中0的样本的个数为：',len(y_train[y_train==0]))\n",
    "x_test,y_test = oversampler.fit_resample(features_test,labels_test)\n",
    "print('SMOTE过采样后，测试集1的样本的个数为：',len(y_test[y_test==1]))\n",
    "print('SMOTE过采样后，测试集0的样本的个数为：',len(y_test[y_test==0]))"
   ]
  },
  {
   "cell_type": "markdown",
   "id": "37307583",
   "metadata": {},
   "source": [
    "#### 4.3.2.1 Xgbosst测试重采样后的数据预测准确率"
   ]
  },
  {
   "cell_type": "code",
   "execution_count": 58,
   "id": "f843da6e",
   "metadata": {},
   "outputs": [
    {
     "name": "stderr",
     "output_type": "stream",
     "text": [
      "/Users/magu/anaconda3/envs/TS_ENV_38_add_AKshare/lib/python3.8/site-packages/xgboost/core.py:160: UserWarning: [17:51:41] WARNING: /Users/runner/work/xgboost/xgboost/src/learner.cc:742: \n",
      "Parameters: { \"num_round\", \"silent\" } are not used.\n",
      "\n",
      "  warnings.warn(smsg, UserWarning)\n"
     ]
    },
    {
     "data": {
      "text/plain": [
       "0.883495145631068"
      ]
     },
     "execution_count": 58,
     "metadata": {},
     "output_type": "execute_result"
    }
   ],
   "source": [
    "import xgboost as xgb\n",
    "\n",
    "xgb1 = xgb.XGBClassifier( learning_rate =0.1\n",
    "               , n_estimators=9 #即基评估器的数量。这个参数对随机森林模型的精确性影响是单调的，n_estimators越 大，模型的效果往往越好。但是相应的，任何模型都有决策边  n_estimators达到一定的程度之后，随机森林的 精确性往往不在上升或开始波动，并且，n_estimators越大，需要的计算量和内存也越大，训练的时间也会越来越 长。对于这个参数，我们是渴望在训练难度和模型效果之间取得平衡。\n",
    "               , max_depth=16 #构建树的深度，越大越容易过拟合\n",
    "               , min_child_weight=0.0001 #孩子节点中最小的样本权重和。如果一个叶子节点的样本权重和小于min_child_weight则拆分过程结束\n",
    "               , num_class = 1#类别数，与 multisoftmax 并用\n",
    "               , gamma=0 #损失下降多少才进行分裂， 控制叶子节点的个数\n",
    "               , subsample=0.9#随机采样训练样本\n",
    "               , colsample_bytree=0.97 #生成树时进行的列采样\n",
    "               , objective= 'binary:logistic' # 损失函数，默认为\"reg:linear\"。 {'binary:logistic'}是二分类的问题，{'multi:softmax',}是多分类的问题 这个是优化目标，必须得有，因为xgboost里面有求一阶导数和二阶导数，其实就是这个。\n",
    "               , nthread=4 #cpu 线程数\n",
    "               , scale_pos_weight=1.0 #负样本总数/正样本总数 。若训练负样本总数是500 ，正样本总数100，那么设置 scale_pos_weigh为 5\n",
    "#                , lambda_weight = 2 # 正则化参数\n",
    "               , eta = 0.001 # 如同学习率\n",
    "               , num_round = 0.01\n",
    "#               \n",
    "#                , metrics='auc'\n",
    "               , eval_metric = \"auc\"\n",
    "                , silent = 0 # ,设置成1则没有运行信息输出，最好是设置为0.\n",
    "               , seed=27#个随机指定一个常数，防止每次结果不一致\n",
    "                )\n",
    "xgb1.fit(x_train,y_train)\n",
    "xgb1.score(x_test,y_test)"
   ]
  },
  {
   "cell_type": "code",
   "execution_count": 59,
   "id": "9c203b78",
   "metadata": {},
   "outputs": [
    {
     "data": {
      "text/plain": [
       "'AUC SCORE 0.883495145631068'"
      ]
     },
     "execution_count": 59,
     "metadata": {},
     "output_type": "execute_result"
    }
   ],
   "source": [
    "from sklearn.metrics import roc_auc_score\n",
    "xgb_predict = xgb1.predict(x_test)\n",
    "f\"AUC SCORE {roc_auc_score(y_test,xgb_predict)}\""
   ]
  },
  {
   "cell_type": "markdown",
   "id": "bd9d3c2a",
   "metadata": {},
   "source": [
    "#### 4.3.2.2 逻辑回归测试重采样后的数据预测准确率"
   ]
  },
  {
   "cell_type": "code",
   "execution_count": 60,
   "id": "532f5f8f",
   "metadata": {},
   "outputs": [
    {
     "name": "stderr",
     "output_type": "stream",
     "text": [
      "/Users/magu/anaconda3/envs/TS_ENV_38_add_AKshare/lib/python3.8/site-packages/sklearn/linear_model/_logistic.py:1171: UserWarning: l1_ratio parameter is only used when penalty is 'elasticnet'. Got (penalty=l2)\n",
      "  warnings.warn(\n",
      "/Users/magu/anaconda3/envs/TS_ENV_38_add_AKshare/lib/python3.8/site-packages/sklearn/linear_model/_logistic.py:460: ConvergenceWarning: lbfgs failed to converge (status=1):\n",
      "STOP: TOTAL NO. of ITERATIONS REACHED LIMIT.\n",
      "\n",
      "Increase the number of iterations (max_iter) or scale the data as shown in:\n",
      "    https://scikit-learn.org/stable/modules/preprocessing.html\n",
      "Please also refer to the documentation for alternative solver options:\n",
      "    https://scikit-learn.org/stable/modules/linear_model.html#logistic-regression\n",
      "  n_iter_i = _check_optimize_result(\n"
     ]
    },
    {
     "data": {
      "text/plain": [
       "0.8802588996763754"
      ]
     },
     "execution_count": 60,
     "metadata": {},
     "output_type": "execute_result"
    }
   ],
   "source": [
    "from sklearn.linear_model import LogisticRegression\n",
    "\n",
    "clf = LogisticRegression(max_iter=100, # 最大迭代次数\n",
    "                            random_state=18,#随机数种子\n",
    "                            penalty=\"l2\", #正则化项\n",
    "                            solver=\"lbfgs\", # 求解器类型 \n",
    "                            dual=False, # 当模型数据行比较小，数据列又比较多的时候，可以用这个参数来优化结果\n",
    "                            tol=1e-4, # 模型损失值小于某一个精度的时候停止迭代\n",
    "                            C=1.0, #经验风险和结构风险在损失函数中的权重\n",
    "                            fit_intercept=True,#线性方程中是否包含截距项\n",
    "                            intercept_scaling=1,\n",
    "                            class_weight=None, #各类样本在损失值计算的权重 输入结构{0:1,1:3}代表1类样本的每一条数据在计算损失函数的时候都会*3 , 当参数为balanced的时则自动将这个比例调整为真实样本比例的反比，以达到平衡效果\n",
    "        \n",
    "                            multi_class=\"auto\", # 选择多分类策略，mvm（多模型合并）还是ovr（交叉熵函数实现多分类）\n",
    "                            verbose=0,\n",
    "                            warm_start=False,# 是否使用上次训练结果作为本次初始运行参数\n",
    "                            n_jobs= None, # 使用多少核心\n",
    "                            l1_ratio=True #当采用弹性网正则化时，l1正则权重项，就是损失函数中的p\n",
    "                             )\n",
    "clf.fit(x_train,y_train)\n",
    "clf.score(x_test,y_test)"
   ]
  },
  {
   "cell_type": "code",
   "execution_count": 61,
   "id": "c0d65d16",
   "metadata": {},
   "outputs": [
    {
     "data": {
      "text/plain": [
       "'AUC SCORE :0.8802588996763754'"
      ]
     },
     "execution_count": 61,
     "metadata": {},
     "output_type": "execute_result"
    }
   ],
   "source": [
    "from sklearn.metrics import roc_auc_score\n",
    "\n",
    "clf_predict = clf.predict(x_test)\n",
    "f\"AUC SCORE :{roc_auc_score(y_test,clf_predict)}\""
   ]
  },
  {
   "cell_type": "markdown",
   "id": "a05ef91a",
   "metadata": {},
   "source": [
    "### 4.5 特征选择方法 \n",
    "#### 4.5.1 RFE 方法是用递归特征消除法进行特征排序。"
   ]
  },
  {
   "cell_type": "code",
   "execution_count": 62,
   "id": "c1c6e879",
   "metadata": {},
   "outputs": [
    {
     "data": {
      "text/plain": [
       "\"删选了8个特征，分别是Index(['年龄', '兄弟姐妹/配偶的个数', '1等舱', '3等舱', '女性', '男性', '有客舱好', '没有客舱号'], dtype='object')\""
      ]
     },
     "execution_count": 62,
     "metadata": {},
     "output_type": "execute_result"
    }
   ],
   "source": [
    "from sklearn.feature_selection import RFE\n",
    "\n",
    "features_n = 8\n",
    "cols = X_data.columns\n",
    "# 标准化数据\n",
    "sc = StandardScaler()\n",
    "sc.fit(X_data)\n",
    "X = sc.transform(X_data)\n",
    "Y = np.array(titanic_data[\"是否生还\"])\n",
    "model = LogisticRegression()\n",
    "\n",
    "rfe = RFE(model,n_features_to_select=features_n)\n",
    "rfe = rfe.fit(X,Y)\n",
    "f\"删选了{features_n}个特征，分别是{X_data.columns[rfe.support_]}\""
   ]
  },
  {
   "cell_type": "markdown",
   "id": "22e49453",
   "metadata": {},
   "source": [
    "#### 4.5.2 递归式特征消除和交叉验证选择特征\n",
    "####  如果减少特征会造成性能损失，则不会减少任何特征"
   ]
  },
  {
   "cell_type": "code",
   "execution_count": 63,
   "id": "5c38572f",
   "metadata": {},
   "outputs": [
    {
     "data": {
      "text/plain": [
       "1"
      ]
     },
     "execution_count": 63,
     "metadata": {},
     "output_type": "execute_result"
    }
   ],
   "source": [
    "from sklearn.feature_selection import RFECV\n",
    "\n",
    "rfecv = RFECV(estimator=model,step=1,cv=10,scoring=\"accuracy\")\n",
    "rfecv.fit(X,Y)\n",
    "rfecv.n_features_"
   ]
  },
  {
   "cell_type": "code",
   "execution_count": 64,
   "id": "4122e59a",
   "metadata": {},
   "outputs": [
    {
     "data": {
      "text/plain": [
       "Index(['男性'], dtype='object')"
      ]
     },
     "execution_count": 64,
     "metadata": {},
     "output_type": "execute_result"
    }
   ],
   "source": [
    "X_data.columns[rfecv.support_]"
   ]
  },
  {
   "cell_type": "code",
   "execution_count": 214,
   "id": "853d0a2e",
   "metadata": {},
   "outputs": [],
   "source": [
    "# sns.heatmap(X_data.corr(),annot=True)"
   ]
  },
  {
   "cell_type": "markdown",
   "id": "422a7bbf",
   "metadata": {},
   "source": [
    "## 5 评价指标的计算\n",
    "#### $ TPR = TP/(TP + FN) $ 也称为为—灵敏度\n",
    "#### $ FPR = FP/(FP + TN) $\n",
    "#### $ 1-FPR=特异度 $\n",
    "### 以下是一个样例"
   ]
  },
  {
   "cell_type": "code",
   "execution_count": 215,
   "id": "424b6de3",
   "metadata": {},
   "outputs": [
    {
     "data": {
      "text/plain": [
       "0.84688995215311"
      ]
     },
     "execution_count": 215,
     "metadata": {},
     "output_type": "execute_result"
    }
   ],
   "source": [
    "import xgboost as xgb\n",
    "\n",
    "sc = StandardScaler()\n",
    "sc.fit(X_data)\n",
    "X = sc.transform(X_data)\n",
    "train_X,test_x,train_Y,test_y = train_test_split(X,Y,test_size=0.3193,random_state=42)\n",
    "\n",
    "xgb1 = xgb.XGBClassifier( learning_rate =0.1\n",
    "               , n_estimators=9 #即基评估器的数量。这个参数对随机森林模型的精确性影响是单调的，n_estimators越 大，模型的效果往往越好。但是相应的，任何模型都有决策边  n_estimators达到一定的程度之后，随机森林的 精确性往往不在上升或开始波动，并且，n_estimators越大，需要的计算量和内存也越大，训练的时间也会越来越 长。对于这个参数，我们是渴望在训练难度和模型效果之间取得平衡。\n",
    "               , max_depth=12 #构建树的深度，越大越容易过拟合\n",
    "               , min_child_weight=0.0001 #孩子节点中最小的样本权重和。如果一个叶子节点的样本权重和小于min_child_weight则拆分过程结束\n",
    "               , num_class = 1#类别数，与 multisoftmax 并用\n",
    "               , gamma=0 #损失下降多少才进行分裂， 控制叶子节点的个数\n",
    "               , subsample=0.9#随机采样训练样本\n",
    "               , colsample_bytree=0.97 #生成树时进行的列采样\n",
    "               , objective= 'binary:logistic' # 损失函数，默认为\"reg:linear\"。 {'binary:logistic'}是二分类的问题，{'multi:softmax',}是多分类的问题 这个是优化目标，必须得有，因为xgboost里面有求一阶导数和二阶导数，其实就是这个。\n",
    "               , nthread=4 #cpu 线程数\n",
    "               , scale_pos_weight=1.0 #负样本总数/正样本总数 。若训练负样本总数是500 ，正样本总数100，那么设置 scale_pos_weigh为 5\n",
    "#                , lambda_weight = 2 # 正则化参数\n",
    "               , eta = 0.001 # 如同学习率\n",
    "#                , num_round = 0.01\n",
    "#               \n",
    "#                , metrics='auc'\n",
    "               , eval_metric = \"auc\"\n",
    "#                 , silent = 0 # ,设置成1则没有运行信息输出，最好是设置为0.\n",
    "               , seed=27#个随机指定一个常数，防止每次结果不一致\n",
    "                )\n",
    "train_Y = train_Y.reshape((train_Y.shape[0],1))\n",
    "xgb1.fit(train_X,train_Y)\n",
    "xgb1.score(test_x,test_y)"
   ]
  },
  {
   "cell_type": "code",
   "execution_count": 67,
   "id": "019861ab",
   "metadata": {},
   "outputs": [
    {
     "data": {
      "text/plain": [
       "array([0, 0, 0, 0, 1, 1, 1, 1, 0, 0, 0, 0, 0, 1, 0, 1, 1, 0, 0, 0, 0, 0,\n",
       "       0, 0, 0, 0, 0, 0, 0, 1, 0, 1, 1, 0, 0, 0, 1, 0, 0, 0, 0, 1, 1, 0,\n",
       "       0, 0, 0, 0, 1, 1, 1, 1, 0, 0, 1, 0, 0, 0, 0, 0, 0, 0, 1, 1, 1, 0,\n",
       "       1, 1, 0, 0, 0, 0, 0, 0, 0, 0, 1, 0, 1, 0, 1, 0, 0, 0, 0, 0, 0, 0,\n",
       "       1, 1, 1, 1, 0, 0, 0, 1, 0, 0, 1, 1, 0, 0, 0, 1, 1, 0, 1, 0, 0, 1,\n",
       "       0, 1, 1, 0, 1, 0, 1, 0, 0, 0, 0, 1, 0, 0, 0, 1, 0, 0, 0, 1, 0, 1,\n",
       "       0, 1, 0, 0, 1, 0, 0, 0, 0, 0, 0, 0, 0, 0, 0, 1, 0, 0, 0, 0, 0, 0,\n",
       "       1, 1, 0, 1, 0, 0, 0, 0, 0, 1, 0, 0, 0, 1, 0, 0, 0, 0, 0, 1, 0, 1,\n",
       "       0, 0, 0, 0, 0, 0, 1, 1, 1, 0, 0, 0, 1, 0, 0, 1, 0, 0, 0, 0, 1, 1,\n",
       "       0, 0, 0, 1, 1, 0, 0, 0, 0, 0, 0, 0, 0, 0, 0, 0, 0, 0, 1, 1, 0, 0,\n",
       "       0, 0, 0, 1, 0, 1, 0, 0, 0, 0, 1, 0, 0, 1, 1, 0, 1, 0, 1, 0, 0, 0,\n",
       "       0, 0, 0, 1, 0, 0, 1, 0, 0, 1, 0, 1, 1, 1, 0, 1, 0, 1, 1, 1, 1, 0,\n",
       "       1, 0, 0, 0, 1, 0, 0, 0, 1, 0, 0, 0, 0, 0, 1, 1, 0, 0, 0, 0, 0, 0,\n",
       "       0, 0, 0, 1, 0, 0, 0, 0, 1, 0, 1, 1, 0, 0, 1, 1, 1, 0, 0, 1, 0, 1,\n",
       "       0, 0, 0, 0, 0, 1, 0, 0, 1, 0, 0, 0, 1, 1, 0, 1, 1, 1, 0, 0, 1, 0,\n",
       "       1, 0, 0, 0, 0, 0, 1, 0, 0, 1, 0, 0, 0, 0, 0, 0, 0, 0, 0, 0, 0, 0,\n",
       "       1, 0, 1, 0, 1, 1, 0, 0, 0, 0, 0, 0, 1, 0, 0, 0, 0, 0, 0, 0, 0, 0,\n",
       "       0, 0, 1, 1, 0, 0, 0, 0, 0, 0, 0, 1, 1, 0, 1, 0, 0, 1, 1, 0, 0, 1,\n",
       "       0, 0, 1, 0, 0, 0, 0, 0, 0, 0, 0, 0, 1, 1, 1, 0, 0, 0, 0, 1, 1, 1])"
      ]
     },
     "execution_count": 67,
     "metadata": {},
     "output_type": "execute_result"
    }
   ],
   "source": [
    "xgb_predict = xgb1.predict(test_x)\n",
    "xgb_predict"
   ]
  },
  {
   "cell_type": "code",
   "execution_count": 68,
   "id": "3546a30f",
   "metadata": {},
   "outputs": [
    {
     "data": {
      "text/plain": [
       "array([0.19543009, 0.4639087 , 0.18919505, 0.19003431, 0.6357237 ,\n",
       "       0.5775805 , 0.6357237 , 0.7326225 , 0.21581693, 0.30165935,\n",
       "       0.18921223, 0.1899649 , 0.38173944, 0.7326225 , 0.19099368,\n",
       "       0.7326225 , 0.6626303 , 0.18919505, 0.21825038, 0.1899649 ,\n",
       "       0.22016174, 0.1899649 , 0.20063479, 0.20063479, 0.1899649 ,\n",
       "       0.3917071 , 0.44280744, 0.20727368, 0.19099368, 0.6114233 ,\n",
       "       0.2005618 , 0.7326225 , 0.6604111 , 0.20063479, 0.25171927,\n",
       "       0.18919505, 0.6027298 , 0.21644211, 0.18919505, 0.37669808,\n",
       "       0.4639087 , 0.6024678 , 0.6604111 , 0.18921223, 0.2105015 ,\n",
       "       0.19003431, 0.19099368, 0.20675845, 0.6357237 , 0.7326225 ,\n",
       "       0.6377421 , 0.7326225 , 0.22136019, 0.26822922, 0.7326225 ,\n",
       "       0.18919505, 0.21061753, 0.44246626, 0.2409892 , 0.18921223,\n",
       "       0.28945327, 0.18919505, 0.7326225 , 0.5211328 , 0.7326225 ,\n",
       "       0.3009699 , 0.7326225 , 0.7326225 , 0.31504908, 0.20377064,\n",
       "       0.18919505, 0.34232363, 0.39655384, 0.19374788, 0.24166873,\n",
       "       0.28437504, 0.5412649 , 0.31504908, 0.7326225 , 0.22108895,\n",
       "       0.7326225 , 0.19123784, 0.22394106, 0.19003431, 0.1899649 ,\n",
       "       0.18919505, 0.2686153 , 0.24509495, 0.7326225 , 0.7326225 ,\n",
       "       0.6357237 , 0.5598871 , 0.1901849 , 0.44546682, 0.19099368,\n",
       "       0.7326225 , 0.22262245, 0.22566138, 0.7326225 , 0.7326225 ,\n",
       "       0.19201404, 0.2005618 , 0.2495448 , 0.7326225 , 0.63004035,\n",
       "       0.2077126 , 0.7326225 , 0.20883594, 0.30372596, 0.6357237 ,\n",
       "       0.19003431, 0.7326225 , 0.6357237 , 0.19003431, 0.7326225 ,\n",
       "       0.19374788, 0.62269443, 0.30957645, 0.19003431, 0.27205926,\n",
       "       0.18921223, 0.7326225 , 0.21728411, 0.2215084 , 0.20063479,\n",
       "       0.6063182 , 0.3748698 , 0.19003431, 0.19374788, 0.7326225 ,\n",
       "       0.20251597, 0.7326225 , 0.19374788, 0.7326225 , 0.19685808,\n",
       "       0.19099368, 0.7326225 , 0.2817493 , 0.19392867, 0.21061753,\n",
       "       0.18919505, 0.4312258 , 0.24614333, 0.20496541, 0.18921223,\n",
       "       0.45209965, 0.26942217, 0.7326225 , 0.19392867, 0.36605236,\n",
       "       0.1899649 , 0.32261145, 0.18919505, 0.40596253, 0.5285857 ,\n",
       "       0.7326225 , 0.19003431, 0.7326225 , 0.23090142, 0.21644211,\n",
       "       0.22016174, 0.19392867, 0.23227248, 0.5707617 , 0.1899649 ,\n",
       "       0.19374788, 0.1899649 , 0.6354451 , 0.1901849 , 0.18919505,\n",
       "       0.21750104, 0.389288  , 0.20606075, 0.7326225 , 0.31814882,\n",
       "       0.7326225 , 0.40915915, 0.2105891 , 0.1899649 , 0.21690881,\n",
       "       0.1971889 , 0.18919505, 0.6294037 , 0.7326225 , 0.7326225 ,\n",
       "       0.18919505, 0.24412459, 0.19099368, 0.61216223, 0.18919505,\n",
       "       0.1901849 , 0.6423772 , 0.2554013 , 0.20430551, 0.22074619,\n",
       "       0.19374788, 0.7326225 , 0.6357237 , 0.19099368, 0.2360737 ,\n",
       "       0.31146225, 0.611399  , 0.7326225 , 0.22016174, 0.21205194,\n",
       "       0.2765416 , 0.19685808, 0.1901849 , 0.44775283, 0.1901849 ,\n",
       "       0.39848977, 0.21825038, 0.29831296, 0.33687153, 0.19003431,\n",
       "       0.2005618 , 0.65519416, 0.7326225 , 0.23227248, 0.2881119 ,\n",
       "       0.19374788, 0.24200708, 0.2596618 , 0.6604111 , 0.1899649 ,\n",
       "       0.7326225 , 0.19003431, 0.19392867, 0.19003431, 0.19459027,\n",
       "       0.6327023 , 0.20430551, 0.19863056, 0.7326225 , 0.7326225 ,\n",
       "       0.19003431, 0.7326225 , 0.22108895, 0.7326225 , 0.18921223,\n",
       "       0.21828113, 0.19696236, 0.28353378, 0.297125  , 0.31504908,\n",
       "       0.7326225 , 0.19003431, 0.1899649 , 0.7326225 , 0.4751535 ,\n",
       "       0.23339535, 0.66185224, 0.1901849 , 0.7326225 , 0.5456916 ,\n",
       "       0.5462921 , 0.2995368 , 0.5606295 , 0.44546682, 0.59815043,\n",
       "       0.7326225 , 0.7326225 , 0.7326225 , 0.1987676 , 0.62225544,\n",
       "       0.3719177 , 0.40826735, 0.33598432, 0.7326225 , 0.20645154,\n",
       "       0.1901849 , 0.1901849 , 0.7326225 , 0.3122435 , 0.22108895,\n",
       "       0.20107643, 0.29567522, 0.30372596, 0.54842097, 0.7326225 ,\n",
       "       0.18919505, 0.276739  , 0.20654644, 0.19003431, 0.19780989,\n",
       "       0.1899649 , 0.18921223, 0.23844121, 0.35451105, 0.7326225 ,\n",
       "       0.19003431, 0.30822676, 0.2153474 , 0.19392867, 0.7326225 ,\n",
       "       0.4693689 , 0.6423772 , 0.7326225 , 0.28710145, 0.21644211,\n",
       "       0.7326225 , 0.7326225 , 0.7326225 , 0.18919505, 0.19003431,\n",
       "       0.7326225 , 0.19003431, 0.7326225 , 0.1901849 , 0.22866018,\n",
       "       0.20749673, 0.2282208 , 0.3197751 , 0.6357237 , 0.19099368,\n",
       "       0.1899649 , 0.7326225 , 0.23238102, 0.1899649 , 0.21581693,\n",
       "       0.60841686, 0.7326225 , 0.19003431, 0.7326225 , 0.7326225 ,\n",
       "       0.7326225 , 0.2005618 , 0.37312624, 0.7326225 , 0.34485424,\n",
       "       0.7326225 , 0.29160833, 0.21561064, 0.1901849 , 0.20645154,\n",
       "       0.19374788, 0.7326225 , 0.29141164, 0.20158325, 0.7326225 ,\n",
       "       0.22461624, 0.1899649 , 0.19392867, 0.21728411, 0.39599767,\n",
       "       0.19374788, 0.19392867, 0.19459027, 0.19392867, 0.18919505,\n",
       "       0.2215084 , 0.1901849 , 0.5105136 , 0.18919505, 0.5682922 ,\n",
       "       0.49452338, 0.7326225 , 0.7326225 , 0.3461541 , 0.20529315,\n",
       "       0.2470903 , 0.37320966, 0.29141164, 0.20063479, 0.7326225 ,\n",
       "       0.18919505, 0.28670958, 0.1901849 , 0.23735662, 0.20883594,\n",
       "       0.20532985, 0.19099368, 0.19374788, 0.30406424, 0.19003431,\n",
       "       0.19078948, 0.61377645, 0.62708473, 0.19392867, 0.19392867,\n",
       "       0.3886483 , 0.19003431, 0.26392362, 0.20617457, 0.19003431,\n",
       "       0.6357237 , 0.7326225 , 0.19099368, 0.7326225 , 0.367963  ,\n",
       "       0.2153474 , 0.60841686, 0.7326225 , 0.28945327, 0.389288  ,\n",
       "       0.5462921 , 0.40366766, 0.1901849 , 0.62625843, 0.21644211,\n",
       "       0.23649447, 0.19003431, 0.4046927 , 0.18919505, 0.20909107,\n",
       "       0.44497135, 0.19459027, 0.27994576, 0.6114233 , 0.6354451 ,\n",
       "       0.7326225 , 0.19201404, 0.48279312, 0.33490667, 0.19099368,\n",
       "       0.7326225 , 0.7326225 , 0.7326225 ], dtype=float32)"
      ]
     },
     "execution_count": 68,
     "metadata": {},
     "output_type": "execute_result"
    }
   ],
   "source": [
    "xgb_predict_proba = xgb1.predict_proba(test_x)\n",
    "xgb_predict_proba[:,1]"
   ]
  },
  {
   "cell_type": "markdown",
   "id": "02aec80d",
   "metadata": {},
   "source": [
    "### $TP(真阳性) = 真实值为1，预测值也为1的数量 $ "
   ]
  },
  {
   "cell_type": "code",
   "execution_count": 69,
   "id": "b7c71dc0",
   "metadata": {},
   "outputs": [
    {
     "data": {
      "text/plain": [
       "112"
      ]
     },
     "execution_count": 69,
     "metadata": {},
     "output_type": "execute_result"
    }
   ],
   "source": [
    "\n",
    "\n",
    "TP = ((test_y==1) * (xgb_predict==1)).sum()\n",
    "TP"
   ]
  },
  {
   "cell_type": "markdown",
   "id": "5b454453",
   "metadata": {},
   "source": [
    "### $ FN(假阴性) = 真实值为1，预测集为0的数量$"
   ]
  },
  {
   "cell_type": "code",
   "execution_count": 70,
   "id": "87fc07db",
   "metadata": {},
   "outputs": [
    {
     "data": {
      "text/plain": [
       "47"
      ]
     },
     "execution_count": 70,
     "metadata": {},
     "output_type": "execute_result"
    }
   ],
   "source": [
    "FN = ((test_y == 1) * (xgb_predict == 0)).sum()\n",
    "FN"
   ]
  },
  {
   "cell_type": "markdown",
   "id": "243052ac",
   "metadata": {},
   "source": [
    "### $ TPR = TP/(TP + FN) $ 也称为为—灵敏度 \n",
    "#### 表示真实值为真的预测正确率"
   ]
  },
  {
   "cell_type": "code",
   "execution_count": 71,
   "id": "25b1644c",
   "metadata": {},
   "outputs": [
    {
     "data": {
      "text/plain": [
       "0.7044025157232704"
      ]
     },
     "execution_count": 71,
     "metadata": {},
     "output_type": "execute_result"
    }
   ],
   "source": [
    "TPR = TP/(TP+FN)\n",
    "TPR"
   ]
  },
  {
   "cell_type": "markdown",
   "id": "1b9491ba",
   "metadata": {},
   "source": [
    "### $ FP(假阳性) = 真实值为0，预测值为1 的数量$ "
   ]
  },
  {
   "cell_type": "code",
   "execution_count": 72,
   "id": "8e52cdd2",
   "metadata": {},
   "outputs": [
    {
     "data": {
      "text/plain": [
       "17"
      ]
     },
     "execution_count": 72,
     "metadata": {},
     "output_type": "execute_result"
    }
   ],
   "source": [
    "FP = ((test_y==0)*(xgb_predict==1)).sum()\n",
    "FP"
   ]
  },
  {
   "cell_type": "markdown",
   "id": "7bcbf8a7",
   "metadata": {},
   "source": [
    "### $ TN(真阴性) = 真实值为0，预测值也为0 的数量$"
   ]
  },
  {
   "cell_type": "code",
   "execution_count": 73,
   "id": "93ca8414",
   "metadata": {},
   "outputs": [
    {
     "data": {
      "text/plain": [
       "242"
      ]
     },
     "execution_count": 73,
     "metadata": {},
     "output_type": "execute_result"
    }
   ],
   "source": [
    "TN = ((test_y==0)*(xgb_predict==0)).sum()\n",
    "TN"
   ]
  },
  {
   "cell_type": "markdown",
   "id": "378051dd",
   "metadata": {},
   "source": [
    "### $ FPR = FP/(FP + TN) $\n",
    "#### 表示真实值为假，预测错误的比率"
   ]
  },
  {
   "cell_type": "code",
   "execution_count": 205,
   "id": "c94a4131",
   "metadata": {},
   "outputs": [
    {
     "data": {
      "text/plain": [
       "0.06563706563706563"
      ]
     },
     "execution_count": 205,
     "metadata": {},
     "output_type": "execute_result"
    }
   ],
   "source": [
    "FPR = FP/(FP+TN)\n",
    "FPR"
   ]
  },
  {
   "cell_type": "markdown",
   "id": "8cca03cd",
   "metadata": {},
   "source": [
    "### $ 1-FPR=特异度 $\n",
    "#### 表示真实值为假的预测准确率"
   ]
  },
  {
   "cell_type": "code",
   "execution_count": 206,
   "id": "5feed95f",
   "metadata": {},
   "outputs": [
    {
     "data": {
      "text/plain": [
       "0.9343629343629344"
      ]
     },
     "execution_count": 206,
     "metadata": {},
     "output_type": "execute_result"
    }
   ],
   "source": [
    "1-FPR"
   ]
  },
  {
   "cell_type": "markdown",
   "id": "a756114e",
   "metadata": {},
   "source": [
    "### 5.2 评价指标函数整合\n",
    "* 表中列代表预测分类，行代表实际分类：\n",
    "* 实际1，预测1：真正类（tp）\n",
    "* 实际1，预测0：假负类（fn）\n",
    "* 实际0，预测1：假正类（fp）\n",
    "* 实际0，预测0：真负类（tn）\n",
    "* 真实负样本总数=n=fp+tn\n",
    "* 真实正样本总数=p=tp+fn\n",
    "\n",
    "\n",
    "[分类指标的定义和说明（准确率、精确率、召回率、误报率、漏报率）]\n",
    "(https://developer.aliyun.com/article/780784)\n"
   ]
  },
  {
   "cell_type": "code",
   "execution_count": 217,
   "id": "8f644360",
   "metadata": {},
   "outputs": [
    {
     "data": {
      "text/plain": [
       "{'混淆矩阵': matrix([[112,  47],\n",
       "         [ 17, 242]]),\n",
       " 'ACC正确率|accuracy': 0.84688995215311,\n",
       " '精确率|precision': 0.8682170542635659,\n",
       " '召回率|recall｜真阳率｜命中率': 0.7044025157232704,\n",
       " '误报率|false alarm｜假阳率｜虚警率｜误检率': 0.06563706563706563,\n",
       " '漏报率|miss rate|也称为漏警率|漏检率': 0.29559748427672955,\n",
       " '特异度|specificity': 0.9343629343629344,\n",
       " 'F1-score:': 0.7777777777777778,\n",
       " '真实正样本数': 159,\n",
       " '真实负样本数': 259}"
      ]
     },
     "execution_count": 217,
     "metadata": {},
     "output_type": "execute_result"
    }
   ],
   "source": [
    "\n",
    "def TPRN_Score(test_y,pred_y):\n",
    "    TP = ((test_y==1) * (pred_y==1)).sum()\n",
    "    FN = ((test_y == 1) * (pred_y == 0)).sum()\n",
    "    FP = ((test_y==0)*(pred_y==1)).sum()\n",
    "    TN = ((test_y==0)*(pred_y==0)).sum()\n",
    "    \n",
    "    TPR = TP/(TP+FN)\n",
    "    FPR = FP/(FP+TN)\n",
    "    precision = TP/(TP+FP)\n",
    "    N = FP+TN\n",
    "    P = TP+FN\n",
    "    ACC = (TP+TN)/(TP+FN+FP+TN)\n",
    "    FNR = FN/(TP+FN)\n",
    "    \n",
    "    # 两种F1 Score 计算结果是一样的\n",
    "    F1Score = (2*TP)/(2*TP+FN+FP)\n",
    "    # F1Score = (2*precision*TPR)/(precision+TPR)\n",
    "    \n",
    "    return {\"混淆矩阵\":np.matrix([[TP,FN],[FP,TN]])\n",
    "            ,\"ACC正确率|accuracy\":ACC\n",
    "            ,\"精确率|precision\":precision\n",
    "            ,\"召回率|recall｜真阳率｜命中率\":TPR\n",
    "            ,\"误报率|false alarm｜假阳率｜虚警率｜误检率\":FPR\n",
    "            ,\"漏报率|miss rate|也称为漏警率|漏检率\":FNR\n",
    "            ,\"特异度|specificity\":1-FPR\n",
    "            ,\"F1-score:\":F1Score\n",
    "            ,\"真实正样本数\":P,\"真实负样本数\":N}\n",
    "\n",
    "TPRN_Score(test_y,xgb_predict)"
   ]
  },
  {
   "cell_type": "code",
   "execution_count": 77,
   "id": "dd9b4bfa",
   "metadata": {},
   "outputs": [
    {
     "data": {
      "text/plain": [
       "'accuracy得分返回正确分类的比率：0.84688995215311'"
      ]
     },
     "execution_count": 77,
     "metadata": {},
     "output_type": "execute_result"
    }
   ],
   "source": [
    "from sklearn.metrics import accuracy_score\n",
    "f\"accuracy得分返回正确分类的比率：{accuracy_score(test_y,xgb_predict)}\""
   ]
  },
  {
   "cell_type": "code",
   "execution_count": 78,
   "id": "eb32b5d9",
   "metadata": {},
   "outputs": [
    {
     "data": {
      "text/plain": [
       "(array([0.        , 0.01544402, 0.01544402, 0.01930502, 0.01930502,\n",
       "        0.01930502, 0.01930502, 0.01930502, 0.02316602, 0.02316602,\n",
       "        0.03088803, 0.03088803, 0.03088803, 0.03088803, 0.03474903,\n",
       "        0.03474903, 0.03861004, 0.03861004, 0.04247104, 0.04247104,\n",
       "        0.04633205, 0.04633205, 0.05019305, 0.05791506, 0.05791506,\n",
       "        0.06563707, 0.06563707, 0.07335907, 0.07335907, 0.07722008,\n",
       "        0.08108108, 0.08108108, 0.08494208, 0.08494208, 0.08880309,\n",
       "        0.08880309, 0.09266409, 0.09266409, 0.1042471 , 0.1042471 ,\n",
       "        0.10810811, 0.11583012, 0.11583012, 0.11969112, 0.11969112,\n",
       "        0.12741313, 0.12741313, 0.14285714, 0.14285714, 0.15444015,\n",
       "        0.15444015, 0.16216216, 0.18146718, 0.18532819, 0.18532819,\n",
       "        0.2007722 , 0.20849421, 0.21235521, 0.22393822, 0.22393822,\n",
       "        0.25096525, 0.25096525, 0.26254826, 0.26254826, 0.27799228,\n",
       "        0.27799228, 0.3011583 , 0.3011583 , 0.30888031, 0.33590734,\n",
       "        0.34362934, 0.34749035, 0.35907336, 0.36293436, 0.37451737,\n",
       "        0.37837838, 0.38610039, 0.38996139, 0.3976834 , 0.4015444 ,\n",
       "        0.41698842, 0.42084942, 0.42471042, 0.43243243, 0.43629344,\n",
       "        0.44401544, 0.44401544, 0.45173745, 0.45559846, 0.47490347,\n",
       "        0.48262548, 0.48262548, 0.49420849, 0.49420849, 0.5019305 ,\n",
       "        0.51737452, 0.53281853, 0.54826255, 0.54826255, 0.56370656,\n",
       "        0.57142857, 0.57528958, 0.58687259, 0.61776062, 0.65637066,\n",
       "        0.66409266, 0.66795367, 0.7027027 , 0.70656371, 0.75675676,\n",
       "        0.84169884, 0.8996139 , 0.92664093, 1.        ]),\n",
       " array([0.        , 0.46540881, 0.47798742, 0.49056604, 0.49685535,\n",
       "        0.50943396, 0.51572327, 0.57232704, 0.57861635, 0.58490566,\n",
       "        0.58490566, 0.62264151, 0.63522013, 0.64150943, 0.64779874,\n",
       "        0.67295597, 0.67295597, 0.67924528, 0.67924528, 0.68553459,\n",
       "        0.68553459, 0.6918239 , 0.69811321, 0.69811321, 0.70440252,\n",
       "        0.70440252, 0.72955975, 0.72955975, 0.73584906, 0.73584906,\n",
       "        0.74213836, 0.75471698, 0.75471698, 0.7672956 , 0.7672956 ,\n",
       "        0.77358491, 0.77358491, 0.77987421, 0.77987421, 0.78616352,\n",
       "        0.79245283, 0.79245283, 0.80503145, 0.80503145, 0.81761006,\n",
       "        0.81761006, 0.82389937, 0.82389937, 0.83018868, 0.83018868,\n",
       "        0.83647799, 0.8427673 , 0.8427673 , 0.8490566 , 0.86792453,\n",
       "        0.86792453, 0.86792453, 0.87421384, 0.87421384, 0.88050314,\n",
       "        0.88050314, 0.89308176, 0.89308176, 0.89937107, 0.89937107,\n",
       "        0.91823899, 0.91823899, 0.9245283 , 0.9245283 , 0.9245283 ,\n",
       "        0.9245283 , 0.9245283 , 0.9245283 , 0.9245283 , 0.9245283 ,\n",
       "        0.9245283 , 0.9245283 , 0.9245283 , 0.9245283 , 0.9245283 ,\n",
       "        0.9245283 , 0.93081761, 0.93081761, 0.93081761, 0.93081761,\n",
       "        0.93081761, 0.93710692, 0.93710692, 0.94339623, 0.94339623,\n",
       "        0.94339623, 0.94968553, 0.94968553, 0.95597484, 0.95597484,\n",
       "        0.95597484, 0.96226415, 0.96226415, 0.96855346, 0.96855346,\n",
       "        0.96855346, 0.96855346, 0.96855346, 0.98113208, 0.98113208,\n",
       "        0.98113208, 0.98113208, 0.99371069, 0.99371069, 0.99371069,\n",
       "        0.99371069, 0.99371069, 0.99371069, 1.        ]))"
      ]
     },
     "execution_count": 78,
     "metadata": {},
     "output_type": "execute_result"
    }
   ],
   "source": [
    "from sklearn.metrics import roc_curve\n",
    "[fpr,tpr,thr]=roc_curve(test_y,xgb_predict_proba[:,1])\n",
    "fpr,tpr"
   ]
  },
  {
   "cell_type": "code",
   "execution_count": 79,
   "id": "8ab3cea9",
   "metadata": {},
   "outputs": [
    {
     "data": {
      "text/plain": [
       "'auc得分：0.9132852529078944'"
      ]
     },
     "execution_count": 79,
     "metadata": {},
     "output_type": "execute_result"
    }
   ],
   "source": [
    "from sklearn.metrics import auc\n",
    "f\"auc得分：{auc(fpr,tpr)}\""
   ]
  },
  {
   "cell_type": "markdown",
   "id": "4afbe6ed",
   "metadata": {},
   "source": [
    "### 手动计算auc得分\n",
    "#### 首先要明白ＡＵＣ的物理含义不仅是ＲＯＣ曲线下的面积，ＡＵＣ还有另外一个物理含义就是：给定正样本Ｍ个，负样本Ｎ个，以及他们的预测概率（０－１）之间，那么ＡＵＣ的含义就是所有穷举所有的正负样本对，如果正样本的预测概率大于负样本的预测概率，那么就＋１；如果如果正样本的预测概率等于负样本的预测概率，那么就＋0.5,　如果正样本的预测概率小于负样本的预测概率，那么就＋０；最后把统计处理的个数除以Ｍ×Ｎ就得到我们的ＡＵＣ，公式描述如下：\n",
    "## $ \\frac{\\sum{I(P_{正样本},P_{负样本})}}{m*n}$"
   ]
  },
  {
   "cell_type": "code",
   "execution_count": 80,
   "id": "4940989d",
   "metadata": {},
   "outputs": [
    {
     "data": {
      "text/plain": [
       "0.9132852529078944"
      ]
     },
     "execution_count": 80,
     "metadata": {},
     "output_type": "execute_result"
    }
   ],
   "source": [
    "def AUC(label, pre):\n",
    "    pos = [i for i in range(len(label)) if label[i] == 1]\n",
    "    neg = [i for i in range(len(label)) if label[i] == 0]\n",
    "    #计算正样本和负样本的索引，以便索引出之后的概率值\n",
    "    auc = 0\n",
    "    for i in pos:\n",
    "        for j in neg:\n",
    "            if pre[i] > pre[j]:\n",
    "                auc += 1\n",
    "            elif pre[i] == pre[j]:\n",
    "                auc += 0.5\n",
    "    return auc / (len(pos)*len(neg))\n",
    "\n",
    "AUC(test_y,xgb_predict_proba[:,1])"
   ]
  },
  {
   "cell_type": "code",
   "execution_count": 81,
   "id": "d0995c10",
   "metadata": {},
   "outputs": [
    {
     "data": {
      "text/plain": [
       "'log loss得分：0.4257427982494163'"
      ]
     },
     "execution_count": 81,
     "metadata": {},
     "output_type": "execute_result"
    }
   ],
   "source": [
    "from sklearn.metrics import log_loss\n",
    "\n",
    "f\"log loss得分：{log_loss(test_y,xgb_predict_proba[:,1])}\""
   ]
  },
  {
   "cell_type": "markdown",
   "id": "30ab19e0",
   "metadata": {},
   "source": [
    "### 6 十折验证 模型的效果\n",
    "\n",
    "#### 6.1 十折 accuracy 得分均值"
   ]
  },
  {
   "cell_type": "code",
   "execution_count": 82,
   "id": "9ceb89ed",
   "metadata": {},
   "outputs": [
    {
     "data": {
      "text/plain": [
       "0.8449442160892542"
      ]
     },
     "execution_count": 82,
     "metadata": {},
     "output_type": "execute_result"
    }
   ],
   "source": [
    "from sklearn.model_selection import cross_val_score\n",
    "\n",
    "scores_accuracy = cross_val_score(xgb1,X,Y,cv=10,scoring=\"accuracy\")\n",
    "scores_accuracy.mean()"
   ]
  },
  {
   "cell_type": "markdown",
   "id": "391f1ac4",
   "metadata": {},
   "source": [
    "#### 6.2 十折 log loss 得分均值"
   ]
  },
  {
   "cell_type": "code",
   "execution_count": 83,
   "id": "29e952a3",
   "metadata": {},
   "outputs": [
    {
     "data": {
      "text/plain": [
       "0.4259935041734038"
      ]
     },
     "execution_count": 83,
     "metadata": {},
     "output_type": "execute_result"
    }
   ],
   "source": [
    "score_log_loss = cross_val_score(xgb1,X,Y,cv=10,scoring=\"neg_log_loss\")\n",
    "-score_log_loss.mean()"
   ]
  },
  {
   "cell_type": "markdown",
   "id": "b04a0779",
   "metadata": {},
   "source": [
    "#### 6.3 十折 auc 得分均值"
   ]
  },
  {
   "cell_type": "code",
   "execution_count": 84,
   "id": "875788c0",
   "metadata": {},
   "outputs": [
    {
     "data": {
      "text/plain": [
       "0.9019871749964665"
      ]
     },
     "execution_count": 84,
     "metadata": {},
     "output_type": "execute_result"
    }
   ],
   "source": [
    "scores_auc = cross_val_score(xgb1,X,Y,cv=10,scoring=\"roc_auc\")\n",
    "scores_auc.mean()"
   ]
  },
  {
   "cell_type": "markdown",
   "id": "62972cb2",
   "metadata": {},
   "source": [
    "#### 7 自定义损失函数\n",
    "\n",
    "#### 7.1 自定义损失函数 Focal Loss\n",
    "* #### 1. $ alpha  (0,1) $  二分类场景下，类似于正例的sample_weight概念，可以按照样本占比，适度加权, 假如有5条正例、95条负例，则建议 alpha=0.95， 取0.5 相关于关掉此功能\n",
    "\n",
    "* #### 2. $ gamma \\in [0， +\\infty]$  对于难度的区分程度, 取 gamma = 0 相当于关掉该功能, gamma越大则越重视难度，即专注于比较困难的样本。建议在 (0.5, 10.0) 范围尝试\n",
    "————————————————\n",
    "版权声明：本文为CSDN博主「舒克与贝克」的原创文章，遵循CC 4.0 BY-SA版权协议，转载请附上原文出处链接及本声明。\n",
    "原文链接：https://blog.csdn.net/zwqjoy/article/details/109311133"
   ]
  },
  {
   "cell_type": "code",
   "execution_count": null,
   "id": "0b9e7552",
   "metadata": {},
   "outputs": [],
   "source": []
  },
  {
   "cell_type": "code",
   "execution_count": null,
   "id": "8ae44f96",
   "metadata": {},
   "outputs": [],
   "source": []
  },
  {
   "cell_type": "code",
   "execution_count": 199,
   "id": "1fa1f69a",
   "metadata": {},
   "outputs": [
    {
     "name": "stdout",
     "output_type": "stream",
     "text": [
      "[0]\ttrain-auc:0.88973\n",
      "[1]\ttrain-auc:0.89524\n",
      "[2]\ttrain-auc:0.91220\n",
      "[3]\ttrain-auc:0.91227\n",
      "[4]\ttrain-auc:0.91130\n",
      "[5]\ttrain-auc:0.91329\n",
      "[6]\ttrain-auc:0.91646\n",
      "[7]\ttrain-auc:0.91858\n",
      "[8]\ttrain-auc:0.92110\n",
      "[9]\ttrain-auc:0.92188\n",
      "[10]\ttrain-auc:0.92350\n",
      "[11]\ttrain-auc:0.93240\n",
      "[12]\ttrain-auc:0.93562\n",
      "[13]\ttrain-auc:0.93706\n",
      "[14]\ttrain-auc:0.94184\n",
      "[15]\ttrain-auc:0.94568\n",
      "[16]\ttrain-auc:0.94606\n",
      "[17]\ttrain-auc:0.94843\n",
      "[18]\ttrain-auc:0.94995\n",
      "[19]\ttrain-auc:0.95259\n",
      "[20]\ttrain-auc:0.95391\n",
      "[21]\ttrain-auc:0.95439\n",
      "[22]\ttrain-auc:0.95520\n",
      "[23]\ttrain-auc:0.95661\n",
      "[24]\ttrain-auc:0.95773\n"
     ]
    },
    {
     "name": "stderr",
     "output_type": "stream",
     "text": [
      "/Users/magu/anaconda3/envs/TS_ENV_38_add_AKshare/lib/python3.8/site-packages/xgboost/core.py:160: UserWarning: [21:20:05] WARNING: /Users/runner/work/xgboost/xgboost/src/learner.cc:742: \n",
      "Parameters: { \"lambda_weight\", \"n_estimators\" } are not used.\n",
      "\n",
      "  warnings.warn(smsg, UserWarning)\n"
     ]
    },
    {
     "name": "stdout",
     "output_type": "stream",
     "text": [
      "[25]\ttrain-auc:0.95880\n",
      "[26]\ttrain-auc:0.95933\n",
      "[27]\ttrain-auc:0.96010\n",
      "[28]\ttrain-auc:0.96124\n",
      "[29]\ttrain-auc:0.96179\n",
      "[30]\ttrain-auc:0.96249\n",
      "[31]\ttrain-auc:0.96344\n",
      "[32]\ttrain-auc:0.96380\n",
      "[33]\ttrain-auc:0.96464\n",
      "[34]\ttrain-auc:0.96533\n",
      "[35]\ttrain-auc:0.96624\n",
      "[36]\ttrain-auc:0.96650\n",
      "[37]\ttrain-auc:0.96704\n",
      "[38]\ttrain-auc:0.96731\n",
      "[39]\ttrain-auc:0.96796\n",
      "[40]\ttrain-auc:0.96877\n",
      "[41]\ttrain-auc:0.96937\n",
      "[42]\ttrain-auc:0.96963\n",
      "[43]\ttrain-auc:0.97032\n",
      "[44]\ttrain-auc:0.97068\n",
      "[45]\ttrain-auc:0.97133\n",
      "[46]\ttrain-auc:0.97178\n",
      "[47]\ttrain-auc:0.97199\n",
      "[48]\ttrain-auc:0.97229\n",
      "[49]\ttrain-auc:0.97292\n",
      "[50]\ttrain-auc:0.97323\n",
      "[51]\ttrain-auc:0.97376\n",
      "[52]\ttrain-auc:0.97438\n",
      "[53]\ttrain-auc:0.97496\n",
      "[54]\ttrain-auc:0.97531\n",
      "[55]\ttrain-auc:0.97566\n",
      "[56]\ttrain-auc:0.97603\n",
      "[57]\ttrain-auc:0.97616\n",
      "[58]\ttrain-auc:0.97650\n",
      "[59]\ttrain-auc:0.97679\n",
      "[60]\ttrain-auc:0.97713\n",
      "[61]\ttrain-auc:0.97768\n",
      "[62]\ttrain-auc:0.97783\n",
      "[63]\ttrain-auc:0.97826\n",
      "[64]\ttrain-auc:0.97821\n",
      "[65]\ttrain-auc:0.97849\n",
      "[66]\ttrain-auc:0.97885\n",
      "[67]\ttrain-auc:0.97907\n",
      "[68]\ttrain-auc:0.97936\n",
      "[69]\ttrain-auc:0.97942\n",
      "[70]\ttrain-auc:0.97968\n",
      "[71]\ttrain-auc:0.98005\n",
      "[72]\ttrain-auc:0.98023\n",
      "[73]\ttrain-auc:0.98058\n",
      "[74]\ttrain-auc:0.98061\n",
      "[75]\ttrain-auc:0.98074\n",
      "[76]\ttrain-auc:0.98095\n",
      "[77]\ttrain-auc:0.98118\n",
      "[78]\ttrain-auc:0.98136\n",
      "[79]\ttrain-auc:0.98143\n",
      "[80]\ttrain-auc:0.98165\n",
      "[81]\ttrain-auc:0.98168\n",
      "[82]\ttrain-auc:0.98189\n",
      "[83]\ttrain-auc:0.98209\n",
      "[84]\ttrain-auc:0.98232\n",
      "[85]\ttrain-auc:0.98234\n",
      "[86]\ttrain-auc:0.98249\n",
      "[87]\ttrain-auc:0.98276\n",
      "[88]\ttrain-auc:0.98287\n",
      "[89]\ttrain-auc:0.98309\n",
      "[90]\ttrain-auc:0.98303\n",
      "[91]\ttrain-auc:0.98326\n",
      "[92]\ttrain-auc:0.98338\n",
      "[93]\ttrain-auc:0.98361\n",
      "[94]\ttrain-auc:0.98363\n",
      "[95]\ttrain-auc:0.98377\n",
      "[96]\ttrain-auc:0.98392\n",
      "[97]\ttrain-auc:0.98419\n",
      "[98]\ttrain-auc:0.98420\n",
      "[99]\ttrain-auc:0.98433\n"
     ]
    }
   ],
   "source": [
    "import xgboost as xgb\n",
    "\n",
    "\n",
    "gamma = 0\n",
    "### 自动计算alpha值的取值范围 取负例的比例\n",
    "alpha = (train_Y==0).sum()/train_Y.size\n",
    "\n",
    "def logistic_obj(p, dtrain):\n",
    "    y = dtrain.get_label()\n",
    "    p = 1.0 / (1.0 + np.exp(-p))\n",
    "    grad = p * (1 - p) * (alpha * gamma * y * (1 - p) ** gamma * np.log(p) / (1 - p) - alpha * y * (\n",
    "                1 - p) ** gamma / p - gamma * p ** gamma * (1 - alpha) * (1 - y) * np.log(1 - p) / p + p ** gamma * (\n",
    "                                      1 - alpha) * (1 - y) / (1 - p))\n",
    "    hess = p * (1 - p) * (p * (1 - p) * (\n",
    "                -alpha * gamma ** 2 * y * (1 - p) ** gamma * np.log(p) / (1 - p) ** 2 + alpha * gamma * y * (\n",
    "                    1 - p) ** gamma * np.log(p) / (1 - p) ** 2 + 2 * alpha * gamma * y * (1 - p) ** gamma / (\n",
    "                            p * (1 - p)) + alpha * y * (1 - p) ** gamma / p ** 2 - gamma ** 2 * p ** gamma * (\n",
    "                            1 - alpha) * (1 - y) * np.log(1 - p) / p ** 2 + 2 * gamma * p ** gamma * (1 - alpha) * (\n",
    "                            1 - y) / (p * (1 - p)) + gamma * p ** gamma * (1 - alpha) * (1 - y) * np.log(\n",
    "            1 - p) / p ** 2 + p ** gamma * (1 - alpha) * (1 - y) / (1 - p) ** 2) - p * (\n",
    "                                      alpha * gamma * y * (1 - p) ** gamma * np.log(p) / (1 - p) - alpha * y * (\n",
    "                                          1 - p) ** gamma / p - gamma * p ** gamma * (1 - alpha) * (1 - y) * np.log(\n",
    "                                  1 - p) / p + p ** gamma * (1 - alpha) * (1 - y) / (1 - p)) + (1 - p) * (\n",
    "                                      alpha * gamma * y * (1 - p) ** gamma * np.log(p) / (1 - p) - alpha * y * (\n",
    "                                          1 - p) ** gamma / p - gamma * p ** gamma * (1 - alpha) * (1 - y) * np.log(\n",
    "                                  1 - p) / p + p ** gamma * (1 - alpha) * (1 - y) / (1 - p)))\n",
    "    return grad, hess\n",
    "\n",
    "params = { \"learning_rate\":0.1\n",
    "               , \"n_estimators\":11 #即基评估器的数量。这个参数对随机森林模型的精确性影响是单调的，n_estimators越 大，模型的效果往往越好。但是相应的，任何模型都有决策边  n_estimators达到一定的程度之后，随机森林的 精确性往往不在上升或开始波动，并且，n_estimators越大，需要的计算量和内存也越大，训练的时间也会越来越 长。对于这个参数，我们是渴望在训练难度和模型效果之间取得平衡。\n",
    "               , \"max_depth\":12 #构建树的深度，越大越容易过拟合\n",
    "               , \"min_child_weight\":0.8 #孩子节点中最小的样本权重和。如果一个叶子节点的样本权重和小于min_child_weight则拆分过程结束\n",
    "#                , \"num_class \":1#类别数，与 multisoftmax 并用\n",
    "#                , \"gamma\":0 #损失下降多少才进行分裂， 控制叶子节点的个数\n",
    "               , \"subsample\":0.8 #随机采样训练样本\n",
    "               , \"colsample_bytree\":1 #生成树时进行的列采样\n",
    "#                , \"objective\":'binary:logistic' # {'binary:logistic'}是二分类的问题，{'multi:softmax',}是多分类的问题 这个是优化目标，必须得有，因为xgboost里面有求一阶导数和二阶导数，其实就是这个。\n",
    "               , \"nthread\":4 #cpu 线程数\n",
    "               , \"scale_pos_weight\":1.0 #负样本总数/正样本总数 。若训练负样本总数是500 ，正样本总数100，那么设置 scale_pos_weigh为 5\n",
    "               , \"lambda_weight\":2 # 正则化参数\n",
    "               , \"eta\":0.001 # 如同学习率\n",
    "#               \n",
    "#                , metrics='auc'\n",
    "               , \"eval_metric\":\"auc\"\n",
    "#                , \"silent \": 0 # ,设置成1则没有运行信息输出，最好是设置为0.\n",
    "               , \"seed\":27\n",
    "        }\n",
    "dtrain = xgb.DMatrix(train_X,label=train_Y)\n",
    "dtest = xgb.DMatrix(test_x,label=test_y)\n",
    "clf = xgb.train(params=params,dtrain=dtrain,num_boost_round=100,evals=[(dtrain,\"train\")],verbose_eval=True,obj=logistic_obj)"
   ]
  },
  {
   "cell_type": "markdown",
   "id": "a93a9c45",
   "metadata": {},
   "source": [
    "### "
   ]
  },
  {
   "cell_type": "markdown",
   "id": "b5e89b8f",
   "metadata": {},
   "source": [
    "#### 7.2 选择最AUC得分最大的分类概率选择值"
   ]
  },
  {
   "cell_type": "code",
   "execution_count": 200,
   "id": "340306f2",
   "metadata": {},
   "outputs": [
    {
     "data": {
      "text/plain": [
       "0.23999999999999994"
      ]
     },
     "execution_count": 200,
     "metadata": {},
     "output_type": "execute_result"
    }
   ],
   "source": [
    "\n",
    "scores = []\n",
    "probs = []\n",
    "\n",
    "for prob in np.arange(0.1,1,0.01):\n",
    "    pred_y = (clf.predict(dtest)>prob).astype(int)\n",
    "    auc_score = AUC(test_y,pred_y)\n",
    "    scores.append(auc_score)\n",
    "    probs.append(prob)\n",
    "\n",
    "probs[scores.index(max(scores))]"
   ]
  },
  {
   "cell_type": "markdown",
   "id": "e5cccc40",
   "metadata": {},
   "source": [
    "#### 7.3 预测值最大 AUC得分"
   ]
  },
  {
   "cell_type": "code",
   "execution_count": 201,
   "id": "016f4a51",
   "metadata": {},
   "outputs": [
    {
     "data": {
      "text/plain": [
       "0.8636871372720429"
      ]
     },
     "execution_count": 201,
     "metadata": {},
     "output_type": "execute_result"
    }
   ],
   "source": [
    "max(scores)"
   ]
  },
  {
   "cell_type": "markdown",
   "id": "e12ce402",
   "metadata": {},
   "source": [
    "#### 用auc最大得分的概率划分值分类数据得到的正确率"
   ]
  },
  {
   "cell_type": "code",
   "execution_count": 203,
   "id": "5c5ed746",
   "metadata": {},
   "outputs": [
    {
     "data": {
      "text/plain": [
       "0.8755980861244019"
      ]
     },
     "execution_count": 203,
     "metadata": {},
     "output_type": "execute_result"
    }
   ],
   "source": [
    "pred_y = np.array([c>probs[scores.index(max(scores))] and 1 or 0 for c in pred_y])\n",
    "1-abs(pred_y-test_y).sum()/test_y.size"
   ]
  },
  {
   "cell_type": "code",
   "execution_count": 218,
   "id": "d5b39319",
   "metadata": {},
   "outputs": [
    {
     "data": {
      "text/plain": [
       "{'混淆矩阵': matrix([[124,  35],\n",
       "         [ 17, 242]]),\n",
       " 'ACC正确率|accuracy': 0.8755980861244019,\n",
       " '精确率|precision': 0.8794326241134752,\n",
       " '召回率|recall｜真阳率｜命中率': 0.779874213836478,\n",
       " '误报率|false alarm｜假阳率｜虚警率｜误检率': 0.06563706563706563,\n",
       " '漏报率|miss rate|也称为漏警率|漏检率': 0.22012578616352202,\n",
       " '特异度|specificity': 0.9343629343629344,\n",
       " 'F1-score:': 0.8266666666666667,\n",
       " '真实正样本数': 159,\n",
       " '真实负样本数': 259}"
      ]
     },
     "execution_count": 218,
     "metadata": {},
     "output_type": "execute_result"
    }
   ],
   "source": [
    "TPRN_Score(test_y,pred_y)"
   ]
  },
  {
   "cell_type": "code",
   "execution_count": 204,
   "id": "40d49639",
   "metadata": {},
   "outputs": [],
   "source": [
    "# clf.predict(dtest)"
   ]
  },
  {
   "cell_type": "code",
   "execution_count": null,
   "id": "7f6fb245",
   "metadata": {},
   "outputs": [],
   "source": []
  },
  {
   "cell_type": "code",
   "execution_count": null,
   "id": "1453a9b5",
   "metadata": {},
   "outputs": [],
   "source": [
    "# xg_classifier = xgb.XGBClassifier(objective ='binary:logistic', colsample_bytree = 0.3, learning_rate = 0.1,\n",
    "#                 max_depth = 6, alpha = 10, n_estimators = 10)\n",
    "\n",
    "# xg_classifier.fit(train_X,train_Y)\n",
    "# xg_classifier.score(test_x, test_y)"
   ]
  },
  {
   "cell_type": "code",
   "execution_count": null,
   "id": "8273b6f1",
   "metadata": {},
   "outputs": [],
   "source": [
    "# dtrain = xgb.DMatrix(train_X,label=train_Y)\n",
    "# dtest = xgb.DMatrix(test_x,label=test_y)"
   ]
  },
  {
   "cell_type": "code",
   "execution_count": null,
   "id": "27c94da9",
   "metadata": {},
   "outputs": [],
   "source": [
    "# \"\"\"paramet setting\"\"\"\n",
    "# param = {\n",
    "#     'max_depth': 2,\n",
    "#     'eta': 0.007, # 如同学习率\n",
    "#     'objective': 'binary:logistic',# {'binary:logistic'}是二分类的问题，{'multi:softmax',}是多分类的问题 这个是优化目标，必须得有，因为xgboost里面有求一阶导数和二阶导数，其实就是这个\n",
    "#     'booster':'gbtree',# 这个指定基分类器\n",
    "# #     'num_class':2 ,# 类别数，与 multisoftmax 并用\n",
    "#     'gamma':0 ,# 损失下降多少才进行分裂， 控制叶子节点的个数\n",
    "#     'max_depth':12,# 构建树的深度，越大越容易过拟合\n",
    "#     'lambda':2, # 控制模型复杂度的权重值的L2正则化项参数，参数越大，模型越不容易过拟合。\n",
    "#     'subsample':0.7, # 随机采样训练样本\n",
    "#     'colsample_bytree':0.7,# 生成树时进行的列采样\n",
    "#     'min_child_weight':3, # 孩子节点中最小的样本权重和。如果一个叶子节点的样本权重和小于min_child_weight则拆分过程结束\n",
    "#     'silent':0 , # 设置成1则没有运行信息输出，最好是设置为0.\n",
    "#     'eta': 0.007,# 如同学习率\n",
    "#     'seed':1000,\n",
    "#     'nthread':6,# cpu 线程数\n",
    "# }\n",
    "# watch_list = [(dtest, 'eval'), (dtrain, 'train')]  # 这个是观测的时候在什么上面的结果  观测集\n",
    "# num_round = 5\n",
    "# model = xgb.train(params=param, dtrain=dtrain, num_boost_round=num_round, evals=watch_list)"
   ]
  },
  {
   "cell_type": "code",
   "execution_count": null,
   "id": "83510f15",
   "metadata": {},
   "outputs": [],
   "source": [
    "# pred = model.predict(dtest) \n",
    "# pred"
   ]
  },
  {
   "cell_type": "code",
   "execution_count": null,
   "id": "11be1e5a",
   "metadata": {},
   "outputs": [],
   "source": [
    "# Label_encoder = LabelEncoder()\n",
    "# integer_encoded = Label_encoder.fit_transform(titanic_data[\"舱位\"])\n",
    "# integer_encoded"
   ]
  },
  {
   "cell_type": "code",
   "execution_count": null,
   "id": "ae690694",
   "metadata": {},
   "outputs": [],
   "source": []
  },
  {
   "cell_type": "code",
   "execution_count": null,
   "id": "0655d61a",
   "metadata": {},
   "outputs": [],
   "source": []
  }
 ],
 "metadata": {
  "kernelspec": {
   "display_name": "TS_ENV_38_add_AKshare",
   "language": "python",
   "name": "ts_env_38_add_akshare"
  },
  "language_info": {
   "codemirror_mode": {
    "name": "ipython",
    "version": 3
   },
   "file_extension": ".py",
   "mimetype": "text/x-python",
   "name": "python",
   "nbconvert_exporter": "python",
   "pygments_lexer": "ipython3",
   "version": "3.8.18"
  }
 },
 "nbformat": 4,
 "nbformat_minor": 5
}
