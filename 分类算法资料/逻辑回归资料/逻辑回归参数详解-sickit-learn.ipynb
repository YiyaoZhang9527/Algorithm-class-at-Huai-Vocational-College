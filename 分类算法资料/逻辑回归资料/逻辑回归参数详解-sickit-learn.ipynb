{
 "cells": [
  {
   "cell_type": "code",
   "execution_count": 2,
   "metadata": {},
   "outputs": [
    {
     "name": "stderr",
     "output_type": "stream",
     "text": [
      "/home/zhangmanman/anaconda3/lib/python3.9/site-packages/sklearn/linear_model/_logistic.py:1476: UserWarning: l1_ratio parameter is only used when penalty is 'elasticnet'. Got (penalty=l2)\n",
      "  warnings.warn(\n"
     ]
    },
    {
     "data": {
      "text/plain": [
       "0.9666666666666667"
      ]
     },
     "execution_count": 2,
     "metadata": {},
     "output_type": "execute_result"
    }
   ],
   "source": [
    "from sklearn.datasets import load_iris\n",
    "from sklearn.linear_model import LogisticRegression\n",
    "from sklearn.model_selection import train_test_split\n",
    "\n",
    "\n",
    "\n",
    "iris = load_iris()\n",
    "\n",
    "xtrain,xtest,ytrain,ytest = train_test_split(iris['data'],iris['target'],test_size=0.2)\n",
    "\n",
    "clf = LogisticRegression(max_iter=100, # 最大迭代次数\n",
    "                            random_state=18,#随机数种子\n",
    "                            penalty=\"l2\", #正则化项\n",
    "                            solver=\"lbfgs\", # 求解器类型 \n",
    "                            dual=False, # 当模型数据行比较小，数据列又比较多的时候，可以用这个参数来优化结果\n",
    "                            tol=1e-4, # 模型损失值小于某一个精度的时候停止迭代\n",
    "                            C=1.0, #经验风险和结构风险在损失函数中的权重\n",
    "                            fit_intercept=True,#线性方程中是否包含截距项\n",
    "                            intercept_scaling=1,\n",
    "                            class_weight=None, #各类样本在损失值计算的权重 输入结构{0:1,1:3}代表1类样本的每一条数据在计算损失函数的时候都会*3 , 当参数为balanced的时则自动将这个比例调整为真实样本比例的反比，以达到平衡效果\n",
    "        \n",
    "                            multi_class=\"multinomial\", # 选择多分类策略，mvm（多模型合并）还是ovr（交叉熵函数实现多分类）\n",
    "                            verbose=0,\n",
    "                            warm_start=False,# 是否使用上次训练结果作为本次初始运行参数\n",
    "                            n_jobs= None, # 使用多少核心\n",
    "                            l1_ratio=True #当采用弹性网正则化时，l1正则权重项，就是损失函数中的p\n",
    "                             )\n",
    "clf.fit(xtrain,ytrain)\n",
    "clf.score(xtest,ytest)\n"
   ]
  },
  {
   "cell_type": "markdown",
   "metadata": {},
   "source": [
    "[视频详解逻辑回归的参数](https://www.bilibili.com/video/BV1xK4y1M7pK/?spm_id_from=333.337.search-card.all.click&vd_source=ce2c265fe654b727a504cf64875b6105)\n",
    "\n",
    "[中文官方文档说明逻辑回归参数](https://scikit-learn.org.cn/view/378.html)"
   ]
  },
  {
   "cell_type": "code",
   "execution_count": 12,
   "metadata": {},
   "outputs": [
    {
     "data": {
      "text/plain": [
       "0.9666666666666667"
      ]
     },
     "execution_count": 12,
     "metadata": {},
     "output_type": "execute_result"
    }
   ],
   "source": [
    "predicty=clf.predict(X=xtest) \n",
    "\n",
    "# score正确率计算过程\n",
    "1-sum(abs(ytest - predicty))/predicty.size"
   ]
  },
  {
   "cell_type": "code",
   "execution_count": 4,
   "metadata": {},
   "outputs": [
    {
     "data": {
      "text/plain": [
       "array([[-0.41907029,  0.89097996, -2.31555821, -1.00884625],\n",
       "       [ 0.59066115, -0.48245894, -0.18995434, -0.88365196],\n",
       "       [-0.17159087, -0.40852102,  2.50551255,  1.89249822]])"
      ]
     },
     "execution_count": 4,
     "metadata": {},
     "output_type": "execute_result"
    }
   ],
   "source": [
    "clf.coef_"
   ]
  },
  {
   "cell_type": "code",
   "execution_count": 5,
   "metadata": {},
   "outputs": [
    {
     "data": {
      "text/plain": [
       "array([0, 1, 2])"
      ]
     },
     "execution_count": 5,
     "metadata": {},
     "output_type": "execute_result"
    }
   ],
   "source": [
    "clf.classes_"
   ]
  },
  {
   "cell_type": "code",
   "execution_count": 6,
   "metadata": {},
   "outputs": [
    {
     "data": {
      "text/plain": [
       "LogisticRegression(l1_ratio=True, multi_class='multinomial', random_state=18)"
      ]
     },
     "execution_count": 6,
     "metadata": {},
     "output_type": "execute_result"
    }
   ],
   "source": [
    "clf.set_params()"
   ]
  },
  {
   "cell_type": "markdown",
   "metadata": {},
   "source": [
    "##### 预测不同分类的概率 第一列为0标签的概率，第二列为1标签的概率，以后了类推"
   ]
  },
  {
   "cell_type": "code",
   "execution_count": 7,
   "metadata": {},
   "outputs": [
    {
     "data": {
      "text/plain": [
       "array([[4.24925921e-06, 1.40464056e-02, 9.85949345e-01],\n",
       "       [9.70784745e-01, 2.92150976e-02, 1.57918799e-07],\n",
       "       [9.37599777e-03, 9.19204610e-01, 7.14193918e-02],\n",
       "       [3.57165308e-02, 8.89553420e-01, 7.47300490e-02],\n",
       "       [2.95541148e-03, 3.56914171e-01, 6.40130418e-01],\n",
       "       [3.80240451e-05, 6.89407862e-02, 9.31021190e-01],\n",
       "       [1.37174870e-01, 8.57387039e-01, 5.43809197e-03],\n",
       "       [6.36143196e-03, 7.69350401e-01, 2.24288167e-01],\n",
       "       [9.64628906e-01, 3.53709294e-02, 1.64999038e-07],\n",
       "       [9.81428538e-01, 1.85714142e-02, 4.75516474e-08],\n",
       "       [4.20825885e-03, 7.22159685e-01, 2.73632057e-01],\n",
       "       [1.55409237e-06, 2.82489236e-02, 9.71749522e-01],\n",
       "       [9.79972189e-01, 2.00276184e-02, 1.92851218e-07],\n",
       "       [9.64199198e-01, 3.58005819e-02, 2.20440656e-07],\n",
       "       [7.29157376e-06, 1.27297570e-02, 9.87262951e-01],\n",
       "       [2.99328874e-02, 9.44469633e-01, 2.55974792e-02],\n",
       "       [9.74961635e-01, 2.50383059e-02, 5.86273815e-08],\n",
       "       [3.68468070e-04, 1.53147747e-01, 8.46483785e-01],\n",
       "       [1.09014693e-04, 1.10798934e-01, 8.89092051e-01],\n",
       "       [3.81674706e-03, 8.66430330e-01, 1.29752923e-01],\n",
       "       [7.35252389e-03, 7.54961268e-01, 2.37686208e-01],\n",
       "       [1.02712926e-07, 7.69725085e-03, 9.92302646e-01],\n",
       "       [1.97771229e-05, 1.60455652e-02, 9.83934658e-01],\n",
       "       [1.31778590e-02, 6.89495975e-01, 2.97326166e-01],\n",
       "       [9.53071757e-01, 4.69279584e-02, 2.84447903e-07],\n",
       "       [6.41419760e-02, 9.26009366e-01, 9.84865771e-03],\n",
       "       [9.52452227e-03, 8.08255459e-01, 1.82220019e-01],\n",
       "       [7.09242455e-03, 8.95779659e-01, 9.71279163e-02],\n",
       "       [9.97442793e-07, 1.64714444e-02, 9.83527558e-01],\n",
       "       [9.81037578e-01, 1.89623094e-02, 1.12915571e-07]])"
      ]
     },
     "execution_count": 7,
     "metadata": {},
     "output_type": "execute_result"
    }
   ],
   "source": [
    "clf.predict_proba(xtest)"
   ]
  },
  {
   "cell_type": "markdown",
   "metadata": {},
   "source": []
  }
 ],
 "metadata": {
  "kernelspec": {
   "display_name": "Python 3 (ipykernel)",
   "language": "python",
   "name": "python3"
  },
  "language_info": {
   "codemirror_mode": {
    "name": "ipython",
    "version": 3
   },
   "file_extension": ".py",
   "mimetype": "text/x-python",
   "name": "python",
   "nbconvert_exporter": "python",
   "pygments_lexer": "ipython3",
   "version": "3.8.10"
  }
 },
 "nbformat": 4,
 "nbformat_minor": 4
}
