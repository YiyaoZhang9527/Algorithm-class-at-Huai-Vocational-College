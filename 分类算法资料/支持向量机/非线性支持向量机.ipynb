{
 "cells": [
  {
   "cell_type": "code",
   "execution_count": 2,
   "metadata": {},
   "outputs": [],
   "source": [
    "import numpy as np\n",
    "import pandas as pd\n",
    "import matplotlib.pyplot as plt\n",
    "import seaborn as sns\n",
    "import platform\n",
    "\n",
    "system = platform.system()\n",
    "if system == \"Linux\":\n",
    "    plt.rcParams['font.sans-serif'] = [\"Noto Sans CJK JP\"]\n",
    "elif system == \"Darwin\":\n",
    "    plt.rcParams['font.sans-serif'] = [\"Kaiti SC\"]\n",
    "plt.rcParams['axes.unicode_minus'] = False\n",
    "\n",
    "sns.set_style()"
   ]
  },
  {
   "cell_type": "code",
   "execution_count": 3,
   "metadata": {},
   "outputs": [
    {
     "data": {
      "text/html": [
       "<div>\n",
       "<style scoped>\n",
       "    .dataframe tbody tr th:only-of-type {\n",
       "        vertical-align: middle;\n",
       "    }\n",
       "\n",
       "    .dataframe tbody tr th {\n",
       "        vertical-align: top;\n",
       "    }\n",
       "\n",
       "    .dataframe thead th {\n",
       "        text-align: right;\n",
       "    }\n",
       "</style>\n",
       "<table border=\"1\" class=\"dataframe\">\n",
       "  <thead>\n",
       "    <tr style=\"text-align: right;\">\n",
       "      <th></th>\n",
       "      <th>年龄</th>\n",
       "      <th>兄弟姐妹/配偶的个数</th>\n",
       "      <th>父母/小孩个数</th>\n",
       "      <th>票价</th>\n",
       "      <th>1等舱</th>\n",
       "      <th>2等舱</th>\n",
       "      <th>3等舱</th>\n",
       "      <th>登船港口为空</th>\n",
       "      <th>登船为S港</th>\n",
       "      <th>登船为Q港</th>\n",
       "      <th>登船为nan港</th>\n",
       "      <th>女性</th>\n",
       "      <th>男性</th>\n",
       "      <th>index</th>\n",
       "      <th>是否生还</th>\n",
       "    </tr>\n",
       "  </thead>\n",
       "  <tbody>\n",
       "    <tr>\n",
       "      <th>0</th>\n",
       "      <td>22.0</td>\n",
       "      <td>1</td>\n",
       "      <td>0</td>\n",
       "      <td>7.2500</td>\n",
       "      <td>0.0</td>\n",
       "      <td>0.0</td>\n",
       "      <td>1.0</td>\n",
       "      <td>0.0</td>\n",
       "      <td>1.0</td>\n",
       "      <td>0.0</td>\n",
       "      <td>0.0</td>\n",
       "      <td>1.0</td>\n",
       "      <td>0.0</td>\n",
       "      <td>0</td>\n",
       "      <td>0</td>\n",
       "    </tr>\n",
       "    <tr>\n",
       "      <th>1</th>\n",
       "      <td>38.0</td>\n",
       "      <td>1</td>\n",
       "      <td>0</td>\n",
       "      <td>71.2833</td>\n",
       "      <td>1.0</td>\n",
       "      <td>0.0</td>\n",
       "      <td>0.0</td>\n",
       "      <td>1.0</td>\n",
       "      <td>0.0</td>\n",
       "      <td>0.0</td>\n",
       "      <td>0.0</td>\n",
       "      <td>0.0</td>\n",
       "      <td>1.0</td>\n",
       "      <td>1</td>\n",
       "      <td>1</td>\n",
       "    </tr>\n",
       "    <tr>\n",
       "      <th>2</th>\n",
       "      <td>26.0</td>\n",
       "      <td>0</td>\n",
       "      <td>0</td>\n",
       "      <td>7.9250</td>\n",
       "      <td>0.0</td>\n",
       "      <td>0.0</td>\n",
       "      <td>1.0</td>\n",
       "      <td>0.0</td>\n",
       "      <td>1.0</td>\n",
       "      <td>0.0</td>\n",
       "      <td>0.0</td>\n",
       "      <td>0.0</td>\n",
       "      <td>1.0</td>\n",
       "      <td>2</td>\n",
       "      <td>1</td>\n",
       "    </tr>\n",
       "    <tr>\n",
       "      <th>3</th>\n",
       "      <td>35.0</td>\n",
       "      <td>1</td>\n",
       "      <td>0</td>\n",
       "      <td>53.1000</td>\n",
       "      <td>1.0</td>\n",
       "      <td>0.0</td>\n",
       "      <td>0.0</td>\n",
       "      <td>0.0</td>\n",
       "      <td>1.0</td>\n",
       "      <td>0.0</td>\n",
       "      <td>0.0</td>\n",
       "      <td>0.0</td>\n",
       "      <td>1.0</td>\n",
       "      <td>3</td>\n",
       "      <td>1</td>\n",
       "    </tr>\n",
       "    <tr>\n",
       "      <th>4</th>\n",
       "      <td>35.0</td>\n",
       "      <td>0</td>\n",
       "      <td>0</td>\n",
       "      <td>8.0500</td>\n",
       "      <td>0.0</td>\n",
       "      <td>0.0</td>\n",
       "      <td>1.0</td>\n",
       "      <td>0.0</td>\n",
       "      <td>1.0</td>\n",
       "      <td>0.0</td>\n",
       "      <td>0.0</td>\n",
       "      <td>1.0</td>\n",
       "      <td>0.0</td>\n",
       "      <td>4</td>\n",
       "      <td>0</td>\n",
       "    </tr>\n",
       "  </tbody>\n",
       "</table>\n",
       "</div>"
      ],
      "text/plain": [
       "     年龄  兄弟姐妹/配偶的个数  父母/小孩个数       票价  1等舱  2等舱  3等舱  登船港口为空  登船为S港  登船为Q港  \\\n",
       "0  22.0           1        0   7.2500  0.0  0.0  1.0     0.0    1.0    0.0   \n",
       "1  38.0           1        0  71.2833  1.0  0.0  0.0     1.0    0.0    0.0   \n",
       "2  26.0           0        0   7.9250  0.0  0.0  1.0     0.0    1.0    0.0   \n",
       "3  35.0           1        0  53.1000  1.0  0.0  0.0     0.0    1.0    0.0   \n",
       "4  35.0           0        0   8.0500  0.0  0.0  1.0     0.0    1.0    0.0   \n",
       "\n",
       "   登船为nan港   女性   男性  index  是否生还  \n",
       "0      0.0  1.0  0.0      0     0  \n",
       "1      0.0  0.0  1.0      1     1  \n",
       "2      0.0  0.0  1.0      2     1  \n",
       "3      0.0  0.0  1.0      3     1  \n",
       "4      0.0  1.0  0.0      4     0  "
      ]
     },
     "execution_count": 3,
     "metadata": {},
     "output_type": "execute_result"
    }
   ],
   "source": [
    "data = pd.read_csv(\"titanic_features_table.csv\")\n",
    "data.head()"
   ]
  },
  {
   "cell_type": "code",
   "execution_count": 4,
   "metadata": {},
   "outputs": [
    {
     "data": {
      "text/plain": [
       "Index(['年龄', '兄弟姐妹/配偶的个数', '父母/小孩个数', '票价', '1等舱', '2等舱', '3等舱', '登船港口为空',\n",
       "       '登船为S港', '登船为Q港', '登船为nan港', '女性', '男性', 'index', '是否生还'],\n",
       "      dtype='object')"
      ]
     },
     "execution_count": 4,
     "metadata": {},
     "output_type": "execute_result"
    }
   ],
   "source": [
    "data.columns"
   ]
  },
  {
   "cell_type": "code",
   "execution_count": 5,
   "metadata": {},
   "outputs": [
    {
     "data": {
      "text/plain": [
       "((1309, 13), (1309,))"
      ]
     },
     "execution_count": 5,
     "metadata": {},
     "output_type": "execute_result"
    }
   ],
   "source": [
    "x = data[['年龄', '兄弟姐妹/配偶的个数', '父母/小孩个数', '票价', '1等舱', '2等舱', '3等舱', '登船港口为空',\n",
    "       '登船为S港', '登船为Q港', '登船为nan港', '女性', '男性']]\n",
    "y = data['是否生还']\n",
    "x.shape,y.shape"
   ]
  },
  {
   "cell_type": "code",
   "execution_count": 6,
   "metadata": {},
   "outputs": [],
   "source": [
    "from sklearn.model_selection import train_test_split\n",
    "from sklearn.metrics import accuracy_score\n",
    "from sklearn import svm\n",
    "\n",
    "x_train, x_test, y_train, y_test = train_test_split(x, y,test_size=0.3)\n"
   ]
  },
  {
   "cell_type": "code",
   "execution_count": 7,
   "metadata": {},
   "outputs": [
    {
     "data": {
      "text/plain": [
       "{0: 584, 1: 332}"
      ]
     },
     "execution_count": 7,
     "metadata": {},
     "output_type": "execute_result"
    }
   ],
   "source": [
    "class_weight_parameter={}\n",
    "for yt in y_train:\n",
    "    if yt in class_weight_parameter:\n",
    "        class_weight_parameter[yt]+=1 \n",
    "    else:\n",
    "        class_weight_parameter.update({yt:1})\n",
    "class_weight_parameter"
   ]
  },
  {
   "cell_type": "markdown",
   "metadata": {},
   "source": [
    "##### ‘poly’多项式, ‘rbf’ 拉普拉斯RBF核，RBF核也是一种高斯核，它对高维数据进行投影，然后寻找其线性分离。, ‘sigmoid’, ‘precomputed’"
   ]
  },
  {
   "cell_type": "code",
   "execution_count": null,
   "metadata": {},
   "outputs": [],
   "source": [
    "clf = svm.SVC(C=1.0\n",
    "            ,kernel='poly' # ‘poly’多项式, ‘rbf’ 拉普拉斯RBF核，RBF核也是一种高斯核，它对高维数据进行投影，然后寻找其线性分离。, ‘sigmoid’, ‘precomputed’\n",
    "            ,degree = 3 #多项式核函数的次数\n",
    "            ,gamma=\"auto\"#1/x.shape[-1]\n",
    "            ,cache_size = 400 #指定内核缓存的大小（以MB为单位）\n",
    "            ,tol=1e-3\n",
    "            ,class_weight=class_weight_parameter\n",
    "            ,coef0 =0.0 #浮点数，默认=0.0 核函数中的独立项。它只在' poly '和' sigmoid '中有意义。\n",
    "            # ,probability=True\n",
    "            ,max_iter=-1)\n",
    "\n",
    "clf.fit(x_train, y_train)\n",
    "prediction_y_svc = clf.predict(x_test)\n",
    "accuracy_score(y_test,prediction_y_svc)"
   ]
  },
  {
   "cell_type": "code",
   "execution_count": null,
   "metadata": {},
   "outputs": [],
   "source": []
  },
  {
   "cell_type": "code",
   "execution_count": null,
   "metadata": {},
   "outputs": [],
   "source": []
  },
  {
   "cell_type": "markdown",
   "metadata": {},
   "source": [
    "### 第二种方法实现非线性支持向量机"
   ]
  },
  {
   "cell_type": "code",
   "execution_count": 27,
   "metadata": {},
   "outputs": [
    {
     "data": {
      "text/plain": [
       "0.8371501272264631"
      ]
     },
     "execution_count": 27,
     "metadata": {},
     "output_type": "execute_result"
    }
   ],
   "source": [
    "clf = svm.NuSVC(nu=0.5 #边界误差分数的上限(参见用户指南)和支持向量分数的下限。区间限定在(0,1)内。\n",
    "                , kernel='rbf'\n",
    "                , degree=3\n",
    "                , gamma='scale'\n",
    "                , coef0=0.0\n",
    "                , shrinking=True\n",
    "                , probability=False\n",
    "                , tol=0.001\n",
    "                , cache_size=200\n",
    "                , class_weight=class_weight_parameter\n",
    "                , verbose=False\n",
    "                , max_iter=-1\n",
    "                , decision_function_shape='ovr'\n",
    "                , break_ties=False\n",
    "                , random_state=None)\n",
    "clf.fit(x_train,y_train)\n",
    "prediction_y_Lsvc = clf.predict(x_test)\n",
    "accuracy_score(y_test,prediction_y_Lsvc)\n"
   ]
  },
  {
   "cell_type": "code",
   "execution_count": 10,
   "metadata": {},
   "outputs": [
    {
     "data": {
      "image/png": "[encoded data removed]",
      "text/plain": [
       "<Figure size 432x288 with 1 Axes>"
      ]
     },
     "metadata": {
      "needs_background": "light"
     },
     "output_type": "display_data"
    }
   ],
   "source": [
    "import numpy as np\n",
    "import matplotlib.pyplot as plt\n",
    "from sklearn import datasets\n",
    "from sklearn import svm\n",
    "\n",
    "# 创建一些具有非线性特征的数据\n",
    "X, y = datasets.make_circles(n_samples=100, factor=0.5, noise=0.1)\n",
    "\n",
    "# 创建非线性SVM模型\n",
    "clf = svm.SVC(kernel='rbf')\n",
    "clf.fit(X, y)\n",
    "\n",
    "# 绘制数据点\n",
    "plt.scatter(X[:, 0], X[:, 1], c=y, cmap=plt.cm.Paired)\n",
    "\n",
    "# 绘制决策边界\n",
    "ax = plt.gca()\n",
    "xlim = ax.get_xlim()\n",
    "ylim = ax.get_ylim()\n",
    "\n",
    "# 创建网格来评估模型\n",
    "xx, yy = np.meshgrid(np.linspace(xlim[0], xlim[1], 50), np.linspace(ylim[0], ylim[1], 50))\n",
    "Z = clf.decision_function(np.c_[xx.ravel(), yy.ravel()])\n",
    "Z = Z.reshape(xx.shape)\n",
    "\n",
    "# 绘制决策边界和间隔\n",
    "plt.contourf(xx, yy, Z, cmap=plt.cm.coolwarm, alpha=0.8)\n",
    "plt.show()"
   ]
  },
  {
   "cell_type": "code",
   "execution_count": null,
   "metadata": {},
   "outputs": [],
   "source": []
  },
  {
   "cell_type": "code",
   "execution_count": null,
   "metadata": {},
   "outputs": [],
   "source": []
  }
 ],
 "metadata": {
  "kernelspec": {
   "display_name": "OpenCV37",
   "language": "python",
   "name": "opencv37"
  },
  "language_info": {
   "codemirror_mode": {
    "name": "ipython",
    "version": 3
   },
   "file_extension": ".py",
   "mimetype": "text/x-python",
   "name": "python",
   "nbconvert_exporter": "python",
   "pygments_lexer": "ipython3",
   "version": "3.7.16"
  }
 },
 "nbformat": 4,
 "nbformat_minor": 4
}
