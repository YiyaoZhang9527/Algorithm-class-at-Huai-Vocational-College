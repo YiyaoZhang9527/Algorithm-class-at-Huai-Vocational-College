{
 "cells": [
  {
   "cell_type": "code",
   "execution_count": 1,
   "metadata": {},
   "outputs": [
    {
     "name": "stderr",
     "output_type": "stream",
     "text": [
      "\n",
      "Bad key \"text.kerning_factor\" on line 4 in\n",
      "/Users/magu/anaconda3/envs/OpenCV37/lib/python3.7/site-packages/matplotlib/mpl-data/stylelib/_classic_test_patch.mplstyle.\n",
      "You probably need to get an updated matplotlibrc file from\n",
      "https://github.com/matplotlib/matplotlib/blob/v3.1.3/matplotlibrc.template\n",
      "or from the matplotlib source distribution\n"
     ]
    }
   ],
   "source": [
    "import numpy as np\n",
    "import pandas as pd\n",
    "import matplotlib.pyplot as plt\n",
    "import seaborn as sns\n",
    "import platform\n",
    "\n",
    "system = platform.system()\n",
    "if system == \"Linux\":\n",
    "    plt.rcParams['font.sans-serif'] = [\"Noto Sans CJK JP\"]\n",
    "elif system == \"Darwin\":\n",
    "    plt.rcParams['font.sans-serif'] = [\"Kaiti SC\"]\n",
    "plt.rcParams['axes.unicode_minus'] = False\n",
    "\n",
    "sns.set_style()"
   ]
  },
  {
   "cell_type": "markdown",
   "metadata": {},
   "source": [
    "#### 非线性支持向量机\n",
    "\n",
    "* ###### 非线性支持向量机的神奇之处在于，它可以帮助我们把不同形状的数据分开，像拼图一样。\n",
    "\n",
    "* ###### 有时，我们不能仅仅用一条直线分开这些数据，所以我们需要一些特殊的技巧，这就是非线性SVM的用武之地。\n",
    "\n",
    "##### 非线性SVM在很多情况下都非常有用，比如：\n",
    "\n",
    "* ###### 当数据不是线性分布的，也就是说，不能只用一条直线把它们分开。\n",
    "* ###### 当我们需要解决更复杂的问题，如图像识别或自然语言处理，这些问题通常不适合线性方法。\n",
    "* ###### 当我们希望用一种更复杂的方式来分隔数据，以获取更好的结果。\n",
    "* ###### 另外，非线性SVM的数学公式比较复杂，但我们可以简化为：它是一种方法，可以将数据映射到一个不同的空间，然后在那个空间中使用线性SVM。这个映射是通过一个叫做核函数来完成的。这个核函数通常表示为，它将原始数据和映射到一个新的空间。\n",
    "\n",
    "##### 下面是一个使用非线性SVM的Python案例，以帮助理解。\n",
    "\n",
    "* ##### 我们将使用支持向量机库svm中的SVC类，并使用径向基函数（RBF）核。"
   ]
  },
  {
   "cell_type": "code",
   "execution_count": 2,
   "metadata": {},
   "outputs": [
    {
     "data": {
      "text/html": [
       "<div>\n",
       "<style scoped>\n",
       "    .dataframe tbody tr th:only-of-type {\n",
       "        vertical-align: middle;\n",
       "    }\n",
       "\n",
       "    .dataframe tbody tr th {\n",
       "        vertical-align: top;\n",
       "    }\n",
       "\n",
       "    .dataframe thead th {\n",
       "        text-align: right;\n",
       "    }\n",
       "</style>\n",
       "<table border=\"1\" class=\"dataframe\">\n",
       "  <thead>\n",
       "    <tr style=\"text-align: right;\">\n",
       "      <th></th>\n",
       "      <th>年龄</th>\n",
       "      <th>兄弟姐妹/配偶的个数</th>\n",
       "      <th>父母/小孩个数</th>\n",
       "      <th>票价</th>\n",
       "      <th>1等舱</th>\n",
       "      <th>2等舱</th>\n",
       "      <th>3等舱</th>\n",
       "      <th>登船港口为空</th>\n",
       "      <th>登船为S港</th>\n",
       "      <th>登船为Q港</th>\n",
       "      <th>登船为nan港</th>\n",
       "      <th>女性</th>\n",
       "      <th>男性</th>\n",
       "      <th>index</th>\n",
       "      <th>是否生还</th>\n",
       "    </tr>\n",
       "  </thead>\n",
       "  <tbody>\n",
       "    <tr>\n",
       "      <th>0</th>\n",
       "      <td>22.0</td>\n",
       "      <td>1</td>\n",
       "      <td>0</td>\n",
       "      <td>7.2500</td>\n",
       "      <td>0.0</td>\n",
       "      <td>0.0</td>\n",
       "      <td>1.0</td>\n",
       "      <td>0.0</td>\n",
       "      <td>1.0</td>\n",
       "      <td>0.0</td>\n",
       "      <td>0.0</td>\n",
       "      <td>1.0</td>\n",
       "      <td>0.0</td>\n",
       "      <td>0</td>\n",
       "      <td>0</td>\n",
       "    </tr>\n",
       "    <tr>\n",
       "      <th>1</th>\n",
       "      <td>38.0</td>\n",
       "      <td>1</td>\n",
       "      <td>0</td>\n",
       "      <td>71.2833</td>\n",
       "      <td>1.0</td>\n",
       "      <td>0.0</td>\n",
       "      <td>0.0</td>\n",
       "      <td>1.0</td>\n",
       "      <td>0.0</td>\n",
       "      <td>0.0</td>\n",
       "      <td>0.0</td>\n",
       "      <td>0.0</td>\n",
       "      <td>1.0</td>\n",
       "      <td>1</td>\n",
       "      <td>1</td>\n",
       "    </tr>\n",
       "    <tr>\n",
       "      <th>2</th>\n",
       "      <td>26.0</td>\n",
       "      <td>0</td>\n",
       "      <td>0</td>\n",
       "      <td>7.9250</td>\n",
       "      <td>0.0</td>\n",
       "      <td>0.0</td>\n",
       "      <td>1.0</td>\n",
       "      <td>0.0</td>\n",
       "      <td>1.0</td>\n",
       "      <td>0.0</td>\n",
       "      <td>0.0</td>\n",
       "      <td>0.0</td>\n",
       "      <td>1.0</td>\n",
       "      <td>2</td>\n",
       "      <td>1</td>\n",
       "    </tr>\n",
       "    <tr>\n",
       "      <th>3</th>\n",
       "      <td>35.0</td>\n",
       "      <td>1</td>\n",
       "      <td>0</td>\n",
       "      <td>53.1000</td>\n",
       "      <td>1.0</td>\n",
       "      <td>0.0</td>\n",
       "      <td>0.0</td>\n",
       "      <td>0.0</td>\n",
       "      <td>1.0</td>\n",
       "      <td>0.0</td>\n",
       "      <td>0.0</td>\n",
       "      <td>0.0</td>\n",
       "      <td>1.0</td>\n",
       "      <td>3</td>\n",
       "      <td>1</td>\n",
       "    </tr>\n",
       "    <tr>\n",
       "      <th>4</th>\n",
       "      <td>35.0</td>\n",
       "      <td>0</td>\n",
       "      <td>0</td>\n",
       "      <td>8.0500</td>\n",
       "      <td>0.0</td>\n",
       "      <td>0.0</td>\n",
       "      <td>1.0</td>\n",
       "      <td>0.0</td>\n",
       "      <td>1.0</td>\n",
       "      <td>0.0</td>\n",
       "      <td>0.0</td>\n",
       "      <td>1.0</td>\n",
       "      <td>0.0</td>\n",
       "      <td>4</td>\n",
       "      <td>0</td>\n",
       "    </tr>\n",
       "  </tbody>\n",
       "</table>\n",
       "</div>"
      ],
      "text/plain": [
       "     年龄  兄弟姐妹/配偶的个数  父母/小孩个数       票价  1等舱  2等舱  3等舱  登船港口为空  登船为S港  登船为Q港  \\\n",
       "0  22.0           1        0   7.2500  0.0  0.0  1.0     0.0    1.0    0.0   \n",
       "1  38.0           1        0  71.2833  1.0  0.0  0.0     1.0    0.0    0.0   \n",
       "2  26.0           0        0   7.9250  0.0  0.0  1.0     0.0    1.0    0.0   \n",
       "3  35.0           1        0  53.1000  1.0  0.0  0.0     0.0    1.0    0.0   \n",
       "4  35.0           0        0   8.0500  0.0  0.0  1.0     0.0    1.0    0.0   \n",
       "\n",
       "   登船为nan港   女性   男性  index  是否生还  \n",
       "0      0.0  1.0  0.0      0     0  \n",
       "1      0.0  0.0  1.0      1     1  \n",
       "2      0.0  0.0  1.0      2     1  \n",
       "3      0.0  0.0  1.0      3     1  \n",
       "4      0.0  1.0  0.0      4     0  "
      ]
     },
     "execution_count": 2,
     "metadata": {},
     "output_type": "execute_result"
    }
   ],
   "source": [
    "data = pd.read_csv(\"titanic_features_table.csv\")\n",
    "data.head()"
   ]
  },
  {
   "cell_type": "code",
   "execution_count": 3,
   "metadata": {},
   "outputs": [
    {
     "data": {
      "text/plain": [
       "Index(['年龄', '兄弟姐妹/配偶的个数', '父母/小孩个数', '票价', '1等舱', '2等舱', '3等舱', '登船港口为空',\n",
       "       '登船为S港', '登船为Q港', '登船为nan港', '女性', '男性', 'index', '是否生还'],\n",
       "      dtype='object')"
      ]
     },
     "execution_count": 3,
     "metadata": {},
     "output_type": "execute_result"
    }
   ],
   "source": [
    "data.columns"
   ]
  },
  {
   "cell_type": "code",
   "execution_count": 4,
   "metadata": {},
   "outputs": [
    {
     "data": {
      "text/plain": [
       "((1309, 13), (1309,))"
      ]
     },
     "execution_count": 4,
     "metadata": {},
     "output_type": "execute_result"
    }
   ],
   "source": [
    "x = data[['年龄', '兄弟姐妹/配偶的个数', '父母/小孩个数', '票价', '1等舱', '2等舱', '3等舱', '登船港口为空',\n",
    "       '登船为S港', '登船为Q港', '登船为nan港', '女性', '男性']]\n",
    "y = data['是否生还']\n",
    "x.shape,y.shape"
   ]
  },
  {
   "cell_type": "code",
   "execution_count": 5,
   "metadata": {},
   "outputs": [],
   "source": [
    "from sklearn.model_selection import train_test_split\n",
    "from sklearn.metrics import accuracy_score\n",
    "from sklearn import svm\n",
    "\n",
    "x_train, x_test, y_train, y_test = train_test_split(x, y,test_size=0.3)\n"
   ]
  },
  {
   "cell_type": "code",
   "execution_count": 6,
   "metadata": {},
   "outputs": [
    {
     "data": {
      "text/plain": [
       "{0: 565, 1: 351}"
      ]
     },
     "execution_count": 6,
     "metadata": {},
     "output_type": "execute_result"
    }
   ],
   "source": [
    "class_weight_parameter={}\n",
    "for yt in y_train:\n",
    "    if yt in class_weight_parameter:\n",
    "        class_weight_parameter[yt]+=1 \n",
    "    else:\n",
    "        class_weight_parameter.update({yt:1})\n",
    "class_weight_parameter"
   ]
  },
  {
   "cell_type": "code",
   "execution_count": 7,
   "metadata": {},
   "outputs": [],
   "source": [
    "clf = svm.SVC(C=1.0\n",
    "            ,kernel='linear' #  ‘poly’多项式核函数, ‘rbf’, ‘sigmoid’, ‘precomputed’ 都是非线性核函数\n",
    "            ,gamma=\"auto\"#1/x.shape[-1]\n",
    "            ,tol=1e-3\n",
    "            ,class_weight=class_weight_parameter\n",
    "            ,cache_size = 400 #指定内核缓存的大小（以MB为单位\n",
    "            #,coef0 =0.0 #浮点数，默认=0.0 核函数中的独立项。它只在' poly '和' sigmoid '中有意义。\n",
    "            # ,probability=True\n",
    "            ,verbose= True\n",
    "            ,max_iter=-1\n",
    "            ,decision_function_shape='ovr'\n",
    "             )\n",
    "\n"
   ]
  },
  {
   "cell_type": "code",
   "execution_count": 8,
   "metadata": {},
   "outputs": [
    {
     "name": "stdout",
     "output_type": "stream",
     "text": [
      "[LibSVM]"
     ]
    },
    {
     "data": {
      "text/plain": [
       "SVC(cache_size=400, class_weight={0: 565, 1: 351}, gamma='auto',\n",
       "    kernel='linear', verbose=True)"
      ]
     },
     "execution_count": 8,
     "metadata": {},
     "output_type": "execute_result"
    }
   ],
   "source": [
    "clf.fit(x_train, y_train)"
   ]
  },
  {
   "cell_type": "code",
   "execution_count": 9,
   "metadata": {},
   "outputs": [
    {
     "data": {
      "text/plain": [
       "0.8524173027989822"
      ]
     },
     "execution_count": 9,
     "metadata": {},
     "output_type": "execute_result"
    }
   ],
   "source": [
    "prediction_y_svc = clf.predict(x_test)\n",
    "accuracy_score(y_test,prediction_y_svc)"
   ]
  },
  {
   "cell_type": "markdown",
   "metadata": {},
   "source": [
    "### 第二种方法实现线性支持向量机"
   ]
  },
  {
   "cell_type": "code",
   "execution_count": 10,
   "metadata": {},
   "outputs": [
    {
     "data": {
      "text/plain": [
       "0.8447837150127226"
      ]
     },
     "execution_count": 10,
     "metadata": {},
     "output_type": "execute_result"
    }
   ],
   "source": [
    "clf = svm.LinearSVC(\n",
    "    penalty='l2'\n",
    "    , loss='hinge'#'squared_hinge'\n",
    "    ,dual=True\n",
    "    , tol=0.0001\n",
    "    , C=1.0\n",
    "    , multi_class='ovr'\n",
    "    , fit_intercept=True\n",
    "    , intercept_scaling=1\n",
    "    , class_weight=None#class_weight_parameter\n",
    "    , verbose=0\n",
    "    , random_state=42\n",
    "    , max_iter=100000)\n",
    "clf.fit(x_train,y_train)\n",
    "prediction_y_Lsvc = clf.predict(x_test)\n",
    "accuracy_score(y_test,prediction_y_Lsvc)\n"
   ]
  },
  {
   "cell_type": "code",
   "execution_count": 11,
   "metadata": {},
   "outputs": [
    {
     "data": {
      "image/png": "[encoded data removed]",
      "text/plain": [
       "<Figure size 432x288 with 1 Axes>"
      ]
     },
     "metadata": {
      "needs_background": "light"
     },
     "output_type": "display_data"
    }
   ],
   "source": [
    "import numpy as np\n",
    "import matplotlib.pyplot as plt\n",
    "from sklearn import datasets\n",
    "from sklearn import svm\n",
    "\n",
    "# 生成一些随机数据\n",
    "X, y = datasets.make_classification(n_samples=100, n_features=2, n_classes=2, n_clusters_per_class=1, n_redundant=0)\n",
    "\n",
    "# 创建SVM模型\n",
    "clf = svm.SVC(kernel='linear')\n",
    "clf.fit(X, y)\n",
    "\n",
    "# 绘制数据点\n",
    "plt.scatter(X[:, 0], X[:, 1], c=y, cmap=plt.cm.Paired)\n",
    "\n",
    "# 绘制决策边界\n",
    "ax = plt.gca()\n",
    "xlim = ax.get_xlim()\n",
    "ylim = ax.get_ylim()\n",
    "\n",
    "# 创建网格来评估模型\n",
    "xx, yy = np.meshgrid(np.linspace(xlim[0], xlim[1], 50), np.linspace(ylim[0], ylim[1], 50))\n",
    "Z = clf.decision_function(np.c_[xx.ravel(), yy.ravel()])\n",
    "Z = Z.reshape(xx.shape)\n",
    "\n",
    "# 绘制决策边界和间隔\n",
    "plt.contour(xx, yy, Z, colors='k', levels=[-1, 0, 1], alpha=0.5, linestyles=['--', '-', '--'])\n",
    "plt.show()"
   ]
  },
  {
   "cell_type": "code",
   "execution_count": null,
   "metadata": {},
   "outputs": [],
   "source": []
  },
  {
   "cell_type": "code",
   "execution_count": null,
   "metadata": {},
   "outputs": [],
   "source": []
  }
 ],
 "metadata": {
  "kernelspec": {
   "display_name": "OpenCV37",
   "language": "python",
   "name": "opencv37"
  },
  "language_info": {
   "codemirror_mode": {
    "name": "ipython",
    "version": 3
   },
   "file_extension": ".py",
   "mimetype": "text/x-python",
   "name": "python",
   "nbconvert_exporter": "python",
   "pygments_lexer": "ipython3",
   "version": "3.7.16"
  }
 },
 "nbformat": 4,
 "nbformat_minor": 4
}
