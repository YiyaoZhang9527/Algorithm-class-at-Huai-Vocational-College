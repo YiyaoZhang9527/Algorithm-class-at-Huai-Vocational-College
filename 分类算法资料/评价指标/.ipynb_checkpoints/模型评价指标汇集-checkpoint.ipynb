{
 "cells": [
  {
   "cell_type": "code",
   "execution_count": 1,
   "id": "42eb3be5",
   "metadata": {},
   "outputs": [],
   "source": [
    "import numpy as np\n",
    "import pandas as pd\n",
    "import matplotlib.pyplot as plt\n",
    "import seaborn as sns\n",
    "sns.set_style()"
   ]
  },
  {
   "cell_type": "code",
   "execution_count": 2,
   "id": "ed376741",
   "metadata": {},
   "outputs": [
    {
     "data": {
      "text/html": [
       "<div>\n",
       "<style scoped>\n",
       "    .dataframe tbody tr th:only-of-type {\n",
       "        vertical-align: middle;\n",
       "    }\n",
       "\n",
       "    .dataframe tbody tr th {\n",
       "        vertical-align: top;\n",
       "    }\n",
       "\n",
       "    .dataframe thead th {\n",
       "        text-align: right;\n",
       "    }\n",
       "</style>\n",
       "<table border=\"1\" class=\"dataframe\">\n",
       "  <thead>\n",
       "    <tr style=\"text-align: right;\">\n",
       "      <th></th>\n",
       "      <th>年龄</th>\n",
       "      <th>兄弟姐妹/配偶的个数</th>\n",
       "      <th>父母/小孩个数</th>\n",
       "      <th>票价</th>\n",
       "      <th>1等舱</th>\n",
       "      <th>2等舱</th>\n",
       "      <th>3等舱</th>\n",
       "      <th>登船港口为空</th>\n",
       "      <th>登船为S港</th>\n",
       "      <th>登船为Q港</th>\n",
       "      <th>登船为nan港</th>\n",
       "      <th>女性</th>\n",
       "      <th>男性</th>\n",
       "      <th>index</th>\n",
       "      <th>是否生还</th>\n",
       "    </tr>\n",
       "  </thead>\n",
       "  <tbody>\n",
       "    <tr>\n",
       "      <th>0</th>\n",
       "      <td>22.0</td>\n",
       "      <td>1</td>\n",
       "      <td>0</td>\n",
       "      <td>7.2500</td>\n",
       "      <td>0.0</td>\n",
       "      <td>0.0</td>\n",
       "      <td>1.0</td>\n",
       "      <td>0.0</td>\n",
       "      <td>1.0</td>\n",
       "      <td>0.0</td>\n",
       "      <td>0.0</td>\n",
       "      <td>1.0</td>\n",
       "      <td>0.0</td>\n",
       "      <td>0</td>\n",
       "      <td>0</td>\n",
       "    </tr>\n",
       "    <tr>\n",
       "      <th>1</th>\n",
       "      <td>38.0</td>\n",
       "      <td>1</td>\n",
       "      <td>0</td>\n",
       "      <td>71.2833</td>\n",
       "      <td>1.0</td>\n",
       "      <td>0.0</td>\n",
       "      <td>0.0</td>\n",
       "      <td>1.0</td>\n",
       "      <td>0.0</td>\n",
       "      <td>0.0</td>\n",
       "      <td>0.0</td>\n",
       "      <td>0.0</td>\n",
       "      <td>1.0</td>\n",
       "      <td>1</td>\n",
       "      <td>1</td>\n",
       "    </tr>\n",
       "    <tr>\n",
       "      <th>2</th>\n",
       "      <td>26.0</td>\n",
       "      <td>0</td>\n",
       "      <td>0</td>\n",
       "      <td>7.9250</td>\n",
       "      <td>0.0</td>\n",
       "      <td>0.0</td>\n",
       "      <td>1.0</td>\n",
       "      <td>0.0</td>\n",
       "      <td>1.0</td>\n",
       "      <td>0.0</td>\n",
       "      <td>0.0</td>\n",
       "      <td>0.0</td>\n",
       "      <td>1.0</td>\n",
       "      <td>2</td>\n",
       "      <td>1</td>\n",
       "    </tr>\n",
       "    <tr>\n",
       "      <th>3</th>\n",
       "      <td>35.0</td>\n",
       "      <td>1</td>\n",
       "      <td>0</td>\n",
       "      <td>53.1000</td>\n",
       "      <td>1.0</td>\n",
       "      <td>0.0</td>\n",
       "      <td>0.0</td>\n",
       "      <td>0.0</td>\n",
       "      <td>1.0</td>\n",
       "      <td>0.0</td>\n",
       "      <td>0.0</td>\n",
       "      <td>0.0</td>\n",
       "      <td>1.0</td>\n",
       "      <td>3</td>\n",
       "      <td>1</td>\n",
       "    </tr>\n",
       "    <tr>\n",
       "      <th>4</th>\n",
       "      <td>35.0</td>\n",
       "      <td>0</td>\n",
       "      <td>0</td>\n",
       "      <td>8.0500</td>\n",
       "      <td>0.0</td>\n",
       "      <td>0.0</td>\n",
       "      <td>1.0</td>\n",
       "      <td>0.0</td>\n",
       "      <td>1.0</td>\n",
       "      <td>0.0</td>\n",
       "      <td>0.0</td>\n",
       "      <td>1.0</td>\n",
       "      <td>0.0</td>\n",
       "      <td>4</td>\n",
       "      <td>0</td>\n",
       "    </tr>\n",
       "    <tr>\n",
       "      <th>...</th>\n",
       "      <td>...</td>\n",
       "      <td>...</td>\n",
       "      <td>...</td>\n",
       "      <td>...</td>\n",
       "      <td>...</td>\n",
       "      <td>...</td>\n",
       "      <td>...</td>\n",
       "      <td>...</td>\n",
       "      <td>...</td>\n",
       "      <td>...</td>\n",
       "      <td>...</td>\n",
       "      <td>...</td>\n",
       "      <td>...</td>\n",
       "      <td>...</td>\n",
       "      <td>...</td>\n",
       "    </tr>\n",
       "    <tr>\n",
       "      <th>1304</th>\n",
       "      <td>0.0</td>\n",
       "      <td>0</td>\n",
       "      <td>0</td>\n",
       "      <td>8.0500</td>\n",
       "      <td>0.0</td>\n",
       "      <td>0.0</td>\n",
       "      <td>1.0</td>\n",
       "      <td>0.0</td>\n",
       "      <td>1.0</td>\n",
       "      <td>0.0</td>\n",
       "      <td>0.0</td>\n",
       "      <td>1.0</td>\n",
       "      <td>0.0</td>\n",
       "      <td>413</td>\n",
       "      <td>0</td>\n",
       "    </tr>\n",
       "    <tr>\n",
       "      <th>1305</th>\n",
       "      <td>39.0</td>\n",
       "      <td>0</td>\n",
       "      <td>0</td>\n",
       "      <td>108.9000</td>\n",
       "      <td>1.0</td>\n",
       "      <td>0.0</td>\n",
       "      <td>0.0</td>\n",
       "      <td>1.0</td>\n",
       "      <td>0.0</td>\n",
       "      <td>0.0</td>\n",
       "      <td>0.0</td>\n",
       "      <td>0.0</td>\n",
       "      <td>1.0</td>\n",
       "      <td>414</td>\n",
       "      <td>1</td>\n",
       "    </tr>\n",
       "    <tr>\n",
       "      <th>1306</th>\n",
       "      <td>38.5</td>\n",
       "      <td>0</td>\n",
       "      <td>0</td>\n",
       "      <td>7.2500</td>\n",
       "      <td>0.0</td>\n",
       "      <td>0.0</td>\n",
       "      <td>1.0</td>\n",
       "      <td>0.0</td>\n",
       "      <td>1.0</td>\n",
       "      <td>0.0</td>\n",
       "      <td>0.0</td>\n",
       "      <td>1.0</td>\n",
       "      <td>0.0</td>\n",
       "      <td>415</td>\n",
       "      <td>0</td>\n",
       "    </tr>\n",
       "    <tr>\n",
       "      <th>1307</th>\n",
       "      <td>0.0</td>\n",
       "      <td>0</td>\n",
       "      <td>0</td>\n",
       "      <td>8.0500</td>\n",
       "      <td>0.0</td>\n",
       "      <td>0.0</td>\n",
       "      <td>1.0</td>\n",
       "      <td>0.0</td>\n",
       "      <td>1.0</td>\n",
       "      <td>0.0</td>\n",
       "      <td>0.0</td>\n",
       "      <td>1.0</td>\n",
       "      <td>0.0</td>\n",
       "      <td>416</td>\n",
       "      <td>0</td>\n",
       "    </tr>\n",
       "    <tr>\n",
       "      <th>1308</th>\n",
       "      <td>0.0</td>\n",
       "      <td>1</td>\n",
       "      <td>1</td>\n",
       "      <td>22.3583</td>\n",
       "      <td>0.0</td>\n",
       "      <td>0.0</td>\n",
       "      <td>1.0</td>\n",
       "      <td>1.0</td>\n",
       "      <td>0.0</td>\n",
       "      <td>0.0</td>\n",
       "      <td>0.0</td>\n",
       "      <td>1.0</td>\n",
       "      <td>0.0</td>\n",
       "      <td>417</td>\n",
       "      <td>0</td>\n",
       "    </tr>\n",
       "  </tbody>\n",
       "</table>\n",
       "<p>1309 rows × 15 columns</p>\n",
       "</div>"
      ],
      "text/plain": [
       "        年龄  兄弟姐妹/配偶的个数  父母/小孩个数        票价  1等舱  2等舱  3等舱  登船港口为空  登船为S港  \\\n",
       "0     22.0           1        0    7.2500  0.0  0.0  1.0     0.0    1.0   \n",
       "1     38.0           1        0   71.2833  1.0  0.0  0.0     1.0    0.0   \n",
       "2     26.0           0        0    7.9250  0.0  0.0  1.0     0.0    1.0   \n",
       "3     35.0           1        0   53.1000  1.0  0.0  0.0     0.0    1.0   \n",
       "4     35.0           0        0    8.0500  0.0  0.0  1.0     0.0    1.0   \n",
       "...    ...         ...      ...       ...  ...  ...  ...     ...    ...   \n",
       "1304   0.0           0        0    8.0500  0.0  0.0  1.0     0.0    1.0   \n",
       "1305  39.0           0        0  108.9000  1.0  0.0  0.0     1.0    0.0   \n",
       "1306  38.5           0        0    7.2500  0.0  0.0  1.0     0.0    1.0   \n",
       "1307   0.0           0        0    8.0500  0.0  0.0  1.0     0.0    1.0   \n",
       "1308   0.0           1        1   22.3583  0.0  0.0  1.0     1.0    0.0   \n",
       "\n",
       "      登船为Q港  登船为nan港   女性   男性  index  是否生还  \n",
       "0       0.0      0.0  1.0  0.0      0     0  \n",
       "1       0.0      0.0  0.0  1.0      1     1  \n",
       "2       0.0      0.0  0.0  1.0      2     1  \n",
       "3       0.0      0.0  0.0  1.0      3     1  \n",
       "4       0.0      0.0  1.0  0.0      4     0  \n",
       "...     ...      ...  ...  ...    ...   ...  \n",
       "1304    0.0      0.0  1.0  0.0    413     0  \n",
       "1305    0.0      0.0  0.0  1.0    414     1  \n",
       "1306    0.0      0.0  1.0  0.0    415     0  \n",
       "1307    0.0      0.0  1.0  0.0    416     0  \n",
       "1308    0.0      0.0  1.0  0.0    417     0  \n",
       "\n",
       "[1309 rows x 15 columns]"
      ]
     },
     "execution_count": 2,
     "metadata": {},
     "output_type": "execute_result"
    }
   ],
   "source": [
    "table = pd.read_csv(\"titanic_features_table.csv\")\n",
    "table"
   ]
  },
  {
   "cell_type": "code",
   "execution_count": 3,
   "id": "0b28df29",
   "metadata": {},
   "outputs": [
    {
     "data": {
      "text/plain": [
       "Index(['年龄', '兄弟姐妹/配偶的个数', '父母/小孩个数', '票价', '1等舱', '2等舱', '3等舱', '登船港口为空',\n",
       "       '登船为S港', '登船为Q港', '登船为nan港', '女性', '男性', 'index', '是否生还'],\n",
       "      dtype='object')"
      ]
     },
     "execution_count": 3,
     "metadata": {},
     "output_type": "execute_result"
    }
   ],
   "source": [
    "table.columns"
   ]
  },
  {
   "cell_type": "code",
   "execution_count": 4,
   "id": "d7e2bf30",
   "metadata": {},
   "outputs": [],
   "source": [
    "X = np.matrix(table[['年龄', '兄弟姐妹/配偶的个数', '父母/小孩个数', '票价', '1等舱', '2等舱', '3等舱', '登船港口为空',\n",
    "       '登船为S港', '登船为Q港', '登船为nan港', '女性', '男性', 'index']])\n",
    "Y = np.matrix(table[['是否生还']])"
   ]
  },
  {
   "cell_type": "code",
   "execution_count": 5,
   "id": "1c75fc9e",
   "metadata": {},
   "outputs": [],
   "source": [
    "from sklearn.model_selection import train_test_split\n",
    "train_X,test_x,train_Y,test_y = train_test_split(X,Y,test_size=0.3193,random_state=42)"
   ]
  },
  {
   "cell_type": "code",
   "execution_count": 31,
   "id": "4bd2b605",
   "metadata": {},
   "outputs": [
    {
     "name": "stdout",
     "output_type": "stream",
     "text": [
      "[0]\ttrain-auc:0.85632\n",
      "[1]\ttrain-auc:0.88502\n",
      "[2]\ttrain-auc:0.88412\n",
      "[3]\ttrain-auc:0.88487\n",
      "[4]\ttrain-auc:0.89976\n",
      "[5]\ttrain-auc:0.90031\n",
      "[6]\ttrain-auc:0.91592\n",
      "[7]\ttrain-auc:0.91631\n",
      "[8]\ttrain-auc:0.92370\n",
      "[9]\ttrain-auc:0.92901\n",
      "[10]\ttrain-auc:0.93201\n",
      "[11]\ttrain-auc:0.93607\n",
      "[12]\ttrain-auc:0.93635\n",
      "[13]\ttrain-auc:0.94257\n",
      "[14]\ttrain-auc:0.94351\n",
      "[15]\ttrain-auc:0.94740\n",
      "[16]\ttrain-auc:0.95094\n",
      "[17]\ttrain-auc:0.95234\n",
      "[18]\ttrain-auc:0.95399\n",
      "[19]\ttrain-auc:0.95518\n",
      "[20]\ttrain-auc:0.95680\n",
      "[21]\ttrain-auc:0.95700\n",
      "[22]\ttrain-auc:0.96093\n",
      "[23]\ttrain-auc:0.96335\n",
      "[24]\ttrain-auc:0.96506\n",
      "[25]\ttrain-auc:0.96569\n",
      "[26]\ttrain-auc:0.96740\n",
      "[27]\ttrain-auc:0.96825\n",
      "[28]\ttrain-auc:0.96899\n",
      "[29]\ttrain-auc:0.97008\n",
      "[30]\ttrain-auc:0.97060\n",
      "[31]\ttrain-auc:0.97189\n",
      "[32]\ttrain-auc:0.97197\n",
      "[33]\ttrain-auc:0.97342\n",
      "[34]\ttrain-auc:0.97385\n",
      "[35]\ttrain-auc:0.97456\n",
      "[36]\ttrain-auc:0.97522\n",
      "[37]\ttrain-auc:0.97595\n",
      "[38]\ttrain-auc:0.97630\n",
      "[39]\ttrain-auc:0.97716\n",
      "[40]\ttrain-auc:0.97786\n",
      "[41]\ttrain-auc:0.97826\n",
      "[42]\ttrain-auc:0.97873\n",
      "[43]\ttrain-auc:0.97923\n",
      "[44]\ttrain-auc:0.97989\n",
      "[45]\ttrain-auc:0.98062\n",
      "[46]\ttrain-auc:0.98098\n",
      "[47]\ttrain-auc:0.98128\n",
      "[48]\ttrain-auc:0.98168\n",
      "[49]\ttrain-auc:0.98215\n",
      "[50]\ttrain-auc:0.98249\n",
      "[51]\ttrain-auc:0.98312\n",
      "[52]\ttrain-auc:0.98388\n",
      "[53]\ttrain-auc:0.98435\n",
      "[54]\ttrain-auc:0.98462\n",
      "[55]\ttrain-auc:0.98483\n",
      "[56]\ttrain-auc:0.98524\n",
      "[57]\ttrain-auc:0.98542\n",
      "[58]\ttrain-auc:0.98585\n",
      "[59]\ttrain-auc:0.98635\n",
      "[60]\ttrain-auc:0.98693\n",
      "[61]\ttrain-auc:0.98756\n",
      "[62]\ttrain-auc:0.98798\n",
      "[63]\ttrain-auc:0.98838\n",
      "[64]\ttrain-auc:0.98874\n",
      "[65]\ttrain-auc:0.98879\n",
      "[66]\ttrain-auc:0.98905\n",
      "[67]\ttrain-auc:0.98934\n",
      "[68]\ttrain-auc:0.98975\n",
      "[69]\ttrain-auc:0.98991\n",
      "[70]\ttrain-auc:0.99013\n",
      "[71]\ttrain-auc:0.99026\n",
      "[72]\ttrain-auc:0.99049\n",
      "[73]\ttrain-auc:0.99081\n",
      "[74]\ttrain-auc:0.99100\n",
      "[75]\ttrain-auc:0.99133\n",
      "[76]\ttrain-auc:0.99163\n",
      "[77]\ttrain-auc:0.99179\n",
      "[78]\ttrain-auc:0.99212\n",
      "[79]\ttrain-auc:0.99221\n",
      "[80]\ttrain-auc:0.99241\n",
      "[81]\ttrain-auc:0.99248\n",
      "[82]\ttrain-auc:0.99267\n",
      "[83]\ttrain-auc:0.99281\n",
      "[84]\ttrain-auc:0.99299\n",
      "[85]\ttrain-auc:0.99314\n",
      "[86]\ttrain-auc:0.99328\n",
      "[87]\ttrain-auc:0.99347\n",
      "[88]\ttrain-auc:0.99355\n",
      "[89]\ttrain-auc:0.99376\n",
      "[90]\ttrain-auc:0.99376\n",
      "[91]\ttrain-auc:0.99401\n",
      "[92]\ttrain-auc:0.99420\n",
      "[93]\ttrain-auc:0.99440\n",
      "[94]\ttrain-auc:0.99451\n",
      "[95]\ttrain-auc:0.99457\n",
      "[96]\ttrain-auc:0.99476\n",
      "[97]\ttrain-auc:0.99495\n",
      "[98]\ttrain-auc:0.99505\n",
      "[99]\ttrain-auc:0.99517\n"
     ]
    }
   ],
   "source": [
    "import xgboost as xgb\n",
    "\n",
    "\n",
    "gamma = 0\n",
    "### 自动计算alpha值的取值范围 取负例的比例\n",
    "alpha = (train_Y==0).sum()/train_Y.size\n",
    "\n",
    "def logistic_obj(p, dtrain):\n",
    "    y = dtrain.get_label()\n",
    "    p = 1.0 / (1.0 + np.exp(-p))\n",
    "    grad = p * (1 - p) * (alpha * gamma * y * (1 - p) ** gamma * np.log(p) / (1 - p) - alpha * y * (\n",
    "                1 - p) ** gamma / p - gamma * p ** gamma * (1 - alpha) * (1 - y) * np.log(1 - p) / p + p ** gamma * (\n",
    "                                      1 - alpha) * (1 - y) / (1 - p))\n",
    "    hess = p * (1 - p) * (p * (1 - p) * (\n",
    "                -alpha * gamma ** 2 * y * (1 - p) ** gamma * np.log(p) / (1 - p) ** 2 + alpha * gamma * y * (\n",
    "                    1 - p) ** gamma * np.log(p) / (1 - p) ** 2 + 2 * alpha * gamma * y * (1 - p) ** gamma / (\n",
    "                            p * (1 - p)) + alpha * y * (1 - p) ** gamma / p ** 2 - gamma ** 2 * p ** gamma * (\n",
    "                            1 - alpha) * (1 - y) * np.log(1 - p) / p ** 2 + 2 * gamma * p ** gamma * (1 - alpha) * (\n",
    "                            1 - y) / (p * (1 - p)) + gamma * p ** gamma * (1 - alpha) * (1 - y) * np.log(\n",
    "            1 - p) / p ** 2 + p ** gamma * (1 - alpha) * (1 - y) / (1 - p) ** 2) - p * (\n",
    "                                      alpha * gamma * y * (1 - p) ** gamma * np.log(p) / (1 - p) - alpha * y * (\n",
    "                                          1 - p) ** gamma / p - gamma * p ** gamma * (1 - alpha) * (1 - y) * np.log(\n",
    "                                  1 - p) / p + p ** gamma * (1 - alpha) * (1 - y) / (1 - p)) + (1 - p) * (\n",
    "                                      alpha * gamma * y * (1 - p) ** gamma * np.log(p) / (1 - p) - alpha * y * (\n",
    "                                          1 - p) ** gamma / p - gamma * p ** gamma * (1 - alpha) * (1 - y) * np.log(\n",
    "                                  1 - p) / p + p ** gamma * (1 - alpha) * (1 - y) / (1 - p)))\n",
    "    return grad, hess\n",
    "\n",
    "params = { \"learning_rate\":0.1\n",
    "#               , \"n_estimators\":11 #即基评估器的数量。这个参数对随机森林模型的精确性影响是单调的，n_estimators越 大，模型的效果往往越好。但是相应的，任何模型都有决策边  n_estimators达到一定的程度之后，随机森林的 精确性往往不在上升或开始波动，并且，n_estimators越大，需要的计算量和内存也越大，训练的时间也会越来越 长。对于这个参数，我们是渴望在训练难度和模型效果之间取得平衡。\n",
    "               , \"max_depth\":12 #构建树的深度，越大越容易过拟合\n",
    "               , \"min_child_weight\":0.8 #孩子节点中最小的样本权重和。如果一个叶子节点的样本权重和小于min_child_weight则拆分过程结束\n",
    "#                , \"num_class \":1#类别数，与 multisoftmax 并用\n",
    "                , \"gamma\":0 #损失下降多少才进行分裂， 控制叶子节点的个数\n",
    "               , \"subsample\":0.8 #随机采样训练样本\n",
    "               , \"colsample_bytree\":1 #生成树时进行的列采样\n",
    "#                , \"objective\":'binary:logistic' # {'binary:logistic'}是二分类的问题，{'multi:softmax',}是多分类的问题 这个是优化目标，必须得有，因为xgboost里面有求一阶导数和二阶导数，其实就是这个。\n",
    "               , \"nthread\":4 #cpu 线程数\n",
    "               , \"scale_pos_weight\":1.0 #负样本总数/正样本总数 。若训练负样本总数是500 ，正样本总数100，那么设置 scale_pos_weigh为 5\n",
    "#               , \"lambda_weight\":2 # 正则化参数\n",
    "               , \"eta\":0.001 # 如同学习率\n",
    "               , \"max_delta_step\":1.0 # 如果你关心预测正确的概率,在这种情况下，您无法重新平衡数据集,将参数max_delta_step设置为有限数（例如1）以帮助收敛\n",
    "#              \n",
    "#                , metrics='auc'#运行时显示\n",
    "               , \"eval_metric\":\"auc\"\n",
    "#               , \"silent \": 0 # ,设置成1则没有运行信息输出，最好是设置为0.\n",
    "               , \"seed\":27\n",
    "        }\n",
    "dtrain = xgb.DMatrix(train_X,label=train_Y)\n",
    "dtest = xgb.DMatrix(test_x,label=test_y)\n",
    "clf = xgb.train(params=params,dtrain=dtrain,num_boost_round=100,evals=[(dtrain,\"train\")],verbose_eval=True,obj=logistic_obj)"
   ]
  },
  {
   "cell_type": "markdown",
   "id": "75477bf1",
   "metadata": {},
   "source": [
    "## 2. AUC 指标\n",
    "### 手动计算auc得分\n",
    "#### 首先要明白ＡＵＣ的物理含义不仅是ＲＯＣ曲线下的面积，ＡＵＣ还有另外一个物理含义就是：给定正样本Ｍ个，负样本Ｎ个，以及他们的预测概率（０－１）之间，那么ＡＵＣ的含义就是所有穷举所有的正负样本对，如果正样本的预测概率大于负样本的预测概率，那么就＋１；如果如果正样本的预测概率等于负样本的预测概率，那么就＋0.5,　如果正样本的预测概率小于负样本的预测概率，那么就＋０；最后把统计处理的个数除以Ｍ×Ｎ就得到我们的ＡＵＣ，公式描述如下：\n",
    "## $ \\frac{\\sum{I(P_{正样本},P_{负样本})}}{m*n}$"
   ]
  },
  {
   "cell_type": "code",
   "execution_count": 24,
   "id": "34980740",
   "metadata": {},
   "outputs": [],
   "source": [
    "def AUC(label, pre):\n",
    "    pos = [i for i in range(len(label)) if label[i] == 1]\n",
    "    neg = [i for i in range(len(label)) if label[i] == 0]\n",
    "    #计算正样本和负样本的索引，以便索引出之后的概率值\n",
    "    auc = 0\n",
    "    for i in pos:\n",
    "        for j in neg:\n",
    "            if pre[i] > pre[j]:\n",
    "                auc += 1\n",
    "            elif pre[i] == pre[j]:\n",
    "                auc += 0.5\n",
    "    return auc / (len(pos)*len(neg))"
   ]
  },
  {
   "cell_type": "code",
   "execution_count": 25,
   "id": "b24401ce",
   "metadata": {},
   "outputs": [
    {
     "data": {
      "text/plain": [
       "418"
      ]
     },
     "execution_count": 25,
     "metadata": {},
     "output_type": "execute_result"
    }
   ],
   "source": [
    "scores = []\n",
    "probs = []\n",
    "predict_proba = np.array(clf.predict(dtest))\n",
    "for prob in np.arange(0.1,1,0.01):\n",
    "    predict_y = (predict_proba>prob).astype(int)\n",
    "    accuracy = (test_y==predict_y).sum()/predict_proba.size\n",
    "    scores.append(accuracy)\n",
    "    probs.append(prob)\n",
    "\n",
    "max_prob = probs[scores.index(max(scores))]\n",
    "predict_y = np.array([pr>max_prob and 1 or 0 for pr in predict_y])\n",
    "predict_y.size"
   ]
  },
  {
   "cell_type": "code",
   "execution_count": 26,
   "id": "480340bb",
   "metadata": {},
   "outputs": [
    {
     "data": {
      "text/plain": [
       "0.9224885262621112"
      ]
     },
     "execution_count": 26,
     "metadata": {},
     "output_type": "execute_result"
    }
   ],
   "source": [
    "AUC(test_y,predict_proba)"
   ]
  },
  {
   "cell_type": "markdown",
   "id": "dfd3a8bc",
   "metadata": {},
   "source": [
    "### scikit-learn 计算auc"
   ]
  },
  {
   "cell_type": "code",
   "execution_count": 27,
   "id": "45acb7a7",
   "metadata": {},
   "outputs": [
    {
     "data": {
      "text/plain": [
       "'auc得分：0.9224885262621112'"
      ]
     },
     "execution_count": 27,
     "metadata": {},
     "output_type": "execute_result"
    }
   ],
   "source": [
    "from sklearn.metrics import roc_curve\n",
    "[fpr,tpr,thr]=roc_curve(np.ravel(test_y),predict_proba)\n",
    "from sklearn.metrics import auc\n",
    "f\"auc得分：{auc(fpr,tpr)}\""
   ]
  },
  {
   "cell_type": "markdown",
   "id": "ffe3b589",
   "metadata": {},
   "source": [
    "* ## 3 准确率计算"
   ]
  },
  {
   "cell_type": "code",
   "execution_count": 28,
   "id": "32ecea97",
   "metadata": {},
   "outputs": [
    {
     "data": {
      "text/plain": [
       "'accuracy得分返回正确分类的比率：0.8755980861244019'"
      ]
     },
     "execution_count": 28,
     "metadata": {},
     "output_type": "execute_result"
    }
   ],
   "source": [
    "from sklearn.metrics import accuracy_score\n",
    "f\"accuracy得分返回正确分类的比率：{accuracy_score(np.ravel(test_y),predict_y)}\""
   ]
  },
  {
   "cell_type": "markdown",
   "id": "ec75c8c3",
   "metadata": {},
   "source": [
    "#### 3.2 手动计算准确率 \n",
    "#### $ \\frac{\\sum_{n}{Y_{i}=P_{i}}}{n} $ "
   ]
  },
  {
   "cell_type": "code",
   "execution_count": 29,
   "id": "0a518811",
   "metadata": {},
   "outputs": [
    {
     "data": {
      "text/plain": [
       "0.8755980861244019"
      ]
     },
     "execution_count": 29,
     "metadata": {},
     "output_type": "execute_result"
    }
   ],
   "source": [
    "def accuracy(lable,predict):\n",
    "    m = len(predict)\n",
    "    return (np.ravel(lable)==np.ravel(predict)).sum()/m\n",
    "\n",
    "accuracy(test_y,predict_y)"
   ]
  },
  {
   "cell_type": "markdown",
   "id": "92aac9b5",
   "metadata": {},
   "source": [
    "* ### 4. log loss"
   ]
  },
  {
   "cell_type": "code",
   "execution_count": 32,
   "id": "5d47ce53",
   "metadata": {},
   "outputs": [
    {
     "data": {
      "text/plain": [
       "'log loss得分：1.6320749461427508'"
      ]
     },
     "execution_count": 32,
     "metadata": {},
     "output_type": "execute_result"
    }
   ],
   "source": [
    "from sklearn.metrics import log_loss\n",
    "\n",
    "f\"log loss得分：{log_loss(np.ravel(test_y),predict_proba)}\""
   ]
  },
  {
   "cell_type": "markdown",
   "id": "bca12d87",
   "metadata": {},
   "source": [
    "* ## 5.F1-Score\n",
    "\n",
    "### 5.1 \n",
    "### $ TP(真阳性) = 真实值为1，预测值也为1的数量 $ \n",
    "### $ FN(假阴性) = 真实值为1，预测集为0的数量 $\n",
    "### $ TPR = TP/(TP + FN) $ 也称为为—灵敏度  (表示真实值为真的预测正确率) \n",
    "### $ FP(假阳性) = 真实值为0，预测值为1 的数量$ \n",
    "### $ TN(真阴性) = 真实值为0，预测值也为0 的数量$\n",
    "### $ FPR = FP/(FP + TN) $ (表示真实值为假，预测错误的比率)\n",
    "### $ 1-FPR=特异度 $ (表示真实值为假的预测准确率)\n",
    "\n",
    "### 5.1.1 评价指标函数整合\n",
    "* 表中列代表预测分类，行代表实际分类：\n",
    "* 实际1，预测1：真正类（tp）\n",
    "* 实际1，预测0：假负类（fn）\n",
    "* 实际0，预测1：假正类（fp）\n",
    "* 实际0，预测0：真负类（tn）\n",
    "* 真实负样本总数=n=fp+tn\n",
    "* 真实正样本总数=p=tp+fn\n",
    "\n",
    "\n",
    "[分类指标的定义和说明（准确率、精确率、召回率、误报率、漏报率）]\n",
    "(https://developer.aliyun.com/article/780784)\n"
   ]
  },
  {
   "cell_type": "code",
   "execution_count": 34,
   "id": "2c984336",
   "metadata": {},
   "outputs": [
    {
     "data": {
      "text/plain": [
       "{'混淆矩阵': matrix([[121,  38],\n",
       "         [ 14, 245]]),\n",
       " 'ACC正确率|accuracy': 0.8755980861244019,\n",
       " '精确率|precision': 0.8962962962962963,\n",
       " '召回率|recall｜真阳率｜命中率': 0.7610062893081762,\n",
       " '误报率|false alarm｜假阳率｜虚警率｜误检率': 0.05405405405405406,\n",
       " '漏报率|miss rate|也称为漏警率|漏检率': 0.2389937106918239,\n",
       " '特异度|specificity': 0.9459459459459459,\n",
       " 'F1-score:': 0.8231292517006803,\n",
       " '真实正样本数': 159,\n",
       " '真实负样本数': 259}"
      ]
     },
     "execution_count": 34,
     "metadata": {},
     "output_type": "execute_result"
    }
   ],
   "source": [
    "\n",
    "def TPRN_Score(test_y,pred_y):\n",
    "    TP = ((test_y==1) * (pred_y==1)).sum()\n",
    "    FN = ((test_y == 1) * (pred_y == 0)).sum()\n",
    "    FP = ((test_y==0)*(pred_y==1)).sum()\n",
    "    TN = ((test_y==0)*(pred_y==0)).sum()\n",
    "    \n",
    "    TPR = TP/(TP+FN)\n",
    "    FPR = FP/(FP+TN)\n",
    "    precision = TP/(TP+FP)\n",
    "    N = FP+TN\n",
    "    P = TP+FN\n",
    "    ACC = (TP+TN)/(TP+FN+FP+TN)\n",
    "    FNR = FN/(TP+FN)\n",
    "    \n",
    "    # 两种F1 Score 计算结果是一样的\n",
    "    F1Score = (2*TP)/(2*TP+FN+FP)\n",
    "    # F1Score = (2*precision*TPR)/(precision+TPR)\n",
    "    \n",
    "    return {\"混淆矩阵\":np.matrix([[TP,FN],[FP,TN]])\n",
    "            ,\"ACC正确率|accuracy\":ACC\n",
    "            ,\"精确率|precision\":precision\n",
    "            ,\"召回率|recall｜真阳率｜命中率\":TPR\n",
    "            ,\"误报率|false alarm｜假阳率｜虚警率｜误检率\":FPR\n",
    "            ,\"漏报率|miss rate|也称为漏警率|漏检率\":FNR\n",
    "            ,\"特异度|specificity\":1-FPR\n",
    "            ,\"F1-score:\":F1Score\n",
    "            ,\"真实正样本数\":P,\"真实负样本数\":N}\n",
    "\n",
    "TPRN_Score(np.ravel(test_y),predict_y)"
   ]
  },
  {
   "cell_type": "code",
   "execution_count": null,
   "id": "e5f1158b",
   "metadata": {},
   "outputs": [],
   "source": []
  }
 ],
 "metadata": {
  "kernelspec": {
   "display_name": "TS_ENV_38_add_AKshare",
   "language": "python",
   "name": "ts_env_38_add_akshare"
  },
  "language_info": {
   "codemirror_mode": {
    "name": "ipython",
    "version": 3
   },
   "file_extension": ".py",
   "mimetype": "text/x-python",
   "name": "python",
   "nbconvert_exporter": "python",
   "pygments_lexer": "ipython3",
   "version": "3.8.18"
  }
 },
 "nbformat": 4,
 "nbformat_minor": 5
}
